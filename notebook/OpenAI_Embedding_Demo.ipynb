{
 "cells": [
  {
   "cell_type": "code",
   "execution_count": 1,
   "metadata": {},
   "outputs": [],
   "source": [
    "# Requirements\n",
    "# !pip install scipy\n",
    "import pandas as pd\n",
    "import numpy as np\n",
    "import ast\n",
    "from scipy.spatial.distance import cosine"
   ]
  },
  {
   "cell_type": "code",
   "execution_count": 2,
   "metadata": {},
   "outputs": [],
   "source": [
    "data = pd.read_csv(r\"..\\data\\embed_data.csv\")\n",
    "text_left = data[\"first\"].tolist()\n",
    "text_right = data[\"second\"].tolist()\n",
    "merged_list = text_left + text_right\n",
    "\n",
    "first_embed = data['first_embed'].apply(lambda x: ast.literal_eval(x))\n",
    "second_embed = data['second_embed'].apply(lambda x: ast.literal_eval(x))\n",
    "merged_embed_openai = pd.concat((first_embed, second_embed), axis = 0)"
   ]
  },
  {
   "cell_type": "code",
   "execution_count": 3,
   "metadata": {},
   "outputs": [
    {
     "name": "stderr",
     "output_type": "stream",
     "text": [
      "Perplexity value 30 is too high. Using perplexity 13.00 instead\n",
      "Perplexity value 30 is too high. Using perplexity 13.00 instead\n"
     ]
    },
    {
     "data": {
      "application/vnd.plotly.v1+json": {
       "config": {
        "plotlyServerURL": "https://plot.ly"
       },
       "data": [
        {
         "legendgroup": "lines",
         "marker": {
          "color": "#000080",
          "size": [
           20,
           20,
           20,
           20,
           20,
           20,
           20,
           20,
           20,
           20
          ]
         },
         "mode": "markers",
         "name": "label 0",
         "showlegend": true,
         "type": "scatter",
         "x": [
          -6.454275317593323,
          -7.896899132664246,
          4.981765978722162,
          -1.8550826249262298,
          -8.41494239921567,
          -1.4722759168003856,
          -6.020083191607004,
          -5.233318274711508,
          -8.334548336247687,
          -8.913516090938813
         ],
         "y": [
          -4.065646801923783,
          -4.909134679320216,
          5.643413525458094,
          0.047151909965001806,
          -2.2914185092020607,
          -3.4876765850981704,
          -2.3073555482552046,
          2.161289439897605,
          -3.7988899842330013,
          1.6351648217211978
         ]
        },
        {
         "legendgroup": "lines",
         "marker": {
          "color": "#00d4ff",
          "size": [
           20,
           20,
           20,
           20,
           20,
           20,
           20,
           20,
           20,
           20,
           20,
           20
          ]
         },
         "mode": "markers",
         "name": "label 1",
         "showlegend": true,
         "type": "scatter",
         "x": [
          -3.3373641156330467,
          -4.889702401201361,
          -1.1232603976781435,
          0.08738126276335935,
          -4.0039043507962955,
          1.4652601450699594,
          -4.479164966706509,
          -1.4651552599125433,
          0.02470146388056884,
          0.42495794403827225,
          0.2516821352418238,
          2.2643377736704284
         ],
         "y": [
          4.216236330170828,
          0.3927589357361972,
          0.8380811111563389,
          5.855099713180651,
          -1.9196798684159126,
          5.070253708012076,
          3.5608575271855254,
          6.156463527703843,
          2.7467249106188762,
          7.055159224235688,
          -3.1925225636350176,
          -0.7937995184341737
         ]
        },
        {
         "legendgroup": "lines",
         "marker": {
          "color": "#ffe600",
          "size": [
           20,
           20,
           20,
           20,
           20
          ]
         },
         "mode": "markers",
         "name": "label 3",
         "showlegend": true,
         "type": "scatter",
         "x": [
          -4.477714948952451,
          -11.203574563886306,
          -3.734440198433984,
          -10.76574359847854,
          -2.877687662175856
         ],
         "y": [
          -7.604204736748193,
          -0.40340128985144175,
          -7.2994763293608305,
          0.3387178082540916,
          -3.4673182690666606
         ]
        },
        {
         "legendgroup": "lines",
         "marker": {
          "color": "#800000",
          "size": [
           20,
           20,
           20,
           20,
           20,
           20,
           20,
           20,
           20,
           20,
           20,
           20,
           20
          ]
         },
         "mode": "markers",
         "name": "label 2",
         "showlegend": true,
         "type": "scatter",
         "x": [
          9.635600939154637,
          10.482503105289764,
          6.448128328044596,
          7.831411333394284,
          7.812511298675858,
          2.830562255064773,
          3.9406061453330037,
          7.608495417668285,
          8.921260830543673,
          7.998419837309876,
          8.170637967589355,
          10.422829425271432,
          5.3496001618337985
         ],
         "y": [
          -1.2382454834779237,
          -0.3437916107162174,
          1.8719430333675016,
          3.8475774843782906,
          -3.3183372491365457,
          -2.1712708823645257,
          5.483181970560121,
          -0.46617711105274406,
          0.6981451385132508,
          -1.9648716647872413,
          2.646509506972963,
          -2.7771389881328297,
          -2.4443719538754487
         ]
        },
        {
         "legendgroup": "lines",
         "line": {
          "color": "#000080"
         },
         "mode": "lines",
         "showlegend": false,
         "type": "scatter",
         "x": [
          -12.203574563886306,
          -7.454275317593323,
          -6.954275317593323,
          -6.454275317593323
         ],
         "y": [
          -13.554068550675812,
          -13.554068550675812,
          -4.065646801923783,
          -4.065646801923783
         ]
        },
        {
         "legendgroup": "lines",
         "line": {
          "color": "#00d4ff"
         },
         "mode": "lines",
         "showlegend": false,
         "type": "scatter",
         "x": [
          -12.203574563886306,
          -4.337364115633047,
          -3.8373641156330467,
          -3.3373641156330467
         ],
         "y": [
          16.536204842922682,
          16.536204842922682,
          4.216236330170828,
          4.216236330170828
         ]
        },
        {
         "legendgroup": "lines",
         "line": {
          "color": "#ffe600"
         },
         "mode": "lines",
         "showlegend": false,
         "type": "scatter",
         "x": [
          -12.203574563886306,
          -5.477714948952451,
          -4.977714948952451,
          -4.477714948952451
         ],
         "y": [
          -20.497977795352387,
          -20.497977795352387,
          -7.604204736748193,
          -7.604204736748193
         ]
        },
        {
         "legendgroup": "lines",
         "line": {
          "color": "#ffe600"
         },
         "mode": "lines",
         "showlegend": false,
         "type": "scatter",
         "x": [
          -12.203574563886306,
          -12.203574563886306,
          -11.703574563886306,
          -11.203574563886306
         ],
         "y": [
          -1.9808864762148524,
          -1.9808864762148524,
          -0.40340128985144175,
          -0.40340128985144175
         ]
        },
        {
         "legendgroup": "lines",
         "line": {
          "color": "#00d4ff"
         },
         "mode": "lines",
         "showlegend": false,
         "type": "scatter",
         "x": [
          -12.203574563886306,
          -5.889702401201361,
          -5.389702401201361,
          -4.889702401201361
         ],
         "y": [
          4.963022768461723,
          4.963022768461723,
          0.3927589357361972,
          0.3927589357361972
         ]
        },
        {
         "legendgroup": "lines",
         "line": {
          "color": "#000080"
         },
         "mode": "lines",
         "showlegend": false,
         "type": "scatter",
         "x": [
          -12.203574563886306,
          -8.896899132664245,
          -8.396899132664245,
          -7.896899132664246
         ],
         "y": [
          -11.23943213578362,
          -11.23943213578362,
          -4.909134679320216,
          -4.909134679320216
         ]
        },
        {
         "legendgroup": "lines",
         "line": {
          "color": "#000080"
         },
         "mode": "lines",
         "showlegend": false,
         "type": "scatter",
         "x": [
          12.482503105289764,
          5.981765978722162,
          5.481765978722162,
          4.981765978722162
         ],
         "y": [
          11.906932013138299,
          11.906932013138299,
          5.643413525458094,
          5.643413525458094
         ]
        },
        {
         "legendgroup": "lines",
         "line": {
          "color": "#000080"
         },
         "mode": "lines",
         "showlegend": false,
         "type": "scatter",
         "x": [
          -12.203574563886306,
          -2.8550826249262298,
          -2.3550826249262298,
          -1.8550826249262298
         ],
         "y": [
          9.592295598246107,
          9.592295598246107,
          0.047151909965001806,
          0.047151909965001806
         ]
        },
        {
         "legendgroup": "lines",
         "line": {
          "color": "#000080"
         },
         "mode": "lines",
         "showlegend": false,
         "type": "scatter",
         "x": [
          -12.203574563886306,
          -9.41494239921567,
          -8.91494239921567,
          -8.41494239921567
         ],
         "y": [
          -4.295522891107044,
          -4.295522891107044,
          -2.2914185092020607,
          -2.2914185092020607
         ]
        },
        {
         "legendgroup": "lines",
         "line": {
          "color": "#00d4ff"
         },
         "mode": "lines",
         "showlegend": false,
         "type": "scatter",
         "x": [
          -12.203574563886306,
          -2.1232603976781435,
          -1.6232603976781435,
          -1.1232603976781435
         ],
         "y": [
          14.22156842803049,
          14.22156842803049,
          0.8380811111563389,
          0.8380811111563389
         ]
        },
        {
         "legendgroup": "lines",
         "line": {
          "color": "#800000"
         },
         "mode": "lines",
         "showlegend": false,
         "type": "scatter",
         "x": [
          12.482503105289764,
          10.635600939154637,
          10.135600939154637,
          9.635600939154637
         ],
         "y": [
          -1.9808864762148524,
          -1.9808864762148524,
          -1.2382454834779237,
          -1.2382454834779237
         ]
        },
        {
         "legendgroup": "lines",
         "line": {
          "color": "#800000"
         },
         "mode": "lines",
         "showlegend": false,
         "type": "scatter",
         "x": [
          12.482503105289764,
          11.482503105289764,
          10.982503105289764,
          10.482503105289764
         ],
         "y": [
          0.3337499386773395,
          0.3337499386773395,
          -0.3437916107162174,
          -0.3437916107162174
         ]
        },
        {
         "legendgroup": "lines",
         "line": {
          "color": "#800000"
         },
         "mode": "lines",
         "showlegend": false,
         "type": "scatter",
         "x": [
          12.482503105289764,
          7.448128328044596,
          6.948128328044596,
          6.448128328044596
         ],
         "y": [
          7.277659183353915,
          7.277659183353915,
          1.8719430333675016,
          1.8719430333675016
         ]
        },
        {
         "legendgroup": "lines",
         "line": {
          "color": "#800000"
         },
         "mode": "lines",
         "showlegend": false,
         "type": "scatter",
         "x": [
          12.482503105289764,
          8.831411333394284,
          8.331411333394284,
          7.831411333394284
         ],
         "y": [
          9.592295598246107,
          9.592295598246107,
          3.8475774843782906,
          3.8475774843782906
         ]
        },
        {
         "legendgroup": "lines",
         "line": {
          "color": "#800000"
         },
         "mode": "lines",
         "showlegend": false,
         "type": "scatter",
         "x": [
          12.482503105289764,
          8.812511298675858,
          8.312511298675858,
          7.812511298675858
         ],
         "y": [
          -11.23943213578362,
          -11.23943213578362,
          -3.3183372491365457,
          -3.3183372491365457
         ]
        },
        {
         "legendgroup": "lines",
         "line": {
          "color": "#00d4ff"
         },
         "mode": "lines",
         "showlegend": false,
         "type": "scatter",
         "x": [
          -12.203574563886306,
          -0.9126187372366407,
          -0.41261873723664066,
          0.08738126276335935
         ],
         "y": [
          21.165477672707066,
          21.165477672707066,
          5.855099713180651,
          5.855099713180651
         ]
        },
        {
         "legendgroup": "lines",
         "line": {
          "color": "#000080"
         },
         "mode": "lines",
         "showlegend": false,
         "type": "scatter",
         "x": [
          12.482503105289764,
          -0.4722759168003856,
          -0.9722759168003856,
          -1.4722759168003856
         ],
         "y": [
          -22.81261421024458,
          -22.81261421024458,
          -3.4876765850981704,
          -3.4876765850981704
         ]
        },
        {
         "legendgroup": "lines",
         "line": {
          "color": "#00d4ff"
         },
         "mode": "lines",
         "showlegend": false,
         "type": "scatter",
         "x": [
          -12.203574563886306,
          -5.0039043507962955,
          -4.5039043507962955,
          -4.0039043507962955
         ],
         "y": [
          -15.868704965568003,
          -15.868704965568003,
          -1.9196798684159126,
          -1.9196798684159126
         ]
        },
        {
         "legendgroup": "lines",
         "line": {
          "color": "#800000"
         },
         "mode": "lines",
         "showlegend": false,
         "type": "scatter",
         "x": [
          12.482503105289764,
          3.830562255064773,
          3.330562255064773,
          2.830562255064773
         ],
         "y": [
          -18.183341380460195,
          -18.183341380460195,
          -2.1712708823645257,
          -2.1712708823645257
         ]
        },
        {
         "legendgroup": "lines",
         "line": {
          "color": "#00d4ff"
         },
         "mode": "lines",
         "showlegend": false,
         "type": "scatter",
         "x": [
          12.482503105289764,
          2.4652601450699594,
          1.9652601450699594,
          1.4652601450699594
         ],
         "y": [
          18.850841257814874,
          18.850841257814874,
          5.070253708012076,
          5.070253708012076
         ]
        },
        {
         "legendgroup": "lines",
         "line": {
          "color": "#000080"
         },
         "mode": "lines",
         "showlegend": false,
         "type": "scatter",
         "x": [
          -12.203574563886306,
          -7.020083191607004,
          -6.520083191607004,
          -6.020083191607004
         ],
         "y": [
          -8.924795720891428,
          -8.924795720891428,
          -2.3073555482552046,
          -2.3073555482552046
         ]
        },
        {
         "legendgroup": "lines",
         "line": {
          "color": "#00d4ff"
         },
         "mode": "lines",
         "showlegend": false,
         "type": "scatter",
         "x": [
          -12.203574563886306,
          -5.479164966706509,
          -4.979164966706509,
          -4.479164966706509
         ],
         "y": [
          11.906932013138299,
          11.906932013138299,
          3.5608575271855254,
          3.5608575271855254
         ]
        },
        {
         "legendgroup": "lines",
         "line": {
          "color": "#ffe600"
         },
         "mode": "lines",
         "showlegend": false,
         "type": "scatter",
         "x": [
          -12.203574563886306,
          -4.734440198433984,
          -4.234440198433984,
          -3.734440198433984
         ],
         "y": [
          -22.81261421024458,
          -22.81261421024458,
          -7.2994763293608305,
          -7.2994763293608305
         ]
        },
        {
         "legendgroup": "lines",
         "line": {
          "color": "#ffe600"
         },
         "mode": "lines",
         "showlegend": false,
         "type": "scatter",
         "x": [
          -12.203574563886306,
          -11.76574359847854,
          -11.26574359847854,
          -10.76574359847854
         ],
         "y": [
          0.3337499386773395,
          0.3337499386773395,
          0.3387178082540916,
          0.3387178082540916
         ]
        },
        {
         "legendgroup": "lines",
         "line": {
          "color": "#000080"
         },
         "mode": "lines",
         "showlegend": false,
         "type": "scatter",
         "x": [
          -12.203574563886306,
          -6.233318274711508,
          -5.733318274711508,
          -5.233318274711508
         ],
         "y": [
          7.277659183353915,
          7.277659183353915,
          2.161289439897605,
          2.161289439897605
         ]
        },
        {
         "legendgroup": "lines",
         "line": {
          "color": "#000080"
         },
         "mode": "lines",
         "showlegend": false,
         "type": "scatter",
         "x": [
          -12.203574563886306,
          -9.334548336247687,
          -8.834548336247687,
          -8.334548336247687
         ],
         "y": [
          -6.610159305999236,
          -6.610159305999236,
          -3.7988899842330013,
          -3.7988899842330013
         ]
        },
        {
         "legendgroup": "lines",
         "line": {
          "color": "#800000"
         },
         "mode": "lines",
         "showlegend": false,
         "type": "scatter",
         "x": [
          12.482503105289764,
          4.940606145333003,
          4.440606145333003,
          3.9406061453330037
         ],
         "y": [
          14.22156842803049,
          14.22156842803049,
          5.483181970560121,
          5.483181970560121
         ]
        },
        {
         "legendgroup": "lines",
         "line": {
          "color": "#00d4ff"
         },
         "mode": "lines",
         "showlegend": false,
         "type": "scatter",
         "x": [
          -12.203574563886306,
          -2.4651552599125433,
          -1.9651552599125433,
          -1.4651552599125433
         ],
         "y": [
          18.850841257814874,
          18.850841257814874,
          6.156463527703843,
          6.156463527703843
         ]
        },
        {
         "legendgroup": "lines",
         "line": {
          "color": "#000080"
         },
         "mode": "lines",
         "showlegend": false,
         "type": "scatter",
         "x": [
          -12.203574563886306,
          -9.913516090938813,
          -9.413516090938813,
          -8.913516090938813
         ],
         "y": [
          2.6483863535695313,
          2.6483863535695313,
          1.6351648217211978,
          1.6351648217211978
         ]
        },
        {
         "legendgroup": "lines",
         "line": {
          "color": "#00d4ff"
         },
         "mode": "lines",
         "showlegend": false,
         "type": "scatter",
         "x": [
          12.482503105289764,
          1.024701463880569,
          0.5247014638805688,
          0.02470146388056884
         ],
         "y": [
          16.536204842922682,
          16.536204842922682,
          2.7467249106188762,
          2.7467249106188762
         ]
        },
        {
         "legendgroup": "lines",
         "line": {
          "color": "#800000"
         },
         "mode": "lines",
         "showlegend": false,
         "type": "scatter",
         "x": [
          12.482503105289764,
          8.608495417668285,
          8.108495417668285,
          7.608495417668285
         ],
         "y": [
          -6.610159305999236,
          -6.610159305999236,
          -0.46617711105274406,
          -0.46617711105274406
         ]
        },
        {
         "legendgroup": "lines",
         "line": {
          "color": "#800000"
         },
         "mode": "lines",
         "showlegend": false,
         "type": "scatter",
         "x": [
          12.482503105289764,
          9.921260830543673,
          9.421260830543673,
          8.921260830543673
         ],
         "y": [
          2.6483863535695313,
          2.6483863535695313,
          0.6981451385132508,
          0.6981451385132508
         ]
        },
        {
         "legendgroup": "lines",
         "line": {
          "color": "#800000"
         },
         "mode": "lines",
         "showlegend": false,
         "type": "scatter",
         "x": [
          12.482503105289764,
          8.998419837309875,
          8.498419837309875,
          7.998419837309876
         ],
         "y": [
          -8.924795720891428,
          -8.924795720891428,
          -1.9648716647872413,
          -1.9648716647872413
         ]
        },
        {
         "legendgroup": "lines",
         "line": {
          "color": "#800000"
         },
         "mode": "lines",
         "showlegend": false,
         "type": "scatter",
         "x": [
          12.482503105289764,
          9.170637967589355,
          8.670637967589355,
          8.170637967589355
         ],
         "y": [
          4.963022768461723,
          4.963022768461723,
          2.646509506972963,
          2.646509506972963
         ]
        },
        {
         "legendgroup": "lines",
         "line": {
          "color": "#800000"
         },
         "mode": "lines",
         "showlegend": false,
         "type": "scatter",
         "x": [
          12.482503105289764,
          11.422829425271432,
          10.922829425271432,
          10.422829425271432
         ],
         "y": [
          -4.295522891107044,
          -4.295522891107044,
          -2.7771389881328297,
          -2.7771389881328297
         ]
        },
        {
         "legendgroup": "lines",
         "line": {
          "color": "#00d4ff"
         },
         "mode": "lines",
         "showlegend": false,
         "type": "scatter",
         "x": [
          12.482503105289764,
          1.4249579440382723,
          0.9249579440382723,
          0.42495794403827225
         ],
         "y": [
          21.165477672707066,
          21.165477672707066,
          7.055159224235688,
          7.055159224235688
         ]
        },
        {
         "legendgroup": "lines",
         "line": {
          "color": "#00d4ff"
         },
         "mode": "lines",
         "showlegend": false,
         "type": "scatter",
         "x": [
          12.482503105289764,
          1.2516821352418237,
          0.7516821352418238,
          0.2516821352418238
         ],
         "y": [
          -20.497977795352387,
          -20.497977795352387,
          -3.1925225636350176,
          -3.1925225636350176
         ]
        },
        {
         "legendgroup": "lines",
         "line": {
          "color": "#ffe600"
         },
         "mode": "lines",
         "showlegend": false,
         "type": "scatter",
         "x": [
          -12.203574563886306,
          -3.877687662175856,
          -3.377687662175856,
          -2.877687662175856
         ],
         "y": [
          -18.183341380460195,
          -18.183341380460195,
          -3.4673182690666606,
          -3.4673182690666606
         ]
        },
        {
         "legendgroup": "lines",
         "line": {
          "color": "#00d4ff"
         },
         "mode": "lines",
         "showlegend": false,
         "type": "scatter",
         "x": [
          12.482503105289764,
          3.2643377736704284,
          2.7643377736704284,
          2.2643377736704284
         ],
         "y": [
          -15.868704965568003,
          -15.868704965568003,
          -0.7937995184341737,
          -0.7937995184341737
         ]
        },
        {
         "legendgroup": "lines",
         "line": {
          "color": "#800000"
         },
         "mode": "lines",
         "showlegend": false,
         "type": "scatter",
         "x": [
          12.482503105289764,
          6.3496001618337985,
          5.8496001618337985,
          5.3496001618337985
         ],
         "y": [
          -13.554068550675812,
          -13.554068550675812,
          -2.4443719538754487,
          -2.4443719538754487
         ]
        }
       ],
       "layout": {
        "annotations": [
         {
          "bgcolor": "#e6e6f2",
          "bordercolor": "#000080",
          "borderpad": 2,
          "font": {
           "color": "black"
          },
          "showarrow": false,
          "text": "不必说碧绿的菜畦，光...从后窍喷出一阵烟雾。",
          "x": -12.203574563886306,
          "xanchor": "right",
          "xref": "x",
          "y": -13.554068550675812,
          "yanchor": "middle",
          "yref": "y"
         },
         {
          "bgcolor": "#e6fbff",
          "bordercolor": "#00d4ff",
          "borderpad": 2,
          "font": {
           "color": "black"
          },
          "showarrow": false,
          "text": "我说道，“爸爸，你走...他不肯，只好让他去。",
          "x": -12.203574563886306,
          "xanchor": "right",
          "xref": "x",
          "y": 16.536204842922682,
          "yanchor": "middle",
          "yref": "y"
         },
         {
          "bgcolor": "#fffde6",
          "bordercolor": "#ffe600",
          "borderpad": 2,
          "font": {
           "color": "black"
          },
          "showarrow": false,
          "text": "皇宫的侍臣和丞相府的...方，获得更好的效果。",
          "x": -12.203574563886306,
          "xanchor": "right",
          "xref": "x",
          "y": -20.497977795352387,
          "yanchor": "middle",
          "yref": "y"
         },
         {
          "bgcolor": "#fffde6",
          "bordercolor": "#ffe600",
          "borderpad": 2,
          "font": {
           "color": "black"
          },
          "showarrow": false,
          "text": "这本书以前经常被墨大...一直默默自行参悟着。",
          "x": -12.203574563886306,
          "xanchor": "right",
          "xref": "x",
          "y": -1.9808864762148524,
          "yanchor": "middle",
          "yref": "y"
         },
         {
          "bgcolor": "#e6fbff",
          "bordercolor": "#00d4ff",
          "borderpad": 2,
          "font": {
           "color": "black"
          },
          "showarrow": false,
          "text": "鲁家现在才吃完晚饭，...背，望着鲁妈打着噎。",
          "x": -12.203574563886306,
          "xanchor": "right",
          "xref": "x",
          "y": 4.963022768461723,
          "yanchor": "middle",
          "yref": "y"
         },
         {
          "bgcolor": "#e6e6f2",
          "bordercolor": "#000080",
          "borderpad": 2,
          "font": {
           "color": "black"
          },
          "showarrow": false,
          "text": "沙漠之中怎么会有泥鳅...敌对野牛 在远方决斗",
          "x": -12.203574563886306,
          "xanchor": "right",
          "xref": "x",
          "y": -11.23943213578362,
          "yanchor": "middle",
          "yref": "y"
         },
         {
          "bgcolor": "#e6e6f2",
          "bordercolor": "#000080",
          "borderpad": 2,
          "font": {
           "color": "black"
          },
          "showarrow": false,
          "text": "眼睛你要擦亮 记住我...壁班 还有考卷的答案",
          "x": 12.482503105289764,
          "xanchor": "left",
          "xref": "x",
          "y": 11.906932013138299,
          "yanchor": "middle",
          "yref": "y"
         },
         {
          "bgcolor": "#e6e6f2",
          "bordercolor": "#000080",
          "borderpad": 2,
          "font": {
           "color": "black"
          },
          "showarrow": false,
          "text": "岩烧店的烟味弥漫 隔...长 还会金钟罩铁布衫",
          "x": -12.203574563886306,
          "xanchor": "right",
          "xref": "x",
          "y": 9.592295598246107,
          "yanchor": "middle",
          "yref": "y"
         },
         {
          "bgcolor": "#e6e6f2",
          "bordercolor": "#000080",
          "borderpad": 2,
          "font": {
           "color": "black"
          },
          "showarrow": false,
          "text": "藤蔓植物 爬满了伯爵...她养的黑猫笑起来像哭",
          "x": -12.203574563886306,
          "xanchor": "right",
          "xref": "x",
          "y": -4.295522891107044,
          "yanchor": "middle",
          "yref": "y"
         },
         {
          "bgcolor": "#e6fbff",
          "bordercolor": "#00d4ff",
          "borderpad": 2,
          "font": {
           "color": "black"
          },
          "showarrow": false,
          "text": "火炉烫小铁匠，存钱买...，进不去，正在苦恼。",
          "x": -12.203574563886306,
          "xanchor": "right",
          "xref": "x",
          "y": 14.22156842803049,
          "yanchor": "middle",
          "yref": "y"
         },
         {
          "bgcolor": "#f2e6e6",
          "bordercolor": "#800000",
          "borderpad": 2,
          "font": {
           "color": "black"
          },
          "showarrow": false,
          "text": "是雨是风 还是彩虹 ... 穿梭时间的画面的钟",
          "x": 12.482503105289764,
          "xanchor": "left",
          "xref": "x",
          "y": -1.9808864762148524,
          "yanchor": "middle",
          "yref": "y"
         },
         {
          "bgcolor": "#f2e6e6",
          "bordercolor": "#800000",
          "borderpad": 2,
          "font": {
           "color": "black"
          },
          "showarrow": false,
          "text": "久未放晴的天空 依旧...寂寞 笑我给不起承诺",
          "x": 12.482503105289764,
          "xanchor": "left",
          "xref": "x",
          "y": 0.3337499386773395,
          "yanchor": "middle",
          "yref": "y"
         },
         {
          "bgcolor": "#f2e6e6",
          "bordercolor": "#800000",
          "borderpad": 2,
          "font": {
           "color": "black"
          },
          "showarrow": false,
          "text": "如果说怀疑 可以造句...不限日期 然后将过去",
          "x": 12.482503105289764,
          "xanchor": "left",
          "xref": "x",
          "y": 7.277659183353915,
          "yanchor": "middle",
          "yref": "y"
         },
         {
          "bgcolor": "#f2e6e6",
          "bordercolor": "#800000",
          "borderpad": 2,
          "font": {
           "color": "black"
          },
          "showarrow": false,
          "text": "难过 是因为闷了很久...脑袋有问题 随便说说",
          "x": 12.482503105289764,
          "xanchor": "left",
          "xref": "x",
          "y": 9.592295598246107,
          "yanchor": "middle",
          "yref": "y"
         },
         {
          "bgcolor": "#f2e6e6",
          "bordercolor": "#800000",
          "borderpad": 2,
          "font": {
           "color": "black"
          },
          "showarrow": false,
          "text": "广场一枚铜币 悲伤的...下回忆 相爱还有别离",
          "x": 12.482503105289764,
          "xanchor": "left",
          "xref": "x",
          "y": -11.23943213578362,
          "yanchor": "middle",
          "yref": "y"
         },
         {
          "bgcolor": "#e6fbff",
          "bordercolor": "#00d4ff",
          "borderpad": 2,
          "font": {
           "color": "black"
          },
          "showarrow": false,
          "text": "我听说通常在战争后就...为什么我爸爸 那么凶",
          "x": -12.203574563886306,
          "xanchor": "right",
          "xref": "x",
          "y": 21.165477672707066,
          "yanchor": "middle",
          "yref": "y"
         },
         {
          "bgcolor": "#e6e6f2",
          "bordercolor": "#000080",
          "borderpad": 2,
          "font": {
           "color": "black"
          },
          "showarrow": false,
          "text": "泛黄的春联还残留在墙...姥姥当年酿的豆瓣酱。",
          "x": 12.482503105289764,
          "xanchor": "left",
          "xref": "x",
          "y": -22.81261421024458,
          "yanchor": "middle",
          "yref": "y"
         },
         {
          "bgcolor": "#e6fbff",
          "bordercolor": "#00d4ff",
          "borderpad": 2,
          "font": {
           "color": "black"
          },
          "showarrow": false,
          "text": "爷爷泡的茶有一种味道...爷栽种的樟木树苗上。",
          "x": -12.203574563886306,
          "xanchor": "right",
          "xref": "x",
          "y": -15.868704965568003,
          "yanchor": "middle",
          "yref": "y"
         },
         {
          "bgcolor": "#f2e6e6",
          "bordercolor": "#800000",
          "borderpad": 2,
          "font": {
           "color": "black"
          },
          "showarrow": false,
          "text": "今天是外婆生日 我换...失去了爱情只盼望亲情",
          "x": 12.482503105289764,
          "xanchor": "left",
          "xref": "x",
          "y": -18.183341380460195,
          "yanchor": "middle",
          "yref": "y"
         },
         {
          "bgcolor": "#e6fbff",
          "bordercolor": "#00d4ff",
          "borderpad": 2,
          "font": {
           "color": "black"
          },
          "showarrow": false,
          "text": "我说我要一个大大大大...人快，飞得比别人高，",
          "x": 12.482503105289764,
          "xanchor": "left",
          "xref": "x",
          "y": 18.850841257814874,
          "yanchor": "middle",
          "yref": "y"
         },
         {
          "bgcolor": "#e6e6f2",
          "bordercolor": "#000080",
          "borderpad": 2,
          "font": {
           "color": "black"
          },
          "showarrow": false,
          "text": "何首乌藤和木莲藤缠络...味都比桑椹要好得远。",
          "x": -12.203574563886306,
          "xanchor": "right",
          "xref": "x",
          "y": -8.924795720891428,
          "yanchor": "middle",
          "yref": "y"
         },
         {
          "bgcolor": "#e6fbff",
          "bordercolor": "#00d4ff",
          "borderpad": 2,
          "font": {
           "color": "black"
          },
          "showarrow": false,
          "text": "我看见他戴着黑布小帽...的泪很快地流下来了。",
          "x": -12.203574563886306,
          "xanchor": "right",
          "xref": "x",
          "y": 11.906932013138299,
          "yanchor": "middle",
          "yref": "y"
         },
         {
          "bgcolor": "#fffde6",
          "bordercolor": "#ffe600",
          "borderpad": 2,
          "font": {
           "color": "black"
          },
          "showarrow": false,
          "text": "将军向宠，性格和善，...的兴隆就指日可待了。",
          "x": -12.203574563886306,
          "xanchor": "right",
          "xref": "x",
          "y": -22.81261421024458,
          "yanchor": "middle",
          "yref": "y"
         },
         {
          "bgcolor": "#fffde6",
          "bordercolor": "#ffe600",
          "borderpad": 2,
          "font": {
           "color": "black"
          },
          "showarrow": false,
          "text": "此卷秘籍是在暗格内和...个长生不死的神仙呢！",
          "x": -12.203574563886306,
          "xanchor": "right",
          "xref": "x",
          "y": 0.3337499386773395,
          "yanchor": "middle",
          "yref": "y"
         },
         {
          "bgcolor": "#e6e6f2",
          "bordercolor": "#000080",
          "borderpad": 2,
          "font": {
           "color": "black"
          },
          "showarrow": false,
          "text": "他的赤脚忽然放在椅子...闲话，有青蛙的叫声。",
          "x": -12.203574563886306,
          "xanchor": "right",
          "xref": "x",
          "y": 7.277659183353915,
          "yanchor": "middle",
          "yref": "y"
         },
         {
          "bgcolor": "#e6e6f2",
          "bordercolor": "#000080",
          "borderpad": 2,
          "font": {
           "color": "black"
          },
          "showarrow": false,
          "text": "在一处被废弃的白蚁丘...事都有 包括像猫的狗",
          "x": -12.203574563886306,
          "xanchor": "right",
          "xref": "x",
          "y": -6.610159305999236,
          "yanchor": "middle",
          "yref": "y"
         },
         {
          "bgcolor": "#f2e6e6",
          "bordercolor": "#800000",
          "borderpad": 2,
          "font": {
           "color": "black"
          },
          "showarrow": false,
          "text": "我刚好都不会算 没关... 这第一名到底要多强",
          "x": 12.482503105289764,
          "xanchor": "left",
          "xref": "x",
          "y": 14.22156842803049,
          "yanchor": "middle",
          "yref": "y"
         },
         {
          "bgcolor": "#e6fbff",
          "bordercolor": "#00d4ff",
          "borderpad": 2,
          "font": {
           "color": "black"
          },
          "showarrow": false,
          "text": "他们儿子我习惯 从小...南嵩山 学少林跟武当",
          "x": -12.203574563886306,
          "xanchor": "right",
          "xref": "x",
          "y": 18.850841257814874,
          "yanchor": "middle",
          "yref": "y"
         },
         {
          "bgcolor": "#e6e6f2",
          "bordercolor": "#000080",
          "borderpad": 2,
          "font": {
           "color": "black"
          },
          "showarrow": false,
          "text": "啦啦啦呜 用水晶球替...世满脸的落腮鬍 习惯",
          "x": -12.203574563886306,
          "xanchor": "right",
          "xref": "x",
          "y": 2.6483863535695313,
          "yanchor": "middle",
          "yref": "y"
         },
         {
          "bgcolor": "#e6fbff",
          "bordercolor": "#00d4ff",
          "borderpad": 2,
          "font": {
           "color": "black"
          },
          "showarrow": false,
          "text": "他的铜板还太少。他真...少吉他，才能买得到？",
          "x": 12.482503105289764,
          "xanchor": "left",
          "xref": "x",
          "y": 16.536204842922682,
          "yanchor": "middle",
          "yref": "y"
         },
         {
          "bgcolor": "#f2e6e6",
          "bordercolor": "#800000",
          "borderpad": 2,
          "font": {
           "color": "black"
          },
          "showarrow": false,
          "text": "从反方向 开始移动 ...纵容 脸上汹涌 失控",
          "x": 12.482503105289764,
          "xanchor": "left",
          "xref": "x",
          "y": -6.610159305999236,
          "yanchor": "middle",
          "yref": "y"
         },
         {
          "bgcolor": "#f2e6e6",
          "bordercolor": "#800000",
          "borderpad": 2,
          "font": {
           "color": "black"
          },
          "showarrow": false,
          "text": "怎么会怎么会 你竟原...白 忘记你对我的期待",
          "x": 12.482503105289764,
          "xanchor": "left",
          "xref": "x",
          "y": 2.6483863535695313,
          "yanchor": "middle",
          "yref": "y"
         },
         {
          "bgcolor": "#f2e6e6",
          "bordercolor": "#800000",
          "borderpad": 2,
          "font": {
           "color": "black"
          },
          "showarrow": false,
          "text": "慢慢温习 让我爱上你...的美丽 你的完美主义",
          "x": 12.482503105289764,
          "xanchor": "left",
          "xref": "x",
          "y": -8.924795720891428,
          "yanchor": "middle",
          "yref": "y"
         },
         {
          "bgcolor": "#f2e6e6",
          "bordercolor": "#800000",
          "borderpad": 2,
          "font": {
           "color": "black"
          },
          "showarrow": false,
          "text": "其实我早己经猜透看透... 却又再考倒我 说散",
          "x": 12.482503105289764,
          "xanchor": "left",
          "xref": "x",
          "y": 4.963022768461723,
          "yanchor": "middle",
          "yref": "y"
         },
         {
          "bgcolor": "#f2e6e6",
          "bordercolor": "#800000",
          "borderpad": 2,
          "font": {
           "color": "black"
          },
          "showarrow": false,
          "text": "像无法被安排的雨 随...这辈子注定一个人演戏",
          "x": 12.482503105289764,
          "xanchor": "left",
          "xref": "x",
          "y": -4.295522891107044,
          "yanchor": "middle",
          "yref": "y"
         },
         {
          "bgcolor": "#e6fbff",
          "bordercolor": "#00d4ff",
          "borderpad": 2,
          "font": {
           "color": "black"
          },
          "showarrow": false,
          "text": "如果真的我有一只翅膀...呢 妈跟我都没有错亏",
          "x": 12.482503105289764,
          "xanchor": "left",
          "xref": "x",
          "y": 21.165477672707066,
          "yanchor": "middle",
          "yref": "y"
         },
         {
          "bgcolor": "#e6fbff",
          "bordercolor": "#00d4ff",
          "borderpad": 2,
          "font": {
           "color": "black"
          },
          "showarrow": false,
          "text": "我对着黑白照片开始想...墙黑瓦的淡淡的忧伤。",
          "x": 12.482503105289764,
          "xanchor": "left",
          "xref": "x",
          "y": -20.497977795352387,
          "yanchor": "middle",
          "yref": "y"
         },
         {
          "bgcolor": "#fffde6",
          "bordercolor": "#ffe600",
          "borderpad": 2,
          "font": {
           "color": "black"
          },
          "showarrow": false,
          "text": "面上犹记得，那年在一...九岁才知道浪费时间。",
          "x": -12.203574563886306,
          "xanchor": "right",
          "xref": "x",
          "y": -18.183341380460195,
          "yanchor": "middle",
          "yref": "y"
         },
         {
          "bgcolor": "#e6fbff",
          "bordercolor": "#00d4ff",
          "borderpad": 2,
          "font": {
           "color": "black"
          },
          "showarrow": false,
          "text": "弥补回应 大人们以为...的无奈 无法变成期待",
          "x": 12.482503105289764,
          "xanchor": "left",
          "xref": "x",
          "y": -15.868704965568003,
          "yanchor": "middle",
          "yref": "y"
         },
         {
          "bgcolor": "#f2e6e6",
          "bordercolor": "#800000",
          "borderpad": 2,
          "font": {
           "color": "black"
          },
          "showarrow": false,
          "text": "将来大家看的都是我画...，把手牵着一起梦游。",
          "x": 12.482503105289764,
          "xanchor": "left",
          "xref": "x",
          "y": -13.554068550675812,
          "yanchor": "middle",
          "yref": "y"
         }
        ],
        "autosize": false,
        "height": 800,
        "template": {
         "data": {
          "bar": [
           {
            "error_x": {
             "color": "#2a3f5f"
            },
            "error_y": {
             "color": "#2a3f5f"
            },
            "marker": {
             "line": {
              "color": "#E5ECF6",
              "width": 0.5
             },
             "pattern": {
              "fillmode": "overlay",
              "size": 10,
              "solidity": 0.2
             }
            },
            "type": "bar"
           }
          ],
          "barpolar": [
           {
            "marker": {
             "line": {
              "color": "#E5ECF6",
              "width": 0.5
             },
             "pattern": {
              "fillmode": "overlay",
              "size": 10,
              "solidity": 0.2
             }
            },
            "type": "barpolar"
           }
          ],
          "carpet": [
           {
            "aaxis": {
             "endlinecolor": "#2a3f5f",
             "gridcolor": "white",
             "linecolor": "white",
             "minorgridcolor": "white",
             "startlinecolor": "#2a3f5f"
            },
            "baxis": {
             "endlinecolor": "#2a3f5f",
             "gridcolor": "white",
             "linecolor": "white",
             "minorgridcolor": "white",
             "startlinecolor": "#2a3f5f"
            },
            "type": "carpet"
           }
          ],
          "choropleth": [
           {
            "colorbar": {
             "outlinewidth": 0,
             "ticks": ""
            },
            "type": "choropleth"
           }
          ],
          "contour": [
           {
            "colorbar": {
             "outlinewidth": 0,
             "ticks": ""
            },
            "colorscale": [
             [
              0,
              "#0d0887"
             ],
             [
              0.1111111111111111,
              "#46039f"
             ],
             [
              0.2222222222222222,
              "#7201a8"
             ],
             [
              0.3333333333333333,
              "#9c179e"
             ],
             [
              0.4444444444444444,
              "#bd3786"
             ],
             [
              0.5555555555555556,
              "#d8576b"
             ],
             [
              0.6666666666666666,
              "#ed7953"
             ],
             [
              0.7777777777777778,
              "#fb9f3a"
             ],
             [
              0.8888888888888888,
              "#fdca26"
             ],
             [
              1,
              "#f0f921"
             ]
            ],
            "type": "contour"
           }
          ],
          "contourcarpet": [
           {
            "colorbar": {
             "outlinewidth": 0,
             "ticks": ""
            },
            "type": "contourcarpet"
           }
          ],
          "heatmap": [
           {
            "colorbar": {
             "outlinewidth": 0,
             "ticks": ""
            },
            "colorscale": [
             [
              0,
              "#0d0887"
             ],
             [
              0.1111111111111111,
              "#46039f"
             ],
             [
              0.2222222222222222,
              "#7201a8"
             ],
             [
              0.3333333333333333,
              "#9c179e"
             ],
             [
              0.4444444444444444,
              "#bd3786"
             ],
             [
              0.5555555555555556,
              "#d8576b"
             ],
             [
              0.6666666666666666,
              "#ed7953"
             ],
             [
              0.7777777777777778,
              "#fb9f3a"
             ],
             [
              0.8888888888888888,
              "#fdca26"
             ],
             [
              1,
              "#f0f921"
             ]
            ],
            "type": "heatmap"
           }
          ],
          "heatmapgl": [
           {
            "colorbar": {
             "outlinewidth": 0,
             "ticks": ""
            },
            "colorscale": [
             [
              0,
              "#0d0887"
             ],
             [
              0.1111111111111111,
              "#46039f"
             ],
             [
              0.2222222222222222,
              "#7201a8"
             ],
             [
              0.3333333333333333,
              "#9c179e"
             ],
             [
              0.4444444444444444,
              "#bd3786"
             ],
             [
              0.5555555555555556,
              "#d8576b"
             ],
             [
              0.6666666666666666,
              "#ed7953"
             ],
             [
              0.7777777777777778,
              "#fb9f3a"
             ],
             [
              0.8888888888888888,
              "#fdca26"
             ],
             [
              1,
              "#f0f921"
             ]
            ],
            "type": "heatmapgl"
           }
          ],
          "histogram": [
           {
            "marker": {
             "pattern": {
              "fillmode": "overlay",
              "size": 10,
              "solidity": 0.2
             }
            },
            "type": "histogram"
           }
          ],
          "histogram2d": [
           {
            "colorbar": {
             "outlinewidth": 0,
             "ticks": ""
            },
            "colorscale": [
             [
              0,
              "#0d0887"
             ],
             [
              0.1111111111111111,
              "#46039f"
             ],
             [
              0.2222222222222222,
              "#7201a8"
             ],
             [
              0.3333333333333333,
              "#9c179e"
             ],
             [
              0.4444444444444444,
              "#bd3786"
             ],
             [
              0.5555555555555556,
              "#d8576b"
             ],
             [
              0.6666666666666666,
              "#ed7953"
             ],
             [
              0.7777777777777778,
              "#fb9f3a"
             ],
             [
              0.8888888888888888,
              "#fdca26"
             ],
             [
              1,
              "#f0f921"
             ]
            ],
            "type": "histogram2d"
           }
          ],
          "histogram2dcontour": [
           {
            "colorbar": {
             "outlinewidth": 0,
             "ticks": ""
            },
            "colorscale": [
             [
              0,
              "#0d0887"
             ],
             [
              0.1111111111111111,
              "#46039f"
             ],
             [
              0.2222222222222222,
              "#7201a8"
             ],
             [
              0.3333333333333333,
              "#9c179e"
             ],
             [
              0.4444444444444444,
              "#bd3786"
             ],
             [
              0.5555555555555556,
              "#d8576b"
             ],
             [
              0.6666666666666666,
              "#ed7953"
             ],
             [
              0.7777777777777778,
              "#fb9f3a"
             ],
             [
              0.8888888888888888,
              "#fdca26"
             ],
             [
              1,
              "#f0f921"
             ]
            ],
            "type": "histogram2dcontour"
           }
          ],
          "mesh3d": [
           {
            "colorbar": {
             "outlinewidth": 0,
             "ticks": ""
            },
            "type": "mesh3d"
           }
          ],
          "parcoords": [
           {
            "line": {
             "colorbar": {
              "outlinewidth": 0,
              "ticks": ""
             }
            },
            "type": "parcoords"
           }
          ],
          "pie": [
           {
            "automargin": true,
            "type": "pie"
           }
          ],
          "scatter": [
           {
            "fillpattern": {
             "fillmode": "overlay",
             "size": 10,
             "solidity": 0.2
            },
            "type": "scatter"
           }
          ],
          "scatter3d": [
           {
            "line": {
             "colorbar": {
              "outlinewidth": 0,
              "ticks": ""
             }
            },
            "marker": {
             "colorbar": {
              "outlinewidth": 0,
              "ticks": ""
             }
            },
            "type": "scatter3d"
           }
          ],
          "scattercarpet": [
           {
            "marker": {
             "colorbar": {
              "outlinewidth": 0,
              "ticks": ""
             }
            },
            "type": "scattercarpet"
           }
          ],
          "scattergeo": [
           {
            "marker": {
             "colorbar": {
              "outlinewidth": 0,
              "ticks": ""
             }
            },
            "type": "scattergeo"
           }
          ],
          "scattergl": [
           {
            "marker": {
             "colorbar": {
              "outlinewidth": 0,
              "ticks": ""
             }
            },
            "type": "scattergl"
           }
          ],
          "scattermapbox": [
           {
            "marker": {
             "colorbar": {
              "outlinewidth": 0,
              "ticks": ""
             }
            },
            "type": "scattermapbox"
           }
          ],
          "scatterpolar": [
           {
            "marker": {
             "colorbar": {
              "outlinewidth": 0,
              "ticks": ""
             }
            },
            "type": "scatterpolar"
           }
          ],
          "scatterpolargl": [
           {
            "marker": {
             "colorbar": {
              "outlinewidth": 0,
              "ticks": ""
             }
            },
            "type": "scatterpolargl"
           }
          ],
          "scatterternary": [
           {
            "marker": {
             "colorbar": {
              "outlinewidth": 0,
              "ticks": ""
             }
            },
            "type": "scatterternary"
           }
          ],
          "surface": [
           {
            "colorbar": {
             "outlinewidth": 0,
             "ticks": ""
            },
            "colorscale": [
             [
              0,
              "#0d0887"
             ],
             [
              0.1111111111111111,
              "#46039f"
             ],
             [
              0.2222222222222222,
              "#7201a8"
             ],
             [
              0.3333333333333333,
              "#9c179e"
             ],
             [
              0.4444444444444444,
              "#bd3786"
             ],
             [
              0.5555555555555556,
              "#d8576b"
             ],
             [
              0.6666666666666666,
              "#ed7953"
             ],
             [
              0.7777777777777778,
              "#fb9f3a"
             ],
             [
              0.8888888888888888,
              "#fdca26"
             ],
             [
              1,
              "#f0f921"
             ]
            ],
            "type": "surface"
           }
          ],
          "table": [
           {
            "cells": {
             "fill": {
              "color": "#EBF0F8"
             },
             "line": {
              "color": "white"
             }
            },
            "header": {
             "fill": {
              "color": "#C8D4E3"
             },
             "line": {
              "color": "white"
             }
            },
            "type": "table"
           }
          ]
         },
         "layout": {
          "annotationdefaults": {
           "arrowcolor": "#2a3f5f",
           "arrowhead": 0,
           "arrowwidth": 1
          },
          "autotypenumbers": "strict",
          "coloraxis": {
           "colorbar": {
            "outlinewidth": 0,
            "ticks": ""
           }
          },
          "colorscale": {
           "diverging": [
            [
             0,
             "#8e0152"
            ],
            [
             0.1,
             "#c51b7d"
            ],
            [
             0.2,
             "#de77ae"
            ],
            [
             0.3,
             "#f1b6da"
            ],
            [
             0.4,
             "#fde0ef"
            ],
            [
             0.5,
             "#f7f7f7"
            ],
            [
             0.6,
             "#e6f5d0"
            ],
            [
             0.7,
             "#b8e186"
            ],
            [
             0.8,
             "#7fbc41"
            ],
            [
             0.9,
             "#4d9221"
            ],
            [
             1,
             "#276419"
            ]
           ],
           "sequential": [
            [
             0,
             "#0d0887"
            ],
            [
             0.1111111111111111,
             "#46039f"
            ],
            [
             0.2222222222222222,
             "#7201a8"
            ],
            [
             0.3333333333333333,
             "#9c179e"
            ],
            [
             0.4444444444444444,
             "#bd3786"
            ],
            [
             0.5555555555555556,
             "#d8576b"
            ],
            [
             0.6666666666666666,
             "#ed7953"
            ],
            [
             0.7777777777777778,
             "#fb9f3a"
            ],
            [
             0.8888888888888888,
             "#fdca26"
            ],
            [
             1,
             "#f0f921"
            ]
           ],
           "sequentialminus": [
            [
             0,
             "#0d0887"
            ],
            [
             0.1111111111111111,
             "#46039f"
            ],
            [
             0.2222222222222222,
             "#7201a8"
            ],
            [
             0.3333333333333333,
             "#9c179e"
            ],
            [
             0.4444444444444444,
             "#bd3786"
            ],
            [
             0.5555555555555556,
             "#d8576b"
            ],
            [
             0.6666666666666666,
             "#ed7953"
            ],
            [
             0.7777777777777778,
             "#fb9f3a"
            ],
            [
             0.8888888888888888,
             "#fdca26"
            ],
            [
             1,
             "#f0f921"
            ]
           ]
          },
          "colorway": [
           "#636efa",
           "#EF553B",
           "#00cc96",
           "#ab63fa",
           "#FFA15A",
           "#19d3f3",
           "#FF6692",
           "#B6E880",
           "#FF97FF",
           "#FECB52"
          ],
          "font": {
           "color": "#2a3f5f"
          },
          "geo": {
           "bgcolor": "white",
           "lakecolor": "white",
           "landcolor": "#E5ECF6",
           "showlakes": true,
           "showland": true,
           "subunitcolor": "white"
          },
          "hoverlabel": {
           "align": "left"
          },
          "hovermode": "closest",
          "mapbox": {
           "style": "light"
          },
          "paper_bgcolor": "white",
          "plot_bgcolor": "#E5ECF6",
          "polar": {
           "angularaxis": {
            "gridcolor": "white",
            "linecolor": "white",
            "ticks": ""
           },
           "bgcolor": "#E5ECF6",
           "radialaxis": {
            "gridcolor": "white",
            "linecolor": "white",
            "ticks": ""
           }
          },
          "scene": {
           "xaxis": {
            "backgroundcolor": "#E5ECF6",
            "gridcolor": "white",
            "gridwidth": 2,
            "linecolor": "white",
            "showbackground": true,
            "ticks": "",
            "zerolinecolor": "white"
           },
           "yaxis": {
            "backgroundcolor": "#E5ECF6",
            "gridcolor": "white",
            "gridwidth": 2,
            "linecolor": "white",
            "showbackground": true,
            "ticks": "",
            "zerolinecolor": "white"
           },
           "zaxis": {
            "backgroundcolor": "#E5ECF6",
            "gridcolor": "white",
            "gridwidth": 2,
            "linecolor": "white",
            "showbackground": true,
            "ticks": "",
            "zerolinecolor": "white"
           }
          },
          "shapedefaults": {
           "line": {
            "color": "#2a3f5f"
           }
          },
          "ternary": {
           "aaxis": {
            "gridcolor": "white",
            "linecolor": "white",
            "ticks": ""
           },
           "baxis": {
            "gridcolor": "white",
            "linecolor": "white",
            "ticks": ""
           },
           "bgcolor": "#E5ECF6",
           "caxis": {
            "gridcolor": "white",
            "linecolor": "white",
            "ticks": ""
           }
          },
          "title": {
           "x": 0.05
          },
          "xaxis": {
           "automargin": true,
           "gridcolor": "white",
           "linecolor": "white",
           "ticks": "",
           "title": {
            "standoff": 15
           },
           "zerolinecolor": "white",
           "zerolinewidth": 2
          },
          "yaxis": {
           "automargin": true,
           "gridcolor": "white",
           "linecolor": "white",
           "ticks": "",
           "title": {
            "standoff": 15
           },
           "zerolinecolor": "white",
           "zerolinewidth": 2
          }
         }
        },
        "width": 1500,
        "xaxis": {
         "tickvals": []
        },
        "yaxis": {
         "tickvals": []
        }
       }
      }
     },
     "metadata": {},
     "output_type": "display_data"
    }
   ],
   "source": [
    "import sys\n",
    "sys.path.append(\"../\")\n",
    "from lib.tsne import TSNE_Plot\n",
    "tsne_plot_openai = TSNE_Plot(merged_list, merged_embed_openai, n_clusters = 4)\n",
    "tsne_plot_openai.tsne_plot(n_sentence=40)"
   ]
  },
  {
   "cell_type": "code",
   "execution_count": 26,
   "metadata": {},
   "outputs": [
    {
     "data": {
      "application/vnd.plotly.v1+json": {
       "config": {
        "plotlyServerURL": "https://plot.ly"
       },
       "data": [
        {
         "colorscale": [
          [
           0,
           "rgb(0,0,131)"
          ],
          [
           0.2,
           "rgb(0,60,170)"
          ],
          [
           0.4,
           "rgb(5,255,255)"
          ],
          [
           0.6,
           "rgb(255,255,0)"
          ],
          [
           0.8,
           "rgb(250,0,0)"
          ],
          [
           1,
           "rgb(128,0,0)"
          ]
         ],
         "type": "heatmap",
         "z": [
          [
           0.8551714993287257,
           0.8396905426936996,
           0.7974770628520261,
           0.7976355710051063,
           0.8509872120241054,
           0.8720742359751409,
           0.7863996145141393,
           0.8110809420994219,
           0.8245383192717463,
           0.797771583693493,
           0.7920680586659097,
           0.7892510893683697,
           0.7988588166965424,
           0.8287949032628044,
           0.820090030687529,
           0.8098408256668668,
           0.8436641015579587,
           0.8523311785385744,
           0.8133572449941221,
           0.8240704847725104
          ],
          [
           0.8003064288402331,
           0.8768059310568802,
           0.7696522477304317,
           0.7475544701995549,
           0.8502447225698055,
           0.816628634115989,
           0.7820822535290324,
           0.8296349768854612,
           0.7943521495184364,
           0.8004910340663655,
           0.7823822535627153,
           0.7903698573564545,
           0.7718434169131793,
           0.8228357057928146,
           0.7953443463004083,
           0.8312080094360559,
           0.8433437515246366,
           0.8444689793659008,
           0.8402359012529069,
           0.8188652597885973
          ],
          [
           0.7884141449856683,
           0.7813604009489987,
           0.8989853644530242,
           0.7711603812555942,
           0.807213965799497,
           0.7745895669835031,
           0.7596527905086481,
           0.7643595725221829,
           0.7879910139083988,
           0.7341902418172194,
           0.7525896816653048,
           0.7456935633604542,
           0.7369105778763577,
           0.7547331020593202,
           0.7469321430048997,
           0.7598356828765325,
           0.7681850126680564,
           0.7916317258820889,
           0.8089133241902936,
           0.7549667395239932
          ],
          [
           0.8208556463773002,
           0.8235203041929341,
           0.8236957790649234,
           0.9086796053843158,
           0.8198744092162377,
           0.8157858979736436,
           0.7962014938840721,
           0.8053715658297188,
           0.8172089257783176,
           0.7954188890693851,
           0.7827744257829894,
           0.7852144057760202,
           0.7687859689185635,
           0.799546135262005,
           0.7727129013297144,
           0.7933575353937143,
           0.7989283045739426,
           0.8469680938075841,
           0.8170442204333215,
           0.8031004008271799
          ],
          [
           0.8261060297740415,
           0.8370691877242574,
           0.8040297623160405,
           0.795204266876469,
           0.880404705765121,
           0.8508922875484777,
           0.8080562377909163,
           0.8086315343081815,
           0.8330386136477974,
           0.799320501139275,
           0.788591738920496,
           0.7939882608201646,
           0.7984483830114838,
           0.8226126572610895,
           0.8140662894022306,
           0.8259825085761107,
           0.8470731279420383,
           0.8482872978292173,
           0.8674843391120564,
           0.8451333678840892
          ],
          [
           0.7947567889450878,
           0.8326722044227767,
           0.768121347692152,
           0.7869141114439874,
           0.8420861558600056,
           0.8840615152133506,
           0.7832000510972263,
           0.8081628328812828,
           0.8014654620082202,
           0.794825724923073,
           0.7796235070460429,
           0.7957091653983565,
           0.773386499723694,
           0.8213607931460998,
           0.8107543087804068,
           0.8177993922096959,
           0.810131484067225,
           0.8236048738623936,
           0.8101463624269083,
           0.8055394389435251
          ],
          [
           0.7750933754318597,
           0.8206878511312017,
           0.751317776142519,
           0.7633919220264019,
           0.8147369108334389,
           0.8123243143278336,
           0.8406101678179668,
           0.8039684557810876,
           0.8289488326307332,
           0.7807620778705131,
           0.7762410787507424,
           0.8074190509657999,
           0.8039587957544841,
           0.8362655826021721,
           0.8178199758372274,
           0.7877511777322194,
           0.8250288430421429,
           0.8209551986834271,
           0.79007937532409,
           0.8088661800140168
          ],
          [
           0.8091835561202358,
           0.82162949317685,
           0.770265508745308,
           0.8023939501745582,
           0.8170804107288802,
           0.8169399115775628,
           0.7796382161138108,
           0.8258896626522192,
           0.8182570845186312,
           0.799092445122957,
           0.7780020029037187,
           0.754099338513316,
           0.7805115238003333,
           0.7786727344999633,
           0.7876034273173215,
           0.7927044029356854,
           0.8395911268935561,
           0.8208875112798287,
           0.7997411089449542,
           0.8021469164004859
          ],
          [
           0.8248963700240443,
           0.8439380991926039,
           0.7896948039109379,
           0.802262377444906,
           0.8352540740129317,
           0.8622760504514597,
           0.7788330021029498,
           0.8025330992493397,
           0.8317787061711175,
           0.7794645565555861,
           0.8033600734637568,
           0.7845802455279115,
           0.7975310713233821,
           0.8170486002475161,
           0.7899799050802454,
           0.7986781271893133,
           0.8345341755265242,
           0.8187132901851129,
           0.8143344417118796,
           0.8152327336657355
          ],
          [
           0.787591132546347,
           0.8577949079332903,
           0.783316601487943,
           0.7893453335726451,
           0.8451073986541627,
           0.8182059455400456,
           0.7908604750377053,
           0.811712471692381,
           0.8138499489786275,
           0.8356778366318,
           0.7932670220664447,
           0.7886031137770539,
           0.8024715017593023,
           0.8134957446872886,
           0.8152997731734591,
           0.7931539721248713,
           0.8552963679801726,
           0.8451199370235536,
           0.8349189468356119,
           0.8237677046732935
          ],
          [
           0.7704959474269104,
           0.8217641019700436,
           0.757986923261167,
           0.7794783504625589,
           0.8220800910023852,
           0.7836766389149563,
           0.8201187095396839,
           0.7738244240241893,
           0.8294179494863385,
           0.7931570140387724,
           0.8534823489591419,
           0.8514418703045,
           0.8586576077514202,
           0.8589920926374833,
           0.8573860204820042,
           0.8163394456906687,
           0.8288492825392605,
           0.8207514345587222,
           0.8237034403858388,
           0.8404595084223805
          ],
          [
           0.7677161373597494,
           0.8318051975981429,
           0.7591580402779291,
           0.7835634903377214,
           0.8283393306798033,
           0.8025912216022766,
           0.7933893214680473,
           0.7714588002553835,
           0.8153006007195297,
           0.786191652121062,
           0.8528481129832877,
           0.8709860558811963,
           0.8599521555169455,
           0.8683886577070591,
           0.8687879987195924,
           0.801035578637025,
           0.8341773141784494,
           0.8331881662330354,
           0.8199815715593503,
           0.8436198243579485
          ],
          [
           0.7815942214941491,
           0.8111169528716257,
           0.7658372373280524,
           0.7809972219595093,
           0.8066236027184426,
           0.80239895954385,
           0.7933395720101976,
           0.7721405079533543,
           0.813220153330888,
           0.7834430368955616,
           0.833857253039964,
           0.823841359129036,
           0.8093706264817957,
           0.856242171718684,
           0.8265203438642419,
           0.8199586208174099,
           0.8311104130296659,
           0.832111131568065,
           0.812246283644523,
           0.8160113927999699
          ],
          [
           0.7727698406395679,
           0.8137647395414569,
           0.7614401091226131,
           0.7625840222144528,
           0.816810215793912,
           0.8188157464006756,
           0.8172059014365718,
           0.780443571270297,
           0.8130825029956423,
           0.7862892556472578,
           0.80589888851645,
           0.826004419596053,
           0.8142318025975689,
           0.8848125461402607,
           0.8069087355538775,
           0.8135212737577014,
           0.819386920184844,
           0.8130324483060349,
           0.8225319913336263,
           0.8190552000725726
          ],
          [
           0.7879031371740933,
           0.8329893641725579,
           0.7683460390432685,
           0.7933160987763356,
           0.822742547428251,
           0.8175737754677401,
           0.8107234522852298,
           0.789993058096087,
           0.8204807453325829,
           0.809581331371671,
           0.8663623458598714,
           0.8428985875653306,
           0.8759962410953996,
           0.855232009833056,
           0.8368877860639858,
           0.789055300580517,
           0.8456246847590445,
           0.8149198529362625,
           0.84077593115485,
           0.8370624204872766
          ],
          [
           0.7871158654679314,
           0.8301243477103797,
           0.8028179435501148,
           0.7731434130792348,
           0.8172567119761458,
           0.8100136080355765,
           0.8125980993798207,
           0.8478475037298089,
           0.8110159922062555,
           0.7951907808938509,
           0.8153874834658782,
           0.8314683198754289,
           0.7942726061288448,
           0.8296196126778599,
           0.8127042903553074,
           0.8605910116180994,
           0.8308642341707757,
           0.8223779133336222,
           0.8471032487816028,
           0.8361002468193974
          ],
          [
           0.8231193300216384,
           0.8442676589121147,
           0.8008796056207744,
           0.8068724063430175,
           0.8460958426563313,
           0.8340901150751208,
           0.7701983229870984,
           0.8145664917041493,
           0.8290039418965797,
           0.8020960627310428,
           0.797409478184367,
           0.7959926436127718,
           0.7900642682687535,
           0.8053437983395872,
           0.8191922847845478,
           0.8137274726727527,
           0.876869797540014,
           0.8800652863091638,
           0.8218653020155484,
           0.8266053069466628
          ],
          [
           0.8339180721846177,
           0.810666687016712,
           0.7913413396585237,
           0.7791492970973594,
           0.8189353738877664,
           0.814079870731564,
           0.7513430563322742,
           0.7987734740192586,
           0.8017752100849352,
           0.7619875131638855,
           0.7495959324313961,
           0.7401969245256639,
           0.7480187890176818,
           0.7872180172967139,
           0.7710936373752465,
           0.7978785651113214,
           0.8201839040770361,
           0.8570625096382968,
           0.8040571228947229,
           0.7770451113646886
          ],
          [
           0.7652887565445169,
           0.8343371372675136,
           0.7675601127333176,
           0.7662158729765035,
           0.811894982762633,
           0.7917165605777123,
           0.7823945096422485,
           0.7904995698612004,
           0.8039455753073212,
           0.7788522671316543,
           0.8337294073556254,
           0.8004870218645656,
           0.8286262858057802,
           0.814150060052911,
           0.830072820717275,
           0.8309730383155212,
           0.8601976907292644,
           0.8327029493631048,
           0.859497613191466,
           0.8460560074831809
          ],
          [
           0.7581466835720294,
           0.8186855423076245,
           0.7564949112238248,
           0.7615768476476122,
           0.793467834377997,
           0.7793649793335543,
           0.8213753009695995,
           0.7984302797663914,
           0.7786750138498534,
           0.8058912000193206,
           0.776268976584428,
           0.7798821516729134,
           0.7714371166235499,
           0.819755458180839,
           0.7849858597998373,
           0.8328305977811805,
           0.787508422160675,
           0.7989260364858826,
           0.8192564475389572,
           0.8180751414124561
          ]
         ]
        }
       ],
       "layout": {
        "annotations": [
         {
          "font": {
           "color": "black",
           "size": 16
          },
          "showarrow": false,
          "text": "Col",
          "x": -9,
          "xanchor": "center",
          "xref": "x",
          "y": -1,
          "yanchor": "bottom",
          "yref": "y"
         },
         {
          "font": {
           "color": "black",
           "size": 16
          },
          "showarrow": false,
          "text": "Row",
          "x": -24,
          "xanchor": "center",
          "xref": "x",
          "y": -1,
          "yanchor": "bottom",
          "yref": "y"
         },
         {
          "bgcolor": "#ffffe6",
          "bordercolor": "rgb(255,255,0)",
          "font": {
           "color": "black",
           "size": 14
          },
          "showarrow": false,
          "text": "不必说碧绿的菜畦，光...从后窍喷出一阵烟雾。",
          "x": -15,
          "xanchor": "left",
          "xref": "x",
          "xshift": -10,
          "y": 0,
          "yanchor": "middle",
          "yref": "y",
          "yshift": 0
         },
         {
          "bgcolor": "#ffffe6",
          "bordercolor": "rgb(255,255,0)",
          "font": {
           "color": "black",
           "size": 14
          },
          "showarrow": false,
          "text": "何首乌藤和木莲藤缠络...味都比桑椹要好得远。",
          "x": -30,
          "xanchor": "left",
          "xref": "x",
          "xshift": -10,
          "y": 0,
          "yanchor": "middle",
          "yref": "y",
          "yshift": 0
         },
         {
          "bgcolor": "#ffe6e6",
          "bordercolor": "rgb(250,0,0)",
          "font": {
           "color": "black",
           "size": 14
          },
          "showarrow": false,
          "text": "我说道，“爸爸，你走...他不肯，只好让他去。",
          "x": -15,
          "xanchor": "left",
          "xref": "x",
          "xshift": -10,
          "y": 1,
          "yanchor": "middle",
          "yref": "y",
          "yshift": 0
         },
         {
          "bgcolor": "#ffe6e6",
          "bordercolor": "rgb(250,0,0)",
          "font": {
           "color": "black",
           "size": 14
          },
          "showarrow": false,
          "text": "我看见他戴着黑布小帽...的泪很快地流下来了。",
          "x": -30,
          "xanchor": "left",
          "xref": "x",
          "xshift": -10,
          "y": 1,
          "yanchor": "middle",
          "yref": "y",
          "yshift": 0
         },
         {
          "bgcolor": "#ffe6e6",
          "bordercolor": "rgb(250,0,0)",
          "font": {
           "color": "black",
           "size": 14
          },
          "showarrow": false,
          "text": "皇宫的侍臣和丞相府的...方，获得更好的效果。",
          "x": -15,
          "xanchor": "left",
          "xref": "x",
          "xshift": -10,
          "y": 2,
          "yanchor": "middle",
          "yref": "y",
          "yshift": 0
         },
         {
          "bgcolor": "#ffe6e6",
          "bordercolor": "rgb(250,0,0)",
          "font": {
           "color": "black",
           "size": 14
          },
          "showarrow": false,
          "text": "将军向宠，性格和善，...的兴隆就指日可待了。",
          "x": -30,
          "xanchor": "left",
          "xref": "x",
          "xshift": -10,
          "y": 2,
          "yanchor": "middle",
          "yref": "y",
          "yshift": 0
         },
         {
          "bgcolor": "#f2e6e6",
          "bordercolor": "rgb(128,0,0)",
          "font": {
           "color": "black",
           "size": 14
          },
          "showarrow": false,
          "text": "这本书以前经常被墨大...一直默默自行参悟着。",
          "x": -15,
          "xanchor": "left",
          "xref": "x",
          "xshift": -10,
          "y": 3,
          "yanchor": "middle",
          "yref": "y",
          "yshift": 0
         },
         {
          "bgcolor": "#f2e6e6",
          "bordercolor": "rgb(128,0,0)",
          "font": {
           "color": "black",
           "size": 14
          },
          "showarrow": false,
          "text": "此卷秘籍是在暗格内和...个长生不死的神仙呢！",
          "x": -30,
          "xanchor": "left",
          "xref": "x",
          "xshift": -10,
          "y": 3,
          "yanchor": "middle",
          "yref": "y",
          "yshift": 0
         },
         {
          "bgcolor": "#ffe6e6",
          "bordercolor": "rgb(250,0,0)",
          "font": {
           "color": "black",
           "size": 14
          },
          "showarrow": false,
          "text": "鲁家现在才吃完晚饭，...背，望着鲁妈打着噎。",
          "x": -15,
          "xanchor": "left",
          "xref": "x",
          "xshift": -10,
          "y": 4,
          "yanchor": "middle",
          "yref": "y",
          "yshift": 0
         },
         {
          "bgcolor": "#ffe6e6",
          "bordercolor": "rgb(250,0,0)",
          "font": {
           "color": "black",
           "size": 14
          },
          "showarrow": false,
          "text": "他的赤脚忽然放在椅子...闲话，有青蛙的叫声。",
          "x": -30,
          "xanchor": "left",
          "xref": "x",
          "xshift": -10,
          "y": 4,
          "yanchor": "middle",
          "yref": "y",
          "yshift": 0
         },
         {
          "bgcolor": "#ffe6e6",
          "bordercolor": "rgb(250,0,0)",
          "font": {
           "color": "black",
           "size": 14
          },
          "showarrow": false,
          "text": "沙漠之中怎么会有泥鳅...敌对野牛 在远方决斗",
          "x": -15,
          "xanchor": "left",
          "xref": "x",
          "xshift": -10,
          "y": 5,
          "yanchor": "middle",
          "yref": "y",
          "yshift": 0
         },
         {
          "bgcolor": "#ffe6e6",
          "bordercolor": "rgb(250,0,0)",
          "font": {
           "color": "black",
           "size": 14
          },
          "showarrow": false,
          "text": "在一处被废弃的白蚁丘...事都有 包括像猫的狗",
          "x": -30,
          "xanchor": "left",
          "xref": "x",
          "xshift": -10,
          "y": 5,
          "yanchor": "middle",
          "yref": "y",
          "yshift": 0
         },
         {
          "bgcolor": "#ffffe6",
          "bordercolor": "rgb(255,255,0)",
          "font": {
           "color": "black",
           "size": 14
          },
          "showarrow": false,
          "text": "眼睛你要擦亮 记住我...壁班 还有考卷的答案",
          "x": -15,
          "xanchor": "left",
          "xref": "x",
          "xshift": -10,
          "y": 6,
          "yanchor": "middle",
          "yref": "y",
          "yshift": 0
         },
         {
          "bgcolor": "#ffffe6",
          "bordercolor": "rgb(255,255,0)",
          "font": {
           "color": "black",
           "size": 14
          },
          "showarrow": false,
          "text": "我刚好都不会算 没关... 这第一名到底要多强",
          "x": -30,
          "xanchor": "left",
          "xref": "x",
          "xshift": -10,
          "y": 6,
          "yanchor": "middle",
          "yref": "y",
          "yshift": 0
         },
         {
          "bgcolor": "#e6ffff",
          "bordercolor": "rgb(5,255,255)",
          "font": {
           "color": "black",
           "size": 14
          },
          "showarrow": false,
          "text": "岩烧店的烟味弥漫 隔...长 还会金钟罩铁布衫",
          "x": -15,
          "xanchor": "left",
          "xref": "x",
          "xshift": -10,
          "y": 7,
          "yanchor": "middle",
          "yref": "y",
          "yshift": 0
         },
         {
          "bgcolor": "#e6ffff",
          "bordercolor": "rgb(5,255,255)",
          "font": {
           "color": "black",
           "size": 14
          },
          "showarrow": false,
          "text": "他们儿子我习惯 从小...南嵩山 学少林跟武当",
          "x": -30,
          "xanchor": "left",
          "xref": "x",
          "xshift": -10,
          "y": 7,
          "yanchor": "middle",
          "yref": "y",
          "yshift": 0
         },
         {
          "bgcolor": "#e6ffff",
          "bordercolor": "rgb(5,255,255)",
          "font": {
           "color": "black",
           "size": 14
          },
          "showarrow": false,
          "text": "藤蔓植物 爬满了伯爵...她养的黑猫笑起来像哭",
          "x": -15,
          "xanchor": "left",
          "xref": "x",
          "xshift": -10,
          "y": 8,
          "yanchor": "middle",
          "yref": "y",
          "yshift": 0
         },
         {
          "bgcolor": "#e6ffff",
          "bordercolor": "rgb(5,255,255)",
          "font": {
           "color": "black",
           "size": 14
          },
          "showarrow": false,
          "text": "啦啦啦呜 用水晶球替...世满脸的落腮鬍 习惯",
          "x": -30,
          "xanchor": "left",
          "xref": "x",
          "xshift": -10,
          "y": 8,
          "yanchor": "middle",
          "yref": "y",
          "yshift": 0
         },
         {
          "bgcolor": "#e6ffff",
          "bordercolor": "rgb(5,255,255)",
          "font": {
           "color": "black",
           "size": 14
          },
          "showarrow": false,
          "text": "火炉烫小铁匠，存钱买...，进不去，正在苦恼。",
          "x": -15,
          "xanchor": "left",
          "xref": "x",
          "xshift": -10,
          "y": 9,
          "yanchor": "middle",
          "yref": "y",
          "yshift": 0
         },
         {
          "bgcolor": "#e6ffff",
          "bordercolor": "rgb(5,255,255)",
          "font": {
           "color": "black",
           "size": 14
          },
          "showarrow": false,
          "text": "他的铜板还太少。他真...少吉他，才能买得到？",
          "x": -30,
          "xanchor": "left",
          "xref": "x",
          "xshift": -10,
          "y": 9,
          "yanchor": "middle",
          "yref": "y",
          "yshift": 0
         },
         {
          "bgcolor": "#ffffe6",
          "bordercolor": "rgb(255,255,0)",
          "font": {
           "color": "black",
           "size": 14
          },
          "showarrow": false,
          "text": "是雨是风 还是彩虹 ... 穿梭时间的画面的钟",
          "x": -15,
          "xanchor": "left",
          "xref": "x",
          "xshift": -10,
          "y": 10,
          "yanchor": "middle",
          "yref": "y",
          "yshift": 0
         },
         {
          "bgcolor": "#ffffe6",
          "bordercolor": "rgb(255,255,0)",
          "font": {
           "color": "black",
           "size": 14
          },
          "showarrow": false,
          "text": "从反方向 开始移动 ...纵容 脸上汹涌 失控",
          "x": -30,
          "xanchor": "left",
          "xref": "x",
          "xshift": -10,
          "y": 10,
          "yanchor": "middle",
          "yref": "y",
          "yshift": 0
         },
         {
          "bgcolor": "#ffffe6",
          "bordercolor": "rgb(255,255,0)",
          "font": {
           "color": "black",
           "size": 14
          },
          "showarrow": false,
          "text": "久未放晴的天空 依旧...寂寞 笑我给不起承诺",
          "x": -15,
          "xanchor": "left",
          "xref": "x",
          "xshift": -10,
          "y": 11,
          "yanchor": "middle",
          "yref": "y",
          "yshift": 0
         },
         {
          "bgcolor": "#ffffe6",
          "bordercolor": "rgb(255,255,0)",
          "font": {
           "color": "black",
           "size": 14
          },
          "showarrow": false,
          "text": "怎么会怎么会 你竟原...白 忘记你对我的期待",
          "x": -30,
          "xanchor": "left",
          "xref": "x",
          "xshift": -10,
          "y": 11,
          "yanchor": "middle",
          "yref": "y",
          "yshift": 0
         },
         {
          "bgcolor": "#e6ffff",
          "bordercolor": "rgb(5,255,255)",
          "font": {
           "color": "black",
           "size": 14
          },
          "showarrow": false,
          "text": "如果说怀疑 可以造句...不限日期 然后将过去",
          "x": -15,
          "xanchor": "left",
          "xref": "x",
          "xshift": -10,
          "y": 12,
          "yanchor": "middle",
          "yref": "y",
          "yshift": 0
         },
         {
          "bgcolor": "#e6ffff",
          "bordercolor": "rgb(5,255,255)",
          "font": {
           "color": "black",
           "size": 14
          },
          "showarrow": false,
          "text": "慢慢温习 让我爱上你...的美丽 你的完美主义",
          "x": -30,
          "xanchor": "left",
          "xref": "x",
          "xshift": -10,
          "y": 12,
          "yanchor": "middle",
          "yref": "y",
          "yshift": 0
         },
         {
          "bgcolor": "#ffe6e6",
          "bordercolor": "rgb(250,0,0)",
          "font": {
           "color": "black",
           "size": 14
          },
          "showarrow": false,
          "text": "难过 是因为闷了很久...脑袋有问题 随便说说",
          "x": -15,
          "xanchor": "left",
          "xref": "x",
          "xshift": -10,
          "y": 13,
          "yanchor": "middle",
          "yref": "y",
          "yshift": 0
         },
         {
          "bgcolor": "#ffe6e6",
          "bordercolor": "rgb(250,0,0)",
          "font": {
           "color": "black",
           "size": 14
          },
          "showarrow": false,
          "text": "其实我早己经猜透看透... 却又再考倒我 说散",
          "x": -30,
          "xanchor": "left",
          "xref": "x",
          "xshift": -10,
          "y": 13,
          "yanchor": "middle",
          "yref": "y",
          "yshift": 0
         },
         {
          "bgcolor": "#e6ffff",
          "bordercolor": "rgb(5,255,255)",
          "font": {
           "color": "black",
           "size": 14
          },
          "showarrow": false,
          "text": "广场一枚铜币 悲伤的...下回忆 相爱还有别离",
          "x": -15,
          "xanchor": "left",
          "xref": "x",
          "xshift": -10,
          "y": 14,
          "yanchor": "middle",
          "yref": "y",
          "yshift": 0
         },
         {
          "bgcolor": "#e6ffff",
          "bordercolor": "rgb(5,255,255)",
          "font": {
           "color": "black",
           "size": 14
          },
          "showarrow": false,
          "text": "像无法被安排的雨 随...这辈子注定一个人演戏",
          "x": -30,
          "xanchor": "left",
          "xref": "x",
          "xshift": -10,
          "y": 14,
          "yanchor": "middle",
          "yref": "y",
          "yshift": 0
         },
         {
          "bgcolor": "#ffffe6",
          "bordercolor": "rgb(255,255,0)",
          "font": {
           "color": "black",
           "size": 14
          },
          "showarrow": false,
          "text": "我听说通常在战争后就...为什么我爸爸 那么凶",
          "x": -15,
          "xanchor": "left",
          "xref": "x",
          "xshift": -10,
          "y": 15,
          "yanchor": "middle",
          "yref": "y",
          "yshift": 0
         },
         {
          "bgcolor": "#ffffe6",
          "bordercolor": "rgb(255,255,0)",
          "font": {
           "color": "black",
           "size": 14
          },
          "showarrow": false,
          "text": "如果真的我有一只翅膀...呢 妈跟我都没有错亏",
          "x": -30,
          "xanchor": "left",
          "xref": "x",
          "xshift": -10,
          "y": 15,
          "yanchor": "middle",
          "yref": "y",
          "yshift": 0
         },
         {
          "bgcolor": "#ffe6e6",
          "bordercolor": "rgb(250,0,0)",
          "font": {
           "color": "black",
           "size": 14
          },
          "showarrow": false,
          "text": "泛黄的春联还残留在墙...姥姥当年酿的豆瓣酱。",
          "x": -15,
          "xanchor": "left",
          "xref": "x",
          "xshift": -10,
          "y": 16,
          "yanchor": "middle",
          "yref": "y",
          "yshift": 0
         },
         {
          "bgcolor": "#ffe6e6",
          "bordercolor": "rgb(250,0,0)",
          "font": {
           "color": "black",
           "size": 14
          },
          "showarrow": false,
          "text": "我对着黑白照片开始想...墙黑瓦的淡淡的忧伤。",
          "x": -30,
          "xanchor": "left",
          "xref": "x",
          "xshift": -10,
          "y": 16,
          "yanchor": "middle",
          "yref": "y",
          "yshift": 0
         },
         {
          "bgcolor": "#ffffe6",
          "bordercolor": "rgb(255,255,0)",
          "font": {
           "color": "black",
           "size": 14
          },
          "showarrow": false,
          "text": "爷爷泡的茶有一种味道...爷栽种的樟木树苗上。",
          "x": -15,
          "xanchor": "left",
          "xref": "x",
          "xshift": -10,
          "y": 17,
          "yanchor": "middle",
          "yref": "y",
          "yshift": 0
         },
         {
          "bgcolor": "#ffffe6",
          "bordercolor": "rgb(255,255,0)",
          "font": {
           "color": "black",
           "size": 14
          },
          "showarrow": false,
          "text": "面上犹记得，那年在一...九岁才知道浪费时间。",
          "x": -30,
          "xanchor": "left",
          "xref": "x",
          "xshift": -10,
          "y": 17,
          "yanchor": "middle",
          "yref": "y",
          "yshift": 0
         },
         {
          "bgcolor": "#ffffe6",
          "bordercolor": "rgb(255,255,0)",
          "font": {
           "color": "black",
           "size": 14
          },
          "showarrow": false,
          "text": "今天是外婆生日 我换...失去了爱情只盼望亲情",
          "x": -15,
          "xanchor": "left",
          "xref": "x",
          "xshift": -10,
          "y": 18,
          "yanchor": "middle",
          "yref": "y",
          "yshift": 0
         },
         {
          "bgcolor": "#ffffe6",
          "bordercolor": "rgb(255,255,0)",
          "font": {
           "color": "black",
           "size": 14
          },
          "showarrow": false,
          "text": "弥补回应 大人们以为...的无奈 无法变成期待",
          "x": -30,
          "xanchor": "left",
          "xref": "x",
          "xshift": -10,
          "y": 18,
          "yanchor": "middle",
          "yref": "y",
          "yshift": 0
         },
         {
          "bgcolor": "#e6ffff",
          "bordercolor": "rgb(5,255,255)",
          "font": {
           "color": "black",
           "size": 14
          },
          "showarrow": false,
          "text": "我说我要一个大大大大...人快，飞得比别人高，",
          "x": -15,
          "xanchor": "left",
          "xref": "x",
          "xshift": -10,
          "y": 19,
          "yanchor": "middle",
          "yref": "y",
          "yshift": 0
         },
         {
          "bgcolor": "#e6ffff",
          "bordercolor": "rgb(5,255,255)",
          "font": {
           "color": "black",
           "size": 14
          },
          "showarrow": false,
          "text": "将来大家看的都是我画...，把手牵着一起梦游。",
          "x": -30,
          "xanchor": "left",
          "xref": "x",
          "xshift": -10,
          "y": 19,
          "yanchor": "middle",
          "yref": "y",
          "yshift": 0
         }
        ],
        "height": 700,
        "margin": {
         "l": 120
        },
        "shapes": [
         {
          "line": {
           "color": "rgb(255,255,0)",
           "width": 1.5
          },
          "type": "line",
          "x0": -4.5777777777777775,
          "x1": 0,
          "xref": "x",
          "y0": 0,
          "y1": 0,
          "yref": "y"
         },
         {
          "line": {
           "color": "rgb(250,0,0)",
           "width": 1.5
          },
          "type": "line",
          "x0": -4.511111111111111,
          "x1": 1,
          "xref": "x",
          "y0": 1,
          "y1": 1,
          "yref": "y"
         },
         {
          "line": {
           "color": "rgb(250,0,0)",
           "width": 1.5
          },
          "type": "line",
          "x0": -4.5777777777777775,
          "x1": 2,
          "xref": "x",
          "y0": 2,
          "y1": 2,
          "yref": "y"
         },
         {
          "line": {
           "color": "rgb(128,0,0)",
           "width": 1.5
          },
          "type": "line",
          "x0": -4.5777777777777775,
          "x1": 3,
          "xref": "x",
          "y0": 3,
          "y1": 3,
          "yref": "y"
         },
         {
          "line": {
           "color": "rgb(250,0,0)",
           "width": 1.5
          },
          "type": "line",
          "x0": -4.5777777777777775,
          "x1": 4,
          "xref": "x",
          "y0": 4,
          "y1": 4,
          "yref": "y"
         },
         {
          "line": {
           "color": "rgb(250,0,0)",
           "width": 1.5
          },
          "type": "line",
          "x0": -4.5,
          "x1": 5,
          "xref": "x",
          "y0": 5,
          "y1": 5,
          "yref": "y"
         },
         {
          "line": {
           "color": "rgb(255,255,0)",
           "width": 1.5
          },
          "type": "line",
          "x0": -4.4222222222222225,
          "x1": 6,
          "xref": "x",
          "y0": 6,
          "y1": 6,
          "yref": "y"
         },
         {
          "line": {
           "color": "rgb(5,255,255)",
           "width": 1.5
          },
          "type": "line",
          "x0": -4.4222222222222225,
          "x1": 7,
          "xref": "x",
          "y0": 7,
          "y1": 7,
          "yref": "y"
         },
         {
          "line": {
           "color": "rgb(5,255,255)",
           "width": 1.5
          },
          "type": "line",
          "x0": -4.5,
          "x1": 8,
          "xref": "x",
          "y0": 8,
          "y1": 8,
          "yref": "y"
         },
         {
          "line": {
           "color": "rgb(5,255,255)",
           "width": 1.5
          },
          "type": "line",
          "x0": -4.5777777777777775,
          "x1": 9,
          "xref": "x",
          "y0": 9,
          "y1": 9,
          "yref": "y"
         },
         {
          "line": {
           "color": "rgb(255,255,0)",
           "width": 1.5
          },
          "type": "line",
          "x0": -4.344444444444445,
          "x1": 10,
          "xref": "x",
          "y0": 10,
          "y1": 10,
          "yref": "y"
         },
         {
          "line": {
           "color": "rgb(255,255,0)",
           "width": 1.5
          },
          "type": "line",
          "x0": -4.4222222222222225,
          "x1": 11,
          "xref": "x",
          "y0": 11,
          "y1": 11,
          "yref": "y"
         },
         {
          "line": {
           "color": "rgb(5,255,255)",
           "width": 1.5
          },
          "type": "line",
          "x0": -4.4222222222222225,
          "x1": 12,
          "xref": "x",
          "y0": 12,
          "y1": 12,
          "yref": "y"
         },
         {
          "line": {
           "color": "rgb(250,0,0)",
           "width": 1.5
          },
          "type": "line",
          "x0": -4.4222222222222225,
          "x1": 13,
          "xref": "x",
          "y0": 13,
          "y1": 13,
          "yref": "y"
         },
         {
          "line": {
           "color": "rgb(5,255,255)",
           "width": 1.5
          },
          "type": "line",
          "x0": -4.4222222222222225,
          "x1": 14,
          "xref": "x",
          "y0": 14,
          "y1": 14,
          "yref": "y"
         },
         {
          "line": {
           "color": "rgb(255,255,0)",
           "width": 1.5
          },
          "type": "line",
          "x0": -4.5,
          "x1": 15,
          "xref": "x",
          "y0": 15,
          "y1": 15,
          "yref": "y"
         },
         {
          "line": {
           "color": "rgb(250,0,0)",
           "width": 1.5
          },
          "type": "line",
          "x0": -4.5777777777777775,
          "x1": 16,
          "xref": "x",
          "y0": 16,
          "y1": 16,
          "yref": "y"
         },
         {
          "line": {
           "color": "rgb(255,255,0)",
           "width": 1.5
          },
          "type": "line",
          "x0": -4.5777777777777775,
          "x1": 17,
          "xref": "x",
          "y0": 17,
          "y1": 17,
          "yref": "y"
         },
         {
          "line": {
           "color": "rgb(255,255,0)",
           "width": 1.5
          },
          "type": "line",
          "x0": -4.5,
          "x1": 18,
          "xref": "x",
          "y0": 18,
          "y1": 18,
          "yref": "y"
         },
         {
          "line": {
           "color": "rgb(5,255,255)",
           "width": 1.5
          },
          "type": "line",
          "x0": -4.5777777777777775,
          "x1": 19,
          "xref": "x",
          "y0": 19,
          "y1": 19,
          "yref": "y"
         }
        ],
        "template": {
         "data": {
          "bar": [
           {
            "error_x": {
             "color": "#2a3f5f"
            },
            "error_y": {
             "color": "#2a3f5f"
            },
            "marker": {
             "line": {
              "color": "#E5ECF6",
              "width": 0.5
             },
             "pattern": {
              "fillmode": "overlay",
              "size": 10,
              "solidity": 0.2
             }
            },
            "type": "bar"
           }
          ],
          "barpolar": [
           {
            "marker": {
             "line": {
              "color": "#E5ECF6",
              "width": 0.5
             },
             "pattern": {
              "fillmode": "overlay",
              "size": 10,
              "solidity": 0.2
             }
            },
            "type": "barpolar"
           }
          ],
          "carpet": [
           {
            "aaxis": {
             "endlinecolor": "#2a3f5f",
             "gridcolor": "white",
             "linecolor": "white",
             "minorgridcolor": "white",
             "startlinecolor": "#2a3f5f"
            },
            "baxis": {
             "endlinecolor": "#2a3f5f",
             "gridcolor": "white",
             "linecolor": "white",
             "minorgridcolor": "white",
             "startlinecolor": "#2a3f5f"
            },
            "type": "carpet"
           }
          ],
          "choropleth": [
           {
            "colorbar": {
             "outlinewidth": 0,
             "ticks": ""
            },
            "type": "choropleth"
           }
          ],
          "contour": [
           {
            "colorbar": {
             "outlinewidth": 0,
             "ticks": ""
            },
            "colorscale": [
             [
              0,
              "#0d0887"
             ],
             [
              0.1111111111111111,
              "#46039f"
             ],
             [
              0.2222222222222222,
              "#7201a8"
             ],
             [
              0.3333333333333333,
              "#9c179e"
             ],
             [
              0.4444444444444444,
              "#bd3786"
             ],
             [
              0.5555555555555556,
              "#d8576b"
             ],
             [
              0.6666666666666666,
              "#ed7953"
             ],
             [
              0.7777777777777778,
              "#fb9f3a"
             ],
             [
              0.8888888888888888,
              "#fdca26"
             ],
             [
              1,
              "#f0f921"
             ]
            ],
            "type": "contour"
           }
          ],
          "contourcarpet": [
           {
            "colorbar": {
             "outlinewidth": 0,
             "ticks": ""
            },
            "type": "contourcarpet"
           }
          ],
          "heatmap": [
           {
            "colorbar": {
             "outlinewidth": 0,
             "ticks": ""
            },
            "colorscale": [
             [
              0,
              "#0d0887"
             ],
             [
              0.1111111111111111,
              "#46039f"
             ],
             [
              0.2222222222222222,
              "#7201a8"
             ],
             [
              0.3333333333333333,
              "#9c179e"
             ],
             [
              0.4444444444444444,
              "#bd3786"
             ],
             [
              0.5555555555555556,
              "#d8576b"
             ],
             [
              0.6666666666666666,
              "#ed7953"
             ],
             [
              0.7777777777777778,
              "#fb9f3a"
             ],
             [
              0.8888888888888888,
              "#fdca26"
             ],
             [
              1,
              "#f0f921"
             ]
            ],
            "type": "heatmap"
           }
          ],
          "heatmapgl": [
           {
            "colorbar": {
             "outlinewidth": 0,
             "ticks": ""
            },
            "colorscale": [
             [
              0,
              "#0d0887"
             ],
             [
              0.1111111111111111,
              "#46039f"
             ],
             [
              0.2222222222222222,
              "#7201a8"
             ],
             [
              0.3333333333333333,
              "#9c179e"
             ],
             [
              0.4444444444444444,
              "#bd3786"
             ],
             [
              0.5555555555555556,
              "#d8576b"
             ],
             [
              0.6666666666666666,
              "#ed7953"
             ],
             [
              0.7777777777777778,
              "#fb9f3a"
             ],
             [
              0.8888888888888888,
              "#fdca26"
             ],
             [
              1,
              "#f0f921"
             ]
            ],
            "type": "heatmapgl"
           }
          ],
          "histogram": [
           {
            "marker": {
             "pattern": {
              "fillmode": "overlay",
              "size": 10,
              "solidity": 0.2
             }
            },
            "type": "histogram"
           }
          ],
          "histogram2d": [
           {
            "colorbar": {
             "outlinewidth": 0,
             "ticks": ""
            },
            "colorscale": [
             [
              0,
              "#0d0887"
             ],
             [
              0.1111111111111111,
              "#46039f"
             ],
             [
              0.2222222222222222,
              "#7201a8"
             ],
             [
              0.3333333333333333,
              "#9c179e"
             ],
             [
              0.4444444444444444,
              "#bd3786"
             ],
             [
              0.5555555555555556,
              "#d8576b"
             ],
             [
              0.6666666666666666,
              "#ed7953"
             ],
             [
              0.7777777777777778,
              "#fb9f3a"
             ],
             [
              0.8888888888888888,
              "#fdca26"
             ],
             [
              1,
              "#f0f921"
             ]
            ],
            "type": "histogram2d"
           }
          ],
          "histogram2dcontour": [
           {
            "colorbar": {
             "outlinewidth": 0,
             "ticks": ""
            },
            "colorscale": [
             [
              0,
              "#0d0887"
             ],
             [
              0.1111111111111111,
              "#46039f"
             ],
             [
              0.2222222222222222,
              "#7201a8"
             ],
             [
              0.3333333333333333,
              "#9c179e"
             ],
             [
              0.4444444444444444,
              "#bd3786"
             ],
             [
              0.5555555555555556,
              "#d8576b"
             ],
             [
              0.6666666666666666,
              "#ed7953"
             ],
             [
              0.7777777777777778,
              "#fb9f3a"
             ],
             [
              0.8888888888888888,
              "#fdca26"
             ],
             [
              1,
              "#f0f921"
             ]
            ],
            "type": "histogram2dcontour"
           }
          ],
          "mesh3d": [
           {
            "colorbar": {
             "outlinewidth": 0,
             "ticks": ""
            },
            "type": "mesh3d"
           }
          ],
          "parcoords": [
           {
            "line": {
             "colorbar": {
              "outlinewidth": 0,
              "ticks": ""
             }
            },
            "type": "parcoords"
           }
          ],
          "pie": [
           {
            "automargin": true,
            "type": "pie"
           }
          ],
          "scatter": [
           {
            "fillpattern": {
             "fillmode": "overlay",
             "size": 10,
             "solidity": 0.2
            },
            "type": "scatter"
           }
          ],
          "scatter3d": [
           {
            "line": {
             "colorbar": {
              "outlinewidth": 0,
              "ticks": ""
             }
            },
            "marker": {
             "colorbar": {
              "outlinewidth": 0,
              "ticks": ""
             }
            },
            "type": "scatter3d"
           }
          ],
          "scattercarpet": [
           {
            "marker": {
             "colorbar": {
              "outlinewidth": 0,
              "ticks": ""
             }
            },
            "type": "scattercarpet"
           }
          ],
          "scattergeo": [
           {
            "marker": {
             "colorbar": {
              "outlinewidth": 0,
              "ticks": ""
             }
            },
            "type": "scattergeo"
           }
          ],
          "scattergl": [
           {
            "marker": {
             "colorbar": {
              "outlinewidth": 0,
              "ticks": ""
             }
            },
            "type": "scattergl"
           }
          ],
          "scattermapbox": [
           {
            "marker": {
             "colorbar": {
              "outlinewidth": 0,
              "ticks": ""
             }
            },
            "type": "scattermapbox"
           }
          ],
          "scatterpolar": [
           {
            "marker": {
             "colorbar": {
              "outlinewidth": 0,
              "ticks": ""
             }
            },
            "type": "scatterpolar"
           }
          ],
          "scatterpolargl": [
           {
            "marker": {
             "colorbar": {
              "outlinewidth": 0,
              "ticks": ""
             }
            },
            "type": "scatterpolargl"
           }
          ],
          "scatterternary": [
           {
            "marker": {
             "colorbar": {
              "outlinewidth": 0,
              "ticks": ""
             }
            },
            "type": "scatterternary"
           }
          ],
          "surface": [
           {
            "colorbar": {
             "outlinewidth": 0,
             "ticks": ""
            },
            "colorscale": [
             [
              0,
              "#0d0887"
             ],
             [
              0.1111111111111111,
              "#46039f"
             ],
             [
              0.2222222222222222,
              "#7201a8"
             ],
             [
              0.3333333333333333,
              "#9c179e"
             ],
             [
              0.4444444444444444,
              "#bd3786"
             ],
             [
              0.5555555555555556,
              "#d8576b"
             ],
             [
              0.6666666666666666,
              "#ed7953"
             ],
             [
              0.7777777777777778,
              "#fb9f3a"
             ],
             [
              0.8888888888888888,
              "#fdca26"
             ],
             [
              1,
              "#f0f921"
             ]
            ],
            "type": "surface"
           }
          ],
          "table": [
           {
            "cells": {
             "fill": {
              "color": "#EBF0F8"
             },
             "line": {
              "color": "white"
             }
            },
            "header": {
             "fill": {
              "color": "#C8D4E3"
             },
             "line": {
              "color": "white"
             }
            },
            "type": "table"
           }
          ]
         },
         "layout": {
          "annotationdefaults": {
           "arrowcolor": "#2a3f5f",
           "arrowhead": 0,
           "arrowwidth": 1
          },
          "autotypenumbers": "strict",
          "coloraxis": {
           "colorbar": {
            "outlinewidth": 0,
            "ticks": ""
           }
          },
          "colorscale": {
           "diverging": [
            [
             0,
             "#8e0152"
            ],
            [
             0.1,
             "#c51b7d"
            ],
            [
             0.2,
             "#de77ae"
            ],
            [
             0.3,
             "#f1b6da"
            ],
            [
             0.4,
             "#fde0ef"
            ],
            [
             0.5,
             "#f7f7f7"
            ],
            [
             0.6,
             "#e6f5d0"
            ],
            [
             0.7,
             "#b8e186"
            ],
            [
             0.8,
             "#7fbc41"
            ],
            [
             0.9,
             "#4d9221"
            ],
            [
             1,
             "#276419"
            ]
           ],
           "sequential": [
            [
             0,
             "#0d0887"
            ],
            [
             0.1111111111111111,
             "#46039f"
            ],
            [
             0.2222222222222222,
             "#7201a8"
            ],
            [
             0.3333333333333333,
             "#9c179e"
            ],
            [
             0.4444444444444444,
             "#bd3786"
            ],
            [
             0.5555555555555556,
             "#d8576b"
            ],
            [
             0.6666666666666666,
             "#ed7953"
            ],
            [
             0.7777777777777778,
             "#fb9f3a"
            ],
            [
             0.8888888888888888,
             "#fdca26"
            ],
            [
             1,
             "#f0f921"
            ]
           ],
           "sequentialminus": [
            [
             0,
             "#0d0887"
            ],
            [
             0.1111111111111111,
             "#46039f"
            ],
            [
             0.2222222222222222,
             "#7201a8"
            ],
            [
             0.3333333333333333,
             "#9c179e"
            ],
            [
             0.4444444444444444,
             "#bd3786"
            ],
            [
             0.5555555555555556,
             "#d8576b"
            ],
            [
             0.6666666666666666,
             "#ed7953"
            ],
            [
             0.7777777777777778,
             "#fb9f3a"
            ],
            [
             0.8888888888888888,
             "#fdca26"
            ],
            [
             1,
             "#f0f921"
            ]
           ]
          },
          "colorway": [
           "#636efa",
           "#EF553B",
           "#00cc96",
           "#ab63fa",
           "#FFA15A",
           "#19d3f3",
           "#FF6692",
           "#B6E880",
           "#FF97FF",
           "#FECB52"
          ],
          "font": {
           "color": "#2a3f5f"
          },
          "geo": {
           "bgcolor": "white",
           "lakecolor": "white",
           "landcolor": "#E5ECF6",
           "showlakes": true,
           "showland": true,
           "subunitcolor": "white"
          },
          "hoverlabel": {
           "align": "left"
          },
          "hovermode": "closest",
          "mapbox": {
           "style": "light"
          },
          "paper_bgcolor": "white",
          "plot_bgcolor": "#E5ECF6",
          "polar": {
           "angularaxis": {
            "gridcolor": "white",
            "linecolor": "white",
            "ticks": ""
           },
           "bgcolor": "#E5ECF6",
           "radialaxis": {
            "gridcolor": "white",
            "linecolor": "white",
            "ticks": ""
           }
          },
          "scene": {
           "xaxis": {
            "backgroundcolor": "#E5ECF6",
            "gridcolor": "white",
            "gridwidth": 2,
            "linecolor": "white",
            "showbackground": true,
            "ticks": "",
            "zerolinecolor": "white"
           },
           "yaxis": {
            "backgroundcolor": "#E5ECF6",
            "gridcolor": "white",
            "gridwidth": 2,
            "linecolor": "white",
            "showbackground": true,
            "ticks": "",
            "zerolinecolor": "white"
           },
           "zaxis": {
            "backgroundcolor": "#E5ECF6",
            "gridcolor": "white",
            "gridwidth": 2,
            "linecolor": "white",
            "showbackground": true,
            "ticks": "",
            "zerolinecolor": "white"
           }
          },
          "shapedefaults": {
           "line": {
            "color": "#2a3f5f"
           }
          },
          "ternary": {
           "aaxis": {
            "gridcolor": "white",
            "linecolor": "white",
            "ticks": ""
           },
           "baxis": {
            "gridcolor": "white",
            "linecolor": "white",
            "ticks": ""
           },
           "bgcolor": "#E5ECF6",
           "caxis": {
            "gridcolor": "white",
            "linecolor": "white",
            "ticks": ""
           }
          },
          "title": {
           "x": 0.05
          },
          "xaxis": {
           "automargin": true,
           "gridcolor": "white",
           "linecolor": "white",
           "ticks": "",
           "title": {
            "standoff": 15
           },
           "zerolinecolor": "white",
           "zerolinewidth": 2
          },
          "yaxis": {
           "automargin": true,
           "gridcolor": "white",
           "linecolor": "white",
           "ticks": "",
           "title": {
            "standoff": 15
           },
           "zerolinecolor": "white",
           "zerolinewidth": 2
          }
         }
        },
        "width": 1400,
        "xaxis": {
         "tickmode": "array",
         "ticktext": [
          0,
          1,
          2,
          3,
          4,
          5,
          6,
          7,
          8,
          9,
          10,
          11,
          12,
          13,
          14,
          15,
          16,
          17,
          18,
          19
         ],
         "tickvals": [
          0,
          1,
          2,
          3,
          4,
          5,
          6,
          7,
          8,
          9,
          10,
          11,
          12,
          13,
          14,
          15,
          16,
          17,
          18,
          19
         ],
         "title": {
          "text": "X Axis"
         }
        },
        "yaxis": {
         "autorange": "reversed",
         "tickmode": "array",
         "ticktext": [
          0,
          1,
          2,
          3,
          4,
          5,
          6,
          7,
          8,
          9,
          10,
          11,
          12,
          13,
          14,
          15,
          16,
          17,
          18,
          19
         ],
         "tickvals": [
          0,
          1,
          2,
          3,
          4,
          5,
          6,
          7,
          8,
          9,
          10,
          11,
          12,
          13,
          14,
          15,
          16,
          17,
          18,
          19
         ],
         "title": {
          "text": "Y Axis"
         }
        }
       }
      }
     },
     "metadata": {},
     "output_type": "display_data"
    }
   ],
   "source": [
    "# from lib.heatmap import Heatmap\n",
    "import lib.heatmap\n",
    "import importlib\n",
    "importlib.reload(lib.heatmap)\n",
    "from lib.heatmap import Heatmap\n",
    "# You can choose the positions on the heatmap to show the text pair, by default, it will show the diagonal elements\n",
    "# Note only one element in each row is allowed\n",
    "# positions = [(i, i) for i in range(0, 20, 2)] + [(1, 5), (2, 3), (15, 9), (5, 13), (17, 7)]\n",
    "#heatmap_openai = Heatmap(df_openai, positions = positions)\n",
    "df_openai = pd.DataFrame({\"first\":text_left, \"second\":text_right, \"first_embed\":first_embed, \"second_embed\":second_embed})\n",
    "heatmap_openai = Heatmap(df_openai)\n",
    "heatmap_openai.create_heatmap()"
   ]
  },
  {
   "cell_type": "code",
   "execution_count": null,
   "metadata": {},
   "outputs": [],
   "source": []
  }
 ],
 "metadata": {
  "kernelspec": {
   "display_name": "pth",
   "language": "python",
   "name": "python3"
  },
  "language_info": {
   "codemirror_mode": {
    "name": "ipython",
    "version": 3
   },
   "file_extension": ".py",
   "mimetype": "text/x-python",
   "name": "python",
   "nbconvert_exporter": "python",
   "pygments_lexer": "ipython3",
   "version": "3.7.11"
  },
  "orig_nbformat": 4
 },
 "nbformat": 4,
 "nbformat_minor": 2
}
