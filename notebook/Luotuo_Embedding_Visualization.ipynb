{
  "cells": [
    {
      "cell_type": "code",
      "execution_count": 1,
      "metadata": {
        "colab": {
          "base_uri": "https://localhost:8080/"
        },
        "id": "41aI2NeWo2IL",
        "outputId": "957fbd11-26b5-45d7-dfa2-94535c05ac19"
      },
      "outputs": [],
      "source": [
        "# Requirements\n",
        "\n",
        "# !pip install transformers\n",
        "# !pip install torch\n",
        "# !pip install scipy"
      ]
    },
    {
      "cell_type": "code",
      "execution_count": 2,
      "metadata": {
        "colab": {
          "base_uri": "https://localhost:8080/",
          "height": 278,
          "referenced_widgets": [
            "40fbdb28d4594bdd8129d028f192fbaa",
            "35c2610633374f80a8268aa5c88c5e75",
            "0780aaa290b14ca4b370e1b1a57f0fec",
            "2cb90013fb344eb0bd32fd43ae5d9915",
            "f3ab8918e7f9436d9c3c8708c67c6830",
            "0d210003f9394473b04bc0c1249c5957",
            "8d173fc99cba41aa8273483a882cad88",
            "f30851e6c8144f3f9e4e81ab584b6f85",
            "4c903d80b70a4aeb988a56d186396e98",
            "4ae017e4e5814162823fab520e2205ed",
            "20fb8025b209481aba5479585c685702",
            "b69c2d035ae24f4893c9cb2b4dcfdc17",
            "c2b2a2f494f04d478cf3c23a26b04a84",
            "93d34cadf31e42138278494d73e38774",
            "382be7411f464469bbc91914f316573c",
            "6ba53ca0f561404fb0033aafb390124d",
            "87e0b6a719aa41afa7587b912d68d2fb",
            "d6ad0a141aa144efbdb32252d0588e78",
            "8625d9c83a3446f9932513dff37b0ea6",
            "1e74442a8fee48a4801cac13a1eb5b4c",
            "06e63ce0ac0a4413a63eaffb93eb5345",
            "9021d7ee2a744521a8dd2e12c4480d3c",
            "4c75b1767e5d4c0495b9d839026bc7db",
            "7351d9ebc39342769e99a18528848c2f",
            "73e41326d6e741b39a2db76542331911",
            "40bf53303ecf4a8bac1ecc7215a04ceb",
            "76bc27def60d4c8daf32ab717c6b416e",
            "8196dd3da30d4250a76ecc1b41e10fb3",
            "94ead8c0621841a9a98a820ced29c507",
            "6f892108c369431bae8c4ddecc1382f4",
            "f379176c61bc4aef8e952dc8d0dd6896",
            "6eeaa1302fa1434c97e355e300dd693a",
            "39c35f68e7eb476e8f741c8d11b4d717",
            "3c32d484996e4da18fa0b8a7f068a8af",
            "26df2eea5090487a8c89ea748d61814c",
            "22b6986baa594c7dad631cbb4525fb89",
            "32ae64d4897048da8815420eee10512d",
            "30a313abd90544f29454a16cd87876e0",
            "c6140a270ecb457495db989a6cae4329",
            "0040ca6f43fd441ea237a34d58c21148",
            "699844cb549c4336939f420f05f9fbcb",
            "2b12f1720f4b48748503409c229e1cf9",
            "2152d066247846578a07a875af69aa3a",
            "f94f0d652f174d74bee965692b602e57",
            "52ac4356cf1243118f87902a3c23205d",
            "fe2f4140cbe14129896edf21097dccd6",
            "82c35e01de114e5d9e43735e6c103001",
            "1a6dc5641a264c2ebc5d934517d4bb5e",
            "aa9851ea874e44ee897fa3f2c9c9c812",
            "656f886366f245e39cbd347252e52ca8",
            "c59c8b45fe444ae2bc0ffc775d215cda",
            "427e965524b34d1189c8aa17eb7736bf",
            "32ce636a81744afe99d39cc6a22de77a",
            "1610cf37a5284811acbb647f94880a2b",
            "5cb15e49f11445068cbc5411c471c313",
            "8026254f4cca420fb970376b99f3ee3e",
            "00db97c485094077bf471f1814ed8450",
            "0e5a3db68cf64130890187a7cfa9ee14",
            "e2714071362c42b4974ac1bfee27f540",
            "24c75fe7823a45c08683304a45935b9c",
            "530047f34ab54affa7a2b213ac085b9a",
            "cb4718ae09ee475c93593ae6819eb40f",
            "303cdcf29634469aba9bcab52affdaed",
            "903d5dfb27dc493abd3854b91adada62",
            "21a09d80489c4c6e91af753575b93593",
            "beaaf6ee094a4f40b5789582a394581f",
            "b82c9d4df6ad47c59e0307cc137ce1be",
            "07c167689ebe41b6877c52b729b24333",
            "ba1de7e829a749cbb0d50126fe658b66",
            "2358135d39124e0c9eb4f231c76d079a",
            "b9ddfcad88544c48a4a9e579fe9c8a47",
            "b49b4ce049634c80b99dfc52480c87db",
            "0b35849e79d947feb9a3353f3b2ef148",
            "9ca553bd2aec4e19a141dd7bc119ef80",
            "9cef6f6ebf7847c48fd756e97d128975",
            "f62da9f4fd20492dbbfe6e340c07f9f8",
            "6c0e3aab7da642c98c89d1b4bf886315"
          ]
        },
        "id": "8UFD-L8ajoOs",
        "outputId": "1b218f76-09cd-4fd5-e63d-491127cc3c78"
      },
      "outputs": [
        {
          "name": "stderr",
          "output_type": "stream",
          "text": [
            "Explicitly passing a `revision` is encouraged when loading a model with custom code to ensure no malicious code has been contributed in a newer revision.\n"
          ]
        }
      ],
      "source": [
        "import torch\n",
        "from scipy.spatial.distance import cosine\n",
        "from transformers import AutoModel, AutoTokenizer\n",
        "from argparse import Namespace\n",
        "# Import our models. The package will take care of downloading the models automatically\n",
        "tokenizer = AutoTokenizer.from_pretrained(\"liusiyi641/bert_distilled_openai_mse_cse_cnews\")\n",
        "model_args = Namespace(do_mlm=None, pooler_type=\"cls\", temp=0.05, mlp_only_train=False, init_embeddings_model=None)\n",
        "model = AutoModel.from_pretrained(\"liusiyi641/bert_distilled_openai_mse_cse_cnews\", trust_remote_code=True, model_args=model_args)\n"
      ]
    },
    {
      "cell_type": "code",
      "execution_count": 3,
      "metadata": {
        "colab": {
          "base_uri": "https://localhost:8080/"
        },
        "id": "zt9fBhHelUoF",
        "outputId": "e3950ff6-ccf8-4d7a-8a1d-450e61624ab5"
      },
      "outputs": [
        {
          "name": "stderr",
          "output_type": "stream",
          "text": [
            "Asking to truncate to max_length but no maximum length is provided and the model has no predefined maximum length. Default to no truncation.\n"
          ]
        }
      ],
      "source": [
        "import csv\n",
        "import numpy as np\n",
        "def get_evalCSV():\n",
        "    text_left = []\n",
        "    text_right = []\n",
        "    with open(\"../data/sentspair.csv\", \"r\") as csv_file:\n",
        "        csv_reader = csv.reader(csv_file)\n",
        "        for row in csv_reader:\n",
        "            text_left.append(row[0])\n",
        "            text_right.append(row[1])\n",
        "    return text_left, text_right\n",
        "\n",
        "text_left, text_right = get_evalCSV()\n",
        "inputs = tokenizer(text_left, padding=True, truncation=True, return_tensors=\"pt\")\n",
        "with torch.no_grad():\n",
        "    embeddings_left = model(**inputs, output_hidden_states=True, return_dict=True, sent_emb=True).pooler_output\n",
        "inputs = tokenizer(text_right, padding=True, truncation=True, return_tensors=\"pt\")\n",
        "with torch.no_grad():\n",
        "    embeddings_right = model(**inputs, output_hidden_states=True, return_dict=True, sent_emb=True).pooler_output\n",
        "    \n",
        "cos_sim_matrix = torch.matmul(embeddings_left, embeddings_right.t())\n",
        "cos_sim_matrix /= torch.matmul(torch.norm(embeddings_left, dim=1, keepdim=True), torch.norm(embeddings_right, dim=1, keepdim=True).t())\n",
        "tensor_cpu = cos_sim_matrix.cpu()"
      ]
    },
    {
      "cell_type": "code",
      "execution_count": 4,
      "metadata": {
        "id": "CIcQiiuYp3s3"
      },
      "outputs": [],
      "source": [
        "# !pip install openai\n",
        "# !pip install openTSNE\n",
        "# !pip install datasets"
      ]
    },
    {
      "cell_type": "code",
      "execution_count": 5,
      "metadata": {
        "colab": {
          "base_uri": "https://localhost:8080/",
          "height": 922
        },
        "id": "VD1QPz_AoNGg",
        "outputId": "17bf788e-ffdd-4eb9-c4a7-b97a7f47fb72"
      },
      "outputs": [
        {
          "name": "stderr",
          "output_type": "stream",
          "text": [
            "Perplexity value 30 is too high. Using perplexity 13.00 instead\n",
            "Perplexity value 30 is too high. Using perplexity 13.00 instead\n"
          ]
        },
        {
          "data": {
            "application/vnd.plotly.v1+json": {
              "config": {
                "plotlyServerURL": "https://plot.ly"
              },
              "data": [
                {
                  "legendgroup": "lines",
                  "marker": {
                    "color": "#000080",
                    "size": [
                      20,
                      20,
                      20,
                      20,
                      20,
                      20,
                      20,
                      20,
                      20,
                      20,
                      20
                    ]
                  },
                  "mode": "markers",
                  "name": "label 1",
                  "showlegend": true,
                  "type": "scatter",
                  "x": [
                    6.027577744330353,
                    4.332947091099581,
                    -1.7881188056972759,
                    3.662266067947708,
                    6.966853112558185,
                    3.684309194933896,
                    7.006188626846303,
                    2.7173639532409943,
                    -2.0644921823781055,
                    5.392828871318506,
                    7.647980296060796
                  ],
                  "y": [
                    -1.834298809660088,
                    -5.470727683459937,
                    2.049297692047515,
                    -4.630414294159891,
                    -2.490735458917864,
                    -0.6230281718910257,
                    -1.2840666435787778,
                    -5.976106230852282,
                    1.9521997255717924,
                    -4.112038521478478,
                    -1.9380202891872276
                  ]
                },
                {
                  "legendgroup": "lines",
                  "marker": {
                    "color": "#00d4ff",
                    "size": [
                      20,
                      20,
                      20,
                      20,
                      20,
                      20
                    ]
                  },
                  "mode": "markers",
                  "name": "label 2",
                  "showlegend": true,
                  "type": "scatter",
                  "x": [
                    -3.5719076473371847,
                    -0.3957584746897625,
                    -1.0946741995462785,
                    -4.043540927361362,
                    -1.0742199701950237,
                    -0.17607220173386146
                  ],
                  "y": [
                    5.98187627228547,
                    6.7145446604833685,
                    5.820673913893514,
                    6.146601312933308,
                    7.282699617095083,
                    5.37757614952641
                  ]
                },
                {
                  "legendgroup": "lines",
                  "marker": {
                    "color": "#ffe600",
                    "size": [
                      20,
                      20,
                      20,
                      20,
                      20,
                      20,
                      20,
                      20
                    ]
                  },
                  "mode": "markers",
                  "name": "label 0",
                  "showlegend": true,
                  "type": "scatter",
                  "x": [
                    -6.35154159987162,
                    -5.40307360852491,
                    -7.423361759282509,
                    -5.34090508341724,
                    -6.419339783245004,
                    -5.9183765003448805,
                    -7.4680624615697315,
                    -5.792698473932293
                  ],
                  "y": [
                    4.687098573427157,
                    2.996431215532442,
                    1.4132736904421785,
                    -0.6610868439232332,
                    3.8043286639347187,
                    2.5610238548412028,
                    0.8657405126916462,
                    -0.2223043622847489
                  ]
                },
                {
                  "legendgroup": "lines",
                  "marker": {
                    "color": "#800000",
                    "size": [
                      20,
                      20,
                      20,
                      20,
                      20,
                      20,
                      20,
                      20,
                      20,
                      20,
                      20,
                      20,
                      20,
                      20,
                      20
                    ]
                  },
                  "mode": "markers",
                  "name": "label 3",
                  "showlegend": true,
                  "type": "scatter",
                  "x": [
                    -2.0153224078844616,
                    1.487879678248268,
                    -0.10495146145069126,
                    5.1511446278153175,
                    1.143758689530417,
                    -0.0552221032690385,
                    2.6046432598100404,
                    -2.016354450322179,
                    2.799912978440822,
                    0.7326212693699222,
                    -0.4647072758131853,
                    4.4809304437364235,
                    0.47649539107110706,
                    0.34073617117104626,
                    2.326263910336903
                  ],
                  "y": [
                    -3.4874864848178375,
                    -5.148172212243479,
                    -7.323642220032521,
                    2.3760558601226207,
                    -3.0790711563180566,
                    -0.26281483397978217,
                    2.22598363530443,
                    -4.037476174864929,
                    0.12238666537837309,
                    -5.032502038443142,
                    -7.033760857359902,
                    2.6330155153849817,
                    -2.905617218181415,
                    -0.244307059970822,
                    2.786870034709229
                  ]
                },
                {
                  "legendgroup": "lines",
                  "line": {
                    "color": "#000080"
                  },
                  "mode": "lines",
                  "showlegend": false,
                  "type": "scatter",
                  "x": [
                    9.647980296060796,
                    7.027577744330353,
                    6.527577744330353,
                    6.027577744330353
                  ],
                  "y": [
                    -8.13333965650299,
                    -8.13333965650299,
                    -1.834298809660088,
                    -1.834298809660088
                  ]
                },
                {
                  "legendgroup": "lines",
                  "line": {
                    "color": "#000080"
                  },
                  "mode": "lines",
                  "showlegend": false,
                  "type": "scatter",
                  "x": [
                    9.647980296060796,
                    5.332947091099581,
                    4.832947091099581,
                    4.332947091099581
                  ],
                  "y": [
                    -12.74586865770118,
                    -12.74586865770118,
                    -5.470727683459937,
                    -5.470727683459937
                  ]
                },
                {
                  "legendgroup": "lines",
                  "line": {
                    "color": "#00d4ff"
                  },
                  "mode": "lines",
                  "showlegend": false,
                  "type": "scatter",
                  "x": [
                    -8.468062461569732,
                    -4.571907647337184,
                    -4.071907647337184,
                    -3.5719076473371847
                  ],
                  "y": [
                    17.23556985008706,
                    17.23556985008706,
                    5.98187627228547,
                    5.98187627228547
                  ]
                },
                {
                  "legendgroup": "lines",
                  "line": {
                    "color": "#ffe600"
                  },
                  "mode": "lines",
                  "showlegend": false,
                  "type": "scatter",
                  "x": [
                    -8.468062461569732,
                    -7.35154159987162,
                    -6.85154159987162,
                    -6.35154159987162
                  ],
                  "y": [
                    8.010511847690676,
                    8.010511847690676,
                    4.687098573427157,
                    4.687098573427157
                  ]
                },
                {
                  "legendgroup": "lines",
                  "line": {
                    "color": "#ffe600"
                  },
                  "mode": "lines",
                  "showlegend": false,
                  "type": "scatter",
                  "x": [
                    -8.468062461569732,
                    -6.40307360852491,
                    -5.90307360852491,
                    -5.40307360852491
                  ],
                  "y": [
                    10.316776348289771,
                    10.316776348289771,
                    2.996431215532442,
                    2.996431215532442
                  ]
                },
                {
                  "legendgroup": "lines",
                  "line": {
                    "color": "#000080"
                  },
                  "mode": "lines",
                  "showlegend": false,
                  "type": "scatter",
                  "x": [
                    -8.468062461569732,
                    -2.788118805697276,
                    -2.288118805697276,
                    -1.7881188056972759
                  ],
                  "y": [
                    19.541834350686152,
                    19.541834350686152,
                    2.049297692047515,
                    2.049297692047515
                  ]
                },
                {
                  "legendgroup": "lines",
                  "line": {
                    "color": "#00d4ff"
                  },
                  "mode": "lines",
                  "showlegend": false,
                  "type": "scatter",
                  "x": [
                    9.647980296060796,
                    0.6042415253102376,
                    0.1042415253102375,
                    -0.3957584746897625
                  ],
                  "y": [
                    19.541834350686152,
                    19.541834350686152,
                    6.7145446604833685,
                    6.7145446604833685
                  ]
                },
                {
                  "legendgroup": "lines",
                  "line": {
                    "color": "#00d4ff"
                  },
                  "mode": "lines",
                  "showlegend": false,
                  "type": "scatter",
                  "x": [
                    9.647980296060796,
                    -0.09467419954627854,
                    -0.5946741995462785,
                    -1.0946741995462785
                  ],
                  "y": [
                    21.848098851285247,
                    21.848098851285247,
                    5.820673913893514,
                    5.820673913893514
                  ]
                },
                {
                  "legendgroup": "lines",
                  "line": {
                    "color": "#800000"
                  },
                  "mode": "lines",
                  "showlegend": false,
                  "type": "scatter",
                  "x": [
                    -8.468062461569732,
                    -3.0153224078844616,
                    -2.5153224078844616,
                    -2.0153224078844616
                  ],
                  "y": [
                    -10.439604157102085,
                    -10.439604157102085,
                    -3.4874864848178375,
                    -3.4874864848178375
                  ]
                },
                {
                  "legendgroup": "lines",
                  "line": {
                    "color": "#000080"
                  },
                  "mode": "lines",
                  "showlegend": false,
                  "type": "scatter",
                  "x": [
                    9.647980296060796,
                    4.662266067947709,
                    4.162266067947709,
                    3.662266067947708
                  ],
                  "y": [
                    -15.052133158300276,
                    -15.052133158300276,
                    -4.630414294159891,
                    -4.630414294159891
                  ]
                },
                {
                  "legendgroup": "lines",
                  "line": {
                    "color": "#000080"
                  },
                  "mode": "lines",
                  "showlegend": false,
                  "type": "scatter",
                  "x": [
                    9.647980296060796,
                    7.966853112558185,
                    7.466853112558185,
                    6.966853112558185
                  ],
                  "y": [
                    -5.827075155903895,
                    -5.827075155903895,
                    -2.490735458917864,
                    -2.490735458917864
                  ]
                },
                {
                  "legendgroup": "lines",
                  "line": {
                    "color": "#ffe600"
                  },
                  "mode": "lines",
                  "showlegend": false,
                  "type": "scatter",
                  "x": [
                    -8.468062461569732,
                    -8.423361759282509,
                    -7.923361759282509,
                    -7.423361759282509
                  ],
                  "y": [
                    1.0917183458933906,
                    1.0917183458933906,
                    1.4132736904421785,
                    1.4132736904421785
                  ]
                },
                {
                  "legendgroup": "lines",
                  "line": {
                    "color": "#ffe600"
                  },
                  "mode": "lines",
                  "showlegend": false,
                  "type": "scatter",
                  "x": [
                    -8.468062461569732,
                    -6.34090508341724,
                    -5.84090508341724,
                    -5.34090508341724
                  ],
                  "y": [
                    -5.827075155903895,
                    -5.827075155903895,
                    -0.6610868439232332,
                    -0.6610868439232332
                  ]
                },
                {
                  "legendgroup": "lines",
                  "line": {
                    "color": "#000080"
                  },
                  "mode": "lines",
                  "showlegend": false,
                  "type": "scatter",
                  "x": [
                    9.647980296060796,
                    4.6843091949338955,
                    4.1843091949338955,
                    3.684309194933896
                  ],
                  "y": [
                    1.0917183458933906,
                    1.0917183458933906,
                    -0.6230281718910257,
                    -0.6230281718910257
                  ]
                },
                {
                  "legendgroup": "lines",
                  "line": {
                    "color": "#800000"
                  },
                  "mode": "lines",
                  "showlegend": false,
                  "type": "scatter",
                  "x": [
                    9.647980296060796,
                    2.4878796782482677,
                    1.987879678248268,
                    1.487879678248268
                  ],
                  "y": [
                    -21.97092666009756,
                    -21.97092666009756,
                    -5.148172212243479,
                    -5.148172212243479
                  ]
                },
                {
                  "legendgroup": "lines",
                  "line": {
                    "color": "#800000"
                  },
                  "mode": "lines",
                  "showlegend": false,
                  "type": "scatter",
                  "x": [
                    -8.468062461569732,
                    -1.1049514614506912,
                    -0.6049514614506912,
                    -0.10495146145069126
                  ],
                  "y": [
                    -21.97092666009756,
                    -21.97092666009756,
                    -7.323642220032521,
                    -7.323642220032521
                  ]
                },
                {
                  "legendgroup": "lines",
                  "line": {
                    "color": "#800000"
                  },
                  "mode": "lines",
                  "showlegend": false,
                  "type": "scatter",
                  "x": [
                    9.647980296060796,
                    6.1511446278153175,
                    5.6511446278153175,
                    5.1511446278153175
                  ],
                  "y": [
                    5.704247347091581,
                    5.704247347091581,
                    2.3760558601226207,
                    2.3760558601226207
                  ]
                },
                {
                  "legendgroup": "lines",
                  "line": {
                    "color": "#800000"
                  },
                  "mode": "lines",
                  "showlegend": false,
                  "type": "scatter",
                  "x": [
                    9.647980296060796,
                    2.143758689530417,
                    1.643758689530417,
                    1.143758689530417
                  ],
                  "y": [
                    -17.35839765889937,
                    -17.35839765889937,
                    -3.0790711563180566,
                    -3.0790711563180566
                  ]
                },
                {
                  "legendgroup": "lines",
                  "line": {
                    "color": "#800000"
                  },
                  "mode": "lines",
                  "showlegend": false,
                  "type": "scatter",
                  "x": [
                    -8.468062461569732,
                    -1.0552221032690385,
                    -0.5552221032690385,
                    -0.0552221032690385
                  ],
                  "y": [
                    -8.13333965650299,
                    -8.13333965650299,
                    -0.26281483397978217,
                    -0.26281483397978217
                  ]
                },
                {
                  "legendgroup": "lines",
                  "line": {
                    "color": "#800000"
                  },
                  "mode": "lines",
                  "showlegend": false,
                  "type": "scatter",
                  "x": [
                    9.647980296060796,
                    3.6046432598100404,
                    3.1046432598100404,
                    2.6046432598100404
                  ],
                  "y": [
                    10.316776348289771,
                    10.316776348289771,
                    2.22598363530443,
                    2.22598363530443
                  ]
                },
                {
                  "legendgroup": "lines",
                  "line": {
                    "color": "#000080"
                  },
                  "mode": "lines",
                  "showlegend": false,
                  "type": "scatter",
                  "x": [
                    9.647980296060796,
                    8.006188626846303,
                    7.506188626846303,
                    7.006188626846303
                  ],
                  "y": [
                    -1.2145461547057046,
                    -1.2145461547057046,
                    -1.2840666435787778,
                    -1.2840666435787778
                  ]
                },
                {
                  "legendgroup": "lines",
                  "line": {
                    "color": "#000080"
                  },
                  "mode": "lines",
                  "showlegend": false,
                  "type": "scatter",
                  "x": [
                    9.647980296060796,
                    3.7173639532409943,
                    3.2173639532409943,
                    2.7173639532409943
                  ],
                  "y": [
                    -19.664662159498466,
                    -19.664662159498466,
                    -5.976106230852282,
                    -5.976106230852282
                  ]
                },
                {
                  "legendgroup": "lines",
                  "line": {
                    "color": "#00d4ff"
                  },
                  "mode": "lines",
                  "showlegend": false,
                  "type": "scatter",
                  "x": [
                    -8.468062461569732,
                    -5.043540927361362,
                    -4.543540927361362,
                    -4.043540927361362
                  ],
                  "y": [
                    14.929305349487962,
                    14.929305349487962,
                    6.146601312933308,
                    6.146601312933308
                  ]
                },
                {
                  "legendgroup": "lines",
                  "line": {
                    "color": "#ffe600"
                  },
                  "mode": "lines",
                  "showlegend": false,
                  "type": "scatter",
                  "x": [
                    -8.468062461569732,
                    -7.419339783245004,
                    -6.919339783245004,
                    -6.419339783245004
                  ],
                  "y": [
                    5.704247347091581,
                    5.704247347091581,
                    3.8043286639347187,
                    3.8043286639347187
                  ]
                },
                {
                  "legendgroup": "lines",
                  "line": {
                    "color": "#ffe600"
                  },
                  "mode": "lines",
                  "showlegend": false,
                  "type": "scatter",
                  "x": [
                    -8.468062461569732,
                    -6.9183765003448805,
                    -6.4183765003448805,
                    -5.9183765003448805
                  ],
                  "y": [
                    3.3979828464924857,
                    3.3979828464924857,
                    2.5610238548412028,
                    2.5610238548412028
                  ]
                },
                {
                  "legendgroup": "lines",
                  "line": {
                    "color": "#000080"
                  },
                  "mode": "lines",
                  "showlegend": false,
                  "type": "scatter",
                  "x": [
                    -8.468062461569732,
                    -3.0644921823781055,
                    -2.5644921823781055,
                    -2.0644921823781055
                  ],
                  "y": [
                    12.623040848888863,
                    12.623040848888863,
                    1.9521997255717924,
                    1.9521997255717924
                  ]
                },
                {
                  "legendgroup": "lines",
                  "line": {
                    "color": "#00d4ff"
                  },
                  "mode": "lines",
                  "showlegend": false,
                  "type": "scatter",
                  "x": [
                    -8.468062461569732,
                    -2.0742199701950237,
                    -1.5742199701950237,
                    -1.0742199701950237
                  ],
                  "y": [
                    21.848098851285247,
                    21.848098851285247,
                    7.282699617095083,
                    7.282699617095083
                  ]
                },
                {
                  "legendgroup": "lines",
                  "line": {
                    "color": "#00d4ff"
                  },
                  "mode": "lines",
                  "showlegend": false,
                  "type": "scatter",
                  "x": [
                    9.647980296060796,
                    0.8239277982661386,
                    0.32392779826613854,
                    -0.17607220173386146
                  ],
                  "y": [
                    17.23556985008706,
                    17.23556985008706,
                    5.37757614952641,
                    5.37757614952641
                  ]
                },
                {
                  "legendgroup": "lines",
                  "line": {
                    "color": "#800000"
                  },
                  "mode": "lines",
                  "showlegend": false,
                  "type": "scatter",
                  "x": [
                    -8.468062461569732,
                    -3.016354450322179,
                    -2.516354450322179,
                    -2.016354450322179
                  ],
                  "y": [
                    -12.74586865770118,
                    -12.74586865770118,
                    -4.037476174864929,
                    -4.037476174864929
                  ]
                },
                {
                  "legendgroup": "lines",
                  "line": {
                    "color": "#000080"
                  },
                  "mode": "lines",
                  "showlegend": false,
                  "type": "scatter",
                  "x": [
                    9.647980296060796,
                    6.392828871318506,
                    5.892828871318506,
                    5.392828871318506
                  ],
                  "y": [
                    -10.439604157102085,
                    -10.439604157102085,
                    -4.112038521478478,
                    -4.112038521478478
                  ]
                },
                {
                  "legendgroup": "lines",
                  "line": {
                    "color": "#000080"
                  },
                  "mode": "lines",
                  "showlegend": false,
                  "type": "scatter",
                  "x": [
                    9.647980296060796,
                    8.647980296060796,
                    8.147980296060796,
                    7.647980296060796
                  ],
                  "y": [
                    -3.5208106553047998,
                    -3.5208106553047998,
                    -1.9380202891872276,
                    -1.9380202891872276
                  ]
                },
                {
                  "legendgroup": "lines",
                  "line": {
                    "color": "#ffe600"
                  },
                  "mode": "lines",
                  "showlegend": false,
                  "type": "scatter",
                  "x": [
                    -8.468062461569732,
                    -8.468062461569732,
                    -7.9680624615697315,
                    -7.4680624615697315
                  ],
                  "y": [
                    -1.2145461547057046,
                    -1.2145461547057046,
                    0.8657405126916462,
                    0.8657405126916462
                  ]
                },
                {
                  "legendgroup": "lines",
                  "line": {
                    "color": "#ffe600"
                  },
                  "mode": "lines",
                  "showlegend": false,
                  "type": "scatter",
                  "x": [
                    -8.468062461569732,
                    -6.792698473932293,
                    -6.292698473932293,
                    -5.792698473932293
                  ],
                  "y": [
                    -3.5208106553047998,
                    -3.5208106553047998,
                    -0.2223043622847489,
                    -0.2223043622847489
                  ]
                },
                {
                  "legendgroup": "lines",
                  "line": {
                    "color": "#800000"
                  },
                  "mode": "lines",
                  "showlegend": false,
                  "type": "scatter",
                  "x": [
                    9.647980296060796,
                    3.799912978440822,
                    3.299912978440822,
                    2.799912978440822
                  ],
                  "y": [
                    3.3979828464924857,
                    3.3979828464924857,
                    0.12238666537837309,
                    0.12238666537837309
                  ]
                },
                {
                  "legendgroup": "lines",
                  "line": {
                    "color": "#800000"
                  },
                  "mode": "lines",
                  "showlegend": false,
                  "type": "scatter",
                  "x": [
                    -8.468062461569732,
                    -0.2673787306300778,
                    0.23262126936992222,
                    0.7326212693699222
                  ],
                  "y": [
                    -17.35839765889937,
                    -17.35839765889937,
                    -5.032502038443142,
                    -5.032502038443142
                  ]
                },
                {
                  "legendgroup": "lines",
                  "line": {
                    "color": "#800000"
                  },
                  "mode": "lines",
                  "showlegend": false,
                  "type": "scatter",
                  "x": [
                    -8.468062461569732,
                    -1.4647072758131854,
                    -0.9647072758131854,
                    -0.4647072758131853
                  ],
                  "y": [
                    -19.664662159498466,
                    -19.664662159498466,
                    -7.033760857359902,
                    -7.033760857359902
                  ]
                },
                {
                  "legendgroup": "lines",
                  "line": {
                    "color": "#800000"
                  },
                  "mode": "lines",
                  "showlegend": false,
                  "type": "scatter",
                  "x": [
                    9.647980296060796,
                    5.4809304437364235,
                    4.9809304437364235,
                    4.4809304437364235
                  ],
                  "y": [
                    8.010511847690676,
                    8.010511847690676,
                    2.6330155153849817,
                    2.6330155153849817
                  ]
                },
                {
                  "legendgroup": "lines",
                  "line": {
                    "color": "#800000"
                  },
                  "mode": "lines",
                  "showlegend": false,
                  "type": "scatter",
                  "x": [
                    -8.468062461569732,
                    -0.523504608928893,
                    -0.023504608928892945,
                    0.47649539107110706
                  ],
                  "y": [
                    -15.052133158300276,
                    -15.052133158300276,
                    -2.905617218181415,
                    -2.905617218181415
                  ]
                },
                {
                  "legendgroup": "lines",
                  "line": {
                    "color": "#800000"
                  },
                  "mode": "lines",
                  "showlegend": false,
                  "type": "scatter",
                  "x": [
                    9.647980296060796,
                    1.3407361711710464,
                    0.8407361711710463,
                    0.34073617117104626
                  ],
                  "y": [
                    12.623040848888863,
                    12.623040848888863,
                    -0.244307059970822,
                    -0.244307059970822
                  ]
                },
                {
                  "legendgroup": "lines",
                  "line": {
                    "color": "#800000"
                  },
                  "mode": "lines",
                  "showlegend": false,
                  "type": "scatter",
                  "x": [
                    9.647980296060796,
                    3.326263910336903,
                    2.826263910336903,
                    2.326263910336903
                  ],
                  "y": [
                    14.929305349487962,
                    14.929305349487962,
                    2.786870034709229,
                    2.786870034709229
                  ]
                }
              ],
              "layout": {
                "annotations": [
                  {
                    "bgcolor": "#e6e6f2",
                    "bordercolor": "#000080",
                    "borderpad": 2,
                    "font": {
                      "color": "black"
                    },
                    "showarrow": false,
                    "text": "《通知》称，禁止任何...烤的依法予以处罚。\n",
                    "x": 9.647980296060796,
                    "xanchor": "left",
                    "xref": "x",
                    "y": -8.13333965650299,
                    "yanchor": "middle",
                    "yref": "y"
                  },
                  {
                    "bgcolor": "#e6e6f2",
                    "bordercolor": "#000080",
                    "borderpad": 2,
                    "font": {
                      "color": "black"
                    },
                    "showarrow": false,
                    "text": "连续多日的降雨，武汉...样性项目的收官调查。",
                    "x": 9.647980296060796,
                    "xanchor": "left",
                    "xref": "x",
                    "y": -12.74586865770118,
                    "yanchor": "middle",
                    "yref": "y"
                  },
                  {
                    "bgcolor": "#e6fbff",
                    "bordercolor": "#00d4ff",
                    "borderpad": 2,
                    "font": {
                      "color": "black"
                    },
                    "showarrow": false,
                    "text": "【环球网快讯】据美国...宣布（这一决定）”。",
                    "x": -8.468062461569732,
                    "xanchor": "right",
                    "xref": "x",
                    "y": 17.23556985008706,
                    "yanchor": "middle",
                    "yref": "y"
                  },
                  {
                    "bgcolor": "#fffde6",
                    "bordercolor": "#ffe600",
                    "borderpad": 2,
                    "font": {
                      "color": "black"
                    },
                    "showarrow": false,
                    "text": "这其中，对话机制“重...双方高度的政治互信。",
                    "x": -8.468062461569732,
                    "xanchor": "right",
                    "xref": "x",
                    "y": 8.010511847690676,
                    "yanchor": "middle",
                    "yref": "y"
                  },
                  {
                    "bgcolor": "#fffde6",
                    "bordercolor": "#ffe600",
                    "borderpad": 2,
                    "font": {
                      "color": "black"
                    },
                    "showarrow": false,
                    "text": "关于新西兰企业在中国...行动以满足这些需求。",
                    "x": -8.468062461569732,
                    "xanchor": "right",
                    "xref": "x",
                    "y": 10.316776348289771,
                    "yanchor": "middle",
                    "yref": "y"
                  },
                  {
                    "bgcolor": "#e6e6f2",
                    "bordercolor": "#000080",
                    "borderpad": 2,
                    "font": {
                      "color": "black"
                    },
                    "showarrow": false,
                    "text": "上海铁路局介绍，在浦...建设取得阶段性进展。",
                    "x": -8.468062461569732,
                    "xanchor": "right",
                    "xref": "x",
                    "y": 19.541834350686152,
                    "yanchor": "middle",
                    "yref": "y"
                  },
                  {
                    "bgcolor": "#e6fbff",
                    "bordercolor": "#00d4ff",
                    "borderpad": 2,
                    "font": {
                      "color": "black"
                    },
                    "showarrow": false,
                    "text": "季后赛首战，主场输给...篮本赛季将宣告终结。",
                    "x": 9.647980296060796,
                    "xanchor": "left",
                    "xref": "x",
                    "y": 19.541834350686152,
                    "yanchor": "middle",
                    "yref": "y"
                  },
                  {
                    "bgcolor": "#e6fbff",
                    "bordercolor": "#00d4ff",
                    "borderpad": 2,
                    "font": {
                      "color": "black"
                    },
                    "showarrow": false,
                    "text": "北京时间2月13日凌...球员的男单最高排名！",
                    "x": 9.647980296060796,
                    "xanchor": "left",
                    "xref": "x",
                    "y": 21.848098851285247,
                    "yanchor": "middle",
                    "yref": "y"
                  },
                  {
                    "bgcolor": "#f2e6e6",
                    "bordercolor": "#800000",
                    "borderpad": 2,
                    "font": {
                      "color": "black"
                    },
                    "showarrow": false,
                    "text": "所有蚁后的卵细胞都携...一些细胞携带W基因。",
                    "x": -8.468062461569732,
                    "xanchor": "right",
                    "xref": "x",
                    "y": -10.439604157102085,
                    "yanchor": "middle",
                    "yref": "y"
                  },
                  {
                    "bgcolor": "#e6e6f2",
                    "bordercolor": "#000080",
                    "borderpad": 2,
                    "font": {
                      "color": "black"
                    },
                    "showarrow": false,
                    "text": "4月9日，有市民发现...马陆纷纷从窝里爬出。",
                    "x": 9.647980296060796,
                    "xanchor": "left",
                    "xref": "x",
                    "y": -15.052133158300276,
                    "yanchor": "middle",
                    "yref": "y"
                  },
                  {
                    "bgcolor": "#e6e6f2",
                    "bordercolor": "#000080",
                    "borderpad": 2,
                    "font": {
                      "color": "black"
                    },
                    "showarrow": false,
                    "text": "对流动的经营性露天烧...劝阻的依法予以处罚。",
                    "x": 9.647980296060796,
                    "xanchor": "left",
                    "xref": "x",
                    "y": -5.827075155903895,
                    "yanchor": "middle",
                    "yref": "y"
                  },
                  {
                    "bgcolor": "#fffde6",
                    "bordercolor": "#ffe600",
                    "borderpad": 2,
                    "font": {
                      "color": "black"
                    },
                    "showarrow": false,
                    "text": "提到红旗汽车，你会首...过慢是重要原因之一。",
                    "x": -8.468062461569732,
                    "xanchor": "right",
                    "xref": "x",
                    "y": 1.0917183458933906,
                    "yanchor": "middle",
                    "yref": "y"
                  },
                  {
                    "bgcolor": "#fffde6",
                    "bordercolor": "#ffe600",
                    "borderpad": 2,
                    "font": {
                      "color": "black"
                    },
                    "showarrow": false,
                    "text": "亚马逊也已经对UPS...需打包的退货选择。”",
                    "x": -8.468062461569732,
                    "xanchor": "right",
                    "xref": "x",
                    "y": -5.827075155903895,
                    "yanchor": "middle",
                    "yref": "y"
                  },
                  {
                    "bgcolor": "#e6e6f2",
                    "bordercolor": "#000080",
                    "borderpad": 2,
                    "font": {
                      "color": "black"
                    },
                    "showarrow": false,
                    "text": "岩烧店的烟味弥漫 隔...长 还会金钟罩铁布衫",
                    "x": 9.647980296060796,
                    "xanchor": "left",
                    "xref": "x",
                    "y": 1.0917183458933906,
                    "yanchor": "middle",
                    "yref": "y"
                  },
                  {
                    "bgcolor": "#f2e6e6",
                    "bordercolor": "#800000",
                    "borderpad": 2,
                    "font": {
                      "color": "black"
                    },
                    "showarrow": false,
                    "text": "沙漠之中怎么会有泥鳅...敌对野牛 在远方决斗",
                    "x": 9.647980296060796,
                    "xanchor": "left",
                    "xref": "x",
                    "y": -21.97092666009756,
                    "yanchor": "middle",
                    "yref": "y"
                  },
                  {
                    "bgcolor": "#f2e6e6",
                    "bordercolor": "#800000",
                    "borderpad": 2,
                    "font": {
                      "color": "black"
                    },
                    "showarrow": false,
                    "text": "梦里面 空气开始冒烟...界 人不爱美天诛地灭",
                    "x": -8.468062461569732,
                    "xanchor": "right",
                    "xref": "x",
                    "y": -21.97092666009756,
                    "yanchor": "middle",
                    "yref": "y"
                  },
                  {
                    "bgcolor": "#f2e6e6",
                    "bordercolor": "#800000",
                    "borderpad": 2,
                    "font": {
                      "color": "black"
                    },
                    "showarrow": false,
                    "text": "皇宫的侍臣和丞相府的...方，获得更好的效果。",
                    "x": 9.647980296060796,
                    "xanchor": "left",
                    "xref": "x",
                    "y": 5.704247347091581,
                    "yanchor": "middle",
                    "yref": "y"
                  },
                  {
                    "bgcolor": "#f2e6e6",
                    "bordercolor": "#800000",
                    "borderpad": 2,
                    "font": {
                      "color": "black"
                    },
                    "showarrow": false,
                    "text": "不必说碧绿的菜畦，光...从后窍喷出一阵烟雾。",
                    "x": 9.647980296060796,
                    "xanchor": "left",
                    "xref": "x",
                    "y": -17.35839765889937,
                    "yanchor": "middle",
                    "yref": "y"
                  },
                  {
                    "bgcolor": "#f2e6e6",
                    "bordercolor": "#800000",
                    "borderpad": 2,
                    "font": {
                      "color": "black"
                    },
                    "showarrow": false,
                    "text": "我说道，“爸爸，你走...他不肯，只好让他去。",
                    "x": -8.468062461569732,
                    "xanchor": "right",
                    "xref": "x",
                    "y": -8.13333965650299,
                    "yanchor": "middle",
                    "yref": "y"
                  },
                  {
                    "bgcolor": "#f2e6e6",
                    "bordercolor": "#800000",
                    "borderpad": 2,
                    "font": {
                      "color": "black"
                    },
                    "showarrow": false,
                    "text": "这本书以前经常被墨大...一直默默自行参悟着。",
                    "x": 9.647980296060796,
                    "xanchor": "left",
                    "xref": "x",
                    "y": 10.316776348289771,
                    "yanchor": "middle",
                    "yref": "y"
                  },
                  {
                    "bgcolor": "#e6e6f2",
                    "bordercolor": "#000080",
                    "borderpad": 2,
                    "font": {
                      "color": "black"
                    },
                    "showarrow": false,
                    "text": "对流动的经营性露天烧...劝阻的依法予以处罚。",
                    "x": 9.647980296060796,
                    "xanchor": "left",
                    "xref": "x",
                    "y": -1.2145461547057046,
                    "yanchor": "middle",
                    "yref": "y"
                  },
                  {
                    "bgcolor": "#e6e6f2",
                    "bordercolor": "#000080",
                    "borderpad": 2,
                    "font": {
                      "color": "black"
                    },
                    "showarrow": false,
                    "text": "清晨的鸟儿在雨中公园...，愿在藏龙岛安家啦！",
                    "x": 9.647980296060796,
                    "xanchor": "left",
                    "xref": "x",
                    "y": -19.664662159498466,
                    "yanchor": "middle",
                    "yref": "y"
                  },
                  {
                    "bgcolor": "#e6fbff",
                    "bordercolor": "#00d4ff",
                    "borderpad": 2,
                    "font": {
                      "color": "black"
                    },
                    "showarrow": false,
                    "text": "此前，拜登曾多次表示...统连任的最明确暗示。",
                    "x": -8.468062461569732,
                    "xanchor": "right",
                    "xref": "x",
                    "y": 14.929305349487962,
                    "yanchor": "middle",
                    "yref": "y"
                  },
                  {
                    "bgcolor": "#fffde6",
                    "bordercolor": "#ffe600",
                    "borderpad": 2,
                    "font": {
                      "color": "black"
                    },
                    "showarrow": false,
                    "text": "深化经贸合作是马克龙...马克龙访华的专机”。",
                    "x": -8.468062461569732,
                    "xanchor": "right",
                    "xref": "x",
                    "y": 5.704247347091581,
                    "yanchor": "middle",
                    "yref": "y"
                  },
                  {
                    "bgcolor": "#fffde6",
                    "bordercolor": "#ffe600",
                    "borderpad": 2,
                    "font": {
                      "color": "black"
                    },
                    "showarrow": false,
                    "text": "“这对新西兰在华企业...第三世界国家发展。”",
                    "x": -8.468062461569732,
                    "xanchor": "right",
                    "xref": "x",
                    "y": 3.3979828464924857,
                    "yanchor": "middle",
                    "yref": "y"
                  },
                  {
                    "bgcolor": "#e6e6f2",
                    "bordercolor": "#000080",
                    "borderpad": 2,
                    "font": {
                      "color": "black"
                    },
                    "showarrow": false,
                    "text": "吴淞口长江隧道是沪苏...封闭内衬盾构法隧道。",
                    "x": -8.468062461569732,
                    "xanchor": "right",
                    "xref": "x",
                    "y": 12.623040848888863,
                    "yanchor": "middle",
                    "yref": "y"
                  },
                  {
                    "bgcolor": "#e6fbff",
                    "bordercolor": "#00d4ff",
                    "borderpad": 2,
                    "font": {
                      "color": "black"
                    },
                    "showarrow": false,
                    "text": "10日晚，山东男篮发...将他作为奇兵来使用。",
                    "x": -8.468062461569732,
                    "xanchor": "right",
                    "xref": "x",
                    "y": 21.848098851285247,
                    "yanchor": "middle",
                    "yref": "y"
                  },
                  {
                    "bgcolor": "#e6fbff",
                    "bordercolor": "#00d4ff",
                    "borderpad": 2,
                    "font": {
                      "color": "black"
                    },
                    "showarrow": false,
                    "text": "第一盘比赛，吴易昺在...场依然输给了吴易昺。",
                    "x": 9.647980296060796,
                    "xanchor": "left",
                    "xref": "x",
                    "y": 17.23556985008706,
                    "yanchor": "middle",
                    "yref": "y"
                  },
                  {
                    "bgcolor": "#f2e6e6",
                    "bordercolor": "#800000",
                    "borderpad": 2,
                    "font": {
                      "color": "black"
                    },
                    "showarrow": false,
                    "text": "美国洛克菲勒大学生物...以建立一个新的蚁群。",
                    "x": -8.468062461569732,
                    "xanchor": "right",
                    "xref": "x",
                    "y": -12.74586865770118,
                    "yanchor": "middle",
                    "yref": "y"
                  },
                  {
                    "bgcolor": "#e6e6f2",
                    "bordercolor": "#000080",
                    "borderpad": 2,
                    "font": {
                      "color": "black"
                    },
                    "showarrow": false,
                    "text": "据悉，在较暖和的日子...这是较为无害的方法；",
                    "x": 9.647980296060796,
                    "xanchor": "left",
                    "xref": "x",
                    "y": -10.439604157102085,
                    "yanchor": "middle",
                    "yref": "y"
                  },
                  {
                    "bgcolor": "#e6e6f2",
                    "bordercolor": "#000080",
                    "borderpad": 2,
                    "font": {
                      "color": "black"
                    },
                    "showarrow": false,
                    "text": "对流动的经营性露天烧...劝阻的依法予以处罚。",
                    "x": 9.647980296060796,
                    "xanchor": "left",
                    "xref": "x",
                    "y": -3.5208106553047998,
                    "yanchor": "middle",
                    "yref": "y"
                  },
                  {
                    "bgcolor": "#fffde6",
                    "bordercolor": "#ffe600",
                    "borderpad": 2,
                    "font": {
                      "color": "black"
                    },
                    "showarrow": false,
                    "text": "实际上，红旗前些年的...车作为运营主力车型。",
                    "x": -8.468062461569732,
                    "xanchor": "right",
                    "xref": "x",
                    "y": -1.2145461547057046,
                    "yanchor": "middle",
                    "yref": "y"
                  },
                  {
                    "bgcolor": "#fffde6",
                    "bordercolor": "#ffe600",
                    "borderpad": 2,
                    "font": {
                      "color": "black"
                    },
                    "showarrow": false,
                    "text": "2020年，随着电子...购物者退货概率更高。",
                    "x": -8.468062461569732,
                    "xanchor": "right",
                    "xref": "x",
                    "y": -3.5208106553047998,
                    "yanchor": "middle",
                    "yref": "y"
                  },
                  {
                    "bgcolor": "#f2e6e6",
                    "bordercolor": "#800000",
                    "borderpad": 2,
                    "font": {
                      "color": "black"
                    },
                    "showarrow": false,
                    "text": "他们儿子我习惯 从小...嵩山 学少林跟武当 ",
                    "x": 9.647980296060796,
                    "xanchor": "left",
                    "xref": "x",
                    "y": 3.3979828464924857,
                    "yanchor": "middle",
                    "yref": "y"
                  },
                  {
                    "bgcolor": "#f2e6e6",
                    "bordercolor": "#800000",
                    "borderpad": 2,
                    "font": {
                      "color": "black"
                    },
                    "showarrow": false,
                    "text": "在一处被废弃的白蚁丘...事都有 包括像猫的狗",
                    "x": -8.468062461569732,
                    "xanchor": "right",
                    "xref": "x",
                    "y": -17.35839765889937,
                    "yanchor": "middle",
                    "yref": "y"
                  },
                  {
                    "bgcolor": "#f2e6e6",
                    "bordercolor": "#800000",
                    "borderpad": 2,
                    "font": {
                      "color": "black"
                    },
                    "showarrow": false,
                    "text": "别气馁 旧观念抛到一...天 新鲜 改变 再见",
                    "x": -8.468062461569732,
                    "xanchor": "right",
                    "xref": "x",
                    "y": -19.664662159498466,
                    "yanchor": "middle",
                    "yref": "y"
                  },
                  {
                    "bgcolor": "#f2e6e6",
                    "bordercolor": "#800000",
                    "borderpad": 2,
                    "font": {
                      "color": "black"
                    },
                    "showarrow": false,
                    "text": "将军向宠，性格和善，...的兴隆就指日可待了。",
                    "x": 9.647980296060796,
                    "xanchor": "left",
                    "xref": "x",
                    "y": 8.010511847690676,
                    "yanchor": "middle",
                    "yref": "y"
                  },
                  {
                    "bgcolor": "#f2e6e6",
                    "bordercolor": "#800000",
                    "borderpad": 2,
                    "font": {
                      "color": "black"
                    },
                    "showarrow": false,
                    "text": "何首乌藤和木莲藤缠络...比桑椹要好得远。 　",
                    "x": -8.468062461569732,
                    "xanchor": "right",
                    "xref": "x",
                    "y": -15.052133158300276,
                    "yanchor": "middle",
                    "yref": "y"
                  },
                  {
                    "bgcolor": "#f2e6e6",
                    "bordercolor": "#800000",
                    "borderpad": 2,
                    "font": {
                      "color": "black"
                    },
                    "showarrow": false,
                    "text": "我看见他戴着黑布小帽...的泪很快地流下来了。",
                    "x": 9.647980296060796,
                    "xanchor": "left",
                    "xref": "x",
                    "y": 12.623040848888863,
                    "yanchor": "middle",
                    "yref": "y"
                  },
                  {
                    "bgcolor": "#f2e6e6",
                    "bordercolor": "#800000",
                    "borderpad": 2,
                    "font": {
                      "color": "black"
                    },
                    "showarrow": false,
                    "text": "此卷秘籍是在暗格内和...长生不死的神仙呢！\n",
                    "x": 9.647980296060796,
                    "xanchor": "left",
                    "xref": "x",
                    "y": 14.929305349487962,
                    "yanchor": "middle",
                    "yref": "y"
                  }
                ],
                "autosize": false,
                "height": 800,
                "template": {
                  "data": {
                    "bar": [
                      {
                        "error_x": {
                          "color": "#2a3f5f"
                        },
                        "error_y": {
                          "color": "#2a3f5f"
                        },
                        "marker": {
                          "line": {
                            "color": "#E5ECF6",
                            "width": 0.5
                          },
                          "pattern": {
                            "fillmode": "overlay",
                            "size": 10,
                            "solidity": 0.2
                          }
                        },
                        "type": "bar"
                      }
                    ],
                    "barpolar": [
                      {
                        "marker": {
                          "line": {
                            "color": "#E5ECF6",
                            "width": 0.5
                          },
                          "pattern": {
                            "fillmode": "overlay",
                            "size": 10,
                            "solidity": 0.2
                          }
                        },
                        "type": "barpolar"
                      }
                    ],
                    "carpet": [
                      {
                        "aaxis": {
                          "endlinecolor": "#2a3f5f",
                          "gridcolor": "white",
                          "linecolor": "white",
                          "minorgridcolor": "white",
                          "startlinecolor": "#2a3f5f"
                        },
                        "baxis": {
                          "endlinecolor": "#2a3f5f",
                          "gridcolor": "white",
                          "linecolor": "white",
                          "minorgridcolor": "white",
                          "startlinecolor": "#2a3f5f"
                        },
                        "type": "carpet"
                      }
                    ],
                    "choropleth": [
                      {
                        "colorbar": {
                          "outlinewidth": 0,
                          "ticks": ""
                        },
                        "type": "choropleth"
                      }
                    ],
                    "contour": [
                      {
                        "colorbar": {
                          "outlinewidth": 0,
                          "ticks": ""
                        },
                        "colorscale": [
                          [
                            0,
                            "#0d0887"
                          ],
                          [
                            0.1111111111111111,
                            "#46039f"
                          ],
                          [
                            0.2222222222222222,
                            "#7201a8"
                          ],
                          [
                            0.3333333333333333,
                            "#9c179e"
                          ],
                          [
                            0.4444444444444444,
                            "#bd3786"
                          ],
                          [
                            0.5555555555555556,
                            "#d8576b"
                          ],
                          [
                            0.6666666666666666,
                            "#ed7953"
                          ],
                          [
                            0.7777777777777778,
                            "#fb9f3a"
                          ],
                          [
                            0.8888888888888888,
                            "#fdca26"
                          ],
                          [
                            1,
                            "#f0f921"
                          ]
                        ],
                        "type": "contour"
                      }
                    ],
                    "contourcarpet": [
                      {
                        "colorbar": {
                          "outlinewidth": 0,
                          "ticks": ""
                        },
                        "type": "contourcarpet"
                      }
                    ],
                    "heatmap": [
                      {
                        "colorbar": {
                          "outlinewidth": 0,
                          "ticks": ""
                        },
                        "colorscale": [
                          [
                            0,
                            "#0d0887"
                          ],
                          [
                            0.1111111111111111,
                            "#46039f"
                          ],
                          [
                            0.2222222222222222,
                            "#7201a8"
                          ],
                          [
                            0.3333333333333333,
                            "#9c179e"
                          ],
                          [
                            0.4444444444444444,
                            "#bd3786"
                          ],
                          [
                            0.5555555555555556,
                            "#d8576b"
                          ],
                          [
                            0.6666666666666666,
                            "#ed7953"
                          ],
                          [
                            0.7777777777777778,
                            "#fb9f3a"
                          ],
                          [
                            0.8888888888888888,
                            "#fdca26"
                          ],
                          [
                            1,
                            "#f0f921"
                          ]
                        ],
                        "type": "heatmap"
                      }
                    ],
                    "heatmapgl": [
                      {
                        "colorbar": {
                          "outlinewidth": 0,
                          "ticks": ""
                        },
                        "colorscale": [
                          [
                            0,
                            "#0d0887"
                          ],
                          [
                            0.1111111111111111,
                            "#46039f"
                          ],
                          [
                            0.2222222222222222,
                            "#7201a8"
                          ],
                          [
                            0.3333333333333333,
                            "#9c179e"
                          ],
                          [
                            0.4444444444444444,
                            "#bd3786"
                          ],
                          [
                            0.5555555555555556,
                            "#d8576b"
                          ],
                          [
                            0.6666666666666666,
                            "#ed7953"
                          ],
                          [
                            0.7777777777777778,
                            "#fb9f3a"
                          ],
                          [
                            0.8888888888888888,
                            "#fdca26"
                          ],
                          [
                            1,
                            "#f0f921"
                          ]
                        ],
                        "type": "heatmapgl"
                      }
                    ],
                    "histogram": [
                      {
                        "marker": {
                          "pattern": {
                            "fillmode": "overlay",
                            "size": 10,
                            "solidity": 0.2
                          }
                        },
                        "type": "histogram"
                      }
                    ],
                    "histogram2d": [
                      {
                        "colorbar": {
                          "outlinewidth": 0,
                          "ticks": ""
                        },
                        "colorscale": [
                          [
                            0,
                            "#0d0887"
                          ],
                          [
                            0.1111111111111111,
                            "#46039f"
                          ],
                          [
                            0.2222222222222222,
                            "#7201a8"
                          ],
                          [
                            0.3333333333333333,
                            "#9c179e"
                          ],
                          [
                            0.4444444444444444,
                            "#bd3786"
                          ],
                          [
                            0.5555555555555556,
                            "#d8576b"
                          ],
                          [
                            0.6666666666666666,
                            "#ed7953"
                          ],
                          [
                            0.7777777777777778,
                            "#fb9f3a"
                          ],
                          [
                            0.8888888888888888,
                            "#fdca26"
                          ],
                          [
                            1,
                            "#f0f921"
                          ]
                        ],
                        "type": "histogram2d"
                      }
                    ],
                    "histogram2dcontour": [
                      {
                        "colorbar": {
                          "outlinewidth": 0,
                          "ticks": ""
                        },
                        "colorscale": [
                          [
                            0,
                            "#0d0887"
                          ],
                          [
                            0.1111111111111111,
                            "#46039f"
                          ],
                          [
                            0.2222222222222222,
                            "#7201a8"
                          ],
                          [
                            0.3333333333333333,
                            "#9c179e"
                          ],
                          [
                            0.4444444444444444,
                            "#bd3786"
                          ],
                          [
                            0.5555555555555556,
                            "#d8576b"
                          ],
                          [
                            0.6666666666666666,
                            "#ed7953"
                          ],
                          [
                            0.7777777777777778,
                            "#fb9f3a"
                          ],
                          [
                            0.8888888888888888,
                            "#fdca26"
                          ],
                          [
                            1,
                            "#f0f921"
                          ]
                        ],
                        "type": "histogram2dcontour"
                      }
                    ],
                    "mesh3d": [
                      {
                        "colorbar": {
                          "outlinewidth": 0,
                          "ticks": ""
                        },
                        "type": "mesh3d"
                      }
                    ],
                    "parcoords": [
                      {
                        "line": {
                          "colorbar": {
                            "outlinewidth": 0,
                            "ticks": ""
                          }
                        },
                        "type": "parcoords"
                      }
                    ],
                    "pie": [
                      {
                        "automargin": true,
                        "type": "pie"
                      }
                    ],
                    "scatter": [
                      {
                        "fillpattern": {
                          "fillmode": "overlay",
                          "size": 10,
                          "solidity": 0.2
                        },
                        "type": "scatter"
                      }
                    ],
                    "scatter3d": [
                      {
                        "line": {
                          "colorbar": {
                            "outlinewidth": 0,
                            "ticks": ""
                          }
                        },
                        "marker": {
                          "colorbar": {
                            "outlinewidth": 0,
                            "ticks": ""
                          }
                        },
                        "type": "scatter3d"
                      }
                    ],
                    "scattercarpet": [
                      {
                        "marker": {
                          "colorbar": {
                            "outlinewidth": 0,
                            "ticks": ""
                          }
                        },
                        "type": "scattercarpet"
                      }
                    ],
                    "scattergeo": [
                      {
                        "marker": {
                          "colorbar": {
                            "outlinewidth": 0,
                            "ticks": ""
                          }
                        },
                        "type": "scattergeo"
                      }
                    ],
                    "scattergl": [
                      {
                        "marker": {
                          "colorbar": {
                            "outlinewidth": 0,
                            "ticks": ""
                          }
                        },
                        "type": "scattergl"
                      }
                    ],
                    "scattermapbox": [
                      {
                        "marker": {
                          "colorbar": {
                            "outlinewidth": 0,
                            "ticks": ""
                          }
                        },
                        "type": "scattermapbox"
                      }
                    ],
                    "scatterpolar": [
                      {
                        "marker": {
                          "colorbar": {
                            "outlinewidth": 0,
                            "ticks": ""
                          }
                        },
                        "type": "scatterpolar"
                      }
                    ],
                    "scatterpolargl": [
                      {
                        "marker": {
                          "colorbar": {
                            "outlinewidth": 0,
                            "ticks": ""
                          }
                        },
                        "type": "scatterpolargl"
                      }
                    ],
                    "scatterternary": [
                      {
                        "marker": {
                          "colorbar": {
                            "outlinewidth": 0,
                            "ticks": ""
                          }
                        },
                        "type": "scatterternary"
                      }
                    ],
                    "surface": [
                      {
                        "colorbar": {
                          "outlinewidth": 0,
                          "ticks": ""
                        },
                        "colorscale": [
                          [
                            0,
                            "#0d0887"
                          ],
                          [
                            0.1111111111111111,
                            "#46039f"
                          ],
                          [
                            0.2222222222222222,
                            "#7201a8"
                          ],
                          [
                            0.3333333333333333,
                            "#9c179e"
                          ],
                          [
                            0.4444444444444444,
                            "#bd3786"
                          ],
                          [
                            0.5555555555555556,
                            "#d8576b"
                          ],
                          [
                            0.6666666666666666,
                            "#ed7953"
                          ],
                          [
                            0.7777777777777778,
                            "#fb9f3a"
                          ],
                          [
                            0.8888888888888888,
                            "#fdca26"
                          ],
                          [
                            1,
                            "#f0f921"
                          ]
                        ],
                        "type": "surface"
                      }
                    ],
                    "table": [
                      {
                        "cells": {
                          "fill": {
                            "color": "#EBF0F8"
                          },
                          "line": {
                            "color": "white"
                          }
                        },
                        "header": {
                          "fill": {
                            "color": "#C8D4E3"
                          },
                          "line": {
                            "color": "white"
                          }
                        },
                        "type": "table"
                      }
                    ]
                  },
                  "layout": {
                    "annotationdefaults": {
                      "arrowcolor": "#2a3f5f",
                      "arrowhead": 0,
                      "arrowwidth": 1
                    },
                    "autotypenumbers": "strict",
                    "coloraxis": {
                      "colorbar": {
                        "outlinewidth": 0,
                        "ticks": ""
                      }
                    },
                    "colorscale": {
                      "diverging": [
                        [
                          0,
                          "#8e0152"
                        ],
                        [
                          0.1,
                          "#c51b7d"
                        ],
                        [
                          0.2,
                          "#de77ae"
                        ],
                        [
                          0.3,
                          "#f1b6da"
                        ],
                        [
                          0.4,
                          "#fde0ef"
                        ],
                        [
                          0.5,
                          "#f7f7f7"
                        ],
                        [
                          0.6,
                          "#e6f5d0"
                        ],
                        [
                          0.7,
                          "#b8e186"
                        ],
                        [
                          0.8,
                          "#7fbc41"
                        ],
                        [
                          0.9,
                          "#4d9221"
                        ],
                        [
                          1,
                          "#276419"
                        ]
                      ],
                      "sequential": [
                        [
                          0,
                          "#0d0887"
                        ],
                        [
                          0.1111111111111111,
                          "#46039f"
                        ],
                        [
                          0.2222222222222222,
                          "#7201a8"
                        ],
                        [
                          0.3333333333333333,
                          "#9c179e"
                        ],
                        [
                          0.4444444444444444,
                          "#bd3786"
                        ],
                        [
                          0.5555555555555556,
                          "#d8576b"
                        ],
                        [
                          0.6666666666666666,
                          "#ed7953"
                        ],
                        [
                          0.7777777777777778,
                          "#fb9f3a"
                        ],
                        [
                          0.8888888888888888,
                          "#fdca26"
                        ],
                        [
                          1,
                          "#f0f921"
                        ]
                      ],
                      "sequentialminus": [
                        [
                          0,
                          "#0d0887"
                        ],
                        [
                          0.1111111111111111,
                          "#46039f"
                        ],
                        [
                          0.2222222222222222,
                          "#7201a8"
                        ],
                        [
                          0.3333333333333333,
                          "#9c179e"
                        ],
                        [
                          0.4444444444444444,
                          "#bd3786"
                        ],
                        [
                          0.5555555555555556,
                          "#d8576b"
                        ],
                        [
                          0.6666666666666666,
                          "#ed7953"
                        ],
                        [
                          0.7777777777777778,
                          "#fb9f3a"
                        ],
                        [
                          0.8888888888888888,
                          "#fdca26"
                        ],
                        [
                          1,
                          "#f0f921"
                        ]
                      ]
                    },
                    "colorway": [
                      "#636efa",
                      "#EF553B",
                      "#00cc96",
                      "#ab63fa",
                      "#FFA15A",
                      "#19d3f3",
                      "#FF6692",
                      "#B6E880",
                      "#FF97FF",
                      "#FECB52"
                    ],
                    "font": {
                      "color": "#2a3f5f"
                    },
                    "geo": {
                      "bgcolor": "white",
                      "lakecolor": "white",
                      "landcolor": "#E5ECF6",
                      "showlakes": true,
                      "showland": true,
                      "subunitcolor": "white"
                    },
                    "hoverlabel": {
                      "align": "left"
                    },
                    "hovermode": "closest",
                    "mapbox": {
                      "style": "light"
                    },
                    "paper_bgcolor": "white",
                    "plot_bgcolor": "#E5ECF6",
                    "polar": {
                      "angularaxis": {
                        "gridcolor": "white",
                        "linecolor": "white",
                        "ticks": ""
                      },
                      "bgcolor": "#E5ECF6",
                      "radialaxis": {
                        "gridcolor": "white",
                        "linecolor": "white",
                        "ticks": ""
                      }
                    },
                    "scene": {
                      "xaxis": {
                        "backgroundcolor": "#E5ECF6",
                        "gridcolor": "white",
                        "gridwidth": 2,
                        "linecolor": "white",
                        "showbackground": true,
                        "ticks": "",
                        "zerolinecolor": "white"
                      },
                      "yaxis": {
                        "backgroundcolor": "#E5ECF6",
                        "gridcolor": "white",
                        "gridwidth": 2,
                        "linecolor": "white",
                        "showbackground": true,
                        "ticks": "",
                        "zerolinecolor": "white"
                      },
                      "zaxis": {
                        "backgroundcolor": "#E5ECF6",
                        "gridcolor": "white",
                        "gridwidth": 2,
                        "linecolor": "white",
                        "showbackground": true,
                        "ticks": "",
                        "zerolinecolor": "white"
                      }
                    },
                    "shapedefaults": {
                      "line": {
                        "color": "#2a3f5f"
                      }
                    },
                    "ternary": {
                      "aaxis": {
                        "gridcolor": "white",
                        "linecolor": "white",
                        "ticks": ""
                      },
                      "baxis": {
                        "gridcolor": "white",
                        "linecolor": "white",
                        "ticks": ""
                      },
                      "bgcolor": "#E5ECF6",
                      "caxis": {
                        "gridcolor": "white",
                        "linecolor": "white",
                        "ticks": ""
                      }
                    },
                    "title": {
                      "x": 0.05
                    },
                    "xaxis": {
                      "automargin": true,
                      "gridcolor": "white",
                      "linecolor": "white",
                      "ticks": "",
                      "title": {
                        "standoff": 15
                      },
                      "zerolinecolor": "white",
                      "zerolinewidth": 2
                    },
                    "yaxis": {
                      "automargin": true,
                      "gridcolor": "white",
                      "linecolor": "white",
                      "ticks": "",
                      "title": {
                        "standoff": 15
                      },
                      "zerolinecolor": "white",
                      "zerolinewidth": 2
                    }
                  }
                },
                "width": 1500,
                "xaxis": {
                  "tickvals": []
                },
                "yaxis": {
                  "tickvals": []
                }
              }
            }
          },
          "metadata": {},
          "output_type": "display_data"
        }
      ],
      "source": [
        "import sys\n",
        "sys.path.append(\"../\")\n",
        "from lib.tsne import TSNE_Plot\n",
        "\n",
        "merged_list = text_left + text_right\n",
        "merged_embed = torch.cat((embeddings_left, embeddings_right), dim=0)\n",
        "\n",
        "# if the data have no labels, you can use the following code to cluster the data\n",
        "tsne_plot = TSNE_Plot(merged_list, merged_embed, n_clusters = 4)\n",
        "tsne_plot.tsne_plot(n_sentence=40)\n",
        "\n",
        "# # if the data have labels, you can use the following code to visualize the data\n",
        "# tsne_plot = TSNE_Plot(merged_list, merged_embed, label=labels)\n",
        "# tsne_plot.tsne_plot(n_sentence=40)"
      ]
    },
    {
      "cell_type": "code",
      "execution_count": 6,
      "metadata": {
        "colab": {
          "base_uri": "https://localhost:8080/",
          "height": 430
        },
        "id": "ZZc_245xmL8L",
        "outputId": "174cb467-318b-410a-d384-1cf25b46feb3"
      },
      "outputs": [
        {
          "data": {
            "application/vnd.plotly.v1+json": {
              "config": {
                "plotlyServerURL": "https://plot.ly"
              },
              "data": [
                {
                  "colorscale": [
                    [
                      0,
                      "rgb(0, 0, 255)"
                    ],
                    [
                      0.1,
                      "rgb(0, 100, 255)"
                    ],
                    [
                      0.2,
                      "rgb(0, 200, 255)"
                    ],
                    [
                      0.3,
                      "rgb(50, 255, 255)"
                    ],
                    [
                      0.4,
                      "rgb(150, 255, 255)"
                    ],
                    [
                      0.5,
                      "rgb(255, 255, 0)"
                    ],
                    [
                      0.6,
                      "rgb(255, 150, 0)"
                    ],
                    [
                      0.7,
                      "rgb(255, 100, 0)"
                    ],
                    [
                      0.8,
                      "rgb(255, 50, 0)"
                    ],
                    [
                      0.9,
                      "rgb(255, 0, 0)"
                    ],
                    [
                      1,
                      "rgb(150, 0, 0)"
                    ]
                  ],
                  "type": "heatmap",
                  "z": [
                    [
                      0.9402701258659363,
                      0.8230257034301758,
                      0.7896936535835266,
                      0.801672101020813,
                      0.7912957072257996,
                      0.8168405890464783,
                      0.8094914555549622,
                      0.7578216791152954,
                      0.7873464226722717,
                      0.878971517086029,
                      0.9402701258659363,
                      0.7820311784744263,
                      0.7616832256317139,
                      0.7559314370155334,
                      0.815292477607727,
                      0.7556930184364319,
                      0.7862251996994019,
                      0.7899966835975647,
                      0.8029202222824097,
                      0.7843510508537292
                    ],
                    [
                      0.8303011059761047,
                      0.9017913937568665,
                      0.7885193824768066,
                      0.8232036232948303,
                      0.8126650452613831,
                      0.8421800136566162,
                      0.824815034866333,
                      0.7893171310424805,
                      0.8227861523628235,
                      0.8940317034721375,
                      0.83030104637146,
                      0.8043220639228821,
                      0.7986685633659363,
                      0.7861656546592712,
                      0.8390504121780396,
                      0.7679895162582397,
                      0.79996657371521,
                      0.8165184259414673,
                      0.8175455331802368,
                      0.803787350654602
                    ],
                    [
                      0.7440529465675354,
                      0.8063372373580933,
                      0.928598165512085,
                      0.8227696418762207,
                      0.8027248382568359,
                      0.7594314813613892,
                      0.8401503562927246,
                      0.7779828310012817,
                      0.7971304655075073,
                      0.7717688679695129,
                      0.7440529465675354,
                      0.774921715259552,
                      0.8105353116989136,
                      0.727636456489563,
                      0.7687298655509949,
                      0.7650989890098572,
                      0.7784775495529175,
                      0.7345436811447144,
                      0.8016400933265686,
                      0.7514157891273499
                    ],
                    [
                      0.8195388913154602,
                      0.8143049478530884,
                      0.8560507893562317,
                      0.9204752445220947,
                      0.8741499185562134,
                      0.8119586706161499,
                      0.8183844089508057,
                      0.7996927499771118,
                      0.8038090467453003,
                      0.8040467500686646,
                      0.8195388913154602,
                      0.8286897540092468,
                      0.805605947971344,
                      0.7521241307258606,
                      0.7569031715393066,
                      0.8023327589035034,
                      0.8421604633331299,
                      0.7732776999473572,
                      0.8071506023406982,
                      0.813473105430603
                    ],
                    [
                      0.7729635834693909,
                      0.790561318397522,
                      0.8317282795906067,
                      0.9063444137573242,
                      0.9394991397857666,
                      0.8043054342269897,
                      0.8064035177230835,
                      0.762748122215271,
                      0.8247854709625244,
                      0.7938557267189026,
                      0.7729636430740356,
                      0.8391072750091553,
                      0.8122807145118713,
                      0.7782667875289917,
                      0.7500367164611816,
                      0.7524216175079346,
                      0.8371239900588989,
                      0.7764714956283569,
                      0.8047958016395569,
                      0.8021696209907532
                    ],
                    [
                      0.7859232425689697,
                      0.8369059562683105,
                      0.7931076884269714,
                      0.8497200608253479,
                      0.7881223559379578,
                      0.9678953886032104,
                      0.8102144598960876,
                      0.7938897013664246,
                      0.7789705395698547,
                      0.8295636773109436,
                      0.7859232425689697,
                      0.8219219446182251,
                      0.7576730847358704,
                      0.780685305595398,
                      0.7909988760948181,
                      0.7514359951019287,
                      0.8111468553543091,
                      0.7820385694503784,
                      0.8476694822311401,
                      0.7960972785949707
                    ],
                    [
                      0.72586989402771,
                      0.7923645377159119,
                      0.7875732779502869,
                      0.7929584980010986,
                      0.7842042446136475,
                      0.7780401110649109,
                      0.8963233828544617,
                      0.8698149919509888,
                      0.7316610813140869,
                      0.7562679648399353,
                      0.7258697748184204,
                      0.7917078733444214,
                      0.7764788866043091,
                      0.7543239593505859,
                      0.7348024249076843,
                      0.7521206140518188,
                      0.7881107330322266,
                      0.7679911255836487,
                      0.7841348052024841,
                      0.7818598747253418
                    ],
                    [
                      0.7470342516899109,
                      0.8072794675827026,
                      0.8445159792900085,
                      0.8304647207260132,
                      0.8051214218139648,
                      0.8101489543914795,
                      0.8810900449752808,
                      0.9095795750617981,
                      0.7791687250137329,
                      0.7500191330909729,
                      0.7470341920852661,
                      0.814162015914917,
                      0.7953559756278992,
                      0.7513563632965088,
                      0.752281665802002,
                      0.7734168767929077,
                      0.7866880893707275,
                      0.7475008368492126,
                      0.8121993541717529,
                      0.8041188716888428
                    ],
                    [
                      0.7855330109596252,
                      0.8450142741203308,
                      0.801215648651123,
                      0.8092120885848999,
                      0.8267745971679688,
                      0.7909137010574341,
                      0.7760556936264038,
                      0.8140342831611633,
                      0.9208647608757019,
                      0.8172816634178162,
                      0.7855328917503357,
                      0.8006910085678101,
                      0.7972978949546814,
                      0.8135176301002502,
                      0.8511303663253784,
                      0.7964023351669312,
                      0.8057528734207153,
                      0.8681032657623291,
                      0.832451343536377,
                      0.8164618015289307
                    ],
                    [
                      0.7801559567451477,
                      0.8856043815612793,
                      0.8023333549499512,
                      0.8248887062072754,
                      0.7983308434486389,
                      0.8341624736785889,
                      0.8151703476905823,
                      0.7892451882362366,
                      0.8513566851615906,
                      0.8801644444465637,
                      0.7801559567451477,
                      0.799284040927887,
                      0.7887573838233948,
                      0.8206157684326172,
                      0.8635059595108032,
                      0.7681068181991577,
                      0.7961321473121643,
                      0.8335654735565186,
                      0.8586897850036621,
                      0.8015612959861755
                    ],
                    [
                      0.9999999403953552,
                      0.8179187178611755,
                      0.7811684608459473,
                      0.8022865056991577,
                      0.7886025905609131,
                      0.779816210269928,
                      0.7872403860092163,
                      0.7725496888160706,
                      0.775477409362793,
                      0.8755748867988586,
                      0.9999999403953552,
                      0.7787609696388245,
                      0.7789628505706787,
                      0.7520272731781006,
                      0.8168897032737732,
                      0.7836387753486633,
                      0.7910599112510681,
                      0.7692739367485046,
                      0.8154678344726562,
                      0.7984763979911804
                    ],
                    [
                      0.7808367609977722,
                      0.8011661767959595,
                      0.8274085521697998,
                      0.8412504196166992,
                      0.8492311835289001,
                      0.7777754664421082,
                      0.759893536567688,
                      0.7639086246490479,
                      0.7841280698776245,
                      0.7958613634109497,
                      0.780836820602417,
                      0.9075186848640442,
                      0.84776771068573,
                      0.7323161363601685,
                      0.7469522356987,
                      0.7702627182006836,
                      0.7943251132965088,
                      0.7682230472564697,
                      0.7878683805465698,
                      0.7531410455703735
                    ],
                    [
                      0.8126955628395081,
                      0.7905369997024536,
                      0.8027682304382324,
                      0.8334856629371643,
                      0.8321638703346252,
                      0.7833042144775391,
                      0.7975755929946899,
                      0.7844100594520569,
                      0.8142099380493164,
                      0.7916334867477417,
                      0.8126956224441528,
                      0.8286510705947876,
                      0.9125588536262512,
                      0.7311321496963501,
                      0.8023074865341187,
                      0.7452887892723083,
                      0.7683871984481812,
                      0.7491083145141602,
                      0.8228655457496643,
                      0.7750617265701294
                    ],
                    [
                      0.8251778483390808,
                      0.7920305728912354,
                      0.7526304721832275,
                      0.816230058670044,
                      0.7791712880134583,
                      0.813877522945404,
                      0.8070691823959351,
                      0.7743281722068787,
                      0.7554171085357666,
                      0.8227533102035522,
                      0.8251778483390808,
                      0.7570575475692749,
                      0.7276782393455505,
                      0.8379186391830444,
                      0.8178911805152893,
                      0.773303210735321,
                      0.7978614568710327,
                      0.8082485198974609,
                      0.8290418982505798,
                      0.826194167137146
                    ],
                    [
                      0.8148025274276733,
                      0.8984544277191162,
                      0.7785012125968933,
                      0.7990893721580505,
                      0.815202534198761,
                      0.8006898760795593,
                      0.803217351436615,
                      0.7880206108093262,
                      0.8512977957725525,
                      0.8483996987342834,
                      0.8148024678230286,
                      0.7621727585792542,
                      0.7656655311584473,
                      0.8198843598365784,
                      0.914858341217041,
                      0.8376152515411377,
                      0.7910763025283813,
                      0.8574481010437012,
                      0.8535187244415283,
                      0.8158880472183228
                    ],
                    [
                      0.7977931499481201,
                      0.8569287061691284,
                      0.8103035688400269,
                      0.8005796670913696,
                      0.7843375205993652,
                      0.7314524054527283,
                      0.7764015197753906,
                      0.758097767829895,
                      0.8015594482421875,
                      0.8123084306716919,
                      0.7977931499481201,
                      0.7527673840522766,
                      0.7672243118286133,
                      0.759578287601471,
                      0.8490694165229797,
                      0.9202265739440918,
                      0.769577145576477,
                      0.7746977806091309,
                      0.8586947917938232,
                      0.8142931461334229
                    ],
                    [
                      0.8611325025558472,
                      0.8045552968978882,
                      0.8501563668251038,
                      0.818321943283081,
                      0.7794135212898254,
                      0.8029013276100159,
                      0.7770732045173645,
                      0.806380569934845,
                      0.7915199398994446,
                      0.818733811378479,
                      0.8611325025558472,
                      0.7715901136398315,
                      0.751854419708252,
                      0.8141171336174011,
                      0.811152458190918,
                      0.7879791855812073,
                      0.9360292553901672,
                      0.8238098621368408,
                      0.8320385217666626,
                      0.8402599096298218
                    ],
                    [
                      0.8251972794532776,
                      0.8657338619232178,
                      0.7793357968330383,
                      0.7845509052276611,
                      0.7971289753913879,
                      0.8132336139678955,
                      0.7798157334327698,
                      0.7959874868392944,
                      0.8334282636642456,
                      0.8690978288650513,
                      0.8251972794532776,
                      0.7932993769645691,
                      0.7347040772438049,
                      0.8321352005004883,
                      0.8831329941749573,
                      0.8549270033836365,
                      0.8336896896362305,
                      0.9265798330307007,
                      0.8680031895637512,
                      0.8436699509620667
                    ],
                    [
                      0.8237079977989197,
                      0.8415058851242065,
                      0.8155010342597961,
                      0.8186625838279724,
                      0.8293846249580383,
                      0.8226284980773926,
                      0.8020105957984924,
                      0.806762158870697,
                      0.8017755746841431,
                      0.8355770111083984,
                      0.8237080574035645,
                      0.7974939346313477,
                      0.811742901802063,
                      0.8382424116134644,
                      0.84088134765625,
                      0.8225141167640686,
                      0.8159950971603394,
                      0.8267958760261536,
                      0.9308940172195435,
                      0.8179320096969604
                    ],
                    [
                      0.7980994582176208,
                      0.8145058751106262,
                      0.8199543356895447,
                      0.8086837530136108,
                      0.8052740693092346,
                      0.7794556617736816,
                      0.8079127669334412,
                      0.8177857398986816,
                      0.8146477341651917,
                      0.8167721629142761,
                      0.7980994582176208,
                      0.7783024311065674,
                      0.7571194171905518,
                      0.8440923094749451,
                      0.8415728807449341,
                      0.8125064969062805,
                      0.8841665983200073,
                      0.8440059423446655,
                      0.8695281744003296,
                      0.930822491645813
                    ]
                  ]
                }
              ],
              "layout": {
                "annotations": [
                  {
                    "font": {
                      "color": "black",
                      "size": 16
                    },
                    "showarrow": false,
                    "text": "Col",
                    "x": -9,
                    "xanchor": "center",
                    "xref": "x",
                    "y": -1,
                    "yanchor": "bottom",
                    "yref": "y"
                  },
                  {
                    "font": {
                      "color": "black",
                      "size": 16
                    },
                    "showarrow": false,
                    "text": "Row",
                    "x": -24,
                    "xanchor": "center",
                    "xref": "x",
                    "y": -1,
                    "yanchor": "bottom",
                    "yref": "y"
                  },
                  {
                    "bgcolor": "#fff0e6",
                    "bordercolor": "rgb(255, 100, 0)",
                    "font": {
                      "color": "black",
                      "size": 14
                    },
                    "showarrow": false,
                    "text": "《通知》称，禁止任何...烤的依法予以处罚。\n",
                    "x": -15,
                    "xanchor": "left",
                    "xref": "x",
                    "xshift": -10,
                    "y": 0,
                    "yanchor": "middle",
                    "yref": "y",
                    "yshift": 0
                  },
                  {
                    "bgcolor": "#fff0e6",
                    "bordercolor": "rgb(255, 100, 0)",
                    "font": {
                      "color": "black",
                      "size": 14
                    },
                    "showarrow": false,
                    "text": "对流动的经营性露天烧...劝阻的依法予以处罚。",
                    "x": -30,
                    "xanchor": "left",
                    "xref": "x",
                    "xshift": -10,
                    "y": 0,
                    "yanchor": "middle",
                    "yref": "y",
                    "yshift": 0
                  },
                  {
                    "bgcolor": "#fff0e6",
                    "bordercolor": "rgb(255, 100, 0)",
                    "font": {
                      "color": "black",
                      "size": 14
                    },
                    "showarrow": false,
                    "text": "【环球网快讯】据美国...宣布（这一决定）”。",
                    "x": -15,
                    "xanchor": "left",
                    "xref": "x",
                    "xshift": -10,
                    "y": 2,
                    "yanchor": "middle",
                    "yref": "y",
                    "yshift": 0
                  },
                  {
                    "bgcolor": "#fff0e6",
                    "bordercolor": "rgb(255, 100, 0)",
                    "font": {
                      "color": "black",
                      "size": 14
                    },
                    "showarrow": false,
                    "text": "此前，拜登曾多次表示...统连任的最明确暗示。",
                    "x": -30,
                    "xanchor": "left",
                    "xref": "x",
                    "xshift": -10,
                    "y": 2,
                    "yanchor": "middle",
                    "yref": "y",
                    "yshift": 0
                  },
                  {
                    "bgcolor": "#fff0e6",
                    "bordercolor": "rgb(255, 100, 0)",
                    "font": {
                      "color": "black",
                      "size": 14
                    },
                    "showarrow": false,
                    "text": "关于新西兰企业在中国...行动以满足这些需求。",
                    "x": -15,
                    "xanchor": "left",
                    "xref": "x",
                    "xshift": -10,
                    "y": 4,
                    "yanchor": "middle",
                    "yref": "y",
                    "yshift": 0
                  },
                  {
                    "bgcolor": "#fff0e6",
                    "bordercolor": "rgb(255, 100, 0)",
                    "font": {
                      "color": "black",
                      "size": 14
                    },
                    "showarrow": false,
                    "text": "“这对新西兰在华企业...第三世界国家发展。”",
                    "x": -30,
                    "xanchor": "left",
                    "xref": "x",
                    "xshift": -10,
                    "y": 4,
                    "yanchor": "middle",
                    "yref": "y",
                    "yshift": 0
                  },
                  {
                    "bgcolor": "#fff5e6",
                    "bordercolor": "rgb(255, 150, 0)",
                    "font": {
                      "color": "black",
                      "size": 14
                    },
                    "showarrow": false,
                    "text": "季后赛首战，主场输给...篮本赛季将宣告终结。",
                    "x": -15,
                    "xanchor": "left",
                    "xref": "x",
                    "xshift": -10,
                    "y": 6,
                    "yanchor": "middle",
                    "yref": "y",
                    "yshift": 0
                  },
                  {
                    "bgcolor": "#fff5e6",
                    "bordercolor": "rgb(255, 150, 0)",
                    "font": {
                      "color": "black",
                      "size": 14
                    },
                    "showarrow": false,
                    "text": "10日晚，山东男篮发...将他作为奇兵来使用。",
                    "x": -30,
                    "xanchor": "left",
                    "xref": "x",
                    "xshift": -10,
                    "y": 6,
                    "yanchor": "middle",
                    "yref": "y",
                    "yshift": 0
                  },
                  {
                    "bgcolor": "#fff0e6",
                    "bordercolor": "rgb(255, 100, 0)",
                    "font": {
                      "color": "black",
                      "size": 14
                    },
                    "showarrow": false,
                    "text": "所有蚁后的卵细胞都携...一些细胞携带W基因。",
                    "x": -15,
                    "xanchor": "left",
                    "xref": "x",
                    "xshift": -10,
                    "y": 8,
                    "yanchor": "middle",
                    "yref": "y",
                    "yshift": 0
                  },
                  {
                    "bgcolor": "#fff0e6",
                    "bordercolor": "rgb(255, 100, 0)",
                    "font": {
                      "color": "black",
                      "size": 14
                    },
                    "showarrow": false,
                    "text": "美国洛克菲勒大学生物...以建立一个新的蚁群。",
                    "x": -30,
                    "xanchor": "left",
                    "xref": "x",
                    "xshift": -10,
                    "y": 8,
                    "yanchor": "middle",
                    "yref": "y",
                    "yshift": 0
                  },
                  {
                    "bgcolor": "#f5e6e6",
                    "bordercolor": "rgb(150, 0, 0)",
                    "font": {
                      "color": "black",
                      "size": 14
                    },
                    "showarrow": false,
                    "text": "对流动的经营性露天烧...劝阻的依法予以处罚。",
                    "x": -15,
                    "xanchor": "left",
                    "xref": "x",
                    "xshift": -10,
                    "y": 10,
                    "yanchor": "middle",
                    "yref": "y",
                    "yshift": 0
                  },
                  {
                    "bgcolor": "#f5e6e6",
                    "bordercolor": "rgb(150, 0, 0)",
                    "font": {
                      "color": "black",
                      "size": 14
                    },
                    "showarrow": false,
                    "text": "对流动的经营性露天烧...劝阻的依法予以处罚。",
                    "x": -30,
                    "xanchor": "left",
                    "xref": "x",
                    "xshift": -10,
                    "y": 10,
                    "yanchor": "middle",
                    "yref": "y",
                    "yshift": 0
                  },
                  {
                    "bgcolor": "#fff5e6",
                    "bordercolor": "rgb(255, 150, 0)",
                    "font": {
                      "color": "black",
                      "size": 14
                    },
                    "showarrow": false,
                    "text": "亚马逊也已经对UPS...需打包的退货选择。”",
                    "x": -15,
                    "xanchor": "left",
                    "xref": "x",
                    "xshift": -10,
                    "y": 12,
                    "yanchor": "middle",
                    "yref": "y",
                    "yshift": 0
                  },
                  {
                    "bgcolor": "#fff5e6",
                    "bordercolor": "rgb(255, 150, 0)",
                    "font": {
                      "color": "black",
                      "size": 14
                    },
                    "showarrow": false,
                    "text": "2020年，随着电子...购物者退货概率更高。",
                    "x": -30,
                    "xanchor": "left",
                    "xref": "x",
                    "xshift": -10,
                    "y": 12,
                    "yanchor": "middle",
                    "yref": "y",
                    "yshift": 0
                  },
                  {
                    "bgcolor": "#fff5e6",
                    "bordercolor": "rgb(255, 150, 0)",
                    "font": {
                      "color": "black",
                      "size": 14
                    },
                    "showarrow": false,
                    "text": "沙漠之中怎么会有泥鳅...敌对野牛 在远方决斗",
                    "x": -15,
                    "xanchor": "left",
                    "xref": "x",
                    "xshift": -10,
                    "y": 14,
                    "yanchor": "middle",
                    "yref": "y",
                    "yshift": 0
                  },
                  {
                    "bgcolor": "#fff5e6",
                    "bordercolor": "rgb(255, 150, 0)",
                    "font": {
                      "color": "black",
                      "size": 14
                    },
                    "showarrow": false,
                    "text": "在一处被废弃的白蚁丘...事都有 包括像猫的狗",
                    "x": -30,
                    "xanchor": "left",
                    "xref": "x",
                    "xshift": -10,
                    "y": 14,
                    "yanchor": "middle",
                    "yref": "y",
                    "yshift": 0
                  },
                  {
                    "bgcolor": "#fff0e6",
                    "bordercolor": "rgb(255, 100, 0)",
                    "font": {
                      "color": "black",
                      "size": 14
                    },
                    "showarrow": false,
                    "text": "皇宫的侍臣和丞相府的...方，获得更好的效果。",
                    "x": -15,
                    "xanchor": "left",
                    "xref": "x",
                    "xshift": -10,
                    "y": 16,
                    "yanchor": "middle",
                    "yref": "y",
                    "yshift": 0
                  },
                  {
                    "bgcolor": "#fff0e6",
                    "bordercolor": "rgb(255, 100, 0)",
                    "font": {
                      "color": "black",
                      "size": 14
                    },
                    "showarrow": false,
                    "text": "将军向宠，性格和善，...的兴隆就指日可待了。",
                    "x": -30,
                    "xanchor": "left",
                    "xref": "x",
                    "xshift": -10,
                    "y": 16,
                    "yanchor": "middle",
                    "yref": "y",
                    "yshift": 0
                  },
                  {
                    "bgcolor": "#fff0e6",
                    "bordercolor": "rgb(255, 100, 0)",
                    "font": {
                      "color": "black",
                      "size": 14
                    },
                    "showarrow": false,
                    "text": "我说道，“爸爸，你走...他不肯，只好让他去。",
                    "x": -15,
                    "xanchor": "left",
                    "xref": "x",
                    "xshift": -10,
                    "y": 18,
                    "yanchor": "middle",
                    "yref": "y",
                    "yshift": 0
                  },
                  {
                    "bgcolor": "#fff0e6",
                    "bordercolor": "rgb(255, 100, 0)",
                    "font": {
                      "color": "black",
                      "size": 14
                    },
                    "showarrow": false,
                    "text": "我看见他戴着黑布小帽...的泪很快地流下来了。",
                    "x": -30,
                    "xanchor": "left",
                    "xref": "x",
                    "xshift": -10,
                    "y": 18,
                    "yanchor": "middle",
                    "yref": "y",
                    "yshift": 0
                  },
                  {
                    "bgcolor": "#f5ffff",
                    "bordercolor": "rgb(150, 255, 255)",
                    "font": {
                      "color": "black",
                      "size": 14
                    },
                    "showarrow": false,
                    "text": "连续多日的降雨，武汉...样性项目的收官调查。",
                    "x": -15,
                    "xanchor": "left",
                    "xref": "x",
                    "xshift": -10,
                    "y": 5,
                    "yanchor": "middle",
                    "yref": "y",
                    "yshift": 0
                  },
                  {
                    "bgcolor": "#f5ffff",
                    "bordercolor": "rgb(150, 255, 255)",
                    "font": {
                      "color": "black",
                      "size": 14
                    },
                    "showarrow": false,
                    "text": "吴淞口长江隧道是沪苏...封闭内衬盾构法隧道。",
                    "x": -30,
                    "xanchor": "left",
                    "xref": "x",
                    "xshift": -10,
                    "y": 5,
                    "yanchor": "middle",
                    "yref": "y",
                    "yshift": 0
                  },
                  {
                    "bgcolor": "#f5ffff",
                    "bordercolor": "rgb(150, 255, 255)",
                    "font": {
                      "color": "black",
                      "size": 14
                    },
                    "showarrow": false,
                    "text": "【环球网快讯】据美国...宣布（这一决定）”。",
                    "x": -15,
                    "xanchor": "left",
                    "xref": "x",
                    "xshift": -10,
                    "y": 3,
                    "yanchor": "middle",
                    "yref": "y",
                    "yshift": 0
                  },
                  {
                    "bgcolor": "#f5ffff",
                    "bordercolor": "rgb(150, 255, 255)",
                    "font": {
                      "color": "black",
                      "size": 14
                    },
                    "showarrow": false,
                    "text": "深化经贸合作是马克龙...马克龙访华的专机”。",
                    "x": -30,
                    "xanchor": "left",
                    "xref": "x",
                    "xshift": -10,
                    "y": 3,
                    "yanchor": "middle",
                    "yref": "y",
                    "yshift": 0
                  },
                  {
                    "bgcolor": "#e6f0ff",
                    "bordercolor": "rgb(0, 100, 255)",
                    "font": {
                      "color": "black",
                      "size": 14
                    },
                    "showarrow": false,
                    "text": "梦里面 空气开始冒烟...界 人不爱美天诛地灭",
                    "x": -15,
                    "xanchor": "left",
                    "xref": "x",
                    "xshift": -10,
                    "y": 9,
                    "yanchor": "middle",
                    "yref": "y",
                    "yshift": 0
                  },
                  {
                    "bgcolor": "#e6f0ff",
                    "bordercolor": "rgb(0, 100, 255)",
                    "font": {
                      "color": "black",
                      "size": 14
                    },
                    "showarrow": false,
                    "text": "据悉，在较暖和的日子...这是较为无害的方法；",
                    "x": -30,
                    "xanchor": "left",
                    "xref": "x",
                    "xshift": -10,
                    "y": 9,
                    "yanchor": "middle",
                    "yref": "y",
                    "yshift": 0
                  },
                  {
                    "bgcolor": "#ebffff",
                    "bordercolor": "rgb(50, 255, 255)",
                    "font": {
                      "color": "black",
                      "size": 14
                    },
                    "showarrow": false,
                    "text": "上海铁路局介绍，在浦...建设取得阶段性进展。",
                    "x": -15,
                    "xanchor": "left",
                    "xref": "x",
                    "xshift": -10,
                    "y": 13,
                    "yanchor": "middle",
                    "yref": "y",
                    "yshift": 0
                  },
                  {
                    "bgcolor": "#ebffff",
                    "bordercolor": "rgb(50, 255, 255)",
                    "font": {
                      "color": "black",
                      "size": 14
                    },
                    "showarrow": false,
                    "text": "他们儿子我习惯 从小...嵩山 学少林跟武当 ",
                    "x": -30,
                    "xanchor": "left",
                    "xref": "x",
                    "xshift": -10,
                    "y": 13,
                    "yanchor": "middle",
                    "yref": "y",
                    "yshift": 0
                  },
                  {
                    "bgcolor": "#e6e6ff",
                    "bordercolor": "rgb(0, 0, 255)",
                    "font": {
                      "color": "black",
                      "size": 14
                    },
                    "showarrow": false,
                    "text": "不必说碧绿的菜畦，光...从后窍喷出一阵烟雾。",
                    "x": -15,
                    "xanchor": "left",
                    "xref": "x",
                    "xshift": -10,
                    "y": 7,
                    "yanchor": "middle",
                    "yref": "y",
                    "yshift": 0
                  },
                  {
                    "bgcolor": "#e6e6ff",
                    "bordercolor": "rgb(0, 0, 255)",
                    "font": {
                      "color": "black",
                      "size": 14
                    },
                    "showarrow": false,
                    "text": "第一盘比赛，吴易昺在...场依然输给了吴易昺。",
                    "x": -30,
                    "xanchor": "left",
                    "xref": "x",
                    "xshift": -10,
                    "y": 7,
                    "yanchor": "middle",
                    "yref": "y",
                    "yshift": 0
                  }
                ],
                "height": 700,
                "margin": {
                  "l": 120
                },
                "shapes": [
                  {
                    "line": {
                      "color": "rgb(255, 100, 0)",
                      "width": 1.5
                    },
                    "type": "line",
                    "x0": -4.5777777777777775,
                    "x1": 0,
                    "xref": "x",
                    "y0": 0,
                    "y1": 0,
                    "yref": "y"
                  },
                  {
                    "line": {
                      "color": "rgb(255, 100, 0)",
                      "width": 1.5
                    },
                    "type": "line",
                    "x0": -4.511111111111111,
                    "x1": 2,
                    "xref": "x",
                    "y0": 2,
                    "y1": 2,
                    "yref": "y"
                  },
                  {
                    "line": {
                      "color": "rgb(255, 100, 0)",
                      "width": 1.5
                    },
                    "type": "line",
                    "x0": -4.5777777777777775,
                    "x1": 4,
                    "xref": "x",
                    "y0": 4,
                    "y1": 4,
                    "yref": "y"
                  },
                  {
                    "line": {
                      "color": "rgb(255, 150, 0)",
                      "width": 1.5
                    },
                    "type": "line",
                    "x0": -4.5777777777777775,
                    "x1": 6,
                    "xref": "x",
                    "y0": 6,
                    "y1": 6,
                    "yref": "y"
                  },
                  {
                    "line": {
                      "color": "rgb(255, 100, 0)",
                      "width": 1.5
                    },
                    "type": "line",
                    "x0": -4.6,
                    "x1": 8,
                    "xref": "x",
                    "y0": 8,
                    "y1": 8,
                    "yref": "y"
                  },
                  {
                    "line": {
                      "color": "rgb(150, 0, 0)",
                      "width": 1.5
                    },
                    "type": "line",
                    "x0": -4.5777777777777775,
                    "x1": 10,
                    "xref": "x",
                    "y0": 10,
                    "y1": 10,
                    "yref": "y"
                  },
                  {
                    "line": {
                      "color": "rgb(255, 150, 0)",
                      "width": 1.5
                    },
                    "type": "line",
                    "x0": -4.455555555555556,
                    "x1": 12,
                    "xref": "x",
                    "y0": 12,
                    "y1": 12,
                    "yref": "y"
                  },
                  {
                    "line": {
                      "color": "rgb(255, 150, 0)",
                      "width": 1.5
                    },
                    "type": "line",
                    "x0": -4.5,
                    "x1": 14,
                    "xref": "x",
                    "y0": 14,
                    "y1": 14,
                    "yref": "y"
                  },
                  {
                    "line": {
                      "color": "rgb(255, 100, 0)",
                      "width": 1.5
                    },
                    "type": "line",
                    "x0": -4.5777777777777775,
                    "x1": 16,
                    "xref": "x",
                    "y0": 16,
                    "y1": 16,
                    "yref": "y"
                  },
                  {
                    "line": {
                      "color": "rgb(255, 100, 0)",
                      "width": 1.5
                    },
                    "type": "line",
                    "x0": -4.511111111111111,
                    "x1": 18,
                    "xref": "x",
                    "y0": 18,
                    "y1": 18,
                    "yref": "y"
                  },
                  {
                    "line": {
                      "color": "rgb(150, 255, 255)",
                      "width": 1.5
                    },
                    "type": "line",
                    "x0": -4.5777777777777775,
                    "x1": 1,
                    "xref": "x",
                    "y0": 5,
                    "y1": 5,
                    "yref": "y"
                  },
                  {
                    "line": {
                      "color": "rgb(150, 255, 255)",
                      "width": 1.5
                    },
                    "type": "line",
                    "x0": -4.511111111111111,
                    "x1": 2,
                    "xref": "x",
                    "y0": 3,
                    "y1": 3,
                    "yref": "y"
                  },
                  {
                    "line": {
                      "color": "rgb(0, 100, 255)",
                      "width": 1.5
                    },
                    "type": "line",
                    "x0": -4.4222222222222225,
                    "x1": 15,
                    "xref": "x",
                    "y0": 9,
                    "y1": 9,
                    "yref": "y"
                  },
                  {
                    "line": {
                      "color": "rgb(50, 255, 255)",
                      "width": 1.5
                    },
                    "type": "line",
                    "x0": -4.5777777777777775,
                    "x1": 5,
                    "xref": "x",
                    "y0": 13,
                    "y1": 13,
                    "yref": "y"
                  },
                  {
                    "line": {
                      "color": "rgb(0, 0, 255)",
                      "width": 1.5
                    },
                    "type": "line",
                    "x0": -4.5777777777777775,
                    "x1": 17,
                    "xref": "x",
                    "y0": 7,
                    "y1": 7,
                    "yref": "y"
                  }
                ],
                "template": {
                  "data": {
                    "bar": [
                      {
                        "error_x": {
                          "color": "#2a3f5f"
                        },
                        "error_y": {
                          "color": "#2a3f5f"
                        },
                        "marker": {
                          "line": {
                            "color": "#E5ECF6",
                            "width": 0.5
                          },
                          "pattern": {
                            "fillmode": "overlay",
                            "size": 10,
                            "solidity": 0.2
                          }
                        },
                        "type": "bar"
                      }
                    ],
                    "barpolar": [
                      {
                        "marker": {
                          "line": {
                            "color": "#E5ECF6",
                            "width": 0.5
                          },
                          "pattern": {
                            "fillmode": "overlay",
                            "size": 10,
                            "solidity": 0.2
                          }
                        },
                        "type": "barpolar"
                      }
                    ],
                    "carpet": [
                      {
                        "aaxis": {
                          "endlinecolor": "#2a3f5f",
                          "gridcolor": "white",
                          "linecolor": "white",
                          "minorgridcolor": "white",
                          "startlinecolor": "#2a3f5f"
                        },
                        "baxis": {
                          "endlinecolor": "#2a3f5f",
                          "gridcolor": "white",
                          "linecolor": "white",
                          "minorgridcolor": "white",
                          "startlinecolor": "#2a3f5f"
                        },
                        "type": "carpet"
                      }
                    ],
                    "choropleth": [
                      {
                        "colorbar": {
                          "outlinewidth": 0,
                          "ticks": ""
                        },
                        "type": "choropleth"
                      }
                    ],
                    "contour": [
                      {
                        "colorbar": {
                          "outlinewidth": 0,
                          "ticks": ""
                        },
                        "colorscale": [
                          [
                            0,
                            "#0d0887"
                          ],
                          [
                            0.1111111111111111,
                            "#46039f"
                          ],
                          [
                            0.2222222222222222,
                            "#7201a8"
                          ],
                          [
                            0.3333333333333333,
                            "#9c179e"
                          ],
                          [
                            0.4444444444444444,
                            "#bd3786"
                          ],
                          [
                            0.5555555555555556,
                            "#d8576b"
                          ],
                          [
                            0.6666666666666666,
                            "#ed7953"
                          ],
                          [
                            0.7777777777777778,
                            "#fb9f3a"
                          ],
                          [
                            0.8888888888888888,
                            "#fdca26"
                          ],
                          [
                            1,
                            "#f0f921"
                          ]
                        ],
                        "type": "contour"
                      }
                    ],
                    "contourcarpet": [
                      {
                        "colorbar": {
                          "outlinewidth": 0,
                          "ticks": ""
                        },
                        "type": "contourcarpet"
                      }
                    ],
                    "heatmap": [
                      {
                        "colorbar": {
                          "outlinewidth": 0,
                          "ticks": ""
                        },
                        "colorscale": [
                          [
                            0,
                            "#0d0887"
                          ],
                          [
                            0.1111111111111111,
                            "#46039f"
                          ],
                          [
                            0.2222222222222222,
                            "#7201a8"
                          ],
                          [
                            0.3333333333333333,
                            "#9c179e"
                          ],
                          [
                            0.4444444444444444,
                            "#bd3786"
                          ],
                          [
                            0.5555555555555556,
                            "#d8576b"
                          ],
                          [
                            0.6666666666666666,
                            "#ed7953"
                          ],
                          [
                            0.7777777777777778,
                            "#fb9f3a"
                          ],
                          [
                            0.8888888888888888,
                            "#fdca26"
                          ],
                          [
                            1,
                            "#f0f921"
                          ]
                        ],
                        "type": "heatmap"
                      }
                    ],
                    "heatmapgl": [
                      {
                        "colorbar": {
                          "outlinewidth": 0,
                          "ticks": ""
                        },
                        "colorscale": [
                          [
                            0,
                            "#0d0887"
                          ],
                          [
                            0.1111111111111111,
                            "#46039f"
                          ],
                          [
                            0.2222222222222222,
                            "#7201a8"
                          ],
                          [
                            0.3333333333333333,
                            "#9c179e"
                          ],
                          [
                            0.4444444444444444,
                            "#bd3786"
                          ],
                          [
                            0.5555555555555556,
                            "#d8576b"
                          ],
                          [
                            0.6666666666666666,
                            "#ed7953"
                          ],
                          [
                            0.7777777777777778,
                            "#fb9f3a"
                          ],
                          [
                            0.8888888888888888,
                            "#fdca26"
                          ],
                          [
                            1,
                            "#f0f921"
                          ]
                        ],
                        "type": "heatmapgl"
                      }
                    ],
                    "histogram": [
                      {
                        "marker": {
                          "pattern": {
                            "fillmode": "overlay",
                            "size": 10,
                            "solidity": 0.2
                          }
                        },
                        "type": "histogram"
                      }
                    ],
                    "histogram2d": [
                      {
                        "colorbar": {
                          "outlinewidth": 0,
                          "ticks": ""
                        },
                        "colorscale": [
                          [
                            0,
                            "#0d0887"
                          ],
                          [
                            0.1111111111111111,
                            "#46039f"
                          ],
                          [
                            0.2222222222222222,
                            "#7201a8"
                          ],
                          [
                            0.3333333333333333,
                            "#9c179e"
                          ],
                          [
                            0.4444444444444444,
                            "#bd3786"
                          ],
                          [
                            0.5555555555555556,
                            "#d8576b"
                          ],
                          [
                            0.6666666666666666,
                            "#ed7953"
                          ],
                          [
                            0.7777777777777778,
                            "#fb9f3a"
                          ],
                          [
                            0.8888888888888888,
                            "#fdca26"
                          ],
                          [
                            1,
                            "#f0f921"
                          ]
                        ],
                        "type": "histogram2d"
                      }
                    ],
                    "histogram2dcontour": [
                      {
                        "colorbar": {
                          "outlinewidth": 0,
                          "ticks": ""
                        },
                        "colorscale": [
                          [
                            0,
                            "#0d0887"
                          ],
                          [
                            0.1111111111111111,
                            "#46039f"
                          ],
                          [
                            0.2222222222222222,
                            "#7201a8"
                          ],
                          [
                            0.3333333333333333,
                            "#9c179e"
                          ],
                          [
                            0.4444444444444444,
                            "#bd3786"
                          ],
                          [
                            0.5555555555555556,
                            "#d8576b"
                          ],
                          [
                            0.6666666666666666,
                            "#ed7953"
                          ],
                          [
                            0.7777777777777778,
                            "#fb9f3a"
                          ],
                          [
                            0.8888888888888888,
                            "#fdca26"
                          ],
                          [
                            1,
                            "#f0f921"
                          ]
                        ],
                        "type": "histogram2dcontour"
                      }
                    ],
                    "mesh3d": [
                      {
                        "colorbar": {
                          "outlinewidth": 0,
                          "ticks": ""
                        },
                        "type": "mesh3d"
                      }
                    ],
                    "parcoords": [
                      {
                        "line": {
                          "colorbar": {
                            "outlinewidth": 0,
                            "ticks": ""
                          }
                        },
                        "type": "parcoords"
                      }
                    ],
                    "pie": [
                      {
                        "automargin": true,
                        "type": "pie"
                      }
                    ],
                    "scatter": [
                      {
                        "fillpattern": {
                          "fillmode": "overlay",
                          "size": 10,
                          "solidity": 0.2
                        },
                        "type": "scatter"
                      }
                    ],
                    "scatter3d": [
                      {
                        "line": {
                          "colorbar": {
                            "outlinewidth": 0,
                            "ticks": ""
                          }
                        },
                        "marker": {
                          "colorbar": {
                            "outlinewidth": 0,
                            "ticks": ""
                          }
                        },
                        "type": "scatter3d"
                      }
                    ],
                    "scattercarpet": [
                      {
                        "marker": {
                          "colorbar": {
                            "outlinewidth": 0,
                            "ticks": ""
                          }
                        },
                        "type": "scattercarpet"
                      }
                    ],
                    "scattergeo": [
                      {
                        "marker": {
                          "colorbar": {
                            "outlinewidth": 0,
                            "ticks": ""
                          }
                        },
                        "type": "scattergeo"
                      }
                    ],
                    "scattergl": [
                      {
                        "marker": {
                          "colorbar": {
                            "outlinewidth": 0,
                            "ticks": ""
                          }
                        },
                        "type": "scattergl"
                      }
                    ],
                    "scattermapbox": [
                      {
                        "marker": {
                          "colorbar": {
                            "outlinewidth": 0,
                            "ticks": ""
                          }
                        },
                        "type": "scattermapbox"
                      }
                    ],
                    "scatterpolar": [
                      {
                        "marker": {
                          "colorbar": {
                            "outlinewidth": 0,
                            "ticks": ""
                          }
                        },
                        "type": "scatterpolar"
                      }
                    ],
                    "scatterpolargl": [
                      {
                        "marker": {
                          "colorbar": {
                            "outlinewidth": 0,
                            "ticks": ""
                          }
                        },
                        "type": "scatterpolargl"
                      }
                    ],
                    "scatterternary": [
                      {
                        "marker": {
                          "colorbar": {
                            "outlinewidth": 0,
                            "ticks": ""
                          }
                        },
                        "type": "scatterternary"
                      }
                    ],
                    "surface": [
                      {
                        "colorbar": {
                          "outlinewidth": 0,
                          "ticks": ""
                        },
                        "colorscale": [
                          [
                            0,
                            "#0d0887"
                          ],
                          [
                            0.1111111111111111,
                            "#46039f"
                          ],
                          [
                            0.2222222222222222,
                            "#7201a8"
                          ],
                          [
                            0.3333333333333333,
                            "#9c179e"
                          ],
                          [
                            0.4444444444444444,
                            "#bd3786"
                          ],
                          [
                            0.5555555555555556,
                            "#d8576b"
                          ],
                          [
                            0.6666666666666666,
                            "#ed7953"
                          ],
                          [
                            0.7777777777777778,
                            "#fb9f3a"
                          ],
                          [
                            0.8888888888888888,
                            "#fdca26"
                          ],
                          [
                            1,
                            "#f0f921"
                          ]
                        ],
                        "type": "surface"
                      }
                    ],
                    "table": [
                      {
                        "cells": {
                          "fill": {
                            "color": "#EBF0F8"
                          },
                          "line": {
                            "color": "white"
                          }
                        },
                        "header": {
                          "fill": {
                            "color": "#C8D4E3"
                          },
                          "line": {
                            "color": "white"
                          }
                        },
                        "type": "table"
                      }
                    ]
                  },
                  "layout": {
                    "annotationdefaults": {
                      "arrowcolor": "#2a3f5f",
                      "arrowhead": 0,
                      "arrowwidth": 1
                    },
                    "autotypenumbers": "strict",
                    "coloraxis": {
                      "colorbar": {
                        "outlinewidth": 0,
                        "ticks": ""
                      }
                    },
                    "colorscale": {
                      "diverging": [
                        [
                          0,
                          "#8e0152"
                        ],
                        [
                          0.1,
                          "#c51b7d"
                        ],
                        [
                          0.2,
                          "#de77ae"
                        ],
                        [
                          0.3,
                          "#f1b6da"
                        ],
                        [
                          0.4,
                          "#fde0ef"
                        ],
                        [
                          0.5,
                          "#f7f7f7"
                        ],
                        [
                          0.6,
                          "#e6f5d0"
                        ],
                        [
                          0.7,
                          "#b8e186"
                        ],
                        [
                          0.8,
                          "#7fbc41"
                        ],
                        [
                          0.9,
                          "#4d9221"
                        ],
                        [
                          1,
                          "#276419"
                        ]
                      ],
                      "sequential": [
                        [
                          0,
                          "#0d0887"
                        ],
                        [
                          0.1111111111111111,
                          "#46039f"
                        ],
                        [
                          0.2222222222222222,
                          "#7201a8"
                        ],
                        [
                          0.3333333333333333,
                          "#9c179e"
                        ],
                        [
                          0.4444444444444444,
                          "#bd3786"
                        ],
                        [
                          0.5555555555555556,
                          "#d8576b"
                        ],
                        [
                          0.6666666666666666,
                          "#ed7953"
                        ],
                        [
                          0.7777777777777778,
                          "#fb9f3a"
                        ],
                        [
                          0.8888888888888888,
                          "#fdca26"
                        ],
                        [
                          1,
                          "#f0f921"
                        ]
                      ],
                      "sequentialminus": [
                        [
                          0,
                          "#0d0887"
                        ],
                        [
                          0.1111111111111111,
                          "#46039f"
                        ],
                        [
                          0.2222222222222222,
                          "#7201a8"
                        ],
                        [
                          0.3333333333333333,
                          "#9c179e"
                        ],
                        [
                          0.4444444444444444,
                          "#bd3786"
                        ],
                        [
                          0.5555555555555556,
                          "#d8576b"
                        ],
                        [
                          0.6666666666666666,
                          "#ed7953"
                        ],
                        [
                          0.7777777777777778,
                          "#fb9f3a"
                        ],
                        [
                          0.8888888888888888,
                          "#fdca26"
                        ],
                        [
                          1,
                          "#f0f921"
                        ]
                      ]
                    },
                    "colorway": [
                      "#636efa",
                      "#EF553B",
                      "#00cc96",
                      "#ab63fa",
                      "#FFA15A",
                      "#19d3f3",
                      "#FF6692",
                      "#B6E880",
                      "#FF97FF",
                      "#FECB52"
                    ],
                    "font": {
                      "color": "#2a3f5f"
                    },
                    "geo": {
                      "bgcolor": "white",
                      "lakecolor": "white",
                      "landcolor": "#E5ECF6",
                      "showlakes": true,
                      "showland": true,
                      "subunitcolor": "white"
                    },
                    "hoverlabel": {
                      "align": "left"
                    },
                    "hovermode": "closest",
                    "mapbox": {
                      "style": "light"
                    },
                    "paper_bgcolor": "white",
                    "plot_bgcolor": "#E5ECF6",
                    "polar": {
                      "angularaxis": {
                        "gridcolor": "white",
                        "linecolor": "white",
                        "ticks": ""
                      },
                      "bgcolor": "#E5ECF6",
                      "radialaxis": {
                        "gridcolor": "white",
                        "linecolor": "white",
                        "ticks": ""
                      }
                    },
                    "scene": {
                      "xaxis": {
                        "backgroundcolor": "#E5ECF6",
                        "gridcolor": "white",
                        "gridwidth": 2,
                        "linecolor": "white",
                        "showbackground": true,
                        "ticks": "",
                        "zerolinecolor": "white"
                      },
                      "yaxis": {
                        "backgroundcolor": "#E5ECF6",
                        "gridcolor": "white",
                        "gridwidth": 2,
                        "linecolor": "white",
                        "showbackground": true,
                        "ticks": "",
                        "zerolinecolor": "white"
                      },
                      "zaxis": {
                        "backgroundcolor": "#E5ECF6",
                        "gridcolor": "white",
                        "gridwidth": 2,
                        "linecolor": "white",
                        "showbackground": true,
                        "ticks": "",
                        "zerolinecolor": "white"
                      }
                    },
                    "shapedefaults": {
                      "line": {
                        "color": "#2a3f5f"
                      }
                    },
                    "ternary": {
                      "aaxis": {
                        "gridcolor": "white",
                        "linecolor": "white",
                        "ticks": ""
                      },
                      "baxis": {
                        "gridcolor": "white",
                        "linecolor": "white",
                        "ticks": ""
                      },
                      "bgcolor": "#E5ECF6",
                      "caxis": {
                        "gridcolor": "white",
                        "linecolor": "white",
                        "ticks": ""
                      }
                    },
                    "title": {
                      "x": 0.05
                    },
                    "xaxis": {
                      "automargin": true,
                      "gridcolor": "white",
                      "linecolor": "white",
                      "ticks": "",
                      "title": {
                        "standoff": 15
                      },
                      "zerolinecolor": "white",
                      "zerolinewidth": 2
                    },
                    "yaxis": {
                      "automargin": true,
                      "gridcolor": "white",
                      "linecolor": "white",
                      "ticks": "",
                      "title": {
                        "standoff": 15
                      },
                      "zerolinecolor": "white",
                      "zerolinewidth": 2
                    }
                  }
                },
                "width": 1400,
                "xaxis": {
                  "tickmode": "array",
                  "ticktext": [
                    0,
                    1,
                    2,
                    3,
                    4,
                    5,
                    6,
                    7,
                    8,
                    9,
                    10,
                    11,
                    12,
                    13,
                    14,
                    15,
                    16,
                    17,
                    18,
                    19
                  ],
                  "tickvals": [
                    0,
                    1,
                    2,
                    3,
                    4,
                    5,
                    6,
                    7,
                    8,
                    9,
                    10,
                    11,
                    12,
                    13,
                    14,
                    15,
                    16,
                    17,
                    18,
                    19
                  ],
                  "title": {
                    "text": "X Axis"
                  }
                },
                "yaxis": {
                  "autorange": "reversed",
                  "tickmode": "array",
                  "ticktext": [
                    0,
                    1,
                    2,
                    3,
                    4,
                    5,
                    6,
                    7,
                    8,
                    9,
                    10,
                    11,
                    12,
                    13,
                    14,
                    15,
                    16,
                    17,
                    18,
                    19
                  ],
                  "tickvals": [
                    0,
                    1,
                    2,
                    3,
                    4,
                    5,
                    6,
                    7,
                    8,
                    9,
                    10,
                    11,
                    12,
                    13,
                    14,
                    15,
                    16,
                    17,
                    18,
                    19
                  ],
                  "title": {
                    "text": "Y Axis"
                  }
                }
              }
            }
          },
          "metadata": {},
          "output_type": "display_data"
        }
      ],
      "source": [
        "# plt.imshow(tensor_cpu, cmap='jet', interpolation='nearest')\n",
        "# plt.colorbar()\n",
        "# plt.show()\n",
        "import pandas as pd\n",
        "from lib.heatmap import Heatmap\n",
        "positions = [(i, i) for i in range(0, 20, 2)] + [(1, 5), (2, 3), (15, 9), (5, 13), (17, 7)]\n",
        "df = pd.DataFrame({ \"first\":text_left, \n",
        "                    \"second\":text_right, \n",
        "                    \"first_embed\":[np.array(embeddings_left[i]) for i in range(len(embeddings_left))], \n",
        "                    \"second_embed\":[np.array(embeddings_right[i]) for i in range(len(embeddings_right))]})\n",
        "heatmap = Heatmap(df, positions)\n",
        "heatmap.create_heatmap()"
      ]
    },
    {
      "cell_type": "code",
      "execution_count": null,
      "metadata": {},
      "outputs": [],
      "source": []
    }
  ],
  "metadata": {
    "accelerator": "GPU",
    "colab": {
      "provenance": []
    },
    "gpuClass": "standard",
    "kernelspec": {
      "display_name": "Python 3",
      "name": "python3"
    },
    "language_info": {
      "codemirror_mode": {
        "name": "ipython",
        "version": 3
      },
      "file_extension": ".py",
      "mimetype": "text/x-python",
      "name": "python",
      "nbconvert_exporter": "python",
      "pygments_lexer": "ipython3",
      "version": "3.7.11"
    },
    "widgets": {
      "application/vnd.jupyter.widget-state+json": {
        "0040ca6f43fd441ea237a34d58c21148": {
          "model_module": "@jupyter-widgets/controls",
          "model_module_version": "1.5.0",
          "model_name": "DescriptionStyleModel",
          "state": {
            "_model_module": "@jupyter-widgets/controls",
            "_model_module_version": "1.5.0",
            "_model_name": "DescriptionStyleModel",
            "_view_count": null,
            "_view_module": "@jupyter-widgets/base",
            "_view_module_version": "1.2.0",
            "_view_name": "StyleView",
            "description_width": ""
          }
        },
        "00db97c485094077bf471f1814ed8450": {
          "model_module": "@jupyter-widgets/controls",
          "model_module_version": "1.5.0",
          "model_name": "HTMLModel",
          "state": {
            "_dom_classes": [],
            "_model_module": "@jupyter-widgets/controls",
            "_model_module_version": "1.5.0",
            "_model_name": "HTMLModel",
            "_view_count": null,
            "_view_module": "@jupyter-widgets/controls",
            "_view_module_version": "1.5.0",
            "_view_name": "HTMLView",
            "description": "",
            "description_tooltip": null,
            "layout": "IPY_MODEL_530047f34ab54affa7a2b213ac085b9a",
            "placeholder": "​",
            "style": "IPY_MODEL_cb4718ae09ee475c93593ae6819eb40f",
            "value": "Downloading (…)solve/main/models.py: 100%"
          }
        },
        "06e63ce0ac0a4413a63eaffb93eb5345": {
          "model_module": "@jupyter-widgets/base",
          "model_module_version": "1.2.0",
          "model_name": "LayoutModel",
          "state": {
            "_model_module": "@jupyter-widgets/base",
            "_model_module_version": "1.2.0",
            "_model_name": "LayoutModel",
            "_view_count": null,
            "_view_module": "@jupyter-widgets/base",
            "_view_module_version": "1.2.0",
            "_view_name": "LayoutView",
            "align_content": null,
            "align_items": null,
            "align_self": null,
            "border": null,
            "bottom": null,
            "display": null,
            "flex": null,
            "flex_flow": null,
            "grid_area": null,
            "grid_auto_columns": null,
            "grid_auto_flow": null,
            "grid_auto_rows": null,
            "grid_column": null,
            "grid_gap": null,
            "grid_row": null,
            "grid_template_areas": null,
            "grid_template_columns": null,
            "grid_template_rows": null,
            "height": null,
            "justify_content": null,
            "justify_items": null,
            "left": null,
            "margin": null,
            "max_height": null,
            "max_width": null,
            "min_height": null,
            "min_width": null,
            "object_fit": null,
            "object_position": null,
            "order": null,
            "overflow": null,
            "overflow_x": null,
            "overflow_y": null,
            "padding": null,
            "right": null,
            "top": null,
            "visibility": null,
            "width": null
          }
        },
        "0780aaa290b14ca4b370e1b1a57f0fec": {
          "model_module": "@jupyter-widgets/controls",
          "model_module_version": "1.5.0",
          "model_name": "FloatProgressModel",
          "state": {
            "_dom_classes": [],
            "_model_module": "@jupyter-widgets/controls",
            "_model_module_version": "1.5.0",
            "_model_name": "FloatProgressModel",
            "_view_count": null,
            "_view_module": "@jupyter-widgets/controls",
            "_view_module_version": "1.5.0",
            "_view_name": "ProgressView",
            "bar_style": "success",
            "description": "",
            "description_tooltip": null,
            "layout": "IPY_MODEL_f30851e6c8144f3f9e4e81ab584b6f85",
            "max": 539,
            "min": 0,
            "orientation": "horizontal",
            "style": "IPY_MODEL_4c903d80b70a4aeb988a56d186396e98",
            "value": 539
          }
        },
        "07c167689ebe41b6877c52b729b24333": {
          "model_module": "@jupyter-widgets/controls",
          "model_module_version": "1.5.0",
          "model_name": "HTMLModel",
          "state": {
            "_dom_classes": [],
            "_model_module": "@jupyter-widgets/controls",
            "_model_module_version": "1.5.0",
            "_model_name": "HTMLModel",
            "_view_count": null,
            "_view_module": "@jupyter-widgets/controls",
            "_view_module_version": "1.5.0",
            "_view_name": "HTMLView",
            "description": "",
            "description_tooltip": null,
            "layout": "IPY_MODEL_b49b4ce049634c80b99dfc52480c87db",
            "placeholder": "​",
            "style": "IPY_MODEL_0b35849e79d947feb9a3353f3b2ef148",
            "value": "Downloading pytorch_model.bin: 100%"
          }
        },
        "0b35849e79d947feb9a3353f3b2ef148": {
          "model_module": "@jupyter-widgets/controls",
          "model_module_version": "1.5.0",
          "model_name": "DescriptionStyleModel",
          "state": {
            "_model_module": "@jupyter-widgets/controls",
            "_model_module_version": "1.5.0",
            "_model_name": "DescriptionStyleModel",
            "_view_count": null,
            "_view_module": "@jupyter-widgets/base",
            "_view_module_version": "1.2.0",
            "_view_name": "StyleView",
            "description_width": ""
          }
        },
        "0d210003f9394473b04bc0c1249c5957": {
          "model_module": "@jupyter-widgets/base",
          "model_module_version": "1.2.0",
          "model_name": "LayoutModel",
          "state": {
            "_model_module": "@jupyter-widgets/base",
            "_model_module_version": "1.2.0",
            "_model_name": "LayoutModel",
            "_view_count": null,
            "_view_module": "@jupyter-widgets/base",
            "_view_module_version": "1.2.0",
            "_view_name": "LayoutView",
            "align_content": null,
            "align_items": null,
            "align_self": null,
            "border": null,
            "bottom": null,
            "display": null,
            "flex": null,
            "flex_flow": null,
            "grid_area": null,
            "grid_auto_columns": null,
            "grid_auto_flow": null,
            "grid_auto_rows": null,
            "grid_column": null,
            "grid_gap": null,
            "grid_row": null,
            "grid_template_areas": null,
            "grid_template_columns": null,
            "grid_template_rows": null,
            "height": null,
            "justify_content": null,
            "justify_items": null,
            "left": null,
            "margin": null,
            "max_height": null,
            "max_width": null,
            "min_height": null,
            "min_width": null,
            "object_fit": null,
            "object_position": null,
            "order": null,
            "overflow": null,
            "overflow_x": null,
            "overflow_y": null,
            "padding": null,
            "right": null,
            "top": null,
            "visibility": null,
            "width": null
          }
        },
        "0e5a3db68cf64130890187a7cfa9ee14": {
          "model_module": "@jupyter-widgets/controls",
          "model_module_version": "1.5.0",
          "model_name": "FloatProgressModel",
          "state": {
            "_dom_classes": [],
            "_model_module": "@jupyter-widgets/controls",
            "_model_module_version": "1.5.0",
            "_model_name": "FloatProgressModel",
            "_view_count": null,
            "_view_module": "@jupyter-widgets/controls",
            "_view_module_version": "1.5.0",
            "_view_name": "ProgressView",
            "bar_style": "success",
            "description": "",
            "description_tooltip": null,
            "layout": "IPY_MODEL_303cdcf29634469aba9bcab52affdaed",
            "max": 21133,
            "min": 0,
            "orientation": "horizontal",
            "style": "IPY_MODEL_903d5dfb27dc493abd3854b91adada62",
            "value": 21133
          }
        },
        "1610cf37a5284811acbb647f94880a2b": {
          "model_module": "@jupyter-widgets/base",
          "model_module_version": "1.2.0",
          "model_name": "LayoutModel",
          "state": {
            "_model_module": "@jupyter-widgets/base",
            "_model_module_version": "1.2.0",
            "_model_name": "LayoutModel",
            "_view_count": null,
            "_view_module": "@jupyter-widgets/base",
            "_view_module_version": "1.2.0",
            "_view_name": "LayoutView",
            "align_content": null,
            "align_items": null,
            "align_self": null,
            "border": null,
            "bottom": null,
            "display": null,
            "flex": null,
            "flex_flow": null,
            "grid_area": null,
            "grid_auto_columns": null,
            "grid_auto_flow": null,
            "grid_auto_rows": null,
            "grid_column": null,
            "grid_gap": null,
            "grid_row": null,
            "grid_template_areas": null,
            "grid_template_columns": null,
            "grid_template_rows": null,
            "height": null,
            "justify_content": null,
            "justify_items": null,
            "left": null,
            "margin": null,
            "max_height": null,
            "max_width": null,
            "min_height": null,
            "min_width": null,
            "object_fit": null,
            "object_position": null,
            "order": null,
            "overflow": null,
            "overflow_x": null,
            "overflow_y": null,
            "padding": null,
            "right": null,
            "top": null,
            "visibility": null,
            "width": null
          }
        },
        "1a6dc5641a264c2ebc5d934517d4bb5e": {
          "model_module": "@jupyter-widgets/controls",
          "model_module_version": "1.5.0",
          "model_name": "HTMLModel",
          "state": {
            "_dom_classes": [],
            "_model_module": "@jupyter-widgets/controls",
            "_model_module_version": "1.5.0",
            "_model_name": "HTMLModel",
            "_view_count": null,
            "_view_module": "@jupyter-widgets/controls",
            "_view_module_version": "1.5.0",
            "_view_name": "HTMLView",
            "description": "",
            "description_tooltip": null,
            "layout": "IPY_MODEL_1610cf37a5284811acbb647f94880a2b",
            "placeholder": "​",
            "style": "IPY_MODEL_5cb15e49f11445068cbc5411c471c313",
            "value": " 966/966 [00:00&lt;00:00, 48.5kB/s]"
          }
        },
        "1e74442a8fee48a4801cac13a1eb5b4c": {
          "model_module": "@jupyter-widgets/controls",
          "model_module_version": "1.5.0",
          "model_name": "ProgressStyleModel",
          "state": {
            "_model_module": "@jupyter-widgets/controls",
            "_model_module_version": "1.5.0",
            "_model_name": "ProgressStyleModel",
            "_view_count": null,
            "_view_module": "@jupyter-widgets/base",
            "_view_module_version": "1.2.0",
            "_view_name": "StyleView",
            "bar_color": null,
            "description_width": ""
          }
        },
        "20fb8025b209481aba5479585c685702": {
          "model_module": "@jupyter-widgets/controls",
          "model_module_version": "1.5.0",
          "model_name": "DescriptionStyleModel",
          "state": {
            "_model_module": "@jupyter-widgets/controls",
            "_model_module_version": "1.5.0",
            "_model_name": "DescriptionStyleModel",
            "_view_count": null,
            "_view_module": "@jupyter-widgets/base",
            "_view_module_version": "1.2.0",
            "_view_name": "StyleView",
            "description_width": ""
          }
        },
        "2152d066247846578a07a875af69aa3a": {
          "model_module": "@jupyter-widgets/base",
          "model_module_version": "1.2.0",
          "model_name": "LayoutModel",
          "state": {
            "_model_module": "@jupyter-widgets/base",
            "_model_module_version": "1.2.0",
            "_model_name": "LayoutModel",
            "_view_count": null,
            "_view_module": "@jupyter-widgets/base",
            "_view_module_version": "1.2.0",
            "_view_name": "LayoutView",
            "align_content": null,
            "align_items": null,
            "align_self": null,
            "border": null,
            "bottom": null,
            "display": null,
            "flex": null,
            "flex_flow": null,
            "grid_area": null,
            "grid_auto_columns": null,
            "grid_auto_flow": null,
            "grid_auto_rows": null,
            "grid_column": null,
            "grid_gap": null,
            "grid_row": null,
            "grid_template_areas": null,
            "grid_template_columns": null,
            "grid_template_rows": null,
            "height": null,
            "justify_content": null,
            "justify_items": null,
            "left": null,
            "margin": null,
            "max_height": null,
            "max_width": null,
            "min_height": null,
            "min_width": null,
            "object_fit": null,
            "object_position": null,
            "order": null,
            "overflow": null,
            "overflow_x": null,
            "overflow_y": null,
            "padding": null,
            "right": null,
            "top": null,
            "visibility": null,
            "width": null
          }
        },
        "21a09d80489c4c6e91af753575b93593": {
          "model_module": "@jupyter-widgets/base",
          "model_module_version": "1.2.0",
          "model_name": "LayoutModel",
          "state": {
            "_model_module": "@jupyter-widgets/base",
            "_model_module_version": "1.2.0",
            "_model_name": "LayoutModel",
            "_view_count": null,
            "_view_module": "@jupyter-widgets/base",
            "_view_module_version": "1.2.0",
            "_view_name": "LayoutView",
            "align_content": null,
            "align_items": null,
            "align_self": null,
            "border": null,
            "bottom": null,
            "display": null,
            "flex": null,
            "flex_flow": null,
            "grid_area": null,
            "grid_auto_columns": null,
            "grid_auto_flow": null,
            "grid_auto_rows": null,
            "grid_column": null,
            "grid_gap": null,
            "grid_row": null,
            "grid_template_areas": null,
            "grid_template_columns": null,
            "grid_template_rows": null,
            "height": null,
            "justify_content": null,
            "justify_items": null,
            "left": null,
            "margin": null,
            "max_height": null,
            "max_width": null,
            "min_height": null,
            "min_width": null,
            "object_fit": null,
            "object_position": null,
            "order": null,
            "overflow": null,
            "overflow_x": null,
            "overflow_y": null,
            "padding": null,
            "right": null,
            "top": null,
            "visibility": null,
            "width": null
          }
        },
        "22b6986baa594c7dad631cbb4525fb89": {
          "model_module": "@jupyter-widgets/controls",
          "model_module_version": "1.5.0",
          "model_name": "FloatProgressModel",
          "state": {
            "_dom_classes": [],
            "_model_module": "@jupyter-widgets/controls",
            "_model_module_version": "1.5.0",
            "_model_name": "FloatProgressModel",
            "_view_count": null,
            "_view_module": "@jupyter-widgets/controls",
            "_view_module_version": "1.5.0",
            "_view_name": "ProgressView",
            "bar_style": "success",
            "description": "",
            "description_tooltip": null,
            "layout": "IPY_MODEL_699844cb549c4336939f420f05f9fbcb",
            "max": 125,
            "min": 0,
            "orientation": "horizontal",
            "style": "IPY_MODEL_2b12f1720f4b48748503409c229e1cf9",
            "value": 125
          }
        },
        "2358135d39124e0c9eb4f231c76d079a": {
          "model_module": "@jupyter-widgets/controls",
          "model_module_version": "1.5.0",
          "model_name": "HTMLModel",
          "state": {
            "_dom_classes": [],
            "_model_module": "@jupyter-widgets/controls",
            "_model_module_version": "1.5.0",
            "_model_name": "HTMLModel",
            "_view_count": null,
            "_view_module": "@jupyter-widgets/controls",
            "_view_module_version": "1.5.0",
            "_view_name": "HTMLView",
            "description": "",
            "description_tooltip": null,
            "layout": "IPY_MODEL_f62da9f4fd20492dbbfe6e340c07f9f8",
            "placeholder": "​",
            "style": "IPY_MODEL_6c0e3aab7da642c98c89d1b4bf886315",
            "value": " 414M/414M [00:23&lt;00:00, 19.7MB/s]"
          }
        },
        "24c75fe7823a45c08683304a45935b9c": {
          "model_module": "@jupyter-widgets/base",
          "model_module_version": "1.2.0",
          "model_name": "LayoutModel",
          "state": {
            "_model_module": "@jupyter-widgets/base",
            "_model_module_version": "1.2.0",
            "_model_name": "LayoutModel",
            "_view_count": null,
            "_view_module": "@jupyter-widgets/base",
            "_view_module_version": "1.2.0",
            "_view_name": "LayoutView",
            "align_content": null,
            "align_items": null,
            "align_self": null,
            "border": null,
            "bottom": null,
            "display": null,
            "flex": null,
            "flex_flow": null,
            "grid_area": null,
            "grid_auto_columns": null,
            "grid_auto_flow": null,
            "grid_auto_rows": null,
            "grid_column": null,
            "grid_gap": null,
            "grid_row": null,
            "grid_template_areas": null,
            "grid_template_columns": null,
            "grid_template_rows": null,
            "height": null,
            "justify_content": null,
            "justify_items": null,
            "left": null,
            "margin": null,
            "max_height": null,
            "max_width": null,
            "min_height": null,
            "min_width": null,
            "object_fit": null,
            "object_position": null,
            "order": null,
            "overflow": null,
            "overflow_x": null,
            "overflow_y": null,
            "padding": null,
            "right": null,
            "top": null,
            "visibility": null,
            "width": null
          }
        },
        "26df2eea5090487a8c89ea748d61814c": {
          "model_module": "@jupyter-widgets/controls",
          "model_module_version": "1.5.0",
          "model_name": "HTMLModel",
          "state": {
            "_dom_classes": [],
            "_model_module": "@jupyter-widgets/controls",
            "_model_module_version": "1.5.0",
            "_model_name": "HTMLModel",
            "_view_count": null,
            "_view_module": "@jupyter-widgets/controls",
            "_view_module_version": "1.5.0",
            "_view_name": "HTMLView",
            "description": "",
            "description_tooltip": null,
            "layout": "IPY_MODEL_c6140a270ecb457495db989a6cae4329",
            "placeholder": "​",
            "style": "IPY_MODEL_0040ca6f43fd441ea237a34d58c21148",
            "value": "Downloading (…)cial_tokens_map.json: 100%"
          }
        },
        "2b12f1720f4b48748503409c229e1cf9": {
          "model_module": "@jupyter-widgets/controls",
          "model_module_version": "1.5.0",
          "model_name": "ProgressStyleModel",
          "state": {
            "_model_module": "@jupyter-widgets/controls",
            "_model_module_version": "1.5.0",
            "_model_name": "ProgressStyleModel",
            "_view_count": null,
            "_view_module": "@jupyter-widgets/base",
            "_view_module_version": "1.2.0",
            "_view_name": "StyleView",
            "bar_color": null,
            "description_width": ""
          }
        },
        "2cb90013fb344eb0bd32fd43ae5d9915": {
          "model_module": "@jupyter-widgets/controls",
          "model_module_version": "1.5.0",
          "model_name": "HTMLModel",
          "state": {
            "_dom_classes": [],
            "_model_module": "@jupyter-widgets/controls",
            "_model_module_version": "1.5.0",
            "_model_name": "HTMLModel",
            "_view_count": null,
            "_view_module": "@jupyter-widgets/controls",
            "_view_module_version": "1.5.0",
            "_view_name": "HTMLView",
            "description": "",
            "description_tooltip": null,
            "layout": "IPY_MODEL_4ae017e4e5814162823fab520e2205ed",
            "placeholder": "​",
            "style": "IPY_MODEL_20fb8025b209481aba5479585c685702",
            "value": " 539/539 [00:00&lt;00:00, 20.4kB/s]"
          }
        },
        "303cdcf29634469aba9bcab52affdaed": {
          "model_module": "@jupyter-widgets/base",
          "model_module_version": "1.2.0",
          "model_name": "LayoutModel",
          "state": {
            "_model_module": "@jupyter-widgets/base",
            "_model_module_version": "1.2.0",
            "_model_name": "LayoutModel",
            "_view_count": null,
            "_view_module": "@jupyter-widgets/base",
            "_view_module_version": "1.2.0",
            "_view_name": "LayoutView",
            "align_content": null,
            "align_items": null,
            "align_self": null,
            "border": null,
            "bottom": null,
            "display": null,
            "flex": null,
            "flex_flow": null,
            "grid_area": null,
            "grid_auto_columns": null,
            "grid_auto_flow": null,
            "grid_auto_rows": null,
            "grid_column": null,
            "grid_gap": null,
            "grid_row": null,
            "grid_template_areas": null,
            "grid_template_columns": null,
            "grid_template_rows": null,
            "height": null,
            "justify_content": null,
            "justify_items": null,
            "left": null,
            "margin": null,
            "max_height": null,
            "max_width": null,
            "min_height": null,
            "min_width": null,
            "object_fit": null,
            "object_position": null,
            "order": null,
            "overflow": null,
            "overflow_x": null,
            "overflow_y": null,
            "padding": null,
            "right": null,
            "top": null,
            "visibility": null,
            "width": null
          }
        },
        "30a313abd90544f29454a16cd87876e0": {
          "model_module": "@jupyter-widgets/base",
          "model_module_version": "1.2.0",
          "model_name": "LayoutModel",
          "state": {
            "_model_module": "@jupyter-widgets/base",
            "_model_module_version": "1.2.0",
            "_model_name": "LayoutModel",
            "_view_count": null,
            "_view_module": "@jupyter-widgets/base",
            "_view_module_version": "1.2.0",
            "_view_name": "LayoutView",
            "align_content": null,
            "align_items": null,
            "align_self": null,
            "border": null,
            "bottom": null,
            "display": null,
            "flex": null,
            "flex_flow": null,
            "grid_area": null,
            "grid_auto_columns": null,
            "grid_auto_flow": null,
            "grid_auto_rows": null,
            "grid_column": null,
            "grid_gap": null,
            "grid_row": null,
            "grid_template_areas": null,
            "grid_template_columns": null,
            "grid_template_rows": null,
            "height": null,
            "justify_content": null,
            "justify_items": null,
            "left": null,
            "margin": null,
            "max_height": null,
            "max_width": null,
            "min_height": null,
            "min_width": null,
            "object_fit": null,
            "object_position": null,
            "order": null,
            "overflow": null,
            "overflow_x": null,
            "overflow_y": null,
            "padding": null,
            "right": null,
            "top": null,
            "visibility": null,
            "width": null
          }
        },
        "32ae64d4897048da8815420eee10512d": {
          "model_module": "@jupyter-widgets/controls",
          "model_module_version": "1.5.0",
          "model_name": "HTMLModel",
          "state": {
            "_dom_classes": [],
            "_model_module": "@jupyter-widgets/controls",
            "_model_module_version": "1.5.0",
            "_model_name": "HTMLModel",
            "_view_count": null,
            "_view_module": "@jupyter-widgets/controls",
            "_view_module_version": "1.5.0",
            "_view_name": "HTMLView",
            "description": "",
            "description_tooltip": null,
            "layout": "IPY_MODEL_2152d066247846578a07a875af69aa3a",
            "placeholder": "​",
            "style": "IPY_MODEL_f94f0d652f174d74bee965692b602e57",
            "value": " 125/125 [00:00&lt;00:00, 6.50kB/s]"
          }
        },
        "32ce636a81744afe99d39cc6a22de77a": {
          "model_module": "@jupyter-widgets/controls",
          "model_module_version": "1.5.0",
          "model_name": "ProgressStyleModel",
          "state": {
            "_model_module": "@jupyter-widgets/controls",
            "_model_module_version": "1.5.0",
            "_model_name": "ProgressStyleModel",
            "_view_count": null,
            "_view_module": "@jupyter-widgets/base",
            "_view_module_version": "1.2.0",
            "_view_name": "StyleView",
            "bar_color": null,
            "description_width": ""
          }
        },
        "35c2610633374f80a8268aa5c88c5e75": {
          "model_module": "@jupyter-widgets/controls",
          "model_module_version": "1.5.0",
          "model_name": "HTMLModel",
          "state": {
            "_dom_classes": [],
            "_model_module": "@jupyter-widgets/controls",
            "_model_module_version": "1.5.0",
            "_model_name": "HTMLModel",
            "_view_count": null,
            "_view_module": "@jupyter-widgets/controls",
            "_view_module_version": "1.5.0",
            "_view_name": "HTMLView",
            "description": "",
            "description_tooltip": null,
            "layout": "IPY_MODEL_0d210003f9394473b04bc0c1249c5957",
            "placeholder": "​",
            "style": "IPY_MODEL_8d173fc99cba41aa8273483a882cad88",
            "value": "Downloading (…)okenizer_config.json: 100%"
          }
        },
        "382be7411f464469bbc91914f316573c": {
          "model_module": "@jupyter-widgets/controls",
          "model_module_version": "1.5.0",
          "model_name": "HTMLModel",
          "state": {
            "_dom_classes": [],
            "_model_module": "@jupyter-widgets/controls",
            "_model_module_version": "1.5.0",
            "_model_name": "HTMLModel",
            "_view_count": null,
            "_view_module": "@jupyter-widgets/controls",
            "_view_module_version": "1.5.0",
            "_view_name": "HTMLView",
            "description": "",
            "description_tooltip": null,
            "layout": "IPY_MODEL_06e63ce0ac0a4413a63eaffb93eb5345",
            "placeholder": "​",
            "style": "IPY_MODEL_9021d7ee2a744521a8dd2e12c4480d3c",
            "value": " 110k/110k [00:00&lt;00:00, 262kB/s]"
          }
        },
        "39c35f68e7eb476e8f741c8d11b4d717": {
          "model_module": "@jupyter-widgets/controls",
          "model_module_version": "1.5.0",
          "model_name": "DescriptionStyleModel",
          "state": {
            "_model_module": "@jupyter-widgets/controls",
            "_model_module_version": "1.5.0",
            "_model_name": "DescriptionStyleModel",
            "_view_count": null,
            "_view_module": "@jupyter-widgets/base",
            "_view_module_version": "1.2.0",
            "_view_name": "StyleView",
            "description_width": ""
          }
        },
        "3c32d484996e4da18fa0b8a7f068a8af": {
          "model_module": "@jupyter-widgets/controls",
          "model_module_version": "1.5.0",
          "model_name": "HBoxModel",
          "state": {
            "_dom_classes": [],
            "_model_module": "@jupyter-widgets/controls",
            "_model_module_version": "1.5.0",
            "_model_name": "HBoxModel",
            "_view_count": null,
            "_view_module": "@jupyter-widgets/controls",
            "_view_module_version": "1.5.0",
            "_view_name": "HBoxView",
            "box_style": "",
            "children": [
              "IPY_MODEL_26df2eea5090487a8c89ea748d61814c",
              "IPY_MODEL_22b6986baa594c7dad631cbb4525fb89",
              "IPY_MODEL_32ae64d4897048da8815420eee10512d"
            ],
            "layout": "IPY_MODEL_30a313abd90544f29454a16cd87876e0"
          }
        },
        "40bf53303ecf4a8bac1ecc7215a04ceb": {
          "model_module": "@jupyter-widgets/controls",
          "model_module_version": "1.5.0",
          "model_name": "HTMLModel",
          "state": {
            "_dom_classes": [],
            "_model_module": "@jupyter-widgets/controls",
            "_model_module_version": "1.5.0",
            "_model_name": "HTMLModel",
            "_view_count": null,
            "_view_module": "@jupyter-widgets/controls",
            "_view_module_version": "1.5.0",
            "_view_name": "HTMLView",
            "description": "",
            "description_tooltip": null,
            "layout": "IPY_MODEL_6eeaa1302fa1434c97e355e300dd693a",
            "placeholder": "​",
            "style": "IPY_MODEL_39c35f68e7eb476e8f741c8d11b4d717",
            "value": " 439k/439k [00:00&lt;00:00, 687kB/s]"
          }
        },
        "40fbdb28d4594bdd8129d028f192fbaa": {
          "model_module": "@jupyter-widgets/controls",
          "model_module_version": "1.5.0",
          "model_name": "HBoxModel",
          "state": {
            "_dom_classes": [],
            "_model_module": "@jupyter-widgets/controls",
            "_model_module_version": "1.5.0",
            "_model_name": "HBoxModel",
            "_view_count": null,
            "_view_module": "@jupyter-widgets/controls",
            "_view_module_version": "1.5.0",
            "_view_name": "HBoxView",
            "box_style": "",
            "children": [
              "IPY_MODEL_35c2610633374f80a8268aa5c88c5e75",
              "IPY_MODEL_0780aaa290b14ca4b370e1b1a57f0fec",
              "IPY_MODEL_2cb90013fb344eb0bd32fd43ae5d9915"
            ],
            "layout": "IPY_MODEL_f3ab8918e7f9436d9c3c8708c67c6830"
          }
        },
        "427e965524b34d1189c8aa17eb7736bf": {
          "model_module": "@jupyter-widgets/base",
          "model_module_version": "1.2.0",
          "model_name": "LayoutModel",
          "state": {
            "_model_module": "@jupyter-widgets/base",
            "_model_module_version": "1.2.0",
            "_model_name": "LayoutModel",
            "_view_count": null,
            "_view_module": "@jupyter-widgets/base",
            "_view_module_version": "1.2.0",
            "_view_name": "LayoutView",
            "align_content": null,
            "align_items": null,
            "align_self": null,
            "border": null,
            "bottom": null,
            "display": null,
            "flex": null,
            "flex_flow": null,
            "grid_area": null,
            "grid_auto_columns": null,
            "grid_auto_flow": null,
            "grid_auto_rows": null,
            "grid_column": null,
            "grid_gap": null,
            "grid_row": null,
            "grid_template_areas": null,
            "grid_template_columns": null,
            "grid_template_rows": null,
            "height": null,
            "justify_content": null,
            "justify_items": null,
            "left": null,
            "margin": null,
            "max_height": null,
            "max_width": null,
            "min_height": null,
            "min_width": null,
            "object_fit": null,
            "object_position": null,
            "order": null,
            "overflow": null,
            "overflow_x": null,
            "overflow_y": null,
            "padding": null,
            "right": null,
            "top": null,
            "visibility": null,
            "width": null
          }
        },
        "4ae017e4e5814162823fab520e2205ed": {
          "model_module": "@jupyter-widgets/base",
          "model_module_version": "1.2.0",
          "model_name": "LayoutModel",
          "state": {
            "_model_module": "@jupyter-widgets/base",
            "_model_module_version": "1.2.0",
            "_model_name": "LayoutModel",
            "_view_count": null,
            "_view_module": "@jupyter-widgets/base",
            "_view_module_version": "1.2.0",
            "_view_name": "LayoutView",
            "align_content": null,
            "align_items": null,
            "align_self": null,
            "border": null,
            "bottom": null,
            "display": null,
            "flex": null,
            "flex_flow": null,
            "grid_area": null,
            "grid_auto_columns": null,
            "grid_auto_flow": null,
            "grid_auto_rows": null,
            "grid_column": null,
            "grid_gap": null,
            "grid_row": null,
            "grid_template_areas": null,
            "grid_template_columns": null,
            "grid_template_rows": null,
            "height": null,
            "justify_content": null,
            "justify_items": null,
            "left": null,
            "margin": null,
            "max_height": null,
            "max_width": null,
            "min_height": null,
            "min_width": null,
            "object_fit": null,
            "object_position": null,
            "order": null,
            "overflow": null,
            "overflow_x": null,
            "overflow_y": null,
            "padding": null,
            "right": null,
            "top": null,
            "visibility": null,
            "width": null
          }
        },
        "4c75b1767e5d4c0495b9d839026bc7db": {
          "model_module": "@jupyter-widgets/controls",
          "model_module_version": "1.5.0",
          "model_name": "HBoxModel",
          "state": {
            "_dom_classes": [],
            "_model_module": "@jupyter-widgets/controls",
            "_model_module_version": "1.5.0",
            "_model_name": "HBoxModel",
            "_view_count": null,
            "_view_module": "@jupyter-widgets/controls",
            "_view_module_version": "1.5.0",
            "_view_name": "HBoxView",
            "box_style": "",
            "children": [
              "IPY_MODEL_7351d9ebc39342769e99a18528848c2f",
              "IPY_MODEL_73e41326d6e741b39a2db76542331911",
              "IPY_MODEL_40bf53303ecf4a8bac1ecc7215a04ceb"
            ],
            "layout": "IPY_MODEL_76bc27def60d4c8daf32ab717c6b416e"
          }
        },
        "4c903d80b70a4aeb988a56d186396e98": {
          "model_module": "@jupyter-widgets/controls",
          "model_module_version": "1.5.0",
          "model_name": "ProgressStyleModel",
          "state": {
            "_model_module": "@jupyter-widgets/controls",
            "_model_module_version": "1.5.0",
            "_model_name": "ProgressStyleModel",
            "_view_count": null,
            "_view_module": "@jupyter-widgets/base",
            "_view_module_version": "1.2.0",
            "_view_name": "StyleView",
            "bar_color": null,
            "description_width": ""
          }
        },
        "52ac4356cf1243118f87902a3c23205d": {
          "model_module": "@jupyter-widgets/controls",
          "model_module_version": "1.5.0",
          "model_name": "HBoxModel",
          "state": {
            "_dom_classes": [],
            "_model_module": "@jupyter-widgets/controls",
            "_model_module_version": "1.5.0",
            "_model_name": "HBoxModel",
            "_view_count": null,
            "_view_module": "@jupyter-widgets/controls",
            "_view_module_version": "1.5.0",
            "_view_name": "HBoxView",
            "box_style": "",
            "children": [
              "IPY_MODEL_fe2f4140cbe14129896edf21097dccd6",
              "IPY_MODEL_82c35e01de114e5d9e43735e6c103001",
              "IPY_MODEL_1a6dc5641a264c2ebc5d934517d4bb5e"
            ],
            "layout": "IPY_MODEL_aa9851ea874e44ee897fa3f2c9c9c812"
          }
        },
        "530047f34ab54affa7a2b213ac085b9a": {
          "model_module": "@jupyter-widgets/base",
          "model_module_version": "1.2.0",
          "model_name": "LayoutModel",
          "state": {
            "_model_module": "@jupyter-widgets/base",
            "_model_module_version": "1.2.0",
            "_model_name": "LayoutModel",
            "_view_count": null,
            "_view_module": "@jupyter-widgets/base",
            "_view_module_version": "1.2.0",
            "_view_name": "LayoutView",
            "align_content": null,
            "align_items": null,
            "align_self": null,
            "border": null,
            "bottom": null,
            "display": null,
            "flex": null,
            "flex_flow": null,
            "grid_area": null,
            "grid_auto_columns": null,
            "grid_auto_flow": null,
            "grid_auto_rows": null,
            "grid_column": null,
            "grid_gap": null,
            "grid_row": null,
            "grid_template_areas": null,
            "grid_template_columns": null,
            "grid_template_rows": null,
            "height": null,
            "justify_content": null,
            "justify_items": null,
            "left": null,
            "margin": null,
            "max_height": null,
            "max_width": null,
            "min_height": null,
            "min_width": null,
            "object_fit": null,
            "object_position": null,
            "order": null,
            "overflow": null,
            "overflow_x": null,
            "overflow_y": null,
            "padding": null,
            "right": null,
            "top": null,
            "visibility": null,
            "width": null
          }
        },
        "5cb15e49f11445068cbc5411c471c313": {
          "model_module": "@jupyter-widgets/controls",
          "model_module_version": "1.5.0",
          "model_name": "DescriptionStyleModel",
          "state": {
            "_model_module": "@jupyter-widgets/controls",
            "_model_module_version": "1.5.0",
            "_model_name": "DescriptionStyleModel",
            "_view_count": null,
            "_view_module": "@jupyter-widgets/base",
            "_view_module_version": "1.2.0",
            "_view_name": "StyleView",
            "description_width": ""
          }
        },
        "656f886366f245e39cbd347252e52ca8": {
          "model_module": "@jupyter-widgets/base",
          "model_module_version": "1.2.0",
          "model_name": "LayoutModel",
          "state": {
            "_model_module": "@jupyter-widgets/base",
            "_model_module_version": "1.2.0",
            "_model_name": "LayoutModel",
            "_view_count": null,
            "_view_module": "@jupyter-widgets/base",
            "_view_module_version": "1.2.0",
            "_view_name": "LayoutView",
            "align_content": null,
            "align_items": null,
            "align_self": null,
            "border": null,
            "bottom": null,
            "display": null,
            "flex": null,
            "flex_flow": null,
            "grid_area": null,
            "grid_auto_columns": null,
            "grid_auto_flow": null,
            "grid_auto_rows": null,
            "grid_column": null,
            "grid_gap": null,
            "grid_row": null,
            "grid_template_areas": null,
            "grid_template_columns": null,
            "grid_template_rows": null,
            "height": null,
            "justify_content": null,
            "justify_items": null,
            "left": null,
            "margin": null,
            "max_height": null,
            "max_width": null,
            "min_height": null,
            "min_width": null,
            "object_fit": null,
            "object_position": null,
            "order": null,
            "overflow": null,
            "overflow_x": null,
            "overflow_y": null,
            "padding": null,
            "right": null,
            "top": null,
            "visibility": null,
            "width": null
          }
        },
        "699844cb549c4336939f420f05f9fbcb": {
          "model_module": "@jupyter-widgets/base",
          "model_module_version": "1.2.0",
          "model_name": "LayoutModel",
          "state": {
            "_model_module": "@jupyter-widgets/base",
            "_model_module_version": "1.2.0",
            "_model_name": "LayoutModel",
            "_view_count": null,
            "_view_module": "@jupyter-widgets/base",
            "_view_module_version": "1.2.0",
            "_view_name": "LayoutView",
            "align_content": null,
            "align_items": null,
            "align_self": null,
            "border": null,
            "bottom": null,
            "display": null,
            "flex": null,
            "flex_flow": null,
            "grid_area": null,
            "grid_auto_columns": null,
            "grid_auto_flow": null,
            "grid_auto_rows": null,
            "grid_column": null,
            "grid_gap": null,
            "grid_row": null,
            "grid_template_areas": null,
            "grid_template_columns": null,
            "grid_template_rows": null,
            "height": null,
            "justify_content": null,
            "justify_items": null,
            "left": null,
            "margin": null,
            "max_height": null,
            "max_width": null,
            "min_height": null,
            "min_width": null,
            "object_fit": null,
            "object_position": null,
            "order": null,
            "overflow": null,
            "overflow_x": null,
            "overflow_y": null,
            "padding": null,
            "right": null,
            "top": null,
            "visibility": null,
            "width": null
          }
        },
        "6ba53ca0f561404fb0033aafb390124d": {
          "model_module": "@jupyter-widgets/base",
          "model_module_version": "1.2.0",
          "model_name": "LayoutModel",
          "state": {
            "_model_module": "@jupyter-widgets/base",
            "_model_module_version": "1.2.0",
            "_model_name": "LayoutModel",
            "_view_count": null,
            "_view_module": "@jupyter-widgets/base",
            "_view_module_version": "1.2.0",
            "_view_name": "LayoutView",
            "align_content": null,
            "align_items": null,
            "align_self": null,
            "border": null,
            "bottom": null,
            "display": null,
            "flex": null,
            "flex_flow": null,
            "grid_area": null,
            "grid_auto_columns": null,
            "grid_auto_flow": null,
            "grid_auto_rows": null,
            "grid_column": null,
            "grid_gap": null,
            "grid_row": null,
            "grid_template_areas": null,
            "grid_template_columns": null,
            "grid_template_rows": null,
            "height": null,
            "justify_content": null,
            "justify_items": null,
            "left": null,
            "margin": null,
            "max_height": null,
            "max_width": null,
            "min_height": null,
            "min_width": null,
            "object_fit": null,
            "object_position": null,
            "order": null,
            "overflow": null,
            "overflow_x": null,
            "overflow_y": null,
            "padding": null,
            "right": null,
            "top": null,
            "visibility": null,
            "width": null
          }
        },
        "6c0e3aab7da642c98c89d1b4bf886315": {
          "model_module": "@jupyter-widgets/controls",
          "model_module_version": "1.5.0",
          "model_name": "DescriptionStyleModel",
          "state": {
            "_model_module": "@jupyter-widgets/controls",
            "_model_module_version": "1.5.0",
            "_model_name": "DescriptionStyleModel",
            "_view_count": null,
            "_view_module": "@jupyter-widgets/base",
            "_view_module_version": "1.2.0",
            "_view_name": "StyleView",
            "description_width": ""
          }
        },
        "6eeaa1302fa1434c97e355e300dd693a": {
          "model_module": "@jupyter-widgets/base",
          "model_module_version": "1.2.0",
          "model_name": "LayoutModel",
          "state": {
            "_model_module": "@jupyter-widgets/base",
            "_model_module_version": "1.2.0",
            "_model_name": "LayoutModel",
            "_view_count": null,
            "_view_module": "@jupyter-widgets/base",
            "_view_module_version": "1.2.0",
            "_view_name": "LayoutView",
            "align_content": null,
            "align_items": null,
            "align_self": null,
            "border": null,
            "bottom": null,
            "display": null,
            "flex": null,
            "flex_flow": null,
            "grid_area": null,
            "grid_auto_columns": null,
            "grid_auto_flow": null,
            "grid_auto_rows": null,
            "grid_column": null,
            "grid_gap": null,
            "grid_row": null,
            "grid_template_areas": null,
            "grid_template_columns": null,
            "grid_template_rows": null,
            "height": null,
            "justify_content": null,
            "justify_items": null,
            "left": null,
            "margin": null,
            "max_height": null,
            "max_width": null,
            "min_height": null,
            "min_width": null,
            "object_fit": null,
            "object_position": null,
            "order": null,
            "overflow": null,
            "overflow_x": null,
            "overflow_y": null,
            "padding": null,
            "right": null,
            "top": null,
            "visibility": null,
            "width": null
          }
        },
        "6f892108c369431bae8c4ddecc1382f4": {
          "model_module": "@jupyter-widgets/base",
          "model_module_version": "1.2.0",
          "model_name": "LayoutModel",
          "state": {
            "_model_module": "@jupyter-widgets/base",
            "_model_module_version": "1.2.0",
            "_model_name": "LayoutModel",
            "_view_count": null,
            "_view_module": "@jupyter-widgets/base",
            "_view_module_version": "1.2.0",
            "_view_name": "LayoutView",
            "align_content": null,
            "align_items": null,
            "align_self": null,
            "border": null,
            "bottom": null,
            "display": null,
            "flex": null,
            "flex_flow": null,
            "grid_area": null,
            "grid_auto_columns": null,
            "grid_auto_flow": null,
            "grid_auto_rows": null,
            "grid_column": null,
            "grid_gap": null,
            "grid_row": null,
            "grid_template_areas": null,
            "grid_template_columns": null,
            "grid_template_rows": null,
            "height": null,
            "justify_content": null,
            "justify_items": null,
            "left": null,
            "margin": null,
            "max_height": null,
            "max_width": null,
            "min_height": null,
            "min_width": null,
            "object_fit": null,
            "object_position": null,
            "order": null,
            "overflow": null,
            "overflow_x": null,
            "overflow_y": null,
            "padding": null,
            "right": null,
            "top": null,
            "visibility": null,
            "width": null
          }
        },
        "7351d9ebc39342769e99a18528848c2f": {
          "model_module": "@jupyter-widgets/controls",
          "model_module_version": "1.5.0",
          "model_name": "HTMLModel",
          "state": {
            "_dom_classes": [],
            "_model_module": "@jupyter-widgets/controls",
            "_model_module_version": "1.5.0",
            "_model_name": "HTMLModel",
            "_view_count": null,
            "_view_module": "@jupyter-widgets/controls",
            "_view_module_version": "1.5.0",
            "_view_name": "HTMLView",
            "description": "",
            "description_tooltip": null,
            "layout": "IPY_MODEL_8196dd3da30d4250a76ecc1b41e10fb3",
            "placeholder": "​",
            "style": "IPY_MODEL_94ead8c0621841a9a98a820ced29c507",
            "value": "Downloading (…)/main/tokenizer.json: 100%"
          }
        },
        "73e41326d6e741b39a2db76542331911": {
          "model_module": "@jupyter-widgets/controls",
          "model_module_version": "1.5.0",
          "model_name": "FloatProgressModel",
          "state": {
            "_dom_classes": [],
            "_model_module": "@jupyter-widgets/controls",
            "_model_module_version": "1.5.0",
            "_model_name": "FloatProgressModel",
            "_view_count": null,
            "_view_module": "@jupyter-widgets/controls",
            "_view_module_version": "1.5.0",
            "_view_name": "ProgressView",
            "bar_style": "success",
            "description": "",
            "description_tooltip": null,
            "layout": "IPY_MODEL_6f892108c369431bae8c4ddecc1382f4",
            "max": 439279,
            "min": 0,
            "orientation": "horizontal",
            "style": "IPY_MODEL_f379176c61bc4aef8e952dc8d0dd6896",
            "value": 439279
          }
        },
        "76bc27def60d4c8daf32ab717c6b416e": {
          "model_module": "@jupyter-widgets/base",
          "model_module_version": "1.2.0",
          "model_name": "LayoutModel",
          "state": {
            "_model_module": "@jupyter-widgets/base",
            "_model_module_version": "1.2.0",
            "_model_name": "LayoutModel",
            "_view_count": null,
            "_view_module": "@jupyter-widgets/base",
            "_view_module_version": "1.2.0",
            "_view_name": "LayoutView",
            "align_content": null,
            "align_items": null,
            "align_self": null,
            "border": null,
            "bottom": null,
            "display": null,
            "flex": null,
            "flex_flow": null,
            "grid_area": null,
            "grid_auto_columns": null,
            "grid_auto_flow": null,
            "grid_auto_rows": null,
            "grid_column": null,
            "grid_gap": null,
            "grid_row": null,
            "grid_template_areas": null,
            "grid_template_columns": null,
            "grid_template_rows": null,
            "height": null,
            "justify_content": null,
            "justify_items": null,
            "left": null,
            "margin": null,
            "max_height": null,
            "max_width": null,
            "min_height": null,
            "min_width": null,
            "object_fit": null,
            "object_position": null,
            "order": null,
            "overflow": null,
            "overflow_x": null,
            "overflow_y": null,
            "padding": null,
            "right": null,
            "top": null,
            "visibility": null,
            "width": null
          }
        },
        "8026254f4cca420fb970376b99f3ee3e": {
          "model_module": "@jupyter-widgets/controls",
          "model_module_version": "1.5.0",
          "model_name": "HBoxModel",
          "state": {
            "_dom_classes": [],
            "_model_module": "@jupyter-widgets/controls",
            "_model_module_version": "1.5.0",
            "_model_name": "HBoxModel",
            "_view_count": null,
            "_view_module": "@jupyter-widgets/controls",
            "_view_module_version": "1.5.0",
            "_view_name": "HBoxView",
            "box_style": "",
            "children": [
              "IPY_MODEL_00db97c485094077bf471f1814ed8450",
              "IPY_MODEL_0e5a3db68cf64130890187a7cfa9ee14",
              "IPY_MODEL_e2714071362c42b4974ac1bfee27f540"
            ],
            "layout": "IPY_MODEL_24c75fe7823a45c08683304a45935b9c"
          }
        },
        "8196dd3da30d4250a76ecc1b41e10fb3": {
          "model_module": "@jupyter-widgets/base",
          "model_module_version": "1.2.0",
          "model_name": "LayoutModel",
          "state": {
            "_model_module": "@jupyter-widgets/base",
            "_model_module_version": "1.2.0",
            "_model_name": "LayoutModel",
            "_view_count": null,
            "_view_module": "@jupyter-widgets/base",
            "_view_module_version": "1.2.0",
            "_view_name": "LayoutView",
            "align_content": null,
            "align_items": null,
            "align_self": null,
            "border": null,
            "bottom": null,
            "display": null,
            "flex": null,
            "flex_flow": null,
            "grid_area": null,
            "grid_auto_columns": null,
            "grid_auto_flow": null,
            "grid_auto_rows": null,
            "grid_column": null,
            "grid_gap": null,
            "grid_row": null,
            "grid_template_areas": null,
            "grid_template_columns": null,
            "grid_template_rows": null,
            "height": null,
            "justify_content": null,
            "justify_items": null,
            "left": null,
            "margin": null,
            "max_height": null,
            "max_width": null,
            "min_height": null,
            "min_width": null,
            "object_fit": null,
            "object_position": null,
            "order": null,
            "overflow": null,
            "overflow_x": null,
            "overflow_y": null,
            "padding": null,
            "right": null,
            "top": null,
            "visibility": null,
            "width": null
          }
        },
        "82c35e01de114e5d9e43735e6c103001": {
          "model_module": "@jupyter-widgets/controls",
          "model_module_version": "1.5.0",
          "model_name": "FloatProgressModel",
          "state": {
            "_dom_classes": [],
            "_model_module": "@jupyter-widgets/controls",
            "_model_module_version": "1.5.0",
            "_model_name": "FloatProgressModel",
            "_view_count": null,
            "_view_module": "@jupyter-widgets/controls",
            "_view_module_version": "1.5.0",
            "_view_name": "ProgressView",
            "bar_style": "success",
            "description": "",
            "description_tooltip": null,
            "layout": "IPY_MODEL_427e965524b34d1189c8aa17eb7736bf",
            "max": 966,
            "min": 0,
            "orientation": "horizontal",
            "style": "IPY_MODEL_32ce636a81744afe99d39cc6a22de77a",
            "value": 966
          }
        },
        "8625d9c83a3446f9932513dff37b0ea6": {
          "model_module": "@jupyter-widgets/base",
          "model_module_version": "1.2.0",
          "model_name": "LayoutModel",
          "state": {
            "_model_module": "@jupyter-widgets/base",
            "_model_module_version": "1.2.0",
            "_model_name": "LayoutModel",
            "_view_count": null,
            "_view_module": "@jupyter-widgets/base",
            "_view_module_version": "1.2.0",
            "_view_name": "LayoutView",
            "align_content": null,
            "align_items": null,
            "align_self": null,
            "border": null,
            "bottom": null,
            "display": null,
            "flex": null,
            "flex_flow": null,
            "grid_area": null,
            "grid_auto_columns": null,
            "grid_auto_flow": null,
            "grid_auto_rows": null,
            "grid_column": null,
            "grid_gap": null,
            "grid_row": null,
            "grid_template_areas": null,
            "grid_template_columns": null,
            "grid_template_rows": null,
            "height": null,
            "justify_content": null,
            "justify_items": null,
            "left": null,
            "margin": null,
            "max_height": null,
            "max_width": null,
            "min_height": null,
            "min_width": null,
            "object_fit": null,
            "object_position": null,
            "order": null,
            "overflow": null,
            "overflow_x": null,
            "overflow_y": null,
            "padding": null,
            "right": null,
            "top": null,
            "visibility": null,
            "width": null
          }
        },
        "87e0b6a719aa41afa7587b912d68d2fb": {
          "model_module": "@jupyter-widgets/base",
          "model_module_version": "1.2.0",
          "model_name": "LayoutModel",
          "state": {
            "_model_module": "@jupyter-widgets/base",
            "_model_module_version": "1.2.0",
            "_model_name": "LayoutModel",
            "_view_count": null,
            "_view_module": "@jupyter-widgets/base",
            "_view_module_version": "1.2.0",
            "_view_name": "LayoutView",
            "align_content": null,
            "align_items": null,
            "align_self": null,
            "border": null,
            "bottom": null,
            "display": null,
            "flex": null,
            "flex_flow": null,
            "grid_area": null,
            "grid_auto_columns": null,
            "grid_auto_flow": null,
            "grid_auto_rows": null,
            "grid_column": null,
            "grid_gap": null,
            "grid_row": null,
            "grid_template_areas": null,
            "grid_template_columns": null,
            "grid_template_rows": null,
            "height": null,
            "justify_content": null,
            "justify_items": null,
            "left": null,
            "margin": null,
            "max_height": null,
            "max_width": null,
            "min_height": null,
            "min_width": null,
            "object_fit": null,
            "object_position": null,
            "order": null,
            "overflow": null,
            "overflow_x": null,
            "overflow_y": null,
            "padding": null,
            "right": null,
            "top": null,
            "visibility": null,
            "width": null
          }
        },
        "8d173fc99cba41aa8273483a882cad88": {
          "model_module": "@jupyter-widgets/controls",
          "model_module_version": "1.5.0",
          "model_name": "DescriptionStyleModel",
          "state": {
            "_model_module": "@jupyter-widgets/controls",
            "_model_module_version": "1.5.0",
            "_model_name": "DescriptionStyleModel",
            "_view_count": null,
            "_view_module": "@jupyter-widgets/base",
            "_view_module_version": "1.2.0",
            "_view_name": "StyleView",
            "description_width": ""
          }
        },
        "9021d7ee2a744521a8dd2e12c4480d3c": {
          "model_module": "@jupyter-widgets/controls",
          "model_module_version": "1.5.0",
          "model_name": "DescriptionStyleModel",
          "state": {
            "_model_module": "@jupyter-widgets/controls",
            "_model_module_version": "1.5.0",
            "_model_name": "DescriptionStyleModel",
            "_view_count": null,
            "_view_module": "@jupyter-widgets/base",
            "_view_module_version": "1.2.0",
            "_view_name": "StyleView",
            "description_width": ""
          }
        },
        "903d5dfb27dc493abd3854b91adada62": {
          "model_module": "@jupyter-widgets/controls",
          "model_module_version": "1.5.0",
          "model_name": "ProgressStyleModel",
          "state": {
            "_model_module": "@jupyter-widgets/controls",
            "_model_module_version": "1.5.0",
            "_model_name": "ProgressStyleModel",
            "_view_count": null,
            "_view_module": "@jupyter-widgets/base",
            "_view_module_version": "1.2.0",
            "_view_name": "StyleView",
            "bar_color": null,
            "description_width": ""
          }
        },
        "93d34cadf31e42138278494d73e38774": {
          "model_module": "@jupyter-widgets/controls",
          "model_module_version": "1.5.0",
          "model_name": "FloatProgressModel",
          "state": {
            "_dom_classes": [],
            "_model_module": "@jupyter-widgets/controls",
            "_model_module_version": "1.5.0",
            "_model_name": "FloatProgressModel",
            "_view_count": null,
            "_view_module": "@jupyter-widgets/controls",
            "_view_module_version": "1.5.0",
            "_view_name": "ProgressView",
            "bar_style": "success",
            "description": "",
            "description_tooltip": null,
            "layout": "IPY_MODEL_8625d9c83a3446f9932513dff37b0ea6",
            "max": 109540,
            "min": 0,
            "orientation": "horizontal",
            "style": "IPY_MODEL_1e74442a8fee48a4801cac13a1eb5b4c",
            "value": 109540
          }
        },
        "94ead8c0621841a9a98a820ced29c507": {
          "model_module": "@jupyter-widgets/controls",
          "model_module_version": "1.5.0",
          "model_name": "DescriptionStyleModel",
          "state": {
            "_model_module": "@jupyter-widgets/controls",
            "_model_module_version": "1.5.0",
            "_model_name": "DescriptionStyleModel",
            "_view_count": null,
            "_view_module": "@jupyter-widgets/base",
            "_view_module_version": "1.2.0",
            "_view_name": "StyleView",
            "description_width": ""
          }
        },
        "9ca553bd2aec4e19a141dd7bc119ef80": {
          "model_module": "@jupyter-widgets/base",
          "model_module_version": "1.2.0",
          "model_name": "LayoutModel",
          "state": {
            "_model_module": "@jupyter-widgets/base",
            "_model_module_version": "1.2.0",
            "_model_name": "LayoutModel",
            "_view_count": null,
            "_view_module": "@jupyter-widgets/base",
            "_view_module_version": "1.2.0",
            "_view_name": "LayoutView",
            "align_content": null,
            "align_items": null,
            "align_self": null,
            "border": null,
            "bottom": null,
            "display": null,
            "flex": null,
            "flex_flow": null,
            "grid_area": null,
            "grid_auto_columns": null,
            "grid_auto_flow": null,
            "grid_auto_rows": null,
            "grid_column": null,
            "grid_gap": null,
            "grid_row": null,
            "grid_template_areas": null,
            "grid_template_columns": null,
            "grid_template_rows": null,
            "height": null,
            "justify_content": null,
            "justify_items": null,
            "left": null,
            "margin": null,
            "max_height": null,
            "max_width": null,
            "min_height": null,
            "min_width": null,
            "object_fit": null,
            "object_position": null,
            "order": null,
            "overflow": null,
            "overflow_x": null,
            "overflow_y": null,
            "padding": null,
            "right": null,
            "top": null,
            "visibility": null,
            "width": null
          }
        },
        "9cef6f6ebf7847c48fd756e97d128975": {
          "model_module": "@jupyter-widgets/controls",
          "model_module_version": "1.5.0",
          "model_name": "ProgressStyleModel",
          "state": {
            "_model_module": "@jupyter-widgets/controls",
            "_model_module_version": "1.5.0",
            "_model_name": "ProgressStyleModel",
            "_view_count": null,
            "_view_module": "@jupyter-widgets/base",
            "_view_module_version": "1.2.0",
            "_view_name": "StyleView",
            "bar_color": null,
            "description_width": ""
          }
        },
        "aa9851ea874e44ee897fa3f2c9c9c812": {
          "model_module": "@jupyter-widgets/base",
          "model_module_version": "1.2.0",
          "model_name": "LayoutModel",
          "state": {
            "_model_module": "@jupyter-widgets/base",
            "_model_module_version": "1.2.0",
            "_model_name": "LayoutModel",
            "_view_count": null,
            "_view_module": "@jupyter-widgets/base",
            "_view_module_version": "1.2.0",
            "_view_name": "LayoutView",
            "align_content": null,
            "align_items": null,
            "align_self": null,
            "border": null,
            "bottom": null,
            "display": null,
            "flex": null,
            "flex_flow": null,
            "grid_area": null,
            "grid_auto_columns": null,
            "grid_auto_flow": null,
            "grid_auto_rows": null,
            "grid_column": null,
            "grid_gap": null,
            "grid_row": null,
            "grid_template_areas": null,
            "grid_template_columns": null,
            "grid_template_rows": null,
            "height": null,
            "justify_content": null,
            "justify_items": null,
            "left": null,
            "margin": null,
            "max_height": null,
            "max_width": null,
            "min_height": null,
            "min_width": null,
            "object_fit": null,
            "object_position": null,
            "order": null,
            "overflow": null,
            "overflow_x": null,
            "overflow_y": null,
            "padding": null,
            "right": null,
            "top": null,
            "visibility": null,
            "width": null
          }
        },
        "b49b4ce049634c80b99dfc52480c87db": {
          "model_module": "@jupyter-widgets/base",
          "model_module_version": "1.2.0",
          "model_name": "LayoutModel",
          "state": {
            "_model_module": "@jupyter-widgets/base",
            "_model_module_version": "1.2.0",
            "_model_name": "LayoutModel",
            "_view_count": null,
            "_view_module": "@jupyter-widgets/base",
            "_view_module_version": "1.2.0",
            "_view_name": "LayoutView",
            "align_content": null,
            "align_items": null,
            "align_self": null,
            "border": null,
            "bottom": null,
            "display": null,
            "flex": null,
            "flex_flow": null,
            "grid_area": null,
            "grid_auto_columns": null,
            "grid_auto_flow": null,
            "grid_auto_rows": null,
            "grid_column": null,
            "grid_gap": null,
            "grid_row": null,
            "grid_template_areas": null,
            "grid_template_columns": null,
            "grid_template_rows": null,
            "height": null,
            "justify_content": null,
            "justify_items": null,
            "left": null,
            "margin": null,
            "max_height": null,
            "max_width": null,
            "min_height": null,
            "min_width": null,
            "object_fit": null,
            "object_position": null,
            "order": null,
            "overflow": null,
            "overflow_x": null,
            "overflow_y": null,
            "padding": null,
            "right": null,
            "top": null,
            "visibility": null,
            "width": null
          }
        },
        "b69c2d035ae24f4893c9cb2b4dcfdc17": {
          "model_module": "@jupyter-widgets/controls",
          "model_module_version": "1.5.0",
          "model_name": "HBoxModel",
          "state": {
            "_dom_classes": [],
            "_model_module": "@jupyter-widgets/controls",
            "_model_module_version": "1.5.0",
            "_model_name": "HBoxModel",
            "_view_count": null,
            "_view_module": "@jupyter-widgets/controls",
            "_view_module_version": "1.5.0",
            "_view_name": "HBoxView",
            "box_style": "",
            "children": [
              "IPY_MODEL_c2b2a2f494f04d478cf3c23a26b04a84",
              "IPY_MODEL_93d34cadf31e42138278494d73e38774",
              "IPY_MODEL_382be7411f464469bbc91914f316573c"
            ],
            "layout": "IPY_MODEL_6ba53ca0f561404fb0033aafb390124d"
          }
        },
        "b82c9d4df6ad47c59e0307cc137ce1be": {
          "model_module": "@jupyter-widgets/controls",
          "model_module_version": "1.5.0",
          "model_name": "HBoxModel",
          "state": {
            "_dom_classes": [],
            "_model_module": "@jupyter-widgets/controls",
            "_model_module_version": "1.5.0",
            "_model_name": "HBoxModel",
            "_view_count": null,
            "_view_module": "@jupyter-widgets/controls",
            "_view_module_version": "1.5.0",
            "_view_name": "HBoxView",
            "box_style": "",
            "children": [
              "IPY_MODEL_07c167689ebe41b6877c52b729b24333",
              "IPY_MODEL_ba1de7e829a749cbb0d50126fe658b66",
              "IPY_MODEL_2358135d39124e0c9eb4f231c76d079a"
            ],
            "layout": "IPY_MODEL_b9ddfcad88544c48a4a9e579fe9c8a47"
          }
        },
        "b9ddfcad88544c48a4a9e579fe9c8a47": {
          "model_module": "@jupyter-widgets/base",
          "model_module_version": "1.2.0",
          "model_name": "LayoutModel",
          "state": {
            "_model_module": "@jupyter-widgets/base",
            "_model_module_version": "1.2.0",
            "_model_name": "LayoutModel",
            "_view_count": null,
            "_view_module": "@jupyter-widgets/base",
            "_view_module_version": "1.2.0",
            "_view_name": "LayoutView",
            "align_content": null,
            "align_items": null,
            "align_self": null,
            "border": null,
            "bottom": null,
            "display": null,
            "flex": null,
            "flex_flow": null,
            "grid_area": null,
            "grid_auto_columns": null,
            "grid_auto_flow": null,
            "grid_auto_rows": null,
            "grid_column": null,
            "grid_gap": null,
            "grid_row": null,
            "grid_template_areas": null,
            "grid_template_columns": null,
            "grid_template_rows": null,
            "height": null,
            "justify_content": null,
            "justify_items": null,
            "left": null,
            "margin": null,
            "max_height": null,
            "max_width": null,
            "min_height": null,
            "min_width": null,
            "object_fit": null,
            "object_position": null,
            "order": null,
            "overflow": null,
            "overflow_x": null,
            "overflow_y": null,
            "padding": null,
            "right": null,
            "top": null,
            "visibility": null,
            "width": null
          }
        },
        "ba1de7e829a749cbb0d50126fe658b66": {
          "model_module": "@jupyter-widgets/controls",
          "model_module_version": "1.5.0",
          "model_name": "FloatProgressModel",
          "state": {
            "_dom_classes": [],
            "_model_module": "@jupyter-widgets/controls",
            "_model_module_version": "1.5.0",
            "_model_name": "FloatProgressModel",
            "_view_count": null,
            "_view_module": "@jupyter-widgets/controls",
            "_view_module_version": "1.5.0",
            "_view_name": "ProgressView",
            "bar_style": "success",
            "description": "",
            "description_tooltip": null,
            "layout": "IPY_MODEL_9ca553bd2aec4e19a141dd7bc119ef80",
            "max": 413868149,
            "min": 0,
            "orientation": "horizontal",
            "style": "IPY_MODEL_9cef6f6ebf7847c48fd756e97d128975",
            "value": 413868149
          }
        },
        "beaaf6ee094a4f40b5789582a394581f": {
          "model_module": "@jupyter-widgets/controls",
          "model_module_version": "1.5.0",
          "model_name": "DescriptionStyleModel",
          "state": {
            "_model_module": "@jupyter-widgets/controls",
            "_model_module_version": "1.5.0",
            "_model_name": "DescriptionStyleModel",
            "_view_count": null,
            "_view_module": "@jupyter-widgets/base",
            "_view_module_version": "1.2.0",
            "_view_name": "StyleView",
            "description_width": ""
          }
        },
        "c2b2a2f494f04d478cf3c23a26b04a84": {
          "model_module": "@jupyter-widgets/controls",
          "model_module_version": "1.5.0",
          "model_name": "HTMLModel",
          "state": {
            "_dom_classes": [],
            "_model_module": "@jupyter-widgets/controls",
            "_model_module_version": "1.5.0",
            "_model_name": "HTMLModel",
            "_view_count": null,
            "_view_module": "@jupyter-widgets/controls",
            "_view_module_version": "1.5.0",
            "_view_name": "HTMLView",
            "description": "",
            "description_tooltip": null,
            "layout": "IPY_MODEL_87e0b6a719aa41afa7587b912d68d2fb",
            "placeholder": "​",
            "style": "IPY_MODEL_d6ad0a141aa144efbdb32252d0588e78",
            "value": "Downloading (…)solve/main/vocab.txt: 100%"
          }
        },
        "c59c8b45fe444ae2bc0ffc775d215cda": {
          "model_module": "@jupyter-widgets/controls",
          "model_module_version": "1.5.0",
          "model_name": "DescriptionStyleModel",
          "state": {
            "_model_module": "@jupyter-widgets/controls",
            "_model_module_version": "1.5.0",
            "_model_name": "DescriptionStyleModel",
            "_view_count": null,
            "_view_module": "@jupyter-widgets/base",
            "_view_module_version": "1.2.0",
            "_view_name": "StyleView",
            "description_width": ""
          }
        },
        "c6140a270ecb457495db989a6cae4329": {
          "model_module": "@jupyter-widgets/base",
          "model_module_version": "1.2.0",
          "model_name": "LayoutModel",
          "state": {
            "_model_module": "@jupyter-widgets/base",
            "_model_module_version": "1.2.0",
            "_model_name": "LayoutModel",
            "_view_count": null,
            "_view_module": "@jupyter-widgets/base",
            "_view_module_version": "1.2.0",
            "_view_name": "LayoutView",
            "align_content": null,
            "align_items": null,
            "align_self": null,
            "border": null,
            "bottom": null,
            "display": null,
            "flex": null,
            "flex_flow": null,
            "grid_area": null,
            "grid_auto_columns": null,
            "grid_auto_flow": null,
            "grid_auto_rows": null,
            "grid_column": null,
            "grid_gap": null,
            "grid_row": null,
            "grid_template_areas": null,
            "grid_template_columns": null,
            "grid_template_rows": null,
            "height": null,
            "justify_content": null,
            "justify_items": null,
            "left": null,
            "margin": null,
            "max_height": null,
            "max_width": null,
            "min_height": null,
            "min_width": null,
            "object_fit": null,
            "object_position": null,
            "order": null,
            "overflow": null,
            "overflow_x": null,
            "overflow_y": null,
            "padding": null,
            "right": null,
            "top": null,
            "visibility": null,
            "width": null
          }
        },
        "cb4718ae09ee475c93593ae6819eb40f": {
          "model_module": "@jupyter-widgets/controls",
          "model_module_version": "1.5.0",
          "model_name": "DescriptionStyleModel",
          "state": {
            "_model_module": "@jupyter-widgets/controls",
            "_model_module_version": "1.5.0",
            "_model_name": "DescriptionStyleModel",
            "_view_count": null,
            "_view_module": "@jupyter-widgets/base",
            "_view_module_version": "1.2.0",
            "_view_name": "StyleView",
            "description_width": ""
          }
        },
        "d6ad0a141aa144efbdb32252d0588e78": {
          "model_module": "@jupyter-widgets/controls",
          "model_module_version": "1.5.0",
          "model_name": "DescriptionStyleModel",
          "state": {
            "_model_module": "@jupyter-widgets/controls",
            "_model_module_version": "1.5.0",
            "_model_name": "DescriptionStyleModel",
            "_view_count": null,
            "_view_module": "@jupyter-widgets/base",
            "_view_module_version": "1.2.0",
            "_view_name": "StyleView",
            "description_width": ""
          }
        },
        "e2714071362c42b4974ac1bfee27f540": {
          "model_module": "@jupyter-widgets/controls",
          "model_module_version": "1.5.0",
          "model_name": "HTMLModel",
          "state": {
            "_dom_classes": [],
            "_model_module": "@jupyter-widgets/controls",
            "_model_module_version": "1.5.0",
            "_model_name": "HTMLModel",
            "_view_count": null,
            "_view_module": "@jupyter-widgets/controls",
            "_view_module_version": "1.5.0",
            "_view_name": "HTMLView",
            "description": "",
            "description_tooltip": null,
            "layout": "IPY_MODEL_21a09d80489c4c6e91af753575b93593",
            "placeholder": "​",
            "style": "IPY_MODEL_beaaf6ee094a4f40b5789582a394581f",
            "value": " 21.1k/21.1k [00:00&lt;00:00, 1.08MB/s]"
          }
        },
        "f30851e6c8144f3f9e4e81ab584b6f85": {
          "model_module": "@jupyter-widgets/base",
          "model_module_version": "1.2.0",
          "model_name": "LayoutModel",
          "state": {
            "_model_module": "@jupyter-widgets/base",
            "_model_module_version": "1.2.0",
            "_model_name": "LayoutModel",
            "_view_count": null,
            "_view_module": "@jupyter-widgets/base",
            "_view_module_version": "1.2.0",
            "_view_name": "LayoutView",
            "align_content": null,
            "align_items": null,
            "align_self": null,
            "border": null,
            "bottom": null,
            "display": null,
            "flex": null,
            "flex_flow": null,
            "grid_area": null,
            "grid_auto_columns": null,
            "grid_auto_flow": null,
            "grid_auto_rows": null,
            "grid_column": null,
            "grid_gap": null,
            "grid_row": null,
            "grid_template_areas": null,
            "grid_template_columns": null,
            "grid_template_rows": null,
            "height": null,
            "justify_content": null,
            "justify_items": null,
            "left": null,
            "margin": null,
            "max_height": null,
            "max_width": null,
            "min_height": null,
            "min_width": null,
            "object_fit": null,
            "object_position": null,
            "order": null,
            "overflow": null,
            "overflow_x": null,
            "overflow_y": null,
            "padding": null,
            "right": null,
            "top": null,
            "visibility": null,
            "width": null
          }
        },
        "f379176c61bc4aef8e952dc8d0dd6896": {
          "model_module": "@jupyter-widgets/controls",
          "model_module_version": "1.5.0",
          "model_name": "ProgressStyleModel",
          "state": {
            "_model_module": "@jupyter-widgets/controls",
            "_model_module_version": "1.5.0",
            "_model_name": "ProgressStyleModel",
            "_view_count": null,
            "_view_module": "@jupyter-widgets/base",
            "_view_module_version": "1.2.0",
            "_view_name": "StyleView",
            "bar_color": null,
            "description_width": ""
          }
        },
        "f3ab8918e7f9436d9c3c8708c67c6830": {
          "model_module": "@jupyter-widgets/base",
          "model_module_version": "1.2.0",
          "model_name": "LayoutModel",
          "state": {
            "_model_module": "@jupyter-widgets/base",
            "_model_module_version": "1.2.0",
            "_model_name": "LayoutModel",
            "_view_count": null,
            "_view_module": "@jupyter-widgets/base",
            "_view_module_version": "1.2.0",
            "_view_name": "LayoutView",
            "align_content": null,
            "align_items": null,
            "align_self": null,
            "border": null,
            "bottom": null,
            "display": null,
            "flex": null,
            "flex_flow": null,
            "grid_area": null,
            "grid_auto_columns": null,
            "grid_auto_flow": null,
            "grid_auto_rows": null,
            "grid_column": null,
            "grid_gap": null,
            "grid_row": null,
            "grid_template_areas": null,
            "grid_template_columns": null,
            "grid_template_rows": null,
            "height": null,
            "justify_content": null,
            "justify_items": null,
            "left": null,
            "margin": null,
            "max_height": null,
            "max_width": null,
            "min_height": null,
            "min_width": null,
            "object_fit": null,
            "object_position": null,
            "order": null,
            "overflow": null,
            "overflow_x": null,
            "overflow_y": null,
            "padding": null,
            "right": null,
            "top": null,
            "visibility": null,
            "width": null
          }
        },
        "f62da9f4fd20492dbbfe6e340c07f9f8": {
          "model_module": "@jupyter-widgets/base",
          "model_module_version": "1.2.0",
          "model_name": "LayoutModel",
          "state": {
            "_model_module": "@jupyter-widgets/base",
            "_model_module_version": "1.2.0",
            "_model_name": "LayoutModel",
            "_view_count": null,
            "_view_module": "@jupyter-widgets/base",
            "_view_module_version": "1.2.0",
            "_view_name": "LayoutView",
            "align_content": null,
            "align_items": null,
            "align_self": null,
            "border": null,
            "bottom": null,
            "display": null,
            "flex": null,
            "flex_flow": null,
            "grid_area": null,
            "grid_auto_columns": null,
            "grid_auto_flow": null,
            "grid_auto_rows": null,
            "grid_column": null,
            "grid_gap": null,
            "grid_row": null,
            "grid_template_areas": null,
            "grid_template_columns": null,
            "grid_template_rows": null,
            "height": null,
            "justify_content": null,
            "justify_items": null,
            "left": null,
            "margin": null,
            "max_height": null,
            "max_width": null,
            "min_height": null,
            "min_width": null,
            "object_fit": null,
            "object_position": null,
            "order": null,
            "overflow": null,
            "overflow_x": null,
            "overflow_y": null,
            "padding": null,
            "right": null,
            "top": null,
            "visibility": null,
            "width": null
          }
        },
        "f94f0d652f174d74bee965692b602e57": {
          "model_module": "@jupyter-widgets/controls",
          "model_module_version": "1.5.0",
          "model_name": "DescriptionStyleModel",
          "state": {
            "_model_module": "@jupyter-widgets/controls",
            "_model_module_version": "1.5.0",
            "_model_name": "DescriptionStyleModel",
            "_view_count": null,
            "_view_module": "@jupyter-widgets/base",
            "_view_module_version": "1.2.0",
            "_view_name": "StyleView",
            "description_width": ""
          }
        },
        "fe2f4140cbe14129896edf21097dccd6": {
          "model_module": "@jupyter-widgets/controls",
          "model_module_version": "1.5.0",
          "model_name": "HTMLModel",
          "state": {
            "_dom_classes": [],
            "_model_module": "@jupyter-widgets/controls",
            "_model_module_version": "1.5.0",
            "_model_name": "HTMLModel",
            "_view_count": null,
            "_view_module": "@jupyter-widgets/controls",
            "_view_module_version": "1.5.0",
            "_view_name": "HTMLView",
            "description": "",
            "description_tooltip": null,
            "layout": "IPY_MODEL_656f886366f245e39cbd347252e52ca8",
            "placeholder": "​",
            "style": "IPY_MODEL_c59c8b45fe444ae2bc0ffc775d215cda",
            "value": "Downloading (…)lve/main/config.json: 100%"
          }
        }
      }
    }
  },
  "nbformat": 4,
  "nbformat_minor": 0
}
