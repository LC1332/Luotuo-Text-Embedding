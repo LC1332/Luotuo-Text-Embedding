{
  "cells": [
    {
      "cell_type": "markdown",
      "metadata": {
        "id": "view-in-github",
        "colab_type": "text"
      },
      "source": [
        "<a href=\"https://colab.research.google.com/github/LC1332/Luotuo-Text-Embedding/blob/main/notebook/Luotuo_Embedding_Visualization.ipynb\" target=\"_parent\"><img src=\"https://colab.research.google.com/assets/colab-badge.svg\" alt=\"Open In Colab\"/></a>"
      ]
    },
    {
      "cell_type": "markdown",
      "source": [
        "# Luotuo Embedding 骆驼嵌入: Generative Text Embedding Model distilled from OpenAI API\n",
        "\n",
        "骆驼嵌入是一个文本嵌入(text embedding)模型，由冷子昂, 刘思诣, 黄泓森, 陈舒年, 胡婧, 孙骜, 陈启源, 李鲁鲁等开发\n",
        "\n",
        "<details>\n",
        "  <summary> 每个作者都是第一作者，顺序是随机的。(点这里具体)</summary>\n",
        "\n",
        "李鲁鲁发起了项目，并完成了初步的验证，提出了KL散度Loss和Hard Negative挖掘。\n",
        "\n",
        "刘思诣完成了初步训练框架的编写，以及支撑了后面模型上传到hugging face管线。\n",
        "\n",
        "冷子昂完成了完整的大模型和小模型的训练，包括载入数据和损失函数的实现。\n",
        "\n",
        "陈启源准备了CNewSum的数据，做了句子切分。\n",
        "\n",
        "黄泓森负责爬取了OpenAI Embedding的数据。\n",
        "\n",
        "陈舒年完成了重要的几个可视化。\n",
        "\n",
        "孙骜（即将）用我们的得到的Embedding，完成CoT的提升实验。\n",
        "\n",
        "胡婧收集了周杰伦的歌词，并（即将）完成更多的定量实验。\n",
        "\n",
        "</details>\n",
        "\n",
        "骆驼嵌入是[Luotuo(骆驼)](https://github.com/LC1332/Luotuo-Chinese-LLM)的子项目之一, 后者由李鲁鲁, 冷子昂, 陈启源发起。\n"
      ],
      "metadata": {
        "id": "HUPjmUeiXAz7"
      }
    },
    {
      "cell_type": "markdown",
      "source": [
        "## 安装环境"
      ],
      "metadata": {
        "id": "tOuADT8rZg-q"
      }
    },
    {
      "cell_type": "code",
      "execution_count": 1,
      "metadata": {
        "id": "7Q7vFF4xXhFl",
        "outputId": "1936c39b-6aec-4b6f-fbf1-722c9610bb05",
        "colab": {
          "base_uri": "https://localhost:8080/"
        }
      },
      "outputs": [
        {
          "output_type": "stream",
          "name": "stdout",
          "text": [
            "\u001b[2K     \u001b[90m━━━━━━━━━━━━━━━━━━━━━━━━━━━━━━━━━━━━━━━━\u001b[0m \u001b[32m7.2/7.2 MB\u001b[0m \u001b[31m85.3 MB/s\u001b[0m eta \u001b[36m0:00:00\u001b[0m\n",
            "\u001b[2K     \u001b[90m━━━━━━━━━━━━━━━━━━━━━━━━━━━━━━━━━━━━━━\u001b[0m \u001b[32m236.8/236.8 kB\u001b[0m \u001b[31m25.8 MB/s\u001b[0m eta \u001b[36m0:00:00\u001b[0m\n",
            "\u001b[2K     \u001b[90m━━━━━━━━━━━━━━━━━━━━━━━━━━━━━━━━━━━━━━━━\u001b[0m \u001b[32m7.8/7.8 MB\u001b[0m \u001b[31m76.0 MB/s\u001b[0m eta \u001b[36m0:00:00\u001b[0m\n",
            "\u001b[2K     \u001b[90m━━━━━━━━━━━━━━━━━━━━━━━━━━━━━━━━━━━━━━━━\u001b[0m \u001b[32m1.3/1.3 MB\u001b[0m \u001b[31m64.3 MB/s\u001b[0m eta \u001b[36m0:00:00\u001b[0m\n",
            "\u001b[2K     \u001b[90m━━━━━━━━━━━━━━━━━━━━━━━━━━━━━━━━━━━━━━━━\u001b[0m \u001b[32m73.6/73.6 kB\u001b[0m \u001b[31m6.8 MB/s\u001b[0m eta \u001b[36m0:00:00\u001b[0m\n",
            "\u001b[2K     \u001b[90m━━━━━━━━━━━━━━━━━━━━━━━━━━━━━━━━━━━━━━━━\u001b[0m \u001b[32m1.0/1.0 MB\u001b[0m \u001b[31m65.4 MB/s\u001b[0m eta \u001b[36m0:00:00\u001b[0m\n",
            "\u001b[2K     \u001b[90m━━━━━━━━━━━━━━━━━━━━━━━━━━━━━━━━━━━━━━\u001b[0m \u001b[32m114.5/114.5 kB\u001b[0m \u001b[31m14.5 MB/s\u001b[0m eta \u001b[36m0:00:00\u001b[0m\n",
            "\u001b[2K     \u001b[90m━━━━━━━━━━━━━━━━━━━━━━━━━━━━━━━━━━━━━━\u001b[0m \u001b[32m268.8/268.8 kB\u001b[0m \u001b[31m30.3 MB/s\u001b[0m eta \u001b[36m0:00:00\u001b[0m\n",
            "\u001b[2K     \u001b[90m━━━━━━━━━━━━━━━━━━━━━━━━━━━━━━━━━━━━━━\u001b[0m \u001b[32m149.6/149.6 kB\u001b[0m \u001b[31m19.6 MB/s\u001b[0m eta \u001b[36m0:00:00\u001b[0m\n",
            "\u001b[2K     \u001b[90m━━━━━━━━━━━━━━━━━━━━━━━━━━━━━━━━━━━━━━━━\u001b[0m \u001b[32m2.7/2.7 MB\u001b[0m \u001b[31m66.9 MB/s\u001b[0m eta \u001b[36m0:00:00\u001b[0m\n",
            "\u001b[2K     \u001b[90m━━━━━━━━━━━━━━━━━━━━━━━━━━━━━━━━━━━━━━\u001b[0m \u001b[32m486.2/486.2 kB\u001b[0m \u001b[31m27.9 MB/s\u001b[0m eta \u001b[36m0:00:00\u001b[0m\n",
            "\u001b[2K     \u001b[90m━━━━━━━━━━━━━━━━━━━━━━━━━━━━━━━━━━━━━━\u001b[0m \u001b[32m110.5/110.5 kB\u001b[0m \u001b[31m13.2 MB/s\u001b[0m eta \u001b[36m0:00:00\u001b[0m\n",
            "\u001b[2K     \u001b[90m━━━━━━━━━━━━━━━━━━━━━━━━━━━━━━━━━━━━━━\u001b[0m \u001b[32m212.5/212.5 kB\u001b[0m \u001b[31m26.3 MB/s\u001b[0m eta \u001b[36m0:00:00\u001b[0m\n",
            "\u001b[2K     \u001b[90m━━━━━━━━━━━━━━━━━━━━━━━━━━━━━━━━━━━━━━\u001b[0m \u001b[32m134.3/134.3 kB\u001b[0m \u001b[31m17.7 MB/s\u001b[0m eta \u001b[36m0:00:00\u001b[0m\n",
            "\u001b[?25h"
          ]
        }
      ],
      "source": [
        "# Requirements\n",
        "!pip -q install transformers\n",
        "!pip -q install openai\n",
        "!pip -q install openTSNE\n",
        "!pip -q install datasets"
      ]
    },
    {
      "cell_type": "markdown",
      "source": [
        "## 从骆驼嵌入项目中获取数据"
      ],
      "metadata": {
        "id": "uP1CviUHZjGw"
      }
    },
    {
      "cell_type": "code",
      "execution_count": 2,
      "metadata": {
        "colab": {
          "base_uri": "https://localhost:8080/"
        },
        "id": "lGAcAlRTXyuk",
        "outputId": "d3efcc27-b243-49ff-f549-f2f3e26c75c1"
      },
      "outputs": [
        {
          "output_type": "stream",
          "name": "stdout",
          "text": [
            "Cloning into 'Luotuo-Text-Embedding'...\n",
            "remote: Enumerating objects: 622, done.\u001b[K\n",
            "remote: Counting objects: 100% (20/20), done.\u001b[K\n",
            "remote: Compressing objects: 100% (15/15), done.\u001b[K\n",
            "remote: Total 622 (delta 7), reused 13 (delta 5), pack-reused 602\u001b[K\n",
            "Receiving objects: 100% (622/622), 36.68 MiB | 16.98 MiB/s, done.\n",
            "Resolving deltas: 100% (372/372), done.\n"
          ]
        }
      ],
      "source": [
        "!git clone https://github.com/LC1332/Luotuo-Text-Embedding.git"
      ]
    },
    {
      "cell_type": "markdown",
      "source": [
        "## 从Hugging Face中获取模型\n",
        "\n",
        "我们的骆驼BERT的主要模型为luotuo-bert\n",
        "\n",
        "现在暂时是110M的小模型。之后中模型上线之后,luotuo-bert会替换为300M以上的较大的模型，同时小模型会更名为luotuo-bert-small"
      ],
      "metadata": {
        "id": "zFvQw-1KZnTU"
      }
    },
    {
      "cell_type": "code",
      "execution_count": 3,
      "metadata": {
        "id": "drHktMUHXi1i",
        "colab": {
          "base_uri": "https://localhost:8080/",
          "height": 293,
          "referenced_widgets": [
            "2505b8babe5745afa52e8ffb94b48d1e",
            "bc479ca3aaf14602a919501ce2f25c16",
            "e79e8903a55e4567a6a7f387008d0008",
            "e27a69cbfc1947859c3719efe1b618f1",
            "11f891c1ec0e4b3fac7ed9fe6755e7c9",
            "a052b5af2f1b4965bda2dcd2ae25a51b",
            "0bcac81f1ff44abdaec30644d36075b5",
            "aaa53e1b4e724a3ea12325ce335c2e6a",
            "a0ec1fd85faa494d9d0fc941420ba1ed",
            "77a165cc4c5f4e9f979052fbb39e6d88",
            "65bf8da716bd4aa4afacfe5c5a16801c",
            "f0fedaaf9f344f5597b043d98ad82b15",
            "0fe2f2daef8549e29213c0e05211889f",
            "33699329f12041918fa0814e6427699a",
            "b23333d763374c469bdaf944ae96cdf2",
            "2057027a8f5b47e4bd995428e9214fb3",
            "7d9e9a4e76d94a5da3eca7cd2da1847f",
            "eed131c60b0a483bafe9d3d3bf239c55",
            "016b0867f7e049b0b0966dd0bfee478d",
            "12d6e2437735401c8a56339faa4d8beb",
            "f67815f4709347959e74b61f1d6d0c3a",
            "9494f220a4eb439597ab8a4a16fb41fb",
            "8a28fd6a52fe4b2baee784ca1c7bb235",
            "2563cf90161242c7abe2970c2e182115",
            "b1843ebf5f404a2d80b5c48a5b3a8f73",
            "66b81ca1dced48ee81cad0289820b271",
            "e72e4c3ddc93488f9c9f5acc1e697f59",
            "6aa3f5e6a34a494b8c970dda10340f61",
            "364dcb42196d4b91a8a87398a2f21c1b",
            "6ddad49ce72942d09c418f56fd2bd7f7",
            "15caeddea3bc439fac64c0c368dedd13",
            "c37a2a119b554b89af383924f9ccb1fd",
            "c348f64bb76c43b3a766da10406f7e6d",
            "7f933ddb12dd4d6ab2d0b0c02bcdcaa4",
            "3e8c7104f26e436f999f9f7a02b011a3",
            "462a1c6d3d894dd79ea113fa00c58e82",
            "c99b3ffc82e541fbb2d334d1d74e662e",
            "9a3752518bec46ed9becf87aace1753c",
            "2ec2fba7967845ef9b8b514efb724190",
            "3244ff5c47044b0abf4b43cacc46ce5c",
            "1e2cc109d50d4237a607c01001d1ae22",
            "74a544a1ba20476f95aec4e56e872707",
            "c5e035dd2697475dbf8215cbf18ea856",
            "36d536722cc84fc09f47ee4615552c1c",
            "793fef29772644a087d89f83e949a80f",
            "078bf490b7874de4ac1015fb222b1082",
            "358744580ee24e02a1622bc5c1fff34c",
            "6383ea69189d469b8e118305729bc26d",
            "cea8f08a927040649fbedffb7f09c554",
            "38c69a5cf0574653bb65580500bd3e64",
            "ba05c06992c644d4acccc7d404605bf8",
            "a2b5e089f46f4467a3708a679ec517a0",
            "969f139ccde94fecb6cf8e224b5deb24",
            "e9457405333c4c09be70838612ce2e45",
            "753b1e28ab5545c8ae9d9343eb924a70",
            "0063184fba994f80aaa94e451361da0b",
            "73c9a6359e5f44fb9b689c5d569bec4a",
            "182159190863449c9f509977d9c6276d",
            "5ae7f97f50864188931a329497bda746",
            "5efcf7b4734b460a88ea64815d84d4e8",
            "414d484d22c54438a231a8c025c0a7a2",
            "2ef76acacb714963af1f519057205be2",
            "de4741ddff1e415093b8bb51379fd9cc",
            "e85c70a7313c48e2b18dfea81c0fa5b0",
            "f1e44dc500724105afdbafba6d1121ec",
            "fe8955d449b84696b2ae75d5363a96be",
            "5043d56b306f447ca868cd792bd7b50b",
            "2a01b5c7884c41eb8129dd5614f872ca",
            "99de8d72a21c4c9997dd348ba7217925",
            "c3b8b56111c34b8baf3ef40303c6b6e4",
            "bdca4274422442e6b830f8490809fad0",
            "e6157620e33c4cebb4a8c3e951879365",
            "de742e2365ec4b23bc09e489a7c3ef89",
            "b5d088d59d9346d7a85fcc839f34b985",
            "52cb975fcaaf439b9712a47c22c53316",
            "a7ad6f578f3c4d02b036109fad2d71b4",
            "25d96be7ad55453283b3cbeb33844872"
          ]
        },
        "outputId": "d75e3d8b-b3dc-40bb-dd11-285175956f53"
      },
      "outputs": [
        {
          "output_type": "display_data",
          "data": {
            "text/plain": [
              "Downloading (…)okenizer_config.json:   0%|          | 0.00/539 [00:00<?, ?B/s]"
            ],
            "application/vnd.jupyter.widget-view+json": {
              "version_major": 2,
              "version_minor": 0,
              "model_id": "2505b8babe5745afa52e8ffb94b48d1e"
            }
          },
          "metadata": {}
        },
        {
          "output_type": "display_data",
          "data": {
            "text/plain": [
              "Downloading (…)solve/main/vocab.txt: 0.00B [00:00, ?B/s]"
            ],
            "application/vnd.jupyter.widget-view+json": {
              "version_major": 2,
              "version_minor": 0,
              "model_id": "f0fedaaf9f344f5597b043d98ad82b15"
            }
          },
          "metadata": {}
        },
        {
          "output_type": "display_data",
          "data": {
            "text/plain": [
              "Downloading (…)/main/tokenizer.json: 0.00B [00:00, ?B/s]"
            ],
            "application/vnd.jupyter.widget-view+json": {
              "version_major": 2,
              "version_minor": 0,
              "model_id": "8a28fd6a52fe4b2baee784ca1c7bb235"
            }
          },
          "metadata": {}
        },
        {
          "output_type": "display_data",
          "data": {
            "text/plain": [
              "Downloading (…)cial_tokens_map.json:   0%|          | 0.00/125 [00:00<?, ?B/s]"
            ],
            "application/vnd.jupyter.widget-view+json": {
              "version_major": 2,
              "version_minor": 0,
              "model_id": "7f933ddb12dd4d6ab2d0b0c02bcdcaa4"
            }
          },
          "metadata": {}
        },
        {
          "output_type": "display_data",
          "data": {
            "text/plain": [
              "Downloading (…)lve/main/config.json:   0%|          | 0.00/966 [00:00<?, ?B/s]"
            ],
            "application/vnd.jupyter.widget-view+json": {
              "version_major": 2,
              "version_minor": 0,
              "model_id": "793fef29772644a087d89f83e949a80f"
            }
          },
          "metadata": {}
        },
        {
          "output_type": "display_data",
          "data": {
            "text/plain": [
              "Downloading (…)solve/main/models.py: 0.00B [00:00, ?B/s]"
            ],
            "application/vnd.jupyter.widget-view+json": {
              "version_major": 2,
              "version_minor": 0,
              "model_id": "0063184fba994f80aaa94e451361da0b"
            }
          },
          "metadata": {}
        },
        {
          "output_type": "stream",
          "name": "stderr",
          "text": [
            "A new version of the following files was downloaded from https://huggingface.co/silk-road/luotuo-bert:\n",
            "- models.py\n",
            ". Make sure to double-check they do not contain any added malicious code. To avoid downloading new versions of the code file, you can pin a revision.\n"
          ]
        },
        {
          "output_type": "display_data",
          "data": {
            "text/plain": [
              "Downloading pytorch_model.bin:   0%|          | 0.00/414M [00:00<?, ?B/s]"
            ],
            "application/vnd.jupyter.widget-view+json": {
              "version_major": 2,
              "version_minor": 0,
              "model_id": "5043d56b306f447ca868cd792bd7b50b"
            }
          },
          "metadata": {}
        }
      ],
      "source": [
        "import torch\n",
        "from scipy.spatial.distance import cosine\n",
        "from transformers import AutoModel, AutoTokenizer\n",
        "from argparse import Namespace\n",
        "# Import our models. The package will take care of downloading the models automatically\n",
        "tokenizer = AutoTokenizer.from_pretrained(\"silk-road/luotuo-bert\")\n",
        "model_args = Namespace(do_mlm=None, pooler_type=\"cls\", temp=0.05, mlp_only_train=False, init_embeddings_model=None)\n",
        "model = AutoModel.from_pretrained(\"silk-road/luotuo-bert\", trust_remote_code=True, model_args=model_args)"
      ]
    },
    {
      "cell_type": "markdown",
      "source": [
        "## t-SNE 文本可视化实验"
      ],
      "metadata": {
        "id": "RzbZPTdmZ3wZ"
      }
    },
    {
      "cell_type": "code",
      "execution_count": 4,
      "metadata": {
        "colab": {
          "base_uri": "https://localhost:8080/"
        },
        "id": "EWcuAzFGwhFy",
        "outputId": "e75a77db-5492-452b-b732-aedee9da0d12"
      },
      "outputs": [
        {
          "output_type": "stream",
          "name": "stdout",
          "text": [
            "/content/Luotuo-Text-Embedding\n"
          ]
        }
      ],
      "source": [
        "%cd Luotuo-Text-Embedding"
      ]
    },
    {
      "cell_type": "code",
      "source": [
        "import pandas as pd\n",
        "tsne_data_label_path = \"/content/Luotuo-Text-Embedding/data/sentpair_label.csv\"\n",
        "\n",
        "data = pd.read_csv(tsne_data_label_path, header=0)\n",
        "text_left = data[\"Column1\"].tolist()\n",
        "text_right = data[\"Column2\"].tolist()\n",
        "label = data[\"Label\"].tolist()"
      ],
      "metadata": {
        "id": "vXejcCRfoY05"
      },
      "execution_count": 5,
      "outputs": []
    },
    {
      "cell_type": "code",
      "execution_count": 6,
      "metadata": {
        "id": "gp_x7YZxXvrC",
        "outputId": "d18a54cd-5790-4107-a2b7-942dcd80ebd3",
        "colab": {
          "base_uri": "https://localhost:8080/"
        }
      },
      "outputs": [
        {
          "output_type": "stream",
          "name": "stderr",
          "text": [
            "Asking to truncate to max_length but no maximum length is provided and the model has no predefined maximum length. Default to no truncation.\n"
          ]
        }
      ],
      "source": [
        "import csv\n",
        "import numpy as np\n",
        "import sys\n",
        "sys.path.append(\"..\")\n",
        "\n",
        "\n",
        "inputs = tokenizer(text_left, padding=True, truncation=True, return_tensors=\"pt\")\n",
        "with torch.no_grad():\n",
        "    embeddings_left = model(**inputs, output_hidden_states=True, return_dict=True, sent_emb=True).pooler_output\n",
        "inputs = tokenizer(text_right, padding=True, truncation=True, return_tensors=\"pt\")\n",
        "with torch.no_grad():\n",
        "    embeddings_right = model(**inputs, output_hidden_states=True, return_dict=True, sent_emb=True).pooler_output\n",
        "\n",
        "cos_sim_matrix = torch.matmul(embeddings_left, embeddings_right.t())\n",
        "cos_sim_matrix /= torch.matmul(torch.norm(embeddings_left, dim=1, keepdim=True), torch.norm(embeddings_right, dim=1, keepdim=True).t())\n",
        "tensor_cpu = cos_sim_matrix.cpu()"
      ]
    },
    {
      "cell_type": "markdown",
      "source": [
        "绘制tSNE可视化"
      ],
      "metadata": {
        "id": "Z7ZcxGMIou0o"
      }
    },
    {
      "cell_type": "code",
      "source": [
        "import sys\n",
        "sys.path.append(\"..\")\n",
        "from lib.tsne import TSNE_Plot\n",
        "\n",
        "merged_list = text_left + text_right\n",
        "label = label + label\n",
        "merged_embed = torch.cat((embeddings_left, embeddings_right), dim=0)\n",
        "\n",
        "# if the data have no labels, you can use the following code to cluster the data\n",
        "tsne_plot = TSNE_Plot(merged_list, merged_embed, label = label)\n",
        "tsne_plot.tsne_plot(n_sentence=40)"
      ],
      "metadata": {
        "id": "Xhwt6C0PotgR",
        "outputId": "ebabf32d-4dc6-40b2-e037-2e9b7847d653",
        "colab": {
          "base_uri": "https://localhost:8080/",
          "height": 872
        }
      },
      "execution_count": 7,
      "outputs": [
        {
          "output_type": "stream",
          "name": "stderr",
          "text": [
            "WARNING:openTSNE.affinity:Perplexity value 30 is too high. Using perplexity 12.33 instead\n",
            "WARNING:openTSNE.affinity:Perplexity value 30 is too high. Using perplexity 12.33 instead\n"
          ]
        },
        {
          "output_type": "display_data",
          "data": {
            "text/html": [
              "<html>\n",
              "<head><meta charset=\"utf-8\" /></head>\n",
              "<body>\n",
              "    <div>            <script src=\"https://cdnjs.cloudflare.com/ajax/libs/mathjax/2.7.5/MathJax.js?config=TeX-AMS-MML_SVG\"></script><script type=\"text/javascript\">if (window.MathJax && window.MathJax.Hub && window.MathJax.Hub.Config) {window.MathJax.Hub.Config({SVG: {font: \"STIX-Web\"}});}</script>                <script type=\"text/javascript\">window.PlotlyConfig = {MathJaxConfig: 'local'};</script>\n",
              "        <script src=\"https://cdn.plot.ly/plotly-2.18.2.min.js\"></script>                <div id=\"7dfa686f-bcbb-486b-bf57-982462566b05\" class=\"plotly-graph-div\" style=\"height:800px; width:1500px;\"></div>            <script type=\"text/javascript\">                                    window.PLOTLYENV=window.PLOTLYENV || {};                                    if (document.getElementById(\"7dfa686f-bcbb-486b-bf57-982462566b05\")) {                    Plotly.newPlot(                        \"7dfa686f-bcbb-486b-bf57-982462566b05\",                        [{\"legendgroup\":\"lines\",\"marker\":{\"color\":\"#000080\",\"size\":[20,20]},\"mode\":\"markers\",\"name\":\"\\u767e\\u8349\\u56ed\\u5230\\u4e09\\u5473\\u4e66\\u5c4b\",\"showlegend\":true,\"x\":[6.229768429704854,6.280037242395945],\"y\":[0.8561193188732866,1.4973964108053597],\"type\":\"scatter\"},{\"legendgroup\":\"lines\",\"marker\":{\"color\":\"#0000bf\",\"size\":[20,20]},\"mode\":\"markers\",\"name\":\"\\u80cc\\u5f71\",\"showlegend\":true,\"x\":[0.5549281378557299,0.8752689716052835],\"y\":[-1.5415424224997185,-0.6937832175870248],\"type\":\"scatter\"},{\"legendgroup\":\"lines\",\"marker\":{\"color\":\"#0000ff\",\"size\":[20,20]},\"mode\":\"markers\",\"name\":\"\\u51fa\\u5e08\\u8868\",\"showlegend\":true,\"x\":[2.7506326446518328,2.9674855453753817],\"y\":[3.663998388047509,4.456812177354877],\"type\":\"scatter\"},{\"legendgroup\":\"lines\",\"marker\":{\"color\":\"#0028ff\",\"size\":[20,20]},\"mode\":\"markers\",\"name\":\"\\u51e1\\u4eba\\u4fee\\u4ed9\\u4f20\",\"showlegend\":true,\"x\":[5.088751794785894,4.953291772326043],\"y\":[4.755430102597052,5.305608744984172],\"type\":\"scatter\"},{\"legendgroup\":\"lines\",\"marker\":{\"color\":\"#0060ff\",\"size\":[20,20]},\"mode\":\"markers\",\"name\":\"\\u5168\\u804c\\u9ad8\\u624b\",\"showlegend\":true,\"x\":[1.4886429316407452,2.0481866798576207],\"y\":[5.495317870624569,5.864010101447517],\"type\":\"scatter\"},{\"legendgroup\":\"lines\",\"marker\":{\"color\":\"#009cff\",\"size\":[20,20]},\"mode\":\"markers\",\"name\":\"\\u96f7\\u96e8\",\"showlegend\":true,\"x\":[3.801504256829905,1.5078679649151752],\"y\":[-0.04703524885313892,-0.11987069869648018],\"type\":\"scatter\"},{\"legendgroup\":\"lines\",\"marker\":{\"color\":\"#00d4ff\",\"size\":[20,20]},\"mode\":\"markers\",\"name\":\"\\u7ea6\\u5b9a-\\u738b\\u83f2\",\"showlegend\":true,\"x\":[5.228011899713171,-6.649578341394028],\"y\":[-3.3664001711166938,-3.028972791234085],\"type\":\"scatter\"},{\"legendgroup\":\"lines\",\"marker\":{\"color\":\"#1fffd7\",\"size\":[20,20]},\"mode\":\"markers\",\"name\":\"\\u81f4\\u9752\\u6625-\\u738b\\u83f2\",\"showlegend\":true,\"x\":[-4.598794687900177,-5.516760570595228],\"y\":[-3.9681280621190513,-3.4417968981114164],\"type\":\"scatter\"},{\"legendgroup\":\"lines\",\"marker\":{\"color\":\"#4dffaa\",\"size\":[20,20]},\"mode\":\"markers\",\"name\":\"\\u6697\\u6d8c-\\u738b\\u83f2\",\"showlegend\":true,\"x\":[-6.7837891116635625,-7.051407893156149],\"y\":[-3.8938274041454326,-1.573791096177684],\"type\":\"scatter\"},{\"legendgroup\":\"lines\",\"marker\":{\"color\":\"#7dff7a\",\"size\":[20,20]},\"mode\":\"markers\",\"name\":\"\\u7ea2\\u8c46-\\u738b\\u83f2\",\"showlegend\":true,\"x\":[-8.184755267094733,-7.767067462412208],\"y\":[-1.5525093498089797,-0.5208609102453341],\"type\":\"scatter\"},{\"legendgroup\":\"lines\",\"marker\":{\"color\":\"#aaff4d\",\"size\":[20,20]},\"mode\":\"markers\",\"name\":\"\\u6d6a\\u5b50-\\u738b\\u83f2\",\"showlegend\":true,\"x\":[-4.054983415211846,-4.097966459539619],\"y\":[3.2028893468688473,2.439911004315963],\"type\":\"scatter\"},{\"legendgroup\":\"lines\",\"marker\":{\"color\":\"#d7ff1f\",\"size\":[20,20]},\"mode\":\"markers\",\"name\":\"\\u5370\\u7b2c\\u5b89\\u8001\\u6591\\u9e20-\\u5468\\u6770\\u4f26\",\"showlegend\":true,\"x\":[8.016350188107904,7.7551758250677985],\"y\":[0.40174308956601323,-0.2780166394183929],\"type\":\"scatter\"},{\"legendgroup\":\"lines\",\"marker\":{\"color\":\"#ffe600\",\"size\":[20,20]},\"mode\":\"markers\",\"name\":\"\\u6597\\u725b-\\u5468\\u6770\\u4f26\",\"showlegend\":true,\"x\":[-1.2823534291381458,-2.0698543047782643],\"y\":[3.1024386463382743,3.440566544599856],\"type\":\"scatter\"},{\"legendgroup\":\"lines\",\"marker\":{\"color\":\"#ffb200\",\"size\":[20,20]},\"mode\":\"markers\",\"name\":\"\\u53cd\\u65b9\\u5411\\u7684\\u949f-\\u5468\\u6770\\u4f26\",\"showlegend\":true,\"x\":[-5.918296721085204,-5.31858355055319],\"y\":[0.7605509145712933,1.6673196304874742],\"type\":\"scatter\"},{\"legendgroup\":\"lines\",\"marker\":{\"color\":\"#ff7a00\",\"size\":[20,20]},\"mode\":\"markers\",\"name\":\"\\u9ed1\\u8272\\u5e7d\\u9ed8-\\u5468\\u6770\\u4f26\",\"showlegend\":true,\"x\":[-4.011730172435937,-5.0181347407247605],\"y\":[-0.8254298168679848,-0.7474856760543752],\"type\":\"scatter\"},{\"legendgroup\":\"lines\",\"marker\":{\"color\":\"#ff4700\",\"size\":[20,20]},\"mode\":\"markers\",\"name\":\"\\u7238\\u6211\\u56de\\u6765\\u4e86-\\u5468\\u6770\\u4f26\",\"showlegend\":true,\"x\":[1.3891557508990116,1.6000664550706996],\"y\":[-4.27172546990552,-5.155623855193696],\"type\":\"scatter\"},{\"legendgroup\":\"lines\",\"marker\":{\"color\":\"#ff1300\",\"size\":[20,20]},\"mode\":\"markers\",\"name\":\"\\u4e0a\\u6d771943-\\u5468\\u6770\\u4f26\",\"showlegend\":true,\"x\":[4.907048503873734,4.655586619396665],\"y\":[-1.1712070739621787,-2.2870702479701954],\"type\":\"scatter\"},{\"legendgroup\":\"lines\",\"marker\":{\"color\":\"#bf0000\",\"size\":[20,20]},\"mode\":\"markers\",\"name\":\"\\u5916\\u5a46-\\u5468\\u6770\\u4f26\",\"showlegend\":true,\"x\":[3.333534775445624,2.9797005245235555],\"y\":[-2.745391406304231,1.5085659877608764],\"type\":\"scatter\"},{\"legendgroup\":\"lines\",\"marker\":{\"color\":\"#800000\",\"size\":[20,20]},\"mode\":\"markers\",\"name\":\"\\u542c\\u5988\\u5988\\u7684\\u8bdd-\\u5468\\u6770\\u4f26\",\"showlegend\":true,\"x\":[0.2387989965854034,-0.3257397829449234],\"y\":[-3.742861300261344,-3.4453485227099834],\"type\":\"scatter\"},{\"legendgroup\":\"lines\",\"line\":{\"color\":\"#000080\"},\"mode\":\"lines\",\"showlegend\":false,\"x\":[10.016350188107904,7.229768429704854,6.729768429704854,6.229768429704854],\"y\":[2.899185028820934,2.899185028820934,0.8561193188732866,0.8561193188732866],\"type\":\"scatter\"},{\"legendgroup\":\"lines\",\"line\":{\"color\":\"#0000bf\"},\"mode\":\"lines\",\"showlegend\":false,\"x\":[10.016350188107904,1.5549281378557298,1.0549281378557298,0.5549281378557299],\"y\":[-11.793660246700682,-11.793660246700682,-1.5415424224997185,-1.5415424224997185],\"type\":\"scatter\"},{\"legendgroup\":\"lines\",\"line\":{\"color\":\"#0000ff\"},\"mode\":\"lines\",\"showlegend\":false,\"x\":[10.016350188107904,3.7506326446518328,3.2506326446518328,2.7506326446518328],\"y\":[13.918818985462146,13.918818985462146,3.663998388047509,3.663998388047509],\"type\":\"scatter\"},{\"legendgroup\":\"lines\",\"line\":{\"color\":\"#0028ff\"},\"mode\":\"lines\",\"showlegend\":false,\"x\":[10.016350188107904,6.088751794785894,5.588751794785894,5.088751794785894],\"y\":[10.24560766658174,10.24560766658174,4.755430102597052,4.755430102597052],\"type\":\"scatter\"},{\"legendgroup\":\"lines\",\"line\":{\"color\":\"#0060ff\"},\"mode\":\"lines\",\"showlegend\":false,\"x\":[-9.184755267094733,0.48864293164074524,0.9886429316407452,1.4886429316407452],\"y\":[17.59203030434255,17.59203030434255,5.495317870624569,5.495317870624569],\"type\":\"scatter\"},{\"legendgroup\":\"lines\",\"line\":{\"color\":\"#009cff\"},\"mode\":\"lines\",\"showlegend\":false,\"x\":[10.016350188107904,4.8015042568299044,4.3015042568299044,3.801504256829905],\"y\":[-2.6106319494996733,-2.6106319494996733,-0.04703524885313892,-0.04703524885313892],\"type\":\"scatter\"},{\"legendgroup\":\"lines\",\"line\":{\"color\":\"#00d4ff\"},\"mode\":\"lines\",\"showlegend\":false,\"x\":[10.016350188107904,6.228011899713171,5.728011899713171,5.228011899713171],\"y\":[-8.120448927820279,-8.120448927820279,-3.3664001711166938,-3.3664001711166938],\"type\":\"scatter\"},{\"legendgroup\":\"lines\",\"line\":{\"color\":\"#1fffd7\"},\"mode\":\"lines\",\"showlegend\":false,\"x\":[-9.184755267094733,-5.598794687900177,-5.098794687900177,-4.598794687900177],\"y\":[-11.793660246700682,-11.793660246700682,-3.9681280621190513,-3.9681280621190513],\"type\":\"scatter\"},{\"legendgroup\":\"lines\",\"line\":{\"color\":\"#4dffaa\"},\"mode\":\"lines\",\"showlegend\":false,\"x\":[-9.184755267094733,-7.7837891116635625,-7.2837891116635625,-6.7837891116635625],\"y\":[-8.120448927820279,-8.120448927820279,-3.8938274041454326,-3.8938274041454326],\"type\":\"scatter\"},{\"legendgroup\":\"lines\",\"line\":{\"color\":\"#7dff7a\"},\"mode\":\"lines\",\"showlegend\":false,\"x\":[-9.184755267094733,-9.184755267094733,-8.684755267094733,-8.184755267094733],\"y\":[-2.6106319494996733,-2.6106319494996733,-1.5525093498089797,-1.5525093498089797],\"type\":\"scatter\"},{\"legendgroup\":\"lines\",\"line\":{\"color\":\"#aaff4d\"},\"mode\":\"lines\",\"showlegend\":false,\"x\":[-9.184755267094733,-5.054983415211846,-4.554983415211846,-4.054983415211846],\"y\":[10.24560766658174,10.24560766658174,3.2028893468688473,3.2028893468688473],\"type\":\"scatter\"},{\"legendgroup\":\"lines\",\"line\":{\"color\":\"#d7ff1f\"},\"mode\":\"lines\",\"showlegend\":false,\"x\":[10.016350188107904,9.016350188107904,8.516350188107904,8.016350188107904],\"y\":[1.0625793693807317,1.0625793693807317,0.40174308956601323,0.40174308956601323],\"type\":\"scatter\"},{\"legendgroup\":\"lines\",\"line\":{\"color\":\"#ffe600\"},\"mode\":\"lines\",\"showlegend\":false,\"x\":[-9.184755267094733,-2.282353429138146,-1.7823534291381458,-1.2823534291381458],\"y\":[15.755424644902348,15.755424644902348,3.1024386463382743,3.1024386463382743],\"type\":\"scatter\"},{\"legendgroup\":\"lines\",\"line\":{\"color\":\"#ffb200\"},\"mode\":\"lines\",\"showlegend\":false,\"x\":[-9.184755267094733,-6.918296721085204,-6.418296721085204,-5.918296721085204],\"y\":[2.899185028820934,2.899185028820934,0.7605509145712933,0.7605509145712933],\"type\":\"scatter\"},{\"legendgroup\":\"lines\",\"line\":{\"color\":\"#ff7a00\"},\"mode\":\"lines\",\"showlegend\":false,\"x\":[-9.184755267094733,-5.011730172435937,-4.511730172435937,-4.011730172435937],\"y\":[4.735790688261137,4.735790688261137,-0.8254298168679848,-0.8254298168679848],\"type\":\"scatter\"},{\"legendgroup\":\"lines\",\"line\":{\"color\":\"#ff4700\"},\"mode\":\"lines\",\"showlegend\":false,\"x\":[10.016350188107904,2.3891557508990116,1.8891557508990116,1.3891557508990116],\"y\":[-13.630265906140885,-13.630265906140885,-4.27172546990552,-4.27172546990552],\"type\":\"scatter\"},{\"legendgroup\":\"lines\",\"line\":{\"color\":\"#ff1300\"},\"mode\":\"lines\",\"showlegend\":false,\"x\":[10.016350188107904,5.907048503873734,5.407048503873734,4.907048503873734],\"y\":[-4.447237608939876,-4.447237608939876,-1.1712070739621787,-1.1712070739621787],\"type\":\"scatter\"},{\"legendgroup\":\"lines\",\"line\":{\"color\":\"#bf0000\"},\"mode\":\"lines\",\"showlegend\":false,\"x\":[10.016350188107904,4.333534775445624,3.833534775445624,3.333534775445624],\"y\":[-9.957054587260481,-9.957054587260481,-2.745391406304231,-2.745391406304231],\"type\":\"scatter\"},{\"legendgroup\":\"lines\",\"line\":{\"color\":\"#800000\"},\"mode\":\"lines\",\"showlegend\":false,\"x\":[-9.184755267094733,-0.7612010034145966,-0.2612010034145966,0.2387989965854034],\"y\":[-15.466871565581087,-15.466871565581087,-3.742861300261344,-3.742861300261344],\"type\":\"scatter\"},{\"legendgroup\":\"lines\",\"line\":{\"color\":\"#000080\"},\"mode\":\"lines\",\"showlegend\":false,\"x\":[10.016350188107904,7.280037242395945,6.780037242395945,6.280037242395945],\"y\":[4.735790688261137,4.735790688261137,1.4973964108053597,1.4973964108053597],\"type\":\"scatter\"},{\"legendgroup\":\"lines\",\"line\":{\"color\":\"#0000bf\"},\"mode\":\"lines\",\"showlegend\":false,\"x\":[-9.184755267094733,-0.1247310283947165,0.3752689716052835,0.8752689716052835],\"y\":[12.082213326021943,12.082213326021943,-0.6937832175870248,-0.6937832175870248],\"type\":\"scatter\"},{\"legendgroup\":\"lines\",\"line\":{\"color\":\"#0000ff\"},\"mode\":\"lines\",\"showlegend\":false,\"x\":[10.016350188107904,3.9674855453753817,3.4674855453753817,2.9674855453753817],\"y\":[15.755424644902348,15.755424644902348,4.456812177354877,4.456812177354877],\"type\":\"scatter\"},{\"legendgroup\":\"lines\",\"line\":{\"color\":\"#0028ff\"},\"mode\":\"lines\",\"showlegend\":false,\"x\":[10.016350188107904,5.953291772326043,5.453291772326043,4.953291772326043],\"y\":[12.082213326021943,12.082213326021943,5.305608744984172,5.305608744984172],\"type\":\"scatter\"},{\"legendgroup\":\"lines\",\"line\":{\"color\":\"#0060ff\"},\"mode\":\"lines\",\"showlegend\":false,\"x\":[10.016350188107904,3.0481866798576207,2.5481866798576207,2.0481866798576207],\"y\":[17.59203030434255,17.59203030434255,5.864010101447517,5.864010101447517],\"type\":\"scatter\"},{\"legendgroup\":\"lines\",\"line\":{\"color\":\"#009cff\"},\"mode\":\"lines\",\"showlegend\":false,\"x\":[10.016350188107904,2.5078679649151754,2.0078679649151754,1.5078679649151752],\"y\":[6.572396347701336,6.572396347701336,-0.11987069869648018,-0.11987069869648018],\"type\":\"scatter\"},{\"legendgroup\":\"lines\",\"line\":{\"color\":\"#00d4ff\"},\"mode\":\"lines\",\"showlegend\":false,\"x\":[-9.184755267094733,-7.649578341394028,-7.149578341394028,-6.649578341394028],\"y\":[-6.2838432683800765,-6.2838432683800765,-3.028972791234085,-3.028972791234085],\"type\":\"scatter\"},{\"legendgroup\":\"lines\",\"line\":{\"color\":\"#1fffd7\"},\"mode\":\"lines\",\"showlegend\":false,\"x\":[-9.184755267094733,-6.516760570595228,-6.016760570595228,-5.516760570595228],\"y\":[-9.957054587260481,-9.957054587260481,-3.4417968981114164,-3.4417968981114164],\"type\":\"scatter\"},{\"legendgroup\":\"lines\",\"line\":{\"color\":\"#4dffaa\"},\"mode\":\"lines\",\"showlegend\":false,\"x\":[-9.184755267094733,-8.05140789315615,-7.551407893156149,-7.051407893156149],\"y\":[-4.447237608939876,-4.447237608939876,-1.573791096177684,-1.573791096177684],\"type\":\"scatter\"},{\"legendgroup\":\"lines\",\"line\":{\"color\":\"#7dff7a\"},\"mode\":\"lines\",\"showlegend\":false,\"x\":[-9.184755267094733,-8.767067462412207,-8.267067462412207,-7.767067462412208],\"y\":[-0.7740262900594708,-0.7740262900594708,-0.5208609102453341,-0.5208609102453341],\"type\":\"scatter\"},{\"legendgroup\":\"lines\",\"line\":{\"color\":\"#aaff4d\"},\"mode\":\"lines\",\"showlegend\":false,\"x\":[-9.184755267094733,-5.097966459539619,-4.597966459539619,-4.097966459539619],\"y\":[8.409002007141538,8.409002007141538,2.439911004315963,2.439911004315963],\"type\":\"scatter\"},{\"legendgroup\":\"lines\",\"line\":{\"color\":\"#d7ff1f\"},\"mode\":\"lines\",\"showlegend\":false,\"x\":[10.016350188107904,8.755175825067798,8.255175825067798,7.7551758250677985],\"y\":[-0.7740262900594708,-0.7740262900594708,-0.2780166394183929,-0.2780166394183929],\"type\":\"scatter\"},{\"legendgroup\":\"lines\",\"line\":{\"color\":\"#ffe600\"},\"mode\":\"lines\",\"showlegend\":false,\"x\":[-9.184755267094733,-3.0698543047782643,-2.5698543047782643,-2.0698543047782643],\"y\":[13.918818985462146,13.918818985462146,3.440566544599856,3.440566544599856],\"type\":\"scatter\"},{\"legendgroup\":\"lines\",\"line\":{\"color\":\"#ffb200\"},\"mode\":\"lines\",\"showlegend\":false,\"x\":[-9.184755267094733,-6.31858355055319,-5.81858355055319,-5.31858355055319],\"y\":[6.572396347701336,6.572396347701336,1.6673196304874742,1.6673196304874742],\"type\":\"scatter\"},{\"legendgroup\":\"lines\",\"line\":{\"color\":\"#ff7a00\"},\"mode\":\"lines\",\"showlegend\":false,\"x\":[-9.184755267094733,-6.0181347407247605,-5.5181347407247605,-5.0181347407247605],\"y\":[1.0625793693807317,1.0625793693807317,-0.7474856760543752,-0.7474856760543752],\"type\":\"scatter\"},{\"legendgroup\":\"lines\",\"line\":{\"color\":\"#ff4700\"},\"mode\":\"lines\",\"showlegend\":false,\"x\":[10.016350188107904,2.6000664550706993,2.1000664550706993,1.6000664550706996],\"y\":[-15.466871565581087,-15.466871565581087,-5.155623855193696,-5.155623855193696],\"type\":\"scatter\"},{\"legendgroup\":\"lines\",\"line\":{\"color\":\"#ff1300\"},\"mode\":\"lines\",\"showlegend\":false,\"x\":[10.016350188107904,5.655586619396665,5.155586619396665,4.655586619396665],\"y\":[-6.2838432683800765,-6.2838432683800765,-2.2870702479701954,-2.2870702479701954],\"type\":\"scatter\"},{\"legendgroup\":\"lines\",\"line\":{\"color\":\"#bf0000\"},\"mode\":\"lines\",\"showlegend\":false,\"x\":[10.016350188107904,3.9797005245235555,3.4797005245235555,2.9797005245235555],\"y\":[8.409002007141538,8.409002007141538,1.5085659877608764,1.5085659877608764],\"type\":\"scatter\"},{\"legendgroup\":\"lines\",\"line\":{\"color\":\"#800000\"},\"mode\":\"lines\",\"showlegend\":false,\"x\":[-9.184755267094733,-1.3257397829449233,-0.8257397829449233,-0.3257397829449234],\"y\":[-13.630265906140885,-13.630265906140885,-3.4453485227099834,-3.4453485227099834],\"type\":\"scatter\"}],                        {\"autosize\":false,\"height\":800,\"width\":1500,\"template\":{\"data\":{\"histogram2dcontour\":[{\"type\":\"histogram2dcontour\",\"colorbar\":{\"outlinewidth\":0,\"ticks\":\"\"},\"colorscale\":[[0.0,\"#0d0887\"],[0.1111111111111111,\"#46039f\"],[0.2222222222222222,\"#7201a8\"],[0.3333333333333333,\"#9c179e\"],[0.4444444444444444,\"#bd3786\"],[0.5555555555555556,\"#d8576b\"],[0.6666666666666666,\"#ed7953\"],[0.7777777777777778,\"#fb9f3a\"],[0.8888888888888888,\"#fdca26\"],[1.0,\"#f0f921\"]]}],\"choropleth\":[{\"type\":\"choropleth\",\"colorbar\":{\"outlinewidth\":0,\"ticks\":\"\"}}],\"histogram2d\":[{\"type\":\"histogram2d\",\"colorbar\":{\"outlinewidth\":0,\"ticks\":\"\"},\"colorscale\":[[0.0,\"#0d0887\"],[0.1111111111111111,\"#46039f\"],[0.2222222222222222,\"#7201a8\"],[0.3333333333333333,\"#9c179e\"],[0.4444444444444444,\"#bd3786\"],[0.5555555555555556,\"#d8576b\"],[0.6666666666666666,\"#ed7953\"],[0.7777777777777778,\"#fb9f3a\"],[0.8888888888888888,\"#fdca26\"],[1.0,\"#f0f921\"]]}],\"heatmap\":[{\"type\":\"heatmap\",\"colorbar\":{\"outlinewidth\":0,\"ticks\":\"\"},\"colorscale\":[[0.0,\"#0d0887\"],[0.1111111111111111,\"#46039f\"],[0.2222222222222222,\"#7201a8\"],[0.3333333333333333,\"#9c179e\"],[0.4444444444444444,\"#bd3786\"],[0.5555555555555556,\"#d8576b\"],[0.6666666666666666,\"#ed7953\"],[0.7777777777777778,\"#fb9f3a\"],[0.8888888888888888,\"#fdca26\"],[1.0,\"#f0f921\"]]}],\"heatmapgl\":[{\"type\":\"heatmapgl\",\"colorbar\":{\"outlinewidth\":0,\"ticks\":\"\"},\"colorscale\":[[0.0,\"#0d0887\"],[0.1111111111111111,\"#46039f\"],[0.2222222222222222,\"#7201a8\"],[0.3333333333333333,\"#9c179e\"],[0.4444444444444444,\"#bd3786\"],[0.5555555555555556,\"#d8576b\"],[0.6666666666666666,\"#ed7953\"],[0.7777777777777778,\"#fb9f3a\"],[0.8888888888888888,\"#fdca26\"],[1.0,\"#f0f921\"]]}],\"contourcarpet\":[{\"type\":\"contourcarpet\",\"colorbar\":{\"outlinewidth\":0,\"ticks\":\"\"}}],\"contour\":[{\"type\":\"contour\",\"colorbar\":{\"outlinewidth\":0,\"ticks\":\"\"},\"colorscale\":[[0.0,\"#0d0887\"],[0.1111111111111111,\"#46039f\"],[0.2222222222222222,\"#7201a8\"],[0.3333333333333333,\"#9c179e\"],[0.4444444444444444,\"#bd3786\"],[0.5555555555555556,\"#d8576b\"],[0.6666666666666666,\"#ed7953\"],[0.7777777777777778,\"#fb9f3a\"],[0.8888888888888888,\"#fdca26\"],[1.0,\"#f0f921\"]]}],\"surface\":[{\"type\":\"surface\",\"colorbar\":{\"outlinewidth\":0,\"ticks\":\"\"},\"colorscale\":[[0.0,\"#0d0887\"],[0.1111111111111111,\"#46039f\"],[0.2222222222222222,\"#7201a8\"],[0.3333333333333333,\"#9c179e\"],[0.4444444444444444,\"#bd3786\"],[0.5555555555555556,\"#d8576b\"],[0.6666666666666666,\"#ed7953\"],[0.7777777777777778,\"#fb9f3a\"],[0.8888888888888888,\"#fdca26\"],[1.0,\"#f0f921\"]]}],\"mesh3d\":[{\"type\":\"mesh3d\",\"colorbar\":{\"outlinewidth\":0,\"ticks\":\"\"}}],\"scatter\":[{\"fillpattern\":{\"fillmode\":\"overlay\",\"size\":10,\"solidity\":0.2},\"type\":\"scatter\"}],\"parcoords\":[{\"type\":\"parcoords\",\"line\":{\"colorbar\":{\"outlinewidth\":0,\"ticks\":\"\"}}}],\"scatterpolargl\":[{\"type\":\"scatterpolargl\",\"marker\":{\"colorbar\":{\"outlinewidth\":0,\"ticks\":\"\"}}}],\"bar\":[{\"error_x\":{\"color\":\"#2a3f5f\"},\"error_y\":{\"color\":\"#2a3f5f\"},\"marker\":{\"line\":{\"color\":\"#E5ECF6\",\"width\":0.5},\"pattern\":{\"fillmode\":\"overlay\",\"size\":10,\"solidity\":0.2}},\"type\":\"bar\"}],\"scattergeo\":[{\"type\":\"scattergeo\",\"marker\":{\"colorbar\":{\"outlinewidth\":0,\"ticks\":\"\"}}}],\"scatterpolar\":[{\"type\":\"scatterpolar\",\"marker\":{\"colorbar\":{\"outlinewidth\":0,\"ticks\":\"\"}}}],\"histogram\":[{\"marker\":{\"pattern\":{\"fillmode\":\"overlay\",\"size\":10,\"solidity\":0.2}},\"type\":\"histogram\"}],\"scattergl\":[{\"type\":\"scattergl\",\"marker\":{\"colorbar\":{\"outlinewidth\":0,\"ticks\":\"\"}}}],\"scatter3d\":[{\"type\":\"scatter3d\",\"line\":{\"colorbar\":{\"outlinewidth\":0,\"ticks\":\"\"}},\"marker\":{\"colorbar\":{\"outlinewidth\":0,\"ticks\":\"\"}}}],\"scattermapbox\":[{\"type\":\"scattermapbox\",\"marker\":{\"colorbar\":{\"outlinewidth\":0,\"ticks\":\"\"}}}],\"scatterternary\":[{\"type\":\"scatterternary\",\"marker\":{\"colorbar\":{\"outlinewidth\":0,\"ticks\":\"\"}}}],\"scattercarpet\":[{\"type\":\"scattercarpet\",\"marker\":{\"colorbar\":{\"outlinewidth\":0,\"ticks\":\"\"}}}],\"carpet\":[{\"aaxis\":{\"endlinecolor\":\"#2a3f5f\",\"gridcolor\":\"white\",\"linecolor\":\"white\",\"minorgridcolor\":\"white\",\"startlinecolor\":\"#2a3f5f\"},\"baxis\":{\"endlinecolor\":\"#2a3f5f\",\"gridcolor\":\"white\",\"linecolor\":\"white\",\"minorgridcolor\":\"white\",\"startlinecolor\":\"#2a3f5f\"},\"type\":\"carpet\"}],\"table\":[{\"cells\":{\"fill\":{\"color\":\"#EBF0F8\"},\"line\":{\"color\":\"white\"}},\"header\":{\"fill\":{\"color\":\"#C8D4E3\"},\"line\":{\"color\":\"white\"}},\"type\":\"table\"}],\"barpolar\":[{\"marker\":{\"line\":{\"color\":\"#E5ECF6\",\"width\":0.5},\"pattern\":{\"fillmode\":\"overlay\",\"size\":10,\"solidity\":0.2}},\"type\":\"barpolar\"}],\"pie\":[{\"automargin\":true,\"type\":\"pie\"}]},\"layout\":{\"autotypenumbers\":\"strict\",\"colorway\":[\"#636efa\",\"#EF553B\",\"#00cc96\",\"#ab63fa\",\"#FFA15A\",\"#19d3f3\",\"#FF6692\",\"#B6E880\",\"#FF97FF\",\"#FECB52\"],\"font\":{\"color\":\"#2a3f5f\"},\"hovermode\":\"closest\",\"hoverlabel\":{\"align\":\"left\"},\"paper_bgcolor\":\"white\",\"plot_bgcolor\":\"#E5ECF6\",\"polar\":{\"bgcolor\":\"#E5ECF6\",\"angularaxis\":{\"gridcolor\":\"white\",\"linecolor\":\"white\",\"ticks\":\"\"},\"radialaxis\":{\"gridcolor\":\"white\",\"linecolor\":\"white\",\"ticks\":\"\"}},\"ternary\":{\"bgcolor\":\"#E5ECF6\",\"aaxis\":{\"gridcolor\":\"white\",\"linecolor\":\"white\",\"ticks\":\"\"},\"baxis\":{\"gridcolor\":\"white\",\"linecolor\":\"white\",\"ticks\":\"\"},\"caxis\":{\"gridcolor\":\"white\",\"linecolor\":\"white\",\"ticks\":\"\"}},\"coloraxis\":{\"colorbar\":{\"outlinewidth\":0,\"ticks\":\"\"}},\"colorscale\":{\"sequential\":[[0.0,\"#0d0887\"],[0.1111111111111111,\"#46039f\"],[0.2222222222222222,\"#7201a8\"],[0.3333333333333333,\"#9c179e\"],[0.4444444444444444,\"#bd3786\"],[0.5555555555555556,\"#d8576b\"],[0.6666666666666666,\"#ed7953\"],[0.7777777777777778,\"#fb9f3a\"],[0.8888888888888888,\"#fdca26\"],[1.0,\"#f0f921\"]],\"sequentialminus\":[[0.0,\"#0d0887\"],[0.1111111111111111,\"#46039f\"],[0.2222222222222222,\"#7201a8\"],[0.3333333333333333,\"#9c179e\"],[0.4444444444444444,\"#bd3786\"],[0.5555555555555556,\"#d8576b\"],[0.6666666666666666,\"#ed7953\"],[0.7777777777777778,\"#fb9f3a\"],[0.8888888888888888,\"#fdca26\"],[1.0,\"#f0f921\"]],\"diverging\":[[0,\"#8e0152\"],[0.1,\"#c51b7d\"],[0.2,\"#de77ae\"],[0.3,\"#f1b6da\"],[0.4,\"#fde0ef\"],[0.5,\"#f7f7f7\"],[0.6,\"#e6f5d0\"],[0.7,\"#b8e186\"],[0.8,\"#7fbc41\"],[0.9,\"#4d9221\"],[1,\"#276419\"]]},\"xaxis\":{\"gridcolor\":\"white\",\"linecolor\":\"white\",\"ticks\":\"\",\"title\":{\"standoff\":15},\"zerolinecolor\":\"white\",\"automargin\":true,\"zerolinewidth\":2},\"yaxis\":{\"gridcolor\":\"white\",\"linecolor\":\"white\",\"ticks\":\"\",\"title\":{\"standoff\":15},\"zerolinecolor\":\"white\",\"automargin\":true,\"zerolinewidth\":2},\"scene\":{\"xaxis\":{\"backgroundcolor\":\"#E5ECF6\",\"gridcolor\":\"white\",\"linecolor\":\"white\",\"showbackground\":true,\"ticks\":\"\",\"zerolinecolor\":\"white\",\"gridwidth\":2},\"yaxis\":{\"backgroundcolor\":\"#E5ECF6\",\"gridcolor\":\"white\",\"linecolor\":\"white\",\"showbackground\":true,\"ticks\":\"\",\"zerolinecolor\":\"white\",\"gridwidth\":2},\"zaxis\":{\"backgroundcolor\":\"#E5ECF6\",\"gridcolor\":\"white\",\"linecolor\":\"white\",\"showbackground\":true,\"ticks\":\"\",\"zerolinecolor\":\"white\",\"gridwidth\":2}},\"shapedefaults\":{\"line\":{\"color\":\"#2a3f5f\"}},\"annotationdefaults\":{\"arrowcolor\":\"#2a3f5f\",\"arrowhead\":0,\"arrowwidth\":1},\"geo\":{\"bgcolor\":\"white\",\"landcolor\":\"#E5ECF6\",\"subunitcolor\":\"white\",\"showland\":true,\"showlakes\":true,\"lakecolor\":\"white\"},\"title\":{\"x\":0.05},\"mapbox\":{\"style\":\"light\"}}},\"annotations\":[{\"bgcolor\":\"#e6e6f2\",\"bordercolor\":\"#000080\",\"borderpad\":2,\"font\":{\"color\":\"black\"},\"showarrow\":false,\"text\":\"\\u4e0d\\u5fc5\\u8bf4\\u78a7\\u7eff\\u7684\\u83dc\\u7566\\uff0c\\u5149...\\u4ece\\u540e\\u7a8d\\u55b7\\u51fa\\u4e00\\u9635\\u70df\\u96fe\\u3002\",\"x\":10.016350188107904,\"xanchor\":\"left\",\"xref\":\"x\",\"y\":2.899185028820934,\"yanchor\":\"middle\",\"yref\":\"y\"},{\"bgcolor\":\"#e6e6f9\",\"bordercolor\":\"#0000bf\",\"borderpad\":2,\"font\":{\"color\":\"black\"},\"showarrow\":false,\"text\":\"\\u6211\\u8bf4\\u9053\\uff0c\\u201c\\u7238\\u7238\\uff0c\\u4f60\\u8d70...\\u4ed6\\u4e0d\\u80af\\uff0c\\u53ea\\u597d\\u8ba9\\u4ed6\\u53bb\\u3002\",\"x\":10.016350188107904,\"xanchor\":\"left\",\"xref\":\"x\",\"y\":-11.793660246700682,\"yanchor\":\"middle\",\"yref\":\"y\"},{\"bgcolor\":\"#e6e6ff\",\"bordercolor\":\"#0000ff\",\"borderpad\":2,\"font\":{\"color\":\"black\"},\"showarrow\":false,\"text\":\"\\u7687\\u5bab\\u7684\\u4f8d\\u81e3\\u548c\\u4e1e\\u76f8\\u5e9c\\u7684...\\u65b9\\uff0c\\u83b7\\u5f97\\u66f4\\u597d\\u7684\\u6548\\u679c\\u3002\",\"x\":10.016350188107904,\"xanchor\":\"left\",\"xref\":\"x\",\"y\":13.918818985462146,\"yanchor\":\"middle\",\"yref\":\"y\"},{\"bgcolor\":\"#e6eaff\",\"bordercolor\":\"#0028ff\",\"borderpad\":2,\"font\":{\"color\":\"black\"},\"showarrow\":false,\"text\":\"\\u8fd9\\u672c\\u4e66\\u4ee5\\u524d\\u7ecf\\u5e38\\u88ab\\u58a8\\u5927...\\u4e00\\u76f4\\u9ed8\\u9ed8\\u81ea\\u884c\\u53c2\\u609f\\u7740\\u3002\",\"x\":10.016350188107904,\"xanchor\":\"left\",\"xref\":\"x\",\"y\":10.24560766658174,\"yanchor\":\"middle\",\"yref\":\"y\"},{\"bgcolor\":\"#e6efff\",\"bordercolor\":\"#0060ff\",\"borderpad\":2,\"font\":{\"color\":\"black\"},\"showarrow\":false,\"text\":\"\\u8fd9\\u5c31\\u662f\\u4f17\\u4eba\\u6b64\\u65f6\\u5173\\u6ce8\\u7684...\\u503c\\u9009\\u624b\\uff09\\u4e5f\\u4e0d\\u901e\\u591a\\u8ba9\\u3002\",\"x\":-9.184755267094733,\"xanchor\":\"right\",\"xref\":\"x\",\"y\":17.59203030434255,\"yanchor\":\"middle\",\"yref\":\"y\"},{\"bgcolor\":\"#e6f5ff\",\"bordercolor\":\"#009cff\",\"borderpad\":2,\"font\":{\"color\":\"black\"},\"showarrow\":false,\"text\":\"\\u9c81\\u5bb6\\u73b0\\u5728\\u624d\\u5403\\u5b8c\\u665a\\u996d\\uff0c...\\u80cc\\uff0c\\u671b\\u7740\\u9c81\\u5988\\u6253\\u7740\\u564e\\u3002\",\"x\":10.016350188107904,\"xanchor\":\"left\",\"xref\":\"x\",\"y\":-2.6106319494996733,\"yanchor\":\"middle\",\"yref\":\"y\"},{\"bgcolor\":\"#e6fbff\",\"bordercolor\":\"#00d4ff\",\"borderpad\":2,\"font\":{\"color\":\"black\"},\"showarrow\":false,\"text\":\"\\u8fd8\\u8bb0\\u5f97\\u5f53\\u5929\\u65c5\\u9986\\u7684\\u95e8\\u724c...\\u8fd8\\u71c3\\u4eae\\u90a3\\u4efd\\u5fae\\u6e29\\u7684\\u4fbf\\u5f53\",\"x\":10.016350188107904,\"xanchor\":\"left\",\"xref\":\"x\",\"y\":-8.120448927820279,\"yanchor\":\"middle\",\"yref\":\"y\"},{\"bgcolor\":\"#e9fffb\",\"bordercolor\":\"#1fffd7\",\"borderpad\":2,\"font\":{\"color\":\"black\"},\"showarrow\":false,\"text\":\"\\u4ed6\\u4e0d\\u7f81\\u7684\\u8138\\u50cf\\u5929\\u8272\\u5c06\\u665a...\\u6f2b\\u957f\\u7684\\u544a\\u522b\\u662f\\u9752\\u6625\\u76db\\u5bb4\",\"x\":-9.184755267094733,\"xanchor\":\"right\",\"xref\":\"x\",\"y\":-11.793660246700682,\"yanchor\":\"middle\",\"yref\":\"y\"},{\"bgcolor\":\"#edfff7\",\"bordercolor\":\"#4dffaa\",\"borderpad\":2,\"font\":{\"color\":\"black\"},\"showarrow\":false,\"text\":\"\\u5c31\\u7b97\\u5929\\u7a7a\\u518d\\u6df1\\u770b\\u4e0d\\u51fa\\u88c2...\\u60b2\\u5267\\u91cd\\u6f14\\u6211\\u7684\\u547d\\u4e2d\\u547d\\u4e2d\",\"x\":-9.184755267094733,\"xanchor\":\"right\",\"xref\":\"x\",\"y\":-8.120448927820279,\"yanchor\":\"middle\",\"yref\":\"y\"},{\"bgcolor\":\"#f2fff2\",\"bordercolor\":\"#7dff7a\",\"borderpad\":2,\"font\":{\"color\":\"black\"},\"showarrow\":false,\"text\":\"\\u8fd8\\u6ca1\\u597d\\u597d\\u7684\\u611f\\u53d7 \\u96ea\\u82b1...\\u5b66\\u4f1a\\u73cd\\u60dc \\u5929\\u957f\\u548c\\u5730\\u4e45\",\"x\":-9.184755267094733,\"xanchor\":\"right\",\"xref\":\"x\",\"y\":-2.6106319494996733,\"yanchor\":\"middle\",\"yref\":\"y\"},{\"bgcolor\":\"#f7ffed\",\"bordercolor\":\"#aaff4d\",\"borderpad\":2,\"font\":{\"color\":\"black\"},\"showarrow\":false,\"text\":\"\\u60f3\\u8d70\\u51fa\\u4f60\\u63a7\\u5236\\u7684\\u9886\\u57df ...\\u5907 \\u4e5f\\u6ca1\\u6709\\u540e\\u8def\\u53ef\\u4ee5\\u9000\",\"x\":-9.184755267094733,\"xanchor\":\"right\",\"xref\":\"x\",\"y\":10.24560766658174,\"yanchor\":\"middle\",\"yref\":\"y\"},{\"bgcolor\":\"#fbffe9\",\"bordercolor\":\"#d7ff1f\",\"borderpad\":2,\"font\":{\"color\":\"black\"},\"showarrow\":false,\"text\":\"\\u6c99\\u6f20\\u4e4b\\u4e2d\\u600e\\u4e48\\u4f1a\\u6709\\u6ce5\\u9cc5...\\u654c\\u5bf9\\u91ce\\u725b \\u5728\\u8fdc\\u65b9\\u51b3\\u6597\",\"x\":10.016350188107904,\"xanchor\":\"left\",\"xref\":\"x\",\"y\":1.0625793693807317,\"yanchor\":\"middle\",\"yref\":\"y\"},{\"bgcolor\":\"#fffde6\",\"bordercolor\":\"#ffe600\",\"borderpad\":2,\"font\":{\"color\":\"black\"},\"showarrow\":false,\"text\":\"\\u6709\\u4ec0\\u4e48\\u4e0d\\u59a5 \\u6709\\u8bdd\\u5c31\\u76f4...\\u8fdb\\u7403 \\u5355\\u624b\\u8fc7\\u4eba\\u8fd0\\u7403\\u3000\",\"x\":-9.184755267094733,\"xanchor\":\"right\",\"xref\":\"x\",\"y\":15.755424644902348,\"yanchor\":\"middle\",\"yref\":\"y\"},{\"bgcolor\":\"#fff7e6\",\"bordercolor\":\"#ffb200\",\"borderpad\":2,\"font\":{\"color\":\"black\"},\"showarrow\":false,\"text\":\"\\u662f\\u96e8\\u662f\\u98ce \\u8fd8\\u662f\\u5f69\\u8679 ... \\u7a7f\\u68ad\\u65f6\\u95f4\\u7684\\u753b\\u9762\\u7684\\u949f\",\"x\":-9.184755267094733,\"xanchor\":\"right\",\"xref\":\"x\",\"y\":2.899185028820934,\"yanchor\":\"middle\",\"yref\":\"y\"},{\"bgcolor\":\"#fff2e6\",\"bordercolor\":\"#ff7a00\",\"borderpad\":2,\"font\":{\"color\":\"black\"},\"showarrow\":false,\"text\":\"\\u96be\\u8fc7 \\u662f\\u56e0\\u4e3a\\u95f7\\u4e86\\u5f88\\u4e45...\\u8111\\u888b\\u6709\\u95ee\\u9898 \\u968f\\u4fbf\\u8bf4\\u8bf4\",\"x\":-9.184755267094733,\"xanchor\":\"right\",\"xref\":\"x\",\"y\":4.735790688261137,\"yanchor\":\"middle\",\"yref\":\"y\"},{\"bgcolor\":\"#ffede6\",\"bordercolor\":\"#ff4700\",\"borderpad\":2,\"font\":{\"color\":\"black\"},\"showarrow\":false,\"text\":\"\\u6211\\u542c\\u8bf4\\u901a\\u5e38\\u5728\\u6218\\u4e89\\u540e\\u5c31...\\u4e3a\\u4ec0\\u4e48\\u6211\\u7238\\u7238 \\u90a3\\u4e48\\u51f6\",\"x\":10.016350188107904,\"xanchor\":\"left\",\"xref\":\"x\",\"y\":-13.630265906140885,\"yanchor\":\"middle\",\"yref\":\"y\"},{\"bgcolor\":\"#ffe7e6\",\"bordercolor\":\"#ff1300\",\"borderpad\":2,\"font\":{\"color\":\"black\"},\"showarrow\":false,\"text\":\"\\u6cdb\\u9ec4\\u7684\\u6625\\u8054\\u8fd8\\u6b8b\\u7559\\u5728\\u5899...\\u59e5\\u59e5\\u5f53\\u5e74\\u917f\\u7684\\u8c46\\u74e3\\u9171\\u3002\",\"x\":10.016350188107904,\"xanchor\":\"left\",\"xref\":\"x\",\"y\":-4.447237608939876,\"yanchor\":\"middle\",\"yref\":\"y\"},{\"bgcolor\":\"#f9e6e6\",\"bordercolor\":\"#bf0000\",\"borderpad\":2,\"font\":{\"color\":\"black\"},\"showarrow\":false,\"text\":\"\\u4eca\\u5929\\u662f\\u5916\\u5a46\\u751f\\u65e5 \\u6211\\u6362...\\u5931\\u53bb\\u4e86\\u7231\\u60c5\\u53ea\\u76fc\\u671b\\u4eb2\\u60c5\",\"x\":10.016350188107904,\"xanchor\":\"left\",\"xref\":\"x\",\"y\":-9.957054587260481,\"yanchor\":\"middle\",\"yref\":\"y\"},{\"bgcolor\":\"#f2e6e6\",\"bordercolor\":\"#800000\",\"borderpad\":2,\"font\":{\"color\":\"black\"},\"showarrow\":false,\"text\":\"\\u5c0f\\u670b\\u53cb\\uff0c\\u4f60\\u662f\\u5426\\u6709\\u5f88\\u591a...\\u5c31\\u4f1a\\u5f00\\u59cb\\u61c2\\u5f97\\u8fd9\\u6bb5\\u8bdd\\u3002\",\"x\":-9.184755267094733,\"xanchor\":\"right\",\"xref\":\"x\",\"y\":-15.466871565581087,\"yanchor\":\"middle\",\"yref\":\"y\"},{\"bgcolor\":\"#e6e6f2\",\"bordercolor\":\"#000080\",\"borderpad\":2,\"font\":{\"color\":\"black\"},\"showarrow\":false,\"text\":\"\\u4f55\\u9996\\u4e4c\\u85e4\\u548c\\u6728\\u83b2\\u85e4\\u7f20\\u7edc...\\u5473\\u90fd\\u6bd4\\u6851\\u6939\\u8981\\u597d\\u5f97\\u8fdc\\u3002\",\"x\":10.016350188107904,\"xanchor\":\"left\",\"xref\":\"x\",\"y\":4.735790688261137,\"yanchor\":\"middle\",\"yref\":\"y\"},{\"bgcolor\":\"#e6e6f9\",\"bordercolor\":\"#0000bf\",\"borderpad\":2,\"font\":{\"color\":\"black\"},\"showarrow\":false,\"text\":\"\\u6211\\u770b\\u89c1\\u4ed6\\u6234\\u7740\\u9ed1\\u5e03\\u5c0f\\u5e3d...\\u7684\\u6cea\\u5f88\\u5feb\\u5730\\u6d41\\u4e0b\\u6765\\u4e86\\u3002\",\"x\":-9.184755267094733,\"xanchor\":\"right\",\"xref\":\"x\",\"y\":12.082213326021943,\"yanchor\":\"middle\",\"yref\":\"y\"},{\"bgcolor\":\"#e6e6ff\",\"bordercolor\":\"#0000ff\",\"borderpad\":2,\"font\":{\"color\":\"black\"},\"showarrow\":false,\"text\":\"\\u5c06\\u519b\\u5411\\u5ba0\\uff0c\\u6027\\u683c\\u548c\\u5584\\uff0c...\\u7684\\u5174\\u9686\\u5c31\\u6307\\u65e5\\u53ef\\u5f85\\u4e86\\u3002\",\"x\":10.016350188107904,\"xanchor\":\"left\",\"xref\":\"x\",\"y\":15.755424644902348,\"yanchor\":\"middle\",\"yref\":\"y\"},{\"bgcolor\":\"#e6eaff\",\"bordercolor\":\"#0028ff\",\"borderpad\":2,\"font\":{\"color\":\"black\"},\"showarrow\":false,\"text\":\"\\u6b64\\u5377\\u79d8\\u7c4d\\u662f\\u5728\\u6697\\u683c\\u5185\\u548c...\\u4e2a\\u957f\\u751f\\u4e0d\\u6b7b\\u7684\\u795e\\u4ed9\\u5462\\uff01\",\"x\":10.016350188107904,\"xanchor\":\"left\",\"xref\":\"x\",\"y\":12.082213326021943,\"yanchor\":\"middle\",\"yref\":\"y\"},{\"bgcolor\":\"#e6efff\",\"bordercolor\":\"#0060ff\",\"borderpad\":2,\"font\":{\"color\":\"black\"},\"showarrow\":false,\"text\":\"\\u672c\\u8d5b\\u5b63\\u5b59\\u7fd4\\u7387\\u9886\\u5b9e\\u529b\\u5e73...\\uff1a\\u6218\\u6597\\u6cd5\\u5e08\\u4e00\\u53f6\\u4e4b\\u79cb\\u3002\",\"x\":10.016350188107904,\"xanchor\":\"left\",\"xref\":\"x\",\"y\":17.59203030434255,\"yanchor\":\"middle\",\"yref\":\"y\"},{\"bgcolor\":\"#e6f5ff\",\"bordercolor\":\"#009cff\",\"borderpad\":2,\"font\":{\"color\":\"black\"},\"showarrow\":false,\"text\":\"\\u4ed6\\u7684\\u8d64\\u811a\\u5ffd\\u7136\\u653e\\u5728\\u6905\\u5b50...\\u95f2\\u8bdd\\uff0c\\u6709\\u9752\\u86d9\\u7684\\u53eb\\u58f0\\u3002\",\"x\":10.016350188107904,\"xanchor\":\"left\",\"xref\":\"x\",\"y\":6.572396347701336,\"yanchor\":\"middle\",\"yref\":\"y\"},{\"bgcolor\":\"#e6fbff\",\"bordercolor\":\"#00d4ff\",\"borderpad\":2,\"font\":{\"color\":\"black\"},\"showarrow\":false,\"text\":\"\\u526a\\u5f71\\u7684\\u4f60\\u8f6e\\u5ed3\\u592a\\u597d\\u770b ...\\u8981\\u51b3\\u5fc3\\u5fd8\\u8bb0\\u6211\\u4fbf\\u8bb0\\u4e0d\\u8d77\",\"x\":-9.184755267094733,\"xanchor\":\"right\",\"xref\":\"x\",\"y\":-6.2838432683800765,\"yanchor\":\"middle\",\"yref\":\"y\"},{\"bgcolor\":\"#e9fffb\",\"bordercolor\":\"#1fffd7\",\"borderpad\":2,\"font\":{\"color\":\"black\"},\"showarrow\":false,\"text\":\"\\u6211\\u51ac\\u591c\\u7684\\u624b\\u50cf\\u6eda\\u70eb\\u7684\\u8a93...\\u9a84\\u7eb5\\u7684\\u5fc3\\u6027\\u5df2\\u70df\\u6d88\\u4e91\\u6563\",\"x\":-9.184755267094733,\"xanchor\":\"right\",\"xref\":\"x\",\"y\":-9.957054587260481,\"yanchor\":\"middle\",\"yref\":\"y\"},{\"bgcolor\":\"#edfff7\",\"bordercolor\":\"#4dffaa\",\"borderpad\":2,\"font\":{\"color\":\"black\"},\"showarrow\":false,\"text\":\"\\u8d8a\\u7f8e\\u4e3d\\u7684\\u4e1c\\u897f \\u6211\\u8d8a\\u4e0d...\\u7136\\u540e\\u5929\\u7a7a\\u53c8\\u518d\\u6d8c\\u8d77\\u5bc6\\u4e91\",\"x\":-9.184755267094733,\"xanchor\":\"right\",\"xref\":\"x\",\"y\":-4.447237608939876,\"yanchor\":\"middle\",\"yref\":\"y\"},{\"bgcolor\":\"#f2fff2\",\"bordercolor\":\"#7dff7a\",\"borderpad\":2,\"font\":{\"color\":\"black\"},\"showarrow\":false,\"text\":\"\\u6709\\u65f6\\u5019 \\u6709\\u65f6\\u5019 \\u6211\\u4f1a...\\u4f60\\u4f1a\\u966a\\u6211 \\u770b\\u7ec6\\u6c34\\u957f\\u6d41\",\"x\":-9.184755267094733,\"xanchor\":\"right\",\"xref\":\"x\",\"y\":-0.7740262900594708,\"yanchor\":\"middle\",\"yref\":\"y\"},{\"bgcolor\":\"#f7ffed\",\"bordercolor\":\"#aaff4d\",\"borderpad\":2,\"font\":{\"color\":\"black\"},\"showarrow\":false,\"text\":\"\\u60f3\\u9003\\u79bb\\u4f60\\u5e03\\u4e0b\\u7684\\u9677\\u9631 ...\\u6c14 \\u4e5f\\u6ca1\\u6709\\u9003\\u8131\\u7684\\u5e78\\u8fd0\",\"x\":-9.184755267094733,\"xanchor\":\"right\",\"xref\":\"x\",\"y\":8.409002007141538,\"yanchor\":\"middle\",\"yref\":\"y\"},{\"bgcolor\":\"#fbffe9\",\"bordercolor\":\"#d7ff1f\",\"borderpad\":2,\"font\":{\"color\":\"black\"},\"showarrow\":false,\"text\":\"\\u5728\\u4e00\\u5904\\u88ab\\u5e9f\\u5f03\\u7684\\u767d\\u8681\\u4e18...\\u4e8b\\u90fd\\u6709 \\u5305\\u62ec\\u50cf\\u732b\\u7684\\u72d7\",\"x\":10.016350188107904,\"xanchor\":\"left\",\"xref\":\"x\",\"y\":-0.7740262900594708,\"yanchor\":\"middle\",\"yref\":\"y\"},{\"bgcolor\":\"#fffde6\",\"bordercolor\":\"#ffe600\",\"borderpad\":2,\"font\":{\"color\":\"black\"},\"showarrow\":false,\"text\":\"\\u7bee\\u4e0b\\u7981\\u533a\\u6e38\\u8d70 \\u6f02\\u4eae\\u7684...\\u4f60\\u8fd9\\u79cd\\u961f\\u53cb \\u778e\\u900f\\u4e86\\u6211\",\"x\":-9.184755267094733,\"xanchor\":\"right\",\"xref\":\"x\",\"y\":13.918818985462146,\"yanchor\":\"middle\",\"yref\":\"y\"},{\"bgcolor\":\"#fff7e6\",\"bordercolor\":\"#ffb200\",\"borderpad\":2,\"font\":{\"color\":\"black\"},\"showarrow\":false,\"text\":\"\\u4ece\\u53cd\\u65b9\\u5411 \\u5f00\\u59cb\\u79fb\\u52a8 ...\\u7eb5\\u5bb9 \\u8138\\u4e0a\\u6c79\\u6d8c \\u5931\\u63a7\",\"x\":-9.184755267094733,\"xanchor\":\"right\",\"xref\":\"x\",\"y\":6.572396347701336,\"yanchor\":\"middle\",\"yref\":\"y\"},{\"bgcolor\":\"#fff2e6\",\"bordercolor\":\"#ff7a00\",\"borderpad\":2,\"font\":{\"color\":\"black\"},\"showarrow\":false,\"text\":\"\\u5176\\u5b9e\\u6211\\u65e9\\u5df1\\u7ecf\\u731c\\u900f\\u770b\\u900f... \\u5374\\u53c8\\u518d\\u8003\\u5012\\u6211 \\u8bf4\\u6563\",\"x\":-9.184755267094733,\"xanchor\":\"right\",\"xref\":\"x\",\"y\":1.0625793693807317,\"yanchor\":\"middle\",\"yref\":\"y\"},{\"bgcolor\":\"#ffede6\",\"bordercolor\":\"#ff4700\",\"borderpad\":2,\"font\":{\"color\":\"black\"},\"showarrow\":false,\"text\":\"\\u5982\\u679c\\u771f\\u7684\\u6211\\u6709\\u4e00\\u53ea\\u7fc5\\u8180...\\u5462 \\u5988\\u8ddf\\u6211\\u90fd\\u6ca1\\u6709\\u9519\\u4e8f\",\"x\":10.016350188107904,\"xanchor\":\"left\",\"xref\":\"x\",\"y\":-15.466871565581087,\"yanchor\":\"middle\",\"yref\":\"y\"},{\"bgcolor\":\"#ffe7e6\",\"bordercolor\":\"#ff1300\",\"borderpad\":2,\"font\":{\"color\":\"black\"},\"showarrow\":false,\"text\":\"\\u6211\\u5bf9\\u7740\\u9ed1\\u767d\\u7167\\u7247\\u5f00\\u59cb\\u60f3...\\u5899\\u9ed1\\u74e6\\u7684\\u6de1\\u6de1\\u7684\\u5fe7\\u4f24\\u3002\",\"x\":10.016350188107904,\"xanchor\":\"left\",\"xref\":\"x\",\"y\":-6.2838432683800765,\"yanchor\":\"middle\",\"yref\":\"y\"},{\"bgcolor\":\"#f9e6e6\",\"bordercolor\":\"#bf0000\",\"borderpad\":2,\"font\":{\"color\":\"black\"},\"showarrow\":false,\"text\":\"\\u5f25\\u8865\\u56de\\u5e94 \\u5927\\u4eba\\u4eec\\u4ee5\\u4e3a...\\u7684\\u65e0\\u5948 \\u65e0\\u6cd5\\u53d8\\u6210\\u671f\\u5f85\",\"x\":10.016350188107904,\"xanchor\":\"left\",\"xref\":\"x\",\"y\":8.409002007141538,\"yanchor\":\"middle\",\"yref\":\"y\"},{\"bgcolor\":\"#f2e6e6\",\"bordercolor\":\"#800000\",\"borderpad\":2,\"font\":{\"color\":\"black\"},\"showarrow\":false,\"text\":\"\\u957f\\u5927\\u540e\\uff0c\\u6211\\u5f00\\u59cb\\u660e\\u767d\\u4e3a...\\uff0c\\u628a\\u624b\\u7275\\u7740\\u4e00\\u8d77\\u68a6\\u6e38\\u3002\",\"x\":-9.184755267094733,\"xanchor\":\"right\",\"xref\":\"x\",\"y\":-13.630265906140885,\"yanchor\":\"middle\",\"yref\":\"y\"}],\"xaxis\":{\"tickvals\":[]},\"yaxis\":{\"tickvals\":[]}},                        {\"responsive\": true}                    ).then(function(){\n",
              "                            \n",
              "var gd = document.getElementById('7dfa686f-bcbb-486b-bf57-982462566b05');\n",
              "var x = new MutationObserver(function (mutations, observer) {{\n",
              "        var display = window.getComputedStyle(gd).display;\n",
              "        if (!display || display === 'none') {{\n",
              "            console.log([gd, 'removed!']);\n",
              "            Plotly.purge(gd);\n",
              "            observer.disconnect();\n",
              "        }}\n",
              "}});\n",
              "\n",
              "// Listen for the removal of the full notebook cells\n",
              "var notebookContainer = gd.closest('#notebook-container');\n",
              "if (notebookContainer) {{\n",
              "    x.observe(notebookContainer, {childList: true});\n",
              "}}\n",
              "\n",
              "// Listen for the clearing of the current output cell\n",
              "var outputEl = gd.closest('.output');\n",
              "if (outputEl) {{\n",
              "    x.observe(outputEl, {childList: true});\n",
              "}}\n",
              "\n",
              "                        })                };                            </script>        </div>\n",
              "</body>\n",
              "</html>"
            ]
          },
          "metadata": {}
        }
      ]
    },
    {
      "cell_type": "markdown",
      "source": [
        "## 相关性"
      ],
      "metadata": {
        "id": "_5fPfgAyo0py"
      }
    },
    {
      "cell_type": "code",
      "source": [
        "import ast"
      ],
      "metadata": {
        "id": "2_w86iKNpBgL"
      },
      "execution_count": null,
      "outputs": []
    },
    {
      "cell_type": "code",
      "execution_count": null,
      "metadata": {
        "colab": {
          "base_uri": "https://localhost:8080/",
          "height": 937
        },
        "id": "XFefzHqDZ636",
        "outputId": "1e380948-055d-48d8-a0f8-2950e17826ad"
      },
      "outputs": [
        {
          "output_type": "display_data",
          "data": {
            "text/html": [
              "<html>\n",
              "<head><meta charset=\"utf-8\" /></head>\n",
              "<body>\n",
              "    <div>            <script src=\"https://cdnjs.cloudflare.com/ajax/libs/mathjax/2.7.5/MathJax.js?config=TeX-AMS-MML_SVG\"></script><script type=\"text/javascript\">if (window.MathJax && window.MathJax.Hub && window.MathJax.Hub.Config) {window.MathJax.Hub.Config({SVG: {font: \"STIX-Web\"}});}</script>                <script type=\"text/javascript\">window.PlotlyConfig = {MathJaxConfig: 'local'};</script>\n",
              "        <script src=\"https://cdn.plot.ly/plotly-2.18.2.min.js\"></script>                <div id=\"ae75b7a6-9dc3-474d-82a1-155ad8b7ecbf\" class=\"plotly-graph-div\" style=\"height:900px; width:1620.0px;\"></div>            <script type=\"text/javascript\">                                    window.PLOTLYENV=window.PLOTLYENV || {};                                    if (document.getElementById(\"ae75b7a6-9dc3-474d-82a1-155ad8b7ecbf\")) {                    Plotly.newPlot(                        \"ae75b7a6-9dc3-474d-82a1-155ad8b7ecbf\",                        [{\"colorscale\":[[0.0,\"rgb(0,0,131)\"],[0.2,\"rgb(0,60,170)\"],[0.4,\"rgb(5,255,255)\"],[0.6,\"rgb(255,255,0)\"],[0.8,\"rgb(250,0,0)\"],[1.0,\"rgb(128,0,0)\"]],\"z\":[[0.9417836978657639,0.8332363148484803,0.8691079659642026,0.8733596058705874,0.9145840189567103,0.8135811019538003,0.8875427942660914,0.8454538447103679,0.8952148998462603,0.8032762368177984,0.822493563873858,0.7721919252705158,0.796545828207615,0.7858841305728184,0.7885813689947132,0.7886291720956667,0.7686455712463455,0.7683368178005807,0.7475806236805443,0.7807309025056487,0.7810533173187321,0.7856377317001183,0.7808354457958379,0.7726437320439536,0.7593971168945127,0.7825061222257216,0.7589651932919644,0.8066374148136227,0.7663045202191746,0.7811961117370252],[0.9007311745485407,0.8756911198134494,0.8987182896017583,0.8778753048203015,0.9061836776577309,0.8128016186033935,0.9188007848196211,0.8392801594867783,0.8596626913217366,0.8063132548271578,0.81608023424607,0.773349830086627,0.8071077904817576,0.7863778518833052,0.8042580062436322,0.7952581353369285,0.7790297006357736,0.7773468626909502,0.7508789582014505,0.7832564496134939,0.7899734237859963,0.7903109064643292,0.7847005078331617,0.7708106014807005,0.759894815305534,0.7932338461914007,0.7657023803716849,0.7970982992750101,0.7728429153440397,0.8234382964603726],[0.9083621355004684,0.8633092598497649,0.9331403922931356,0.8709465236621867,0.91522644863449,0.8110788319535668,0.9177722990585115,0.8757715348130616,0.8710442276396343,0.8048914741825832,0.8020731987302342,0.8038701811159846,0.8027452875676839,0.7696344634692536,0.790875745310607,0.7894263234715554,0.7748041719813059,0.7714212759416031,0.7286990220664936,0.7761008630948668,0.7715758669059851,0.7781024335761204,0.7734151097740024,0.7774488858414395,0.7583510447596179,0.7968757150098036,0.7331957367034717,0.8043302559384226,0.7707591482618177,0.7963959099140676],[0.8450712101553591,0.8118272390342791,0.8068256568200942,0.9706713949901066,0.8322498582202517,0.7483443215104535,0.8095989375311192,0.7678743345418224,0.8279855570460157,0.843473103468795,0.8649835393849646,0.7894551907399286,0.8420138438277049,0.8687409000450153,0.8252621926598244,0.8088467205431006,0.8205446888426184,0.7941482493176212,0.7977690427120279,0.8104695347788226,0.7910028002016793,0.8028618887667041,0.7960225956470579,0.8028009667683209,0.779819052486086,0.8289567675986916,0.7996708991139804,0.8364906700224628,0.7964907706116412,0.8224087953894172],[0.8408770207539831,0.8180461440347097,0.8155821810318082,0.8528334667068225,0.9197965094516776,0.75431351500751,0.8528128390363807,0.7794064482685279,0.8049921083988671,0.7687634402628056,0.7963628255078037,0.7133561133062247,0.7580911081649724,0.7676241054305745,0.7562959297258146,0.7370606648686497,0.7445375811417089,0.7394881693410376,0.7000297665482403,0.729592487478534,0.7860296676958611,0.7643315928484368,0.7533067358277,0.7441336678115537,0.7360750871647306,0.7630644313247463,0.7225240408977545,0.7565118889311454,0.7371328076762247,0.7891040305055885],[0.856704987764815,0.8637461777312084,0.8611491499859092,0.8342186095756797,0.8695339201874959,0.9296457000480542,0.8556527956591456,0.889092942519112,0.9001565971359974,0.7790391922280483,0.8074881563112585,0.7951102824238652,0.8097447695396668,0.7527587644924979,0.7767650024811249,0.7886008952489579,0.7566780800050452,0.7699052927617621,0.7323675235920512,0.7647116949617682,0.7797986210400591,0.7671770054195158,0.7870835457817286,0.7718113207182115,0.753815808723657,0.7632581675095176,0.7703231890065155,0.8151836761903049,0.7734115291760177,0.7973183911252977],[0.8755800006323893,0.860400373854447,0.8688592677355018,0.8508242101698045,0.8643045351796275,0.8250161122490441,0.9256596643328006,0.8257422931531909,0.8382417902065339,0.8183754070507566,0.8007776102982355,0.7990519319934914,0.7974609978665986,0.7599414935522191,0.7959204938487145,0.821195302417045,0.7991060148653703,0.8264631844105135,0.7773773528359652,0.8140730012115864,0.7922613280349513,0.8007782060510672,0.8162184815527437,0.8246537196489883,0.8016654007562337,0.7882773429976332,0.7681661524237826,0.8148673318916546,0.7821393283470547,0.8500073927726441],[0.8807270781041141,0.8582594609436242,0.875470119886735,0.8156819861219741,0.8848429298246326,0.8998406434832444,0.8869815469222975,0.9058172324406955,0.8417534968135366,0.8011942354114567,0.7897184017619587,0.8094740887886442,0.7971685054010623,0.7299805324077329,0.7959304646032103,0.7832906557032067,0.7876991333012168,0.7813625993259079,0.7408052502755641,0.7573850494608704,0.759893325560366,0.7800276786241507,0.7866072122457366,0.7778236392169044,0.7452012905904989,0.788128131830866,0.7609915539046178,0.8101905532784153,0.7754586215439419,0.77938452940764],[0.8871859603605936,0.842270421777025,0.9012471245378818,0.8449047553118122,0.8840292184449544,0.8495878827509751,0.8900479147282376,0.911937131250993,0.9366560623878989,0.8026397532050414,0.8054273194677499,0.7957052224750474,0.8154954032948811,0.7304221549760832,0.7863816743091625,0.7839105132887102,0.7764943292981604,0.7674278041639694,0.7376946247303402,0.7744790416453382,0.7587884912595536,0.7723438592319951,0.7820749942220799,0.7822623344324823,0.7611607209293896,0.7578715654362799,0.7757311975409362,0.8293075688664933,0.7902784023744469,0.7679133683600234],[0.8307144979350806,0.8271384962950216,0.7556390724674837,0.86765465610749,0.7921745749961575,0.8152595550949848,0.7867114635819032,0.7871690628589743,0.7807625099639721,0.9184415642707636,0.8458921916633386,0.8470469612346617,0.8430209171239125,0.8541552742812596,0.8896885028719975,0.813333601426148,0.8347992388420012,0.8273857254236469,0.7987089001757698,0.7894422777366189,0.8164105551370279,0.8269892335907257,0.7987582150566261,0.8147664100979148,0.7753164355781469,0.8412922181652204,0.8383589412850422,0.8629673693141926,0.8756986526924023,0.8202263221344666],[0.7842623563190105,0.7902891185665264,0.7215237318827628,0.8926542329598052,0.7796396390669988,0.7535494664930255,0.7541870664637458,0.72200158627892,0.7590494811597389,0.868911455061803,0.8837965842554198,0.7932551798105065,0.8415116784144158,0.8439284962015628,0.83850919156078,0.8056831834364129,0.8565833152808193,0.8530229148219897,0.7850566780316182,0.7827935425257984,0.7765766069939273,0.8068086163648436,0.7837588153763884,0.7972087278379578,0.7802160991140599,0.8369056997451813,0.8155568075902229,0.8569849823612197,0.8179654524413786,0.8543063513844734],[0.8074393602255512,0.8093859852997352,0.7644045928378904,0.8374084632961467,0.7804870977945971,0.7775778629835932,0.7586359418497088,0.80352654714405,0.797461271597511,0.85403299205587,0.832821492858154,0.9010805602395902,0.8806554889187821,0.8024388229881626,0.8571395365321686,0.7808226964997445,0.8116061305529695,0.79949423993814,0.7536816250414766,0.7957610782087532,0.7674312224961813,0.8126414640389764,0.7648213101096547,0.8067157314682931,0.776138993597139,0.8367519654842741,0.7928458622055116,0.8127305443434294,0.8581819191608184,0.7877851543768637],[0.7902909341126642,0.8188773655978472,0.7500325894990705,0.8518223750546744,0.7407666702928783,0.7769654402384035,0.7337412401392694,0.744866562007808,0.7826261862123306,0.8129033880522795,0.866220438005665,0.8128980035182868,0.9328132586972973,0.8130590228328539,0.8335333769581632,0.8105672271201586,0.7803028707171336,0.8007495374526744,0.7805161128823712,0.7803691804045982,0.8105408606143918,0.8057985159218723,0.7968619819430947,0.8308669798281005,0.7943166088710584,0.8074635143835116,0.8210875106088432,0.8261449744441152,0.8282759788492828,0.7971003535441711],[0.8324000551243141,0.7902437909420377,0.7614937973170733,0.9224916970893317,0.8249636038442317,0.7426595169599661,0.7970429978988471,0.7448046483297919,0.8337514720109125,0.8542169927586957,0.8620684910378517,0.7751995267591847,0.8166280645495132,0.8845061633620726,0.8432987229338962,0.7789657482302429,0.7957485790637921,0.8082577502074524,0.7650817675879158,0.764708548233254,0.8048778623716734,0.7761382683719842,0.7682933656883573,0.7981293148019601,0.7606043147481403,0.8116709294862204,0.8075650598094477,0.8484684879444699,0.8000455566913777,0.834260134599333],[0.8304561231773226,0.8279261659936062,0.7742755188558964,0.8658736412457773,0.8238693643468793,0.7786255029017898,0.7993373957513127,0.7696019666859939,0.8144809843209885,0.8400469261095248,0.8463555043431599,0.7878904350774021,0.8255230439585328,0.8271034520682584,0.9289146107587364,0.8074443662036441,0.7822680599467572,0.8070261323114795,0.7516156448523478,0.7841045947260165,0.7968781157204783,0.7854859353221852,0.7652569846682112,0.787597404923801,0.7742864845223885,0.8316006641555806,0.8147167978002763,0.8240106380531036,0.8008064287149356,0.8250227143533098],[0.7652988639229233,0.8150769489257657,0.7128056076422885,0.7820346557175912,0.7341490391015372,0.7641924684197353,0.7607233083101573,0.7411535704440687,0.7419772121332817,0.7946634124940556,0.7575309277809397,0.7973775866790132,0.7843376415338214,0.7673346413051768,0.7350705221497439,0.9198635862720173,0.8136431512620171,0.8317221711623197,0.8723486851305647,0.8541401136325866,0.8396613093958829,0.8761011945422597,0.9212817046667433,0.8805486207440808,0.923188320223667,0.7848093672916379,0.8077353675225867,0.8221793823633498,0.7788874322464868,0.8304807668595007],[0.7789973349534635,0.8223580405189455,0.705698526977343,0.7926819262711814,0.7580196744132794,0.763692056320342,0.7732081066725148,0.7398025470306047,0.7185010836009792,0.8510263794697501,0.7927129924852623,0.8274668620584293,0.8002084727014059,0.7502082394013132,0.7827887352701106,0.8545547225738783,0.8895077992193156,0.8875950954941059,0.8404996908983933,0.8419967669050444,0.7967639618522478,0.8609514246127585,0.8411864846694079,0.8599768443596582,0.8365249424757781,0.8277688183386404,0.8505640107379036,0.8310168135603291,0.8415282209346747,0.8775818336244442],[0.7953296403245682,0.8393087900340821,0.7176821917699537,0.7889093698577914,0.7760508285105087,0.8063200006499108,0.8015678691434899,0.7480131511930422,0.7245776108530673,0.8424213757601889,0.7825389594228308,0.8364779100102859,0.8030657179389579,0.766585071412121,0.78615459838414,0.867149970070802,0.8917832960775226,0.8942429352346961,0.8233901758717547,0.8330443880339129,0.8205938406809944,0.8839917019740112,0.8731848303148375,0.8694802961800205,0.8511675842952172,0.8044844664082956,0.8371166844572558,0.8333892666177567,0.8347487697346057,0.8712998666972352],[0.7892403372185566,0.7981622894746462,0.7078366318966574,0.8037693726117895,0.7516639322308659,0.7708881972254628,0.7649505545594012,0.7630818825078562,0.7608533606264427,0.8069043250743624,0.7732899948704688,0.8117364267633114,0.8370898888889626,0.7806340261011757,0.7801375076880119,0.9114760300937731,0.7847059017062566,0.8121168953002558,0.9197210071375402,0.8594991136262371,0.8160385253639754,0.8556585702462923,0.8726796677166406,0.8997099421645585,0.8462847110753002,0.7908423262191737,0.841028187538462,0.8471923076552746,0.8014523933927679,0.8159948721794563],[0.814917682502081,0.815762122314972,0.7452201142453112,0.7721366984238881,0.7744533055045708,0.7653116303281717,0.7870250348556903,0.7644679563132041,0.7534473700675357,0.8108933052882987,0.8028942962146844,0.8295185787400968,0.8406053925285728,0.7530943856576241,0.7780977471145673,0.8653800247041901,0.8131560487740147,0.8070756923194568,0.8423534881653981,0.930822459494531,0.815898599962029,0.8495722452973229,0.8911724000547584,0.8956452143641576,0.8705326279430193,0.7955546220026964,0.8268668624304254,0.8311353422125298,0.8209360466351389,0.7971537854700151],[0.7976724991463171,0.8382290089933726,0.7242446821688118,0.8008115117294666,0.7845556731454592,0.750672595263886,0.7830324541681711,0.7166610124137471,0.7624557331769142,0.7852646607874921,0.795838674062485,0.7603333748117084,0.810660560668884,0.8106446074834968,0.778236160322802,0.8716173403012977,0.7623186015854001,0.7957399200358534,0.7925378286032034,0.7901153306404335,0.9289485868216015,0.8016415166115844,0.8656803354649638,0.8793254121342111,0.8608502343633238,0.749278806477954,0.8141874522983212,0.8257579118939886,0.785530354749385,0.8246525823607932],[0.7982129460703884,0.813276992613837,0.7483488768937461,0.7837353257993259,0.7600754977291985,0.7991732406251817,0.7796433199881022,0.7872032558885451,0.7633242523628222,0.8288837629722623,0.7910788242375628,0.8479008410854424,0.8635531767699988,0.7877895564434019,0.8086390491655131,0.8364873866731283,0.8171887287868738,0.8248540371982154,0.8087131572250821,0.8600834564878481,0.8194706195812758,0.9546854230287468,0.8680162767099445,0.8385778992879638,0.8768944314692303,0.8500300050494121,0.8439152228441531,0.8167610852424728,0.8226826682487496,0.8167766943870886],[0.7672230753996673,0.8158634716234621,0.7105525201312984,0.7723654456823794,0.7427686989882731,0.7709317602777568,0.7845654733129794,0.734378362327338,0.7306844816604664,0.7843361306728938,0.7543033334950807,0.7797541329637138,0.8034591691748744,0.762325337056154,0.7479148499896071,0.8874470123243484,0.791470041209883,0.8016967755593353,0.843327407912996,0.8442141187758493,0.8596802612614549,0.8857598660956306,0.9620211246710262,0.8776273665619002,0.9186160819525592,0.7890898462540501,0.8185050771985897,0.8311984260737707,0.7951021609343499,0.8051783077881827],[0.8152110438226202,0.8372137281522256,0.7221187041569059,0.8086559405738828,0.7670020035935797,0.778516589363944,0.8030535819711794,0.7756093827035153,0.7549212585514067,0.8467610598472407,0.7899225686587805,0.8424293197933463,0.8066843196713303,0.7856783299107745,0.7932824538739299,0.9199037159122252,0.8546616322737128,0.8564100367202175,0.8573067463950226,0.870644517730127,0.8778285613512261,0.925447844530591,0.9208651418065114,0.9058653504306148,0.9152492713840508,0.8085285820657915,0.8537167012565064,0.8745329647053981,0.849282574454363,0.8531479881970611],[0.7760982424743207,0.8402281175033218,0.7299155769517842,0.7659032344371148,0.7748136521431792,0.7796521977464944,0.7835749503556677,0.7607611334521658,0.7460755817306812,0.7852248893926722,0.7656020543900054,0.8111419705764242,0.8052711290777742,0.7394213196279783,0.7640846157472126,0.8650002169400427,0.7822012200214448,0.8262876360891661,0.823583336308236,0.847749591022533,0.8386908714843354,0.8874544503706885,0.9296790835097978,0.8775339770543933,0.9420043569137191,0.7988704807871594,0.8005049951043582,0.8414610585098244,0.7955916572644081,0.822991292395454],[0.8042107581993562,0.8412320748193666,0.7607371751392604,0.8570674067466333,0.7747073903502776,0.7895481119180997,0.7862101748186076,0.7771152111849547,0.7345901397524035,0.8651719764570954,0.8285430165062493,0.826384400776291,0.828672091651475,0.7791127858573268,0.8347533271816284,0.835478481649595,0.8715357397535176,0.8677793811516163,0.7945943408164263,0.7991332327556706,0.7727575473438446,0.8446292748682495,0.8163394628793493,0.798788789157777,0.7968954105013466,0.8974810301756013,0.8304192165736436,0.8476257437848487,0.8868066431235861,0.857292584065423],[0.7891152501806145,0.8081330934722931,0.7298993805924762,0.8336966628915343,0.7589730671140835,0.7528270828043719,0.7733066584982393,0.7628606343181922,0.7633090569621712,0.8595621278159946,0.8110897249035943,0.8015514090339296,0.829399506172424,0.815647379421703,0.8472843505710987,0.8704961222692896,0.8163304445053277,0.8284794053934128,0.8238863064812288,0.8555757510929478,0.830406197194144,0.8904865700611516,0.8658464545306418,0.8420700831063477,0.8377578643845551,0.829942274545627,0.9177809689978604,0.8556832253003575,0.8475459328140014,0.8470351104533584],[0.8256937519996242,0.8763292696891979,0.8182716780479278,0.8511326108454553,0.8271564874059698,0.8135524616167148,0.8174022287080464,0.825669095298339,0.8291861419410831,0.8570971951341184,0.8655264131514178,0.8586908047971966,0.8448320219621301,0.8137008025972421,0.8183942066444199,0.8429950633022335,0.8644807570077747,0.8483689845342842,0.807831945873252,0.8556195016313304,0.835910549691574,0.8447786995383219,0.8717116388261715,0.8731051105537114,0.8458186425359947,0.8261622999429501,0.8132659989968557,0.9237133688256235,0.8542717464705175,0.8337125376954388],[0.7950469383330169,0.824651975679854,0.7337059688929698,0.8295540068798074,0.7654567338812461,0.7773731031247922,0.7858821885048797,0.780162973083264,0.7611646168414639,0.8970256634393411,0.8257261806586581,0.8540776999104612,0.8515215276883313,0.826570971086988,0.8533356990707124,0.8483558807056647,0.8618998257519392,0.8800798580660686,0.8115841800955875,0.8429518977021999,0.8469597726455496,0.892495543677104,0.8631391038265187,0.8526732941102695,0.8301486666858111,0.879719358877217,0.9058558149027761,0.8782107454905956,0.9170940965255752,0.8511905966197517],[0.796900670666547,0.802072260919942,0.7059487480893513,0.7957308792443726,0.7679182916551361,0.778964964498186,0.7921451994625365,0.7506248031597558,0.7597781818253102,0.846637031812154,0.7931402525668103,0.8020620170618231,0.8307719064668742,0.7805726568144423,0.8170621346520366,0.8532454922059718,0.8167576266060941,0.8820482997388356,0.8033047095537658,0.8282865729328018,0.8470604039652796,0.9037344451278049,0.8897018811558901,0.8452749891279027,0.8943390363725585,0.8227764297465756,0.8521817951120015,0.8549624271345067,0.8663240026439635,0.8538956278155309]],\"type\":\"heatmap\"}],                        {\"template\":{\"data\":{\"histogram2dcontour\":[{\"type\":\"histogram2dcontour\",\"colorbar\":{\"outlinewidth\":0,\"ticks\":\"\"},\"colorscale\":[[0.0,\"#0d0887\"],[0.1111111111111111,\"#46039f\"],[0.2222222222222222,\"#7201a8\"],[0.3333333333333333,\"#9c179e\"],[0.4444444444444444,\"#bd3786\"],[0.5555555555555556,\"#d8576b\"],[0.6666666666666666,\"#ed7953\"],[0.7777777777777778,\"#fb9f3a\"],[0.8888888888888888,\"#fdca26\"],[1.0,\"#f0f921\"]]}],\"choropleth\":[{\"type\":\"choropleth\",\"colorbar\":{\"outlinewidth\":0,\"ticks\":\"\"}}],\"histogram2d\":[{\"type\":\"histogram2d\",\"colorbar\":{\"outlinewidth\":0,\"ticks\":\"\"},\"colorscale\":[[0.0,\"#0d0887\"],[0.1111111111111111,\"#46039f\"],[0.2222222222222222,\"#7201a8\"],[0.3333333333333333,\"#9c179e\"],[0.4444444444444444,\"#bd3786\"],[0.5555555555555556,\"#d8576b\"],[0.6666666666666666,\"#ed7953\"],[0.7777777777777778,\"#fb9f3a\"],[0.8888888888888888,\"#fdca26\"],[1.0,\"#f0f921\"]]}],\"heatmap\":[{\"type\":\"heatmap\",\"colorbar\":{\"outlinewidth\":0,\"ticks\":\"\"},\"colorscale\":[[0.0,\"#0d0887\"],[0.1111111111111111,\"#46039f\"],[0.2222222222222222,\"#7201a8\"],[0.3333333333333333,\"#9c179e\"],[0.4444444444444444,\"#bd3786\"],[0.5555555555555556,\"#d8576b\"],[0.6666666666666666,\"#ed7953\"],[0.7777777777777778,\"#fb9f3a\"],[0.8888888888888888,\"#fdca26\"],[1.0,\"#f0f921\"]]}],\"heatmapgl\":[{\"type\":\"heatmapgl\",\"colorbar\":{\"outlinewidth\":0,\"ticks\":\"\"},\"colorscale\":[[0.0,\"#0d0887\"],[0.1111111111111111,\"#46039f\"],[0.2222222222222222,\"#7201a8\"],[0.3333333333333333,\"#9c179e\"],[0.4444444444444444,\"#bd3786\"],[0.5555555555555556,\"#d8576b\"],[0.6666666666666666,\"#ed7953\"],[0.7777777777777778,\"#fb9f3a\"],[0.8888888888888888,\"#fdca26\"],[1.0,\"#f0f921\"]]}],\"contourcarpet\":[{\"type\":\"contourcarpet\",\"colorbar\":{\"outlinewidth\":0,\"ticks\":\"\"}}],\"contour\":[{\"type\":\"contour\",\"colorbar\":{\"outlinewidth\":0,\"ticks\":\"\"},\"colorscale\":[[0.0,\"#0d0887\"],[0.1111111111111111,\"#46039f\"],[0.2222222222222222,\"#7201a8\"],[0.3333333333333333,\"#9c179e\"],[0.4444444444444444,\"#bd3786\"],[0.5555555555555556,\"#d8576b\"],[0.6666666666666666,\"#ed7953\"],[0.7777777777777778,\"#fb9f3a\"],[0.8888888888888888,\"#fdca26\"],[1.0,\"#f0f921\"]]}],\"surface\":[{\"type\":\"surface\",\"colorbar\":{\"outlinewidth\":0,\"ticks\":\"\"},\"colorscale\":[[0.0,\"#0d0887\"],[0.1111111111111111,\"#46039f\"],[0.2222222222222222,\"#7201a8\"],[0.3333333333333333,\"#9c179e\"],[0.4444444444444444,\"#bd3786\"],[0.5555555555555556,\"#d8576b\"],[0.6666666666666666,\"#ed7953\"],[0.7777777777777778,\"#fb9f3a\"],[0.8888888888888888,\"#fdca26\"],[1.0,\"#f0f921\"]]}],\"mesh3d\":[{\"type\":\"mesh3d\",\"colorbar\":{\"outlinewidth\":0,\"ticks\":\"\"}}],\"scatter\":[{\"fillpattern\":{\"fillmode\":\"overlay\",\"size\":10,\"solidity\":0.2},\"type\":\"scatter\"}],\"parcoords\":[{\"type\":\"parcoords\",\"line\":{\"colorbar\":{\"outlinewidth\":0,\"ticks\":\"\"}}}],\"scatterpolargl\":[{\"type\":\"scatterpolargl\",\"marker\":{\"colorbar\":{\"outlinewidth\":0,\"ticks\":\"\"}}}],\"bar\":[{\"error_x\":{\"color\":\"#2a3f5f\"},\"error_y\":{\"color\":\"#2a3f5f\"},\"marker\":{\"line\":{\"color\":\"#E5ECF6\",\"width\":0.5},\"pattern\":{\"fillmode\":\"overlay\",\"size\":10,\"solidity\":0.2}},\"type\":\"bar\"}],\"scattergeo\":[{\"type\":\"scattergeo\",\"marker\":{\"colorbar\":{\"outlinewidth\":0,\"ticks\":\"\"}}}],\"scatterpolar\":[{\"type\":\"scatterpolar\",\"marker\":{\"colorbar\":{\"outlinewidth\":0,\"ticks\":\"\"}}}],\"histogram\":[{\"marker\":{\"pattern\":{\"fillmode\":\"overlay\",\"size\":10,\"solidity\":0.2}},\"type\":\"histogram\"}],\"scattergl\":[{\"type\":\"scattergl\",\"marker\":{\"colorbar\":{\"outlinewidth\":0,\"ticks\":\"\"}}}],\"scatter3d\":[{\"type\":\"scatter3d\",\"line\":{\"colorbar\":{\"outlinewidth\":0,\"ticks\":\"\"}},\"marker\":{\"colorbar\":{\"outlinewidth\":0,\"ticks\":\"\"}}}],\"scattermapbox\":[{\"type\":\"scattermapbox\",\"marker\":{\"colorbar\":{\"outlinewidth\":0,\"ticks\":\"\"}}}],\"scatterternary\":[{\"type\":\"scatterternary\",\"marker\":{\"colorbar\":{\"outlinewidth\":0,\"ticks\":\"\"}}}],\"scattercarpet\":[{\"type\":\"scattercarpet\",\"marker\":{\"colorbar\":{\"outlinewidth\":0,\"ticks\":\"\"}}}],\"carpet\":[{\"aaxis\":{\"endlinecolor\":\"#2a3f5f\",\"gridcolor\":\"white\",\"linecolor\":\"white\",\"minorgridcolor\":\"white\",\"startlinecolor\":\"#2a3f5f\"},\"baxis\":{\"endlinecolor\":\"#2a3f5f\",\"gridcolor\":\"white\",\"linecolor\":\"white\",\"minorgridcolor\":\"white\",\"startlinecolor\":\"#2a3f5f\"},\"type\":\"carpet\"}],\"table\":[{\"cells\":{\"fill\":{\"color\":\"#EBF0F8\"},\"line\":{\"color\":\"white\"}},\"header\":{\"fill\":{\"color\":\"#C8D4E3\"},\"line\":{\"color\":\"white\"}},\"type\":\"table\"}],\"barpolar\":[{\"marker\":{\"line\":{\"color\":\"#E5ECF6\",\"width\":0.5},\"pattern\":{\"fillmode\":\"overlay\",\"size\":10,\"solidity\":0.2}},\"type\":\"barpolar\"}],\"pie\":[{\"automargin\":true,\"type\":\"pie\"}]},\"layout\":{\"autotypenumbers\":\"strict\",\"colorway\":[\"#636efa\",\"#EF553B\",\"#00cc96\",\"#ab63fa\",\"#FFA15A\",\"#19d3f3\",\"#FF6692\",\"#B6E880\",\"#FF97FF\",\"#FECB52\"],\"font\":{\"color\":\"#2a3f5f\"},\"hovermode\":\"closest\",\"hoverlabel\":{\"align\":\"left\"},\"paper_bgcolor\":\"white\",\"plot_bgcolor\":\"#E5ECF6\",\"polar\":{\"bgcolor\":\"#E5ECF6\",\"angularaxis\":{\"gridcolor\":\"white\",\"linecolor\":\"white\",\"ticks\":\"\"},\"radialaxis\":{\"gridcolor\":\"white\",\"linecolor\":\"white\",\"ticks\":\"\"}},\"ternary\":{\"bgcolor\":\"#E5ECF6\",\"aaxis\":{\"gridcolor\":\"white\",\"linecolor\":\"white\",\"ticks\":\"\"},\"baxis\":{\"gridcolor\":\"white\",\"linecolor\":\"white\",\"ticks\":\"\"},\"caxis\":{\"gridcolor\":\"white\",\"linecolor\":\"white\",\"ticks\":\"\"}},\"coloraxis\":{\"colorbar\":{\"outlinewidth\":0,\"ticks\":\"\"}},\"colorscale\":{\"sequential\":[[0.0,\"#0d0887\"],[0.1111111111111111,\"#46039f\"],[0.2222222222222222,\"#7201a8\"],[0.3333333333333333,\"#9c179e\"],[0.4444444444444444,\"#bd3786\"],[0.5555555555555556,\"#d8576b\"],[0.6666666666666666,\"#ed7953\"],[0.7777777777777778,\"#fb9f3a\"],[0.8888888888888888,\"#fdca26\"],[1.0,\"#f0f921\"]],\"sequentialminus\":[[0.0,\"#0d0887\"],[0.1111111111111111,\"#46039f\"],[0.2222222222222222,\"#7201a8\"],[0.3333333333333333,\"#9c179e\"],[0.4444444444444444,\"#bd3786\"],[0.5555555555555556,\"#d8576b\"],[0.6666666666666666,\"#ed7953\"],[0.7777777777777778,\"#fb9f3a\"],[0.8888888888888888,\"#fdca26\"],[1.0,\"#f0f921\"]],\"diverging\":[[0,\"#8e0152\"],[0.1,\"#c51b7d\"],[0.2,\"#de77ae\"],[0.3,\"#f1b6da\"],[0.4,\"#fde0ef\"],[0.5,\"#f7f7f7\"],[0.6,\"#e6f5d0\"],[0.7,\"#b8e186\"],[0.8,\"#7fbc41\"],[0.9,\"#4d9221\"],[1,\"#276419\"]]},\"xaxis\":{\"gridcolor\":\"white\",\"linecolor\":\"white\",\"ticks\":\"\",\"title\":{\"standoff\":15},\"zerolinecolor\":\"white\",\"automargin\":true,\"zerolinewidth\":2},\"yaxis\":{\"gridcolor\":\"white\",\"linecolor\":\"white\",\"ticks\":\"\",\"title\":{\"standoff\":15},\"zerolinecolor\":\"white\",\"automargin\":true,\"zerolinewidth\":2},\"scene\":{\"xaxis\":{\"backgroundcolor\":\"#E5ECF6\",\"gridcolor\":\"white\",\"linecolor\":\"white\",\"showbackground\":true,\"ticks\":\"\",\"zerolinecolor\":\"white\",\"gridwidth\":2},\"yaxis\":{\"backgroundcolor\":\"#E5ECF6\",\"gridcolor\":\"white\",\"linecolor\":\"white\",\"showbackground\":true,\"ticks\":\"\",\"zerolinecolor\":\"white\",\"gridwidth\":2},\"zaxis\":{\"backgroundcolor\":\"#E5ECF6\",\"gridcolor\":\"white\",\"linecolor\":\"white\",\"showbackground\":true,\"ticks\":\"\",\"zerolinecolor\":\"white\",\"gridwidth\":2}},\"shapedefaults\":{\"line\":{\"color\":\"#2a3f5f\"}},\"annotationdefaults\":{\"arrowcolor\":\"#2a3f5f\",\"arrowhead\":0,\"arrowwidth\":1},\"geo\":{\"bgcolor\":\"white\",\"landcolor\":\"#E5ECF6\",\"subunitcolor\":\"white\",\"showland\":true,\"showlakes\":true,\"lakecolor\":\"white\"},\"title\":{\"x\":0.05},\"mapbox\":{\"style\":\"light\"}}},\"margin\":{\"l\":120},\"xaxis\":{\"tickmode\":\"array\",\"tickvals\":[0,1,2,3,4,5,6,7,8,9,10,11,12,13,14,15,16,17,18,19,20,21,22,23,24,25,26,27,28,29],\"ticktext\":[0,1,2,3,4,5,6,7,8,9,10,11,12,13,14,15,16,17,18,19,20,21,22,23,24,25,26,27,28,29],\"title\":{\"text\":\"X Axis\"}},\"yaxis\":{\"tickmode\":\"array\",\"tickvals\":[0,1,2,3,4,5,6,7,8,9,10,11,12,13,14,15,16,17,18,19,20,21,22,23,24,25,26,27,28,29],\"ticktext\":[0,1,2,3,4,5,6,7,8,9,10,11,12,13,14,15,16,17,18,19,20,21,22,23,24,25,26,27,28,29],\"autorange\":\"reversed\",\"title\":{\"text\":\"Y Axis\"}},\"width\":1620.0,\"height\":900,\"annotations\":[{\"font\":{\"color\":\"black\",\"size\":16},\"showarrow\":false,\"text\":\"Col\",\"x\":-9,\"xanchor\":\"center\",\"xref\":\"x\",\"y\":-1,\"yanchor\":\"bottom\",\"yref\":\"y\"},{\"font\":{\"color\":\"black\",\"size\":16},\"showarrow\":false,\"text\":\"Row\",\"x\":-24,\"xanchor\":\"center\",\"xref\":\"x\",\"y\":-1,\"yanchor\":\"bottom\",\"yref\":\"y\"},{\"bgcolor\":\"#f9e6e6\",\"bordercolor\":\"rgb(193.11006953105937, 0.0, 0.0)\",\"font\":{\"color\":\"black\",\"size\":14},\"showarrow\":false,\"text\":\"2\\u67084\\u65e5\\u81f320\\u65e5\\u30013...\\u7403\\u9996\\u4e2a\\u201c\\u53cc\\u5965\\u4e4b\\u57ce\\u201d\\u3002\",\"x\":-15,\"xanchor\":\"left\",\"xref\":\"x\",\"xshift\":-10,\"y\":0,\"yanchor\":\"middle\",\"yref\":\"y\",\"yshift\":0},{\"bgcolor\":\"#f9e6e6\",\"bordercolor\":\"rgb(193.11006953105937, 0.0, 0.0)\",\"font\":{\"color\":\"black\",\"size\":14},\"showarrow\":false,\"text\":\"\\u6211\\u56fd\\u5e7f\\u5927\\u8fd0\\u52a8\\u5458\\u3001\\u6559\\u7ec3...\\u6765\\u7684\\u5317\\u4eac\\u51ac\\u5965\\u7cbe\\u795e\\u3002\\n\",\"x\":-30,\"xanchor\":\"left\",\"xref\":\"x\",\"xshift\":-10,\"y\":0,\"yanchor\":\"middle\",\"yref\":\"y\",\"yshift\":0},{\"bgcolor\":\"#fff9e6\",\"bordercolor\":\"rgb(253.7736202781771, 192.45463418703207, 0.0)\",\"font\":{\"color\":\"black\",\"size\":14},\"showarrow\":false,\"text\":\"7\\u67081\\u65e5\\uff0c\\u5e86\\u795d\\u9999\\u6e2f\\u56de...\\u5b9d\\u8d35\\u7ecf\\u9a8c\\u3001\\u6df1\\u523b\\u542f\\u793a\\u3002\",\"x\":-15,\"xanchor\":\"left\",\"xref\":\"x\",\"xshift\":-10,\"y\":1,\"yanchor\":\"middle\",\"yref\":\"y\",\"yshift\":0},{\"bgcolor\":\"#fff9e6\",\"bordercolor\":\"rgb(253.7736202781771, 192.45463418703207, 0.0)\",\"font\":{\"color\":\"black\",\"size\":14},\"showarrow\":false,\"text\":\"\\u201c\\u4e00\\u56fd\\u4e24\\u5236\\u201d\\u662f\\u7ecf\\u8fc7\\u5b9e...\\u6539\\u53d8\\uff0c\\u5fc5\\u987b\\u957f\\u671f\\u575a\\u6301\\u3002\",\"x\":-30,\"xanchor\":\"left\",\"xref\":\"x\",\"xshift\":-10,\"y\":1,\"yanchor\":\"middle\",\"yref\":\"y\",\"yshift\":0},{\"bgcolor\":\"#fbe6e6\",\"bordercolor\":\"rgb(212.5912425850996, 0.0, 0.0)\",\"font\":{\"color\":\"black\",\"size\":14},\"showarrow\":false,\"text\":\"10\\u670816\\u65e5\\u81f322\\u65e5...\\u601d\\u4e3b\\u4e49\\u7684\\u7eb2\\u9886\\u6027\\u6587\\u732e\\u3002\",\"x\":-15,\"xanchor\":\"left\",\"xref\":\"x\",\"xshift\":-10,\"y\":2,\"yanchor\":\"middle\",\"yref\":\"y\",\"yshift\":0},{\"bgcolor\":\"#fbe6e6\",\"bordercolor\":\"rgb(212.5912425850996, 0.0, 0.0)\",\"font\":{\"color\":\"black\",\"size\":14},\"showarrow\":false,\"text\":\"\\u5927\\u4f1a\\u901a\\u8fc7\\u4e86\\u5173\\u4e8e\\u5341\\u4e5d\\u5c4a...\\u62c5\\u4efb\\u4e2d\\u592e\\u519b\\u59d4\\u4e3b\\u5e2d\\u3002\\n\",\"x\":-30,\"xanchor\":\"left\",\"xref\":\"x\",\"xshift\":-10,\"y\":2,\"yanchor\":\"middle\",\"yref\":\"y\",\"yshift\":0},{\"bgcolor\":\"#f2e6e6\",\"bordercolor\":\"rgb(128.0, 0.0, 0.0)\",\"font\":{\"color\":\"black\",\"size\":14},\"showarrow\":false,\"text\":\"11\\u67081\\u65e54\\u65f627\\u5206...\\u5728\\u592a\\u7a7a\\u201c\\u80dc\\u5229\\u4f1a\\u5e08\\u201d\\uff1b\",\"x\":-15,\"xanchor\":\"left\",\"xref\":\"x\",\"xshift\":-10,\"y\":3,\"yanchor\":\"middle\",\"yref\":\"y\",\"yshift\":0},{\"bgcolor\":\"#f2e6e6\",\"bordercolor\":\"rgb(128.0, 0.0, 0.0)\",\"font\":{\"color\":\"black\",\"size\":14},\"showarrow\":false,\"text\":\"12\\u67082\\u65e5\\u665a\\uff0c\\u795e\\u821f\\u5341...\\u7a76\\u5b9e\\u9a8c\\u548c\\u65b0\\u6280\\u672f\\u8bd5\\u9a8c\\u3002\",\"x\":-30,\"xanchor\":\"left\",\"xref\":\"x\",\"xshift\":-10,\"y\":3,\"yanchor\":\"middle\",\"yref\":\"y\",\"yshift\":0},{\"bgcolor\":\"#fee6e6\",\"bordercolor\":\"rgb(242.66706122449943, 0.0, 0.0)\",\"font\":{\"color\":\"black\",\"size\":14},\"showarrow\":false,\"text\":\"11\\u670814\\u65e5\\u81f319\\u65e5...\\u4e2d\\u7f8e\\u5143\\u9996\\u9762\\u5bf9\\u9762\\u4f1a\\u6664\\u3002\",\"x\":-15,\"xanchor\":\"left\",\"xref\":\"x\",\"xshift\":-10,\"y\":4,\"yanchor\":\"middle\",\"yref\":\"y\",\"yshift\":0},{\"bgcolor\":\"#fee6e6\",\"bordercolor\":\"rgb(242.66706122449943, 0.0, 0.0)\",\"font\":{\"color\":\"black\",\"size\":14},\"showarrow\":false,\"text\":\"\\u4eca\\u5e74\\u4ee5\\u6765\\uff0c\\u4e60\\u8fd1\\u5e73\\u4e3b\\u5e2d...\\u6ce8\\u5165\\u786e\\u5b9a\\u6027\\u548c\\u6b63\\u80fd\\u91cf\\u3002\",\"x\":-30,\"xanchor\":\"left\",\"xref\":\"x\",\"xshift\":-10,\"y\":4,\"yanchor\":\"middle\",\"yref\":\"y\",\"yshift\":0},{\"bgcolor\":\"#fce6e6\",\"bordercolor\":\"rgb(220.46794020095632, 0.0, 0.0)\",\"font\":{\"color\":\"black\",\"size\":14},\"showarrow\":false,\"text\":\"4\\u6708\\uff0c\\u56fd\\u52a1\\u9662\\u529e\\u516c\\u5385\\u5370...\\u798f\\u7949\\u3001\\u515c\\u7262\\u6c11\\u751f\\u5e95\\u7ebf\\u3002\",\"x\":-15,\"xanchor\":\"left\",\"xref\":\"x\",\"xshift\":-10,\"y\":5,\"yanchor\":\"middle\",\"yref\":\"y\",\"yshift\":0},{\"bgcolor\":\"#fce6e6\",\"bordercolor\":\"rgb(220.46794020095632, 0.0, 0.0)\",\"font\":{\"color\":\"black\",\"size\":14},\"showarrow\":false,\"text\":\"\\u9000\\u4f11\\u4eba\\u5458\\u57fa\\u672c\\u517b\\u8001\\u91d1\\u518d...\\u540c\\u4e61\\u6751\\u632f\\u5174\\u6709\\u6548\\u8854\\u63a5\\u3002\",\"x\":-30,\"xanchor\":\"left\",\"xref\":\"x\",\"xshift\":-10,\"y\":5,\"yanchor\":\"middle\",\"yref\":\"y\",\"yshift\":0},{\"bgcolor\":\"#fce6e6\",\"bordercolor\":\"rgb(229.45207837771517, 0.0, 0.0)\",\"font\":{\"color\":\"black\",\"size\":14},\"showarrow\":false,\"text\":\"11\\u670830\\u65e5\\uff0c\\u6211\\u515a\\u6211...\\u6d77\\u901d\\u4e16\\uff0c\\u4eab\\u5e7496\\u5c81\\u3002\",\"x\":-15,\"xanchor\":\"left\",\"xref\":\"x\",\"xshift\":-10,\"y\":6,\"yanchor\":\"middle\",\"yref\":\"y\",\"yshift\":0},{\"bgcolor\":\"#fce6e6\",\"bordercolor\":\"rgb(229.45207837771517, 0.0, 0.0)\",\"font\":{\"color\":\"black\",\"size\":14},\"showarrow\":false,\"text\":\"\\u5168\\u515a\\u5168\\u519b\\u5168\\u56fd\\u5404\\u65cf\\u4eba\\u6c11...\\u8fd1\\u5e73\\u603b\\u4e66\\u8bb0\\u81f4\\u60bc\\u8bcd\\u3002\\n\",\"x\":-30,\"xanchor\":\"left\",\"xref\":\"x\",\"xshift\":-10,\"y\":6,\"yanchor\":\"middle\",\"yref\":\"y\",\"yshift\":0},{\"bgcolor\":\"#ffebe6\",\"bordercolor\":\"rgb(250.99077855490935, 50.529706300377086, 0.0)\",\"font\":{\"color\":\"black\",\"size\":14},\"showarrow\":false,\"text\":\"\\u5728\\u4ee5\\u4e60\\u8fd1\\u5e73\\u540c\\u5fd7\\u4e3a\\u6838\\u5fc3...\\u5de5\\u4f5c\\u4f1a\\u8bae\\u5728\\u5317\\u4eac\\u4e3e\\u884c\\u3002\",\"x\":-15,\"xanchor\":\"left\",\"xref\":\"x\",\"xshift\":-10,\"y\":7,\"yanchor\":\"middle\",\"yref\":\"y\",\"yshift\":0},{\"bgcolor\":\"#ffebe6\",\"bordercolor\":\"rgb(250.99077855490935, 50.529706300377086, 0.0)\",\"font\":{\"color\":\"black\",\"size\":14},\"showarrow\":false,\"text\":\"\\u4f1a\\u8bae\\u5f3a\\u8c03\\uff0c\\u505a\\u597d\\u660e\\u5e74\\u7ecf...\\u5316\\u56fd\\u5bb6\\u5f00\\u597d\\u5c40\\u8d77\\u597d\\u6b65\\u3002\",\"x\":-30,\"xanchor\":\"left\",\"xref\":\"x\",\"xshift\":-10,\"y\":7,\"yanchor\":\"middle\",\"yref\":\"y\",\"yshift\":0},{\"bgcolor\":\"#fae6e6\",\"bordercolor\":\"rgb(204.66726292922692, 0.0, 0.0)\",\"font\":{\"color\":\"black\",\"size\":14},\"showarrow\":false,\"text\":\"\\u9762\\u5bf9\\u6301\\u7eed\\u53d8\\u5f02\\u7684\\u65b0\\u51a0\\u75c5...\\u63a7\\u5de5\\u4f5c\\u7684\\u4e8c\\u5341\\u6761\\u63aa\\u65bd\\u3002\",\"x\":-15,\"xanchor\":\"left\",\"xref\":\"x\",\"xshift\":-10,\"y\":8,\"yanchor\":\"middle\",\"yref\":\"y\",\"yshift\":0},{\"bgcolor\":\"#fae6e6\",\"bordercolor\":\"rgb(204.66726292922692, 0.0, 0.0)\",\"font\":{\"color\":\"black\",\"size\":14},\"showarrow\":false,\"text\":\"12\\u67087\\u65e5\\uff0c\\u56fd\\u52a1\\u9662\\u8054...\\u8c03\\u6574\\u4e3a\\u201c\\u4e59\\u7c7b\\u4e59\\u7ba1\\u201d\\u3002\",\"x\":-30,\"xanchor\":\"left\",\"xref\":\"x\",\"xshift\":-10,\"y\":8,\"yanchor\":\"middle\",\"yref\":\"y\",\"yshift\":0},{\"bgcolor\":\"#fee6e6\",\"bordercolor\":\"rgb(245.72097634138632, 0.0, 0.0)\",\"font\":{\"color\":\"black\",\"size\":14},\"showarrow\":false,\"text\":\"\\u7ecf\\u8fc7\\u591a\\u5e74\\u7684\\u5ef6\\u8bef\\u548c\\u6210\\u672c...\\u6355\\u6349\\u5b87\\u5b99\\u7684\\u58ee\\u89c2\\u56fe\\u50cf\\u3002\",\"x\":-15,\"xanchor\":\"left\",\"xref\":\"x\",\"xshift\":-10,\"y\":9,\"yanchor\":\"middle\",\"yref\":\"y\",\"yshift\":0},{\"bgcolor\":\"#fee6e6\",\"bordercolor\":\"rgb(245.72097634138632, 0.0, 0.0)\",\"font\":{\"color\":\"black\",\"size\":14},\"showarrow\":false,\"text\":\"\\u800c\\u57fa\\u4e8e\\u6709\\u53f2\\u4ee5\\u6765\\u6700\\u5927\\u7684...\\u8fdc\\u955c\\u5219\\u9700\\u8981\\u4e0a\\u767e\\u5c0f\\u65f6\\u3002\",\"x\":-30,\"xanchor\":\"left\",\"xref\":\"x\",\"xshift\":-10,\"y\":9,\"yanchor\":\"middle\",\"yref\":\"y\",\"yshift\":0},{\"bgcolor\":\"#fff5e6\",\"bordercolor\":\"rgb(253.024893586663, 154.26957291981404, 0.0)\",\"font\":{\"color\":\"black\",\"size\":14},\"showarrow\":false,\"text\":\"\\u4e3a\\u4eba\\u7c7b\\u786e\\u5b9a\\u8fd9\\u4e00\\u70b9\\u7684\\uff0c...4\\u514b\\u7684\\u884c\\u661f\\u8868\\u9762\\u6837\\u672c\\u3002\",\"x\":-15,\"xanchor\":\"left\",\"xref\":\"x\",\"xshift\":-10,\"y\":10,\"yanchor\":\"middle\",\"yref\":\"y\",\"yshift\":0},{\"bgcolor\":\"#fff5e6\",\"bordercolor\":\"rgb(253.024893586663, 154.26957291981404, 0.0)\",\"font\":{\"color\":\"black\",\"size\":14},\"showarrow\":false,\"text\":\"2022\\u5e74\\uff0c\\u65e5\\u672c\\u6587\\u90e8...\\u8fbe\\u5730\\u7403\\u5177\\u6709\\u91cd\\u8981\\u610f\\u4e49\\u3002\",\"x\":-30,\"xanchor\":\"left\",\"xref\":\"x\",\"xshift\":-10,\"y\":10,\"yanchor\":\"middle\",\"yref\":\"y\",\"yshift\":0},{\"bgcolor\":\"#ffede6\",\"bordercolor\":\"rgb(251.4283195411552, 72.84429659891467, 0.0)\",\"font\":{\"color\":\"black\",\"size\":14},\"showarrow\":false,\"text\":\"\\u4eca\\u5e74\\uff0c\\u751f\\u6210\\u5f0f\\u4eba\\u5de5\\u667a\\u80fd...\\u9886\\u57df\\u6811\\u7acb\\u4e86\\u65b0\\u7684\\u6807\\u6746\\u3002\",\"x\":-15,\"xanchor\":\"left\",\"xref\":\"x\",\"xshift\":-10,\"y\":11,\"yanchor\":\"middle\",\"yref\":\"y\",\"yshift\":0},{\"bgcolor\":\"#ffede6\",\"bordercolor\":\"rgb(251.4283195411552, 72.84429659891467, 0.0)\",\"font\":{\"color\":\"black\",\"size\":14},\"showarrow\":false,\"text\":\"\\u5b83\\u53ef\\u751f\\u6210\\u66f4\\u52a0\\u771f\\u5b9e\\u548c\\u51c6...\\u8fa8\\u7387\\u66f4\\u662f\\u63d0\\u9ad8\\u4e864\\u500d\\u3002\",\"x\":-30,\"xanchor\":\"left\",\"xref\":\"x\",\"xshift\":-10,\"y\":11,\"yanchor\":\"middle\",\"yref\":\"y\",\"yshift\":0},{\"bgcolor\":\"#fbe6e6\",\"bordercolor\":\"rgb(213.32857000442624, 0.0, 0.0)\",\"font\":{\"color\":\"black\",\"size\":14},\"showarrow\":false,\"text\":\"2022\\u5e74\\uff0c\\u79d1\\u5b66\\u5bb6\\u9996...\\u201c\\u4eba\\u5de5\\u5408\\u6210\\u201d\\u7684\\u80da\\u80ce\\u3002\",\"x\":-15,\"xanchor\":\"left\",\"xref\":\"x\",\"xshift\":-10,\"y\":12,\"yanchor\":\"middle\",\"yref\":\"y\",\"yshift\":0},{\"bgcolor\":\"#fbe6e6\",\"bordercolor\":\"rgb(213.32857000442624, 0.0, 0.0)\",\"font\":{\"color\":\"black\",\"size\":14},\"showarrow\":false,\"text\":\"\\u7531\\u751f\\u957f\\u4e8e\\u57f9\\u517b\\u76bf\\u4e2d\\u7684\\u5e72...\\u8fd8\\u51fa\\u73b0\\u4e86\\u5927\\u8111\\u7684\\u96cf\\u5f62\\u3002\",\"x\":-30,\"xanchor\":\"left\",\"xref\":\"x\",\"xshift\":-10,\"y\":12,\"yanchor\":\"middle\",\"yref\":\"y\",\"yshift\":0},{\"bgcolor\":\"#fff5e6\",\"bordercolor\":\"rgb(252.95934758116326, 150.92672663932564, 0.0)\",\"font\":{\"color\":\"black\",\"size\":14},\"showarrow\":false,\"text\":\"\\u5317\\u4eac\\u65f6\\u95f42022\\u5e749...\\u8fea\\u83ab\\u5f17\\u65af\\u201d\\u7684\\u5c0f\\u884c\\u661f\\u3002\",\"x\":-15,\"xanchor\":\"left\",\"xref\":\"x\",\"xshift\":-10,\"y\":13,\"yanchor\":\"middle\",\"yref\":\"y\",\"yshift\":0},{\"bgcolor\":\"#fff5e6\",\"bordercolor\":\"rgb(252.95934758116326, 150.92672663932564, 0.0)\",\"font\":{\"color\":\"black\",\"size\":14},\"showarrow\":false,\"text\":\"\\u51e0\\u5929\\u540e\\uff0cNASA\\u8bc1\\u5b9e...\\u5b9a\\u8981\\u6c42\\u768425\\u500d\\u4ee5\\u4e0a\\u3002\",\"x\":-30,\"xanchor\":\"left\",\"xref\":\"x\",\"xshift\":-10,\"y\":13,\"yanchor\":\"middle\",\"yref\":\"y\",\"yshift\":0},{\"bgcolor\":\"#fce6e6\",\"bordercolor\":\"rgb(222.11574460211733, 0.0, 0.0)\",\"font\":{\"color\":\"black\",\"size\":14},\"showarrow\":false,\"text\":\"12\\u670814\\u65e5\\uff0c\\u7f8e\\u56fd\\u52a0...\\u83b7\\u5f97\\u201c\\u51c0\\u80fd\\u91cf\\u589e\\u76ca\\u201d\\u3002\",\"x\":-15,\"xanchor\":\"left\",\"xref\":\"x\",\"xshift\":-10,\"y\":14,\"yanchor\":\"middle\",\"yref\":\"y\",\"yshift\":0},{\"bgcolor\":\"#fce6e6\",\"bordercolor\":\"rgb(222.11574460211733, 0.0, 0.0)\",\"font\":{\"color\":\"black\",\"size\":14},\"showarrow\":false,\"text\":\"\\u7f8e\\u56fd\\u56fd\\u5bb6\\u70b9\\u706b\\u88c5\\u7f6e\\u901a\\u8fc7...5\\u5146\\u7126\\u8033\\u7684\\u805a\\u53d8\\u80fd\\u91cf\\u3002\",\"x\":-30,\"xanchor\":\"left\",\"xref\":\"x\",\"xshift\":-10,\"y\":14,\"yanchor\":\"middle\",\"yref\":\"y\",\"yshift\":0},{\"bgcolor\":\"#fee6e6\",\"bordercolor\":\"rgb(242.51587657251974, 0.0, 0.0)\",\"font\":{\"color\":\"black\",\"size\":14},\"showarrow\":false,\"text\":\"\\u201d\\u7eb3\\u5170\\u5ae3\\u7136\\uff0c\\u4f60\\u4e0d\\u7528\\u505a...\\u65f6\\u5019\\uff0c\\u662f\\u51e0\\u6bb5\\u6597\\u4e4b\\u6c14\\uff1f\",\"x\":-15,\"xanchor\":\"left\",\"xref\":\"x\",\"xshift\":-10,\"y\":15,\"yanchor\":\"middle\",\"yref\":\"y\",\"yshift\":0},{\"bgcolor\":\"#fee6e6\",\"bordercolor\":\"rgb(242.51587657251974, 0.0, 0.0)\",\"font\":{\"color\":\"black\",\"size\":14},\"showarrow\":false,\"text\":\"\\u6ca1\\u9519\\uff0c\\u73b0\\u5728\\u7684\\u6211\\u7684\\u786e\\u662f...\\u5c11\\u5e74\\uff0c\\u7adf\\u7136\\u5982\\u6b64\\u5229\\u5bb3\\u3002\",\"x\":-30,\"xanchor\":\"left\",\"xref\":\"x\",\"xshift\":-10,\"y\":15,\"yanchor\":\"middle\",\"yref\":\"y\",\"yshift\":0},{\"bgcolor\":\"#fff2e6\",\"bordercolor\":\"rgb(252.49733108669062, 127.36388542122151, 0.0)\",\"font\":{\"color\":\"black\",\"size\":14},\"showarrow\":false,\"text\":\"\\u5bf9\\u4e8e\\u5916\\u9762\\u7684\\u4e16\\u754c\\uff0c\\u7267\\u5c18...\\u4e2d\\u7684\\u6c99\\u7c92\\uff0c\\u5fae\\u4e0d\\u8db3\\u9053\\u3002\",\"x\":-15,\"xanchor\":\"left\",\"xref\":\"x\",\"xshift\":-10,\"y\":16,\"yanchor\":\"middle\",\"yref\":\"y\",\"yshift\":0},{\"bgcolor\":\"#fff2e6\",\"bordercolor\":\"rgb(252.49733108669062, 127.36388542122151, 0.0)\",\"font\":{\"color\":\"black\",\"size\":14},\"showarrow\":false,\"text\":\"\\u800c\\u4ed6\\u4eec\\u6240\\u5904\\u7684\\u8fd9\\u7247\\u5927\\u5343...\\u662f\\u90a3\\u65e0\\u6570\\u4f4d\\u9762\\u7684\\u4e2d\\u5fc3\\u3002\",\"x\":-30,\"xanchor\":\"left\",\"xref\":\"x\",\"xshift\":-10,\"y\":16,\"yanchor\":\"middle\",\"yref\":\"y\",\"yshift\":0},{\"bgcolor\":\"#fff0e6\",\"bordercolor\":\"rgb(252.05993200264712, 105.05653213500304, 0.0)\",\"font\":{\"color\":\"black\",\"size\":14},\"showarrow\":false,\"text\":\"\\u201c\\u5916\\u754c\\u554a\\u2026\\u2026\\u201d\\u8001\\u4eba\\u9732...\\u4e4b\\u5730\\uff0c\\u5927\\u8352\\u832b\\u832b\\u65e0\\u5c3d\\u3002\",\"x\":-15,\"xanchor\":\"left\",\"xref\":\"x\",\"xshift\":-10,\"y\":17,\"yanchor\":\"middle\",\"yref\":\"y\",\"yshift\":0},{\"bgcolor\":\"#fff0e6\",\"bordercolor\":\"rgb(252.05993200264712, 105.05653213500304, 0.0)\",\"font\":{\"color\":\"black\",\"size\":14},\"showarrow\":false,\"text\":\"\\u4eba\\u65cf\\u4e0d\\u540c\\u5730\\u57df\\u95f4\\u5f88\\u96be\\u901a...\\u53ef\\u79f0\\u4e4b\\u4e3a\\u4eba\\u65cf\\u5929\\u9a84\\u3002\\u201d\",\"x\":-30,\"xanchor\":\"left\",\"xref\":\"x\",\"xshift\":-10,\"y\":17,\"yanchor\":\"middle\",\"yref\":\"y\",\"yshift\":0},{\"bgcolor\":\"#fee6e6\",\"bordercolor\":\"rgb(242.83723612290262, 0.0, 0.0)\",\"font\":{\"color\":\"black\",\"size\":14},\"showarrow\":false,\"text\":\"\\u9893\\u7136\\u4e00\\u53f9\\uff0c\\u7537\\u5b69\\u513f\\u505a\\u51fa...\\u6781\\u9b54\\u77b3\\u4e00\\u76f4\\u90fd\\u5728\\u8fdb\\u6b65\\u3002\",\"x\":-15,\"xanchor\":\"left\",\"xref\":\"x\",\"xshift\":-10,\"y\":18,\"yanchor\":\"middle\",\"yref\":\"y\",\"yshift\":0},{\"bgcolor\":\"#fee6e6\",\"bordercolor\":\"rgb(242.83723612290262, 0.0, 0.0)\",\"font\":{\"color\":\"black\",\"size\":14},\"showarrow\":false,\"text\":\"\\u7384\\u5929\\u529f\\u4e0d\\u80fd\\u7a81\\u7834\\u74f6\\u9888\\uff0c...\\u539f\\u672c\\u7684\\u4e16\\u754c\\u4e0d\\u540c\\u4e48\\uff1f\\u201d\",\"x\":-30,\"xanchor\":\"left\",\"xref\":\"x\",\"xshift\":-10,\"y\":18,\"yanchor\":\"middle\",\"yref\":\"y\",\"yshift\":0},{\"bgcolor\":\"#fbe6e6\",\"bordercolor\":\"rgb(217.81563845978124, 0.0, 0.0)\",\"font\":{\"color\":\"black\",\"size\":14},\"showarrow\":false,\"text\":\"\\u8fd9\\u672c\\u4e66\\u4ee5\\u524d\\u7ecf\\u5e38\\u88ab\\u58a8\\u5927...\\u4e00\\u76f4\\u9ed8\\u9ed8\\u81ea\\u884c\\u53c2\\u609f\\u7740\\u3002\",\"x\":-15,\"xanchor\":\"left\",\"xref\":\"x\",\"xshift\":-10,\"y\":19,\"yanchor\":\"middle\",\"yref\":\"y\",\"yshift\":0},{\"bgcolor\":\"#fbe6e6\",\"bordercolor\":\"rgb(217.81563845978124, 0.0, 0.0)\",\"font\":{\"color\":\"black\",\"size\":14},\"showarrow\":false,\"text\":\"\\u6b64\\u5377\\u79d8\\u7c4d\\u662f\\u5728\\u6697\\u683c\\u5185\\u548c...\\u957f\\u751f\\u4e0d\\u6b7b\\u7684\\u795e\\u4ed9\\u5462\\uff01 \",\"x\":-30,\"xanchor\":\"left\",\"xref\":\"x\",\"xshift\":-10,\"y\":19,\"yanchor\":\"middle\",\"yref\":\"y\",\"yshift\":0},{\"bgcolor\":\"#fce6e6\",\"bordercolor\":\"rgb(222.03916584936943, 0.0, 0.0)\",\"font\":{\"color\":\"black\",\"size\":14},\"showarrow\":false,\"text\":\"\\u5982\\u679c\\u662f\\u4e03\\u5e74\\u524d\\u5979\\u4e00\\u5b9a\\u4f1a...\\u53ef\\u80fd\\u5728\\u51e0\\u5929\\u5185\\u5c31\\u529e\\u597d\\uff1f\",\"x\":-15,\"xanchor\":\"left\",\"xref\":\"x\",\"xshift\":-10,\"y\":20,\"yanchor\":\"middle\",\"yref\":\"y\",\"yshift\":0},{\"bgcolor\":\"#fce6e6\",\"bordercolor\":\"rgb(222.03916584936943, 0.0, 0.0)\",\"font\":{\"color\":\"black\",\"size\":14},\"showarrow\":false,\"text\":\"\\u5426\\u5219\\uff0c\\u7f8e\\u56fd\\u7684\\u4e00\\u5207\\u600e\\u4e48...\\u53bb\\uff0c\\u4e5f\\u4f1a\\u88ab\\u62bc\\u4e0a\\u98de\\u673a\\u3002\",\"x\":-30,\"xanchor\":\"left\",\"xref\":\"x\",\"xshift\":-10,\"y\":20,\"yanchor\":\"middle\",\"yref\":\"y\",\"yshift\":0},{\"bgcolor\":\"#f6e6e6\",\"bordercolor\":\"rgb(164.03083144514875, 0.0, 0.0)\",\"font\":{\"color\":\"black\",\"size\":14},\"showarrow\":false,\"text\":\"\\u4e00\\u5411\\u624e\\u8d77\\u6765\\u7684\\u957f\\u53d1\\u6563\\u5f00...\\u5f97\\u7ea4\\u8170\\u4e00\\u63e1\\u64a9\\u4eba\\u4e4b\\u81f3\\u3002\",\"x\":-15,\"xanchor\":\"left\",\"xref\":\"x\",\"xshift\":-10,\"y\":21,\"yanchor\":\"middle\",\"yref\":\"y\",\"yshift\":0},{\"bgcolor\":\"#f6e6e6\",\"bordercolor\":\"rgb(164.03083144514875, 0.0, 0.0)\",\"font\":{\"color\":\"black\",\"size\":14},\"showarrow\":false,\"text\":\"\\u7a0d\\u4e00\\u79fb\\u52a8\\uff0c\\u88d9\\u6446\\u6cdb\\u8d77\\u6ce2...\\u5e97\\u5185\\u4e00\\u65f6\\u7adf\\u4e3a\\u4e4b\\u4e00\\u4eae\\u3002\",\"x\":-30,\"xanchor\":\"left\",\"xref\":\"x\",\"xshift\":-10,\"y\":21,\"yanchor\":\"middle\",\"yref\":\"y\",\"yshift\":0},{\"bgcolor\":\"#f4e6e6\",\"bordercolor\":\"rgb(147.49687091752207, 0.0, 0.0)\",\"font\":{\"color\":\"black\",\"size\":14},\"showarrow\":false,\"text\":\"\\u54ed\\u4e86\\u534a\\u65e5\\uff0c\\u89c9\\u5f97\\u55d3\\u5b50\\u5df2...\\u5019\\u966a\\u7687\\u4e0a\\u6f14\\u573a\\u620f\\u7f62\\u4e86\\uff01\",\"x\":-15,\"xanchor\":\"left\",\"xref\":\"x\",\"xshift\":-10,\"y\":22,\"yanchor\":\"middle\",\"yref\":\"y\",\"yshift\":0},{\"bgcolor\":\"#f4e6e6\",\"bordercolor\":\"rgb(147.49687091752207, 0.0, 0.0)\",\"font\":{\"color\":\"black\",\"size\":14},\"showarrow\":false,\"text\":\"\\u201d\\u6211\\u542c\\u540e\\u65e0\\u8bed\\uff0c\\u5fc3\\u53f9\\u9053...\\uff0c\\u5426\\u5219\\u4f1a\\u5bb3\\u6b7b\\u59d0\\u59d0\\u7684\\u3002\",\"x\":-30,\"xanchor\":\"left\",\"xref\":\"x\",\"xshift\":-10,\"y\":22,\"yanchor\":\"middle\",\"yref\":\"y\",\"yshift\":0},{\"bgcolor\":\"#ffebe6\",\"bordercolor\":\"rgb(250.9863337481185, 50.30302115404422, 0.0)\",\"font\":{\"color\":\"black\",\"size\":14},\"showarrow\":false,\"text\":\"\\u767d\\u5b50\\u753b\\u671b\\u7740\\u5979\\u773c\\u4e2d\\u7684\\u90a3...\\u7684\\u68cb\\u5c40\\uff0c\\u67af\\u71e5\\u800c\\u4e4f\\u5473\\u3002\",\"x\":-15,\"xanchor\":\"left\",\"xref\":\"x\",\"xshift\":-10,\"y\":23,\"yanchor\":\"middle\",\"yref\":\"y\",\"yshift\":0},{\"bgcolor\":\"#ffebe6\",\"bordercolor\":\"rgb(250.9863337481185, 50.30302115404422, 0.0)\",\"font\":{\"color\":\"black\",\"size\":14},\"showarrow\":false,\"text\":\"\\u5728\\u4ed6\\u8fd8\\u662f\\u4ed9\\u7684\\u65f6\\u5019\\uff0c\\u4ed6...\\u81ea\\u5df1\\u771f\\u7684\\u4e0d\\u4f1a\\u540e\\u6094\\u3002\\n\",\"x\":-30,\"xanchor\":\"left\",\"xref\":\"x\",\"xshift\":-10,\"y\":23,\"yanchor\":\"middle\",\"yref\":\"y\",\"yshift\":0},{\"bgcolor\":\"#f9e6e6\",\"bordercolor\":\"rgb(192.61272542317909, 0.0, 0.0)\",\"font\":{\"color\":\"black\",\"size\":14},\"showarrow\":false,\"text\":\"\\u201c\\u4f60\\u8fd8\\u6562\\u5632\\u7b11\\u6211\\uff1f\\u6211\\u90a3...\\uff0c\\u4e0d\\u6b22\\u8fce\\u7537\\u5b50\\u6253\\u6270\\u5979\\u3002\",\"x\":-15,\"xanchor\":\"left\",\"xref\":\"x\",\"xshift\":-10,\"y\":24,\"yanchor\":\"middle\",\"yref\":\"y\",\"yshift\":0},{\"bgcolor\":\"#f9e6e6\",\"bordercolor\":\"rgb(192.61272542317909, 0.0, 0.0)\",\"font\":{\"color\":\"black\",\"size\":14},\"showarrow\":false,\"text\":\"\\u963f\\u4e3d\\u96c5\\u65e2\\u672a\\u5b9a\\u60c5\\uff0c\\u4e3a\\u4f55...\\u8d8a\\u6709\\u53ef\\u80fd\\u540c\\u610f\\u6587\\u6597\\u3002\\u201d\",\"x\":-30,\"xanchor\":\"left\",\"xref\":\"x\",\"xshift\":-10,\"y\":24,\"yanchor\":\"middle\",\"yref\":\"y\",\"yshift\":0},{\"bgcolor\":\"#ffeee6\",\"bordercolor\":\"rgb(251.76081920913975, 89.80177966612706, 0.0)\",\"font\":{\"color\":\"black\",\"size\":14},\"showarrow\":false,\"text\":\"\\u5c31\\u5730\\u7403\\u4eba\\u7684\\u773c\\u5149\\u6765\\u770b\\uff0c...\\u5ea7\\u4f4e\\u77ee\\u7684\\u5706\\u5f62\\u4e4c\\u9f9f\\u58f3\\u3002\",\"x\":-15,\"xanchor\":\"left\",\"xref\":\"x\",\"xshift\":-10,\"y\":25,\"yanchor\":\"middle\",\"yref\":\"y\",\"yshift\":0},{\"bgcolor\":\"#ffeee6\",\"bordercolor\":\"rgb(251.76081920913975, 89.80177966612706, 0.0)\",\"font\":{\"color\":\"black\",\"size\":14},\"showarrow\":false,\"text\":\"\\u94dd\\u5408\\u91d1\\u7684\\u6841\\u67b6\\u7ed3\\u6784\\uff0c\\u5916...\\u662f\\u62cd\\u6241\\u7684\\u767d\\u8272\\u8499\\u53e4\\u5305\\u3002\",\"x\":-30,\"xanchor\":\"left\",\"xref\":\"x\",\"xshift\":-10,\"y\":25,\"yanchor\":\"middle\",\"yref\":\"y\",\"yshift\":0},{\"bgcolor\":\"#fee6e6\",\"bordercolor\":\"rgb(247.20989406180828, 0.0, 0.0)\",\"font\":{\"color\":\"black\",\"size\":14},\"showarrow\":false,\"text\":\"\\u7ec8\\u4e8e\\uff0c\\u5510\\u98ce\\u770b\\u89c1\\u4e86\\u4e00\\u80a1...\\u56fe\\u5c06\\u4e0d\\u901f\\u4e4b\\u5ba2\\u7ed9\\u6495\\u788e\\u3002\",\"x\":-15,\"xanchor\":\"left\",\"xref\":\"x\",\"xshift\":-10,\"y\":26,\"yanchor\":\"middle\",\"yref\":\"y\",\"yshift\":0},{\"bgcolor\":\"#fee6e6\",\"bordercolor\":\"rgb(247.20989406180828, 0.0, 0.0)\",\"font\":{\"color\":\"black\",\"size\":14},\"showarrow\":false,\"text\":\"\\u98de\\u8239\\u4f9d\\u7136\\u5927\\u6447\\u5927\\u6446\\u7684\\u524d...\\u4e1c\\u897f\\u963b\\u6b62\\u4e86\\u8fd9\\u6b21\\u8fdb\\u653b\\u3002\",\"x\":-30,\"xanchor\":\"left\",\"xref\":\"x\",\"xshift\":-10,\"y\":26,\"yanchor\":\"middle\",\"yref\":\"y\",\"yshift\":0},{\"bgcolor\":\"#fde6e6\",\"bordercolor\":\"rgb(233.8388398164974, 0.0, 0.0)\",\"font\":{\"color\":\"black\",\"size\":14},\"showarrow\":false,\"text\":\"\\u201c\\u662f\\u79d1\\u7814\\u90e8\\u5efa\\u8bae\\u5143\\u9996\\u8fd9...\\u7ea7\\u6587\\u660e\\u9009\\u62e9\\u65e0\\u89c6\\u6211\\u4eec\\u3002\",\"x\":-15,\"xanchor\":\"left\",\"xref\":\"x\",\"xshift\":-10,\"y\":27,\"yanchor\":\"middle\",\"yref\":\"y\",\"yshift\":0},{\"bgcolor\":\"#fde6e6\",\"bordercolor\":\"rgb(233.8388398164974, 0.0, 0.0)\",\"font\":{\"color\":\"black\",\"size\":14},\"showarrow\":false,\"text\":\"\\u65e2\\u7136\\u65e0\\u89c6\\u6211\\u4eec\\uff0c\\u90a3\\u4e48\\u6211...\\u91cd\\u542f\\u592a\\u9633\\u63a2\\u6d4b\\u8ba1\\u5212\\u3002\\u201d\",\"x\":-30,\"xanchor\":\"left\",\"xref\":\"x\",\"xshift\":-10,\"y\":27,\"yanchor\":\"middle\",\"yref\":\"y\",\"yshift\":0},{\"bgcolor\":\"#fee6e6\",\"bordercolor\":\"rgb(248.7580380428589, 0.0, 0.0)\",\"font\":{\"color\":\"black\",\"size\":14},\"showarrow\":false,\"text\":\"\\u98de\\u5230\\u8fd9\\u680b\\u5927\\u578b\\u5efa\\u7b51\\u65c1\\u8fb9...\\u4e9b\\u9a6c\\u8d5b\\u514b\\u4e00\\u6837\\u7684\\u4e1c\\u897f\\u3002\",\"x\":-15,\"xanchor\":\"left\",\"xref\":\"x\",\"xshift\":-10,\"y\":28,\"yanchor\":\"middle\",\"yref\":\"y\",\"yshift\":0},{\"bgcolor\":\"#fee6e6\",\"bordercolor\":\"rgb(248.7580380428589, 0.0, 0.0)\",\"font\":{\"color\":\"black\",\"size\":14},\"showarrow\":false,\"text\":\"\\u8fd9\\u662f\\u56e0\\u4e3a\\uff0c\\u8fd9\\u680b\\u5efa\\u7b51\\u65c1...\\u4e0d\\u80fd\\u8dd1\\u5230\\u91cc\\u8fb9\\u8fdb\\u53bb\\u4e86\\u3002\",\"x\":-30,\"xanchor\":\"left\",\"xref\":\"x\",\"xshift\":-10,\"y\":28,\"yanchor\":\"middle\",\"yref\":\"y\",\"yshift\":0},{\"bgcolor\":\"#fbffea\",\"bordercolor\":\"rgb(215.65315299573763, 255.0, 40.13378394434764)\",\"font\":{\"color\":\"black\",\"size\":14},\"showarrow\":false,\"text\":\"\\u827e\\u59b2\\u76b1\\u4e86\\u76b1\\u597d\\u770b\\u7684\\u7709\\u5934...\\u4eba\\u7684\\u6355\\u5974\\u961f\\u7ed9\\u7f00\\u4e0a\\u4e86\\u3002\",\"x\":-15,\"xanchor\":\"left\",\"xref\":\"x\",\"xshift\":-10,\"y\":29,\"yanchor\":\"middle\",\"yref\":\"y\",\"yshift\":0},{\"bgcolor\":\"#fbffea\",\"bordercolor\":\"rgb(215.65315299573763, 255.0, 40.13378394434764)\",\"font\":{\"color\":\"black\",\"size\":14},\"showarrow\":false,\"text\":\"\\u8981\\u77e5\\u9053\\u5728\\u5341\\u51e0\\u5e74\\u524d\\u51e0\\u4e4e...\\u5bf9\\u662f\\u5012\\u9709\\u900f\\u9876\\u7684\\u4e8b\\u60c5\\u3002\",\"x\":-30,\"xanchor\":\"left\",\"xref\":\"x\",\"xshift\":-10,\"y\":29,\"yanchor\":\"middle\",\"yref\":\"y\",\"yshift\":0}],\"shapes\":[{\"line\":{\"color\":\"rgb(193.11006953105937, 0.0, 0.0)\",\"width\":2},\"type\":\"line\",\"x0\":-4.177777777777777,\"x1\":0,\"xref\":\"x\",\"y0\":0,\"y1\":0,\"yref\":\"y\"},{\"line\":{\"color\":\"rgb(253.7736202781771, 192.45463418703207, 0.0)\",\"width\":2},\"type\":\"line\",\"x0\":-4.4,\"x1\":1,\"xref\":\"x\",\"y0\":1,\"y1\":1,\"yref\":\"y\"},{\"line\":{\"color\":\"rgb(212.5912425850996, 0.0, 0.0)\",\"width\":2},\"type\":\"line\",\"x0\":-4.277777777777778,\"x1\":2,\"xref\":\"x\",\"y0\":2,\"y1\":2,\"yref\":\"y\"},{\"line\":{\"color\":\"rgb(128.0, 0.0, 0.0)\",\"width\":2},\"type\":\"line\",\"x0\":-4.144444444444444,\"x1\":3,\"xref\":\"x\",\"y0\":3,\"y1\":3,\"yref\":\"y\"},{\"line\":{\"color\":\"rgb(242.66706122449943, 0.0, 0.0)\",\"width\":2},\"type\":\"line\",\"x0\":-4.266666666666667,\"x1\":4,\"xref\":\"x\",\"y0\":4,\"y1\":4,\"yref\":\"y\"},{\"line\":{\"color\":\"rgb(220.46794020095632, 0.0, 0.0)\",\"width\":2},\"type\":\"line\",\"x0\":-4.433333333333334,\"x1\":5,\"xref\":\"x\",\"y0\":5,\"y1\":5,\"yref\":\"y\"},{\"line\":{\"color\":\"rgb(229.45207837771517, 0.0, 0.0)\",\"width\":2},\"type\":\"line\",\"x0\":-4.266666666666667,\"x1\":6,\"xref\":\"x\",\"y0\":6,\"y1\":6,\"yref\":\"y\"},{\"line\":{\"color\":\"rgb(250.99077855490935, 50.529706300377086, 0.0)\",\"width\":2},\"type\":\"line\",\"x0\":-4.466666666666667,\"x1\":7,\"xref\":\"x\",\"y0\":7,\"y1\":7,\"yref\":\"y\"},{\"line\":{\"color\":\"rgb(204.66726292922692, 0.0, 0.0)\",\"width\":2},\"type\":\"line\",\"x0\":-4.466666666666667,\"x1\":8,\"xref\":\"x\",\"y0\":8,\"y1\":8,\"yref\":\"y\"},{\"line\":{\"color\":\"rgb(245.72097634138632, 0.0, 0.0)\",\"width\":2},\"type\":\"line\",\"x0\":-4.466666666666667,\"x1\":9,\"xref\":\"x\",\"y0\":9,\"y1\":9,\"yref\":\"y\"},{\"line\":{\"color\":\"rgb(253.024893586663, 154.26957291981404, 0.0)\",\"width\":2},\"type\":\"line\",\"x0\":-4.433333333333334,\"x1\":10,\"xref\":\"x\",\"y0\":10,\"y1\":10,\"yref\":\"y\"},{\"line\":{\"color\":\"rgb(251.4283195411552, 72.84429659891467, 0.0)\",\"width\":2},\"type\":\"line\",\"x0\":-4.466666666666667,\"x1\":11,\"xref\":\"x\",\"y0\":11,\"y1\":11,\"yref\":\"y\"},{\"line\":{\"color\":\"rgb(213.32857000442624, 0.0, 0.0)\",\"width\":2},\"type\":\"line\",\"x0\":-4.211111111111111,\"x1\":12,\"xref\":\"x\",\"y0\":12,\"y1\":12,\"yref\":\"y\"},{\"line\":{\"color\":\"rgb(252.95934758116326, 150.92672663932564, 0.0)\",\"width\":2},\"type\":\"line\",\"x0\":-4.2444444444444445,\"x1\":13,\"xref\":\"x\",\"y0\":13,\"y1\":13,\"yref\":\"y\"},{\"line\":{\"color\":\"rgb(222.11574460211733, 0.0, 0.0)\",\"width\":2},\"type\":\"line\",\"x0\":-4.211111111111111,\"x1\":14,\"xref\":\"x\",\"y0\":14,\"y1\":14,\"yref\":\"y\"},{\"line\":{\"color\":\"rgb(242.51587657251974, 0.0, 0.0)\",\"width\":2},\"type\":\"line\",\"x0\":-4.4,\"x1\":15,\"xref\":\"x\",\"y0\":15,\"y1\":15,\"yref\":\"y\"},{\"line\":{\"color\":\"rgb(252.49733108669062, 127.36388542122151, 0.0)\",\"width\":2},\"type\":\"line\",\"x0\":-4.466666666666667,\"x1\":16,\"xref\":\"x\",\"y0\":16,\"y1\":16,\"yref\":\"y\"},{\"line\":{\"color\":\"rgb(252.05993200264712, 105.05653213500304, 0.0)\",\"width\":2},\"type\":\"line\",\"x0\":-4.411111111111111,\"x1\":17,\"xref\":\"x\",\"y0\":17,\"y1\":17,\"yref\":\"y\"},{\"line\":{\"color\":\"rgb(242.83723612290262, 0.0, 0.0)\",\"width\":2},\"type\":\"line\",\"x0\":-4.466666666666667,\"x1\":18,\"xref\":\"x\",\"y0\":18,\"y1\":18,\"yref\":\"y\"},{\"line\":{\"color\":\"rgb(217.81563845978124, 0.0, 0.0)\",\"width\":2},\"type\":\"line\",\"x0\":-4.466666666666667,\"x1\":19,\"xref\":\"x\",\"y0\":19,\"y1\":19,\"yref\":\"y\"},{\"line\":{\"color\":\"rgb(222.03916584936943, 0.0, 0.0)\",\"width\":2},\"type\":\"line\",\"x0\":-4.466666666666667,\"x1\":20,\"xref\":\"x\",\"y0\":20,\"y1\":20,\"yref\":\"y\"},{\"line\":{\"color\":\"rgb(164.03083144514875, 0.0, 0.0)\",\"width\":2},\"type\":\"line\",\"x0\":-4.466666666666667,\"x1\":21,\"xref\":\"x\",\"y0\":21,\"y1\":21,\"yref\":\"y\"},{\"line\":{\"color\":\"rgb(147.49687091752207, 0.0, 0.0)\",\"width\":2},\"type\":\"line\",\"x0\":-4.466666666666667,\"x1\":22,\"xref\":\"x\",\"y0\":22,\"y1\":22,\"yref\":\"y\"},{\"line\":{\"color\":\"rgb(250.9863337481185, 50.30302115404422, 0.0)\",\"width\":2},\"type\":\"line\",\"x0\":-4.466666666666667,\"x1\":23,\"xref\":\"x\",\"y0\":23,\"y1\":23,\"yref\":\"y\"},{\"line\":{\"color\":\"rgb(192.61272542317909, 0.0, 0.0)\",\"width\":2},\"type\":\"line\",\"x0\":-4.4,\"x1\":24,\"xref\":\"x\",\"y0\":24,\"y1\":24,\"yref\":\"y\"},{\"line\":{\"color\":\"rgb(251.76081920913975, 89.80177966612706, 0.0)\",\"width\":2},\"type\":\"line\",\"x0\":-4.466666666666667,\"x1\":25,\"xref\":\"x\",\"y0\":25,\"y1\":25,\"yref\":\"y\"},{\"line\":{\"color\":\"rgb(247.20989406180828, 0.0, 0.0)\",\"width\":2},\"type\":\"line\",\"x0\":-4.466666666666667,\"x1\":26,\"xref\":\"x\",\"y0\":26,\"y1\":26,\"yref\":\"y\"},{\"line\":{\"color\":\"rgb(233.8388398164974, 0.0, 0.0)\",\"width\":2},\"type\":\"line\",\"x0\":-4.4,\"x1\":27,\"xref\":\"x\",\"y0\":27,\"y1\":27,\"yref\":\"y\"},{\"line\":{\"color\":\"rgb(248.7580380428589, 0.0, 0.0)\",\"width\":2},\"type\":\"line\",\"x0\":-4.466666666666667,\"x1\":28,\"xref\":\"x\",\"y0\":28,\"y1\":28,\"yref\":\"y\"},{\"line\":{\"color\":\"rgb(215.65315299573763, 255.0, 40.13378394434764)\",\"width\":2},\"type\":\"line\",\"x0\":-4.466666666666667,\"x1\":29,\"xref\":\"x\",\"y0\":29,\"y1\":29,\"yref\":\"y\"}]},                        {\"responsive\": true}                    ).then(function(){\n",
              "                            \n",
              "var gd = document.getElementById('ae75b7a6-9dc3-474d-82a1-155ad8b7ecbf');\n",
              "var x = new MutationObserver(function (mutations, observer) {{\n",
              "        var display = window.getComputedStyle(gd).display;\n",
              "        if (!display || display === 'none') {{\n",
              "            console.log([gd, 'removed!']);\n",
              "            Plotly.purge(gd);\n",
              "            observer.disconnect();\n",
              "        }}\n",
              "}});\n",
              "\n",
              "// Listen for the removal of the full notebook cells\n",
              "var notebookContainer = gd.closest('#notebook-container');\n",
              "if (notebookContainer) {{\n",
              "    x.observe(notebookContainer, {childList: true});\n",
              "}}\n",
              "\n",
              "// Listen for the clearing of the current output cell\n",
              "var outputEl = gd.closest('.output');\n",
              "if (outputEl) {{\n",
              "    x.observe(outputEl, {childList: true});\n",
              "}}\n",
              "\n",
              "                        })                };                            </script>        </div>\n",
              "</body>\n",
              "</html>"
            ]
          },
          "metadata": {}
        }
      ],
      "source": [
        "import pandas as pd\n",
        "import numpy as np\n",
        "import sys\n",
        "sys.path.append(\"..\")\n",
        "import lib.heatmap\n",
        "import importlib\n",
        "importlib.reload(sys.modules['lib.heatmap'])\n",
        "from lib.heatmap import Heatmap\n",
        "\n",
        "heat_plot_data_path = \"/content/Luotuo-Text-Embedding/data/heatplot.csv\"\n",
        "heat_plot_data = pd.read_csv(heat_plot_data_path, header=0)\n",
        "first = heat_plot_data[\"first\"].tolist()\n",
        "second = heat_plot_data[\"second\"].tolist()\n",
        "first_embed = heat_plot_data[\"first_embed\"].apply(lambda x: ast.literal_eval(x)).tolist()\n",
        "second_embed = heat_plot_data[\"second_embed\"].apply(lambda x: ast.literal_eval(x)).tolist()\n",
        "# positions = [(i, i) for i in range(0, 20, 2)] + [(1, 5), (2, 3), (15, 9), (5, 13), (17, 7)]\n",
        "# heatmap = Heatmap(df, positions)\n",
        "df = pd.DataFrame({ \"first\":first,\n",
        "                    \"second\":second,\n",
        "                    \"first_embed\":[np.array(first_embed[i]) for i in range(len(first_embed))],\n",
        "                    \"second_embed\":[np.array(second_embed[i]) for i in range(len(second_embed))]})\n",
        "heatmap = Heatmap(df)\n",
        "heatmap.create_heatmap(font_path='./lib/arial.ttf')"
      ]
    },
    {
      "cell_type": "markdown",
      "source": [
        "## 模糊搜索"
      ],
      "metadata": {
        "id": "yc_GADoapIaj"
      }
    },
    {
      "cell_type": "code",
      "source": [
        "import ast\n",
        "import lib.fuzzySearch\n",
        "import importlib\n",
        "\n",
        "importlib.reload(lib.fuzzySearch)\n",
        "from lib.fuzzySearch import FuzzySearch\n",
        "fuzzy_search_data_path = \"/content/Luotuo-Text-Embedding/data/search_data.csv\"\n",
        "stop_words_path = \"/content/Luotuo-Text-Embedding/data/stop_word.txt\"\n",
        "\n",
        "fuzzy_search_data = pd.read_csv(fuzzy_search_data_path, header=0)\n",
        "fuzzy_search_data[\"embed\"] = fuzzy_search_data[\"embed\"].apply(lambda x: ast.literal_eval(x))"
      ],
      "metadata": {
        "id": "1TecvclTpKVq"
      },
      "execution_count": null,
      "outputs": []
    },
    {
      "cell_type": "code",
      "source": [
        "# fuzzy_search_data is the data source to search from, which is a pandas dataframe and should have two columns: sentence and embed\n",
        "# sentence is the content of the sentence, each row is a string\n",
        "# embed is the sentence embedding, each row is a list of float\n",
        "fuzzy_search = FuzzySearch(fuzzy_search_data, stop_words_path = stop_words_path)"
      ],
      "metadata": {
        "id": "QzCC_7BmpPMg",
        "outputId": "046a1c18-9cfd-47db-87ae-8d1e288af52e",
        "colab": {
          "base_uri": "https://localhost:8080/"
        }
      },
      "execution_count": null,
      "outputs": [
        {
          "output_type": "stream",
          "name": "stderr",
          "text": [
            "Explicitly passing a `revision` is encouraged when loading a model with custom code to ensure no malicious code has been contributed in a newer revision.\n"
          ]
        }
      ]
    },
    {
      "cell_type": "code",
      "source": [
        "#虎扑报道马刺的保罗-加索尔与球队正式签订协议，有哪些相关的新闻？\n",
        "fuzzy_search.search()"
      ],
      "metadata": {
        "id": "JZJjRT9bpRL0",
        "outputId": "6bd2af1d-457d-4f20-d7bd-f35d5e989e53",
        "colab": {
          "base_uri": "https://localhost:8080/",
          "height": 813
        }
      },
      "execution_count": null,
      "outputs": [
        {
          "name": "stdout",
          "output_type": "stream",
          "text": [
            "请输入您想搜索的问题，例如 '虎扑报道马刺的保罗-加索尔与球队正式签订协议，有哪些相关的新闻？'虎扑报道马刺的保罗-加索尔与球队正式签订协议，有哪些相关的新闻？\n"
          ]
        },
        {
          "output_type": "stream",
          "name": "stderr",
          "text": [
            "Building prefix dict from the default dictionary ...\n",
            "DEBUG:jieba:Building prefix dict from the default dictionary ...\n",
            "Dumping model to file cache /tmp/jieba.cache\n",
            "DEBUG:jieba:Dumping model to file cache /tmp/jieba.cache\n",
            "Loading model cost 0.749 seconds.\n",
            "DEBUG:jieba:Loading model cost 0.749 seconds.\n",
            "Prefix dict has been built successfully.\n",
            "DEBUG:jieba:Prefix dict has been built successfully.\n",
            "Asking to truncate to max_length but no maximum length is provided and the model has no predefined maximum length. Default to no truncation.\n"
          ]
        },
        {
          "output_type": "stream",
          "name": "stdout",
          "text": [
            "第1个结果：\n",
            "<mark>虎扑</mark>体育7月14日讯。<mark>马刺</mark>官网宣布,<mark>保罗</mark>-加<mark>索尔</mark>与<mark>球队正式签订协议</mark>。根据之前的<mark>报道</mark>,加<mark>索尔</mark>与<mark>马刺签订</mark>的是一份为期2年3000万的<mark>协议</mark>。加<mark>索尔</mark>上赛季共打了72场比赛,场均31.8分钟,贡献16.5分11.0篮板4.1助攻2.0盖帽。\n",
            "\n",
            "第2个结果：\n",
            "2015-09-2809:03。新浪体育。显示图片下一站丹佛?北京时间9月28日,据雅<mark>虎</mark>体育<mark>报道</mark>,波特兰开拓者队已经与老将射手迈克-米勒达成了合同买断。一旦米勒成为自由球员之后,丹佛掘金队有意得到他。据雅<mark>虎</mark>体育得到的消息,如果迈克-米勒在规定的时间内没有被<mark>球队</mark>认领并成为一名自由球员,联盟里有一些<mark>球队</mark>将会对他感兴趣,其中就包括掘金队。目前,掘金队中已经有14个保障合同。事实上早在一年前,掘金队就在自由球员市场上猛追过米勒。但最终,米勒决定跟随勒布朗-詹姆斯加盟骑士队。今年7月,开拓者队在关于布兰登-海伍德的那笔交易中得到了迈克-米勒。作为2000年的NBA首轮5号新秀,迈克-米勒曾获得过2001年最佳新秀称号、2006年最佳第六人称号,并且曾跟随迈阿密热火队夺得过两次NBA总冠军。在长达15年的职业生涯里,米勒一直被视为一名关键时刻靠得住的射手,并且能够为争冠<mark>球队</mark>做出贡献。他的生涯场均数据是11.3分、4.4个篮板和2.7次助攻。\n",
            "\n",
            "第3个结果：\n",
            "<mark>虎扑</mark>体育9月3日讯。根据《太阳哨兵报》记者IraWinderman的<mark>报道</mark>,帕特-莱利本周接受采访时表示,交易得到沙奎尔-奥尼尔是他们队史上最大的交易收获。在2004年夏天,奥尼尔被湖人交易到了热火,随后他就与德维恩-韦德在2005-06赛季一起为热火拿到了他们队史上的首个总冠军。“我会这么说,我的意思也是这个,”莱利说,“获得奥尼尔比我们史上的任何收获都重要,其中也包括三巨头。”莱利称热火交易得到奥尼尔的重要性超过了热火组成勒布朗-詹姆斯、克里斯-波什和韦德的三巨头,也超过了<mark>球队</mark>收获阿隆佐-莫宁。“莫宁很重要,但是得到沙奎尔改变了我们<mark>球队</mark>的一切。”莱利说道。2004年夏天,热火送出了布莱恩-格兰特,拉马尔-奥多姆、卡隆-巴特勒、一个首轮选秀权和一个次轮选秀权,得到了奥尼尔。“那个影响深远的时刻,”莱利说,“这真的让我们变得非常非常有竞争力,他扭转了我们的<mark>球队</mark>,他给了我们真正的竞争力。”2004年夏天,热火老板米基-阿里森允许莱利与湖人老板杰里-巴斯讨论了湖人空缺的主帅一职。“我们坐下来谈了<mark>球队</mark>,”莱利说,“我记得其中一个话题出现了,我问了他们这个问题,‘奥尼尔和科比-布莱恩特怎么样?’他们说…莱利接着说:“他们真的不想谈这个,我说我唯一可以来执教他们的办法就是给我一个将他俩重组在一起的机会,打造他们之间的关系,然后让这个事情继续前进,因为我认为他们那支<mark>球队</mark>,他们刚完成的那些事情,他们一起可以在洛杉矶拿到更多的总冠军。”“就在那之后,我们都上了楼一起吃晚饭,那就是我最后一次听到他们想让我执教了,但是他们肯定想跟我们做一笔交易,所以我不知道是否他带我去那是真的想让我执教<mark>球队</mark>,还是他带我去那只是想猜测下我们是否会交易韦德、巴特勒和其他的一切,我拒绝了,但是当他们打回电话来的时候,当米奇-库普切克打电话过来的时候,我们有兴趣,这是毫无疑问的,然后我们研究出了一个交易报价,然后交易就达成了,我们最终得到了奥尼尔,我们最终拿到了总冠军。”莱利说道。在交易<mark>正式</mark>达成之前,奥尼尔与阿里森见了面,莱利是中间人。“我打电话给米基,”莱利说,“我说,‘米基,奥尼尔想来拜访你’,他说,‘好啊,我们已经有了一船的客人了’,他不得不为我租下另外一艘船,让我待在他的船旁边,他还不得不放上一个超大的床,让奥尼尔和他的妻子可以在上面过夜,但是结果那艘船还是不够大,奥尼尔最终大部分时间都睡在了客厅的地板上。自从热火拿到他们的首个总冠军后,他们又拿到了两个总冠军。“这已经过去了10年了,我们之前的表现不错,我们非常有竞争性,”莱利说,“我认为奥尼尔的交易改变了我们的<mark>球队</mark>文化,我认为我们之前与尼克斯的季后赛系列赛连续三个赛季都是引人入胜的,我们最终输了,但是就像我说的那样,‘你知道么?我们必须要去努力争取。’2005年12月,莱利成为了热火的主帅,但是他称这不是奥尼尔的要求。“不,”莱利说,“他从没有要求我,他也没有要求米基让我出任教练,这从没有发生过,他从没有赶走斯坦-范甘迪。”“有很多关于此事的猜测,我是<mark>球队</mark>的总裁,作为<mark>球队</mark>当时的总裁,我差不多就是<mark>球队</mark>的看管者,但是我也有眼睛,我知道在发生着什么,我知道这支<mark>球队</mark>需要什么,我们当时没有很多的时间了,从那个角度来说,我们只有3个赛季或者4个赛季有夺冠的机会。莱利说道。2007-08赛季中期,奥尼尔被热火交易到了太阳,那个时候,奥尼尔和莱利的关系已经恶化。“我跟很多球员都有过争吵,跟他们所有人都有过争吵,我执教的每个球员,每个超级球星和每个名人堂成员,”莱利说,“有时候会有意见不一致的时候,他们都是好球员,我是有要求的人,他们也是有要求的球员,所以有时候我们对待彼此时事情会有点过,但是当奥尼尔离开的时候,那不是最好的条件,但是这对我们所有人来说都好,那不是只是一个事情的原因,只是到了时候了。”莱利说道。不过莱利仍然非常感激奥尼尔,他说:“当他想统治一场比赛的时候,并且想对获胜产生影响的时候,没有什么比这更好了。”\n",
            "\n",
            "第4个结果：\n",
            "2015-08-0710:14。新浪体育。显示图片《世界体育报》:巴萨报价诺利托。据《世界体育报》<mark>报道</mark>,如果在未来几天佩德罗转会曼联的话,那塞尔塔球员诺利托将作为佩德罗的替代者被巴萨引进。一个最好的证明就是巴萨已经行动起来了,据《世界体育报》从巴萨内部获得的信息,诺坎普高层已给球员和塞尔塔俱乐部送上了具体的合约和报价。据悉,巴萨给诺利托开出的是一份为期4年的合同,而税前年薪方面,诺利托获得的是在塞尔塔的数字的三倍。此外,巴萨方面给塞尔塔开出的1400万固定加400万欧元浮动的转会报价。因为遭受国际足联处罚,巴萨今夏无法引进球员,因此巴萨要到明年1月份才能<mark>正式</mark>引进诺利托,因此,转会完成后,诺利托将以租借的性质继续留在塞尔塔踢球,直到明年1月。这样,球员本人也可以保持状态。如果诺利托最终无法加盟巴萨——因为他能否加盟还得看佩德罗的去留情况,那他也一样会获得塞尔塔的补偿。诺利托是贝里佐的<mark>球队</mark>的关键一员,塞尔塔主席也希望诺利托能感受到俱乐部第一球星的待遇。虽然不久之前他与塞尔塔续约到2019年,但俱乐部并不排除给他加薪的可能,毕竟他不能加盟巴萨,损失会非常大。上赛季在诺坎普球场对阵巴萨,诺利托就曾给红蓝军团带来极大麻烦,他的速度和爆发力令巴萨后防线防不胜防,比赛中正是他的脚后跟传球帮助拉里维得分,而塞尔塔也得意在客场击败强大的巴萨。事实上诺利托也是巴萨“自家人”,他2008年加盟拉玛西亚,在巴萨二队踢过3个赛季,当时巴萨二队的主教练正是恩里克。在恩里克手下,诺利托踢边锋的位置,而2010年10月,在巴萨对马洛卡的联赛比赛中,诺利托还上演了自己的西甲首秀,不过当时瓜迪奥拉手下巨星云集,诺利托选择了离开诺坎普,他到葡萄牙本菲卡尝试新的经历。诺利托在葡萄牙踢了一个半赛季,总共打入12球,第二个赛季的中期,他被租借到西甲的格拉纳达,2013年,诺利托又加盟塞尔塔,与昔日的恩师恩里克重逢。在塞尔塔诺利托发挥稳定,第一个赛季,他在33场比赛里打入14球,上赛季,他联赛出场36场,也打入13球。既可以担任二中锋,又可以出任边锋,这种多样性令巴萨技术部门非常喜欢,认为他完全可以代替佩德罗。恩里克认为,诺利托可以给巴萨带来进球,能给巴萨的中场带来水准,而且诺利托很低调,安排他打替补也不会有怨言,这一点和佩德罗也很相像。诺利托从不掩饰自己对巴萨的感情:“我过去是、现在也是巴萨球迷。”诺利托并不排除重返诺坎普球场的可能:“对我来说,如果巴萨召唤我,那我是不会说‘不’的。巴萨召唤我,我又能去,那肯定去。对巴萨来说,诺利托是佩德罗的合格“备胎”,现在恩里克不用担心佩德罗走后<mark>球队</mark>会留下空缺了。\n",
            "\n",
            "第5个结果：\n",
            "2015-08-0609:26。新浪体育。显示图片加盟骑士。北京时间8月6日《克利夫兰老实人报》<mark>报道</mark>,在经<mark>报道</mark>达成<mark>协议</mark>数周之后,理查德-杰弗森与克利夫兰骑士的签约终于<mark>正式</mark>落成了纸面文件。今天,骑士官方宣布,他们与老将杰弗森完成了签约,合同为期一年,价值老将底薪。今年35岁的杰弗森,进入联盟已经14个年头,而骑士,将是他NBA生涯所效力的第七支<mark>球队</mark>。上赛季作为小牛队的一员,杰弗森虽然每场比赛只获得16.8分钟上场时间,得到5.8分和2.5个篮板,但三分球命中率高达42%。骑士队虽然阵容华丽,但始终需要一名可靠的替补三号位,在勒布朗-詹姆斯下场休息时顶上空缺。上赛季肖恩-马里昂的表现令人失望,<mark>球队</mark>很多时候都是让JR-史密斯和伊曼-香波特这样的后场球员客串替补小前锋。休赛期,自由球员泰肖恩-普林斯曾与骑士传出过绯闻,但最终不了了之。杰弗森一开始曾经答应与小牛续约,不过经过德安德鲁-乔丹事件,马克-库板允许自由球员们重新考虑自己的选择。最终,杰弗森转而决定签约骑士,追逐自己的冠军梦想。作为2001届的首轮13号新秀,杰弗森曾经随篮网两次杀进总决赛,职业生涯场均可以贡献13.9分4.3个篮板,三分球命中率达到38%。\n",
            "\n"
          ]
        },
        {
          "output_type": "display_data",
          "data": {
            "text/plain": [
              "<IPython.core.display.HTML object>"
            ],
            "text/html": [
              "<mark>虎扑</mark>体育7月14日讯。<mark>马刺</mark>官网宣布,<mark>保罗</mark>-加<mark>索尔</mark>与<mark>球队正式签订协议</mark>。根据之前的<mark>报道</mark>,加<mark>索尔</mark>与<mark>马刺签订</mark>的是一份为期2年3000万的<mark>协议</mark>。加<mark>索尔</mark>上赛季共打了72场比赛,场均31.8分钟,贡献16.5分11"
            ]
          },
          "metadata": {}
        },
        {
          "output_type": "display_data",
          "data": {
            "text/plain": [
              "<IPython.core.display.HTML object>"
            ],
            "text/html": [
              "03。新浪体育。显示图片下一站丹佛?北京时间9月28日,据雅<mark>虎</mark>体育<mark>报道</mark>,波特兰开拓者队已经与老将射手迈克-米勒达成了合同买断。一旦米勒成为自由球员之后,丹佛掘金队有意得到他。据雅<mark>虎</mark>体育得到的消息,如果迈克-米勒在规定的时间内没有被<mark>球队</mark>认领并成为一名自由球员,联盟里有一些<mark>球队</mark>将会对他感兴趣,其中就包括掘金队。目前,掘金队中已经有14个 ... 涯里,米勒一直被视为一名关键时刻靠得住的射手,并且能够为争冠<mark>球队</mark>做出贡献。他的生涯场均数据是11.3分、4.4个篮板和2.7"
            ]
          },
          "metadata": {}
        },
        {
          "output_type": "display_data",
          "data": {
            "text/plain": [
              "<IPython.core.display.HTML object>"
            ],
            "text/html": [
              "<mark>虎扑</mark>体育9月3日讯。根据《太阳哨兵报》记者IraWinderman的<mark>报道</mark>,帕特-莱利本周接受采访时表示,交易得到沙奎尔-奥尼尔是他们 ... 热火组成勒布朗-詹姆斯、克里斯-波什和韦德的三巨头,也超过了<mark>球队</mark>收获阿隆佐-莫宁。“莫宁很重要,但是得到沙奎尔改变了我们<mark>球队</mark>的一切。”莱利说道。2004年夏天,热火送出了布莱恩-格兰特 ... ”莱利说,“这真的让我们变得非常非常有竞争力,他扭转了我们的<mark>球队</mark>,他给了我们真正的竞争力。”2004年夏天,热火老板米基-阿 ... 湖人老板杰里-巴斯讨论了湖人空缺的主帅一职。“我们坐下来谈了<mark>球队</mark>,”莱利说,“我记得其中一个话题出现了,我问了他们这个问题, ... 造他们之间的关系,然后让这个事情继续前进,因为我认为他们那支<mark>球队</mark>,他们刚完成的那些事情,他们一起可以在洛杉矶拿到更多的总冠军 ... 跟我们做一笔交易,所以我不知道是否他带我去那是真的想让我执教<mark>球队</mark>,还是他带我去那只是想猜测下我们是否会交易韦德、巴特勒和其他 ... 们最终得到了奥尼尔,我们最终拿到了总冠军。”莱利说道。在交易<mark>正式</mark>达成之前,奥尼尔与阿里森见了面,莱利是中间人。“我打电话给米 ... 我们非常有竞争性,”莱利说,“我认为奥尼尔的交易改变了我们的<mark>球队</mark>文化,我认为我们之前与尼克斯的季后赛系列赛连续三个赛季都是引 ... 过,他从没有赶走斯坦-范甘迪。”“有很多关于此事的猜测,我是<mark>球队</mark>的总裁,作为<mark>球队</mark>当时的总裁,我差不多就是<mark>球队</mark>的看管者,但是我也有眼睛,我知道在发生着什么,我知道这支<mark>球队</mark>需要什么,我们当时没有很多的时间了,从那个角度来说,我们只有"
            ]
          },
          "metadata": {}
        },
        {
          "output_type": "display_data",
          "data": {
            "text/plain": [
              "<IPython.core.display.HTML object>"
            ],
            "text/html": [
              "育。显示图片《世界体育报》:巴萨报价诺利托。据《世界体育报》<mark>报道</mark>,如果在未来几天佩德罗转会曼联的话,那塞尔塔球员诺利托将作为 ... 际足联处罚,巴萨今夏无法引进球员,因此巴萨要到明年1月份才能<mark>正式</mark>引进诺利托,因此,转会完成后,诺利托将以租借的性质继续留在塞 ... 罗的去留情况,那他也一样会获得塞尔塔的补偿。诺利托是贝里佐的<mark>球队</mark>的关键一员,塞尔塔主席也希望诺利托能感受到俱乐部第一球星的待 ... ,诺利托是佩德罗的合格“备胎”,现在恩里克不用担心佩德罗走后<mark>球队</mark>会留下空缺了。"
            ]
          },
          "metadata": {}
        },
        {
          "output_type": "display_data",
          "data": {
            "text/plain": [
              "<IPython.core.display.HTML object>"
            ],
            "text/html": [
              "体育。显示图片加盟骑士。北京时间8月6日《克利夫兰老实人报》<mark>报道</mark>,在经<mark>报道</mark>达成<mark>协议</mark>数周之后,理查德-杰弗森与克利夫兰骑士的签约终于<mark>正式</mark>落成了纸面文件。今天,骑士官方宣布,他们与老将杰弗森完成了签 ... 入联盟已经14个年头,而骑士,将是他NBA生涯所效力的第七支<mark>球队</mark>。上赛季作为小牛队的一员,杰弗森虽然每场比赛只获得16.8分 ... 詹姆斯下场休息时顶上空缺。上赛季肖恩-马里昂的表现令人失望,<mark>球队</mark>很多时候都是让JR-史密斯和伊曼-香波特这样的后场球员客串替"
            ]
          },
          "metadata": {}
        }
      ]
    },
    {
      "cell_type": "markdown",
      "source": [
        "### 文本聚类\n",
        "当语料label没有给定时，算法将自动聚类并绘制T-SNE plot"
      ],
      "metadata": {
        "id": "0nJWh6s4pdb-"
      }
    },
    {
      "cell_type": "code",
      "source": [
        "import ast\n",
        "tsne_data_cluster_path = \"/content/Luotuo-Text-Embedding/data/search_data.csv\"\n",
        "tsne_data_cluster = pd.read_csv(tsne_data_cluster_path, header=0)\n",
        "text = tsne_data_cluster[\"sentence\"].tolist()\n",
        "embed = tsne_data_cluster[\"embed\"].apply(lambda x: ast.literal_eval(x))\n",
        "\n",
        "tsne_plot_cluster = TSNE_Plot(text, embed, n_clusters=4)\n",
        "tsne_plot_cluster.tsne_plot(n_sentence=40)"
      ],
      "metadata": {
        "id": "YhuEc0e_pXiE",
        "outputId": "e2d8099c-ff18-4eec-91d5-f77371840ea7",
        "colab": {
          "base_uri": "https://localhost:8080/",
          "height": 908
        }
      },
      "execution_count": null,
      "outputs": [
        {
          "output_type": "stream",
          "name": "stderr",
          "text": [
            "/usr/local/lib/python3.9/dist-packages/sklearn/cluster/_kmeans.py:870: FutureWarning:\n",
            "\n",
            "The default value of `n_init` will change from 10 to 'auto' in 1.4. Set the value of `n_init` explicitly to suppress the warning\n",
            "\n"
          ]
        },
        {
          "output_type": "display_data",
          "data": {
            "text/html": [
              "<html>\n",
              "<head><meta charset=\"utf-8\" /></head>\n",
              "<body>\n",
              "    <div>            <script src=\"https://cdnjs.cloudflare.com/ajax/libs/mathjax/2.7.5/MathJax.js?config=TeX-AMS-MML_SVG\"></script><script type=\"text/javascript\">if (window.MathJax && window.MathJax.Hub && window.MathJax.Hub.Config) {window.MathJax.Hub.Config({SVG: {font: \"STIX-Web\"}});}</script>                <script type=\"text/javascript\">window.PlotlyConfig = {MathJaxConfig: 'local'};</script>\n",
              "        <script src=\"https://cdn.plot.ly/plotly-2.18.2.min.js\"></script>                <div id=\"23a6cc3f-9ad9-4147-9170-913a478f548f\" class=\"plotly-graph-div\" style=\"height:800px; width:1500px;\"></div>            <script type=\"text/javascript\">                                    window.PLOTLYENV=window.PLOTLYENV || {};                                    if (document.getElementById(\"23a6cc3f-9ad9-4147-9170-913a478f548f\")) {                    Plotly.newPlot(                        \"23a6cc3f-9ad9-4147-9170-913a478f548f\",                        [{\"legendgroup\":\"lines\",\"marker\":{\"color\":\"#000080\",\"size\":[10,10,10,10,10,20,10,10,20,20,20,20,10,10,10,10,10,10,10,10,20,20,10,20,10,20,10,10,20,10,10,20,10,10,10,10,10,10,20,10,10,10,10,10,10,10,20,10,20,10,20,10,10,10,10,10,10,10,10,10,10,10,10,20,10,10,10,10,10,20,20,10]},\"mode\":\"markers\",\"name\":\"2\",\"showlegend\":true,\"x\":[-11.944349943103136,-9.810070307001036,-10.870327826810396,-16.194021554148506,-11.712025462579092,-13.017078858185041,-7.817618035606219,-8.186573300042314,-11.375260265305029,-14.876741784582542,-8.469454476208965,-8.805633432893002,-17.2463837340439,-11.905994391808848,-12.466698382781082,-15.896283532596627,-11.97139191241094,-10.113256898780891,-11.296090908637481,-8.592605943962553,-8.354784740369395,-11.569127364309406,-10.689758610046475,-10.118950063065324,-13.642264157726459,-8.760280816314555,-10.863209048870669,-15.017783125610126,-10.502419370843745,-9.715672158011033,-17.343630831689953,-13.480157292945387,-17.408400835800176,-12.807306544247192,-11.43482705241913,-10.062897918110103,-10.754141262921564,-10.405098462432097,-15.09394814710143,-11.015077324372804,-12.757701358022823,-12.671892467046566,-10.269623636435089,-11.259103367320193,-10.351036137895415,-14.344473309188334,-10.304320882285605,-14.411762664767355,-13.651693064904133,-10.750748593693173,-14.461116949783943,-11.450452271033784,-9.834242194908223,-13.834875483346371,-16.44354767158769,-16.673793043446096,-11.799650295739049,-9.216745577493997,-11.328709295680929,-14.045130933101065,-14.331461884609507,-12.535850277688345,-14.518686048417978,-10.912796726910797,-12.87705854566248,-17.008501007530715,-7.8073635483393256,-10.478677369771784,-12.543252303310917,-8.331571138412237,-15.459916101489707,-15.280794618872843],\"y\":[1.024599787990323,3.5114889782658523,-0.6527721591924145,-2.7063455437227013,0.03840935930007919,3.5505961615903416,1.5988012237067661,-1.93591508357189,-2.8881715538936112,-3.5040550275331497,-1.4175503185276417,0.04408673250555966,-3.0628042659378947,4.022066017667019,0.6579542575608249,-1.169816599645766,-1.0617930647717824,4.16090278756915,3.0469113128722136,2.580991856005969,4.377279401848154,3.3319840532823837,0.9982331459389427,-2.4201639590489283,1.8313742421556152,4.506103489242032,2.1702986625553757,-3.1620550836266177,1.5227582654484988,1.7570188315213846,-1.6639666980279106,-0.33696918608505466,-2.0220891808767516,-0.09222077279408111,4.152916441972458,3.6318946832529453,3.8264311070861337,0.8058565095969656,-2.330935205917831,-2.9729466974354404,2.8199024563257318,2.9871359274695433,4.6245522897190945,1.148810979483211,-0.21843497678344662,-0.3557152262502982,2.738252254867778,-1.0616565902728725,-2.0856500038059647,2.949827129033973,-1.2713594075387025,0.24596396502177892,0.5646449757527291,-2.8577295653584827,-2.2830173870336354,-2.5649643018227084,-0.518200211787525,5.6586951256572995,3.4239274424975914,1.7213331738371256,-3.702162611954159,-0.6373940778195885,2.484085404462987,4.389410535462681,0.3749990224087978,-2.4427405641888416,1.5468185837923527,-2.408177243789556,2.1575587875846005,-1.5115381234150602,-1.489675561060383,-2.151501703108543],\"type\":\"scatter\"},{\"legendgroup\":\"lines\",\"marker\":{\"color\":\"#00d4ff\",\"size\":[20,20,10,10,10,10,10,10,10,10,10,10,20,20,10,20,10,20,10,20,10,10,10,20,10,10,10,20,10,10,10]},\"mode\":\"markers\",\"name\":\"3\",\"showlegend\":true,\"x\":[5.779776792899085,7.769495513052903,7.903168603475444,9.043515104448675,8.697093320955668,6.606050801601044,7.101666951957286,9.37893074007484,9.535720889100766,6.740746094355737,5.954034296227847,4.893523673504508,4.753063540259799,6.667410128116372,8.909172853879642,9.396023705396768,4.944599934332312,6.807736043904032,10.485398620970612,7.014209067018918,5.738804694318508,9.478072478327498,7.498944439524997,5.487583561943889,5.396993518996265,7.706419156115454,7.651764882446614,8.205335267558949,6.7317807470800055,4.45763374637914,7.110705190770504],\"y\":[-3.0128485829870426,-1.6078477141571952,0.21435655202789963,-3.5000396331419883,-1.7955524998480743,1.0563090055373978,-4.309432511939132,2.258499964464863,-0.11984918552477475,-1.8052469668225977,-3.013384741281804,-2.4979342110280265,-3.745523637864474,0.784327224141243,-2.025455008949538,2.262733738105301,-0.7919230060614814,-1.6575356742493264,-1.5752669465268534,-2.969144065067185,-2.2683998899970907,2.2634353092462476,-1.458175042598848,-3.805661497386484,-0.04411666240395977,-3.1840933541495446,-2.295222165265323,-4.602855781608651,-4.146506265579769,-3.9706485469116664,-0.9639027144002519],\"type\":\"scatter\"},{\"legendgroup\":\"lines\",\"marker\":{\"color\":\"#ffe600\",\"size\":[10,20,20,20,10,10,10,10,10,10,20,10,10,20,10,10,10,10,10,10,10,20,10,10,10,10,10,20,10,10,20,10,20,10,10]},\"mode\":\"markers\",\"name\":\"0\",\"showlegend\":true,\"x\":[6.937322954871774,-1.046510991657605,0.2210698751712304,0.2684796719843917,7.097404231804234,-1.705024732160661,-0.28501387359025515,-1.05528966165932,2.100564180419334,4.015899798239912,4.58084877867171,-0.416139410742143,4.298395091160735,-1.407536139298737,-0.7839501434251785,-1.834231557470357,3.896250219282643,0.34945521486598874,7.141856855432659,3.303638298970182,9.569157974567446,2.0201090392615444,3.725567115671564,2.172970732490161,3.349073838207748,1.6340371090752122,3.0691829578068757,3.099215221478652,-0.6760883121932627,-0.6709109048475788,6.116035703916972,4.84929733243968,4.268148025950479,2.671424259240499,5.93284384370632],\"y\":[2.3386687409743545,2.1535923299007784,2.6451483777936318,-1.1662905877253507,2.8570391105730484,0.4881425703668579,2.1751398793476877,1.7708091483758952,0.8388162439729716,2.3121119872780276,3.0642848958443722,2.541255703547913,-0.06672018473411138,0.08587158792671634,2.680108333036101,0.30956702861174257,1.74424296807963,-1.341022373380231,2.8428599914394455,-1.2805890155814443,0.19657707863038995,-1.8661112263820825,-1.9138700756795841,-0.2947632671316504,2.1019975417003494,-1.6656619632290866,-0.37031928791891777,2.1331684439524383,0.34509421408946434,1.9930287332996834,2.0002957352610973,1.0080029019243093,-0.05733122526138223,-0.32920022403542865,1.89425650620151],\"type\":\"scatter\"},{\"legendgroup\":\"lines\",\"marker\":{\"color\":\"#800000\",\"size\":[10,10,10,10,20,10,10,10,10,10,10,20,10,10,10,10,10,10,10,10,20,10,10,10,10,10,10,20,10,20,10,10,10,10,10,10,10,10]},\"mode\":\"markers\",\"name\":\"1\",\"showlegend\":true,\"x\":[14.623765904330968,15.689075521005213,14.440517548458184,14.861035564649212,12.455544895637589,14.529465467294507,13.99255702527603,16.045181500988583,14.074869295475033,15.743658969159544,15.20704519531463,14.601973384437171,14.339357716001755,17.176174639266282,16.050551695797637,15.631864545819438,12.993651676768454,16.281042525762704,16.245772904848316,14.423068585287961,14.242527323209691,15.015842140195794,12.181368435333004,16.988650388124455,15.285052603345529,13.21299793542746,12.478052657572555,15.582717968360235,13.590526568224334,14.46226525525228,14.607121629089683,15.067371967043089,14.581007812872722,13.632670475940795,13.703079511440386,15.975965743761455,16.39069396925191,16.497130944729626],\"y\":[1.5873921514542855,-0.03805811792437452,0.22231816392020126,-0.20190356756609346,0.6015767787819625,2.6662251817539193,0.5254927494582561,0.6389237784762755,-1.167286202259064,1.6663758467688297,0.8571203559118319,-0.7104871839716157,-2.883182425001907,-0.627082992673721,0.07186825169775786,-2.550505744438464,1.4233345227146819,-0.6702837156618908,-2.19443222868194,-0.7286417857887086,-0.4079670411028259,-0.5103618189437623,-1.8474096734289112,-1.7475607842022838,-1.810556859345257,-1.4610534317140118,0.8078236766803486,0.7811406495893228,-2.5308071694543184,-2.8532145867631495,-1.8873488090921071,-1.5153548746580863,0.7562631687432408,2.269145821637958,0.9675355541647691,-1.914904013060946,0.210779140824325,-1.6605962813985744],\"type\":\"scatter\"},{\"legendgroup\":\"lines\",\"line\":{\"color\":\"#00d4ff\"},\"mode\":\"lines\",\"showlegend\":false,\"x\":[19.176174639266282,6.779776792899085,6.279776792899085,5.779776792899085],\"y\":[-8.947832704542082,-8.947832704542082,-3.0128485829870426,-3.0128485829870426],\"type\":\"scatter\"},{\"legendgroup\":\"lines\",\"line\":{\"color\":\"#ffe600\"},\"mode\":\"lines\",\"showlegend\":false,\"x\":[-18.408400835800176,-2.046510991657605,-1.546510991657605,-1.046510991657605],\"y\":[16.9760853769719,16.9760853769719,2.1535923299007784,2.1535923299007784],\"type\":\"scatter\"},{\"legendgroup\":\"lines\",\"line\":{\"color\":\"#00d4ff\"},\"mode\":\"lines\",\"showlegend\":false,\"x\":[19.176174639266282,8.769495513052902,8.269495513052902,7.769495513052903],\"y\":[-2.466853184163588,-2.466853184163588,-1.6078477141571952,-1.6078477141571952],\"type\":\"scatter\"},{\"legendgroup\":\"lines\",\"line\":{\"color\":\"#ffe600\"},\"mode\":\"lines\",\"showlegend\":false,\"x\":[19.176174639266282,1.2210698751712303,0.7210698751712303,0.2210698751712304],\"y\":[16.9760853769719,16.9760853769719,2.6451483777936318,2.6451483777936318],\"type\":\"scatter\"},{\"legendgroup\":\"lines\",\"line\":{\"color\":\"#000080\"},\"mode\":\"lines\",\"showlegend\":false,\"x\":[-18.408400835800176,-14.017078858185041,-13.517078858185041,-13.017078858185041],\"y\":[5.634371216309532,5.634371216309532,3.5505961615903416,3.5505961615903416],\"type\":\"scatter\"},{\"legendgroup\":\"lines\",\"line\":{\"color\":\"#ffe600\"},\"mode\":\"lines\",\"showlegend\":false,\"x\":[0,1.2684796719843918,0.7684796719843917,0.2684796719843917],\"y\":[0,0,-1.1662905877253507,-1.1662905877253507],\"type\":\"scatter\"},{\"legendgroup\":\"lines\",\"line\":{\"color\":\"#000080\"},\"mode\":\"lines\",\"showlegend\":false,\"x\":[-18.408400835800176,-12.375260265305029,-11.875260265305029,-11.375260265305029],\"y\":[-8.947832704542082,-8.947832704542082,-2.8881715538936112,-2.8881715538936112],\"type\":\"scatter\"},{\"legendgroup\":\"lines\",\"line\":{\"color\":\"#000080\"},\"mode\":\"lines\",\"showlegend\":false,\"x\":[-18.408400835800176,-15.876741784582542,-15.376741784582542,-14.876741784582542],\"y\":[-7.327587824447458,-7.327587824447458,-3.5040550275331497,-3.5040550275331497],\"type\":\"scatter\"},{\"legendgroup\":\"lines\",\"line\":{\"color\":\"#000080\"},\"mode\":\"lines\",\"showlegend\":false,\"x\":[-18.408400835800176,-9.469454476208965,-8.969454476208965,-8.469454476208965],\"y\":[-12.188322464731328,-12.188322464731328,-1.4175503185276417,-1.4175503185276417],\"type\":\"scatter\"},{\"legendgroup\":\"lines\",\"line\":{\"color\":\"#000080\"},\"mode\":\"lines\",\"showlegend\":false,\"x\":[-18.408400835800176,-9.805633432893002,-9.305633432893002,-8.805633432893002],\"y\":[2.3938814561202832,2.3938814561202832,0.04408673250555966,0.04408673250555966],\"type\":\"scatter\"},{\"legendgroup\":\"lines\",\"line\":{\"color\":\"#000080\"},\"mode\":\"lines\",\"showlegend\":false,\"x\":[-18.408400835800176,-9.354784740369395,-8.854784740369395,-8.354784740369395],\"y\":[13.73559561678265,13.73559561678265,4.377279401848154,4.377279401848154],\"type\":\"scatter\"},{\"legendgroup\":\"lines\",\"line\":{\"color\":\"#800000\"},\"mode\":\"lines\",\"showlegend\":false,\"x\":[19.176174639266282,13.455544895637589,12.955544895637589,12.455544895637589],\"y\":[4.0141263362149076,4.0141263362149076,0.6015767787819625,0.6015767787819625],\"type\":\"scatter\"},{\"legendgroup\":\"lines\",\"line\":{\"color\":\"#000080\"},\"mode\":\"lines\",\"showlegend\":false,\"x\":[-18.408400835800176,-12.569127364309406,-12.069127364309406,-11.569127364309406],\"y\":[7.254616096404156,7.254616096404156,3.3319840532823837,3.3319840532823837],\"type\":\"scatter\"},{\"legendgroup\":\"lines\",\"line\":{\"color\":\"#000080\"},\"mode\":\"lines\",\"showlegend\":false,\"x\":[-18.408400835800176,-11.118950063065324,-10.618950063065324,-10.118950063065324],\"y\":[-10.568077584636706,-10.568077584636706,-2.4201639590489283,-2.4201639590489283],\"type\":\"scatter\"},{\"legendgroup\":\"lines\",\"line\":{\"color\":\"#000080\"},\"mode\":\"lines\",\"showlegend\":false,\"x\":[-18.408400835800176,-9.760280816314555,-9.260280816314555,-8.760280816314555],\"y\":[12.115350736688026,12.115350736688026,4.506103489242032,4.506103489242032],\"type\":\"scatter\"},{\"legendgroup\":\"lines\",\"line\":{\"color\":\"#00d4ff\"},\"mode\":\"lines\",\"showlegend\":false,\"x\":[19.176174639266282,5.753063540259799,5.253063540259799,4.753063540259799],\"y\":[-13.808567344825953,-13.808567344825953,-3.745523637864474,-3.745523637864474],\"type\":\"scatter\"},{\"legendgroup\":\"lines\",\"line\":{\"color\":\"#00d4ff\"},\"mode\":\"lines\",\"showlegend\":false,\"x\":[19.176174639266282,7.667410128116372,7.167410128116372,6.667410128116372],\"y\":[8.874860976498777,8.874860976498777,0.784327224141243,0.784327224141243],\"type\":\"scatter\"},{\"legendgroup\":\"lines\",\"line\":{\"color\":\"#ffe600\"},\"mode\":\"lines\",\"showlegend\":false,\"x\":[19.176174639266282,5.58084877867171,5.08084877867171,4.58084877867171],\"y\":[13.73559561678265,13.73559561678265,3.0642848958443722,3.0642848958443722],\"type\":\"scatter\"},{\"legendgroup\":\"lines\",\"line\":{\"color\":\"#800000\"},\"mode\":\"lines\",\"showlegend\":false,\"x\":[19.176174639266282,15.601973384437171,15.101973384437171,14.601973384437171],\"y\":[-0.8466083040689636,-0.8466083040689636,-0.7104871839716157,-0.7104871839716157],\"type\":\"scatter\"},{\"legendgroup\":\"lines\",\"line\":{\"color\":\"#000080\"},\"mode\":\"lines\",\"showlegend\":false,\"x\":[-18.408400835800176,-11.502419370843745,-11.002419370843745,-10.502419370843745],\"y\":[4.0141263362149076,4.0141263362149076,1.5227582654484988,1.5227582654484988],\"type\":\"scatter\"},{\"legendgroup\":\"lines\",\"line\":{\"color\":\"#00d4ff\"},\"mode\":\"lines\",\"showlegend\":false,\"x\":[19.176174639266282,10.396023705396768,9.896023705396768,9.396023705396768],\"y\":[7.254616096404156,7.254616096404156,2.262733738105301,2.262733738105301],\"type\":\"scatter\"},{\"legendgroup\":\"lines\",\"line\":{\"color\":\"#ffe600\"},\"mode\":\"lines\",\"showlegend\":false,\"x\":[-18.408400835800176,-2.4075361392987373,-1.907536139298737,-1.407536139298737],\"y\":[15.355840496877274,15.355840496877274,0.08587158792671634,0.08587158792671634],\"type\":\"scatter\"},{\"legendgroup\":\"lines\",\"line\":{\"color\":\"#00d4ff\"},\"mode\":\"lines\",\"showlegend\":false,\"x\":[19.176174639266282,7.807736043904032,7.307736043904032,6.807736043904032],\"y\":[-5.707342944352835,-5.707342944352835,-1.6575356742493264,-1.6575356742493264],\"type\":\"scatter\"},{\"legendgroup\":\"lines\",\"line\":{\"color\":\"#000080\"},\"mode\":\"lines\",\"showlegend\":false,\"x\":[-18.408400835800176,-14.480157292945387,-13.980157292945387,-13.480157292945387],\"y\":[0.7736365760256607,0.7736365760256607,-0.33696918608505466,-0.33696918608505466],\"type\":\"scatter\"},{\"legendgroup\":\"lines\",\"line\":{\"color\":\"#00d4ff\"},\"mode\":\"lines\",\"showlegend\":false,\"x\":[19.176174639266282,8.014209067018918,7.514209067018918,7.014209067018918],\"y\":[-7.327587824447458,-7.327587824447458,-2.969144065067185,-2.969144065067185],\"type\":\"scatter\"},{\"legendgroup\":\"lines\",\"line\":{\"color\":\"#000080\"},\"mode\":\"lines\",\"showlegend\":false,\"x\":[-18.408400835800176,-16.09394814710143,-15.59394814710143,-15.09394814710143],\"y\":[-4.08709806425821,-4.08709806425821,-2.330935205917831,-2.330935205917831],\"type\":\"scatter\"},{\"legendgroup\":\"lines\",\"line\":{\"color\":\"#00d4ff\"},\"mode\":\"lines\",\"showlegend\":false,\"x\":[19.176174639266282,6.487583561943889,5.987583561943889,5.487583561943889],\"y\":[-12.188322464731328,-12.188322464731328,-3.805661497386484,-3.805661497386484],\"type\":\"scatter\"},{\"legendgroup\":\"lines\",\"line\":{\"color\":\"#800000\"},\"mode\":\"lines\",\"showlegend\":false,\"x\":[19.176174639266282,15.242527323209691,14.742527323209691,14.242527323209691],\"y\":[0.7736365760256607,0.7736365760256607,-0.4079670411028259,-0.4079670411028259],\"type\":\"scatter\"},{\"legendgroup\":\"lines\",\"line\":{\"color\":\"#000080\"},\"mode\":\"lines\",\"showlegend\":false,\"x\":[-18.408400835800176,-11.304320882285605,-10.804320882285605,-10.304320882285605],\"y\":[8.874860976498777,8.874860976498777,2.738252254867778,2.738252254867778],\"type\":\"scatter\"},{\"legendgroup\":\"lines\",\"line\":{\"color\":\"#000080\"},\"mode\":\"lines\",\"showlegend\":false,\"x\":[-18.408400835800176,-14.651693064904133,-14.151693064904133,-13.651693064904133],\"y\":[-5.707342944352835,-5.707342944352835,-2.0856500038059647,-2.0856500038059647],\"type\":\"scatter\"},{\"legendgroup\":\"lines\",\"line\":{\"color\":\"#000080\"},\"mode\":\"lines\",\"showlegend\":false,\"x\":[-18.408400835800176,-15.461116949783943,-14.961116949783943,-14.461116949783943],\"y\":[-0.8466083040689636,-0.8466083040689636,-1.2713594075387025,-1.2713594075387025],\"type\":\"scatter\"},{\"legendgroup\":\"lines\",\"line\":{\"color\":\"#ffe600\"},\"mode\":\"lines\",\"showlegend\":false,\"x\":[19.176174639266282,3.0201090392615444,2.5201090392615444,2.0201090392615444],\"y\":[5.634371216309532,5.634371216309532,-1.8661112263820825,-1.8661112263820825],\"type\":\"scatter\"},{\"legendgroup\":\"lines\",\"line\":{\"color\":\"#800000\"},\"mode\":\"lines\",\"showlegend\":false,\"x\":[19.176174639266282,16.582717968360235,16.082717968360235,15.582717968360235],\"y\":[2.3938814561202832,2.3938814561202832,0.7811406495893228,0.7811406495893228],\"type\":\"scatter\"},{\"legendgroup\":\"lines\",\"line\":{\"color\":\"#00d4ff\"},\"mode\":\"lines\",\"showlegend\":false,\"x\":[19.176174639266282,9.205335267558949,8.705335267558949,8.205335267558949],\"y\":[-10.568077584636706,-10.568077584636706,-4.602855781608651,-4.602855781608651],\"type\":\"scatter\"},{\"legendgroup\":\"lines\",\"line\":{\"color\":\"#800000\"},\"mode\":\"lines\",\"showlegend\":false,\"x\":[19.176174639266282,15.46226525525228,14.96226525525228,14.46226525525228],\"y\":[-4.08709806425821,-4.08709806425821,-2.8532145867631495,-2.8532145867631495],\"type\":\"scatter\"},{\"legendgroup\":\"lines\",\"line\":{\"color\":\"#ffe600\"},\"mode\":\"lines\",\"showlegend\":false,\"x\":[19.176174639266282,4.0992152214786515,3.599215221478652,3.099215221478652],\"y\":[15.355840496877274,15.355840496877274,2.1331684439524383,2.1331684439524383],\"type\":\"scatter\"},{\"legendgroup\":\"lines\",\"line\":{\"color\":\"#000080\"},\"mode\":\"lines\",\"showlegend\":false,\"x\":[-18.408400835800176,-11.912796726910797,-11.412796726910797,-10.912796726910797],\"y\":[10.495105856593401,10.495105856593401,4.389410535462681,4.389410535462681],\"type\":\"scatter\"},{\"legendgroup\":\"lines\",\"line\":{\"color\":\"#ffe600\"},\"mode\":\"lines\",\"showlegend\":false,\"x\":[19.176174639266282,7.116035703916972,6.616035703916972,6.116035703916972],\"y\":[12.115350736688026,12.115350736688026,2.0002957352610973,2.0002957352610973],\"type\":\"scatter\"},{\"legendgroup\":\"lines\",\"line\":{\"color\":\"#ffe600\"},\"mode\":\"lines\",\"showlegend\":false,\"x\":[19.176174639266282,5.268148025950479,4.768148025950479,4.268148025950479],\"y\":[10.495105856593401,10.495105856593401,-0.05733122526138223,-0.05733122526138223],\"type\":\"scatter\"},{\"legendgroup\":\"lines\",\"line\":{\"color\":\"#000080\"},\"mode\":\"lines\",\"showlegend\":false,\"x\":[-18.408400835800176,-9.331571138412237,-8.831571138412237,-8.331571138412237],\"y\":[-13.808567344825953,-13.808567344825953,-1.5115381234150602,-1.5115381234150602],\"type\":\"scatter\"},{\"legendgroup\":\"lines\",\"line\":{\"color\":\"#000080\"},\"mode\":\"lines\",\"showlegend\":false,\"x\":[-18.408400835800176,-16.459916101489707,-15.959916101489707,-15.459916101489707],\"y\":[-2.466853184163588,-2.466853184163588,-1.489675561060383,-1.489675561060383],\"type\":\"scatter\"}],                        {\"autosize\":false,\"height\":800,\"width\":1500,\"template\":{\"data\":{\"histogram2dcontour\":[{\"type\":\"histogram2dcontour\",\"colorbar\":{\"outlinewidth\":0,\"ticks\":\"\"},\"colorscale\":[[0.0,\"#0d0887\"],[0.1111111111111111,\"#46039f\"],[0.2222222222222222,\"#7201a8\"],[0.3333333333333333,\"#9c179e\"],[0.4444444444444444,\"#bd3786\"],[0.5555555555555556,\"#d8576b\"],[0.6666666666666666,\"#ed7953\"],[0.7777777777777778,\"#fb9f3a\"],[0.8888888888888888,\"#fdca26\"],[1.0,\"#f0f921\"]]}],\"choropleth\":[{\"type\":\"choropleth\",\"colorbar\":{\"outlinewidth\":0,\"ticks\":\"\"}}],\"histogram2d\":[{\"type\":\"histogram2d\",\"colorbar\":{\"outlinewidth\":0,\"ticks\":\"\"},\"colorscale\":[[0.0,\"#0d0887\"],[0.1111111111111111,\"#46039f\"],[0.2222222222222222,\"#7201a8\"],[0.3333333333333333,\"#9c179e\"],[0.4444444444444444,\"#bd3786\"],[0.5555555555555556,\"#d8576b\"],[0.6666666666666666,\"#ed7953\"],[0.7777777777777778,\"#fb9f3a\"],[0.8888888888888888,\"#fdca26\"],[1.0,\"#f0f921\"]]}],\"heatmap\":[{\"type\":\"heatmap\",\"colorbar\":{\"outlinewidth\":0,\"ticks\":\"\"},\"colorscale\":[[0.0,\"#0d0887\"],[0.1111111111111111,\"#46039f\"],[0.2222222222222222,\"#7201a8\"],[0.3333333333333333,\"#9c179e\"],[0.4444444444444444,\"#bd3786\"],[0.5555555555555556,\"#d8576b\"],[0.6666666666666666,\"#ed7953\"],[0.7777777777777778,\"#fb9f3a\"],[0.8888888888888888,\"#fdca26\"],[1.0,\"#f0f921\"]]}],\"heatmapgl\":[{\"type\":\"heatmapgl\",\"colorbar\":{\"outlinewidth\":0,\"ticks\":\"\"},\"colorscale\":[[0.0,\"#0d0887\"],[0.1111111111111111,\"#46039f\"],[0.2222222222222222,\"#7201a8\"],[0.3333333333333333,\"#9c179e\"],[0.4444444444444444,\"#bd3786\"],[0.5555555555555556,\"#d8576b\"],[0.6666666666666666,\"#ed7953\"],[0.7777777777777778,\"#fb9f3a\"],[0.8888888888888888,\"#fdca26\"],[1.0,\"#f0f921\"]]}],\"contourcarpet\":[{\"type\":\"contourcarpet\",\"colorbar\":{\"outlinewidth\":0,\"ticks\":\"\"}}],\"contour\":[{\"type\":\"contour\",\"colorbar\":{\"outlinewidth\":0,\"ticks\":\"\"},\"colorscale\":[[0.0,\"#0d0887\"],[0.1111111111111111,\"#46039f\"],[0.2222222222222222,\"#7201a8\"],[0.3333333333333333,\"#9c179e\"],[0.4444444444444444,\"#bd3786\"],[0.5555555555555556,\"#d8576b\"],[0.6666666666666666,\"#ed7953\"],[0.7777777777777778,\"#fb9f3a\"],[0.8888888888888888,\"#fdca26\"],[1.0,\"#f0f921\"]]}],\"surface\":[{\"type\":\"surface\",\"colorbar\":{\"outlinewidth\":0,\"ticks\":\"\"},\"colorscale\":[[0.0,\"#0d0887\"],[0.1111111111111111,\"#46039f\"],[0.2222222222222222,\"#7201a8\"],[0.3333333333333333,\"#9c179e\"],[0.4444444444444444,\"#bd3786\"],[0.5555555555555556,\"#d8576b\"],[0.6666666666666666,\"#ed7953\"],[0.7777777777777778,\"#fb9f3a\"],[0.8888888888888888,\"#fdca26\"],[1.0,\"#f0f921\"]]}],\"mesh3d\":[{\"type\":\"mesh3d\",\"colorbar\":{\"outlinewidth\":0,\"ticks\":\"\"}}],\"scatter\":[{\"fillpattern\":{\"fillmode\":\"overlay\",\"size\":10,\"solidity\":0.2},\"type\":\"scatter\"}],\"parcoords\":[{\"type\":\"parcoords\",\"line\":{\"colorbar\":{\"outlinewidth\":0,\"ticks\":\"\"}}}],\"scatterpolargl\":[{\"type\":\"scatterpolargl\",\"marker\":{\"colorbar\":{\"outlinewidth\":0,\"ticks\":\"\"}}}],\"bar\":[{\"error_x\":{\"color\":\"#2a3f5f\"},\"error_y\":{\"color\":\"#2a3f5f\"},\"marker\":{\"line\":{\"color\":\"#E5ECF6\",\"width\":0.5},\"pattern\":{\"fillmode\":\"overlay\",\"size\":10,\"solidity\":0.2}},\"type\":\"bar\"}],\"scattergeo\":[{\"type\":\"scattergeo\",\"marker\":{\"colorbar\":{\"outlinewidth\":0,\"ticks\":\"\"}}}],\"scatterpolar\":[{\"type\":\"scatterpolar\",\"marker\":{\"colorbar\":{\"outlinewidth\":0,\"ticks\":\"\"}}}],\"histogram\":[{\"marker\":{\"pattern\":{\"fillmode\":\"overlay\",\"size\":10,\"solidity\":0.2}},\"type\":\"histogram\"}],\"scattergl\":[{\"type\":\"scattergl\",\"marker\":{\"colorbar\":{\"outlinewidth\":0,\"ticks\":\"\"}}}],\"scatter3d\":[{\"type\":\"scatter3d\",\"line\":{\"colorbar\":{\"outlinewidth\":0,\"ticks\":\"\"}},\"marker\":{\"colorbar\":{\"outlinewidth\":0,\"ticks\":\"\"}}}],\"scattermapbox\":[{\"type\":\"scattermapbox\",\"marker\":{\"colorbar\":{\"outlinewidth\":0,\"ticks\":\"\"}}}],\"scatterternary\":[{\"type\":\"scatterternary\",\"marker\":{\"colorbar\":{\"outlinewidth\":0,\"ticks\":\"\"}}}],\"scattercarpet\":[{\"type\":\"scattercarpet\",\"marker\":{\"colorbar\":{\"outlinewidth\":0,\"ticks\":\"\"}}}],\"carpet\":[{\"aaxis\":{\"endlinecolor\":\"#2a3f5f\",\"gridcolor\":\"white\",\"linecolor\":\"white\",\"minorgridcolor\":\"white\",\"startlinecolor\":\"#2a3f5f\"},\"baxis\":{\"endlinecolor\":\"#2a3f5f\",\"gridcolor\":\"white\",\"linecolor\":\"white\",\"minorgridcolor\":\"white\",\"startlinecolor\":\"#2a3f5f\"},\"type\":\"carpet\"}],\"table\":[{\"cells\":{\"fill\":{\"color\":\"#EBF0F8\"},\"line\":{\"color\":\"white\"}},\"header\":{\"fill\":{\"color\":\"#C8D4E3\"},\"line\":{\"color\":\"white\"}},\"type\":\"table\"}],\"barpolar\":[{\"marker\":{\"line\":{\"color\":\"#E5ECF6\",\"width\":0.5},\"pattern\":{\"fillmode\":\"overlay\",\"size\":10,\"solidity\":0.2}},\"type\":\"barpolar\"}],\"pie\":[{\"automargin\":true,\"type\":\"pie\"}]},\"layout\":{\"autotypenumbers\":\"strict\",\"colorway\":[\"#636efa\",\"#EF553B\",\"#00cc96\",\"#ab63fa\",\"#FFA15A\",\"#19d3f3\",\"#FF6692\",\"#B6E880\",\"#FF97FF\",\"#FECB52\"],\"font\":{\"color\":\"#2a3f5f\"},\"hovermode\":\"closest\",\"hoverlabel\":{\"align\":\"left\"},\"paper_bgcolor\":\"white\",\"plot_bgcolor\":\"#E5ECF6\",\"polar\":{\"bgcolor\":\"#E5ECF6\",\"angularaxis\":{\"gridcolor\":\"white\",\"linecolor\":\"white\",\"ticks\":\"\"},\"radialaxis\":{\"gridcolor\":\"white\",\"linecolor\":\"white\",\"ticks\":\"\"}},\"ternary\":{\"bgcolor\":\"#E5ECF6\",\"aaxis\":{\"gridcolor\":\"white\",\"linecolor\":\"white\",\"ticks\":\"\"},\"baxis\":{\"gridcolor\":\"white\",\"linecolor\":\"white\",\"ticks\":\"\"},\"caxis\":{\"gridcolor\":\"white\",\"linecolor\":\"white\",\"ticks\":\"\"}},\"coloraxis\":{\"colorbar\":{\"outlinewidth\":0,\"ticks\":\"\"}},\"colorscale\":{\"sequential\":[[0.0,\"#0d0887\"],[0.1111111111111111,\"#46039f\"],[0.2222222222222222,\"#7201a8\"],[0.3333333333333333,\"#9c179e\"],[0.4444444444444444,\"#bd3786\"],[0.5555555555555556,\"#d8576b\"],[0.6666666666666666,\"#ed7953\"],[0.7777777777777778,\"#fb9f3a\"],[0.8888888888888888,\"#fdca26\"],[1.0,\"#f0f921\"]],\"sequentialminus\":[[0.0,\"#0d0887\"],[0.1111111111111111,\"#46039f\"],[0.2222222222222222,\"#7201a8\"],[0.3333333333333333,\"#9c179e\"],[0.4444444444444444,\"#bd3786\"],[0.5555555555555556,\"#d8576b\"],[0.6666666666666666,\"#ed7953\"],[0.7777777777777778,\"#fb9f3a\"],[0.8888888888888888,\"#fdca26\"],[1.0,\"#f0f921\"]],\"diverging\":[[0,\"#8e0152\"],[0.1,\"#c51b7d\"],[0.2,\"#de77ae\"],[0.3,\"#f1b6da\"],[0.4,\"#fde0ef\"],[0.5,\"#f7f7f7\"],[0.6,\"#e6f5d0\"],[0.7,\"#b8e186\"],[0.8,\"#7fbc41\"],[0.9,\"#4d9221\"],[1,\"#276419\"]]},\"xaxis\":{\"gridcolor\":\"white\",\"linecolor\":\"white\",\"ticks\":\"\",\"title\":{\"standoff\":15},\"zerolinecolor\":\"white\",\"automargin\":true,\"zerolinewidth\":2},\"yaxis\":{\"gridcolor\":\"white\",\"linecolor\":\"white\",\"ticks\":\"\",\"title\":{\"standoff\":15},\"zerolinecolor\":\"white\",\"automargin\":true,\"zerolinewidth\":2},\"scene\":{\"xaxis\":{\"backgroundcolor\":\"#E5ECF6\",\"gridcolor\":\"white\",\"linecolor\":\"white\",\"showbackground\":true,\"ticks\":\"\",\"zerolinecolor\":\"white\",\"gridwidth\":2},\"yaxis\":{\"backgroundcolor\":\"#E5ECF6\",\"gridcolor\":\"white\",\"linecolor\":\"white\",\"showbackground\":true,\"ticks\":\"\",\"zerolinecolor\":\"white\",\"gridwidth\":2},\"zaxis\":{\"backgroundcolor\":\"#E5ECF6\",\"gridcolor\":\"white\",\"linecolor\":\"white\",\"showbackground\":true,\"ticks\":\"\",\"zerolinecolor\":\"white\",\"gridwidth\":2}},\"shapedefaults\":{\"line\":{\"color\":\"#2a3f5f\"}},\"annotationdefaults\":{\"arrowcolor\":\"#2a3f5f\",\"arrowhead\":0,\"arrowwidth\":1},\"geo\":{\"bgcolor\":\"white\",\"landcolor\":\"#E5ECF6\",\"subunitcolor\":\"white\",\"showland\":true,\"showlakes\":true,\"lakecolor\":\"white\"},\"title\":{\"x\":0.05},\"mapbox\":{\"style\":\"light\"}}},\"annotations\":[{\"bgcolor\":\"#e6fbff\",\"bordercolor\":\"#00d4ff\",\"borderpad\":2,\"font\":{\"color\":\"black\"},\"showarrow\":false,\"text\":\"\\u524d\\u65e5\\u4e0b\\u5348,\\u6daa\\u9675\\u533a\\u4e00\\u5c0f...\\u80b2\\u5668\\u6750\\u3001\\u7535\\u52a8\\u6276\\u68af\\u7b49\\u3002\",\"x\":19.176174639266282,\"xanchor\":\"left\",\"xref\":\"x\",\"y\":-8.947832704542082,\"yanchor\":\"middle\",\"yref\":\"y\"},{\"bgcolor\":\"#fffde6\",\"bordercolor\":\"#ffe600\",\"borderpad\":2,\"font\":{\"color\":\"black\"},\"showarrow\":false,\"text\":\"\\u5a01\\u6d77\\u7f51\\u8baf\\u56fd\\u5e86\\u5047\\u671f\\u521a\\u8fc7...\\u56e0\\u6b64\\u8981\\u6ce8\\u91cd\\u517b\\u9634\\u9632\\u71e5\\u3002\",\"x\":-18.408400835800176,\"xanchor\":\"right\",\"xref\":\"x\",\"y\":16.9760853769719,\"yanchor\":\"middle\",\"yref\":\"y\"},{\"bgcolor\":\"#e6fbff\",\"bordercolor\":\"#00d4ff\",\"borderpad\":2,\"font\":{\"color\":\"black\"},\"showarrow\":false,\"text\":\"1400\\u7c92\\u65b0\\u578b\\u6bd2\\u54c1\\u201c...\\u62d8\\u3002\\u6848\\u4ef6\\u6b63\\u5728\\u8c03\\u67e5\\u4e2d\\u3002\",\"x\":19.176174639266282,\"xanchor\":\"left\",\"xref\":\"x\",\"y\":-2.466853184163588,\"yanchor\":\"middle\",\"yref\":\"y\"},{\"bgcolor\":\"#fffde6\",\"bordercolor\":\"#ffe600\",\"borderpad\":2,\"font\":{\"color\":\"black\"},\"showarrow\":false,\"text\":\"\\u53c2\\u8003\\u6d88\\u606f\\u7f517\\u670828\\u65e5...\\u6a59\\u8272\\u9884\\u8b66\\u3002\\u65b0\\u534e\\u793e\\u53d1\\u3002\",\"x\":19.176174639266282,\"xanchor\":\"left\",\"xref\":\"x\",\"y\":16.9760853769719,\"yanchor\":\"middle\",\"yref\":\"y\"},{\"bgcolor\":\"#e6e6f2\",\"bordercolor\":\"#000080\",\"borderpad\":2,\"font\":{\"color\":\"black\"},\"showarrow\":false,\"text\":\"\\u6e29\\u6cc9\\u53bf\\u6c14\\u8c61\\u53f09\\u670821...\\u6027\\u5929\\u6c14,\\u8bf7\\u6ce8\\u610f\\u9632\\u8303\\u3002\",\"x\":-18.408400835800176,\"xanchor\":\"right\",\"xref\":\"x\",\"y\":5.634371216309532,\"yanchor\":\"middle\",\"yref\":\"y\"},{\"bgcolor\":\"#fffde6\",\"bordercolor\":\"#ffe600\",\"borderpad\":2,\"font\":{\"color\":\"black\"},\"showarrow\":false,\"text\":\"\\u56db\\u5ddd\\u5728\\u7ebf\\u4e50\\u5c71\\u8baf\\u30025\\u6708...\\u4e2d\\u96e8,\\u4e2a\\u522b\\u5730\\u533a\\u66b4\\u96e8\\u3002\",\"x\":0,\"xanchor\":\"left\",\"xref\":\"x\",\"y\":0,\"yanchor\":\"middle\",\"yref\":\"y\"},{\"bgcolor\":\"#e6e6f2\",\"bordercolor\":\"#000080\",\"borderpad\":2,\"font\":{\"color\":\"black\"},\"showarrow\":false,\"text\":\"\\u767d\\u57ce\\u5e02\\u6c14\\u8c61\\u5c402016...\\u5173\\u5355\\u4f4d\\u6ce8\\u610f\\u505a\\u597d\\u9884\\u9632\\u3002\",\"x\":-18.408400835800176,\"xanchor\":\"right\",\"xref\":\"x\",\"y\":-8.947832704542082,\"yanchor\":\"middle\",\"yref\":\"y\"},{\"bgcolor\":\"#e6e6f2\",\"bordercolor\":\"#000080\",\"borderpad\":2,\"font\":{\"color\":\"black\"},\"showarrow\":false,\"text\":\"\\u4f59\\u5e86\\u53bf\\u6c14\\u8c61\\u53f08\\u670825...35\\u2103,\\u8bf7\\u6ce8\\u610f\\u9632\\u8303\\u3002\",\"x\":-18.408400835800176,\"xanchor\":\"right\",\"xref\":\"x\",\"y\":-7.327587824447458,\"yanchor\":\"middle\",\"yref\":\"y\"},{\"bgcolor\":\"#e6e6f2\",\"bordercolor\":\"#000080\",\"borderpad\":2,\"font\":{\"color\":\"black\"},\"showarrow\":false,\"text\":\"\\u53d7\\u5bf9\\u6d41\\u4e91\\u7cfb\\u5f71\\u54cd,\\u6211\\u53bf...\\u6c14,\\u5c3d\\u91cf\\u907f\\u514d\\u6237\\u5916\\u6d3b\\u52a8\",\"x\":-18.408400835800176,\"xanchor\":\"right\",\"xref\":\"x\",\"y\":-12.188322464731328,\"yanchor\":\"middle\",\"yref\":\"y\"},{\"bgcolor\":\"#e6e6f2\",\"bordercolor\":\"#000080\",\"borderpad\":2,\"font\":{\"color\":\"black\"},\"showarrow\":false,\"text\":\"\\u4e2d\\u56fd\\u6c5f\\u897f\\u7f51\\u8baf\\u3002\\u8bb0\\u8005\\u6b27...\\u5929\\u9ad8\\u6e29\\u5f3a\\u5ea6\\u6709\\u6240\\u51cf\\u5f31\\u3002\",\"x\":-18.408400835800176,\"xanchor\":\"right\",\"xref\":\"x\",\"y\":2.3938814561202832,\"yanchor\":\"middle\",\"yref\":\"y\"},{\"bgcolor\":\"#e6e6f2\",\"bordercolor\":\"#000080\",\"borderpad\":2,\"font\":{\"color\":\"black\"},\"showarrow\":false,\"text\":\"\\u5b89\\u5eb7\\u5e02\\u6c49\\u9634\\u53bf\\u6c14\\u8c61\\u5c402...\\u6e29\\u5929\\u6c14,\\u8bf7\\u505a\\u597d\\u9632\\u8303\\u3002\",\"x\":-18.408400835800176,\"xanchor\":\"right\",\"xref\":\"x\",\"y\":13.73559561678265,\"yanchor\":\"middle\",\"yref\":\"y\"},{\"bgcolor\":\"#f2e6e6\",\"bordercolor\":\"#800000\",\"borderpad\":2,\"font\":{\"color\":\"black\"},\"showarrow\":false,\"text\":\"\\u4e2d\\u65b0\\u7f518\\u67088\\u65e5\\u7535\\u3002\\u636e...\\u88ab\\u6253\\u5f00\\u5e76\\u91cd\\u590d\\u4f7f\\u7528\\u8fc7\\u3002\",\"x\":19.176174639266282,\"xanchor\":\"left\",\"xref\":\"x\",\"y\":4.0141263362149076,\"yanchor\":\"middle\",\"yref\":\"y\"},{\"bgcolor\":\"#e6e6f2\",\"bordercolor\":\"#000080\",\"borderpad\":2,\"font\":{\"color\":\"black\"},\"showarrow\":false,\"text\":\"\\u8499\\u9634\\u53bf\\u6c14\\u8c61\\u5c402016...,\\u5c3d\\u91cf\\u907f\\u514d\\u6237\\u5916\\u6d3b\\u52a8\\u3002\",\"x\":-18.408400835800176,\"xanchor\":\"right\",\"xref\":\"x\",\"y\":7.254616096404156,\"yanchor\":\"middle\",\"yref\":\"y\"},{\"bgcolor\":\"#e6e6f2\",\"bordercolor\":\"#000080\",\"borderpad\":2,\"font\":{\"color\":\"black\"},\"showarrow\":false,\"text\":\"\\u6df3\\u5b89\\u53bf\\u6c14\\u8c61\\u53f010\\u67081...\\u3001\\u6ce5\\u77f3\\u6d41\\u7b49\\u6b21\\u751f\\u707e\\u5bb3\\u3002\",\"x\":-18.408400835800176,\"xanchor\":\"right\",\"xref\":\"x\",\"y\":-10.568077584636706,\"yanchor\":\"middle\",\"yref\":\"y\"},{\"bgcolor\":\"#e6e6f2\",\"bordercolor\":\"#000080\",\"borderpad\":2,\"font\":{\"color\":\"black\"},\"showarrow\":false,\"text\":\"\\u9686\\u5b89\\u53bf\\u6c14\\u8c61\\u5c402016...5\\u2103\\u4ee5\\u4e0a\\u7684\\u9ad8\\u6e29\\u5929\\u6c14\\u3002\",\"x\":-18.408400835800176,\"xanchor\":\"right\",\"xref\":\"x\",\"y\":12.115350736688026,\"yanchor\":\"middle\",\"yref\":\"y\"},{\"bgcolor\":\"#e6fbff\",\"bordercolor\":\"#00d4ff\",\"borderpad\":2,\"font\":{\"color\":\"black\"},\"showarrow\":false,\"text\":\"\\u56fe\\u4e3a\\u6d88\\u9632\\u5b98\\u5175\\u5904\\u7f6e\\u8f66\\u8f86...\\u5904,\\u5207\\u52ff\\u957f\\u65f6\\u95f4\\u7206\\u55ee\\u3002\",\"x\":19.176174639266282,\"xanchor\":\"left\",\"xref\":\"x\",\"y\":-13.808567344825953,\"yanchor\":\"middle\",\"yref\":\"y\"},{\"bgcolor\":\"#e6fbff\",\"bordercolor\":\"#00d4ff\",\"borderpad\":2,\"font\":{\"color\":\"black\"},\"showarrow\":false,\"text\":\"\\u6458\\u8981:\\u3002\\u6628\\u65e5,\\u6df1\\u5733\\u5e02...5\\u5e74\\u540e\\u5219\\u6269\\u5927\\u5230\\u516c\\u5395\\u3002\",\"x\":19.176174639266282,\"xanchor\":\"left\",\"xref\":\"x\",\"y\":8.874860976498777,\"yanchor\":\"middle\",\"yref\":\"y\"},{\"bgcolor\":\"#fffde6\",\"bordercolor\":\"#ffe600\",\"borderpad\":2,\"font\":{\"color\":\"black\"},\"showarrow\":false,\"text\":\"\\u7ecf\\u8fc7\\u5c06\\u8fd114\\u5929\\u4e0d\\u5206\\u65e5...\\u7d22\\u8d54\\u8981\\u6c42\\u3002\\u636e\\u65b0\\u534e\\u793e\\u7535\",\"x\":19.176174639266282,\"xanchor\":\"left\",\"xref\":\"x\",\"y\":13.73559561678265,\"yanchor\":\"middle\",\"yref\":\"y\"},{\"bgcolor\":\"#f2e6e6\",\"bordercolor\":\"#800000\",\"borderpad\":2,\"font\":{\"color\":\"black\"},\"showarrow\":false,\"text\":\"\\u65b0\\u6d6a\\u4f53\\u80b2\\u30022014-...\\u963f\\u585e\\u8fea;18-\\u8fea\\u4e4c\\u592b\",\"x\":19.176174639266282,\"xanchor\":\"left\",\"xref\":\"x\",\"y\":-0.8466083040689636,\"yanchor\":\"middle\",\"yref\":\"y\"},{\"bgcolor\":\"#e6e6f2\",\"bordercolor\":\"#000080\",\"borderpad\":2,\"font\":{\"color\":\"black\"},\"showarrow\":false,\"text\":\"\\u95fb\\u559c\\u53bf\\u6c14\\u8c61\\u5c402016...8\\u67086\\u65e514\\u65f617\\u5206\",\"x\":-18.408400835800176,\"xanchor\":\"right\",\"xref\":\"x\",\"y\":4.0141263362149076,\"yanchor\":\"middle\",\"yref\":\"y\"},{\"bgcolor\":\"#e6fbff\",\"bordercolor\":\"#00d4ff\",\"borderpad\":2,\"font\":{\"color\":\"black\"},\"showarrow\":false,\"text\":\"\\u8fd1\\u65e5\\u4e00\\u7ec4\\u7591\\u4f3c\\u4e2d\\u56fd\\u6b7c-...\\u5ea6\\u964d\\u4f4e\\u5bf9\\u6218\\u673a\\u7684\\u5f71\\u54cd\\u3002\",\"x\":19.176174639266282,\"xanchor\":\"left\",\"xref\":\"x\",\"y\":7.254616096404156,\"yanchor\":\"middle\",\"yref\":\"y\"},{\"bgcolor\":\"#fffde6\",\"bordercolor\":\"#ffe600\",\"borderpad\":2,\"font\":{\"color\":\"black\"},\"showarrow\":false,\"text\":\"\\u672c\\u5730\\u5929\\u7a7a\\u51e0\\u5206\\u949f\\u53d8\\u9ec4\\u672c...\\u5c18\\u66b4\\u6765\\u4e34\\u524d\\u7684\\u65e2\\u89c6\\u611f\\u3002\",\"x\":-18.408400835800176,\"xanchor\":\"right\",\"xref\":\"x\",\"y\":15.355840496877274,\"yanchor\":\"middle\",\"yref\":\"y\"},{\"bgcolor\":\"#e6fbff\",\"bordercolor\":\"#00d4ff\",\"borderpad\":2,\"font\":{\"color\":\"black\"},\"showarrow\":false,\"text\":\"7\\u670828\\u65e5\\u4e0a\\u5348,\\u7b14\\u8005...\\u8bb0\\u8005/\\u6d2a\\u7ee7\\u5b87\\u3002\\u9ec4\\u5609\\u950b\",\"x\":19.176174639266282,\"xanchor\":\"left\",\"xref\":\"x\",\"y\":-5.707342944352835,\"yanchor\":\"middle\",\"yref\":\"y\"},{\"bgcolor\":\"#e6e6f2\",\"bordercolor\":\"#000080\",\"borderpad\":2,\"font\":{\"color\":\"black\"},\"showarrow\":false,\"text\":\"\\u6797\\u897f\\u53bf\\u6c14\\u8c61\\u53f02016...\\u548c\\u5355\\u4f4d\\u505a\\u597d\\u9632\\u8303\\u5de5\\u4f5c\\u3002\",\"x\":-18.408400835800176,\"xanchor\":\"right\",\"xref\":\"x\",\"y\":0.7736365760256607,\"yanchor\":\"middle\",\"yref\":\"y\"},{\"bgcolor\":\"#e6fbff\",\"bordercolor\":\"#00d4ff\",\"borderpad\":2,\"font\":{\"color\":\"black\"},\"showarrow\":false,\"text\":\"\\u25c7\\u901a\\u8baf\\u5458\\u82d7\\u4f1f\\u672c\\u62a5\\u8baf2...\\u5171\\u540c\\u6765\\u5230\\u6865\\u5934\\u6d3e\\u51fa\\u6240\\u3002\",\"x\":19.176174639266282,\"xanchor\":\"left\",\"xref\":\"x\",\"y\":-7.327587824447458,\"yanchor\":\"middle\",\"yref\":\"y\"},{\"bgcolor\":\"#e6e6f2\",\"bordercolor\":\"#000080\",\"borderpad\":2,\"font\":{\"color\":\"black\"},\"showarrow\":false,\"text\":\"\\u90d1\\u5dde\\u5e02\\u6c14\\u8c61\\u53f02016...\\u6d41\\u5929\\u6c14\\u3002\\u8bf7\\u6ce8\\u610f\\u9632\\u8303\\u3002\",\"x\":-18.408400835800176,\"xanchor\":\"right\",\"xref\":\"x\",\"y\":-4.08709806425821,\"yanchor\":\"middle\",\"yref\":\"y\"},{\"bgcolor\":\"#e6fbff\",\"bordercolor\":\"#00d4ff\",\"borderpad\":2,\"font\":{\"color\":\"black\"},\"showarrow\":false,\"text\":\"\\u4e8b\\u6545\\u73b0\\u573a\\u4e00\\u7247\\u72fc\\u85c9\\u3002\\u7f51...516390.htm\",\"x\":19.176174639266282,\"xanchor\":\"left\",\"xref\":\"x\",\"y\":-12.188322464731328,\"yanchor\":\"middle\",\"yref\":\"y\"},{\"bgcolor\":\"#f2e6e6\",\"bordercolor\":\"#800000\",\"borderpad\":2,\"font\":{\"color\":\"black\"},\"showarrow\":false,\"text\":\"\\u65b0\\u6d6a\\u4f53\\u80b2\\u30022014-...\\u5e0c\\u5854\\u826f/20-\\u62c9\\u83ab\\u65af\",\"x\":19.176174639266282,\"xanchor\":\"left\",\"xref\":\"x\",\"y\":0.7736365760256607,\"yanchor\":\"middle\",\"yref\":\"y\"},{\"bgcolor\":\"#e6e6f2\",\"bordercolor\":\"#000080\",\"borderpad\":2,\"font\":{\"color\":\"black\"},\"showarrow\":false,\"text\":\"\\u74ee\\u5b89\\u53bf\\u6c14\\u8c61\\u53f02016...\\u548c\\u4eba\\u5458\\u4f5c\\u597d\\u9632\\u8303\\u51c6\\u5907\\u3002\",\"x\":-18.408400835800176,\"xanchor\":\"right\",\"xref\":\"x\",\"y\":8.874860976498777,\"yanchor\":\"middle\",\"yref\":\"y\"},{\"bgcolor\":\"#e6e6f2\",\"bordercolor\":\"#000080\",\"borderpad\":2,\"font\":{\"color\":\"black\"},\"showarrow\":false,\"text\":\"\\u5fb7\\u5b8f\\u5dde\\u6c14\\u8c61\\u53f02016...\\u6c34\\u5929\\u6c14,\\u8bf7\\u6ce8\\u610f\\u9632\\u8303\\u3002\",\"x\":-18.408400835800176,\"xanchor\":\"right\",\"xref\":\"x\",\"y\":-5.707342944352835,\"yanchor\":\"middle\",\"yref\":\"y\"},{\"bgcolor\":\"#e6e6f2\",\"bordercolor\":\"#000080\",\"borderpad\":2,\"font\":{\"color\":\"black\"},\"showarrow\":false,\"text\":\"\\u5149\\u6cfd\\u53bf\\u6c14\\u8c61\\u53f08\\u670821...\\u6d41\\u5929\\u6c14\\u3002\\u8bf7\\u6ce8\\u610f\\u9632\\u8303!\",\"x\":-18.408400835800176,\"xanchor\":\"right\",\"xref\":\"x\",\"y\":-0.8466083040689636,\"yanchor\":\"middle\",\"yref\":\"y\"},{\"bgcolor\":\"#fffde6\",\"bordercolor\":\"#ffe600\",\"borderpad\":2,\"font\":{\"color\":\"black\"},\"showarrow\":false,\"text\":\"\\u4eba\\u6c11\\u7f51\\u9633\\u65b07\\u67084\\u65e5\\u7535...\\u76ae\\u8247\\u91cc,\\u5e76\\u62c9\\u5230\\u5cb8\\u8fb9\\u3002\",\"x\":19.176174639266282,\"xanchor\":\"left\",\"xref\":\"x\",\"y\":5.634371216309532,\"yanchor\":\"middle\",\"yref\":\"y\"},{\"bgcolor\":\"#f2e6e6\",\"bordercolor\":\"#800000\",\"borderpad\":2,\"font\":{\"color\":\"black\"},\"showarrow\":false,\"text\":\"\\u864e\\u6251\\u4f53\\u80b2\\u62a5\\u9053,\\u5317\\u4eac\\u65f6...\\u3001\\u4f55\\u5fe0\\u52c9\\u3001\\u535a\\u6bd4-\\u5e03\\u6717\",\"x\":19.176174639266282,\"xanchor\":\"left\",\"xref\":\"x\",\"y\":2.3938814561202832,\"yanchor\":\"middle\",\"yref\":\"y\"},{\"bgcolor\":\"#e6fbff\",\"bordercolor\":\"#00d4ff\",\"borderpad\":2,\"font\":{\"color\":\"black\"},\"showarrow\":false,\"text\":\"#\\u6821\\u56ed\\u7206\\u6599#\\u30028\\u53f7\\u508d...\\u62cd\\u4e0b\\u7740\\u7f8e\\u4e3d\\u7684\\u4e00\\u77ac\\u95f4\\u3002\",\"x\":19.176174639266282,\"xanchor\":\"left\",\"xref\":\"x\",\"y\":-10.568077584636706,\"yanchor\":\"middle\",\"yref\":\"y\"},{\"bgcolor\":\"#f2e6e6\",\"bordercolor\":\"#800000\",\"borderpad\":2,\"font\":{\"color\":\"black\"},\"showarrow\":false,\"text\":\"2015-10-02...\\u5c31\\u8981\\u5f00\\u542f\\u56f0\\u96be\\u6a21\\u5f0f\\u5417?\",\"x\":19.176174639266282,\"xanchor\":\"left\",\"xref\":\"x\",\"y\":-4.08709806425821,\"yanchor\":\"middle\",\"yref\":\"y\"},{\"bgcolor\":\"#fffde6\",\"bordercolor\":\"#ffe600\",\"borderpad\":2,\"font\":{\"color\":\"black\"},\"showarrow\":false,\"text\":\"\\u672c\\u62a5\\u8baf\\u6c88\\u9633\\u5e02\\u906d\\u9047\\u8fd1\\u534a...\\u3001\\u65b0\\u7586\\u3001\\u8fbd\\u5b81\\u3001\\u5b89\\u5fbd\\u3002\",\"x\":19.176174639266282,\"xanchor\":\"left\",\"xref\":\"x\",\"y\":15.355840496877274,\"yanchor\":\"middle\",\"yref\":\"y\"},{\"bgcolor\":\"#e6e6f2\",\"bordercolor\":\"#000080\",\"borderpad\":2,\"font\":{\"color\":\"black\"},\"showarrow\":false,\"text\":\"\\u970d\\u5dde\\u5e02\\u6c14\\u8c61\\u53f02016...,\\u5c3d\\u91cf\\u907f\\u514d\\u6237\\u5916\\u6d3b\\u52a8\\u3002\",\"x\":-18.408400835800176,\"xanchor\":\"right\",\"xref\":\"x\",\"y\":10.495105856593401,\"yanchor\":\"middle\",\"yref\":\"y\"},{\"bgcolor\":\"#fffde6\",\"bordercolor\":\"#ffe600\",\"borderpad\":2,\"font\":{\"color\":\"black\"},\"showarrow\":false,\"text\":\"\\u65b0\\u534e\\u7f51\\u4e0a\\u6d7712\\u67089\\u65e5...\\u5c06\\u7ee7\\u7eed\\u6269\\u5927\\u8bd5\\u70b9\\u8303\\u56f4\\u3002\",\"x\":19.176174639266282,\"xanchor\":\"left\",\"xref\":\"x\",\"y\":12.115350736688026,\"yanchor\":\"middle\",\"yref\":\"y\"},{\"bgcolor\":\"#fffde6\",\"bordercolor\":\"#ffe600\",\"borderpad\":2,\"font\":{\"color\":\"black\"},\"showarrow\":false,\"text\":\"\\u505c\\u7535\\u4fe1\\u606f9\\u670821\\u65e50...\\u5173\\u6ce8\\u5468\\u505c\\u7535\\u4fe1\\u606f\\u516c\\u544a\\u3002\",\"x\":19.176174639266282,\"xanchor\":\"left\",\"xref\":\"x\",\"y\":10.495105856593401,\"yanchor\":\"middle\",\"yref\":\"y\"},{\"bgcolor\":\"#e6e6f2\",\"bordercolor\":\"#000080\",\"borderpad\":2,\"font\":{\"color\":\"black\"},\"showarrow\":false,\"text\":\"\\u76ee\\u524d\\u6211\\u53bf\\u5883\\u5185\\u897f\\u5317\\u90e8\\u5df2...\\u5bb3\\u6027\\u5929\\u6c14,\\u8bf7\\u6ce8\\u610f\\u9632\\u8303\",\"x\":-18.408400835800176,\"xanchor\":\"right\",\"xref\":\"x\",\"y\":-13.808567344825953,\"yanchor\":\"middle\",\"yref\":\"y\"},{\"bgcolor\":\"#e6e6f2\",\"bordercolor\":\"#000080\",\"borderpad\":2,\"font\":{\"color\":\"black\"},\"showarrow\":false,\"text\":\"\\u6d5a\\u53bf\\u6c14\\u8c61\\u5c402016\\u5e74...\\u6d41\\u5929\\u6c14,\\u8bf7\\u6ce8\\u610f\\u9632\\u8303\\u3002\",\"x\":-18.408400835800176,\"xanchor\":\"right\",\"xref\":\"x\",\"y\":-2.466853184163588,\"yanchor\":\"middle\",\"yref\":\"y\"}],\"xaxis\":{\"tickvals\":[]},\"yaxis\":{\"tickvals\":[]}},                        {\"responsive\": true}                    ).then(function(){\n",
              "                            \n",
              "var gd = document.getElementById('23a6cc3f-9ad9-4147-9170-913a478f548f');\n",
              "var x = new MutationObserver(function (mutations, observer) {{\n",
              "        var display = window.getComputedStyle(gd).display;\n",
              "        if (!display || display === 'none') {{\n",
              "            console.log([gd, 'removed!']);\n",
              "            Plotly.purge(gd);\n",
              "            observer.disconnect();\n",
              "        }}\n",
              "}});\n",
              "\n",
              "// Listen for the removal of the full notebook cells\n",
              "var notebookContainer = gd.closest('#notebook-container');\n",
              "if (notebookContainer) {{\n",
              "    x.observe(notebookContainer, {childList: true});\n",
              "}}\n",
              "\n",
              "// Listen for the clearing of the current output cell\n",
              "var outputEl = gd.closest('.output');\n",
              "if (outputEl) {{\n",
              "    x.observe(outputEl, {childList: true});\n",
              "}}\n",
              "\n",
              "                        })                };                            </script>        </div>\n",
              "</body>\n",
              "</html>"
            ]
          },
          "metadata": {}
        }
      ]
    },
    {
      "cell_type": "markdown",
      "metadata": {
        "id": "WOfjdJfJwCcb"
      },
      "source": [
        "# TODO:\n",
        "* 模糊问题搜索\n",
        "* 文本聚类\n",
        "* 少样本分类学习"
      ]
    }
  ],
  "metadata": {
    "accelerator": "GPU",
    "colab": {
      "provenance": [],
      "include_colab_link": true
    },
    "gpuClass": "standard",
    "kernelspec": {
      "display_name": "Python 3",
      "name": "python3"
    },
    "language_info": {
      "codemirror_mode": {
        "name": "ipython",
        "version": 3
      },
      "file_extension": ".py",
      "mimetype": "text/x-python",
      "name": "python",
      "nbconvert_exporter": "python",
      "pygments_lexer": "ipython3",
      "version": "3.9.16"
    },
    "widgets": {
      "application/vnd.jupyter.widget-state+json": {
        "2505b8babe5745afa52e8ffb94b48d1e": {
          "model_module": "@jupyter-widgets/controls",
          "model_name": "HBoxModel",
          "model_module_version": "1.5.0",
          "state": {
            "_dom_classes": [],
            "_model_module": "@jupyter-widgets/controls",
            "_model_module_version": "1.5.0",
            "_model_name": "HBoxModel",
            "_view_count": null,
            "_view_module": "@jupyter-widgets/controls",
            "_view_module_version": "1.5.0",
            "_view_name": "HBoxView",
            "box_style": "",
            "children": [
              "IPY_MODEL_bc479ca3aaf14602a919501ce2f25c16",
              "IPY_MODEL_e79e8903a55e4567a6a7f387008d0008",
              "IPY_MODEL_e27a69cbfc1947859c3719efe1b618f1"
            ],
            "layout": "IPY_MODEL_11f891c1ec0e4b3fac7ed9fe6755e7c9"
          }
        },
        "bc479ca3aaf14602a919501ce2f25c16": {
          "model_module": "@jupyter-widgets/controls",
          "model_name": "HTMLModel",
          "model_module_version": "1.5.0",
          "state": {
            "_dom_classes": [],
            "_model_module": "@jupyter-widgets/controls",
            "_model_module_version": "1.5.0",
            "_model_name": "HTMLModel",
            "_view_count": null,
            "_view_module": "@jupyter-widgets/controls",
            "_view_module_version": "1.5.0",
            "_view_name": "HTMLView",
            "description": "",
            "description_tooltip": null,
            "layout": "IPY_MODEL_a052b5af2f1b4965bda2dcd2ae25a51b",
            "placeholder": "​",
            "style": "IPY_MODEL_0bcac81f1ff44abdaec30644d36075b5",
            "value": "Downloading (…)okenizer_config.json: 100%"
          }
        },
        "e79e8903a55e4567a6a7f387008d0008": {
          "model_module": "@jupyter-widgets/controls",
          "model_name": "FloatProgressModel",
          "model_module_version": "1.5.0",
          "state": {
            "_dom_classes": [],
            "_model_module": "@jupyter-widgets/controls",
            "_model_module_version": "1.5.0",
            "_model_name": "FloatProgressModel",
            "_view_count": null,
            "_view_module": "@jupyter-widgets/controls",
            "_view_module_version": "1.5.0",
            "_view_name": "ProgressView",
            "bar_style": "success",
            "description": "",
            "description_tooltip": null,
            "layout": "IPY_MODEL_aaa53e1b4e724a3ea12325ce335c2e6a",
            "max": 539,
            "min": 0,
            "orientation": "horizontal",
            "style": "IPY_MODEL_a0ec1fd85faa494d9d0fc941420ba1ed",
            "value": 539
          }
        },
        "e27a69cbfc1947859c3719efe1b618f1": {
          "model_module": "@jupyter-widgets/controls",
          "model_name": "HTMLModel",
          "model_module_version": "1.5.0",
          "state": {
            "_dom_classes": [],
            "_model_module": "@jupyter-widgets/controls",
            "_model_module_version": "1.5.0",
            "_model_name": "HTMLModel",
            "_view_count": null,
            "_view_module": "@jupyter-widgets/controls",
            "_view_module_version": "1.5.0",
            "_view_name": "HTMLView",
            "description": "",
            "description_tooltip": null,
            "layout": "IPY_MODEL_77a165cc4c5f4e9f979052fbb39e6d88",
            "placeholder": "​",
            "style": "IPY_MODEL_65bf8da716bd4aa4afacfe5c5a16801c",
            "value": " 539/539 [00:00&lt;00:00, 35.4kB/s]"
          }
        },
        "11f891c1ec0e4b3fac7ed9fe6755e7c9": {
          "model_module": "@jupyter-widgets/base",
          "model_name": "LayoutModel",
          "model_module_version": "1.2.0",
          "state": {
            "_model_module": "@jupyter-widgets/base",
            "_model_module_version": "1.2.0",
            "_model_name": "LayoutModel",
            "_view_count": null,
            "_view_module": "@jupyter-widgets/base",
            "_view_module_version": "1.2.0",
            "_view_name": "LayoutView",
            "align_content": null,
            "align_items": null,
            "align_self": null,
            "border": null,
            "bottom": null,
            "display": null,
            "flex": null,
            "flex_flow": null,
            "grid_area": null,
            "grid_auto_columns": null,
            "grid_auto_flow": null,
            "grid_auto_rows": null,
            "grid_column": null,
            "grid_gap": null,
            "grid_row": null,
            "grid_template_areas": null,
            "grid_template_columns": null,
            "grid_template_rows": null,
            "height": null,
            "justify_content": null,
            "justify_items": null,
            "left": null,
            "margin": null,
            "max_height": null,
            "max_width": null,
            "min_height": null,
            "min_width": null,
            "object_fit": null,
            "object_position": null,
            "order": null,
            "overflow": null,
            "overflow_x": null,
            "overflow_y": null,
            "padding": null,
            "right": null,
            "top": null,
            "visibility": null,
            "width": null
          }
        },
        "a052b5af2f1b4965bda2dcd2ae25a51b": {
          "model_module": "@jupyter-widgets/base",
          "model_name": "LayoutModel",
          "model_module_version": "1.2.0",
          "state": {
            "_model_module": "@jupyter-widgets/base",
            "_model_module_version": "1.2.0",
            "_model_name": "LayoutModel",
            "_view_count": null,
            "_view_module": "@jupyter-widgets/base",
            "_view_module_version": "1.2.0",
            "_view_name": "LayoutView",
            "align_content": null,
            "align_items": null,
            "align_self": null,
            "border": null,
            "bottom": null,
            "display": null,
            "flex": null,
            "flex_flow": null,
            "grid_area": null,
            "grid_auto_columns": null,
            "grid_auto_flow": null,
            "grid_auto_rows": null,
            "grid_column": null,
            "grid_gap": null,
            "grid_row": null,
            "grid_template_areas": null,
            "grid_template_columns": null,
            "grid_template_rows": null,
            "height": null,
            "justify_content": null,
            "justify_items": null,
            "left": null,
            "margin": null,
            "max_height": null,
            "max_width": null,
            "min_height": null,
            "min_width": null,
            "object_fit": null,
            "object_position": null,
            "order": null,
            "overflow": null,
            "overflow_x": null,
            "overflow_y": null,
            "padding": null,
            "right": null,
            "top": null,
            "visibility": null,
            "width": null
          }
        },
        "0bcac81f1ff44abdaec30644d36075b5": {
          "model_module": "@jupyter-widgets/controls",
          "model_name": "DescriptionStyleModel",
          "model_module_version": "1.5.0",
          "state": {
            "_model_module": "@jupyter-widgets/controls",
            "_model_module_version": "1.5.0",
            "_model_name": "DescriptionStyleModel",
            "_view_count": null,
            "_view_module": "@jupyter-widgets/base",
            "_view_module_version": "1.2.0",
            "_view_name": "StyleView",
            "description_width": ""
          }
        },
        "aaa53e1b4e724a3ea12325ce335c2e6a": {
          "model_module": "@jupyter-widgets/base",
          "model_name": "LayoutModel",
          "model_module_version": "1.2.0",
          "state": {
            "_model_module": "@jupyter-widgets/base",
            "_model_module_version": "1.2.0",
            "_model_name": "LayoutModel",
            "_view_count": null,
            "_view_module": "@jupyter-widgets/base",
            "_view_module_version": "1.2.0",
            "_view_name": "LayoutView",
            "align_content": null,
            "align_items": null,
            "align_self": null,
            "border": null,
            "bottom": null,
            "display": null,
            "flex": null,
            "flex_flow": null,
            "grid_area": null,
            "grid_auto_columns": null,
            "grid_auto_flow": null,
            "grid_auto_rows": null,
            "grid_column": null,
            "grid_gap": null,
            "grid_row": null,
            "grid_template_areas": null,
            "grid_template_columns": null,
            "grid_template_rows": null,
            "height": null,
            "justify_content": null,
            "justify_items": null,
            "left": null,
            "margin": null,
            "max_height": null,
            "max_width": null,
            "min_height": null,
            "min_width": null,
            "object_fit": null,
            "object_position": null,
            "order": null,
            "overflow": null,
            "overflow_x": null,
            "overflow_y": null,
            "padding": null,
            "right": null,
            "top": null,
            "visibility": null,
            "width": null
          }
        },
        "a0ec1fd85faa494d9d0fc941420ba1ed": {
          "model_module": "@jupyter-widgets/controls",
          "model_name": "ProgressStyleModel",
          "model_module_version": "1.5.0",
          "state": {
            "_model_module": "@jupyter-widgets/controls",
            "_model_module_version": "1.5.0",
            "_model_name": "ProgressStyleModel",
            "_view_count": null,
            "_view_module": "@jupyter-widgets/base",
            "_view_module_version": "1.2.0",
            "_view_name": "StyleView",
            "bar_color": null,
            "description_width": ""
          }
        },
        "77a165cc4c5f4e9f979052fbb39e6d88": {
          "model_module": "@jupyter-widgets/base",
          "model_name": "LayoutModel",
          "model_module_version": "1.2.0",
          "state": {
            "_model_module": "@jupyter-widgets/base",
            "_model_module_version": "1.2.0",
            "_model_name": "LayoutModel",
            "_view_count": null,
            "_view_module": "@jupyter-widgets/base",
            "_view_module_version": "1.2.0",
            "_view_name": "LayoutView",
            "align_content": null,
            "align_items": null,
            "align_self": null,
            "border": null,
            "bottom": null,
            "display": null,
            "flex": null,
            "flex_flow": null,
            "grid_area": null,
            "grid_auto_columns": null,
            "grid_auto_flow": null,
            "grid_auto_rows": null,
            "grid_column": null,
            "grid_gap": null,
            "grid_row": null,
            "grid_template_areas": null,
            "grid_template_columns": null,
            "grid_template_rows": null,
            "height": null,
            "justify_content": null,
            "justify_items": null,
            "left": null,
            "margin": null,
            "max_height": null,
            "max_width": null,
            "min_height": null,
            "min_width": null,
            "object_fit": null,
            "object_position": null,
            "order": null,
            "overflow": null,
            "overflow_x": null,
            "overflow_y": null,
            "padding": null,
            "right": null,
            "top": null,
            "visibility": null,
            "width": null
          }
        },
        "65bf8da716bd4aa4afacfe5c5a16801c": {
          "model_module": "@jupyter-widgets/controls",
          "model_name": "DescriptionStyleModel",
          "model_module_version": "1.5.0",
          "state": {
            "_model_module": "@jupyter-widgets/controls",
            "_model_module_version": "1.5.0",
            "_model_name": "DescriptionStyleModel",
            "_view_count": null,
            "_view_module": "@jupyter-widgets/base",
            "_view_module_version": "1.2.0",
            "_view_name": "StyleView",
            "description_width": ""
          }
        },
        "f0fedaaf9f344f5597b043d98ad82b15": {
          "model_module": "@jupyter-widgets/controls",
          "model_name": "HBoxModel",
          "model_module_version": "1.5.0",
          "state": {
            "_dom_classes": [],
            "_model_module": "@jupyter-widgets/controls",
            "_model_module_version": "1.5.0",
            "_model_name": "HBoxModel",
            "_view_count": null,
            "_view_module": "@jupyter-widgets/controls",
            "_view_module_version": "1.5.0",
            "_view_name": "HBoxView",
            "box_style": "",
            "children": [
              "IPY_MODEL_0fe2f2daef8549e29213c0e05211889f",
              "IPY_MODEL_33699329f12041918fa0814e6427699a",
              "IPY_MODEL_b23333d763374c469bdaf944ae96cdf2"
            ],
            "layout": "IPY_MODEL_2057027a8f5b47e4bd995428e9214fb3"
          }
        },
        "0fe2f2daef8549e29213c0e05211889f": {
          "model_module": "@jupyter-widgets/controls",
          "model_name": "HTMLModel",
          "model_module_version": "1.5.0",
          "state": {
            "_dom_classes": [],
            "_model_module": "@jupyter-widgets/controls",
            "_model_module_version": "1.5.0",
            "_model_name": "HTMLModel",
            "_view_count": null,
            "_view_module": "@jupyter-widgets/controls",
            "_view_module_version": "1.5.0",
            "_view_name": "HTMLView",
            "description": "",
            "description_tooltip": null,
            "layout": "IPY_MODEL_7d9e9a4e76d94a5da3eca7cd2da1847f",
            "placeholder": "​",
            "style": "IPY_MODEL_eed131c60b0a483bafe9d3d3bf239c55",
            "value": "Downloading (…)solve/main/vocab.txt: "
          }
        },
        "33699329f12041918fa0814e6427699a": {
          "model_module": "@jupyter-widgets/controls",
          "model_name": "FloatProgressModel",
          "model_module_version": "1.5.0",
          "state": {
            "_dom_classes": [],
            "_model_module": "@jupyter-widgets/controls",
            "_model_module_version": "1.5.0",
            "_model_name": "FloatProgressModel",
            "_view_count": null,
            "_view_module": "@jupyter-widgets/controls",
            "_view_module_version": "1.5.0",
            "_view_name": "ProgressView",
            "bar_style": "success",
            "description": "",
            "description_tooltip": null,
            "layout": "IPY_MODEL_016b0867f7e049b0b0966dd0bfee478d",
            "max": 1,
            "min": 0,
            "orientation": "horizontal",
            "style": "IPY_MODEL_12d6e2437735401c8a56339faa4d8beb",
            "value": 1
          }
        },
        "b23333d763374c469bdaf944ae96cdf2": {
          "model_module": "@jupyter-widgets/controls",
          "model_name": "HTMLModel",
          "model_module_version": "1.5.0",
          "state": {
            "_dom_classes": [],
            "_model_module": "@jupyter-widgets/controls",
            "_model_module_version": "1.5.0",
            "_model_name": "HTMLModel",
            "_view_count": null,
            "_view_module": "@jupyter-widgets/controls",
            "_view_module_version": "1.5.0",
            "_view_name": "HTMLView",
            "description": "",
            "description_tooltip": null,
            "layout": "IPY_MODEL_f67815f4709347959e74b61f1d6d0c3a",
            "placeholder": "​",
            "style": "IPY_MODEL_9494f220a4eb439597ab8a4a16fb41fb",
            "value": " 110k/? [00:00&lt;00:00, 6.29MB/s]"
          }
        },
        "2057027a8f5b47e4bd995428e9214fb3": {
          "model_module": "@jupyter-widgets/base",
          "model_name": "LayoutModel",
          "model_module_version": "1.2.0",
          "state": {
            "_model_module": "@jupyter-widgets/base",
            "_model_module_version": "1.2.0",
            "_model_name": "LayoutModel",
            "_view_count": null,
            "_view_module": "@jupyter-widgets/base",
            "_view_module_version": "1.2.0",
            "_view_name": "LayoutView",
            "align_content": null,
            "align_items": null,
            "align_self": null,
            "border": null,
            "bottom": null,
            "display": null,
            "flex": null,
            "flex_flow": null,
            "grid_area": null,
            "grid_auto_columns": null,
            "grid_auto_flow": null,
            "grid_auto_rows": null,
            "grid_column": null,
            "grid_gap": null,
            "grid_row": null,
            "grid_template_areas": null,
            "grid_template_columns": null,
            "grid_template_rows": null,
            "height": null,
            "justify_content": null,
            "justify_items": null,
            "left": null,
            "margin": null,
            "max_height": null,
            "max_width": null,
            "min_height": null,
            "min_width": null,
            "object_fit": null,
            "object_position": null,
            "order": null,
            "overflow": null,
            "overflow_x": null,
            "overflow_y": null,
            "padding": null,
            "right": null,
            "top": null,
            "visibility": null,
            "width": null
          }
        },
        "7d9e9a4e76d94a5da3eca7cd2da1847f": {
          "model_module": "@jupyter-widgets/base",
          "model_name": "LayoutModel",
          "model_module_version": "1.2.0",
          "state": {
            "_model_module": "@jupyter-widgets/base",
            "_model_module_version": "1.2.0",
            "_model_name": "LayoutModel",
            "_view_count": null,
            "_view_module": "@jupyter-widgets/base",
            "_view_module_version": "1.2.0",
            "_view_name": "LayoutView",
            "align_content": null,
            "align_items": null,
            "align_self": null,
            "border": null,
            "bottom": null,
            "display": null,
            "flex": null,
            "flex_flow": null,
            "grid_area": null,
            "grid_auto_columns": null,
            "grid_auto_flow": null,
            "grid_auto_rows": null,
            "grid_column": null,
            "grid_gap": null,
            "grid_row": null,
            "grid_template_areas": null,
            "grid_template_columns": null,
            "grid_template_rows": null,
            "height": null,
            "justify_content": null,
            "justify_items": null,
            "left": null,
            "margin": null,
            "max_height": null,
            "max_width": null,
            "min_height": null,
            "min_width": null,
            "object_fit": null,
            "object_position": null,
            "order": null,
            "overflow": null,
            "overflow_x": null,
            "overflow_y": null,
            "padding": null,
            "right": null,
            "top": null,
            "visibility": null,
            "width": null
          }
        },
        "eed131c60b0a483bafe9d3d3bf239c55": {
          "model_module": "@jupyter-widgets/controls",
          "model_name": "DescriptionStyleModel",
          "model_module_version": "1.5.0",
          "state": {
            "_model_module": "@jupyter-widgets/controls",
            "_model_module_version": "1.5.0",
            "_model_name": "DescriptionStyleModel",
            "_view_count": null,
            "_view_module": "@jupyter-widgets/base",
            "_view_module_version": "1.2.0",
            "_view_name": "StyleView",
            "description_width": ""
          }
        },
        "016b0867f7e049b0b0966dd0bfee478d": {
          "model_module": "@jupyter-widgets/base",
          "model_name": "LayoutModel",
          "model_module_version": "1.2.0",
          "state": {
            "_model_module": "@jupyter-widgets/base",
            "_model_module_version": "1.2.0",
            "_model_name": "LayoutModel",
            "_view_count": null,
            "_view_module": "@jupyter-widgets/base",
            "_view_module_version": "1.2.0",
            "_view_name": "LayoutView",
            "align_content": null,
            "align_items": null,
            "align_self": null,
            "border": null,
            "bottom": null,
            "display": null,
            "flex": null,
            "flex_flow": null,
            "grid_area": null,
            "grid_auto_columns": null,
            "grid_auto_flow": null,
            "grid_auto_rows": null,
            "grid_column": null,
            "grid_gap": null,
            "grid_row": null,
            "grid_template_areas": null,
            "grid_template_columns": null,
            "grid_template_rows": null,
            "height": null,
            "justify_content": null,
            "justify_items": null,
            "left": null,
            "margin": null,
            "max_height": null,
            "max_width": null,
            "min_height": null,
            "min_width": null,
            "object_fit": null,
            "object_position": null,
            "order": null,
            "overflow": null,
            "overflow_x": null,
            "overflow_y": null,
            "padding": null,
            "right": null,
            "top": null,
            "visibility": null,
            "width": "20px"
          }
        },
        "12d6e2437735401c8a56339faa4d8beb": {
          "model_module": "@jupyter-widgets/controls",
          "model_name": "ProgressStyleModel",
          "model_module_version": "1.5.0",
          "state": {
            "_model_module": "@jupyter-widgets/controls",
            "_model_module_version": "1.5.0",
            "_model_name": "ProgressStyleModel",
            "_view_count": null,
            "_view_module": "@jupyter-widgets/base",
            "_view_module_version": "1.2.0",
            "_view_name": "StyleView",
            "bar_color": null,
            "description_width": ""
          }
        },
        "f67815f4709347959e74b61f1d6d0c3a": {
          "model_module": "@jupyter-widgets/base",
          "model_name": "LayoutModel",
          "model_module_version": "1.2.0",
          "state": {
            "_model_module": "@jupyter-widgets/base",
            "_model_module_version": "1.2.0",
            "_model_name": "LayoutModel",
            "_view_count": null,
            "_view_module": "@jupyter-widgets/base",
            "_view_module_version": "1.2.0",
            "_view_name": "LayoutView",
            "align_content": null,
            "align_items": null,
            "align_self": null,
            "border": null,
            "bottom": null,
            "display": null,
            "flex": null,
            "flex_flow": null,
            "grid_area": null,
            "grid_auto_columns": null,
            "grid_auto_flow": null,
            "grid_auto_rows": null,
            "grid_column": null,
            "grid_gap": null,
            "grid_row": null,
            "grid_template_areas": null,
            "grid_template_columns": null,
            "grid_template_rows": null,
            "height": null,
            "justify_content": null,
            "justify_items": null,
            "left": null,
            "margin": null,
            "max_height": null,
            "max_width": null,
            "min_height": null,
            "min_width": null,
            "object_fit": null,
            "object_position": null,
            "order": null,
            "overflow": null,
            "overflow_x": null,
            "overflow_y": null,
            "padding": null,
            "right": null,
            "top": null,
            "visibility": null,
            "width": null
          }
        },
        "9494f220a4eb439597ab8a4a16fb41fb": {
          "model_module": "@jupyter-widgets/controls",
          "model_name": "DescriptionStyleModel",
          "model_module_version": "1.5.0",
          "state": {
            "_model_module": "@jupyter-widgets/controls",
            "_model_module_version": "1.5.0",
            "_model_name": "DescriptionStyleModel",
            "_view_count": null,
            "_view_module": "@jupyter-widgets/base",
            "_view_module_version": "1.2.0",
            "_view_name": "StyleView",
            "description_width": ""
          }
        },
        "8a28fd6a52fe4b2baee784ca1c7bb235": {
          "model_module": "@jupyter-widgets/controls",
          "model_name": "HBoxModel",
          "model_module_version": "1.5.0",
          "state": {
            "_dom_classes": [],
            "_model_module": "@jupyter-widgets/controls",
            "_model_module_version": "1.5.0",
            "_model_name": "HBoxModel",
            "_view_count": null,
            "_view_module": "@jupyter-widgets/controls",
            "_view_module_version": "1.5.0",
            "_view_name": "HBoxView",
            "box_style": "",
            "children": [
              "IPY_MODEL_2563cf90161242c7abe2970c2e182115",
              "IPY_MODEL_b1843ebf5f404a2d80b5c48a5b3a8f73",
              "IPY_MODEL_66b81ca1dced48ee81cad0289820b271"
            ],
            "layout": "IPY_MODEL_e72e4c3ddc93488f9c9f5acc1e697f59"
          }
        },
        "2563cf90161242c7abe2970c2e182115": {
          "model_module": "@jupyter-widgets/controls",
          "model_name": "HTMLModel",
          "model_module_version": "1.5.0",
          "state": {
            "_dom_classes": [],
            "_model_module": "@jupyter-widgets/controls",
            "_model_module_version": "1.5.0",
            "_model_name": "HTMLModel",
            "_view_count": null,
            "_view_module": "@jupyter-widgets/controls",
            "_view_module_version": "1.5.0",
            "_view_name": "HTMLView",
            "description": "",
            "description_tooltip": null,
            "layout": "IPY_MODEL_6aa3f5e6a34a494b8c970dda10340f61",
            "placeholder": "​",
            "style": "IPY_MODEL_364dcb42196d4b91a8a87398a2f21c1b",
            "value": "Downloading (…)/main/tokenizer.json: "
          }
        },
        "b1843ebf5f404a2d80b5c48a5b3a8f73": {
          "model_module": "@jupyter-widgets/controls",
          "model_name": "FloatProgressModel",
          "model_module_version": "1.5.0",
          "state": {
            "_dom_classes": [],
            "_model_module": "@jupyter-widgets/controls",
            "_model_module_version": "1.5.0",
            "_model_name": "FloatProgressModel",
            "_view_count": null,
            "_view_module": "@jupyter-widgets/controls",
            "_view_module_version": "1.5.0",
            "_view_name": "ProgressView",
            "bar_style": "success",
            "description": "",
            "description_tooltip": null,
            "layout": "IPY_MODEL_6ddad49ce72942d09c418f56fd2bd7f7",
            "max": 1,
            "min": 0,
            "orientation": "horizontal",
            "style": "IPY_MODEL_15caeddea3bc439fac64c0c368dedd13",
            "value": 1
          }
        },
        "66b81ca1dced48ee81cad0289820b271": {
          "model_module": "@jupyter-widgets/controls",
          "model_name": "HTMLModel",
          "model_module_version": "1.5.0",
          "state": {
            "_dom_classes": [],
            "_model_module": "@jupyter-widgets/controls",
            "_model_module_version": "1.5.0",
            "_model_name": "HTMLModel",
            "_view_count": null,
            "_view_module": "@jupyter-widgets/controls",
            "_view_module_version": "1.5.0",
            "_view_name": "HTMLView",
            "description": "",
            "description_tooltip": null,
            "layout": "IPY_MODEL_c37a2a119b554b89af383924f9ccb1fd",
            "placeholder": "​",
            "style": "IPY_MODEL_c348f64bb76c43b3a766da10406f7e6d",
            "value": " 439k/? [00:00&lt;00:00, 13.5MB/s]"
          }
        },
        "e72e4c3ddc93488f9c9f5acc1e697f59": {
          "model_module": "@jupyter-widgets/base",
          "model_name": "LayoutModel",
          "model_module_version": "1.2.0",
          "state": {
            "_model_module": "@jupyter-widgets/base",
            "_model_module_version": "1.2.0",
            "_model_name": "LayoutModel",
            "_view_count": null,
            "_view_module": "@jupyter-widgets/base",
            "_view_module_version": "1.2.0",
            "_view_name": "LayoutView",
            "align_content": null,
            "align_items": null,
            "align_self": null,
            "border": null,
            "bottom": null,
            "display": null,
            "flex": null,
            "flex_flow": null,
            "grid_area": null,
            "grid_auto_columns": null,
            "grid_auto_flow": null,
            "grid_auto_rows": null,
            "grid_column": null,
            "grid_gap": null,
            "grid_row": null,
            "grid_template_areas": null,
            "grid_template_columns": null,
            "grid_template_rows": null,
            "height": null,
            "justify_content": null,
            "justify_items": null,
            "left": null,
            "margin": null,
            "max_height": null,
            "max_width": null,
            "min_height": null,
            "min_width": null,
            "object_fit": null,
            "object_position": null,
            "order": null,
            "overflow": null,
            "overflow_x": null,
            "overflow_y": null,
            "padding": null,
            "right": null,
            "top": null,
            "visibility": null,
            "width": null
          }
        },
        "6aa3f5e6a34a494b8c970dda10340f61": {
          "model_module": "@jupyter-widgets/base",
          "model_name": "LayoutModel",
          "model_module_version": "1.2.0",
          "state": {
            "_model_module": "@jupyter-widgets/base",
            "_model_module_version": "1.2.0",
            "_model_name": "LayoutModel",
            "_view_count": null,
            "_view_module": "@jupyter-widgets/base",
            "_view_module_version": "1.2.0",
            "_view_name": "LayoutView",
            "align_content": null,
            "align_items": null,
            "align_self": null,
            "border": null,
            "bottom": null,
            "display": null,
            "flex": null,
            "flex_flow": null,
            "grid_area": null,
            "grid_auto_columns": null,
            "grid_auto_flow": null,
            "grid_auto_rows": null,
            "grid_column": null,
            "grid_gap": null,
            "grid_row": null,
            "grid_template_areas": null,
            "grid_template_columns": null,
            "grid_template_rows": null,
            "height": null,
            "justify_content": null,
            "justify_items": null,
            "left": null,
            "margin": null,
            "max_height": null,
            "max_width": null,
            "min_height": null,
            "min_width": null,
            "object_fit": null,
            "object_position": null,
            "order": null,
            "overflow": null,
            "overflow_x": null,
            "overflow_y": null,
            "padding": null,
            "right": null,
            "top": null,
            "visibility": null,
            "width": null
          }
        },
        "364dcb42196d4b91a8a87398a2f21c1b": {
          "model_module": "@jupyter-widgets/controls",
          "model_name": "DescriptionStyleModel",
          "model_module_version": "1.5.0",
          "state": {
            "_model_module": "@jupyter-widgets/controls",
            "_model_module_version": "1.5.0",
            "_model_name": "DescriptionStyleModel",
            "_view_count": null,
            "_view_module": "@jupyter-widgets/base",
            "_view_module_version": "1.2.0",
            "_view_name": "StyleView",
            "description_width": ""
          }
        },
        "6ddad49ce72942d09c418f56fd2bd7f7": {
          "model_module": "@jupyter-widgets/base",
          "model_name": "LayoutModel",
          "model_module_version": "1.2.0",
          "state": {
            "_model_module": "@jupyter-widgets/base",
            "_model_module_version": "1.2.0",
            "_model_name": "LayoutModel",
            "_view_count": null,
            "_view_module": "@jupyter-widgets/base",
            "_view_module_version": "1.2.0",
            "_view_name": "LayoutView",
            "align_content": null,
            "align_items": null,
            "align_self": null,
            "border": null,
            "bottom": null,
            "display": null,
            "flex": null,
            "flex_flow": null,
            "grid_area": null,
            "grid_auto_columns": null,
            "grid_auto_flow": null,
            "grid_auto_rows": null,
            "grid_column": null,
            "grid_gap": null,
            "grid_row": null,
            "grid_template_areas": null,
            "grid_template_columns": null,
            "grid_template_rows": null,
            "height": null,
            "justify_content": null,
            "justify_items": null,
            "left": null,
            "margin": null,
            "max_height": null,
            "max_width": null,
            "min_height": null,
            "min_width": null,
            "object_fit": null,
            "object_position": null,
            "order": null,
            "overflow": null,
            "overflow_x": null,
            "overflow_y": null,
            "padding": null,
            "right": null,
            "top": null,
            "visibility": null,
            "width": "20px"
          }
        },
        "15caeddea3bc439fac64c0c368dedd13": {
          "model_module": "@jupyter-widgets/controls",
          "model_name": "ProgressStyleModel",
          "model_module_version": "1.5.0",
          "state": {
            "_model_module": "@jupyter-widgets/controls",
            "_model_module_version": "1.5.0",
            "_model_name": "ProgressStyleModel",
            "_view_count": null,
            "_view_module": "@jupyter-widgets/base",
            "_view_module_version": "1.2.0",
            "_view_name": "StyleView",
            "bar_color": null,
            "description_width": ""
          }
        },
        "c37a2a119b554b89af383924f9ccb1fd": {
          "model_module": "@jupyter-widgets/base",
          "model_name": "LayoutModel",
          "model_module_version": "1.2.0",
          "state": {
            "_model_module": "@jupyter-widgets/base",
            "_model_module_version": "1.2.0",
            "_model_name": "LayoutModel",
            "_view_count": null,
            "_view_module": "@jupyter-widgets/base",
            "_view_module_version": "1.2.0",
            "_view_name": "LayoutView",
            "align_content": null,
            "align_items": null,
            "align_self": null,
            "border": null,
            "bottom": null,
            "display": null,
            "flex": null,
            "flex_flow": null,
            "grid_area": null,
            "grid_auto_columns": null,
            "grid_auto_flow": null,
            "grid_auto_rows": null,
            "grid_column": null,
            "grid_gap": null,
            "grid_row": null,
            "grid_template_areas": null,
            "grid_template_columns": null,
            "grid_template_rows": null,
            "height": null,
            "justify_content": null,
            "justify_items": null,
            "left": null,
            "margin": null,
            "max_height": null,
            "max_width": null,
            "min_height": null,
            "min_width": null,
            "object_fit": null,
            "object_position": null,
            "order": null,
            "overflow": null,
            "overflow_x": null,
            "overflow_y": null,
            "padding": null,
            "right": null,
            "top": null,
            "visibility": null,
            "width": null
          }
        },
        "c348f64bb76c43b3a766da10406f7e6d": {
          "model_module": "@jupyter-widgets/controls",
          "model_name": "DescriptionStyleModel",
          "model_module_version": "1.5.0",
          "state": {
            "_model_module": "@jupyter-widgets/controls",
            "_model_module_version": "1.5.0",
            "_model_name": "DescriptionStyleModel",
            "_view_count": null,
            "_view_module": "@jupyter-widgets/base",
            "_view_module_version": "1.2.0",
            "_view_name": "StyleView",
            "description_width": ""
          }
        },
        "7f933ddb12dd4d6ab2d0b0c02bcdcaa4": {
          "model_module": "@jupyter-widgets/controls",
          "model_name": "HBoxModel",
          "model_module_version": "1.5.0",
          "state": {
            "_dom_classes": [],
            "_model_module": "@jupyter-widgets/controls",
            "_model_module_version": "1.5.0",
            "_model_name": "HBoxModel",
            "_view_count": null,
            "_view_module": "@jupyter-widgets/controls",
            "_view_module_version": "1.5.0",
            "_view_name": "HBoxView",
            "box_style": "",
            "children": [
              "IPY_MODEL_3e8c7104f26e436f999f9f7a02b011a3",
              "IPY_MODEL_462a1c6d3d894dd79ea113fa00c58e82",
              "IPY_MODEL_c99b3ffc82e541fbb2d334d1d74e662e"
            ],
            "layout": "IPY_MODEL_9a3752518bec46ed9becf87aace1753c"
          }
        },
        "3e8c7104f26e436f999f9f7a02b011a3": {
          "model_module": "@jupyter-widgets/controls",
          "model_name": "HTMLModel",
          "model_module_version": "1.5.0",
          "state": {
            "_dom_classes": [],
            "_model_module": "@jupyter-widgets/controls",
            "_model_module_version": "1.5.0",
            "_model_name": "HTMLModel",
            "_view_count": null,
            "_view_module": "@jupyter-widgets/controls",
            "_view_module_version": "1.5.0",
            "_view_name": "HTMLView",
            "description": "",
            "description_tooltip": null,
            "layout": "IPY_MODEL_2ec2fba7967845ef9b8b514efb724190",
            "placeholder": "​",
            "style": "IPY_MODEL_3244ff5c47044b0abf4b43cacc46ce5c",
            "value": "Downloading (…)cial_tokens_map.json: 100%"
          }
        },
        "462a1c6d3d894dd79ea113fa00c58e82": {
          "model_module": "@jupyter-widgets/controls",
          "model_name": "FloatProgressModel",
          "model_module_version": "1.5.0",
          "state": {
            "_dom_classes": [],
            "_model_module": "@jupyter-widgets/controls",
            "_model_module_version": "1.5.0",
            "_model_name": "FloatProgressModel",
            "_view_count": null,
            "_view_module": "@jupyter-widgets/controls",
            "_view_module_version": "1.5.0",
            "_view_name": "ProgressView",
            "bar_style": "success",
            "description": "",
            "description_tooltip": null,
            "layout": "IPY_MODEL_1e2cc109d50d4237a607c01001d1ae22",
            "max": 125,
            "min": 0,
            "orientation": "horizontal",
            "style": "IPY_MODEL_74a544a1ba20476f95aec4e56e872707",
            "value": 125
          }
        },
        "c99b3ffc82e541fbb2d334d1d74e662e": {
          "model_module": "@jupyter-widgets/controls",
          "model_name": "HTMLModel",
          "model_module_version": "1.5.0",
          "state": {
            "_dom_classes": [],
            "_model_module": "@jupyter-widgets/controls",
            "_model_module_version": "1.5.0",
            "_model_name": "HTMLModel",
            "_view_count": null,
            "_view_module": "@jupyter-widgets/controls",
            "_view_module_version": "1.5.0",
            "_view_name": "HTMLView",
            "description": "",
            "description_tooltip": null,
            "layout": "IPY_MODEL_c5e035dd2697475dbf8215cbf18ea856",
            "placeholder": "​",
            "style": "IPY_MODEL_36d536722cc84fc09f47ee4615552c1c",
            "value": " 125/125 [00:00&lt;00:00, 10.6kB/s]"
          }
        },
        "9a3752518bec46ed9becf87aace1753c": {
          "model_module": "@jupyter-widgets/base",
          "model_name": "LayoutModel",
          "model_module_version": "1.2.0",
          "state": {
            "_model_module": "@jupyter-widgets/base",
            "_model_module_version": "1.2.0",
            "_model_name": "LayoutModel",
            "_view_count": null,
            "_view_module": "@jupyter-widgets/base",
            "_view_module_version": "1.2.0",
            "_view_name": "LayoutView",
            "align_content": null,
            "align_items": null,
            "align_self": null,
            "border": null,
            "bottom": null,
            "display": null,
            "flex": null,
            "flex_flow": null,
            "grid_area": null,
            "grid_auto_columns": null,
            "grid_auto_flow": null,
            "grid_auto_rows": null,
            "grid_column": null,
            "grid_gap": null,
            "grid_row": null,
            "grid_template_areas": null,
            "grid_template_columns": null,
            "grid_template_rows": null,
            "height": null,
            "justify_content": null,
            "justify_items": null,
            "left": null,
            "margin": null,
            "max_height": null,
            "max_width": null,
            "min_height": null,
            "min_width": null,
            "object_fit": null,
            "object_position": null,
            "order": null,
            "overflow": null,
            "overflow_x": null,
            "overflow_y": null,
            "padding": null,
            "right": null,
            "top": null,
            "visibility": null,
            "width": null
          }
        },
        "2ec2fba7967845ef9b8b514efb724190": {
          "model_module": "@jupyter-widgets/base",
          "model_name": "LayoutModel",
          "model_module_version": "1.2.0",
          "state": {
            "_model_module": "@jupyter-widgets/base",
            "_model_module_version": "1.2.0",
            "_model_name": "LayoutModel",
            "_view_count": null,
            "_view_module": "@jupyter-widgets/base",
            "_view_module_version": "1.2.0",
            "_view_name": "LayoutView",
            "align_content": null,
            "align_items": null,
            "align_self": null,
            "border": null,
            "bottom": null,
            "display": null,
            "flex": null,
            "flex_flow": null,
            "grid_area": null,
            "grid_auto_columns": null,
            "grid_auto_flow": null,
            "grid_auto_rows": null,
            "grid_column": null,
            "grid_gap": null,
            "grid_row": null,
            "grid_template_areas": null,
            "grid_template_columns": null,
            "grid_template_rows": null,
            "height": null,
            "justify_content": null,
            "justify_items": null,
            "left": null,
            "margin": null,
            "max_height": null,
            "max_width": null,
            "min_height": null,
            "min_width": null,
            "object_fit": null,
            "object_position": null,
            "order": null,
            "overflow": null,
            "overflow_x": null,
            "overflow_y": null,
            "padding": null,
            "right": null,
            "top": null,
            "visibility": null,
            "width": null
          }
        },
        "3244ff5c47044b0abf4b43cacc46ce5c": {
          "model_module": "@jupyter-widgets/controls",
          "model_name": "DescriptionStyleModel",
          "model_module_version": "1.5.0",
          "state": {
            "_model_module": "@jupyter-widgets/controls",
            "_model_module_version": "1.5.0",
            "_model_name": "DescriptionStyleModel",
            "_view_count": null,
            "_view_module": "@jupyter-widgets/base",
            "_view_module_version": "1.2.0",
            "_view_name": "StyleView",
            "description_width": ""
          }
        },
        "1e2cc109d50d4237a607c01001d1ae22": {
          "model_module": "@jupyter-widgets/base",
          "model_name": "LayoutModel",
          "model_module_version": "1.2.0",
          "state": {
            "_model_module": "@jupyter-widgets/base",
            "_model_module_version": "1.2.0",
            "_model_name": "LayoutModel",
            "_view_count": null,
            "_view_module": "@jupyter-widgets/base",
            "_view_module_version": "1.2.0",
            "_view_name": "LayoutView",
            "align_content": null,
            "align_items": null,
            "align_self": null,
            "border": null,
            "bottom": null,
            "display": null,
            "flex": null,
            "flex_flow": null,
            "grid_area": null,
            "grid_auto_columns": null,
            "grid_auto_flow": null,
            "grid_auto_rows": null,
            "grid_column": null,
            "grid_gap": null,
            "grid_row": null,
            "grid_template_areas": null,
            "grid_template_columns": null,
            "grid_template_rows": null,
            "height": null,
            "justify_content": null,
            "justify_items": null,
            "left": null,
            "margin": null,
            "max_height": null,
            "max_width": null,
            "min_height": null,
            "min_width": null,
            "object_fit": null,
            "object_position": null,
            "order": null,
            "overflow": null,
            "overflow_x": null,
            "overflow_y": null,
            "padding": null,
            "right": null,
            "top": null,
            "visibility": null,
            "width": null
          }
        },
        "74a544a1ba20476f95aec4e56e872707": {
          "model_module": "@jupyter-widgets/controls",
          "model_name": "ProgressStyleModel",
          "model_module_version": "1.5.0",
          "state": {
            "_model_module": "@jupyter-widgets/controls",
            "_model_module_version": "1.5.0",
            "_model_name": "ProgressStyleModel",
            "_view_count": null,
            "_view_module": "@jupyter-widgets/base",
            "_view_module_version": "1.2.0",
            "_view_name": "StyleView",
            "bar_color": null,
            "description_width": ""
          }
        },
        "c5e035dd2697475dbf8215cbf18ea856": {
          "model_module": "@jupyter-widgets/base",
          "model_name": "LayoutModel",
          "model_module_version": "1.2.0",
          "state": {
            "_model_module": "@jupyter-widgets/base",
            "_model_module_version": "1.2.0",
            "_model_name": "LayoutModel",
            "_view_count": null,
            "_view_module": "@jupyter-widgets/base",
            "_view_module_version": "1.2.0",
            "_view_name": "LayoutView",
            "align_content": null,
            "align_items": null,
            "align_self": null,
            "border": null,
            "bottom": null,
            "display": null,
            "flex": null,
            "flex_flow": null,
            "grid_area": null,
            "grid_auto_columns": null,
            "grid_auto_flow": null,
            "grid_auto_rows": null,
            "grid_column": null,
            "grid_gap": null,
            "grid_row": null,
            "grid_template_areas": null,
            "grid_template_columns": null,
            "grid_template_rows": null,
            "height": null,
            "justify_content": null,
            "justify_items": null,
            "left": null,
            "margin": null,
            "max_height": null,
            "max_width": null,
            "min_height": null,
            "min_width": null,
            "object_fit": null,
            "object_position": null,
            "order": null,
            "overflow": null,
            "overflow_x": null,
            "overflow_y": null,
            "padding": null,
            "right": null,
            "top": null,
            "visibility": null,
            "width": null
          }
        },
        "36d536722cc84fc09f47ee4615552c1c": {
          "model_module": "@jupyter-widgets/controls",
          "model_name": "DescriptionStyleModel",
          "model_module_version": "1.5.0",
          "state": {
            "_model_module": "@jupyter-widgets/controls",
            "_model_module_version": "1.5.0",
            "_model_name": "DescriptionStyleModel",
            "_view_count": null,
            "_view_module": "@jupyter-widgets/base",
            "_view_module_version": "1.2.0",
            "_view_name": "StyleView",
            "description_width": ""
          }
        },
        "793fef29772644a087d89f83e949a80f": {
          "model_module": "@jupyter-widgets/controls",
          "model_name": "HBoxModel",
          "model_module_version": "1.5.0",
          "state": {
            "_dom_classes": [],
            "_model_module": "@jupyter-widgets/controls",
            "_model_module_version": "1.5.0",
            "_model_name": "HBoxModel",
            "_view_count": null,
            "_view_module": "@jupyter-widgets/controls",
            "_view_module_version": "1.5.0",
            "_view_name": "HBoxView",
            "box_style": "",
            "children": [
              "IPY_MODEL_078bf490b7874de4ac1015fb222b1082",
              "IPY_MODEL_358744580ee24e02a1622bc5c1fff34c",
              "IPY_MODEL_6383ea69189d469b8e118305729bc26d"
            ],
            "layout": "IPY_MODEL_cea8f08a927040649fbedffb7f09c554"
          }
        },
        "078bf490b7874de4ac1015fb222b1082": {
          "model_module": "@jupyter-widgets/controls",
          "model_name": "HTMLModel",
          "model_module_version": "1.5.0",
          "state": {
            "_dom_classes": [],
            "_model_module": "@jupyter-widgets/controls",
            "_model_module_version": "1.5.0",
            "_model_name": "HTMLModel",
            "_view_count": null,
            "_view_module": "@jupyter-widgets/controls",
            "_view_module_version": "1.5.0",
            "_view_name": "HTMLView",
            "description": "",
            "description_tooltip": null,
            "layout": "IPY_MODEL_38c69a5cf0574653bb65580500bd3e64",
            "placeholder": "​",
            "style": "IPY_MODEL_ba05c06992c644d4acccc7d404605bf8",
            "value": "Downloading (…)lve/main/config.json: 100%"
          }
        },
        "358744580ee24e02a1622bc5c1fff34c": {
          "model_module": "@jupyter-widgets/controls",
          "model_name": "FloatProgressModel",
          "model_module_version": "1.5.0",
          "state": {
            "_dom_classes": [],
            "_model_module": "@jupyter-widgets/controls",
            "_model_module_version": "1.5.0",
            "_model_name": "FloatProgressModel",
            "_view_count": null,
            "_view_module": "@jupyter-widgets/controls",
            "_view_module_version": "1.5.0",
            "_view_name": "ProgressView",
            "bar_style": "success",
            "description": "",
            "description_tooltip": null,
            "layout": "IPY_MODEL_a2b5e089f46f4467a3708a679ec517a0",
            "max": 966,
            "min": 0,
            "orientation": "horizontal",
            "style": "IPY_MODEL_969f139ccde94fecb6cf8e224b5deb24",
            "value": 966
          }
        },
        "6383ea69189d469b8e118305729bc26d": {
          "model_module": "@jupyter-widgets/controls",
          "model_name": "HTMLModel",
          "model_module_version": "1.5.0",
          "state": {
            "_dom_classes": [],
            "_model_module": "@jupyter-widgets/controls",
            "_model_module_version": "1.5.0",
            "_model_name": "HTMLModel",
            "_view_count": null,
            "_view_module": "@jupyter-widgets/controls",
            "_view_module_version": "1.5.0",
            "_view_name": "HTMLView",
            "description": "",
            "description_tooltip": null,
            "layout": "IPY_MODEL_e9457405333c4c09be70838612ce2e45",
            "placeholder": "​",
            "style": "IPY_MODEL_753b1e28ab5545c8ae9d9343eb924a70",
            "value": " 966/966 [00:00&lt;00:00, 72.1kB/s]"
          }
        },
        "cea8f08a927040649fbedffb7f09c554": {
          "model_module": "@jupyter-widgets/base",
          "model_name": "LayoutModel",
          "model_module_version": "1.2.0",
          "state": {
            "_model_module": "@jupyter-widgets/base",
            "_model_module_version": "1.2.0",
            "_model_name": "LayoutModel",
            "_view_count": null,
            "_view_module": "@jupyter-widgets/base",
            "_view_module_version": "1.2.0",
            "_view_name": "LayoutView",
            "align_content": null,
            "align_items": null,
            "align_self": null,
            "border": null,
            "bottom": null,
            "display": null,
            "flex": null,
            "flex_flow": null,
            "grid_area": null,
            "grid_auto_columns": null,
            "grid_auto_flow": null,
            "grid_auto_rows": null,
            "grid_column": null,
            "grid_gap": null,
            "grid_row": null,
            "grid_template_areas": null,
            "grid_template_columns": null,
            "grid_template_rows": null,
            "height": null,
            "justify_content": null,
            "justify_items": null,
            "left": null,
            "margin": null,
            "max_height": null,
            "max_width": null,
            "min_height": null,
            "min_width": null,
            "object_fit": null,
            "object_position": null,
            "order": null,
            "overflow": null,
            "overflow_x": null,
            "overflow_y": null,
            "padding": null,
            "right": null,
            "top": null,
            "visibility": null,
            "width": null
          }
        },
        "38c69a5cf0574653bb65580500bd3e64": {
          "model_module": "@jupyter-widgets/base",
          "model_name": "LayoutModel",
          "model_module_version": "1.2.0",
          "state": {
            "_model_module": "@jupyter-widgets/base",
            "_model_module_version": "1.2.0",
            "_model_name": "LayoutModel",
            "_view_count": null,
            "_view_module": "@jupyter-widgets/base",
            "_view_module_version": "1.2.0",
            "_view_name": "LayoutView",
            "align_content": null,
            "align_items": null,
            "align_self": null,
            "border": null,
            "bottom": null,
            "display": null,
            "flex": null,
            "flex_flow": null,
            "grid_area": null,
            "grid_auto_columns": null,
            "grid_auto_flow": null,
            "grid_auto_rows": null,
            "grid_column": null,
            "grid_gap": null,
            "grid_row": null,
            "grid_template_areas": null,
            "grid_template_columns": null,
            "grid_template_rows": null,
            "height": null,
            "justify_content": null,
            "justify_items": null,
            "left": null,
            "margin": null,
            "max_height": null,
            "max_width": null,
            "min_height": null,
            "min_width": null,
            "object_fit": null,
            "object_position": null,
            "order": null,
            "overflow": null,
            "overflow_x": null,
            "overflow_y": null,
            "padding": null,
            "right": null,
            "top": null,
            "visibility": null,
            "width": null
          }
        },
        "ba05c06992c644d4acccc7d404605bf8": {
          "model_module": "@jupyter-widgets/controls",
          "model_name": "DescriptionStyleModel",
          "model_module_version": "1.5.0",
          "state": {
            "_model_module": "@jupyter-widgets/controls",
            "_model_module_version": "1.5.0",
            "_model_name": "DescriptionStyleModel",
            "_view_count": null,
            "_view_module": "@jupyter-widgets/base",
            "_view_module_version": "1.2.0",
            "_view_name": "StyleView",
            "description_width": ""
          }
        },
        "a2b5e089f46f4467a3708a679ec517a0": {
          "model_module": "@jupyter-widgets/base",
          "model_name": "LayoutModel",
          "model_module_version": "1.2.0",
          "state": {
            "_model_module": "@jupyter-widgets/base",
            "_model_module_version": "1.2.0",
            "_model_name": "LayoutModel",
            "_view_count": null,
            "_view_module": "@jupyter-widgets/base",
            "_view_module_version": "1.2.0",
            "_view_name": "LayoutView",
            "align_content": null,
            "align_items": null,
            "align_self": null,
            "border": null,
            "bottom": null,
            "display": null,
            "flex": null,
            "flex_flow": null,
            "grid_area": null,
            "grid_auto_columns": null,
            "grid_auto_flow": null,
            "grid_auto_rows": null,
            "grid_column": null,
            "grid_gap": null,
            "grid_row": null,
            "grid_template_areas": null,
            "grid_template_columns": null,
            "grid_template_rows": null,
            "height": null,
            "justify_content": null,
            "justify_items": null,
            "left": null,
            "margin": null,
            "max_height": null,
            "max_width": null,
            "min_height": null,
            "min_width": null,
            "object_fit": null,
            "object_position": null,
            "order": null,
            "overflow": null,
            "overflow_x": null,
            "overflow_y": null,
            "padding": null,
            "right": null,
            "top": null,
            "visibility": null,
            "width": null
          }
        },
        "969f139ccde94fecb6cf8e224b5deb24": {
          "model_module": "@jupyter-widgets/controls",
          "model_name": "ProgressStyleModel",
          "model_module_version": "1.5.0",
          "state": {
            "_model_module": "@jupyter-widgets/controls",
            "_model_module_version": "1.5.0",
            "_model_name": "ProgressStyleModel",
            "_view_count": null,
            "_view_module": "@jupyter-widgets/base",
            "_view_module_version": "1.2.0",
            "_view_name": "StyleView",
            "bar_color": null,
            "description_width": ""
          }
        },
        "e9457405333c4c09be70838612ce2e45": {
          "model_module": "@jupyter-widgets/base",
          "model_name": "LayoutModel",
          "model_module_version": "1.2.0",
          "state": {
            "_model_module": "@jupyter-widgets/base",
            "_model_module_version": "1.2.0",
            "_model_name": "LayoutModel",
            "_view_count": null,
            "_view_module": "@jupyter-widgets/base",
            "_view_module_version": "1.2.0",
            "_view_name": "LayoutView",
            "align_content": null,
            "align_items": null,
            "align_self": null,
            "border": null,
            "bottom": null,
            "display": null,
            "flex": null,
            "flex_flow": null,
            "grid_area": null,
            "grid_auto_columns": null,
            "grid_auto_flow": null,
            "grid_auto_rows": null,
            "grid_column": null,
            "grid_gap": null,
            "grid_row": null,
            "grid_template_areas": null,
            "grid_template_columns": null,
            "grid_template_rows": null,
            "height": null,
            "justify_content": null,
            "justify_items": null,
            "left": null,
            "margin": null,
            "max_height": null,
            "max_width": null,
            "min_height": null,
            "min_width": null,
            "object_fit": null,
            "object_position": null,
            "order": null,
            "overflow": null,
            "overflow_x": null,
            "overflow_y": null,
            "padding": null,
            "right": null,
            "top": null,
            "visibility": null,
            "width": null
          }
        },
        "753b1e28ab5545c8ae9d9343eb924a70": {
          "model_module": "@jupyter-widgets/controls",
          "model_name": "DescriptionStyleModel",
          "model_module_version": "1.5.0",
          "state": {
            "_model_module": "@jupyter-widgets/controls",
            "_model_module_version": "1.5.0",
            "_model_name": "DescriptionStyleModel",
            "_view_count": null,
            "_view_module": "@jupyter-widgets/base",
            "_view_module_version": "1.2.0",
            "_view_name": "StyleView",
            "description_width": ""
          }
        },
        "0063184fba994f80aaa94e451361da0b": {
          "model_module": "@jupyter-widgets/controls",
          "model_name": "HBoxModel",
          "model_module_version": "1.5.0",
          "state": {
            "_dom_classes": [],
            "_model_module": "@jupyter-widgets/controls",
            "_model_module_version": "1.5.0",
            "_model_name": "HBoxModel",
            "_view_count": null,
            "_view_module": "@jupyter-widgets/controls",
            "_view_module_version": "1.5.0",
            "_view_name": "HBoxView",
            "box_style": "",
            "children": [
              "IPY_MODEL_73c9a6359e5f44fb9b689c5d569bec4a",
              "IPY_MODEL_182159190863449c9f509977d9c6276d",
              "IPY_MODEL_5ae7f97f50864188931a329497bda746"
            ],
            "layout": "IPY_MODEL_5efcf7b4734b460a88ea64815d84d4e8"
          }
        },
        "73c9a6359e5f44fb9b689c5d569bec4a": {
          "model_module": "@jupyter-widgets/controls",
          "model_name": "HTMLModel",
          "model_module_version": "1.5.0",
          "state": {
            "_dom_classes": [],
            "_model_module": "@jupyter-widgets/controls",
            "_model_module_version": "1.5.0",
            "_model_name": "HTMLModel",
            "_view_count": null,
            "_view_module": "@jupyter-widgets/controls",
            "_view_module_version": "1.5.0",
            "_view_name": "HTMLView",
            "description": "",
            "description_tooltip": null,
            "layout": "IPY_MODEL_414d484d22c54438a231a8c025c0a7a2",
            "placeholder": "​",
            "style": "IPY_MODEL_2ef76acacb714963af1f519057205be2",
            "value": "Downloading (…)solve/main/models.py: "
          }
        },
        "182159190863449c9f509977d9c6276d": {
          "model_module": "@jupyter-widgets/controls",
          "model_name": "FloatProgressModel",
          "model_module_version": "1.5.0",
          "state": {
            "_dom_classes": [],
            "_model_module": "@jupyter-widgets/controls",
            "_model_module_version": "1.5.0",
            "_model_name": "FloatProgressModel",
            "_view_count": null,
            "_view_module": "@jupyter-widgets/controls",
            "_view_module_version": "1.5.0",
            "_view_name": "ProgressView",
            "bar_style": "success",
            "description": "",
            "description_tooltip": null,
            "layout": "IPY_MODEL_de4741ddff1e415093b8bb51379fd9cc",
            "max": 1,
            "min": 0,
            "orientation": "horizontal",
            "style": "IPY_MODEL_e85c70a7313c48e2b18dfea81c0fa5b0",
            "value": 1
          }
        },
        "5ae7f97f50864188931a329497bda746": {
          "model_module": "@jupyter-widgets/controls",
          "model_name": "HTMLModel",
          "model_module_version": "1.5.0",
          "state": {
            "_dom_classes": [],
            "_model_module": "@jupyter-widgets/controls",
            "_model_module_version": "1.5.0",
            "_model_name": "HTMLModel",
            "_view_count": null,
            "_view_module": "@jupyter-widgets/controls",
            "_view_module_version": "1.5.0",
            "_view_name": "HTMLView",
            "description": "",
            "description_tooltip": null,
            "layout": "IPY_MODEL_f1e44dc500724105afdbafba6d1121ec",
            "placeholder": "​",
            "style": "IPY_MODEL_fe8955d449b84696b2ae75d5363a96be",
            "value": " 21.1k/? [00:00&lt;00:00, 1.25MB/s]"
          }
        },
        "5efcf7b4734b460a88ea64815d84d4e8": {
          "model_module": "@jupyter-widgets/base",
          "model_name": "LayoutModel",
          "model_module_version": "1.2.0",
          "state": {
            "_model_module": "@jupyter-widgets/base",
            "_model_module_version": "1.2.0",
            "_model_name": "LayoutModel",
            "_view_count": null,
            "_view_module": "@jupyter-widgets/base",
            "_view_module_version": "1.2.0",
            "_view_name": "LayoutView",
            "align_content": null,
            "align_items": null,
            "align_self": null,
            "border": null,
            "bottom": null,
            "display": null,
            "flex": null,
            "flex_flow": null,
            "grid_area": null,
            "grid_auto_columns": null,
            "grid_auto_flow": null,
            "grid_auto_rows": null,
            "grid_column": null,
            "grid_gap": null,
            "grid_row": null,
            "grid_template_areas": null,
            "grid_template_columns": null,
            "grid_template_rows": null,
            "height": null,
            "justify_content": null,
            "justify_items": null,
            "left": null,
            "margin": null,
            "max_height": null,
            "max_width": null,
            "min_height": null,
            "min_width": null,
            "object_fit": null,
            "object_position": null,
            "order": null,
            "overflow": null,
            "overflow_x": null,
            "overflow_y": null,
            "padding": null,
            "right": null,
            "top": null,
            "visibility": null,
            "width": null
          }
        },
        "414d484d22c54438a231a8c025c0a7a2": {
          "model_module": "@jupyter-widgets/base",
          "model_name": "LayoutModel",
          "model_module_version": "1.2.0",
          "state": {
            "_model_module": "@jupyter-widgets/base",
            "_model_module_version": "1.2.0",
            "_model_name": "LayoutModel",
            "_view_count": null,
            "_view_module": "@jupyter-widgets/base",
            "_view_module_version": "1.2.0",
            "_view_name": "LayoutView",
            "align_content": null,
            "align_items": null,
            "align_self": null,
            "border": null,
            "bottom": null,
            "display": null,
            "flex": null,
            "flex_flow": null,
            "grid_area": null,
            "grid_auto_columns": null,
            "grid_auto_flow": null,
            "grid_auto_rows": null,
            "grid_column": null,
            "grid_gap": null,
            "grid_row": null,
            "grid_template_areas": null,
            "grid_template_columns": null,
            "grid_template_rows": null,
            "height": null,
            "justify_content": null,
            "justify_items": null,
            "left": null,
            "margin": null,
            "max_height": null,
            "max_width": null,
            "min_height": null,
            "min_width": null,
            "object_fit": null,
            "object_position": null,
            "order": null,
            "overflow": null,
            "overflow_x": null,
            "overflow_y": null,
            "padding": null,
            "right": null,
            "top": null,
            "visibility": null,
            "width": null
          }
        },
        "2ef76acacb714963af1f519057205be2": {
          "model_module": "@jupyter-widgets/controls",
          "model_name": "DescriptionStyleModel",
          "model_module_version": "1.5.0",
          "state": {
            "_model_module": "@jupyter-widgets/controls",
            "_model_module_version": "1.5.0",
            "_model_name": "DescriptionStyleModel",
            "_view_count": null,
            "_view_module": "@jupyter-widgets/base",
            "_view_module_version": "1.2.0",
            "_view_name": "StyleView",
            "description_width": ""
          }
        },
        "de4741ddff1e415093b8bb51379fd9cc": {
          "model_module": "@jupyter-widgets/base",
          "model_name": "LayoutModel",
          "model_module_version": "1.2.0",
          "state": {
            "_model_module": "@jupyter-widgets/base",
            "_model_module_version": "1.2.0",
            "_model_name": "LayoutModel",
            "_view_count": null,
            "_view_module": "@jupyter-widgets/base",
            "_view_module_version": "1.2.0",
            "_view_name": "LayoutView",
            "align_content": null,
            "align_items": null,
            "align_self": null,
            "border": null,
            "bottom": null,
            "display": null,
            "flex": null,
            "flex_flow": null,
            "grid_area": null,
            "grid_auto_columns": null,
            "grid_auto_flow": null,
            "grid_auto_rows": null,
            "grid_column": null,
            "grid_gap": null,
            "grid_row": null,
            "grid_template_areas": null,
            "grid_template_columns": null,
            "grid_template_rows": null,
            "height": null,
            "justify_content": null,
            "justify_items": null,
            "left": null,
            "margin": null,
            "max_height": null,
            "max_width": null,
            "min_height": null,
            "min_width": null,
            "object_fit": null,
            "object_position": null,
            "order": null,
            "overflow": null,
            "overflow_x": null,
            "overflow_y": null,
            "padding": null,
            "right": null,
            "top": null,
            "visibility": null,
            "width": "20px"
          }
        },
        "e85c70a7313c48e2b18dfea81c0fa5b0": {
          "model_module": "@jupyter-widgets/controls",
          "model_name": "ProgressStyleModel",
          "model_module_version": "1.5.0",
          "state": {
            "_model_module": "@jupyter-widgets/controls",
            "_model_module_version": "1.5.0",
            "_model_name": "ProgressStyleModel",
            "_view_count": null,
            "_view_module": "@jupyter-widgets/base",
            "_view_module_version": "1.2.0",
            "_view_name": "StyleView",
            "bar_color": null,
            "description_width": ""
          }
        },
        "f1e44dc500724105afdbafba6d1121ec": {
          "model_module": "@jupyter-widgets/base",
          "model_name": "LayoutModel",
          "model_module_version": "1.2.0",
          "state": {
            "_model_module": "@jupyter-widgets/base",
            "_model_module_version": "1.2.0",
            "_model_name": "LayoutModel",
            "_view_count": null,
            "_view_module": "@jupyter-widgets/base",
            "_view_module_version": "1.2.0",
            "_view_name": "LayoutView",
            "align_content": null,
            "align_items": null,
            "align_self": null,
            "border": null,
            "bottom": null,
            "display": null,
            "flex": null,
            "flex_flow": null,
            "grid_area": null,
            "grid_auto_columns": null,
            "grid_auto_flow": null,
            "grid_auto_rows": null,
            "grid_column": null,
            "grid_gap": null,
            "grid_row": null,
            "grid_template_areas": null,
            "grid_template_columns": null,
            "grid_template_rows": null,
            "height": null,
            "justify_content": null,
            "justify_items": null,
            "left": null,
            "margin": null,
            "max_height": null,
            "max_width": null,
            "min_height": null,
            "min_width": null,
            "object_fit": null,
            "object_position": null,
            "order": null,
            "overflow": null,
            "overflow_x": null,
            "overflow_y": null,
            "padding": null,
            "right": null,
            "top": null,
            "visibility": null,
            "width": null
          }
        },
        "fe8955d449b84696b2ae75d5363a96be": {
          "model_module": "@jupyter-widgets/controls",
          "model_name": "DescriptionStyleModel",
          "model_module_version": "1.5.0",
          "state": {
            "_model_module": "@jupyter-widgets/controls",
            "_model_module_version": "1.5.0",
            "_model_name": "DescriptionStyleModel",
            "_view_count": null,
            "_view_module": "@jupyter-widgets/base",
            "_view_module_version": "1.2.0",
            "_view_name": "StyleView",
            "description_width": ""
          }
        },
        "5043d56b306f447ca868cd792bd7b50b": {
          "model_module": "@jupyter-widgets/controls",
          "model_name": "HBoxModel",
          "model_module_version": "1.5.0",
          "state": {
            "_dom_classes": [],
            "_model_module": "@jupyter-widgets/controls",
            "_model_module_version": "1.5.0",
            "_model_name": "HBoxModel",
            "_view_count": null,
            "_view_module": "@jupyter-widgets/controls",
            "_view_module_version": "1.5.0",
            "_view_name": "HBoxView",
            "box_style": "",
            "children": [
              "IPY_MODEL_2a01b5c7884c41eb8129dd5614f872ca",
              "IPY_MODEL_99de8d72a21c4c9997dd348ba7217925",
              "IPY_MODEL_c3b8b56111c34b8baf3ef40303c6b6e4"
            ],
            "layout": "IPY_MODEL_bdca4274422442e6b830f8490809fad0"
          }
        },
        "2a01b5c7884c41eb8129dd5614f872ca": {
          "model_module": "@jupyter-widgets/controls",
          "model_name": "HTMLModel",
          "model_module_version": "1.5.0",
          "state": {
            "_dom_classes": [],
            "_model_module": "@jupyter-widgets/controls",
            "_model_module_version": "1.5.0",
            "_model_name": "HTMLModel",
            "_view_count": null,
            "_view_module": "@jupyter-widgets/controls",
            "_view_module_version": "1.5.0",
            "_view_name": "HTMLView",
            "description": "",
            "description_tooltip": null,
            "layout": "IPY_MODEL_e6157620e33c4cebb4a8c3e951879365",
            "placeholder": "​",
            "style": "IPY_MODEL_de742e2365ec4b23bc09e489a7c3ef89",
            "value": "Downloading pytorch_model.bin: 100%"
          }
        },
        "99de8d72a21c4c9997dd348ba7217925": {
          "model_module": "@jupyter-widgets/controls",
          "model_name": "FloatProgressModel",
          "model_module_version": "1.5.0",
          "state": {
            "_dom_classes": [],
            "_model_module": "@jupyter-widgets/controls",
            "_model_module_version": "1.5.0",
            "_model_name": "FloatProgressModel",
            "_view_count": null,
            "_view_module": "@jupyter-widgets/controls",
            "_view_module_version": "1.5.0",
            "_view_name": "ProgressView",
            "bar_style": "success",
            "description": "",
            "description_tooltip": null,
            "layout": "IPY_MODEL_b5d088d59d9346d7a85fcc839f34b985",
            "max": 413868149,
            "min": 0,
            "orientation": "horizontal",
            "style": "IPY_MODEL_52cb975fcaaf439b9712a47c22c53316",
            "value": 413868149
          }
        },
        "c3b8b56111c34b8baf3ef40303c6b6e4": {
          "model_module": "@jupyter-widgets/controls",
          "model_name": "HTMLModel",
          "model_module_version": "1.5.0",
          "state": {
            "_dom_classes": [],
            "_model_module": "@jupyter-widgets/controls",
            "_model_module_version": "1.5.0",
            "_model_name": "HTMLModel",
            "_view_count": null,
            "_view_module": "@jupyter-widgets/controls",
            "_view_module_version": "1.5.0",
            "_view_name": "HTMLView",
            "description": "",
            "description_tooltip": null,
            "layout": "IPY_MODEL_a7ad6f578f3c4d02b036109fad2d71b4",
            "placeholder": "​",
            "style": "IPY_MODEL_25d96be7ad55453283b3cbeb33844872",
            "value": " 414M/414M [00:06&lt;00:00, 67.6MB/s]"
          }
        },
        "bdca4274422442e6b830f8490809fad0": {
          "model_module": "@jupyter-widgets/base",
          "model_name": "LayoutModel",
          "model_module_version": "1.2.0",
          "state": {
            "_model_module": "@jupyter-widgets/base",
            "_model_module_version": "1.2.0",
            "_model_name": "LayoutModel",
            "_view_count": null,
            "_view_module": "@jupyter-widgets/base",
            "_view_module_version": "1.2.0",
            "_view_name": "LayoutView",
            "align_content": null,
            "align_items": null,
            "align_self": null,
            "border": null,
            "bottom": null,
            "display": null,
            "flex": null,
            "flex_flow": null,
            "grid_area": null,
            "grid_auto_columns": null,
            "grid_auto_flow": null,
            "grid_auto_rows": null,
            "grid_column": null,
            "grid_gap": null,
            "grid_row": null,
            "grid_template_areas": null,
            "grid_template_columns": null,
            "grid_template_rows": null,
            "height": null,
            "justify_content": null,
            "justify_items": null,
            "left": null,
            "margin": null,
            "max_height": null,
            "max_width": null,
            "min_height": null,
            "min_width": null,
            "object_fit": null,
            "object_position": null,
            "order": null,
            "overflow": null,
            "overflow_x": null,
            "overflow_y": null,
            "padding": null,
            "right": null,
            "top": null,
            "visibility": null,
            "width": null
          }
        },
        "e6157620e33c4cebb4a8c3e951879365": {
          "model_module": "@jupyter-widgets/base",
          "model_name": "LayoutModel",
          "model_module_version": "1.2.0",
          "state": {
            "_model_module": "@jupyter-widgets/base",
            "_model_module_version": "1.2.0",
            "_model_name": "LayoutModel",
            "_view_count": null,
            "_view_module": "@jupyter-widgets/base",
            "_view_module_version": "1.2.0",
            "_view_name": "LayoutView",
            "align_content": null,
            "align_items": null,
            "align_self": null,
            "border": null,
            "bottom": null,
            "display": null,
            "flex": null,
            "flex_flow": null,
            "grid_area": null,
            "grid_auto_columns": null,
            "grid_auto_flow": null,
            "grid_auto_rows": null,
            "grid_column": null,
            "grid_gap": null,
            "grid_row": null,
            "grid_template_areas": null,
            "grid_template_columns": null,
            "grid_template_rows": null,
            "height": null,
            "justify_content": null,
            "justify_items": null,
            "left": null,
            "margin": null,
            "max_height": null,
            "max_width": null,
            "min_height": null,
            "min_width": null,
            "object_fit": null,
            "object_position": null,
            "order": null,
            "overflow": null,
            "overflow_x": null,
            "overflow_y": null,
            "padding": null,
            "right": null,
            "top": null,
            "visibility": null,
            "width": null
          }
        },
        "de742e2365ec4b23bc09e489a7c3ef89": {
          "model_module": "@jupyter-widgets/controls",
          "model_name": "DescriptionStyleModel",
          "model_module_version": "1.5.0",
          "state": {
            "_model_module": "@jupyter-widgets/controls",
            "_model_module_version": "1.5.0",
            "_model_name": "DescriptionStyleModel",
            "_view_count": null,
            "_view_module": "@jupyter-widgets/base",
            "_view_module_version": "1.2.0",
            "_view_name": "StyleView",
            "description_width": ""
          }
        },
        "b5d088d59d9346d7a85fcc839f34b985": {
          "model_module": "@jupyter-widgets/base",
          "model_name": "LayoutModel",
          "model_module_version": "1.2.0",
          "state": {
            "_model_module": "@jupyter-widgets/base",
            "_model_module_version": "1.2.0",
            "_model_name": "LayoutModel",
            "_view_count": null,
            "_view_module": "@jupyter-widgets/base",
            "_view_module_version": "1.2.0",
            "_view_name": "LayoutView",
            "align_content": null,
            "align_items": null,
            "align_self": null,
            "border": null,
            "bottom": null,
            "display": null,
            "flex": null,
            "flex_flow": null,
            "grid_area": null,
            "grid_auto_columns": null,
            "grid_auto_flow": null,
            "grid_auto_rows": null,
            "grid_column": null,
            "grid_gap": null,
            "grid_row": null,
            "grid_template_areas": null,
            "grid_template_columns": null,
            "grid_template_rows": null,
            "height": null,
            "justify_content": null,
            "justify_items": null,
            "left": null,
            "margin": null,
            "max_height": null,
            "max_width": null,
            "min_height": null,
            "min_width": null,
            "object_fit": null,
            "object_position": null,
            "order": null,
            "overflow": null,
            "overflow_x": null,
            "overflow_y": null,
            "padding": null,
            "right": null,
            "top": null,
            "visibility": null,
            "width": null
          }
        },
        "52cb975fcaaf439b9712a47c22c53316": {
          "model_module": "@jupyter-widgets/controls",
          "model_name": "ProgressStyleModel",
          "model_module_version": "1.5.0",
          "state": {
            "_model_module": "@jupyter-widgets/controls",
            "_model_module_version": "1.5.0",
            "_model_name": "ProgressStyleModel",
            "_view_count": null,
            "_view_module": "@jupyter-widgets/base",
            "_view_module_version": "1.2.0",
            "_view_name": "StyleView",
            "bar_color": null,
            "description_width": ""
          }
        },
        "a7ad6f578f3c4d02b036109fad2d71b4": {
          "model_module": "@jupyter-widgets/base",
          "model_name": "LayoutModel",
          "model_module_version": "1.2.0",
          "state": {
            "_model_module": "@jupyter-widgets/base",
            "_model_module_version": "1.2.0",
            "_model_name": "LayoutModel",
            "_view_count": null,
            "_view_module": "@jupyter-widgets/base",
            "_view_module_version": "1.2.0",
            "_view_name": "LayoutView",
            "align_content": null,
            "align_items": null,
            "align_self": null,
            "border": null,
            "bottom": null,
            "display": null,
            "flex": null,
            "flex_flow": null,
            "grid_area": null,
            "grid_auto_columns": null,
            "grid_auto_flow": null,
            "grid_auto_rows": null,
            "grid_column": null,
            "grid_gap": null,
            "grid_row": null,
            "grid_template_areas": null,
            "grid_template_columns": null,
            "grid_template_rows": null,
            "height": null,
            "justify_content": null,
            "justify_items": null,
            "left": null,
            "margin": null,
            "max_height": null,
            "max_width": null,
            "min_height": null,
            "min_width": null,
            "object_fit": null,
            "object_position": null,
            "order": null,
            "overflow": null,
            "overflow_x": null,
            "overflow_y": null,
            "padding": null,
            "right": null,
            "top": null,
            "visibility": null,
            "width": null
          }
        },
        "25d96be7ad55453283b3cbeb33844872": {
          "model_module": "@jupyter-widgets/controls",
          "model_name": "DescriptionStyleModel",
          "model_module_version": "1.5.0",
          "state": {
            "_model_module": "@jupyter-widgets/controls",
            "_model_module_version": "1.5.0",
            "_model_name": "DescriptionStyleModel",
            "_view_count": null,
            "_view_module": "@jupyter-widgets/base",
            "_view_module_version": "1.2.0",
            "_view_name": "StyleView",
            "description_width": ""
          }
        }
      }
    }
  },
  "nbformat": 4,
  "nbformat_minor": 0
}