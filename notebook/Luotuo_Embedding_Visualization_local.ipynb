{
  "cells": [
    {
      "cell_type": "markdown",
      "metadata": {
        "id": "HUPjmUeiXAz7"
      },
      "source": [
        "# Luotuo Embedding 骆驼嵌入: Generative Text Embedding Model distilled from OpenAI API\n",
        "\n",
        "骆驼嵌入是一个文本嵌入(text embedding)模型，由冷子昂, 刘思诣, 黄泓森, 陈舒年, 胡婧, 孙骜, 陈启源, 李鲁鲁等开发\n",
        "\n",
        "<details>\n",
        "  <summary> 每个作者都是第一作者，顺序是随机的。(点这里具体)</summary>\n",
        "\n",
        "李鲁鲁发起了项目，并完成了初步的验证，提出了KL散度Loss和Hard Negative挖掘。\n",
        "\n",
        "刘思诣完成了初步训练框架的编写，以及支撑了后面模型上传到hugging face管线。\n",
        "\n",
        "冷子昂完成了完整的大模型和小模型的训练，包括载入数据和损失函数的实现。\n",
        "\n",
        "陈启源准备了CNewSum的数据，做了句子切分。\n",
        "\n",
        "黄泓森负责爬取了OpenAI Embedding的数据。\n",
        "\n",
        "陈舒年完成了重要的几个可视化。\n",
        "\n",
        "孙骜（即将）用我们的得到的Embedding，完成CoT的提升实验。\n",
        "\n",
        "胡婧收集了周杰伦的歌词，并（即将）完成更多的定量实验。\n",
        "\n",
        "</details>\n",
        "\n",
        "骆驼嵌入是[Luotuo(骆驼)](https://github.com/LC1332/Luotuo-Chinese-LLM)的子项目之一, 后者由李鲁鲁, 冷子昂, 陈启源发起。\n"
      ]
    },
    {
      "cell_type": "markdown",
      "metadata": {
        "id": "tOuADT8rZg-q"
      },
      "source": [
        "## 安装环境"
      ]
    },
    {
      "cell_type": "code",
      "execution_count": null,
      "metadata": {
        "id": "7Q7vFF4xXhFl"
      },
      "outputs": [],
      "source": [
        "# Requirements\n",
        "!pip install transformers\n",
        "!pip install openai\n",
        "!pip install openTSNE\n",
        "!pip install datasets"
      ]
    },
    {
      "cell_type": "markdown",
      "metadata": {
        "id": "uP1CviUHZjGw"
      },
      "source": [
        "## 从骆驼嵌入项目中获取数据"
      ]
    },
    {
      "cell_type": "markdown",
      "metadata": {
        "id": "zFvQw-1KZnTU"
      },
      "source": [
        "## 从Hugging Face中获取模型\n",
        "\n",
        "我们的骆驼BERT的主要模型为luotuo-bert\n",
        "\n",
        "现在暂时是110M的小模型。之后中模型上线之后,luotuo-bert会替换为300M以上的较大的模型，同时小模型会更名为luotuo-bert-small"
      ]
    },
    {
      "cell_type": "code",
      "execution_count": 1,
      "metadata": {
        "colab": {
          "base_uri": "https://localhost:8080/",
          "height": 258,
          "referenced_widgets": [
            "4021c77f0fed44ab93621ab4c57a7a93",
            "aabbcb14d0ce4ba8bb841f32ae2aaa16",
            "740357a6a20e4706b87b037e9052a076",
            "a3b45c901b514c4d9ddccebdd44d638f",
            "b052b3bc2b784c0094b16f13d71978ba",
            "93fe9ba1c54b4f298ca4491f2bab4093",
            "8f011bc384d14d3183aa254cbb7ce119",
            "39a6497b32594ee580687f1bd689484a",
            "3c6e008234f84580a325e41f857cac0f",
            "d95bee7c4a3541f3884c8c29b305996b",
            "c7daeabe2d484281b7dbd75cab788c79",
            "51077c2175724679b149af93cbe9e93c",
            "bccaa992a91447c6af8704512248f64f",
            "02f265aa09a24f8c8384adf889d41138",
            "f0ce46112caf4b329a484fb9e83aad8d",
            "eda59c65e0b04e6ea17b953db1d50f5f",
            "b6ab2d983ac1498d8d0dff62c4974490",
            "c64888c539984aa9a4a655d2db94d6ec",
            "2287e3862b9247b4a908c730d72998b3",
            "93135e6b84a341eeafaaa14382521e64",
            "af6c0621701f45ceb0015f5c84a079ac",
            "d1caffb190ac4038ac79f4f04a174718",
            "4e0e65cd2567419282f1324a09e51a80",
            "af67023cb0524b2eb1ecb23f6a280d53",
            "3e867fa160034601ac4f78b646bbc458",
            "e05ebbd29da148cd81ca159fa0c9568d",
            "1ef24cfb2c1c4d63a850edf4d69738d6",
            "443b55898d724b4abff1dbb7c7ab08d3",
            "0a5450529ad5481ebf756bc90fcc9e16",
            "5c10618547c641d5a5928887e7e80b2f",
            "ac4e9ce289a64fc3aa6ef4ddfdc16a61",
            "8813fe628dc44efd99b22ac5a2d37e46",
            "7c358703720045168500f0de8c2de9b1",
            "76678f487d8d47fda0e707c29ba27eee",
            "73d1e3318b564a18a8aba8b4237e31a5",
            "fe64b74c338e41068ad8c6cda84f8e1d",
            "845ccb16eae84e4e98234434cb52f93c",
            "e25b5537decd4054a276ee352b78ca63",
            "2f121d0a7ec540c0a8f4ca3285d73cd4",
            "61b8fd6bd8584d0db655a48256b1f3ff",
            "b244170c10894691b2822662a72f8674",
            "923317fe14d040b985583ce1dc8c5ca4",
            "38ed601962f54a13bb0a08c5c22c0768",
            "0e4700aff9f44ff1a93bca9b344a8a85",
            "07251d9f5e8644afaac540b88e35b32a",
            "14b60606c3434c7ca9846c3112acfaff",
            "9544af26fc33486da491b6dd9bb7f489",
            "fa4470aa6f8646cfb3654d6705ca53af",
            "a8a8fcbaf72a459ab3e7875e57463e7f",
            "94d5568aa6bb4913a9719abe4923e8ba",
            "a0df4d0c058e489bbcb75acacb35f3cd",
            "a181e4df6a9a4ee8b7418c10cc2fcdc6",
            "00ccc849f0c84dbc8f372f7858ad8150",
            "7e88c69fc3714eadba25fd85085199a1",
            "b437ec68591e4936bb4ad5e15bffbbfe",
            "5679dd4cb9f748f195f2e2ed3db5dd87",
            "e2719e0ef84e493282f2c9c54774ef91",
            "32afd52536254a2f8d4e89b88b2982e1",
            "ef7beae0df0345d3b41a49a7160c8838",
            "82c488709b2e424c9d467e7c8780754e",
            "8d794514645f47b3a6b78b3f3eddaeaa",
            "e3740561963844529c8e6e151961edaf",
            "9df6886ebc464a2fbe856868f62bbead",
            "f89b4aa9a45e4514afa2a881757264bb",
            "f3aef9f1821044ec8d5fd12cbc283e91",
            "1d5ce69c4f3e4619a244742e202cb2e7",
            "981fe5658e2b452d9f30d7b8ec4bb93c",
            "3ce1dff9ae1d4f40950582356e384388",
            "45be7215944e46979e7409cccb6188ea",
            "92946b053f5d4951a748c5294b97428b",
            "a5ff064d06d14b3994ca47879d59700e",
            "db472e03fcdb4257812b12c6685d36bb",
            "15c21b71944645c4a701b9cfcb356c53",
            "14a75f0ea3a54ca8b9ac3b0d139d239a",
            "2cbc91fd584449798beef1b542bf80ac",
            "00102182cffc4f0e90bf92276dc272e4",
            "53fb1682ee264bb896dd019a862052bd"
          ]
        },
        "id": "drHktMUHXi1i",
        "outputId": "ddcdab28-8b15-4da8-e87b-3e1cc08fa535"
      },
      "outputs": [
        {
          "name": "stderr",
          "output_type": "stream",
          "text": [
            "Downloading (…)okenizer_config.json: 100%|██████████| 539/539 [00:00<00:00, 172kB/s]\n",
            "d:\\14183\\ProgramData\\Anaconda3\\envs\\pth\\lib\\site-packages\\huggingface_hub\\file_download.py:133: UserWarning: `huggingface_hub` cache-system uses symlinks by default to efficiently store duplicated files but your machine does not support them in C:\\Users\\14183\\.cache\\huggingface\\hub. Caching files will still work but in a degraded version that might require more space on your disk. This warning can be disabled by setting the `HF_HUB_DISABLE_SYMLINKS_WARNING` environment variable. For more details, see https://huggingface.co/docs/huggingface_hub/how-to-cache#limitations.\n",
            "To support symlinks on Windows, you either need to activate Developer Mode or to run Python as an administrator. In order to see activate developer mode, see this article: https://docs.microsoft.com/en-us/windows/apps/get-started/enable-your-device-for-development\n",
            "  warnings.warn(message)\n",
            "Downloading (…)solve/main/vocab.txt: 100%|██████████| 110k/110k [00:00<00:00, 2.33MB/s]\n",
            "Downloading (…)/main/tokenizer.json: 100%|██████████| 439k/439k [00:00<00:00, 3.94MB/s]\n",
            "Downloading (…)cial_tokens_map.json: 100%|██████████| 125/125 [00:00<00:00, 31.2kB/s]\n",
            "Downloading (…)lve/main/config.json: 100%|██████████| 966/966 [00:00<00:00, 310kB/s]\n",
            "Explicitly passing a `revision` is encouraged when loading a model with custom code to ensure no malicious code has been contributed in a newer revision.\n",
            "Downloading (…)solve/main/models.py: 100%|██████████| 21.1k/21.1k [00:00<00:00, 3.52MB/s]\n",
            "Downloading pytorch_model.bin: 100%|██████████| 414M/414M [01:16<00:00, 5.43MB/s] \n"
          ]
        }
      ],
      "source": [
        "import torch\n",
        "from scipy.spatial.distance import cosine\n",
        "from transformers import AutoModel, AutoTokenizer\n",
        "from argparse import Namespace\n",
        "# Import our models. The package will take care of downloading the models automatically\n",
        "tokenizer = AutoTokenizer.from_pretrained(\"silk-road/luotuo-bert\")\n",
        "model_args = Namespace(do_mlm=None, pooler_type=\"cls\", temp=0.05, mlp_only_train=False, init_embeddings_model=None)\n",
        "model = AutoModel.from_pretrained(\"silk-road/luotuo-bert\", trust_remote_code=True, model_args=model_args)"
      ]
    },
    {
      "cell_type": "markdown",
      "metadata": {
        "id": "RzbZPTdmZ3wZ"
      },
      "source": [
        "## t-SNE 文本可视化实验"
      ]
    },
    {
      "cell_type": "code",
      "execution_count": 23,
      "metadata": {},
      "outputs": [],
      "source": [
        "import pandas as pd\n",
        "tsne_data_label_path = \"../data/sentpair_label.csv\"\n",
        "\n",
        "data = pd.read_csv(tsne_data_label_path, header=0)\n",
        "text_left = data[\"Column1\"].tolist()\n",
        "text_right = data[\"Column2\"].tolist()\n",
        "label = data[\"Label\"].tolist()"
      ]
    },
    {
      "cell_type": "code",
      "execution_count": 24,
      "metadata": {
        "colab": {
          "base_uri": "https://localhost:8080/"
        },
        "id": "gp_x7YZxXvrC",
        "outputId": "f8ae5e8e-75d6-4c32-eac9-580770fd277c"
      },
      "outputs": [],
      "source": [
        "import csv\n",
        "import numpy as np\n",
        "import sys\n",
        "sys.path.append(\"..\")\n",
        "\n",
        "\n",
        "inputs = tokenizer(text_left, padding=True, truncation=True, return_tensors=\"pt\")\n",
        "with torch.no_grad():\n",
        "    embeddings_left = model(**inputs, output_hidden_states=True, return_dict=True, sent_emb=True).pooler_output\n",
        "inputs = tokenizer(text_right, padding=True, truncation=True, return_tensors=\"pt\")\n",
        "with torch.no_grad():\n",
        "    embeddings_right = model(**inputs, output_hidden_states=True, return_dict=True, sent_emb=True).pooler_output\n",
        "    \n",
        "merged_list = text_left + text_right\n",
        "label = label + label\n",
        "merged_embed = torch.cat((embeddings_left, embeddings_right), dim=0)"
      ]
    },
    {
      "attachments": {},
      "cell_type": "markdown",
      "metadata": {},
      "source": [
        "### T-SNE with labels"
      ]
    },
    {
      "cell_type": "code",
      "execution_count": 30,
      "metadata": {
        "colab": {
          "base_uri": "https://localhost:8080/",
          "height": 906
        },
        "id": "K8FRnqu1X9R5",
        "outputId": "de939e50-b00c-4ee8-e8ae-70d5bd9b1682"
      },
      "outputs": [
        {
          "name": "stderr",
          "output_type": "stream",
          "text": [
            "Perplexity value 30 is too high. Using perplexity 12.33 instead\n",
            "Perplexity value 30 is too high. Using perplexity 12.33 instead\n"
          ]
        },
        {
          "data": {
            "application/vnd.plotly.v1+json": {
              "config": {
                "plotlyServerURL": "https://plot.ly"
              },
              "data": [
                {
                  "legendgroup": "lines",
                  "marker": {
                    "color": "#000080",
                    "size": [
                      10,
                      10
                    ]
                  },
                  "mode": "markers",
                  "name": "百草园到三味书屋",
                  "showlegend": true,
                  "type": "scatter",
                  "x": [
                    6.092360574207045,
                    6.151361251111603
                  ],
                  "y": [
                    0.8740896203895311,
                    1.4787633208671145
                  ]
                },
                {
                  "legendgroup": "lines",
                  "marker": {
                    "color": "#0000bf",
                    "size": [
                      20,
                      20
                    ]
                  },
                  "mode": "markers",
                  "name": "背影",
                  "showlegend": true,
                  "type": "scatter",
                  "x": [
                    0.5768451026144882,
                    0.9159302845429853
                  ],
                  "y": [
                    -1.42423544313,
                    -0.6315064580173914
                  ]
                },
                {
                  "legendgroup": "lines",
                  "marker": {
                    "color": "#0000ff",
                    "size": [
                      10,
                      10
                    ]
                  },
                  "mode": "markers",
                  "name": "出师表",
                  "showlegend": true,
                  "type": "scatter",
                  "x": [
                    2.712723414176504,
                    2.9284454092762875
                  ],
                  "y": [
                    3.594864200427273,
                    4.348730294377213
                  ]
                },
                {
                  "legendgroup": "lines",
                  "marker": {
                    "color": "#0028ff",
                    "size": [
                      10,
                      10
                    ]
                  },
                  "mode": "markers",
                  "name": "凡人修仙传",
                  "showlegend": true,
                  "type": "scatter",
                  "x": [
                    4.994687150732615,
                    4.866262759734667
                  ],
                  "y": [
                    4.6964984471619475,
                    5.19434392717613
                  ]
                },
                {
                  "legendgroup": "lines",
                  "marker": {
                    "color": "#0060ff",
                    "size": [
                      10,
                      10
                    ]
                  },
                  "mode": "markers",
                  "name": "全职高手",
                  "showlegend": true,
                  "type": "scatter",
                  "x": [
                    1.5038668047204897,
                    2.0252753999223603
                  ],
                  "y": [
                    5.371399244808363,
                    5.710571538600007
                  ]
                },
                {
                  "legendgroup": "lines",
                  "marker": {
                    "color": "#009cff",
                    "size": [
                      10,
                      20
                    ]
                  },
                  "mode": "markers",
                  "name": "雷雨",
                  "showlegend": true,
                  "type": "scatter",
                  "x": [
                    3.745083664381378,
                    1.5420571630116504
                  ],
                  "y": [
                    -0.0808603550896109,
                    -0.10665944333503204
                  ]
                },
                {
                  "legendgroup": "lines",
                  "marker": {
                    "color": "#00d4ff",
                    "size": [
                      10,
                      10
                    ]
                  },
                  "mode": "markers",
                  "name": "约定-王菲",
                  "showlegend": true,
                  "type": "scatter",
                  "x": [
                    5.1288928683488795,
                    -6.382881157512859
                  ],
                  "y": [
                    -3.2871186041988376,
                    -2.881667239395778
                  ]
                },
                {
                  "legendgroup": "lines",
                  "marker": {
                    "color": "#1fffd7",
                    "size": [
                      10,
                      10
                    ]
                  },
                  "mode": "markers",
                  "name": "致青春-王菲",
                  "showlegend": true,
                  "type": "scatter",
                  "x": [
                    -4.6129806827212185,
                    -5.4680033884935195
                  ],
                  "y": [
                    -4.004206957407643,
                    -3.4750402269135643
                  ]
                },
                {
                  "legendgroup": "lines",
                  "marker": {
                    "color": "#4dffaa",
                    "size": [
                      10,
                      20
                    ]
                  },
                  "mode": "markers",
                  "name": "暗涌-王菲",
                  "showlegend": true,
                  "type": "scatter",
                  "x": [
                    -6.775616309677088,
                    -7.510592770413954
                  ],
                  "y": [
                    -3.6842073084995763,
                    -1.8894336154049924
                  ]
                },
                {
                  "legendgroup": "lines",
                  "marker": {
                    "color": "#7dff7a",
                    "size": [
                      20,
                      10
                    ]
                  },
                  "mode": "markers",
                  "name": "红豆-王菲",
                  "showlegend": true,
                  "type": "scatter",
                  "x": [
                    -7.2800204486437075,
                    -7.919741575440917
                  ],
                  "y": [
                    -1.0715685384452438,
                    -0.4765800824015668
                  ]
                },
                {
                  "legendgroup": "lines",
                  "marker": {
                    "color": "#aaff4d",
                    "size": [
                      10,
                      10
                    ]
                  },
                  "mode": "markers",
                  "name": "浪子-王菲",
                  "showlegend": true,
                  "type": "scatter",
                  "x": [
                    -3.8220789400699697,
                    -3.982325600590895
                  ],
                  "y": [
                    3.117172221099129,
                    2.420098476173975
                  ]
                },
                {
                  "legendgroup": "lines",
                  "marker": {
                    "color": "#d7ff1f",
                    "size": [
                      10,
                      10
                    ]
                  },
                  "mode": "markers",
                  "name": "印第安老斑鸠-周杰伦",
                  "showlegend": true,
                  "type": "scatter",
                  "x": [
                    7.780857123682835,
                    7.514171209654487
                  ],
                  "y": [
                    0.2967660006688395,
                    -0.3256833225017228
                  ]
                },
                {
                  "legendgroup": "lines",
                  "marker": {
                    "color": "#ffe600",
                    "size": [
                      10,
                      20
                    ]
                  },
                  "mode": "markers",
                  "name": "斗牛-周杰伦",
                  "showlegend": true,
                  "type": "scatter",
                  "x": [
                    -1.2250925960761707,
                    -1.9376200484455832
                  ],
                  "y": [
                    2.9001293143220366,
                    3.2971048038742765
                  ]
                },
                {
                  "legendgroup": "lines",
                  "marker": {
                    "color": "#ffb200",
                    "size": [
                      20,
                      10
                    ]
                  },
                  "mode": "markers",
                  "name": "反方向的钟-周杰伦",
                  "showlegend": true,
                  "type": "scatter",
                  "x": [
                    -5.738260860059603,
                    -5.122262037770993
                  ],
                  "y": [
                    0.7351685736346579,
                    1.5951881340567033
                  ]
                },
                {
                  "legendgroup": "lines",
                  "marker": {
                    "color": "#ff7a00",
                    "size": [
                      20,
                      20
                    ]
                  },
                  "mode": "markers",
                  "name": "黑色幽默-周杰伦",
                  "showlegend": true,
                  "type": "scatter",
                  "x": [
                    -3.9172083831977775,
                    -4.883768007077495
                  ],
                  "y": [
                    -0.8631096412695153,
                    -0.761537281807944
                  ]
                },
                {
                  "legendgroup": "lines",
                  "marker": {
                    "color": "#ff4700",
                    "size": [
                      10,
                      10
                    ]
                  },
                  "mode": "markers",
                  "name": "爸我回来了-周杰伦",
                  "showlegend": true,
                  "type": "scatter",
                  "x": [
                    1.2736402518914942,
                    1.4494927769264192
                  ],
                  "y": [
                    -4.125162240411961,
                    -4.960765195996183
                  ]
                },
                {
                  "legendgroup": "lines",
                  "marker": {
                    "color": "#ff1300",
                    "size": [
                      10,
                      10
                    ]
                  },
                  "mode": "markers",
                  "name": "上海1943-周杰伦",
                  "showlegend": true,
                  "type": "scatter",
                  "x": [
                    4.784657770636132,
                    4.539421832973509
                  ],
                  "y": [
                    -1.1878671498115383,
                    -2.2658528113358454
                  ]
                },
                {
                  "legendgroup": "lines",
                  "marker": {
                    "color": "#bf0000",
                    "size": [
                      10,
                      20
                    ]
                  },
                  "mode": "markers",
                  "name": "外婆-周杰伦",
                  "showlegend": true,
                  "type": "scatter",
                  "x": [
                    3.2680041426170607,
                    2.9541396110620015
                  ],
                  "y": [
                    -2.737431468984768,
                    1.485041187210908
                  ]
                },
                {
                  "legendgroup": "lines",
                  "marker": {
                    "color": "#800000",
                    "size": [
                      10,
                      10
                    ]
                  },
                  "mode": "markers",
                  "name": "听妈妈的话-周杰伦",
                  "showlegend": true,
                  "type": "scatter",
                  "x": [
                    0.16527398774385005,
                    -0.3349977477769863
                  ],
                  "y": [
                    -3.6007535851177894,
                    -3.274682335371596
                  ]
                },
                {
                  "legendgroup": "lines",
                  "line": {
                    "color": "#0000bf"
                  },
                  "mode": "lines",
                  "showlegend": false,
                  "type": "scatter",
                  "x": [
                    9.780857123682836,
                    1.576845102614488,
                    1.076845102614488,
                    0.5768451026144882
                  ],
                  "y": [
                    -14.88229558798855,
                    -14.88229558798855,
                    -1.42423544313,
                    -1.42423544313
                  ]
                },
                {
                  "legendgroup": "lines",
                  "line": {
                    "color": "#7dff7a"
                  },
                  "mode": "lines",
                  "showlegend": false,
                  "type": "scatter",
                  "x": [
                    -8.919741575440916,
                    -8.280020448643707,
                    -7.7800204486437075,
                    -7.2800204486437075
                  ],
                  "y": [
                    1.1247095139057368,
                    1.1247095139057368,
                    -1.0715685384452438,
                    -1.0715685384452438
                  ]
                },
                {
                  "legendgroup": "lines",
                  "line": {
                    "color": "#ffb200"
                  },
                  "mode": "lines",
                  "showlegend": false,
                  "type": "scatter",
                  "x": [
                    -8.919741575440916,
                    -6.738260860059603,
                    -6.238260860059603,
                    -5.738260860059603
                  ],
                  "y": [
                    9.12821206485288,
                    9.12821206485288,
                    0.7351685736346579,
                    0.7351685736346579
                  ]
                },
                {
                  "legendgroup": "lines",
                  "line": {
                    "color": "#ff7a00"
                  },
                  "mode": "lines",
                  "showlegend": false,
                  "type": "scatter",
                  "x": [
                    -8.919741575440916,
                    -4.917208383197778,
                    -4.417208383197778,
                    -3.9172083831977775
                  ],
                  "y": [
                    -14.88229558798855,
                    -14.88229558798855,
                    -0.8631096412695153,
                    -0.8631096412695153
                  ]
                },
                {
                  "legendgroup": "lines",
                  "line": {
                    "color": "#0000bf"
                  },
                  "mode": "lines",
                  "showlegend": false,
                  "type": "scatter",
                  "x": [
                    9.780857123682836,
                    1.9159302845429853,
                    1.4159302845429853,
                    0.9159302845429853
                  ],
                  "y": [
                    -6.878793037041406,
                    -6.878793037041406,
                    -0.6315064580173914,
                    -0.6315064580173914
                  ]
                },
                {
                  "legendgroup": "lines",
                  "line": {
                    "color": "#009cff"
                  },
                  "mode": "lines",
                  "showlegend": false,
                  "type": "scatter",
                  "x": [
                    9.780857123682836,
                    2.54205716301165,
                    2.04205716301165,
                    1.5420571630116504
                  ],
                  "y": [
                    1.1247095139057368,
                    1.1247095139057368,
                    -0.10665944333503204,
                    -0.10665944333503204
                  ]
                },
                {
                  "legendgroup": "lines",
                  "line": {
                    "color": "#4dffaa"
                  },
                  "mode": "lines",
                  "showlegend": false,
                  "type": "scatter",
                  "x": [
                    -8.919741575440916,
                    -8.510592770413954,
                    -8.010592770413954,
                    -7.510592770413954
                  ],
                  "y": [
                    -6.878793037041406,
                    -6.878793037041406,
                    -1.8894336154049924,
                    -1.8894336154049924
                  ]
                },
                {
                  "legendgroup": "lines",
                  "line": {
                    "color": "#ffe600"
                  },
                  "mode": "lines",
                  "showlegend": false,
                  "type": "scatter",
                  "x": [
                    9.780857123682836,
                    -0.9376200484455832,
                    -1.4376200484455832,
                    -1.9376200484455832
                  ],
                  "y": [
                    17.13171461580002,
                    17.13171461580002,
                    3.2971048038742765,
                    3.2971048038742765
                  ]
                },
                {
                  "legendgroup": "lines",
                  "line": {
                    "color": "#ff7a00"
                  },
                  "mode": "lines",
                  "showlegend": false,
                  "type": "scatter",
                  "x": [
                    -8.919741575440916,
                    -5.883768007077495,
                    -5.383768007077495,
                    -4.883768007077495
                  ],
                  "y": [
                    17.13171461580002,
                    17.13171461580002,
                    -0.761537281807944,
                    -0.761537281807944
                  ]
                },
                {
                  "legendgroup": "lines",
                  "line": {
                    "color": "#bf0000"
                  },
                  "mode": "lines",
                  "showlegend": false,
                  "type": "scatter",
                  "x": [
                    9.780857123682836,
                    3.9541396110620015,
                    3.4541396110620015,
                    2.9541396110620015
                  ],
                  "y": [
                    9.12821206485288,
                    9.12821206485288,
                    1.485041187210908,
                    1.485041187210908
                  ]
                }
              ],
              "layout": {
                "annotations": [
                  {
                    "bgcolor": "#e6e6f9",
                    "bordercolor": "#0000bf",
                    "borderpad": 2,
                    "font": {
                      "color": "black"
                    },
                    "showarrow": false,
                    "text": "我说道，“爸爸，你走...他不肯，只好让他去。",
                    "x": 9.780857123682836,
                    "xanchor": "left",
                    "xref": "x",
                    "y": -14.88229558798855,
                    "yanchor": "middle",
                    "yref": "y"
                  },
                  {
                    "bgcolor": "#f2fff2",
                    "bordercolor": "#7dff7a",
                    "borderpad": 2,
                    "font": {
                      "color": "black"
                    },
                    "showarrow": false,
                    "text": "还没好好的感受 雪花...学会珍惜 天长和地久",
                    "x": -8.919741575440916,
                    "xanchor": "right",
                    "xref": "x",
                    "y": 1.1247095139057368,
                    "yanchor": "middle",
                    "yref": "y"
                  },
                  {
                    "bgcolor": "#fff7e6",
                    "bordercolor": "#ffb200",
                    "borderpad": 2,
                    "font": {
                      "color": "black"
                    },
                    "showarrow": false,
                    "text": "是雨是风 还是彩虹 ... 穿梭时间的画面的钟",
                    "x": -8.919741575440916,
                    "xanchor": "right",
                    "xref": "x",
                    "y": 9.12821206485288,
                    "yanchor": "middle",
                    "yref": "y"
                  },
                  {
                    "bgcolor": "#fff2e6",
                    "bordercolor": "#ff7a00",
                    "borderpad": 2,
                    "font": {
                      "color": "black"
                    },
                    "showarrow": false,
                    "text": "难过 是因为闷了很久...脑袋有问题 随便说说",
                    "x": -8.919741575440916,
                    "xanchor": "right",
                    "xref": "x",
                    "y": -14.88229558798855,
                    "yanchor": "middle",
                    "yref": "y"
                  },
                  {
                    "bgcolor": "#e6e6f9",
                    "bordercolor": "#0000bf",
                    "borderpad": 2,
                    "font": {
                      "color": "black"
                    },
                    "showarrow": false,
                    "text": "我看见他戴着黑布小帽...的泪很快地流下来了。",
                    "x": 9.780857123682836,
                    "xanchor": "left",
                    "xref": "x",
                    "y": -6.878793037041406,
                    "yanchor": "middle",
                    "yref": "y"
                  },
                  {
                    "bgcolor": "#e6f5ff",
                    "bordercolor": "#009cff",
                    "borderpad": 2,
                    "font": {
                      "color": "black"
                    },
                    "showarrow": false,
                    "text": "他的赤脚忽然放在椅子...闲话，有青蛙的叫声。",
                    "x": 9.780857123682836,
                    "xanchor": "left",
                    "xref": "x",
                    "y": 1.1247095139057368,
                    "yanchor": "middle",
                    "yref": "y"
                  },
                  {
                    "bgcolor": "#edfff7",
                    "bordercolor": "#4dffaa",
                    "borderpad": 2,
                    "font": {
                      "color": "black"
                    },
                    "showarrow": false,
                    "text": "越美丽的东西 我越不...然后天空又再涌起密云",
                    "x": -8.919741575440916,
                    "xanchor": "right",
                    "xref": "x",
                    "y": -6.878793037041406,
                    "yanchor": "middle",
                    "yref": "y"
                  },
                  {
                    "bgcolor": "#fffde6",
                    "bordercolor": "#ffe600",
                    "borderpad": 2,
                    "font": {
                      "color": "black"
                    },
                    "showarrow": false,
                    "text": "篮下禁区游走 漂亮的...你这种队友 瞎透了我",
                    "x": 9.780857123682836,
                    "xanchor": "left",
                    "xref": "x",
                    "y": 17.13171461580002,
                    "yanchor": "middle",
                    "yref": "y"
                  },
                  {
                    "bgcolor": "#fff2e6",
                    "bordercolor": "#ff7a00",
                    "borderpad": 2,
                    "font": {
                      "color": "black"
                    },
                    "showarrow": false,
                    "text": "其实我早己经猜透看透... 却又再考倒我 说散",
                    "x": -8.919741575440916,
                    "xanchor": "right",
                    "xref": "x",
                    "y": 17.13171461580002,
                    "yanchor": "middle",
                    "yref": "y"
                  },
                  {
                    "bgcolor": "#f9e6e6",
                    "bordercolor": "#bf0000",
                    "borderpad": 2,
                    "font": {
                      "color": "black"
                    },
                    "showarrow": false,
                    "text": "弥补回应 大人们以为...的无奈 无法变成期待",
                    "x": 9.780857123682836,
                    "xanchor": "left",
                    "xref": "x",
                    "y": 9.12821206485288,
                    "yanchor": "middle",
                    "yref": "y"
                  }
                ],
                "autosize": false,
                "height": 800,
                "template": {
                  "data": {
                    "bar": [
                      {
                        "error_x": {
                          "color": "#2a3f5f"
                        },
                        "error_y": {
                          "color": "#2a3f5f"
                        },
                        "marker": {
                          "line": {
                            "color": "#E5ECF6",
                            "width": 0.5
                          },
                          "pattern": {
                            "fillmode": "overlay",
                            "size": 10,
                            "solidity": 0.2
                          }
                        },
                        "type": "bar"
                      }
                    ],
                    "barpolar": [
                      {
                        "marker": {
                          "line": {
                            "color": "#E5ECF6",
                            "width": 0.5
                          },
                          "pattern": {
                            "fillmode": "overlay",
                            "size": 10,
                            "solidity": 0.2
                          }
                        },
                        "type": "barpolar"
                      }
                    ],
                    "carpet": [
                      {
                        "aaxis": {
                          "endlinecolor": "#2a3f5f",
                          "gridcolor": "white",
                          "linecolor": "white",
                          "minorgridcolor": "white",
                          "startlinecolor": "#2a3f5f"
                        },
                        "baxis": {
                          "endlinecolor": "#2a3f5f",
                          "gridcolor": "white",
                          "linecolor": "white",
                          "minorgridcolor": "white",
                          "startlinecolor": "#2a3f5f"
                        },
                        "type": "carpet"
                      }
                    ],
                    "choropleth": [
                      {
                        "colorbar": {
                          "outlinewidth": 0,
                          "ticks": ""
                        },
                        "type": "choropleth"
                      }
                    ],
                    "contour": [
                      {
                        "colorbar": {
                          "outlinewidth": 0,
                          "ticks": ""
                        },
                        "colorscale": [
                          [
                            0,
                            "#0d0887"
                          ],
                          [
                            0.1111111111111111,
                            "#46039f"
                          ],
                          [
                            0.2222222222222222,
                            "#7201a8"
                          ],
                          [
                            0.3333333333333333,
                            "#9c179e"
                          ],
                          [
                            0.4444444444444444,
                            "#bd3786"
                          ],
                          [
                            0.5555555555555556,
                            "#d8576b"
                          ],
                          [
                            0.6666666666666666,
                            "#ed7953"
                          ],
                          [
                            0.7777777777777778,
                            "#fb9f3a"
                          ],
                          [
                            0.8888888888888888,
                            "#fdca26"
                          ],
                          [
                            1,
                            "#f0f921"
                          ]
                        ],
                        "type": "contour"
                      }
                    ],
                    "contourcarpet": [
                      {
                        "colorbar": {
                          "outlinewidth": 0,
                          "ticks": ""
                        },
                        "type": "contourcarpet"
                      }
                    ],
                    "heatmap": [
                      {
                        "colorbar": {
                          "outlinewidth": 0,
                          "ticks": ""
                        },
                        "colorscale": [
                          [
                            0,
                            "#0d0887"
                          ],
                          [
                            0.1111111111111111,
                            "#46039f"
                          ],
                          [
                            0.2222222222222222,
                            "#7201a8"
                          ],
                          [
                            0.3333333333333333,
                            "#9c179e"
                          ],
                          [
                            0.4444444444444444,
                            "#bd3786"
                          ],
                          [
                            0.5555555555555556,
                            "#d8576b"
                          ],
                          [
                            0.6666666666666666,
                            "#ed7953"
                          ],
                          [
                            0.7777777777777778,
                            "#fb9f3a"
                          ],
                          [
                            0.8888888888888888,
                            "#fdca26"
                          ],
                          [
                            1,
                            "#f0f921"
                          ]
                        ],
                        "type": "heatmap"
                      }
                    ],
                    "heatmapgl": [
                      {
                        "colorbar": {
                          "outlinewidth": 0,
                          "ticks": ""
                        },
                        "colorscale": [
                          [
                            0,
                            "#0d0887"
                          ],
                          [
                            0.1111111111111111,
                            "#46039f"
                          ],
                          [
                            0.2222222222222222,
                            "#7201a8"
                          ],
                          [
                            0.3333333333333333,
                            "#9c179e"
                          ],
                          [
                            0.4444444444444444,
                            "#bd3786"
                          ],
                          [
                            0.5555555555555556,
                            "#d8576b"
                          ],
                          [
                            0.6666666666666666,
                            "#ed7953"
                          ],
                          [
                            0.7777777777777778,
                            "#fb9f3a"
                          ],
                          [
                            0.8888888888888888,
                            "#fdca26"
                          ],
                          [
                            1,
                            "#f0f921"
                          ]
                        ],
                        "type": "heatmapgl"
                      }
                    ],
                    "histogram": [
                      {
                        "marker": {
                          "pattern": {
                            "fillmode": "overlay",
                            "size": 10,
                            "solidity": 0.2
                          }
                        },
                        "type": "histogram"
                      }
                    ],
                    "histogram2d": [
                      {
                        "colorbar": {
                          "outlinewidth": 0,
                          "ticks": ""
                        },
                        "colorscale": [
                          [
                            0,
                            "#0d0887"
                          ],
                          [
                            0.1111111111111111,
                            "#46039f"
                          ],
                          [
                            0.2222222222222222,
                            "#7201a8"
                          ],
                          [
                            0.3333333333333333,
                            "#9c179e"
                          ],
                          [
                            0.4444444444444444,
                            "#bd3786"
                          ],
                          [
                            0.5555555555555556,
                            "#d8576b"
                          ],
                          [
                            0.6666666666666666,
                            "#ed7953"
                          ],
                          [
                            0.7777777777777778,
                            "#fb9f3a"
                          ],
                          [
                            0.8888888888888888,
                            "#fdca26"
                          ],
                          [
                            1,
                            "#f0f921"
                          ]
                        ],
                        "type": "histogram2d"
                      }
                    ],
                    "histogram2dcontour": [
                      {
                        "colorbar": {
                          "outlinewidth": 0,
                          "ticks": ""
                        },
                        "colorscale": [
                          [
                            0,
                            "#0d0887"
                          ],
                          [
                            0.1111111111111111,
                            "#46039f"
                          ],
                          [
                            0.2222222222222222,
                            "#7201a8"
                          ],
                          [
                            0.3333333333333333,
                            "#9c179e"
                          ],
                          [
                            0.4444444444444444,
                            "#bd3786"
                          ],
                          [
                            0.5555555555555556,
                            "#d8576b"
                          ],
                          [
                            0.6666666666666666,
                            "#ed7953"
                          ],
                          [
                            0.7777777777777778,
                            "#fb9f3a"
                          ],
                          [
                            0.8888888888888888,
                            "#fdca26"
                          ],
                          [
                            1,
                            "#f0f921"
                          ]
                        ],
                        "type": "histogram2dcontour"
                      }
                    ],
                    "mesh3d": [
                      {
                        "colorbar": {
                          "outlinewidth": 0,
                          "ticks": ""
                        },
                        "type": "mesh3d"
                      }
                    ],
                    "parcoords": [
                      {
                        "line": {
                          "colorbar": {
                            "outlinewidth": 0,
                            "ticks": ""
                          }
                        },
                        "type": "parcoords"
                      }
                    ],
                    "pie": [
                      {
                        "automargin": true,
                        "type": "pie"
                      }
                    ],
                    "scatter": [
                      {
                        "fillpattern": {
                          "fillmode": "overlay",
                          "size": 10,
                          "solidity": 0.2
                        },
                        "type": "scatter"
                      }
                    ],
                    "scatter3d": [
                      {
                        "line": {
                          "colorbar": {
                            "outlinewidth": 0,
                            "ticks": ""
                          }
                        },
                        "marker": {
                          "colorbar": {
                            "outlinewidth": 0,
                            "ticks": ""
                          }
                        },
                        "type": "scatter3d"
                      }
                    ],
                    "scattercarpet": [
                      {
                        "marker": {
                          "colorbar": {
                            "outlinewidth": 0,
                            "ticks": ""
                          }
                        },
                        "type": "scattercarpet"
                      }
                    ],
                    "scattergeo": [
                      {
                        "marker": {
                          "colorbar": {
                            "outlinewidth": 0,
                            "ticks": ""
                          }
                        },
                        "type": "scattergeo"
                      }
                    ],
                    "scattergl": [
                      {
                        "marker": {
                          "colorbar": {
                            "outlinewidth": 0,
                            "ticks": ""
                          }
                        },
                        "type": "scattergl"
                      }
                    ],
                    "scattermapbox": [
                      {
                        "marker": {
                          "colorbar": {
                            "outlinewidth": 0,
                            "ticks": ""
                          }
                        },
                        "type": "scattermapbox"
                      }
                    ],
                    "scatterpolar": [
                      {
                        "marker": {
                          "colorbar": {
                            "outlinewidth": 0,
                            "ticks": ""
                          }
                        },
                        "type": "scatterpolar"
                      }
                    ],
                    "scatterpolargl": [
                      {
                        "marker": {
                          "colorbar": {
                            "outlinewidth": 0,
                            "ticks": ""
                          }
                        },
                        "type": "scatterpolargl"
                      }
                    ],
                    "scatterternary": [
                      {
                        "marker": {
                          "colorbar": {
                            "outlinewidth": 0,
                            "ticks": ""
                          }
                        },
                        "type": "scatterternary"
                      }
                    ],
                    "surface": [
                      {
                        "colorbar": {
                          "outlinewidth": 0,
                          "ticks": ""
                        },
                        "colorscale": [
                          [
                            0,
                            "#0d0887"
                          ],
                          [
                            0.1111111111111111,
                            "#46039f"
                          ],
                          [
                            0.2222222222222222,
                            "#7201a8"
                          ],
                          [
                            0.3333333333333333,
                            "#9c179e"
                          ],
                          [
                            0.4444444444444444,
                            "#bd3786"
                          ],
                          [
                            0.5555555555555556,
                            "#d8576b"
                          ],
                          [
                            0.6666666666666666,
                            "#ed7953"
                          ],
                          [
                            0.7777777777777778,
                            "#fb9f3a"
                          ],
                          [
                            0.8888888888888888,
                            "#fdca26"
                          ],
                          [
                            1,
                            "#f0f921"
                          ]
                        ],
                        "type": "surface"
                      }
                    ],
                    "table": [
                      {
                        "cells": {
                          "fill": {
                            "color": "#EBF0F8"
                          },
                          "line": {
                            "color": "white"
                          }
                        },
                        "header": {
                          "fill": {
                            "color": "#C8D4E3"
                          },
                          "line": {
                            "color": "white"
                          }
                        },
                        "type": "table"
                      }
                    ]
                  },
                  "layout": {
                    "annotationdefaults": {
                      "arrowcolor": "#2a3f5f",
                      "arrowhead": 0,
                      "arrowwidth": 1
                    },
                    "autotypenumbers": "strict",
                    "coloraxis": {
                      "colorbar": {
                        "outlinewidth": 0,
                        "ticks": ""
                      }
                    },
                    "colorscale": {
                      "diverging": [
                        [
                          0,
                          "#8e0152"
                        ],
                        [
                          0.1,
                          "#c51b7d"
                        ],
                        [
                          0.2,
                          "#de77ae"
                        ],
                        [
                          0.3,
                          "#f1b6da"
                        ],
                        [
                          0.4,
                          "#fde0ef"
                        ],
                        [
                          0.5,
                          "#f7f7f7"
                        ],
                        [
                          0.6,
                          "#e6f5d0"
                        ],
                        [
                          0.7,
                          "#b8e186"
                        ],
                        [
                          0.8,
                          "#7fbc41"
                        ],
                        [
                          0.9,
                          "#4d9221"
                        ],
                        [
                          1,
                          "#276419"
                        ]
                      ],
                      "sequential": [
                        [
                          0,
                          "#0d0887"
                        ],
                        [
                          0.1111111111111111,
                          "#46039f"
                        ],
                        [
                          0.2222222222222222,
                          "#7201a8"
                        ],
                        [
                          0.3333333333333333,
                          "#9c179e"
                        ],
                        [
                          0.4444444444444444,
                          "#bd3786"
                        ],
                        [
                          0.5555555555555556,
                          "#d8576b"
                        ],
                        [
                          0.6666666666666666,
                          "#ed7953"
                        ],
                        [
                          0.7777777777777778,
                          "#fb9f3a"
                        ],
                        [
                          0.8888888888888888,
                          "#fdca26"
                        ],
                        [
                          1,
                          "#f0f921"
                        ]
                      ],
                      "sequentialminus": [
                        [
                          0,
                          "#0d0887"
                        ],
                        [
                          0.1111111111111111,
                          "#46039f"
                        ],
                        [
                          0.2222222222222222,
                          "#7201a8"
                        ],
                        [
                          0.3333333333333333,
                          "#9c179e"
                        ],
                        [
                          0.4444444444444444,
                          "#bd3786"
                        ],
                        [
                          0.5555555555555556,
                          "#d8576b"
                        ],
                        [
                          0.6666666666666666,
                          "#ed7953"
                        ],
                        [
                          0.7777777777777778,
                          "#fb9f3a"
                        ],
                        [
                          0.8888888888888888,
                          "#fdca26"
                        ],
                        [
                          1,
                          "#f0f921"
                        ]
                      ]
                    },
                    "colorway": [
                      "#636efa",
                      "#EF553B",
                      "#00cc96",
                      "#ab63fa",
                      "#FFA15A",
                      "#19d3f3",
                      "#FF6692",
                      "#B6E880",
                      "#FF97FF",
                      "#FECB52"
                    ],
                    "font": {
                      "color": "#2a3f5f"
                    },
                    "geo": {
                      "bgcolor": "white",
                      "lakecolor": "white",
                      "landcolor": "#E5ECF6",
                      "showlakes": true,
                      "showland": true,
                      "subunitcolor": "white"
                    },
                    "hoverlabel": {
                      "align": "left"
                    },
                    "hovermode": "closest",
                    "mapbox": {
                      "style": "light"
                    },
                    "paper_bgcolor": "white",
                    "plot_bgcolor": "#E5ECF6",
                    "polar": {
                      "angularaxis": {
                        "gridcolor": "white",
                        "linecolor": "white",
                        "ticks": ""
                      },
                      "bgcolor": "#E5ECF6",
                      "radialaxis": {
                        "gridcolor": "white",
                        "linecolor": "white",
                        "ticks": ""
                      }
                    },
                    "scene": {
                      "xaxis": {
                        "backgroundcolor": "#E5ECF6",
                        "gridcolor": "white",
                        "gridwidth": 2,
                        "linecolor": "white",
                        "showbackground": true,
                        "ticks": "",
                        "zerolinecolor": "white"
                      },
                      "yaxis": {
                        "backgroundcolor": "#E5ECF6",
                        "gridcolor": "white",
                        "gridwidth": 2,
                        "linecolor": "white",
                        "showbackground": true,
                        "ticks": "",
                        "zerolinecolor": "white"
                      },
                      "zaxis": {
                        "backgroundcolor": "#E5ECF6",
                        "gridcolor": "white",
                        "gridwidth": 2,
                        "linecolor": "white",
                        "showbackground": true,
                        "ticks": "",
                        "zerolinecolor": "white"
                      }
                    },
                    "shapedefaults": {
                      "line": {
                        "color": "#2a3f5f"
                      }
                    },
                    "ternary": {
                      "aaxis": {
                        "gridcolor": "white",
                        "linecolor": "white",
                        "ticks": ""
                      },
                      "baxis": {
                        "gridcolor": "white",
                        "linecolor": "white",
                        "ticks": ""
                      },
                      "bgcolor": "#E5ECF6",
                      "caxis": {
                        "gridcolor": "white",
                        "linecolor": "white",
                        "ticks": ""
                      }
                    },
                    "title": {
                      "x": 0.05
                    },
                    "xaxis": {
                      "automargin": true,
                      "gridcolor": "white",
                      "linecolor": "white",
                      "ticks": "",
                      "title": {
                        "standoff": 15
                      },
                      "zerolinecolor": "white",
                      "zerolinewidth": 2
                    },
                    "yaxis": {
                      "automargin": true,
                      "gridcolor": "white",
                      "linecolor": "white",
                      "ticks": "",
                      "title": {
                        "standoff": 15
                      },
                      "zerolinecolor": "white",
                      "zerolinewidth": 2
                    }
                  }
                },
                "width": 1500,
                "xaxis": {
                  "tickvals": []
                },
                "yaxis": {
                  "tickvals": []
                }
              }
            }
          },
          "metadata": {},
          "output_type": "display_data"
        }
      ],
      "source": [
        "import sys\n",
        "sys.path.append(\"..\")\n",
        "import importlib\n",
        "import lib.tsne\n",
        "importlib.reload(lib.tsne)\n",
        "from lib.tsne import TSNE_Plot\n",
        "\n",
        "# if the data have no labels, you can use the following code to cluster the data\n",
        "tsne_plot = TSNE_Plot(merged_list, merged_embed, label = label, n_annotation_positions=0)\n",
        "tsne_plot.tsne_plot(n_sentence=10)"
      ]
    },
    {
      "attachments": {},
      "cell_type": "markdown",
      "metadata": {},
      "source": [
        "### T-SNE without labels\n",
        "当语料label没有给定时，算法将自动聚类并绘制T-SNE plot"
      ]
    },
    {
      "cell_type": "code",
      "execution_count": 5,
      "metadata": {},
      "outputs": [
        {
          "data": {
            "application/vnd.plotly.v1+json": {
              "config": {
                "plotlyServerURL": "https://plot.ly"
              },
              "data": [
                {
                  "legendgroup": "lines",
                  "marker": {
                    "color": "#000080",
                    "size": [
                      20,
                      10,
                      10,
                      10,
                      10,
                      10,
                      10,
                      20,
                      20,
                      10,
                      10,
                      10,
                      10,
                      10,
                      10,
                      10,
                      10,
                      10,
                      20,
                      10,
                      10,
                      10,
                      10,
                      10,
                      20,
                      10,
                      10,
                      20,
                      10,
                      10,
                      20,
                      10,
                      10,
                      10,
                      10,
                      20,
                      10,
                      10,
                      10,
                      20,
                      10,
                      10,
                      10,
                      20,
                      10,
                      20,
                      10,
                      10,
                      20,
                      20,
                      10,
                      10,
                      10,
                      20
                    ]
                  },
                  "mode": "markers",
                  "name": "2",
                  "showlegend": true,
                  "type": "scatter",
                  "x": [
                    -9.931828355301437,
                    -9.82774759987684,
                    -9.421816376400368,
                    -11.014556879790586,
                    -11.973129451192083,
                    -8.216699283317334,
                    -6.243417760216229,
                    -13.874533799668429,
                    -6.859570973050608,
                    -7.5453447725699325,
                    -10.727608271622646,
                    -10.660436428184324,
                    -11.93413796955038,
                    -9.324039932590198,
                    -10.462139101071154,
                    -7.8722896591741245,
                    -10.927580491291492,
                    -10.396803339203684,
                    -9.627761614769174,
                    -13.541715409362538,
                    -12.5562509351683,
                    -10.669697918464415,
                    -10.214499146060255,
                    -9.002836653564863,
                    -9.61288558037894,
                    -11.050042473883092,
                    -1.9612323410517358,
                    -10.432498026919955,
                    -9.07924961320138,
                    -8.84156330056658,
                    -9.496395029549536,
                    -9.267320965008581,
                    -13.860319537904568,
                    -11.722425648579556,
                    -11.6349643377961,
                    -9.763961709743215,
                    -10.11981016456186,
                    -8.934920904464972,
                    -9.764341845527458,
                    -9.893852365443758,
                    -10.886138508483677,
                    -8.610050069580335,
                    -11.284920364363312,
                    -9.718312294167019,
                    -10.101073749238186,
                    -12.938706550488428,
                    -11.558740128106281,
                    -12.554339346033464,
                    -9.072904669037554,
                    -10.061085077535868,
                    -8.241101272422103,
                    -13.585153424422472,
                    -11.679439111637265,
                    -6.739934943633091
                  ],
                  "y": [
                    -0.37653143159443364,
                    -4.152385585056833,
                    0.40711498129939766,
                    -0.7860470114447544,
                    -2.448427984774973,
                    1.8352038123200616,
                    0.3037226436321472,
                    -2.4447318015995103,
                    0.20610966547639245,
                    -0.8786062214492933,
                    -3.7893082727932126,
                    -0.28257746228714364,
                    -0.5488691848210325,
                    -4.3406663750098335,
                    -3.239152979610728,
                    -2.9425873455638687,
                    -5.584167952643053,
                    -3.310837467386665,
                    -1.1276189428142869,
                    -1.4830002479818591,
                    -3.3794865539908714,
                    -5.449628090670366,
                    -2.218557312999692,
                    -1.6900993636922017,
                    -1.7214935140263365,
                    0.9371269608392196,
                    0.5588157857895153,
                    0.6061398734934424,
                    -3.152497063190417,
                    -3.8341940203104374,
                    -3.6597536468453202,
                    -0.8700471509089791,
                    -2.5318431271831927,
                    -2.7413331765380726,
                    -2.6027665808770837,
                    -4.638335082785714,
                    -1.3231025329809418,
                    -0.03728046359886748,
                    -2.6995328889909507,
                    -2.97623874837361,
                    -0.9876010664355208,
                    -1.0047907825678175,
                    -0.314344454713211,
                    -6.003286843031494,
                    -3.407358043963237,
                    -3.690308641669648,
                    0.020839266020811396,
                    -4.575517180605039,
                    -3.8554480568106317,
                    0.4834362214728496,
                    1.8281612783804984,
                    -1.6068518509288077,
                    -1.9426979905454351,
                    0.3014559083891531
                  ]
                },
                {
                  "legendgroup": "lines",
                  "marker": {
                    "color": "#00d4ff",
                    "size": [
                      20,
                      20,
                      10,
                      10,
                      10,
                      10,
                      20,
                      10,
                      10,
                      10,
                      20,
                      10,
                      10,
                      10,
                      10,
                      10,
                      10,
                      20,
                      10,
                      10,
                      10,
                      20,
                      10,
                      10,
                      10,
                      10,
                      20,
                      10,
                      10,
                      10,
                      10,
                      10,
                      10,
                      10,
                      10,
                      20,
                      20,
                      10,
                      10,
                      10,
                      10,
                      10,
                      10,
                      10,
                      10,
                      20,
                      10,
                      10,
                      10,
                      10,
                      10,
                      10,
                      10,
                      10,
                      20,
                      10,
                      10,
                      10,
                      20,
                      10,
                      10,
                      20,
                      10,
                      10
                    ]
                  },
                  "mode": "markers",
                  "name": "0",
                  "showlegend": true,
                  "type": "scatter",
                  "x": [
                    5.165190570470546,
                    6.57513004320958,
                    -1.0763539641314699,
                    7.0559016330168545,
                    0.11287056154402675,
                    0.20553896057176688,
                    7.064874121445065,
                    7.3064955750541865,
                    5.648915295239513,
                    5.532905396897012,
                    8.400276535136232,
                    6.6664703515927455,
                    -1.8229073722211737,
                    8.276009469428299,
                    6.531785626839689,
                    5.347629528360841,
                    3.7801497364280428,
                    -0.40693748798335094,
                    4.673542216041737,
                    -1.1704820800162343,
                    2.0965225059988946,
                    3.5273814363778877,
                    5.429539382398531,
                    4.192626892236806,
                    7.6585639496048,
                    8.42542610243171,
                    -0.5403899362116354,
                    4.7867463385801985,
                    4.018160200117581,
                    -1.6868391686797388,
                    6.568711745722569,
                    -0.7102460483578782,
                    3.5690900022759524,
                    0.3129423931221277,
                    9.276236949535841,
                    6.722150230915142,
                    7.0193748971762,
                    4.810767531259373,
                    8.489444998915763,
                    6.829018510882751,
                    5.4262028614682265,
                    5.091682495030797,
                    3.125337467685819,
                    7.714660166778817,
                    8.166447455652499,
                    2.1015049160633437,
                    3.49804660589681,
                    1.9151868099475136,
                    2.954728402728135,
                    1.6769477675968547,
                    2.799673598112994,
                    7.5020295719251955,
                    9.259080659713813,
                    2.7105304734547278,
                    -0.8886222636651401,
                    -0.8092899157228195,
                    5.27549648242594,
                    5.288616503168436,
                    4.190617424784955,
                    4.015619017210746,
                    2.476140387497113,
                    4.474794136832452,
                    5.429194095000071,
                    6.546738474924974
                  ],
                  "y": [
                    -2.383515178453127,
                    2.2221708492289785,
                    2.388105115928494,
                    -2.3191523486446384,
                    2.6550179099558684,
                    -0.6649961834149842,
                    0.32392777636904324,
                    -3.274498773486403,
                    3.247617319878157,
                    -1.0332280804820384,
                    3.519594042110049,
                    1.9978944145590896,
                    0.7363764806792723,
                    0.9935967114313271,
                    -1.6529042731527643,
                    -1.9861507022559812,
                    -1.9108510436701795,
                    2.359260174318197,
                    -3.1499252389629464,
                    2.04155880390472,
                    1.4532032965702593,
                    3.1094004047592603,
                    3.224640821116997,
                    3.9489650341719034,
                    -3.1726204231973454,
                    3.56006987311217,
                    2.5860852742173623,
                    0.24445666336231994,
                    0.7399357337723178,
                    0.47611136504125784,
                    -1.662891115902451,
                    2.8049195872195454,
                    2.7222392219996596,
                    -0.8481085146424716,
                    -0.37218762467082245,
                    2.0151740626318375,
                    -1.0394050551969751,
                    -1.7757192562929247,
                    3.5558740492824183,
                    -1.9866747765091046,
                    -2.9413546797731946,
                    0.8572932331143268,
                    -0.3580892380709652,
                    -0.8019938850148018,
                    1.3388922476283631,
                    -1.3772439817854272,
                    -0.7480684142010339,
                    0.38335820708137364,
                    2.9386394563979956,
                    -1.217768682308139,
                    0.33339795501456426,
                    -1.8402495362020566,
                    -2.3105448642753874,
                    2.9127751714667514,
                    0.678534052401629,
                    2.186623733584364,
                    2.986990208703152,
                    -1.3425984000497957,
                    1.6599054036797296,
                    0.7458061756682235,
                    0.31852383955944696,
                    -3.4306956320605844,
                    2.161926979743811,
                    -0.6685333392601658
                  ]
                },
                {
                  "legendgroup": "lines",
                  "marker": {
                    "color": "#ffe600",
                    "size": [
                      20,
                      10,
                      20,
                      10,
                      10,
                      10,
                      10,
                      10,
                      10,
                      20,
                      10,
                      10,
                      10,
                      10,
                      10,
                      10,
                      20,
                      10,
                      20
                    ]
                  },
                  "mode": "markers",
                  "name": "3",
                  "showlegend": true,
                  "type": "scatter",
                  "x": [
                    -13.71505622112396,
                    -14.335742653588259,
                    -14.9521041921452,
                    -12.395587730484781,
                    -13.989259752949103,
                    -14.450065985382311,
                    -14.525250626426725,
                    -13.218950865321673,
                    -11.108647913700256,
                    -11.821447489972428,
                    -12.815618590828338,
                    -12.031708584814508,
                    -13.61645849240153,
                    -13.726337711560813,
                    -13.952928855743718,
                    -14.46398198406013,
                    -14.377913367432015,
                    -12.534451576916856,
                    -13.06767726848741
                  ],
                  "y": [
                    3.1038617658452936,
                    1.4675200790974534,
                    2.8266710800146826,
                    3.174658326918545,
                    1.6804761754296005,
                    3.8131107231974912,
                    3.7519317868691946,
                    2.0748983578692703,
                    1.8014693439207647,
                    1.8844772079693282,
                    0.8276733462763686,
                    1.8218242354976766,
                    0.6528206783477524,
                    3.304765984604765,
                    3.324543533918456,
                    0.9467654914705212,
                    2.994594973841711,
                    2.63667093781792,
                    2.3120612462943644
                  ]
                },
                {
                  "legendgroup": "lines",
                  "marker": {
                    "color": "#800000",
                    "size": [
                      20,
                      20,
                      10,
                      10,
                      10,
                      10,
                      10,
                      10,
                      10,
                      10,
                      20,
                      10,
                      10,
                      10,
                      20,
                      10,
                      10,
                      10,
                      10,
                      10,
                      10,
                      10,
                      10,
                      10,
                      10,
                      10,
                      10,
                      20,
                      20,
                      10,
                      20,
                      10,
                      10,
                      20,
                      10,
                      10,
                      20,
                      10,
                      10
                    ]
                  },
                  "mode": "markers",
                  "name": "1",
                  "showlegend": true,
                  "type": "scatter",
                  "x": [
                    8.88466330090008,
                    12.326290468057445,
                    14.445211521873299,
                    13.253746636930627,
                    13.646248817685889,
                    11.974282445177492,
                    11.115547163511119,
                    12.968241967251577,
                    14.700140153368801,
                    13.085399132667225,
                    14.466165682032472,
                    13.914912217161762,
                    13.599047098191232,
                    13.421977549883271,
                    15.86152687165973,
                    14.740740469746678,
                    14.587002382584515,
                    11.897552583828144,
                    15.076413306982882,
                    15.206486499311739,
                    13.367526388080789,
                    13.333827364499397,
                    13.774509616837852,
                    11.330829168127785,
                    15.722744786500508,
                    14.228349542530527,
                    12.316430774875787,
                    11.609999415621163,
                    14.324755632610668,
                    12.82372551704112,
                    13.538938469152683,
                    13.54991177081116,
                    13.859870922901983,
                    13.473207307867932,
                    11.242883346810192,
                    12.886530860266776,
                    14.962149421141264,
                    15.062831762946555,
                    15.20909977536256
                  ],
                  "y": [
                    -1.9596161238991607,
                    1.3150385316772737,
                    1.371060643280619,
                    1.6760745712592902,
                    1.2417472843009523,
                    3.269341826849238,
                    0.9658381522387434,
                    2.103899283947927,
                    1.9453030292595697,
                    0.29374862172048366,
                    2.8466142381015738,
                    2.202769645987239,
                    0.7868294563778082,
                    -1.3390902957195323,
                    1.0048764086504796,
                    1.4654311900946884,
                    -0.9026249628685714,
                    2.4171693437211363,
                    0.8289601806970368,
                    -0.5666906322680967,
                    0.7279151156978172,
                    1.1456560814375505,
                    0.8998637739067121,
                    -0.7207548432892255,
                    -0.0349316894305734,
                    -0.27085003340275315,
                    -0.2802711085450645,
                    2.736853259673534,
                    2.2629601822035252,
                    -1.1849901575520578,
                    -1.3365601011718218,
                    -0.38294365637528943,
                    -0.06369420377983345,
                    2.5249230596708676,
                    1.5074703880623923,
                    2.8666121220063423,
                    -0.49822481849829003,
                    1.7095233618900296,
                    0.02685929011064674
                  ]
                },
                {
                  "legendgroup": "lines",
                  "line": {
                    "color": "#000080"
                  },
                  "mode": "lines",
                  "showlegend": false,
                  "type": "scatter",
                  "x": [
                    -15.9521041921452,
                    -10.931828355301437,
                    -10.431828355301437,
                    -9.931828355301437
                  ],
                  "y": [
                    -2.2957786177206962,
                    -2.2957786177206962,
                    -0.37653143159443364,
                    -0.37653143159443364
                  ]
                },
                {
                  "legendgroup": "lines",
                  "line": {
                    "color": "#00d4ff"
                  },
                  "mode": "lines",
                  "showlegend": false,
                  "type": "scatter",
                  "x": [
                    17.86152687165973,
                    6.165190570470546,
                    5.665190570470546,
                    5.165190570470546
                  ],
                  "y": [
                    -13.295635955682346,
                    -13.295635955682346,
                    -2.383515178453127,
                    -2.383515178453127
                  ]
                },
                {
                  "legendgroup": "lines",
                  "line": {
                    "color": "#00d4ff"
                  },
                  "mode": "lines",
                  "showlegend": false,
                  "type": "scatter",
                  "x": [
                    17.86152687165973,
                    7.57513004320958,
                    7.07513004320958,
                    6.57513004320958
                  ],
                  "y": [
                    8.704078720240954,
                    8.704078720240954,
                    2.2221708492289785,
                    2.2221708492289785
                  ]
                },
                {
                  "legendgroup": "lines",
                  "line": {
                    "color": "#ffe600"
                  },
                  "mode": "lines",
                  "showlegend": false,
                  "type": "scatter",
                  "x": [
                    -15.9521041921452,
                    -14.71505622112396,
                    -14.21505622112396,
                    -13.71505622112396
                  ],
                  "y": [
                    5.561262337966195,
                    5.561262337966195,
                    3.1038617658452936,
                    3.1038617658452936
                  ]
                },
                {
                  "legendgroup": "lines",
                  "line": {
                    "color": "#00d4ff"
                  },
                  "mode": "lines",
                  "showlegend": false,
                  "type": "scatter",
                  "x": [
                    17.86152687165973,
                    8.064874121445065,
                    7.564874121445065,
                    7.064874121445065
                  ],
                  "y": [
                    -7.0100031911328315,
                    -7.0100031911328315,
                    0.32392777636904324,
                    0.32392777636904324
                  ]
                },
                {
                  "legendgroup": "lines",
                  "line": {
                    "color": "#800000"
                  },
                  "mode": "lines",
                  "showlegend": false,
                  "type": "scatter",
                  "x": [
                    17.86152687165973,
                    9.88466330090008,
                    9.38466330090008,
                    8.88466330090008
                  ],
                  "y": [
                    -8.581411382270211,
                    -8.581411382270211,
                    -1.9596161238991607,
                    -1.9596161238991607
                  ]
                },
                {
                  "legendgroup": "lines",
                  "line": {
                    "color": "#000080"
                  },
                  "mode": "lines",
                  "showlegend": false,
                  "type": "scatter",
                  "x": [
                    -15.9521041921452,
                    -14.874533799668429,
                    -14.374533799668429,
                    -13.874533799668429
                  ],
                  "y": [
                    -3.867186808858076,
                    -3.867186808858076,
                    -2.4447318015995103,
                    -2.4447318015995103
                  ]
                },
                {
                  "legendgroup": "lines",
                  "line": {
                    "color": "#000080"
                  },
                  "mode": "lines",
                  "showlegend": false,
                  "type": "scatter",
                  "x": [
                    -15.9521041921452,
                    -7.859570973050608,
                    -7.359570973050608,
                    -6.859570973050608
                  ],
                  "y": [
                    -11.724227764544967,
                    -11.724227764544967,
                    0.20610966547639245,
                    0.20610966547639245
                  ]
                },
                {
                  "legendgroup": "lines",
                  "line": {
                    "color": "#800000"
                  },
                  "mode": "lines",
                  "showlegend": false,
                  "type": "scatter",
                  "x": [
                    17.86152687165973,
                    13.326290468057445,
                    12.826290468057445,
                    12.326290468057445
                  ],
                  "y": [
                    -0.7243704265833166,
                    -0.7243704265833166,
                    1.3150385316772737,
                    1.3150385316772737
                  ]
                },
                {
                  "legendgroup": "lines",
                  "line": {
                    "color": "#ffe600"
                  },
                  "mode": "lines",
                  "showlegend": false,
                  "type": "scatter",
                  "x": [
                    -15.9521041921452,
                    -15.9521041921452,
                    -15.4521041921452,
                    -14.9521041921452
                  ],
                  "y": [
                    2.418445955691439,
                    2.418445955691439,
                    2.8266710800146826,
                    2.8266710800146826
                  ]
                },
                {
                  "legendgroup": "lines",
                  "line": {
                    "color": "#00d4ff"
                  },
                  "mode": "lines",
                  "showlegend": false,
                  "type": "scatter",
                  "x": [
                    17.86152687165973,
                    9.400276535136232,
                    8.900276535136232,
                    8.400276535136232
                  ],
                  "y": [
                    10.27548691137833,
                    10.27548691137833,
                    3.519594042110049,
                    3.519594042110049
                  ]
                },
                {
                  "legendgroup": "lines",
                  "line": {
                    "color": "#000080"
                  },
                  "mode": "lines",
                  "showlegend": false,
                  "type": "scatter",
                  "x": [
                    -15.9521041921452,
                    -10.627761614769174,
                    -10.127761614769174,
                    -9.627761614769174
                  ],
                  "y": [
                    -7.0100031911328315,
                    -7.0100031911328315,
                    -1.1276189428142869,
                    -1.1276189428142869
                  ]
                },
                {
                  "legendgroup": "lines",
                  "line": {
                    "color": "#00d4ff"
                  },
                  "mode": "lines",
                  "showlegend": false,
                  "type": "scatter",
                  "x": [
                    0,
                    0.5930625120166491,
                    0.09306251201664906,
                    -0.40693748798335094
                  ],
                  "y": [
                    0,
                    0,
                    2.359260174318197,
                    2.359260174318197
                  ]
                },
                {
                  "legendgroup": "lines",
                  "line": {
                    "color": "#00d4ff"
                  },
                  "mode": "lines",
                  "showlegend": false,
                  "type": "scatter",
                  "x": [
                    17.86152687165973,
                    4.527381436377888,
                    4.027381436377888,
                    3.5273814363778877
                  ],
                  "y": [
                    11.84689510251571,
                    11.84689510251571,
                    3.1094004047592603,
                    3.1094004047592603
                  ]
                },
                {
                  "legendgroup": "lines",
                  "line": {
                    "color": "#800000"
                  },
                  "mode": "lines",
                  "showlegend": false,
                  "type": "scatter",
                  "x": [
                    17.86152687165973,
                    15.466165682032472,
                    14.966165682032472,
                    14.466165682032472
                  ],
                  "y": [
                    3.9898541468288187,
                    3.9898541468288187,
                    2.8466142381015738,
                    2.8466142381015738
                  ]
                },
                {
                  "legendgroup": "lines",
                  "line": {
                    "color": "#000080"
                  },
                  "mode": "lines",
                  "showlegend": false,
                  "type": "scatter",
                  "x": [
                    -15.9521041921452,
                    -10.61288558037894,
                    -10.11288558037894,
                    -9.61288558037894
                  ],
                  "y": [
                    -8.581411382270211,
                    -8.581411382270211,
                    -1.7214935140263365,
                    -1.7214935140263365
                  ]
                },
                {
                  "legendgroup": "lines",
                  "line": {
                    "color": "#00d4ff"
                  },
                  "mode": "lines",
                  "showlegend": false,
                  "type": "scatter",
                  "x": [
                    -15.9521041921452,
                    -1.5403899362116356,
                    -1.0403899362116356,
                    -0.5403899362116354
                  ],
                  "y": [
                    11.84689510251571,
                    11.84689510251571,
                    2.5860852742173623,
                    2.5860852742173623
                  ]
                },
                {
                  "legendgroup": "lines",
                  "line": {
                    "color": "#800000"
                  },
                  "mode": "lines",
                  "showlegend": false,
                  "type": "scatter",
                  "x": [
                    17.86152687165973,
                    16.86152687165973,
                    16.36152687165973,
                    15.86152687165973
                  ],
                  "y": [
                    0.8470377645540594,
                    0.8470377645540594,
                    1.0048764086504796,
                    1.0048764086504796
                  ]
                },
                {
                  "legendgroup": "lines",
                  "line": {
                    "color": "#000080"
                  },
                  "mode": "lines",
                  "showlegend": false,
                  "type": "scatter",
                  "x": [
                    -15.9521041921452,
                    -11.432498026919955,
                    -10.932498026919955,
                    -10.432498026919955
                  ],
                  "y": [
                    0.8470377645540594,
                    0.8470377645540594,
                    0.6061398734934424,
                    0.6061398734934424
                  ]
                },
                {
                  "legendgroup": "lines",
                  "line": {
                    "color": "#00d4ff"
                  },
                  "mode": "lines",
                  "showlegend": false,
                  "type": "scatter",
                  "x": [
                    17.86152687165973,
                    7.722150230915142,
                    7.222150230915142,
                    6.722150230915142
                  ],
                  "y": [
                    -5.438594999995454,
                    -5.438594999995454,
                    2.0151740626318375,
                    2.0151740626318375
                  ]
                },
                {
                  "legendgroup": "lines",
                  "line": {
                    "color": "#00d4ff"
                  },
                  "mode": "lines",
                  "showlegend": false,
                  "type": "scatter",
                  "x": [
                    17.86152687165973,
                    8.0193748971762,
                    7.5193748971762,
                    7.0193748971762
                  ],
                  "y": [
                    -11.724227764544967,
                    -11.724227764544967,
                    -1.0394050551969751,
                    -1.0394050551969751
                  ]
                },
                {
                  "legendgroup": "lines",
                  "line": {
                    "color": "#000080"
                  },
                  "mode": "lines",
                  "showlegend": false,
                  "type": "scatter",
                  "x": [
                    -15.9521041921452,
                    -10.496395029549536,
                    -9.996395029549536,
                    -9.496395029549536
                  ],
                  "y": [
                    -13.295635955682346,
                    -13.295635955682346,
                    -3.6597536468453202,
                    -3.6597536468453202
                  ]
                },
                {
                  "legendgroup": "lines",
                  "line": {
                    "color": "#000080"
                  },
                  "mode": "lines",
                  "showlegend": false,
                  "type": "scatter",
                  "x": [
                    -15.9521041921452,
                    -10.763961709743215,
                    -10.263961709743215,
                    -9.763961709743215
                  ],
                  "y": [
                    -14.867044146819724,
                    -14.867044146819724,
                    -4.638335082785714,
                    -4.638335082785714
                  ]
                },
                {
                  "legendgroup": "lines",
                  "line": {
                    "color": "#ffe600"
                  },
                  "mode": "lines",
                  "showlegend": false,
                  "type": "scatter",
                  "x": [
                    -15.9521041921452,
                    -12.821447489972428,
                    -12.321447489972428,
                    -11.821447489972428
                  ],
                  "y": [
                    8.704078720240954,
                    8.704078720240954,
                    1.8844772079693282,
                    1.8844772079693282
                  ]
                },
                {
                  "legendgroup": "lines",
                  "line": {
                    "color": "#000080"
                  },
                  "mode": "lines",
                  "showlegend": false,
                  "type": "scatter",
                  "x": [
                    -15.9521041921452,
                    -10.893852365443758,
                    -10.393852365443758,
                    -9.893852365443758
                  ],
                  "y": [
                    -10.152819573407589,
                    -10.152819573407589,
                    -2.97623874837361,
                    -2.97623874837361
                  ]
                },
                {
                  "legendgroup": "lines",
                  "line": {
                    "color": "#00d4ff"
                  },
                  "mode": "lines",
                  "showlegend": false,
                  "type": "scatter",
                  "x": [
                    17.86152687165973,
                    3.1015049160633437,
                    2.6015049160633437,
                    2.1015049160633437
                  ],
                  "y": [
                    -16.438452337957102,
                    -16.438452337957102,
                    -1.3772439817854272,
                    -1.3772439817854272
                  ]
                },
                {
                  "legendgroup": "lines",
                  "line": {
                    "color": "#800000"
                  },
                  "mode": "lines",
                  "showlegend": false,
                  "type": "scatter",
                  "x": [
                    17.86152687165973,
                    12.609999415621163,
                    12.109999415621163,
                    11.609999415621163
                  ],
                  "y": [
                    7.132670529103574,
                    7.132670529103574,
                    2.736853259673534,
                    2.736853259673534
                  ]
                },
                {
                  "legendgroup": "lines",
                  "line": {
                    "color": "#800000"
                  },
                  "mode": "lines",
                  "showlegend": false,
                  "type": "scatter",
                  "x": [
                    17.86152687165973,
                    15.324755632610668,
                    14.824755632610668,
                    14.324755632610668
                  ],
                  "y": [
                    2.418445955691439,
                    2.418445955691439,
                    2.2629601822035252,
                    2.2629601822035252
                  ]
                },
                {
                  "legendgroup": "lines",
                  "line": {
                    "color": "#000080"
                  },
                  "mode": "lines",
                  "showlegend": false,
                  "type": "scatter",
                  "x": [
                    -15.9521041921452,
                    -10.718312294167019,
                    -10.218312294167019,
                    -9.718312294167019
                  ],
                  "y": [
                    -18.00986052909448,
                    -18.00986052909448,
                    -6.003286843031494,
                    -6.003286843031494
                  ]
                },
                {
                  "legendgroup": "lines",
                  "line": {
                    "color": "#000080"
                  },
                  "mode": "lines",
                  "showlegend": false,
                  "type": "scatter",
                  "x": [
                    -15.9521041921452,
                    -13.938706550488428,
                    -13.438706550488428,
                    -12.938706550488428
                  ],
                  "y": [
                    -5.438594999995454,
                    -5.438594999995454,
                    -3.690308641669648,
                    -3.690308641669648
                  ]
                },
                {
                  "legendgroup": "lines",
                  "line": {
                    "color": "#800000"
                  },
                  "mode": "lines",
                  "showlegend": false,
                  "type": "scatter",
                  "x": [
                    17.86152687165973,
                    14.538938469152683,
                    14.038938469152683,
                    13.538938469152683
                  ],
                  "y": [
                    -3.867186808858076,
                    -3.867186808858076,
                    -1.3365601011718218,
                    -1.3365601011718218
                  ]
                },
                {
                  "legendgroup": "lines",
                  "line": {
                    "color": "#00d4ff"
                  },
                  "mode": "lines",
                  "showlegend": false,
                  "type": "scatter",
                  "x": [
                    17.86152687165973,
                    0.11137773633485992,
                    -0.3886222636651401,
                    -0.8886222636651401
                  ],
                  "y": [
                    -18.00986052909448,
                    -18.00986052909448,
                    0.678534052401629,
                    0.678534052401629
                  ]
                },
                {
                  "legendgroup": "lines",
                  "line": {
                    "color": "#000080"
                  },
                  "mode": "lines",
                  "showlegend": false,
                  "type": "scatter",
                  "x": [
                    -15.9521041921452,
                    -10.072904669037554,
                    -9.572904669037554,
                    -9.072904669037554
                  ],
                  "y": [
                    -16.438452337957102,
                    -16.438452337957102,
                    -3.8554480568106317,
                    -3.8554480568106317
                  ]
                },
                {
                  "legendgroup": "lines",
                  "line": {
                    "color": "#000080"
                  },
                  "mode": "lines",
                  "showlegend": false,
                  "type": "scatter",
                  "x": [
                    -15.9521041921452,
                    -11.061085077535868,
                    -10.561085077535868,
                    -10.061085077535868
                  ],
                  "y": [
                    -0.7243704265833166,
                    -0.7243704265833166,
                    0.4834362214728496,
                    0.4834362214728496
                  ]
                },
                {
                  "legendgroup": "lines",
                  "line": {
                    "color": "#ffe600"
                  },
                  "mode": "lines",
                  "showlegend": false,
                  "type": "scatter",
                  "x": [
                    -15.9521041921452,
                    -15.377913367432015,
                    -14.877913367432015,
                    -14.377913367432015
                  ],
                  "y": [
                    3.9898541468288187,
                    3.9898541468288187,
                    2.994594973841711,
                    2.994594973841711
                  ]
                },
                {
                  "legendgroup": "lines",
                  "line": {
                    "color": "#800000"
                  },
                  "mode": "lines",
                  "showlegend": false,
                  "type": "scatter",
                  "x": [
                    17.86152687165973,
                    14.473207307867932,
                    13.973207307867932,
                    13.473207307867932
                  ],
                  "y": [
                    5.561262337966195,
                    5.561262337966195,
                    2.5249230596708676,
                    2.5249230596708676
                  ]
                },
                {
                  "legendgroup": "lines",
                  "line": {
                    "color": "#00d4ff"
                  },
                  "mode": "lines",
                  "showlegend": false,
                  "type": "scatter",
                  "x": [
                    17.86152687165973,
                    5.190617424784955,
                    4.690617424784955,
                    4.190617424784955
                  ],
                  "y": [
                    -10.152819573407589,
                    -10.152819573407589,
                    1.6599054036797296,
                    1.6599054036797296
                  ]
                },
                {
                  "legendgroup": "lines",
                  "line": {
                    "color": "#00d4ff"
                  },
                  "mode": "lines",
                  "showlegend": false,
                  "type": "scatter",
                  "x": [
                    17.86152687165973,
                    5.474794136832452,
                    4.974794136832452,
                    4.474794136832452
                  ],
                  "y": [
                    -14.867044146819724,
                    -14.867044146819724,
                    -3.4306956320605844,
                    -3.4306956320605844
                  ]
                },
                {
                  "legendgroup": "lines",
                  "line": {
                    "color": "#800000"
                  },
                  "mode": "lines",
                  "showlegend": false,
                  "type": "scatter",
                  "x": [
                    17.86152687165973,
                    15.962149421141264,
                    15.462149421141264,
                    14.962149421141264
                  ],
                  "y": [
                    -2.2957786177206962,
                    -2.2957786177206962,
                    -0.49822481849829003,
                    -0.49822481849829003
                  ]
                },
                {
                  "legendgroup": "lines",
                  "line": {
                    "color": "#000080"
                  },
                  "mode": "lines",
                  "showlegend": false,
                  "type": "scatter",
                  "x": [
                    -15.9521041921452,
                    -7.739934943633091,
                    -7.239934943633091,
                    -6.739934943633091
                  ],
                  "y": [
                    10.27548691137833,
                    10.27548691137833,
                    0.3014559083891531,
                    0.3014559083891531
                  ]
                },
                {
                  "legendgroup": "lines",
                  "line": {
                    "color": "#ffe600"
                  },
                  "mode": "lines",
                  "showlegend": false,
                  "type": "scatter",
                  "x": [
                    -15.9521041921452,
                    -14.06767726848741,
                    -13.56767726848741,
                    -13.06767726848741
                  ],
                  "y": [
                    7.132670529103574,
                    7.132670529103574,
                    2.3120612462943644,
                    2.3120612462943644
                  ]
                }
              ],
              "layout": {
                "annotations": [
                  {
                    "bgcolor": "#e6e6f2",
                    "bordercolor": "#000080",
                    "borderpad": 2,
                    "font": {
                      "color": "black"
                    },
                    "showarrow": false,
                    "text": "南郑县气象局2016...性天气。请注意防范。",
                    "x": -15.9521041921452,
                    "xanchor": "right",
                    "xref": "x",
                    "y": -2.2957786177206962,
                    "yanchor": "middle",
                    "yref": "y"
                  },
                  {
                    "bgcolor": "#e6fbff",
                    "bordercolor": "#00d4ff",
                    "borderpad": 2,
                    "font": {
                      "color": "black"
                    },
                    "showarrow": false,
                    "text": "前日下午,涪陵区一小...育器材、电动扶梯等。",
                    "x": 17.86152687165973,
                    "xanchor": "left",
                    "xref": "x",
                    "y": -13.295635955682346,
                    "yanchor": "middle",
                    "yref": "y"
                  },
                  {
                    "bgcolor": "#e6fbff",
                    "bordercolor": "#00d4ff",
                    "borderpad": 2,
                    "font": {
                      "color": "black"
                    },
                    "showarrow": false,
                    "text": "2015-06-14...事营运等方向的发展。",
                    "x": 17.86152687165973,
                    "xanchor": "left",
                    "xref": "x",
                    "y": 8.704078720240954,
                    "yanchor": "middle",
                    "yref": "y"
                  },
                  {
                    "bgcolor": "#fffde6",
                    "bordercolor": "#ffe600",
                    "borderpad": 2,
                    "font": {
                      "color": "black"
                    },
                    "showarrow": false,
                    "text": "苍梧县气象台2016...气,请注意做好防范。",
                    "x": -15.9521041921452,
                    "xanchor": "right",
                    "xref": "x",
                    "y": 5.561262337966195,
                    "yanchor": "middle",
                    "yref": "y"
                  },
                  {
                    "bgcolor": "#e6fbff",
                    "bordercolor": "#00d4ff",
                    "borderpad": 2,
                    "font": {
                      "color": "black"
                    },
                    "showarrow": false,
                    "text": "要问当下什么最流行集...|。王。荣编辑。|。",
                    "x": 17.86152687165973,
                    "xanchor": "left",
                    "xref": "x",
                    "y": -7.0100031911328315,
                    "yanchor": "middle",
                    "yref": "y"
                  },
                  {
                    "bgcolor": "#f2e6e6",
                    "bordercolor": "#800000",
                    "borderpad": 2,
                    "font": {
                      "color": "black"
                    },
                    "showarrow": false,
                    "text": "小杨之前独自参加马拉...马拉松宣传片的主角。",
                    "x": 17.86152687165973,
                    "xanchor": "left",
                    "xref": "x",
                    "y": -8.581411382270211,
                    "yanchor": "middle",
                    "yref": "y"
                  },
                  {
                    "bgcolor": "#e6e6f2",
                    "bordercolor": "#000080",
                    "borderpad": 2,
                    "font": {
                      "color": "black"
                    },
                    "showarrow": false,
                    "text": "白城市气象局2016...关单位注意做好预防。",
                    "x": -15.9521041921452,
                    "xanchor": "right",
                    "xref": "x",
                    "y": -3.867186808858076,
                    "yanchor": "middle",
                    "yref": "y"
                  },
                  {
                    "bgcolor": "#e6e6f2",
                    "bordercolor": "#000080",
                    "borderpad": 2,
                    "font": {
                      "color": "black"
                    },
                    "showarrow": false,
                    "text": "受对流云系影响,我县...气,尽量避免户外活动",
                    "x": -15.9521041921452,
                    "xanchor": "right",
                    "xref": "x",
                    "y": -11.724227764544967,
                    "yanchor": "middle",
                    "yref": "y"
                  },
                  {
                    "bgcolor": "#f2e6e6",
                    "bordercolor": "#800000",
                    "borderpad": 2,
                    "font": {
                      "color": "black"
                    },
                    "showarrow": false,
                    "text": "2015-07-25...梁容银和白石贤1杆。",
                    "x": 17.86152687165973,
                    "xanchor": "left",
                    "xref": "x",
                    "y": -0.7243704265833166,
                    "yanchor": "middle",
                    "yref": "y"
                  },
                  {
                    "bgcolor": "#fffde6",
                    "bordercolor": "#ffe600",
                    "borderpad": 2,
                    "font": {
                      "color": "black"
                    },
                    "showarrow": false,
                    "text": "东丰县气象台2016...,有关部门注意防范。",
                    "x": -15.9521041921452,
                    "xanchor": "right",
                    "xref": "x",
                    "y": 2.418445955691439,
                    "yanchor": "middle",
                    "yref": "y"
                  },
                  {
                    "bgcolor": "#e6fbff",
                    "bordercolor": "#00d4ff",
                    "borderpad": 2,
                    "font": {
                      "color": "black"
                    },
                    "showarrow": false,
                    "text": "图片说明:台军早年曾...防御能力。责编:田聿",
                    "x": 17.86152687165973,
                    "xanchor": "left",
                    "xref": "x",
                    "y": 10.27548691137833,
                    "yanchor": "middle",
                    "yref": "y"
                  },
                  {
                    "bgcolor": "#e6e6f2",
                    "bordercolor": "#000080",
                    "borderpad": 2,
                    "font": {
                      "color": "black"
                    },
                    "showarrow": false,
                    "text": "清流县气象台8月1日...流天气,请注意防范。",
                    "x": -15.9521041921452,
                    "xanchor": "right",
                    "xref": "x",
                    "y": -7.0100031911328315,
                    "yanchor": "middle",
                    "yref": "y"
                  },
                  {
                    "bgcolor": "#e6fbff",
                    "bordercolor": "#00d4ff",
                    "borderpad": 2,
                    "font": {
                      "color": "black"
                    },
                    "showarrow": false,
                    "text": "假期已经过半,阳光却...民还需注意安全用火。",
                    "x": 0,
                    "xanchor": "left",
                    "xref": "x",
                    "y": 0,
                    "yanchor": "middle",
                    "yref": "y"
                  },
                  {
                    "bgcolor": "#e6fbff",
                    "bordercolor": "#00d4ff",
                    "borderpad": 2,
                    "font": {
                      "color": "black"
                    },
                    "showarrow": false,
                    "text": "京津冀正式签协议。联...机制。京华时报记者。",
                    "x": 17.86152687165973,
                    "xanchor": "left",
                    "xref": "x",
                    "y": 11.84689510251571,
                    "yanchor": "middle",
                    "yref": "y"
                  },
                  {
                    "bgcolor": "#f2e6e6",
                    "bordercolor": "#800000",
                    "borderpad": 2,
                    "font": {
                      "color": "black"
                    },
                    "showarrow": false,
                    "text": "2015-08-09...比3的总分夺得胜利。",
                    "x": 17.86152687165973,
                    "xanchor": "left",
                    "xref": "x",
                    "y": 3.9898541468288187,
                    "yanchor": "middle",
                    "yref": "y"
                  },
                  {
                    "bgcolor": "#e6e6f2",
                    "bordercolor": "#000080",
                    "borderpad": 2,
                    "font": {
                      "color": "black"
                    },
                    "showarrow": false,
                    "text": "陵水县气象台2016...和人员做好防范工作。",
                    "x": -15.9521041921452,
                    "xanchor": "right",
                    "xref": "x",
                    "y": -8.581411382270211,
                    "yanchor": "middle",
                    "yref": "y"
                  },
                  {
                    "bgcolor": "#e6fbff",
                    "bordercolor": "#00d4ff",
                    "borderpad": 2,
                    "font": {
                      "color": "black"
                    },
                    "showarrow": false,
                    "text": "福州晚报7月19日讯...雷雨以及强对流天气。",
                    "x": -15.9521041921452,
                    "xanchor": "right",
                    "xref": "x",
                    "y": 11.84689510251571,
                    "yanchor": "middle",
                    "yref": "y"
                  },
                  {
                    "bgcolor": "#f2e6e6",
                    "bordercolor": "#800000",
                    "borderpad": 2,
                    "font": {
                      "color": "black"
                    },
                    "showarrow": false,
                    "text": "2015-08-28...颗伟大、善良的心。”",
                    "x": 17.86152687165973,
                    "xanchor": "left",
                    "xref": "x",
                    "y": 0.8470377645540594,
                    "yanchor": "middle",
                    "yref": "y"
                  },
                  {
                    "bgcolor": "#e6e6f2",
                    "bordercolor": "#000080",
                    "borderpad": 2,
                    "font": {
                      "color": "black"
                    },
                    "showarrow": false,
                    "text": "两当县气象局2016...,尽量避免户外活动。",
                    "x": -15.9521041921452,
                    "xanchor": "right",
                    "xref": "x",
                    "y": 0.8470377645540594,
                    "yanchor": "middle",
                    "yref": "y"
                  },
                  {
                    "bgcolor": "#e6fbff",
                    "bordercolor": "#00d4ff",
                    "borderpad": 2,
                    "font": {
                      "color": "black"
                    },
                    "showarrow": false,
                    "text": "【商品多数上涨。玻璃...对于盘面有利多存在。",
                    "x": 17.86152687165973,
                    "xanchor": "left",
                    "xref": "x",
                    "y": -5.438594999995454,
                    "yanchor": "middle",
                    "yref": "y"
                  },
                  {
                    "bgcolor": "#e6fbff",
                    "bordercolor": "#00d4ff",
                    "borderpad": 2,
                    "font": {
                      "color": "black"
                    },
                    "showarrow": false,
                    "text": "◇通讯员苗伟本报讯2...共同来到桥头派出所。",
                    "x": 17.86152687165973,
                    "xanchor": "left",
                    "xref": "x",
                    "y": -11.724227764544967,
                    "yanchor": "middle",
                    "yref": "y"
                  },
                  {
                    "bgcolor": "#e6e6f2",
                    "bordercolor": "#000080",
                    "borderpad": 2,
                    "font": {
                      "color": "black"
                    },
                    "showarrow": false,
                    "text": "昌邑市气象局2016...比较大,请注意防范。",
                    "x": -15.9521041921452,
                    "xanchor": "right",
                    "xref": "x",
                    "y": -13.295635955682346,
                    "yanchor": "middle",
                    "yref": "y"
                  },
                  {
                    "bgcolor": "#e6e6f2",
                    "bordercolor": "#000080",
                    "borderpad": 2,
                    "font": {
                      "color": "black"
                    },
                    "showarrow": false,
                    "text": "永嘉县气象台于201...以及雷电和大风灾害!",
                    "x": -15.9521041921452,
                    "xanchor": "right",
                    "xref": "x",
                    "y": -14.867044146819724,
                    "yanchor": "middle",
                    "yref": "y"
                  },
                  {
                    "bgcolor": "#fffde6",
                    "bordercolor": "#ffe600",
                    "borderpad": 2,
                    "font": {
                      "color": "black"
                    },
                    "showarrow": false,
                    "text": "郏县气象局今天19:...流天气,请注意防范。",
                    "x": -15.9521041921452,
                    "xanchor": "right",
                    "xref": "x",
                    "y": 8.704078720240954,
                    "yanchor": "middle",
                    "yref": "y"
                  },
                  {
                    "bgcolor": "#e6e6f2",
                    "bordercolor": "#000080",
                    "borderpad": 2,
                    "font": {
                      "color": "black"
                    },
                    "showarrow": false,
                    "text": "汪清县气象局2016...和有关单位做好预防。",
                    "x": -15.9521041921452,
                    "xanchor": "right",
                    "xref": "x",
                    "y": -10.152819573407589,
                    "yanchor": "middle",
                    "yref": "y"
                  },
                  {
                    "bgcolor": "#e6fbff",
                    "bordercolor": "#00d4ff",
                    "borderpad": 2,
                    "font": {
                      "color": "black"
                    },
                    "showarrow": false,
                    "text": "人民网阳新7月4日电...皮艇里,并拉到岸边。",
                    "x": 17.86152687165973,
                    "xanchor": "left",
                    "xref": "x",
                    "y": -16.438452337957102,
                    "yanchor": "middle",
                    "yref": "y"
                  },
                  {
                    "bgcolor": "#f2e6e6",
                    "bordercolor": "#800000",
                    "borderpad": 2,
                    "font": {
                      "color": "black"
                    },
                    "showarrow": false,
                    "text": "人民网11月21日电...务实工作,久久为功。",
                    "x": 17.86152687165973,
                    "xanchor": "left",
                    "xref": "x",
                    "y": 7.132670529103574,
                    "yanchor": "middle",
                    "yref": "y"
                  },
                  {
                    "bgcolor": "#f2e6e6",
                    "bordercolor": "#800000",
                    "borderpad": 2,
                    "font": {
                      "color": "black"
                    },
                    "showarrow": false,
                    "text": "虎扑体育报道,北京时...、何忠勉、博比-布朗",
                    "x": 17.86152687165973,
                    "xanchor": "left",
                    "xref": "x",
                    "y": 2.418445955691439,
                    "yanchor": "middle",
                    "yref": "y"
                  },
                  {
                    "bgcolor": "#e6e6f2",
                    "bordercolor": "#000080",
                    "borderpad": 2,
                    "font": {
                      "color": "black"
                    },
                    "showarrow": false,
                    "text": "克孜勒苏柯尔克孜自治...,尽量避免户外活动。",
                    "x": -15.9521041921452,
                    "xanchor": "right",
                    "xref": "x",
                    "y": -18.00986052909448,
                    "yanchor": "middle",
                    "yref": "y"
                  },
                  {
                    "bgcolor": "#e6e6f2",
                    "bordercolor": "#000080",
                    "borderpad": 2,
                    "font": {
                      "color": "black"
                    },
                    "showarrow": false,
                    "text": "新建区气象台2016...流天气,请注意防范。",
                    "x": -15.9521041921452,
                    "xanchor": "right",
                    "xref": "x",
                    "y": -5.438594999995454,
                    "yanchor": "middle",
                    "yref": "y"
                  },
                  {
                    "bgcolor": "#f2e6e6",
                    "bordercolor": "#800000",
                    "borderpad": 2,
                    "font": {
                      "color": "black"
                    },
                    "showarrow": false,
                    "text": "2015-10-02...就要开启困难模式吗?",
                    "x": 17.86152687165973,
                    "xanchor": "left",
                    "xref": "x",
                    "y": -3.867186808858076,
                    "yanchor": "middle",
                    "yref": "y"
                  },
                  {
                    "bgcolor": "#e6fbff",
                    "bordercolor": "#00d4ff",
                    "borderpad": 2,
                    "font": {
                      "color": "black"
                    },
                    "showarrow": false,
                    "text": "大风刮过,枯树叶被吹...此类事情再次发生。”",
                    "x": 17.86152687165973,
                    "xanchor": "left",
                    "xref": "x",
                    "y": -18.00986052909448,
                    "yanchor": "middle",
                    "yref": "y"
                  },
                  {
                    "bgcolor": "#e6e6f2",
                    "bordercolor": "#000080",
                    "borderpad": 2,
                    "font": {
                      "color": "black"
                    },
                    "showarrow": false,
                    "text": "霍州市气象台2016...,尽量避免户外活动。",
                    "x": -15.9521041921452,
                    "xanchor": "right",
                    "xref": "x",
                    "y": -16.438452337957102,
                    "yanchor": "middle",
                    "yref": "y"
                  },
                  {
                    "bgcolor": "#e6e6f2",
                    "bordercolor": "#000080",
                    "borderpad": 2,
                    "font": {
                      "color": "black"
                    },
                    "showarrow": false,
                    "text": "涉县气象台7月28日...单位和个人注意防范。",
                    "x": -15.9521041921452,
                    "xanchor": "right",
                    "xref": "x",
                    "y": -0.7243704265833166,
                    "yanchor": "middle",
                    "yref": "y"
                  },
                  {
                    "bgcolor": "#fffde6",
                    "bordercolor": "#ffe600",
                    "borderpad": 2,
                    "font": {
                      "color": "black"
                    },
                    "showarrow": false,
                    "text": "平坝区气象台2016...请相关单位注意防范。",
                    "x": -15.9521041921452,
                    "xanchor": "right",
                    "xref": "x",
                    "y": 3.9898541468288187,
                    "yanchor": "middle",
                    "yref": "y"
                  },
                  {
                    "bgcolor": "#f2e6e6",
                    "bordercolor": "#800000",
                    "borderpad": 2,
                    "font": {
                      "color": "black"
                    },
                    "showarrow": false,
                    "text": "虎扑体育8月9日讯。...60-88不敌法国队",
                    "x": 17.86152687165973,
                    "xanchor": "left",
                    "xref": "x",
                    "y": 5.561262337966195,
                    "yanchor": "middle",
                    "yref": "y"
                  },
                  {
                    "bgcolor": "#e6fbff",
                    "bordercolor": "#00d4ff",
                    "borderpad": 2,
                    "font": {
                      "color": "black"
                    },
                    "showarrow": false,
                    "text": "新华网南京7月7日电...无线网络热点覆盖面。",
                    "x": 17.86152687165973,
                    "xanchor": "left",
                    "xref": "x",
                    "y": -10.152819573407589,
                    "yanchor": "middle",
                    "yref": "y"
                  },
                  {
                    "bgcolor": "#e6fbff",
                    "bordercolor": "#00d4ff",
                    "borderpad": 2,
                    "font": {
                      "color": "black"
                    },
                    "showarrow": false,
                    "text": "2016年9月12日...势将会造成严重后果。",
                    "x": 17.86152687165973,
                    "xanchor": "left",
                    "xref": "x",
                    "y": -14.867044146819724,
                    "yanchor": "middle",
                    "yref": "y"
                  },
                  {
                    "bgcolor": "#f2e6e6",
                    "bordercolor": "#800000",
                    "borderpad": 2,
                    "font": {
                      "color": "black"
                    },
                    "showarrow": false,
                    "text": "2015-09-28...篮板和2.7次助攻。",
                    "x": 17.86152687165973,
                    "xanchor": "left",
                    "xref": "x",
                    "y": -2.2957786177206962,
                    "yanchor": "middle",
                    "yref": "y"
                  },
                  {
                    "bgcolor": "#e6e6f2",
                    "bordercolor": "#000080",
                    "borderpad": 2,
                    "font": {
                      "color": "black"
                    },
                    "showarrow": false,
                    "text": "目前我县境内西北部已...害性天气,请注意防范",
                    "x": -15.9521041921452,
                    "xanchor": "right",
                    "xref": "x",
                    "y": 10.27548691137833,
                    "yanchor": "middle",
                    "yref": "y"
                  },
                  {
                    "bgcolor": "#fffde6",
                    "bordercolor": "#ffe600",
                    "borderpad": 2,
                    "font": {
                      "color": "black"
                    },
                    "showarrow": false,
                    "text": "平罗县气象局2016...和广大群众注意预防。",
                    "x": -15.9521041921452,
                    "xanchor": "right",
                    "xref": "x",
                    "y": 7.132670529103574,
                    "yanchor": "middle",
                    "yref": "y"
                  }
                ],
                "autosize": false,
                "height": 800,
                "template": {
                  "data": {
                    "bar": [
                      {
                        "error_x": {
                          "color": "#2a3f5f"
                        },
                        "error_y": {
                          "color": "#2a3f5f"
                        },
                        "marker": {
                          "line": {
                            "color": "#E5ECF6",
                            "width": 0.5
                          },
                          "pattern": {
                            "fillmode": "overlay",
                            "size": 10,
                            "solidity": 0.2
                          }
                        },
                        "type": "bar"
                      }
                    ],
                    "barpolar": [
                      {
                        "marker": {
                          "line": {
                            "color": "#E5ECF6",
                            "width": 0.5
                          },
                          "pattern": {
                            "fillmode": "overlay",
                            "size": 10,
                            "solidity": 0.2
                          }
                        },
                        "type": "barpolar"
                      }
                    ],
                    "carpet": [
                      {
                        "aaxis": {
                          "endlinecolor": "#2a3f5f",
                          "gridcolor": "white",
                          "linecolor": "white",
                          "minorgridcolor": "white",
                          "startlinecolor": "#2a3f5f"
                        },
                        "baxis": {
                          "endlinecolor": "#2a3f5f",
                          "gridcolor": "white",
                          "linecolor": "white",
                          "minorgridcolor": "white",
                          "startlinecolor": "#2a3f5f"
                        },
                        "type": "carpet"
                      }
                    ],
                    "choropleth": [
                      {
                        "colorbar": {
                          "outlinewidth": 0,
                          "ticks": ""
                        },
                        "type": "choropleth"
                      }
                    ],
                    "contour": [
                      {
                        "colorbar": {
                          "outlinewidth": 0,
                          "ticks": ""
                        },
                        "colorscale": [
                          [
                            0,
                            "#0d0887"
                          ],
                          [
                            0.1111111111111111,
                            "#46039f"
                          ],
                          [
                            0.2222222222222222,
                            "#7201a8"
                          ],
                          [
                            0.3333333333333333,
                            "#9c179e"
                          ],
                          [
                            0.4444444444444444,
                            "#bd3786"
                          ],
                          [
                            0.5555555555555556,
                            "#d8576b"
                          ],
                          [
                            0.6666666666666666,
                            "#ed7953"
                          ],
                          [
                            0.7777777777777778,
                            "#fb9f3a"
                          ],
                          [
                            0.8888888888888888,
                            "#fdca26"
                          ],
                          [
                            1,
                            "#f0f921"
                          ]
                        ],
                        "type": "contour"
                      }
                    ],
                    "contourcarpet": [
                      {
                        "colorbar": {
                          "outlinewidth": 0,
                          "ticks": ""
                        },
                        "type": "contourcarpet"
                      }
                    ],
                    "heatmap": [
                      {
                        "colorbar": {
                          "outlinewidth": 0,
                          "ticks": ""
                        },
                        "colorscale": [
                          [
                            0,
                            "#0d0887"
                          ],
                          [
                            0.1111111111111111,
                            "#46039f"
                          ],
                          [
                            0.2222222222222222,
                            "#7201a8"
                          ],
                          [
                            0.3333333333333333,
                            "#9c179e"
                          ],
                          [
                            0.4444444444444444,
                            "#bd3786"
                          ],
                          [
                            0.5555555555555556,
                            "#d8576b"
                          ],
                          [
                            0.6666666666666666,
                            "#ed7953"
                          ],
                          [
                            0.7777777777777778,
                            "#fb9f3a"
                          ],
                          [
                            0.8888888888888888,
                            "#fdca26"
                          ],
                          [
                            1,
                            "#f0f921"
                          ]
                        ],
                        "type": "heatmap"
                      }
                    ],
                    "heatmapgl": [
                      {
                        "colorbar": {
                          "outlinewidth": 0,
                          "ticks": ""
                        },
                        "colorscale": [
                          [
                            0,
                            "#0d0887"
                          ],
                          [
                            0.1111111111111111,
                            "#46039f"
                          ],
                          [
                            0.2222222222222222,
                            "#7201a8"
                          ],
                          [
                            0.3333333333333333,
                            "#9c179e"
                          ],
                          [
                            0.4444444444444444,
                            "#bd3786"
                          ],
                          [
                            0.5555555555555556,
                            "#d8576b"
                          ],
                          [
                            0.6666666666666666,
                            "#ed7953"
                          ],
                          [
                            0.7777777777777778,
                            "#fb9f3a"
                          ],
                          [
                            0.8888888888888888,
                            "#fdca26"
                          ],
                          [
                            1,
                            "#f0f921"
                          ]
                        ],
                        "type": "heatmapgl"
                      }
                    ],
                    "histogram": [
                      {
                        "marker": {
                          "pattern": {
                            "fillmode": "overlay",
                            "size": 10,
                            "solidity": 0.2
                          }
                        },
                        "type": "histogram"
                      }
                    ],
                    "histogram2d": [
                      {
                        "colorbar": {
                          "outlinewidth": 0,
                          "ticks": ""
                        },
                        "colorscale": [
                          [
                            0,
                            "#0d0887"
                          ],
                          [
                            0.1111111111111111,
                            "#46039f"
                          ],
                          [
                            0.2222222222222222,
                            "#7201a8"
                          ],
                          [
                            0.3333333333333333,
                            "#9c179e"
                          ],
                          [
                            0.4444444444444444,
                            "#bd3786"
                          ],
                          [
                            0.5555555555555556,
                            "#d8576b"
                          ],
                          [
                            0.6666666666666666,
                            "#ed7953"
                          ],
                          [
                            0.7777777777777778,
                            "#fb9f3a"
                          ],
                          [
                            0.8888888888888888,
                            "#fdca26"
                          ],
                          [
                            1,
                            "#f0f921"
                          ]
                        ],
                        "type": "histogram2d"
                      }
                    ],
                    "histogram2dcontour": [
                      {
                        "colorbar": {
                          "outlinewidth": 0,
                          "ticks": ""
                        },
                        "colorscale": [
                          [
                            0,
                            "#0d0887"
                          ],
                          [
                            0.1111111111111111,
                            "#46039f"
                          ],
                          [
                            0.2222222222222222,
                            "#7201a8"
                          ],
                          [
                            0.3333333333333333,
                            "#9c179e"
                          ],
                          [
                            0.4444444444444444,
                            "#bd3786"
                          ],
                          [
                            0.5555555555555556,
                            "#d8576b"
                          ],
                          [
                            0.6666666666666666,
                            "#ed7953"
                          ],
                          [
                            0.7777777777777778,
                            "#fb9f3a"
                          ],
                          [
                            0.8888888888888888,
                            "#fdca26"
                          ],
                          [
                            1,
                            "#f0f921"
                          ]
                        ],
                        "type": "histogram2dcontour"
                      }
                    ],
                    "mesh3d": [
                      {
                        "colorbar": {
                          "outlinewidth": 0,
                          "ticks": ""
                        },
                        "type": "mesh3d"
                      }
                    ],
                    "parcoords": [
                      {
                        "line": {
                          "colorbar": {
                            "outlinewidth": 0,
                            "ticks": ""
                          }
                        },
                        "type": "parcoords"
                      }
                    ],
                    "pie": [
                      {
                        "automargin": true,
                        "type": "pie"
                      }
                    ],
                    "scatter": [
                      {
                        "fillpattern": {
                          "fillmode": "overlay",
                          "size": 10,
                          "solidity": 0.2
                        },
                        "type": "scatter"
                      }
                    ],
                    "scatter3d": [
                      {
                        "line": {
                          "colorbar": {
                            "outlinewidth": 0,
                            "ticks": ""
                          }
                        },
                        "marker": {
                          "colorbar": {
                            "outlinewidth": 0,
                            "ticks": ""
                          }
                        },
                        "type": "scatter3d"
                      }
                    ],
                    "scattercarpet": [
                      {
                        "marker": {
                          "colorbar": {
                            "outlinewidth": 0,
                            "ticks": ""
                          }
                        },
                        "type": "scattercarpet"
                      }
                    ],
                    "scattergeo": [
                      {
                        "marker": {
                          "colorbar": {
                            "outlinewidth": 0,
                            "ticks": ""
                          }
                        },
                        "type": "scattergeo"
                      }
                    ],
                    "scattergl": [
                      {
                        "marker": {
                          "colorbar": {
                            "outlinewidth": 0,
                            "ticks": ""
                          }
                        },
                        "type": "scattergl"
                      }
                    ],
                    "scattermapbox": [
                      {
                        "marker": {
                          "colorbar": {
                            "outlinewidth": 0,
                            "ticks": ""
                          }
                        },
                        "type": "scattermapbox"
                      }
                    ],
                    "scatterpolar": [
                      {
                        "marker": {
                          "colorbar": {
                            "outlinewidth": 0,
                            "ticks": ""
                          }
                        },
                        "type": "scatterpolar"
                      }
                    ],
                    "scatterpolargl": [
                      {
                        "marker": {
                          "colorbar": {
                            "outlinewidth": 0,
                            "ticks": ""
                          }
                        },
                        "type": "scatterpolargl"
                      }
                    ],
                    "scatterternary": [
                      {
                        "marker": {
                          "colorbar": {
                            "outlinewidth": 0,
                            "ticks": ""
                          }
                        },
                        "type": "scatterternary"
                      }
                    ],
                    "surface": [
                      {
                        "colorbar": {
                          "outlinewidth": 0,
                          "ticks": ""
                        },
                        "colorscale": [
                          [
                            0,
                            "#0d0887"
                          ],
                          [
                            0.1111111111111111,
                            "#46039f"
                          ],
                          [
                            0.2222222222222222,
                            "#7201a8"
                          ],
                          [
                            0.3333333333333333,
                            "#9c179e"
                          ],
                          [
                            0.4444444444444444,
                            "#bd3786"
                          ],
                          [
                            0.5555555555555556,
                            "#d8576b"
                          ],
                          [
                            0.6666666666666666,
                            "#ed7953"
                          ],
                          [
                            0.7777777777777778,
                            "#fb9f3a"
                          ],
                          [
                            0.8888888888888888,
                            "#fdca26"
                          ],
                          [
                            1,
                            "#f0f921"
                          ]
                        ],
                        "type": "surface"
                      }
                    ],
                    "table": [
                      {
                        "cells": {
                          "fill": {
                            "color": "#EBF0F8"
                          },
                          "line": {
                            "color": "white"
                          }
                        },
                        "header": {
                          "fill": {
                            "color": "#C8D4E3"
                          },
                          "line": {
                            "color": "white"
                          }
                        },
                        "type": "table"
                      }
                    ]
                  },
                  "layout": {
                    "annotationdefaults": {
                      "arrowcolor": "#2a3f5f",
                      "arrowhead": 0,
                      "arrowwidth": 1
                    },
                    "autotypenumbers": "strict",
                    "coloraxis": {
                      "colorbar": {
                        "outlinewidth": 0,
                        "ticks": ""
                      }
                    },
                    "colorscale": {
                      "diverging": [
                        [
                          0,
                          "#8e0152"
                        ],
                        [
                          0.1,
                          "#c51b7d"
                        ],
                        [
                          0.2,
                          "#de77ae"
                        ],
                        [
                          0.3,
                          "#f1b6da"
                        ],
                        [
                          0.4,
                          "#fde0ef"
                        ],
                        [
                          0.5,
                          "#f7f7f7"
                        ],
                        [
                          0.6,
                          "#e6f5d0"
                        ],
                        [
                          0.7,
                          "#b8e186"
                        ],
                        [
                          0.8,
                          "#7fbc41"
                        ],
                        [
                          0.9,
                          "#4d9221"
                        ],
                        [
                          1,
                          "#276419"
                        ]
                      ],
                      "sequential": [
                        [
                          0,
                          "#0d0887"
                        ],
                        [
                          0.1111111111111111,
                          "#46039f"
                        ],
                        [
                          0.2222222222222222,
                          "#7201a8"
                        ],
                        [
                          0.3333333333333333,
                          "#9c179e"
                        ],
                        [
                          0.4444444444444444,
                          "#bd3786"
                        ],
                        [
                          0.5555555555555556,
                          "#d8576b"
                        ],
                        [
                          0.6666666666666666,
                          "#ed7953"
                        ],
                        [
                          0.7777777777777778,
                          "#fb9f3a"
                        ],
                        [
                          0.8888888888888888,
                          "#fdca26"
                        ],
                        [
                          1,
                          "#f0f921"
                        ]
                      ],
                      "sequentialminus": [
                        [
                          0,
                          "#0d0887"
                        ],
                        [
                          0.1111111111111111,
                          "#46039f"
                        ],
                        [
                          0.2222222222222222,
                          "#7201a8"
                        ],
                        [
                          0.3333333333333333,
                          "#9c179e"
                        ],
                        [
                          0.4444444444444444,
                          "#bd3786"
                        ],
                        [
                          0.5555555555555556,
                          "#d8576b"
                        ],
                        [
                          0.6666666666666666,
                          "#ed7953"
                        ],
                        [
                          0.7777777777777778,
                          "#fb9f3a"
                        ],
                        [
                          0.8888888888888888,
                          "#fdca26"
                        ],
                        [
                          1,
                          "#f0f921"
                        ]
                      ]
                    },
                    "colorway": [
                      "#636efa",
                      "#EF553B",
                      "#00cc96",
                      "#ab63fa",
                      "#FFA15A",
                      "#19d3f3",
                      "#FF6692",
                      "#B6E880",
                      "#FF97FF",
                      "#FECB52"
                    ],
                    "font": {
                      "color": "#2a3f5f"
                    },
                    "geo": {
                      "bgcolor": "white",
                      "lakecolor": "white",
                      "landcolor": "#E5ECF6",
                      "showlakes": true,
                      "showland": true,
                      "subunitcolor": "white"
                    },
                    "hoverlabel": {
                      "align": "left"
                    },
                    "hovermode": "closest",
                    "mapbox": {
                      "style": "light"
                    },
                    "paper_bgcolor": "white",
                    "plot_bgcolor": "#E5ECF6",
                    "polar": {
                      "angularaxis": {
                        "gridcolor": "white",
                        "linecolor": "white",
                        "ticks": ""
                      },
                      "bgcolor": "#E5ECF6",
                      "radialaxis": {
                        "gridcolor": "white",
                        "linecolor": "white",
                        "ticks": ""
                      }
                    },
                    "scene": {
                      "xaxis": {
                        "backgroundcolor": "#E5ECF6",
                        "gridcolor": "white",
                        "gridwidth": 2,
                        "linecolor": "white",
                        "showbackground": true,
                        "ticks": "",
                        "zerolinecolor": "white"
                      },
                      "yaxis": {
                        "backgroundcolor": "#E5ECF6",
                        "gridcolor": "white",
                        "gridwidth": 2,
                        "linecolor": "white",
                        "showbackground": true,
                        "ticks": "",
                        "zerolinecolor": "white"
                      },
                      "zaxis": {
                        "backgroundcolor": "#E5ECF6",
                        "gridcolor": "white",
                        "gridwidth": 2,
                        "linecolor": "white",
                        "showbackground": true,
                        "ticks": "",
                        "zerolinecolor": "white"
                      }
                    },
                    "shapedefaults": {
                      "line": {
                        "color": "#2a3f5f"
                      }
                    },
                    "ternary": {
                      "aaxis": {
                        "gridcolor": "white",
                        "linecolor": "white",
                        "ticks": ""
                      },
                      "baxis": {
                        "gridcolor": "white",
                        "linecolor": "white",
                        "ticks": ""
                      },
                      "bgcolor": "#E5ECF6",
                      "caxis": {
                        "gridcolor": "white",
                        "linecolor": "white",
                        "ticks": ""
                      }
                    },
                    "title": {
                      "x": 0.05
                    },
                    "xaxis": {
                      "automargin": true,
                      "gridcolor": "white",
                      "linecolor": "white",
                      "ticks": "",
                      "title": {
                        "standoff": 15
                      },
                      "zerolinecolor": "white",
                      "zerolinewidth": 2
                    },
                    "yaxis": {
                      "automargin": true,
                      "gridcolor": "white",
                      "linecolor": "white",
                      "ticks": "",
                      "title": {
                        "standoff": 15
                      },
                      "zerolinecolor": "white",
                      "zerolinewidth": 2
                    }
                  }
                },
                "width": 1500,
                "xaxis": {
                  "tickvals": []
                },
                "yaxis": {
                  "tickvals": []
                }
              }
            }
          },
          "metadata": {},
          "output_type": "display_data"
        }
      ],
      "source": [
        "import ast\n",
        "tsne_data_cluster_path = \"../data/search_data.csv\"\n",
        "tsne_data_cluster = pd.read_csv(tsne_data_cluster_path, header=0)\n",
        "text = tsne_data_cluster[\"sentence\"].tolist()\n",
        "embed = tsne_data_cluster[\"embed\"].apply(lambda x: ast.literal_eval(x))\n",
        "\n",
        "tsne_plot_cluster = TSNE_Plot(text, embed, n_clusters=4)\n",
        "tsne_plot_cluster.tsne_plot(n_sentence=40)"
      ]
    },
    {
      "attachments": {},
      "cell_type": "markdown",
      "metadata": {},
      "source": [
        "## 热力图"
      ]
    },
    {
      "cell_type": "code",
      "execution_count": 15,
      "metadata": {
        "colab": {
          "base_uri": "https://localhost:8080/",
          "height": 737
        },
        "id": "XFefzHqDZ636",
        "outputId": "c9a542f1-7db7-4a1f-dd16-cb07d5ec92f2"
      },
      "outputs": [
        {
          "data": {
            "application/vnd.plotly.v1+json": {
              "config": {
                "plotlyServerURL": "https://plot.ly"
              },
              "data": [
                {
                  "colorscale": [
                    [
                      0,
                      "rgb(0,0,131)"
                    ],
                    [
                      0.2,
                      "rgb(0,60,170)"
                    ],
                    [
                      0.4,
                      "rgb(5,255,255)"
                    ],
                    [
                      0.6,
                      "rgb(255,255,0)"
                    ],
                    [
                      0.8,
                      "rgb(250,0,0)"
                    ],
                    [
                      1,
                      "rgb(128,0,0)"
                    ]
                  ],
                  "type": "heatmap",
                  "z": [
                    [
                      0.9417836978657629,
                      0.8332363148484795,
                      0.8691079659642017,
                      0.8733596058705878,
                      0.9145840189567086,
                      0.8135811019538003,
                      0.8875427942660915,
                      0.8454538447103674,
                      0.8952148998462615,
                      0.8032762368177971,
                      0.8224935638738574,
                      0.7721919252705167,
                      0.7965458282076157,
                      0.7858841305728183,
                      0.7885813689947121,
                      0.7886291720956699,
                      0.7686455712463456,
                      0.7683368178005807,
                      0.7475806236805442,
                      0.7807309025056481,
                      0.7810533173187316,
                      0.7856377317001174,
                      0.7808354457958389,
                      0.7726437320439538,
                      0.7593971168945114,
                      0.7825061222257217,
                      0.7589651932919643,
                      0.8066374148136227,
                      0.7663045202191745,
                      0.7811961117370251
                    ],
                    [
                      0.9007311745485398,
                      0.875691119813449,
                      0.8987182896017568,
                      0.8778753048203007,
                      0.9061836776577321,
                      0.8128016186033948,
                      0.9188007848196217,
                      0.8392801594867789,
                      0.8596626913217367,
                      0.8063132548271563,
                      0.8160802342460716,
                      0.7733498300866264,
                      0.8071077904817576,
                      0.7863778518833034,
                      0.804258006243632,
                      0.7952581353369289,
                      0.7790297006357734,
                      0.7773468626909501,
                      0.7508789582014497,
                      0.7832564496134948,
                      0.7899734237859949,
                      0.7903109064643273,
                      0.7847005078331629,
                      0.7708106014807006,
                      0.7598948153055345,
                      0.7932338461914001,
                      0.7657023803716848,
                      0.7970982992750092,
                      0.7728429153440397,
                      0.8234382964603728
                    ],
                    [
                      0.9083621355004677,
                      0.8633092598497645,
                      0.9331403922931347,
                      0.8709465236621873,
                      0.9152264486344905,
                      0.8110788319535654,
                      0.9177722990585118,
                      0.8757715348130606,
                      0.871044227639634,
                      0.8048914741825849,
                      0.8020731987302329,
                      0.8038701811159842,
                      0.8027452875676844,
                      0.7696344634692532,
                      0.7908757453106069,
                      0.7894263234715551,
                      0.774804171981305,
                      0.7714212759416044,
                      0.7286990220664938,
                      0.7761008630948661,
                      0.771575866905985,
                      0.7781024335761211,
                      0.7734151097740024,
                      0.7774488858414395,
                      0.7583510447596176,
                      0.796875715009804,
                      0.7331957367034712,
                      0.8043302559384221,
                      0.770759148261817,
                      0.7963959099140676
                    ],
                    [
                      0.8450712101553597,
                      0.811827239034278,
                      0.8068256568200934,
                      0.9706713949901059,
                      0.8322498582202512,
                      0.7483443215104515,
                      0.809598937531119,
                      0.7678743345418223,
                      0.8279855570460157,
                      0.8434731034687941,
                      0.864983539384965,
                      0.789455190739928,
                      0.8420138438277026,
                      0.8687409000450146,
                      0.8252621926598248,
                      0.8088467205431009,
                      0.8205446888426196,
                      0.7941482493176196,
                      0.7977690427120274,
                      0.8104695347788239,
                      0.7910028002016779,
                      0.802861888766704,
                      0.7960225956470575,
                      0.8028009667683218,
                      0.7798190524860862,
                      0.8289567675986912,
                      0.799670899113981,
                      0.8364906700224635,
                      0.7964907706116411,
                      0.8224087953894174
                    ],
                    [
                      0.8408770207539839,
                      0.8180461440347112,
                      0.8155821810318084,
                      0.8528334667068245,
                      0.9197965094516771,
                      0.754313515007508,
                      0.8528128390363793,
                      0.7794064482685279,
                      0.8049921083988671,
                      0.7687634402628045,
                      0.7963628255078046,
                      0.7133561133062245,
                      0.7580911081649716,
                      0.7676241054305747,
                      0.7562959297258165,
                      0.7370606648686489,
                      0.744537581141709,
                      0.7394881693410393,
                      0.7000297665482403,
                      0.729592487478535,
                      0.7860296676958618,
                      0.7643315928484342,
                      0.7533067358276985,
                      0.744133667811554,
                      0.7360750871647306,
                      0.7630644313247458,
                      0.7225240408977545,
                      0.7565118889311444,
                      0.7371328076762247,
                      0.7891040305055883
                    ],
                    [
                      0.8567049877648175,
                      0.8637461777312105,
                      0.8611491499859091,
                      0.8342186095756785,
                      0.869533920187495,
                      0.9296457000480559,
                      0.8556527956591444,
                      0.8890929425191145,
                      0.900156597135998,
                      0.7790391922280504,
                      0.8074881563112566,
                      0.7951102824238647,
                      0.8097447695396649,
                      0.7527587644924988,
                      0.7767650024811258,
                      0.7886008952489589,
                      0.7566780800050449,
                      0.7699052927617623,
                      0.7323675235920513,
                      0.7647116949617682,
                      0.7797986210400584,
                      0.7671770054195141,
                      0.7870835457817271,
                      0.7718113207182106,
                      0.7538158087236569,
                      0.7632581675095166,
                      0.7703231890065148,
                      0.8151836761903045,
                      0.7734115291760176,
                      0.7973183911252981
                    ],
                    [
                      0.875580000632389,
                      0.860400373854447,
                      0.8688592677355024,
                      0.8508242101698031,
                      0.864304535179627,
                      0.8250161122490428,
                      0.9256596643328016,
                      0.8257422931531888,
                      0.8382417902065329,
                      0.818375407050757,
                      0.8007776102982354,
                      0.7990519319934913,
                      0.7974609978665966,
                      0.7599414935522183,
                      0.7959204938487142,
                      0.8211953024170449,
                      0.7991060148653691,
                      0.8264631844105144,
                      0.7773773528359647,
                      0.8140730012115875,
                      0.792261328034951,
                      0.8007782060510691,
                      0.816218481552744,
                      0.8246537196489864,
                      0.8016654007562344,
                      0.7882773429976322,
                      0.768166152423783,
                      0.8148673318916548,
                      0.7821393283470544,
                      0.8500073927726438
                    ],
                    [
                      0.8807270781041144,
                      0.8582594609436243,
                      0.8754701198867367,
                      0.8156819861219753,
                      0.884842929824632,
                      0.8998406434832449,
                      0.8869815469222987,
                      0.9058172324406939,
                      0.8417534968135368,
                      0.8011942354114558,
                      0.7897184017619587,
                      0.8094740887886435,
                      0.7971685054010621,
                      0.7299805324077341,
                      0.7959304646032092,
                      0.7832906557032083,
                      0.7876991333012161,
                      0.7813625993259077,
                      0.7408052502755631,
                      0.75738504946087,
                      0.7598933255603657,
                      0.7800276786241487,
                      0.7866072122457368,
                      0.7778236392169029,
                      0.7452012905904987,
                      0.7881281318308664,
                      0.7609915539046185,
                      0.8101905532784158,
                      0.775458621543942,
                      0.77938452940764
                    ],
                    [
                      0.8871859603605953,
                      0.8422704217770237,
                      0.9012471245378832,
                      0.8449047553118129,
                      0.8840292184449557,
                      0.8495878827509744,
                      0.8900479147282377,
                      0.9119371312509917,
                      0.9366560623878987,
                      0.8026397532050419,
                      0.8054273194677506,
                      0.7957052224750473,
                      0.8154954032948823,
                      0.7304221549760828,
                      0.7863816743091631,
                      0.7839105132887115,
                      0.7764943292981604,
                      0.7674278041639706,
                      0.7376946247303413,
                      0.7744790416453378,
                      0.7587884912595521,
                      0.7723438592319948,
                      0.7820749942220795,
                      0.7822623344324832,
                      0.7611607209293906,
                      0.75787156543628,
                      0.7757311975409358,
                      0.8293075688664929,
                      0.7902784023744469,
                      0.7679133683600232
                    ],
                    [
                      0.8307144979350796,
                      0.827138496295022,
                      0.7556390724674832,
                      0.8676546561074918,
                      0.7921745749961587,
                      0.8152595550949879,
                      0.7867114635819026,
                      0.7871690628589729,
                      0.7807625099639705,
                      0.9184415642707646,
                      0.8458921916633382,
                      0.8470469612346607,
                      0.8430209171239125,
                      0.8541552742812575,
                      0.8896885028719972,
                      0.8133336014261476,
                      0.8347992388420014,
                      0.8273857254236472,
                      0.7987089001757695,
                      0.7894422777366192,
                      0.8164105551370296,
                      0.8269892335907255,
                      0.7987582150566265,
                      0.8147664100979143,
                      0.775316435578147,
                      0.8412922181652202,
                      0.8383589412850416,
                      0.862967369314193,
                      0.8756986526924023,
                      0.8202263221344662
                    ],
                    [
                      0.7842623563190105,
                      0.7902891185665263,
                      0.7215237318827615,
                      0.8926542329598063,
                      0.7796396390669983,
                      0.7535494664930248,
                      0.7541870664637464,
                      0.7220015862789212,
                      0.7590494811597398,
                      0.8689114550618026,
                      0.883796584255419,
                      0.793255179810506,
                      0.8415116784144152,
                      0.8439284962015634,
                      0.8385091915607803,
                      0.8056831834364128,
                      0.8565833152808187,
                      0.8530229148219899,
                      0.7850566780316183,
                      0.7827935425257964,
                      0.7765766069939284,
                      0.8068086163648431,
                      0.7837588153763879,
                      0.7972087278379566,
                      0.7802160991140596,
                      0.8369056997451814,
                      0.8155568075902234,
                      0.8569849823612194,
                      0.8179654524413787,
                      0.8543063513844735
                    ],
                    [
                      0.8074393602255516,
                      0.8093859852997362,
                      0.7644045928378886,
                      0.8374084632961483,
                      0.7804870977945984,
                      0.7775778629835971,
                      0.7586359418497094,
                      0.8035265471440495,
                      0.7974612715975106,
                      0.8540329920558697,
                      0.8328214928581538,
                      0.9010805602395895,
                      0.8806554889187813,
                      0.8024388229881654,
                      0.8571395365321696,
                      0.780822696499743,
                      0.8116061305529694,
                      0.7994942399381404,
                      0.7536816250414757,
                      0.7957610782087539,
                      0.7674312224961828,
                      0.8126414640389773,
                      0.7648213101096542,
                      0.8067157314682953,
                      0.7761389935971394,
                      0.8367519654842742,
                      0.7928458622055118,
                      0.8127305443434305,
                      0.8581819191608183,
                      0.787785154376864
                    ],
                    [
                      0.790290934112663,
                      0.818877365597846,
                      0.7500325894990703,
                      0.851822375054674,
                      0.740766670292878,
                      0.7769654402384032,
                      0.7337412401392702,
                      0.744866562007807,
                      0.7826261862123292,
                      0.8129033880522797,
                      0.8662204380056641,
                      0.8128980035182853,
                      0.9328132586972974,
                      0.8130590228328548,
                      0.8335333769581628,
                      0.810567227120159,
                      0.7803028707171338,
                      0.8007495374526732,
                      0.7805161128823719,
                      0.7803691804046,
                      0.8105408606143915,
                      0.8057985159218731,
                      0.796861981943094,
                      0.8308669798281019,
                      0.7943166088710578,
                      0.8074635143835118,
                      0.8210875106088442,
                      0.8261449744441155,
                      0.828275978849283,
                      0.7971003535441714
                    ],
                    [
                      0.8324000551243151,
                      0.7902437909420378,
                      0.7614937973170743,
                      0.9224916970893311,
                      0.8249636038442316,
                      0.742659516959967,
                      0.7970429978988479,
                      0.7448046483297908,
                      0.8337514720109147,
                      0.8542169927586949,
                      0.86206849103785,
                      0.7751995267591849,
                      0.8166280645495144,
                      0.8845061633620727,
                      0.8432987229338947,
                      0.7789657482302433,
                      0.7957485790637924,
                      0.8082577502074528,
                      0.7650817675879155,
                      0.7647085482332534,
                      0.8048778623716732,
                      0.7761382683719839,
                      0.7682933656883577,
                      0.7981293148019596,
                      0.7606043147481396,
                      0.8116709294862197,
                      0.8075650598094481,
                      0.8484684879444702,
                      0.8000455566913772,
                      0.8342601345993326
                    ],
                    [
                      0.8304561231773226,
                      0.8279261659936045,
                      0.7742755188558965,
                      0.8658736412457781,
                      0.8238693643468777,
                      0.7786255029017882,
                      0.799337395751312,
                      0.7696019666859945,
                      0.8144809843209891,
                      0.8400469261095251,
                      0.8463555043431611,
                      0.7878904350774011,
                      0.8255230439585318,
                      0.8271034520682583,
                      0.9289146107587364,
                      0.8074443662036457,
                      0.7822680599467579,
                      0.8070261323114784,
                      0.7516156448523474,
                      0.7841045947260141,
                      0.7968781157204766,
                      0.7854859353221837,
                      0.7652569846682111,
                      0.7875974049238013,
                      0.7742864845223882,
                      0.8316006641555808,
                      0.8147167978002765,
                      0.8240106380531035,
                      0.8008064287149348,
                      0.8250227143533093
                    ],
                    [
                      0.765298863922923,
                      0.8150769489257654,
                      0.712805607642289,
                      0.7820346557175905,
                      0.7341490391015367,
                      0.764192468419735,
                      0.7607233083101578,
                      0.7411535704440683,
                      0.7419772121332824,
                      0.7946634124940566,
                      0.7575309277809396,
                      0.7973775866790137,
                      0.7843376415338208,
                      0.7673346413051775,
                      0.7350705221497432,
                      0.9198635862720174,
                      0.8136431512620168,
                      0.8317221711623208,
                      0.8723486851305643,
                      0.8541401136325849,
                      0.8396613093958826,
                      0.8761011945422604,
                      0.9212817046667423,
                      0.8805486207440818,
                      0.923188320223668,
                      0.7848093672916365,
                      0.8077353675225867,
                      0.8221793823633489,
                      0.7788874322464868,
                      0.8304807668595007
                    ],
                    [
                      0.7789973349534629,
                      0.8223580405189447,
                      0.705698526977343,
                      0.7926819262711812,
                      0.7580196744132784,
                      0.7636920563203417,
                      0.7732081066725155,
                      0.7398025470306034,
                      0.718501083600979,
                      0.8510263794697472,
                      0.7927129924852638,
                      0.8274668620584303,
                      0.8002084727014079,
                      0.7502082394013133,
                      0.782788735270111,
                      0.8545547225738763,
                      0.8895077992193149,
                      0.887595095494106,
                      0.8404996908983923,
                      0.8419967669050437,
                      0.796763961852248,
                      0.8609514246127585,
                      0.841186484669407,
                      0.8599768443596578,
                      0.8365249424757779,
                      0.8277688183386399,
                      0.850564010737904,
                      0.8310168135603284,
                      0.8415282209346746,
                      0.8775818336244441
                    ],
                    [
                      0.7953296403245672,
                      0.8393087900340825,
                      0.7176821917699538,
                      0.7889093698577915,
                      0.7760508285105074,
                      0.8063200006499103,
                      0.801567869143492,
                      0.7480131511930419,
                      0.7245776108530665,
                      0.84242137576019,
                      0.7825389594228308,
                      0.8364779100102868,
                      0.8030657179389565,
                      0.7665850714121211,
                      0.7861545983841411,
                      0.867149970070802,
                      0.8917832960775244,
                      0.894242935234694,
                      0.8233901758717569,
                      0.8330443880339131,
                      0.8205938406809951,
                      0.8839917019740114,
                      0.8731848303148375,
                      0.8694802961800218,
                      0.8511675842952167,
                      0.8044844664082965,
                      0.8371166844572552,
                      0.8333892666177571,
                      0.8347487697346055,
                      0.8712998666972352
                    ],
                    [
                      0.7892403372185579,
                      0.7981622894746464,
                      0.7078366318966569,
                      0.8037693726117879,
                      0.7516639322308656,
                      0.7708881972254614,
                      0.7649505545594015,
                      0.7630818825078572,
                      0.760853360626443,
                      0.8069043250743634,
                      0.7732899948704689,
                      0.8117364267633107,
                      0.8370898888889626,
                      0.7806340261011756,
                      0.7801375076880104,
                      0.9114760300937735,
                      0.7847059017062568,
                      0.8121168953002561,
                      0.9197210071375398,
                      0.8594991136262374,
                      0.8160385253639754,
                      0.8556585702462914,
                      0.8726796677166391,
                      0.8997099421645585,
                      0.8462847110753,
                      0.7908423262191734,
                      0.841028187538462,
                      0.8471923076552739,
                      0.8014523933927682,
                      0.8159948721794568
                    ],
                    [
                      0.8149176825020822,
                      0.8157621223149719,
                      0.7452201142453114,
                      0.7721366984238893,
                      0.7744533055045705,
                      0.7653116303281724,
                      0.7870250348556913,
                      0.7644679563132056,
                      0.7534473700675364,
                      0.8108933052882975,
                      0.8028942962146837,
                      0.8295185787400967,
                      0.8406053925285727,
                      0.7530943856576223,
                      0.7780977471145659,
                      0.8653800247041877,
                      0.8131560487740138,
                      0.8070756923194572,
                      0.8423534881653985,
                      0.9308224594945315,
                      0.8158985999620293,
                      0.8495722452973237,
                      0.8911724000547575,
                      0.8956452143641569,
                      0.8705326279430193,
                      0.7955546220026952,
                      0.8268668624304265,
                      0.8311353422125293,
                      0.820936046635139,
                      0.7971537854700149
                    ],
                    [
                      0.7976724991463152,
                      0.8382290089933718,
                      0.724244682168811,
                      0.800811511729464,
                      0.7845556731454602,
                      0.7506725952638854,
                      0.7830324541681702,
                      0.7166610124137471,
                      0.7624557331769127,
                      0.7852646607874902,
                      0.7958386740624857,
                      0.7603333748117078,
                      0.8106605606688834,
                      0.8106446074834951,
                      0.7782361603228022,
                      0.8716173403012967,
                      0.7623186015854,
                      0.7957399200358544,
                      0.7925378286032039,
                      0.7901153306404323,
                      0.9289485868216002,
                      0.8016415166115843,
                      0.8656803354649655,
                      0.8793254121342103,
                      0.8608502343633222,
                      0.7492788064779538,
                      0.8141874522983206,
                      0.8257579118939875,
                      0.7855303547493855,
                      0.8246525823607938
                    ],
                    [
                      0.7982129460703885,
                      0.8132769926138372,
                      0.7483488768937463,
                      0.7837353257993248,
                      0.7600754977291979,
                      0.7991732406251804,
                      0.7796433199881014,
                      0.7872032558885443,
                      0.7633242523628198,
                      0.8288837629722621,
                      0.7910788242375624,
                      0.8479008410854416,
                      0.8635531767700001,
                      0.7877895564434014,
                      0.808639049165512,
                      0.8364873866731287,
                      0.8171887287868735,
                      0.8248540371982173,
                      0.8087131572250813,
                      0.860083456487847,
                      0.8194706195812769,
                      0.954685423028747,
                      0.8680162767099451,
                      0.8385778992879637,
                      0.8768944314692294,
                      0.8500300050494124,
                      0.8439152228441535,
                      0.8167610852424725,
                      0.82268266824875,
                      0.8167766943870887
                    ],
                    [
                      0.7672230753996676,
                      0.8158634716234633,
                      0.710552520131298,
                      0.7723654456823804,
                      0.7427686989882734,
                      0.7709317602777556,
                      0.7845654733129815,
                      0.7343783623273383,
                      0.7306844816604674,
                      0.7843361306728938,
                      0.7543033334950809,
                      0.7797541329637152,
                      0.803459169174875,
                      0.7623253370561549,
                      0.7479148499896054,
                      0.8874470123243485,
                      0.7914700412098822,
                      0.8016967755593345,
                      0.8433274079129968,
                      0.8442141187758494,
                      0.859680261261454,
                      0.8857598660956307,
                      0.9620211246710261,
                      0.8776273665618984,
                      0.9186160819525605,
                      0.7890898462540499,
                      0.81850507719859,
                      0.8311984260737706,
                      0.7951021609343498,
                      0.8051783077881829
                    ],
                    [
                      0.8152110438226197,
                      0.837213728152226,
                      0.7221187041569048,
                      0.8086559405738825,
                      0.7670020035935794,
                      0.7785165893639443,
                      0.8030535819711796,
                      0.775609382703517,
                      0.7549212585514085,
                      0.8467610598472393,
                      0.7899225686587819,
                      0.8424293197933472,
                      0.8066843196713293,
                      0.7856783299107754,
                      0.7932824538739295,
                      0.9199037159122248,
                      0.8546616322737123,
                      0.8564100367202169,
                      0.8573067463950231,
                      0.8706445177301259,
                      0.8778285613512242,
                      0.9254478445305896,
                      0.9208651418065115,
                      0.9058653504306134,
                      0.9152492713840507,
                      0.8085285820657919,
                      0.8537167012565064,
                      0.8745329647053979,
                      0.8492825744543628,
                      0.853147988197061
                    ],
                    [
                      0.7760982424743194,
                      0.8402281175033225,
                      0.7299155769517838,
                      0.7659032344371149,
                      0.7748136521431797,
                      0.7796521977464951,
                      0.7835749503556662,
                      0.7607611334521645,
                      0.7460755817306813,
                      0.7852248893926725,
                      0.7656020543900055,
                      0.8111419705764263,
                      0.8052711290777741,
                      0.7394213196279801,
                      0.7640846157472123,
                      0.8650002169400428,
                      0.7822012200214453,
                      0.8262876360891651,
                      0.8235833363082371,
                      0.8477495910225332,
                      0.838690871484335,
                      0.8874544503706885,
                      0.9296790835098,
                      0.8775339770543945,
                      0.9420043569137183,
                      0.7988704807871596,
                      0.8005049951043585,
                      0.8414610585098252,
                      0.7955916572644081,
                      0.8229912923954537
                    ],
                    [
                      0.804210758199357,
                      0.8412320748193666,
                      0.7607371751392612,
                      0.8570674067466333,
                      0.774707390350276,
                      0.7895481119180991,
                      0.7862101748186083,
                      0.777115211184958,
                      0.7345901397524025,
                      0.8651719764570954,
                      0.828543016506251,
                      0.826384400776293,
                      0.8286720916514756,
                      0.7791127858573264,
                      0.8347533271816279,
                      0.8354784816495954,
                      0.8715357397535175,
                      0.8677793811516182,
                      0.794594340816426,
                      0.7991332327556705,
                      0.7727575473438446,
                      0.8446292748682498,
                      0.8163394628793481,
                      0.7987887891577771,
                      0.7968954105013458,
                      0.8974810301756009,
                      0.8304192165736446,
                      0.8476257437848487,
                      0.8868066431235857,
                      0.8572925840654223
                    ],
                    [
                      0.7891152501806159,
                      0.8081330934722916,
                      0.7298993805924759,
                      0.833696662891534,
                      0.7589730671140844,
                      0.7528270828043715,
                      0.7733066584982392,
                      0.7628606343181906,
                      0.7633090569621718,
                      0.8595621278159942,
                      0.811089724903592,
                      0.8015514090339287,
                      0.8293995061724231,
                      0.8156473794217036,
                      0.8472843505710984,
                      0.8704961222692901,
                      0.8163304445053272,
                      0.8284794053934122,
                      0.8238863064812284,
                      0.855575751092949,
                      0.8304061971941468,
                      0.890486570061151,
                      0.8658464545306418,
                      0.8420700831063471,
                      0.8377578643845558,
                      0.8299422745456264,
                      0.9177809689978591,
                      0.8556832253003575,
                      0.8475459328140011,
                      0.847035110453358
                    ],
                    [
                      0.8256937519996258,
                      0.8763292696891964,
                      0.818271678047927,
                      0.8511326108454541,
                      0.8271564874059695,
                      0.813552461616716,
                      0.8174022287080465,
                      0.8256690952983398,
                      0.8291861419410829,
                      0.8570971951341176,
                      0.8655264131514189,
                      0.8586908047971972,
                      0.8448320219621323,
                      0.8137008025972424,
                      0.8183942066444195,
                      0.8429950633022327,
                      0.8644807570077735,
                      0.8483689845342841,
                      0.8078319458732515,
                      0.8556195016313298,
                      0.835910549691574,
                      0.8447786995383223,
                      0.8717116388261708,
                      0.8731051105537107,
                      0.845818642535995,
                      0.82616229994295,
                      0.8132659989968566,
                      0.9237133688256232,
                      0.854271746470518,
                      0.8337125376954391
                    ],
                    [
                      0.7950469383330181,
                      0.8246519756798532,
                      0.733705968892969,
                      0.829554006879807,
                      0.7654567338812462,
                      0.7773731031247919,
                      0.78588218850488,
                      0.7801629730832633,
                      0.7611646168414645,
                      0.8970256634393421,
                      0.8257261806586581,
                      0.854077699910461,
                      0.8515215276883303,
                      0.8265709710869877,
                      0.8533356990707124,
                      0.8483558807056653,
                      0.8618998257519397,
                      0.8800798580660677,
                      0.8115841800955874,
                      0.8429518977022005,
                      0.8469597726455494,
                      0.8924955436771035,
                      0.8631391038265178,
                      0.8526732941102705,
                      0.8301486666858114,
                      0.8797193588772176,
                      0.9058558149027759,
                      0.878210745490595,
                      0.9170940965255754,
                      0.8511905966197518
                    ],
                    [
                      0.7969006706665469,
                      0.8020722609199425,
                      0.7059487480893514,
                      0.7957308792443724,
                      0.7679182916551361,
                      0.7789649644981864,
                      0.7921451994625361,
                      0.7506248031597547,
                      0.7597781818253116,
                      0.8466370318121548,
                      0.7931402525668104,
                      0.8020620170618225,
                      0.8307719064668729,
                      0.7805726568144419,
                      0.8170621346520366,
                      0.8532454922059717,
                      0.8167576266060945,
                      0.882048299738835,
                      0.8033047095537651,
                      0.8282865729328005,
                      0.8470604039652805,
                      0.9037344451278038,
                      0.8897018811558901,
                      0.8452749891279027,
                      0.8943390363725587,
                      0.8227764297465759,
                      0.852181795112002,
                      0.8549624271345059,
                      0.8663240026439634,
                      0.8538956278155302
                    ]
                  ]
                }
              ],
              "layout": {
                "annotations": [
                  {
                    "font": {
                      "color": "black",
                      "size": 16
                    },
                    "showarrow": false,
                    "text": "Col",
                    "x": -9,
                    "xanchor": "center",
                    "xref": "x",
                    "y": -1,
                    "yanchor": "bottom",
                    "yref": "y"
                  },
                  {
                    "font": {
                      "color": "black",
                      "size": 16
                    },
                    "showarrow": false,
                    "text": "Row",
                    "x": -24,
                    "xanchor": "center",
                    "xref": "x",
                    "y": -1,
                    "yanchor": "bottom",
                    "yref": "y"
                  },
                  {
                    "bgcolor": "#f9e6e6",
                    "bordercolor": "rgb(193.1100695310603, 0.0, 0.0)",
                    "font": {
                      "color": "black",
                      "size": 14
                    },
                    "showarrow": false,
                    "text": "2月4日至20日、3...球首个“双奥之城”。",
                    "x": -15,
                    "xanchor": "left",
                    "xref": "x",
                    "xshift": -10,
                    "y": 0,
                    "yanchor": "middle",
                    "yref": "y",
                    "yshift": 0
                  },
                  {
                    "bgcolor": "#f9e6e6",
                    "bordercolor": "rgb(193.1100695310603, 0.0, 0.0)",
                    "font": {
                      "color": "black",
                      "size": 14
                    },
                    "showarrow": false,
                    "text": "我国广大运动员、教练...来的北京冬奥精神。\n",
                    "x": -30,
                    "xanchor": "left",
                    "xref": "x",
                    "xshift": -10,
                    "y": 0,
                    "yanchor": "middle",
                    "yref": "y",
                    "yshift": 0
                  },
                  {
                    "bgcolor": "#fff9e6",
                    "bordercolor": "rgb(253.77362027817708, 192.45463418703164, 0.0)",
                    "font": {
                      "color": "black",
                      "size": 14
                    },
                    "showarrow": false,
                    "text": "7月1日，庆祝香港回...宝贵经验、深刻启示。",
                    "x": -15,
                    "xanchor": "left",
                    "xref": "x",
                    "xshift": -10,
                    "y": 1,
                    "yanchor": "middle",
                    "yref": "y",
                    "yshift": 0
                  },
                  {
                    "bgcolor": "#fff9e6",
                    "bordercolor": "rgb(253.77362027817708, 192.45463418703164, 0.0)",
                    "font": {
                      "color": "black",
                      "size": 14
                    },
                    "showarrow": false,
                    "text": "“一国两制”是经过实...改变，必须长期坚持。",
                    "x": -30,
                    "xanchor": "left",
                    "xref": "x",
                    "xshift": -10,
                    "y": 1,
                    "yanchor": "middle",
                    "yref": "y",
                    "yshift": 0
                  },
                  {
                    "bgcolor": "#fbe6e6",
                    "bordercolor": "rgb(212.59124258510028, 0.0, 0.0)",
                    "font": {
                      "color": "black",
                      "size": 14
                    },
                    "showarrow": false,
                    "text": "10月16日至22日...思主义的纲领性文献。",
                    "x": -15,
                    "xanchor": "left",
                    "xref": "x",
                    "xshift": -10,
                    "y": 2,
                    "yanchor": "middle",
                    "yref": "y",
                    "yshift": 0
                  },
                  {
                    "bgcolor": "#fbe6e6",
                    "bordercolor": "rgb(212.59124258510028, 0.0, 0.0)",
                    "font": {
                      "color": "black",
                      "size": 14
                    },
                    "showarrow": false,
                    "text": "大会通过了关于十九届...担任中央军委主席。\n",
                    "x": -30,
                    "xanchor": "left",
                    "xref": "x",
                    "xshift": -10,
                    "y": 2,
                    "yanchor": "middle",
                    "yref": "y",
                    "yshift": 0
                  },
                  {
                    "bgcolor": "#f2e6e6",
                    "bordercolor": "rgb(128.0, 0.0, 0.0)",
                    "font": {
                      "color": "black",
                      "size": 14
                    },
                    "showarrow": false,
                    "text": "11月1日4时27分...在太空“胜利会师”；",
                    "x": -15,
                    "xanchor": "left",
                    "xref": "x",
                    "xshift": -10,
                    "y": 3,
                    "yanchor": "middle",
                    "yref": "y",
                    "yshift": 0
                  },
                  {
                    "bgcolor": "#f2e6e6",
                    "bordercolor": "rgb(128.0, 0.0, 0.0)",
                    "font": {
                      "color": "black",
                      "size": 14
                    },
                    "showarrow": false,
                    "text": "12月2日晚，神舟十...究实验和新技术试验。",
                    "x": -30,
                    "xanchor": "left",
                    "xref": "x",
                    "xshift": -10,
                    "y": 3,
                    "yanchor": "middle",
                    "yref": "y",
                    "yshift": 0
                  },
                  {
                    "bgcolor": "#fee6e6",
                    "bordercolor": "rgb(242.66706122449924, 0.0, 0.0)",
                    "font": {
                      "color": "black",
                      "size": 14
                    },
                    "showarrow": false,
                    "text": "11月14日至19日...中美元首面对面会晤。",
                    "x": -15,
                    "xanchor": "left",
                    "xref": "x",
                    "xshift": -10,
                    "y": 4,
                    "yanchor": "middle",
                    "yref": "y",
                    "yshift": 0
                  },
                  {
                    "bgcolor": "#fee6e6",
                    "bordercolor": "rgb(242.66706122449924, 0.0, 0.0)",
                    "font": {
                      "color": "black",
                      "size": 14
                    },
                    "showarrow": false,
                    "text": "今年以来，习近平主席...注入确定性和正能量。",
                    "x": -30,
                    "xanchor": "left",
                    "xref": "x",
                    "xshift": -10,
                    "y": 4,
                    "yanchor": "middle",
                    "yref": "y",
                    "yshift": 0
                  },
                  {
                    "bgcolor": "#fce6e6",
                    "bordercolor": "rgb(220.4679402009513, 0.0, 0.0)",
                    "font": {
                      "color": "black",
                      "size": 14
                    },
                    "showarrow": false,
                    "text": "4月，国务院办公厅印...福祉、兜牢民生底线。",
                    "x": -15,
                    "xanchor": "left",
                    "xref": "x",
                    "xshift": -10,
                    "y": 5,
                    "yanchor": "middle",
                    "yref": "y",
                    "yshift": 0
                  },
                  {
                    "bgcolor": "#fce6e6",
                    "bordercolor": "rgb(220.4679402009513, 0.0, 0.0)",
                    "font": {
                      "color": "black",
                      "size": 14
                    },
                    "showarrow": false,
                    "text": "退休人员基本养老金再...同乡村振兴有效衔接。",
                    "x": -30,
                    "xanchor": "left",
                    "xref": "x",
                    "xshift": -10,
                    "y": 5,
                    "yanchor": "middle",
                    "yref": "y",
                    "yshift": 0
                  },
                  {
                    "bgcolor": "#fce6e6",
                    "bordercolor": "rgb(229.45207837771164, 0.0, 0.0)",
                    "font": {
                      "color": "black",
                      "size": 14
                    },
                    "showarrow": false,
                    "text": "11月30日，我党我...海逝世，享年96岁。",
                    "x": -15,
                    "xanchor": "left",
                    "xref": "x",
                    "xshift": -10,
                    "y": 6,
                    "yanchor": "middle",
                    "yref": "y",
                    "yshift": 0
                  },
                  {
                    "bgcolor": "#fce6e6",
                    "bordercolor": "rgb(229.45207837771164, 0.0, 0.0)",
                    "font": {
                      "color": "black",
                      "size": 14
                    },
                    "showarrow": false,
                    "text": "全党全军全国各族人民...近平总书记致悼词。\n",
                    "x": -30,
                    "xanchor": "left",
                    "xref": "x",
                    "xshift": -10,
                    "y": 6,
                    "yanchor": "middle",
                    "yref": "y",
                    "yshift": 0
                  },
                  {
                    "bgcolor": "#ffebe6",
                    "bordercolor": "rgb(250.99077855490944, 50.52970630038203, 0.0)",
                    "font": {
                      "color": "black",
                      "size": 14
                    },
                    "showarrow": false,
                    "text": "在以习近平同志为核心...工作会议在北京举行。",
                    "x": -15,
                    "xanchor": "left",
                    "xref": "x",
                    "xshift": -10,
                    "y": 7,
                    "yanchor": "middle",
                    "yref": "y",
                    "yshift": 0
                  },
                  {
                    "bgcolor": "#ffebe6",
                    "bordercolor": "rgb(250.99077855490944, 50.52970630038203, 0.0)",
                    "font": {
                      "color": "black",
                      "size": 14
                    },
                    "showarrow": false,
                    "text": "会议强调，做好明年经...化国家开好局起好步。",
                    "x": -30,
                    "xanchor": "left",
                    "xref": "x",
                    "xshift": -10,
                    "y": 7,
                    "yanchor": "middle",
                    "yref": "y",
                    "yshift": 0
                  },
                  {
                    "bgcolor": "#fae6e6",
                    "bordercolor": "rgb(204.66726292922613, 0.0, 0.0)",
                    "font": {
                      "color": "black",
                      "size": 14
                    },
                    "showarrow": false,
                    "text": "面对持续变异的新冠病...控工作的二十条措施。",
                    "x": -15,
                    "xanchor": "left",
                    "xref": "x",
                    "xshift": -10,
                    "y": 8,
                    "yanchor": "middle",
                    "yref": "y",
                    "yshift": 0
                  },
                  {
                    "bgcolor": "#fae6e6",
                    "bordercolor": "rgb(204.66726292922613, 0.0, 0.0)",
                    "font": {
                      "color": "black",
                      "size": 14
                    },
                    "showarrow": false,
                    "text": "12月7日，国务院联...调整为“乙类乙管”。",
                    "x": -30,
                    "xanchor": "left",
                    "xref": "x",
                    "xshift": -10,
                    "y": 8,
                    "yanchor": "middle",
                    "yref": "y",
                    "yshift": 0
                  },
                  {
                    "bgcolor": "#fee6e6",
                    "bordercolor": "rgb(245.72097634138288, 0.0, 0.0)",
                    "font": {
                      "color": "black",
                      "size": 14
                    },
                    "showarrow": false,
                    "text": "经过多年的延误和成本...捕捉宇宙的壮观图像。",
                    "x": -15,
                    "xanchor": "left",
                    "xref": "x",
                    "xshift": -10,
                    "y": 9,
                    "yanchor": "middle",
                    "yref": "y",
                    "yshift": 0
                  },
                  {
                    "bgcolor": "#fee6e6",
                    "bordercolor": "rgb(245.72097634138288, 0.0, 0.0)",
                    "font": {
                      "color": "black",
                      "size": 14
                    },
                    "showarrow": false,
                    "text": "而基于有史以来最大的...远镜则需要上百小时。",
                    "x": -30,
                    "xanchor": "left",
                    "xref": "x",
                    "xshift": -10,
                    "y": 9,
                    "yanchor": "middle",
                    "yref": "y",
                    "yshift": 0
                  },
                  {
                    "bgcolor": "#fff5e6",
                    "bordercolor": "rgb(253.02489358666307, 154.26957291981603, 0.0)",
                    "font": {
                      "color": "black",
                      "size": 14
                    },
                    "showarrow": false,
                    "text": "为人类确定这一点的，...4克的行星表面样本。",
                    "x": -15,
                    "xanchor": "left",
                    "xref": "x",
                    "xshift": -10,
                    "y": 10,
                    "yanchor": "middle",
                    "yref": "y",
                    "yshift": 0
                  },
                  {
                    "bgcolor": "#fff5e6",
                    "bordercolor": "rgb(253.02489358666307, 154.26957291981603, 0.0)",
                    "font": {
                      "color": "black",
                      "size": 14
                    },
                    "showarrow": false,
                    "text": "2022年，日本文部...达地球具有重要意义。",
                    "x": -30,
                    "xanchor": "left",
                    "xref": "x",
                    "xshift": -10,
                    "y": 10,
                    "yanchor": "middle",
                    "yref": "y",
                    "yshift": 0
                  },
                  {
                    "bgcolor": "#ffede6",
                    "bordercolor": "rgb(251.4283195411552, 72.84429659891538, 0.0)",
                    "font": {
                      "color": "black",
                      "size": 14
                    },
                    "showarrow": false,
                    "text": "今年，生成式人工智能...领域树立了新的标杆。",
                    "x": -15,
                    "xanchor": "left",
                    "xref": "x",
                    "xshift": -10,
                    "y": 11,
                    "yanchor": "middle",
                    "yref": "y",
                    "yshift": 0
                  },
                  {
                    "bgcolor": "#ffede6",
                    "bordercolor": "rgb(251.4283195411552, 72.84429659891538, 0.0)",
                    "font": {
                      "color": "black",
                      "size": 14
                    },
                    "showarrow": false,
                    "text": "它可生成更加真实和准...辨率更是提高了4倍。",
                    "x": -30,
                    "xanchor": "left",
                    "xref": "x",
                    "xshift": -10,
                    "y": 11,
                    "yanchor": "middle",
                    "yref": "y",
                    "yshift": 0
                  },
                  {
                    "bgcolor": "#fbe6e6",
                    "bordercolor": "rgb(213.32857000442465, 0.0, 0.0)",
                    "font": {
                      "color": "black",
                      "size": 14
                    },
                    "showarrow": false,
                    "text": "2022年，科学家首...“人工合成”的胚胎。",
                    "x": -15,
                    "xanchor": "left",
                    "xref": "x",
                    "xshift": -10,
                    "y": 12,
                    "yanchor": "middle",
                    "yref": "y",
                    "yshift": 0
                  },
                  {
                    "bgcolor": "#fbe6e6",
                    "bordercolor": "rgb(213.32857000442465, 0.0, 0.0)",
                    "font": {
                      "color": "black",
                      "size": 14
                    },
                    "showarrow": false,
                    "text": "由生长于培养皿中的干...还出现了大脑的雏形。",
                    "x": -30,
                    "xanchor": "left",
                    "xref": "x",
                    "xshift": -10,
                    "y": 12,
                    "yanchor": "middle",
                    "yref": "y",
                    "yshift": 0
                  },
                  {
                    "bgcolor": "#fff5e6",
                    "bordercolor": "rgb(252.9593475811632, 150.92672663932296, 0.0)",
                    "font": {
                      "color": "black",
                      "size": 14
                    },
                    "showarrow": false,
                    "text": "北京时间2022年9...迪莫弗斯”的小行星。",
                    "x": -15,
                    "xanchor": "left",
                    "xref": "x",
                    "xshift": -10,
                    "y": 13,
                    "yanchor": "middle",
                    "yref": "y",
                    "yshift": 0
                  },
                  {
                    "bgcolor": "#fff5e6",
                    "bordercolor": "rgb(252.9593475811632, 150.92672663932296, 0.0)",
                    "font": {
                      "color": "black",
                      "size": 14
                    },
                    "showarrow": false,
                    "text": "几天后，NASA证实...定要求的25倍以上。",
                    "x": -30,
                    "xanchor": "left",
                    "xref": "x",
                    "xshift": -10,
                    "y": 13,
                    "yanchor": "middle",
                    "yref": "y",
                    "yshift": 0
                  },
                  {
                    "bgcolor": "#fce6e6",
                    "bordercolor": "rgb(222.1157446021161, 0.0, 0.0)",
                    "font": {
                      "color": "black",
                      "size": 14
                    },
                    "showarrow": false,
                    "text": "12月14日，美国加...获得“净能量增益”。",
                    "x": -15,
                    "xanchor": "left",
                    "xref": "x",
                    "xshift": -10,
                    "y": 14,
                    "yanchor": "middle",
                    "yref": "y",
                    "yshift": 0
                  },
                  {
                    "bgcolor": "#fce6e6",
                    "bordercolor": "rgb(222.1157446021161, 0.0, 0.0)",
                    "font": {
                      "color": "black",
                      "size": 14
                    },
                    "showarrow": false,
                    "text": "美国国家点火装置通过...5兆焦耳的聚变能量。",
                    "x": -30,
                    "xanchor": "left",
                    "xref": "x",
                    "xshift": -10,
                    "y": 14,
                    "yanchor": "middle",
                    "yref": "y",
                    "yshift": 0
                  },
                  {
                    "bgcolor": "#fee6e6",
                    "bordercolor": "rgb(242.51587657251824, 0.0, 0.0)",
                    "font": {
                      "color": "black",
                      "size": 14
                    },
                    "showarrow": false,
                    "text": "”纳兰嫣然，你不用做...时候，是几段斗之气？",
                    "x": -15,
                    "xanchor": "left",
                    "xref": "x",
                    "xshift": -10,
                    "y": 15,
                    "yanchor": "middle",
                    "yref": "y",
                    "yshift": 0
                  },
                  {
                    "bgcolor": "#fee6e6",
                    "bordercolor": "rgb(242.51587657251824, 0.0, 0.0)",
                    "font": {
                      "color": "black",
                      "size": 14
                    },
                    "showarrow": false,
                    "text": "没错，现在的我的确是...少年，竟然如此利害。",
                    "x": -30,
                    "xanchor": "left",
                    "xref": "x",
                    "xshift": -10,
                    "y": 15,
                    "yanchor": "middle",
                    "yref": "y",
                    "yshift": 0
                  },
                  {
                    "bgcolor": "#fff2e6",
                    "bordercolor": "rgb(252.49733108669065, 127.3638854212225, 0.0)",
                    "font": {
                      "color": "black",
                      "size": 14
                    },
                    "showarrow": false,
                    "text": "对于外面的世界，牧尘...中的沙粒，微不足道。",
                    "x": -15,
                    "xanchor": "left",
                    "xref": "x",
                    "xshift": -10,
                    "y": 16,
                    "yanchor": "middle",
                    "yref": "y",
                    "yshift": 0
                  },
                  {
                    "bgcolor": "#fff2e6",
                    "bordercolor": "rgb(252.49733108669065, 127.3638854212225, 0.0)",
                    "font": {
                      "color": "black",
                      "size": 14
                    },
                    "showarrow": false,
                    "text": "而他们所处的这片大千...是那无数位面的中心。",
                    "x": -30,
                    "xanchor": "left",
                    "xref": "x",
                    "xshift": -10,
                    "y": 16,
                    "yanchor": "middle",
                    "yref": "y",
                    "yshift": 0
                  },
                  {
                    "bgcolor": "#fff0e6",
                    "bordercolor": "rgb(252.05993200264726, 105.05653213501068, 0.0)",
                    "font": {
                      "color": "black",
                      "size": 14
                    },
                    "showarrow": false,
                    "text": "“外界啊……”老人露...之地，大荒茫茫无尽。",
                    "x": -15,
                    "xanchor": "left",
                    "xref": "x",
                    "xshift": -10,
                    "y": 17,
                    "yanchor": "middle",
                    "yref": "y",
                    "yshift": 0
                  },
                  {
                    "bgcolor": "#fff0e6",
                    "bordercolor": "rgb(252.05993200264726, 105.05653213501068, 0.0)",
                    "font": {
                      "color": "black",
                      "size": 14
                    },
                    "showarrow": false,
                    "text": "人族不同地域间很难通...可称之为人族天骄。”",
                    "x": -30,
                    "xanchor": "left",
                    "xref": "x",
                    "xshift": -10,
                    "y": 17,
                    "yanchor": "middle",
                    "yref": "y",
                    "yshift": 0
                  },
                  {
                    "bgcolor": "#fee6e6",
                    "bordercolor": "rgb(242.83723612290242, 0.0, 0.0)",
                    "font": {
                      "color": "black",
                      "size": 14
                    },
                    "showarrow": false,
                    "text": "颓然一叹，男孩儿做出...极魔瞳一直都在进步。",
                    "x": -15,
                    "xanchor": "left",
                    "xref": "x",
                    "xshift": -10,
                    "y": 18,
                    "yanchor": "middle",
                    "yref": "y",
                    "yshift": 0
                  },
                  {
                    "bgcolor": "#fee6e6",
                    "bordercolor": "rgb(242.83723612290242, 0.0, 0.0)",
                    "font": {
                      "color": "black",
                      "size": 14
                    },
                    "showarrow": false,
                    "text": "玄天功不能突破瓶颈，...原本的世界不同么？”",
                    "x": -30,
                    "xanchor": "left",
                    "xref": "x",
                    "xshift": -10,
                    "y": 18,
                    "yanchor": "middle",
                    "yref": "y",
                    "yshift": 0
                  },
                  {
                    "bgcolor": "#fbe6e6",
                    "bordercolor": "rgb(217.81563845977894, 0.0, 0.0)",
                    "font": {
                      "color": "black",
                      "size": 14
                    },
                    "showarrow": false,
                    "text": "这本书以前经常被墨大...一直默默自行参悟着。",
                    "x": -15,
                    "xanchor": "left",
                    "xref": "x",
                    "xshift": -10,
                    "y": 19,
                    "yanchor": "middle",
                    "yref": "y",
                    "yshift": 0
                  },
                  {
                    "bgcolor": "#fbe6e6",
                    "bordercolor": "rgb(217.81563845977894, 0.0, 0.0)",
                    "font": {
                      "color": "black",
                      "size": 14
                    },
                    "showarrow": false,
                    "text": "此卷秘籍是在暗格内和...长生不死的神仙呢！ ",
                    "x": -30,
                    "xanchor": "left",
                    "xref": "x",
                    "xshift": -10,
                    "y": 19,
                    "yanchor": "middle",
                    "yref": "y",
                    "yshift": 0
                  },
                  {
                    "bgcolor": "#fce6e6",
                    "bordercolor": "rgb(222.0391658493712, 0.0, 0.0)",
                    "font": {
                      "color": "black",
                      "size": 14
                    },
                    "showarrow": false,
                    "text": "如果是七年前她一定会...可能在几天内就办好？",
                    "x": -15,
                    "xanchor": "left",
                    "xref": "x",
                    "xshift": -10,
                    "y": 20,
                    "yanchor": "middle",
                    "yref": "y",
                    "yshift": 0
                  },
                  {
                    "bgcolor": "#fce6e6",
                    "bordercolor": "rgb(222.0391658493712, 0.0, 0.0)",
                    "font": {
                      "color": "black",
                      "size": 14
                    },
                    "showarrow": false,
                    "text": "否则，美国的一切怎么...去，也会被押上飞机。",
                    "x": -30,
                    "xanchor": "left",
                    "xref": "x",
                    "xshift": -10,
                    "y": 20,
                    "yanchor": "middle",
                    "yref": "y",
                    "yshift": 0
                  },
                  {
                    "bgcolor": "#f6e6e6",
                    "bordercolor": "rgb(164.03083144514682, 0.0, 0.0)",
                    "font": {
                      "color": "black",
                      "size": 14
                    },
                    "showarrow": false,
                    "text": "一向扎起来的长发散开...得纤腰一握撩人之至。",
                    "x": -15,
                    "xanchor": "left",
                    "xref": "x",
                    "xshift": -10,
                    "y": 21,
                    "yanchor": "middle",
                    "yref": "y",
                    "yshift": 0
                  },
                  {
                    "bgcolor": "#f6e6e6",
                    "bordercolor": "rgb(164.03083144514682, 0.0, 0.0)",
                    "font": {
                      "color": "black",
                      "size": 14
                    },
                    "showarrow": false,
                    "text": "稍一移动，裙摆泛起波...店内一时竟为之一亮。",
                    "x": -30,
                    "xanchor": "left",
                    "xref": "x",
                    "xshift": -10,
                    "y": 21,
                    "yanchor": "middle",
                    "yref": "y",
                    "yshift": 0
                  },
                  {
                    "bgcolor": "#f4e6e6",
                    "bordercolor": "rgb(147.49687091752085, 0.0, 0.0)",
                    "font": {
                      "color": "black",
                      "size": 14
                    },
                    "showarrow": false,
                    "text": "哭了半日，觉得嗓子已...候陪皇上演场戏罢了！",
                    "x": -15,
                    "xanchor": "left",
                    "xref": "x",
                    "xshift": -10,
                    "y": 22,
                    "yanchor": "middle",
                    "yref": "y",
                    "yshift": 0
                  },
                  {
                    "bgcolor": "#f4e6e6",
                    "bordercolor": "rgb(147.49687091752085, 0.0, 0.0)",
                    "font": {
                      "color": "black",
                      "size": 14
                    },
                    "showarrow": false,
                    "text": "”我听后无语，心叹道...，否则会害死姐姐的。",
                    "x": -30,
                    "xanchor": "left",
                    "xref": "x",
                    "xshift": -10,
                    "y": 22,
                    "yanchor": "middle",
                    "yref": "y",
                    "yshift": 0
                  },
                  {
                    "bgcolor": "#ffebe6",
                    "bordercolor": "rgb(250.9863337481186, 50.303021154048054, 0.0)",
                    "font": {
                      "color": "black",
                      "size": 14
                    },
                    "showarrow": false,
                    "text": "白子画望着她眼中的那...的棋局，枯燥而乏味。",
                    "x": -15,
                    "xanchor": "left",
                    "xref": "x",
                    "xshift": -10,
                    "y": 23,
                    "yanchor": "middle",
                    "yref": "y",
                    "yshift": 0
                  },
                  {
                    "bgcolor": "#ffebe6",
                    "bordercolor": "rgb(250.9863337481186, 50.303021154048054, 0.0)",
                    "font": {
                      "color": "black",
                      "size": 14
                    },
                    "showarrow": false,
                    "text": "在他还是仙的时候，他...自己真的不会后悔。\n",
                    "x": -30,
                    "xanchor": "left",
                    "xref": "x",
                    "xshift": -10,
                    "y": 23,
                    "yanchor": "middle",
                    "yref": "y",
                    "yshift": 0
                  },
                  {
                    "bgcolor": "#f9e6e6",
                    "bordercolor": "rgb(192.6127254231795, 0.0, 0.0)",
                    "font": {
                      "color": "black",
                      "size": 14
                    },
                    "showarrow": false,
                    "text": "“你还敢嘲笑我？我那...，不欢迎男子打扰她。",
                    "x": -15,
                    "xanchor": "left",
                    "xref": "x",
                    "xshift": -10,
                    "y": 24,
                    "yanchor": "middle",
                    "yref": "y",
                    "yshift": 0
                  },
                  {
                    "bgcolor": "#f9e6e6",
                    "bordercolor": "rgb(192.6127254231795, 0.0, 0.0)",
                    "font": {
                      "color": "black",
                      "size": 14
                    },
                    "showarrow": false,
                    "text": "阿丽雅既未定情，为何...越有可能同意文斗。”",
                    "x": -30,
                    "xanchor": "left",
                    "xref": "x",
                    "xshift": -10,
                    "y": 24,
                    "yanchor": "middle",
                    "yref": "y",
                    "yshift": 0
                  },
                  {
                    "bgcolor": "#ffeee6",
                    "bordercolor": "rgb(251.76081920913975, 89.80177966612692, 0.0)",
                    "font": {
                      "color": "black",
                      "size": 14
                    },
                    "showarrow": false,
                    "text": "就地球人的眼光来看，...座低矮的圆形乌龟壳。",
                    "x": -15,
                    "xanchor": "left",
                    "xref": "x",
                    "xshift": -10,
                    "y": 25,
                    "yanchor": "middle",
                    "yref": "y",
                    "yshift": 0
                  },
                  {
                    "bgcolor": "#ffeee6",
                    "bordercolor": "rgb(251.76081920913975, 89.80177966612692, 0.0)",
                    "font": {
                      "color": "black",
                      "size": 14
                    },
                    "showarrow": false,
                    "text": "铝合金的桁架结构，外...是拍扁的白色蒙古包。",
                    "x": -30,
                    "xanchor": "left",
                    "xref": "x",
                    "xshift": -10,
                    "y": 25,
                    "yanchor": "middle",
                    "yref": "y",
                    "yshift": 0
                  },
                  {
                    "bgcolor": "#fee6e6",
                    "bordercolor": "rgb(247.20989406181005, 0.0, 0.0)",
                    "font": {
                      "color": "black",
                      "size": 14
                    },
                    "showarrow": false,
                    "text": "终于，唐风看见了一股...图将不速之客给撕碎。",
                    "x": -15,
                    "xanchor": "left",
                    "xref": "x",
                    "xshift": -10,
                    "y": 26,
                    "yanchor": "middle",
                    "yref": "y",
                    "yshift": 0
                  },
                  {
                    "bgcolor": "#fee6e6",
                    "bordercolor": "rgb(247.20989406181005, 0.0, 0.0)",
                    "font": {
                      "color": "black",
                      "size": 14
                    },
                    "showarrow": false,
                    "text": "飞船依然大摇大摆的前...东西阻止了这次进攻。",
                    "x": -30,
                    "xanchor": "left",
                    "xref": "x",
                    "xshift": -10,
                    "y": 26,
                    "yanchor": "middle",
                    "yref": "y",
                    "yshift": 0
                  },
                  {
                    "bgcolor": "#fde6e6",
                    "bordercolor": "rgb(233.83883981649691, 0.0, 0.0)",
                    "font": {
                      "color": "black",
                      "size": 14
                    },
                    "showarrow": false,
                    "text": "“是科研部建议元首这...级文明选择无视我们。",
                    "x": -15,
                    "xanchor": "left",
                    "xref": "x",
                    "xshift": -10,
                    "y": 27,
                    "yanchor": "middle",
                    "yref": "y",
                    "yshift": 0
                  },
                  {
                    "bgcolor": "#fde6e6",
                    "bordercolor": "rgb(233.83883981649691, 0.0, 0.0)",
                    "font": {
                      "color": "black",
                      "size": 14
                    },
                    "showarrow": false,
                    "text": "既然无视我们，那么我...重启太阳探测计划。”",
                    "x": -30,
                    "xanchor": "left",
                    "xref": "x",
                    "xshift": -10,
                    "y": 27,
                    "yanchor": "middle",
                    "yref": "y",
                    "yshift": 0
                  },
                  {
                    "bgcolor": "#fee6e6",
                    "bordercolor": "rgb(248.75803804285724, 0.0, 0.0)",
                    "font": {
                      "color": "black",
                      "size": 14
                    },
                    "showarrow": false,
                    "text": "飞到这栋大型建筑旁边...些马赛克一样的东西。",
                    "x": -15,
                    "xanchor": "left",
                    "xref": "x",
                    "xshift": -10,
                    "y": 28,
                    "yanchor": "middle",
                    "yref": "y",
                    "yshift": 0
                  },
                  {
                    "bgcolor": "#fee6e6",
                    "bordercolor": "rgb(248.75803804285724, 0.0, 0.0)",
                    "font": {
                      "color": "black",
                      "size": 14
                    },
                    "showarrow": false,
                    "text": "这是因为，这栋建筑旁...不能跑到里边进去了。",
                    "x": -30,
                    "xanchor": "left",
                    "xref": "x",
                    "xshift": -10,
                    "y": 28,
                    "yanchor": "middle",
                    "yref": "y",
                    "yshift": 0
                  },
                  {
                    "bgcolor": "#fbffea",
                    "bordercolor": "rgb(215.65315299573638, 255.0, 40.13378394434892)",
                    "font": {
                      "color": "black",
                      "size": 14
                    },
                    "showarrow": false,
                    "text": "艾妲皱了皱好看的眉头...人的捕奴队给缀上了。",
                    "x": -15,
                    "xanchor": "left",
                    "xref": "x",
                    "xshift": -10,
                    "y": 29,
                    "yanchor": "middle",
                    "yref": "y",
                    "yshift": 0
                  },
                  {
                    "bgcolor": "#fbffea",
                    "bordercolor": "rgb(215.65315299573638, 255.0, 40.13378394434892)",
                    "font": {
                      "color": "black",
                      "size": 14
                    },
                    "showarrow": false,
                    "text": "要知道在十几年前几乎...对是倒霉透顶的事情。",
                    "x": -30,
                    "xanchor": "left",
                    "xref": "x",
                    "xshift": -10,
                    "y": 29,
                    "yanchor": "middle",
                    "yref": "y",
                    "yshift": 0
                  }
                ],
                "height": 900,
                "margin": {
                  "l": 120
                },
                "shapes": [
                  {
                    "line": {
                      "color": "rgb(193.1100695310603, 0.0, 0.0)",
                      "width": 2
                    },
                    "type": "line",
                    "x0": -4.277777777777778,
                    "x1": 0,
                    "xref": "x",
                    "y0": 0,
                    "y1": 0,
                    "yref": "y"
                  },
                  {
                    "line": {
                      "color": "rgb(253.77362027817708, 192.45463418703164, 0.0)",
                      "width": 2
                    },
                    "type": "line",
                    "x0": -4.511111111111111,
                    "x1": 1,
                    "xref": "x",
                    "y0": 1,
                    "y1": 1,
                    "yref": "y"
                  },
                  {
                    "line": {
                      "color": "rgb(212.59124258510028, 0.0, 0.0)",
                      "width": 2
                    },
                    "type": "line",
                    "x0": -4.377777777777778,
                    "x1": 2,
                    "xref": "x",
                    "y0": 2,
                    "y1": 2,
                    "yref": "y"
                  },
                  {
                    "line": {
                      "color": "rgb(128.0, 0.0, 0.0)",
                      "width": 2
                    },
                    "type": "line",
                    "x0": -4.2444444444444445,
                    "x1": 3,
                    "xref": "x",
                    "y0": 3,
                    "y1": 3,
                    "yref": "y"
                  },
                  {
                    "line": {
                      "color": "rgb(242.66706122449924, 0.0, 0.0)",
                      "width": 2
                    },
                    "type": "line",
                    "x0": -4.377777777777778,
                    "x1": 4,
                    "xref": "x",
                    "y0": 4,
                    "y1": 4,
                    "yref": "y"
                  },
                  {
                    "line": {
                      "color": "rgb(220.4679402009513, 0.0, 0.0)",
                      "width": 2
                    },
                    "type": "line",
                    "x0": -4.544444444444444,
                    "x1": 5,
                    "xref": "x",
                    "y0": 5,
                    "y1": 5,
                    "yref": "y"
                  },
                  {
                    "line": {
                      "color": "rgb(229.45207837771164, 0.0, 0.0)",
                      "width": 2
                    },
                    "type": "line",
                    "x0": -4.377777777777778,
                    "x1": 6,
                    "xref": "x",
                    "y0": 6,
                    "y1": 6,
                    "yref": "y"
                  },
                  {
                    "line": {
                      "color": "rgb(250.99077855490944, 50.52970630038203, 0.0)",
                      "width": 2
                    },
                    "type": "line",
                    "x0": -4.5777777777777775,
                    "x1": 7,
                    "xref": "x",
                    "y0": 7,
                    "y1": 7,
                    "yref": "y"
                  },
                  {
                    "line": {
                      "color": "rgb(204.66726292922613, 0.0, 0.0)",
                      "width": 2
                    },
                    "type": "line",
                    "x0": -4.5777777777777775,
                    "x1": 8,
                    "xref": "x",
                    "y0": 8,
                    "y1": 8,
                    "yref": "y"
                  },
                  {
                    "line": {
                      "color": "rgb(245.72097634138288, 0.0, 0.0)",
                      "width": 2
                    },
                    "type": "line",
                    "x0": -4.5777777777777775,
                    "x1": 9,
                    "xref": "x",
                    "y0": 9,
                    "y1": 9,
                    "yref": "y"
                  },
                  {
                    "line": {
                      "color": "rgb(253.02489358666307, 154.26957291981603, 0.0)",
                      "width": 2
                    },
                    "type": "line",
                    "x0": -4.544444444444444,
                    "x1": 10,
                    "xref": "x",
                    "y0": 10,
                    "y1": 10,
                    "yref": "y"
                  },
                  {
                    "line": {
                      "color": "rgb(251.4283195411552, 72.84429659891538, 0.0)",
                      "width": 2
                    },
                    "type": "line",
                    "x0": -4.5777777777777775,
                    "x1": 11,
                    "xref": "x",
                    "y0": 11,
                    "y1": 11,
                    "yref": "y"
                  },
                  {
                    "line": {
                      "color": "rgb(213.32857000442465, 0.0, 0.0)",
                      "width": 2
                    },
                    "type": "line",
                    "x0": -4.311111111111111,
                    "x1": 12,
                    "xref": "x",
                    "y0": 12,
                    "y1": 12,
                    "yref": "y"
                  },
                  {
                    "line": {
                      "color": "rgb(252.9593475811632, 150.92672663932296, 0.0)",
                      "width": 2
                    },
                    "type": "line",
                    "x0": -4.344444444444445,
                    "x1": 13,
                    "xref": "x",
                    "y0": 13,
                    "y1": 13,
                    "yref": "y"
                  },
                  {
                    "line": {
                      "color": "rgb(222.1157446021161, 0.0, 0.0)",
                      "width": 2
                    },
                    "type": "line",
                    "x0": -4.311111111111111,
                    "x1": 14,
                    "xref": "x",
                    "y0": 14,
                    "y1": 14,
                    "yref": "y"
                  },
                  {
                    "line": {
                      "color": "rgb(242.51587657251824, 0.0, 0.0)",
                      "width": 2
                    },
                    "type": "line",
                    "x0": -4.511111111111111,
                    "x1": 15,
                    "xref": "x",
                    "y0": 15,
                    "y1": 15,
                    "yref": "y"
                  },
                  {
                    "line": {
                      "color": "rgb(252.49733108669065, 127.3638854212225, 0.0)",
                      "width": 2
                    },
                    "type": "line",
                    "x0": -4.5777777777777775,
                    "x1": 16,
                    "xref": "x",
                    "y0": 16,
                    "y1": 16,
                    "yref": "y"
                  },
                  {
                    "line": {
                      "color": "rgb(252.05993200264726, 105.05653213501068, 0.0)",
                      "width": 2
                    },
                    "type": "line",
                    "x0": -4.511111111111111,
                    "x1": 17,
                    "xref": "x",
                    "y0": 17,
                    "y1": 17,
                    "yref": "y"
                  },
                  {
                    "line": {
                      "color": "rgb(242.83723612290242, 0.0, 0.0)",
                      "width": 2
                    },
                    "type": "line",
                    "x0": -4.5777777777777775,
                    "x1": 18,
                    "xref": "x",
                    "y0": 18,
                    "y1": 18,
                    "yref": "y"
                  },
                  {
                    "line": {
                      "color": "rgb(217.81563845977894, 0.0, 0.0)",
                      "width": 2
                    },
                    "type": "line",
                    "x0": -4.5777777777777775,
                    "x1": 19,
                    "xref": "x",
                    "y0": 19,
                    "y1": 19,
                    "yref": "y"
                  },
                  {
                    "line": {
                      "color": "rgb(222.0391658493712, 0.0, 0.0)",
                      "width": 2
                    },
                    "type": "line",
                    "x0": -4.5777777777777775,
                    "x1": 20,
                    "xref": "x",
                    "y0": 20,
                    "y1": 20,
                    "yref": "y"
                  },
                  {
                    "line": {
                      "color": "rgb(164.03083144514682, 0.0, 0.0)",
                      "width": 2
                    },
                    "type": "line",
                    "x0": -4.5777777777777775,
                    "x1": 21,
                    "xref": "x",
                    "y0": 21,
                    "y1": 21,
                    "yref": "y"
                  },
                  {
                    "line": {
                      "color": "rgb(147.49687091752085, 0.0, 0.0)",
                      "width": 2
                    },
                    "type": "line",
                    "x0": -4.5777777777777775,
                    "x1": 22,
                    "xref": "x",
                    "y0": 22,
                    "y1": 22,
                    "yref": "y"
                  },
                  {
                    "line": {
                      "color": "rgb(250.9863337481186, 50.303021154048054, 0.0)",
                      "width": 2
                    },
                    "type": "line",
                    "x0": -4.5777777777777775,
                    "x1": 23,
                    "xref": "x",
                    "y0": 23,
                    "y1": 23,
                    "yref": "y"
                  },
                  {
                    "line": {
                      "color": "rgb(192.6127254231795, 0.0, 0.0)",
                      "width": 2
                    },
                    "type": "line",
                    "x0": -4.511111111111111,
                    "x1": 24,
                    "xref": "x",
                    "y0": 24,
                    "y1": 24,
                    "yref": "y"
                  },
                  {
                    "line": {
                      "color": "rgb(251.76081920913975, 89.80177966612692, 0.0)",
                      "width": 2
                    },
                    "type": "line",
                    "x0": -4.5777777777777775,
                    "x1": 25,
                    "xref": "x",
                    "y0": 25,
                    "y1": 25,
                    "yref": "y"
                  },
                  {
                    "line": {
                      "color": "rgb(247.20989406181005, 0.0, 0.0)",
                      "width": 2
                    },
                    "type": "line",
                    "x0": -4.5777777777777775,
                    "x1": 26,
                    "xref": "x",
                    "y0": 26,
                    "y1": 26,
                    "yref": "y"
                  },
                  {
                    "line": {
                      "color": "rgb(233.83883981649691, 0.0, 0.0)",
                      "width": 2
                    },
                    "type": "line",
                    "x0": -4.511111111111111,
                    "x1": 27,
                    "xref": "x",
                    "y0": 27,
                    "y1": 27,
                    "yref": "y"
                  },
                  {
                    "line": {
                      "color": "rgb(248.75803804285724, 0.0, 0.0)",
                      "width": 2
                    },
                    "type": "line",
                    "x0": -4.5777777777777775,
                    "x1": 28,
                    "xref": "x",
                    "y0": 28,
                    "y1": 28,
                    "yref": "y"
                  },
                  {
                    "line": {
                      "color": "rgb(215.65315299573638, 255.0, 40.13378394434892)",
                      "width": 2
                    },
                    "type": "line",
                    "x0": -4.5777777777777775,
                    "x1": 29,
                    "xref": "x",
                    "y0": 29,
                    "y1": 29,
                    "yref": "y"
                  }
                ],
                "template": {
                  "data": {
                    "bar": [
                      {
                        "error_x": {
                          "color": "#2a3f5f"
                        },
                        "error_y": {
                          "color": "#2a3f5f"
                        },
                        "marker": {
                          "line": {
                            "color": "#E5ECF6",
                            "width": 0.5
                          },
                          "pattern": {
                            "fillmode": "overlay",
                            "size": 10,
                            "solidity": 0.2
                          }
                        },
                        "type": "bar"
                      }
                    ],
                    "barpolar": [
                      {
                        "marker": {
                          "line": {
                            "color": "#E5ECF6",
                            "width": 0.5
                          },
                          "pattern": {
                            "fillmode": "overlay",
                            "size": 10,
                            "solidity": 0.2
                          }
                        },
                        "type": "barpolar"
                      }
                    ],
                    "carpet": [
                      {
                        "aaxis": {
                          "endlinecolor": "#2a3f5f",
                          "gridcolor": "white",
                          "linecolor": "white",
                          "minorgridcolor": "white",
                          "startlinecolor": "#2a3f5f"
                        },
                        "baxis": {
                          "endlinecolor": "#2a3f5f",
                          "gridcolor": "white",
                          "linecolor": "white",
                          "minorgridcolor": "white",
                          "startlinecolor": "#2a3f5f"
                        },
                        "type": "carpet"
                      }
                    ],
                    "choropleth": [
                      {
                        "colorbar": {
                          "outlinewidth": 0,
                          "ticks": ""
                        },
                        "type": "choropleth"
                      }
                    ],
                    "contour": [
                      {
                        "colorbar": {
                          "outlinewidth": 0,
                          "ticks": ""
                        },
                        "colorscale": [
                          [
                            0,
                            "#0d0887"
                          ],
                          [
                            0.1111111111111111,
                            "#46039f"
                          ],
                          [
                            0.2222222222222222,
                            "#7201a8"
                          ],
                          [
                            0.3333333333333333,
                            "#9c179e"
                          ],
                          [
                            0.4444444444444444,
                            "#bd3786"
                          ],
                          [
                            0.5555555555555556,
                            "#d8576b"
                          ],
                          [
                            0.6666666666666666,
                            "#ed7953"
                          ],
                          [
                            0.7777777777777778,
                            "#fb9f3a"
                          ],
                          [
                            0.8888888888888888,
                            "#fdca26"
                          ],
                          [
                            1,
                            "#f0f921"
                          ]
                        ],
                        "type": "contour"
                      }
                    ],
                    "contourcarpet": [
                      {
                        "colorbar": {
                          "outlinewidth": 0,
                          "ticks": ""
                        },
                        "type": "contourcarpet"
                      }
                    ],
                    "heatmap": [
                      {
                        "colorbar": {
                          "outlinewidth": 0,
                          "ticks": ""
                        },
                        "colorscale": [
                          [
                            0,
                            "#0d0887"
                          ],
                          [
                            0.1111111111111111,
                            "#46039f"
                          ],
                          [
                            0.2222222222222222,
                            "#7201a8"
                          ],
                          [
                            0.3333333333333333,
                            "#9c179e"
                          ],
                          [
                            0.4444444444444444,
                            "#bd3786"
                          ],
                          [
                            0.5555555555555556,
                            "#d8576b"
                          ],
                          [
                            0.6666666666666666,
                            "#ed7953"
                          ],
                          [
                            0.7777777777777778,
                            "#fb9f3a"
                          ],
                          [
                            0.8888888888888888,
                            "#fdca26"
                          ],
                          [
                            1,
                            "#f0f921"
                          ]
                        ],
                        "type": "heatmap"
                      }
                    ],
                    "heatmapgl": [
                      {
                        "colorbar": {
                          "outlinewidth": 0,
                          "ticks": ""
                        },
                        "colorscale": [
                          [
                            0,
                            "#0d0887"
                          ],
                          [
                            0.1111111111111111,
                            "#46039f"
                          ],
                          [
                            0.2222222222222222,
                            "#7201a8"
                          ],
                          [
                            0.3333333333333333,
                            "#9c179e"
                          ],
                          [
                            0.4444444444444444,
                            "#bd3786"
                          ],
                          [
                            0.5555555555555556,
                            "#d8576b"
                          ],
                          [
                            0.6666666666666666,
                            "#ed7953"
                          ],
                          [
                            0.7777777777777778,
                            "#fb9f3a"
                          ],
                          [
                            0.8888888888888888,
                            "#fdca26"
                          ],
                          [
                            1,
                            "#f0f921"
                          ]
                        ],
                        "type": "heatmapgl"
                      }
                    ],
                    "histogram": [
                      {
                        "marker": {
                          "pattern": {
                            "fillmode": "overlay",
                            "size": 10,
                            "solidity": 0.2
                          }
                        },
                        "type": "histogram"
                      }
                    ],
                    "histogram2d": [
                      {
                        "colorbar": {
                          "outlinewidth": 0,
                          "ticks": ""
                        },
                        "colorscale": [
                          [
                            0,
                            "#0d0887"
                          ],
                          [
                            0.1111111111111111,
                            "#46039f"
                          ],
                          [
                            0.2222222222222222,
                            "#7201a8"
                          ],
                          [
                            0.3333333333333333,
                            "#9c179e"
                          ],
                          [
                            0.4444444444444444,
                            "#bd3786"
                          ],
                          [
                            0.5555555555555556,
                            "#d8576b"
                          ],
                          [
                            0.6666666666666666,
                            "#ed7953"
                          ],
                          [
                            0.7777777777777778,
                            "#fb9f3a"
                          ],
                          [
                            0.8888888888888888,
                            "#fdca26"
                          ],
                          [
                            1,
                            "#f0f921"
                          ]
                        ],
                        "type": "histogram2d"
                      }
                    ],
                    "histogram2dcontour": [
                      {
                        "colorbar": {
                          "outlinewidth": 0,
                          "ticks": ""
                        },
                        "colorscale": [
                          [
                            0,
                            "#0d0887"
                          ],
                          [
                            0.1111111111111111,
                            "#46039f"
                          ],
                          [
                            0.2222222222222222,
                            "#7201a8"
                          ],
                          [
                            0.3333333333333333,
                            "#9c179e"
                          ],
                          [
                            0.4444444444444444,
                            "#bd3786"
                          ],
                          [
                            0.5555555555555556,
                            "#d8576b"
                          ],
                          [
                            0.6666666666666666,
                            "#ed7953"
                          ],
                          [
                            0.7777777777777778,
                            "#fb9f3a"
                          ],
                          [
                            0.8888888888888888,
                            "#fdca26"
                          ],
                          [
                            1,
                            "#f0f921"
                          ]
                        ],
                        "type": "histogram2dcontour"
                      }
                    ],
                    "mesh3d": [
                      {
                        "colorbar": {
                          "outlinewidth": 0,
                          "ticks": ""
                        },
                        "type": "mesh3d"
                      }
                    ],
                    "parcoords": [
                      {
                        "line": {
                          "colorbar": {
                            "outlinewidth": 0,
                            "ticks": ""
                          }
                        },
                        "type": "parcoords"
                      }
                    ],
                    "pie": [
                      {
                        "automargin": true,
                        "type": "pie"
                      }
                    ],
                    "scatter": [
                      {
                        "fillpattern": {
                          "fillmode": "overlay",
                          "size": 10,
                          "solidity": 0.2
                        },
                        "type": "scatter"
                      }
                    ],
                    "scatter3d": [
                      {
                        "line": {
                          "colorbar": {
                            "outlinewidth": 0,
                            "ticks": ""
                          }
                        },
                        "marker": {
                          "colorbar": {
                            "outlinewidth": 0,
                            "ticks": ""
                          }
                        },
                        "type": "scatter3d"
                      }
                    ],
                    "scattercarpet": [
                      {
                        "marker": {
                          "colorbar": {
                            "outlinewidth": 0,
                            "ticks": ""
                          }
                        },
                        "type": "scattercarpet"
                      }
                    ],
                    "scattergeo": [
                      {
                        "marker": {
                          "colorbar": {
                            "outlinewidth": 0,
                            "ticks": ""
                          }
                        },
                        "type": "scattergeo"
                      }
                    ],
                    "scattergl": [
                      {
                        "marker": {
                          "colorbar": {
                            "outlinewidth": 0,
                            "ticks": ""
                          }
                        },
                        "type": "scattergl"
                      }
                    ],
                    "scattermapbox": [
                      {
                        "marker": {
                          "colorbar": {
                            "outlinewidth": 0,
                            "ticks": ""
                          }
                        },
                        "type": "scattermapbox"
                      }
                    ],
                    "scatterpolar": [
                      {
                        "marker": {
                          "colorbar": {
                            "outlinewidth": 0,
                            "ticks": ""
                          }
                        },
                        "type": "scatterpolar"
                      }
                    ],
                    "scatterpolargl": [
                      {
                        "marker": {
                          "colorbar": {
                            "outlinewidth": 0,
                            "ticks": ""
                          }
                        },
                        "type": "scatterpolargl"
                      }
                    ],
                    "scatterternary": [
                      {
                        "marker": {
                          "colorbar": {
                            "outlinewidth": 0,
                            "ticks": ""
                          }
                        },
                        "type": "scatterternary"
                      }
                    ],
                    "surface": [
                      {
                        "colorbar": {
                          "outlinewidth": 0,
                          "ticks": ""
                        },
                        "colorscale": [
                          [
                            0,
                            "#0d0887"
                          ],
                          [
                            0.1111111111111111,
                            "#46039f"
                          ],
                          [
                            0.2222222222222222,
                            "#7201a8"
                          ],
                          [
                            0.3333333333333333,
                            "#9c179e"
                          ],
                          [
                            0.4444444444444444,
                            "#bd3786"
                          ],
                          [
                            0.5555555555555556,
                            "#d8576b"
                          ],
                          [
                            0.6666666666666666,
                            "#ed7953"
                          ],
                          [
                            0.7777777777777778,
                            "#fb9f3a"
                          ],
                          [
                            0.8888888888888888,
                            "#fdca26"
                          ],
                          [
                            1,
                            "#f0f921"
                          ]
                        ],
                        "type": "surface"
                      }
                    ],
                    "table": [
                      {
                        "cells": {
                          "fill": {
                            "color": "#EBF0F8"
                          },
                          "line": {
                            "color": "white"
                          }
                        },
                        "header": {
                          "fill": {
                            "color": "#C8D4E3"
                          },
                          "line": {
                            "color": "white"
                          }
                        },
                        "type": "table"
                      }
                    ]
                  },
                  "layout": {
                    "annotationdefaults": {
                      "arrowcolor": "#2a3f5f",
                      "arrowhead": 0,
                      "arrowwidth": 1
                    },
                    "autotypenumbers": "strict",
                    "coloraxis": {
                      "colorbar": {
                        "outlinewidth": 0,
                        "ticks": ""
                      }
                    },
                    "colorscale": {
                      "diverging": [
                        [
                          0,
                          "#8e0152"
                        ],
                        [
                          0.1,
                          "#c51b7d"
                        ],
                        [
                          0.2,
                          "#de77ae"
                        ],
                        [
                          0.3,
                          "#f1b6da"
                        ],
                        [
                          0.4,
                          "#fde0ef"
                        ],
                        [
                          0.5,
                          "#f7f7f7"
                        ],
                        [
                          0.6,
                          "#e6f5d0"
                        ],
                        [
                          0.7,
                          "#b8e186"
                        ],
                        [
                          0.8,
                          "#7fbc41"
                        ],
                        [
                          0.9,
                          "#4d9221"
                        ],
                        [
                          1,
                          "#276419"
                        ]
                      ],
                      "sequential": [
                        [
                          0,
                          "#0d0887"
                        ],
                        [
                          0.1111111111111111,
                          "#46039f"
                        ],
                        [
                          0.2222222222222222,
                          "#7201a8"
                        ],
                        [
                          0.3333333333333333,
                          "#9c179e"
                        ],
                        [
                          0.4444444444444444,
                          "#bd3786"
                        ],
                        [
                          0.5555555555555556,
                          "#d8576b"
                        ],
                        [
                          0.6666666666666666,
                          "#ed7953"
                        ],
                        [
                          0.7777777777777778,
                          "#fb9f3a"
                        ],
                        [
                          0.8888888888888888,
                          "#fdca26"
                        ],
                        [
                          1,
                          "#f0f921"
                        ]
                      ],
                      "sequentialminus": [
                        [
                          0,
                          "#0d0887"
                        ],
                        [
                          0.1111111111111111,
                          "#46039f"
                        ],
                        [
                          0.2222222222222222,
                          "#7201a8"
                        ],
                        [
                          0.3333333333333333,
                          "#9c179e"
                        ],
                        [
                          0.4444444444444444,
                          "#bd3786"
                        ],
                        [
                          0.5555555555555556,
                          "#d8576b"
                        ],
                        [
                          0.6666666666666666,
                          "#ed7953"
                        ],
                        [
                          0.7777777777777778,
                          "#fb9f3a"
                        ],
                        [
                          0.8888888888888888,
                          "#fdca26"
                        ],
                        [
                          1,
                          "#f0f921"
                        ]
                      ]
                    },
                    "colorway": [
                      "#636efa",
                      "#EF553B",
                      "#00cc96",
                      "#ab63fa",
                      "#FFA15A",
                      "#19d3f3",
                      "#FF6692",
                      "#B6E880",
                      "#FF97FF",
                      "#FECB52"
                    ],
                    "font": {
                      "color": "#2a3f5f"
                    },
                    "geo": {
                      "bgcolor": "white",
                      "lakecolor": "white",
                      "landcolor": "#E5ECF6",
                      "showlakes": true,
                      "showland": true,
                      "subunitcolor": "white"
                    },
                    "hoverlabel": {
                      "align": "left"
                    },
                    "hovermode": "closest",
                    "mapbox": {
                      "style": "light"
                    },
                    "paper_bgcolor": "white",
                    "plot_bgcolor": "#E5ECF6",
                    "polar": {
                      "angularaxis": {
                        "gridcolor": "white",
                        "linecolor": "white",
                        "ticks": ""
                      },
                      "bgcolor": "#E5ECF6",
                      "radialaxis": {
                        "gridcolor": "white",
                        "linecolor": "white",
                        "ticks": ""
                      }
                    },
                    "scene": {
                      "xaxis": {
                        "backgroundcolor": "#E5ECF6",
                        "gridcolor": "white",
                        "gridwidth": 2,
                        "linecolor": "white",
                        "showbackground": true,
                        "ticks": "",
                        "zerolinecolor": "white"
                      },
                      "yaxis": {
                        "backgroundcolor": "#E5ECF6",
                        "gridcolor": "white",
                        "gridwidth": 2,
                        "linecolor": "white",
                        "showbackground": true,
                        "ticks": "",
                        "zerolinecolor": "white"
                      },
                      "zaxis": {
                        "backgroundcolor": "#E5ECF6",
                        "gridcolor": "white",
                        "gridwidth": 2,
                        "linecolor": "white",
                        "showbackground": true,
                        "ticks": "",
                        "zerolinecolor": "white"
                      }
                    },
                    "shapedefaults": {
                      "line": {
                        "color": "#2a3f5f"
                      }
                    },
                    "ternary": {
                      "aaxis": {
                        "gridcolor": "white",
                        "linecolor": "white",
                        "ticks": ""
                      },
                      "baxis": {
                        "gridcolor": "white",
                        "linecolor": "white",
                        "ticks": ""
                      },
                      "bgcolor": "#E5ECF6",
                      "caxis": {
                        "gridcolor": "white",
                        "linecolor": "white",
                        "ticks": ""
                      }
                    },
                    "title": {
                      "x": 0.05
                    },
                    "xaxis": {
                      "automargin": true,
                      "gridcolor": "white",
                      "linecolor": "white",
                      "ticks": "",
                      "title": {
                        "standoff": 15
                      },
                      "zerolinecolor": "white",
                      "zerolinewidth": 2
                    },
                    "yaxis": {
                      "automargin": true,
                      "gridcolor": "white",
                      "linecolor": "white",
                      "ticks": "",
                      "title": {
                        "standoff": 15
                      },
                      "zerolinecolor": "white",
                      "zerolinewidth": 2
                    }
                  }
                },
                "width": 1620,
                "xaxis": {
                  "tickmode": "array",
                  "ticktext": [
                    0,
                    1,
                    2,
                    3,
                    4,
                    5,
                    6,
                    7,
                    8,
                    9,
                    10,
                    11,
                    12,
                    13,
                    14,
                    15,
                    16,
                    17,
                    18,
                    19,
                    20,
                    21,
                    22,
                    23,
                    24,
                    25,
                    26,
                    27,
                    28,
                    29
                  ],
                  "tickvals": [
                    0,
                    1,
                    2,
                    3,
                    4,
                    5,
                    6,
                    7,
                    8,
                    9,
                    10,
                    11,
                    12,
                    13,
                    14,
                    15,
                    16,
                    17,
                    18,
                    19,
                    20,
                    21,
                    22,
                    23,
                    24,
                    25,
                    26,
                    27,
                    28,
                    29
                  ],
                  "title": {
                    "text": "X Axis"
                  }
                },
                "yaxis": {
                  "autorange": "reversed",
                  "tickmode": "array",
                  "ticktext": [
                    0,
                    1,
                    2,
                    3,
                    4,
                    5,
                    6,
                    7,
                    8,
                    9,
                    10,
                    11,
                    12,
                    13,
                    14,
                    15,
                    16,
                    17,
                    18,
                    19,
                    20,
                    21,
                    22,
                    23,
                    24,
                    25,
                    26,
                    27,
                    28,
                    29
                  ],
                  "tickvals": [
                    0,
                    1,
                    2,
                    3,
                    4,
                    5,
                    6,
                    7,
                    8,
                    9,
                    10,
                    11,
                    12,
                    13,
                    14,
                    15,
                    16,
                    17,
                    18,
                    19,
                    20,
                    21,
                    22,
                    23,
                    24,
                    25,
                    26,
                    27,
                    28,
                    29
                  ],
                  "title": {
                    "text": "Y Axis"
                  }
                }
              }
            }
          },
          "metadata": {},
          "output_type": "display_data"
        }
      ],
      "source": [
        "import pandas as pd\n",
        "import numpy as np\n",
        "import sys\n",
        "sys.path.append(\"..\")\n",
        "import lib.heatmap\n",
        "import importlib\n",
        "importlib.reload(sys.modules['lib.heatmap'])\n",
        "from lib.heatmap import Heatmap\n",
        "\n",
        "heat_plot_data_path = \"../data/heatplot.csv\"\n",
        "heat_plot_data = pd.read_csv(heat_plot_data_path, header=0)\n",
        "first = heat_plot_data[\"first\"].tolist()\n",
        "second = heat_plot_data[\"second\"].tolist()\n",
        "first_embed = heat_plot_data[\"first_embed\"].apply(lambda x: ast.literal_eval(x)).tolist()\n",
        "second_embed = heat_plot_data[\"second_embed\"].apply(lambda x: ast.literal_eval(x)).tolist()\n",
        "# positions = [(i, i) for i in range(0, 20, 2)] + [(1, 5), (2, 3), (15, 9), (5, 13), (17, 7)]\n",
        "# heatmap = Heatmap(df, positions)\n",
        "df = pd.DataFrame({ \"first\":first, \n",
        "                    \"second\":second, \n",
        "                    \"first_embed\":[np.array(first_embed[i]) for i in range(len(first_embed))], \n",
        "                    \"second_embed\":[np.array(second_embed[i]) for i in range(len(second_embed))]})\n",
        "heatmap = Heatmap(df)\n",
        "heatmap.create_heatmap(font_path='./lib/arial.ttf')"
      ]
    },
    {
      "attachments": {},
      "cell_type": "markdown",
      "metadata": {},
      "source": [
        "## 模糊搜索"
      ]
    },
    {
      "cell_type": "code",
      "execution_count": 43,
      "metadata": {},
      "outputs": [],
      "source": [
        "import ast\n",
        "import lib.fuzzySearch\n",
        "import importlib\n",
        "\n",
        "importlib.reload(lib.fuzzySearch)\n",
        "from lib.fuzzySearch import FuzzySearch\n",
        "fuzzy_search_data_path = \"../data/search_data.csv\"\n",
        "stop_words_path = \"../data/stop_word.txt\"\n",
        "\n",
        "fuzzy_search_data = pd.read_csv(fuzzy_search_data_path, header=0)\n",
        "fuzzy_search_data[\"embed\"] = fuzzy_search_data[\"embed\"].apply(lambda x: ast.literal_eval(x))"
      ]
    },
    {
      "cell_type": "code",
      "execution_count": 44,
      "metadata": {},
      "outputs": [
        {
          "name": "stderr",
          "output_type": "stream",
          "text": [
            "Explicitly passing a `revision` is encouraged when loading a model with custom code to ensure no malicious code has been contributed in a newer revision.\n"
          ]
        }
      ],
      "source": [
        "# fuzzy_search_data is the data source to search from, which is a pandas dataframe and should have two columns: sentence and embed\n",
        "# sentence is the content of the sentence, each row is a string\n",
        "# embed is the sentence embedding, each row is a list of float\n",
        "fuzzy_search = FuzzySearch(fuzzy_search_data, stop_words_path = stop_words_path)"
      ]
    },
    {
      "cell_type": "code",
      "execution_count": 45,
      "metadata": {},
      "outputs": [
        {
          "name": "stderr",
          "output_type": "stream",
          "text": [
            "Asking to truncate to max_length but no maximum length is provided and the model has no predefined maximum length. Default to no truncation.\n"
          ]
        },
        {
          "name": "stdout",
          "output_type": "stream",
          "text": [
            "第1个结果：\n",
            "<mark>虎扑</mark>体育7月14日讯。<mark>马刺</mark>官网宣布,<mark>保罗</mark>-加<mark>索尔</mark>与<mark>球队正式签订协议</mark>。根据之前的<mark>报道</mark>,加<mark>索尔</mark>与<mark>马刺签订</mark>的是一份为期2年3000万的<mark>协议</mark>。加<mark>索尔</mark>上赛季共打了72场比赛,场均31.8分钟,贡献16.5分11.0篮板4.1助攻2.0盖帽。\n",
            "\n",
            "第2个结果：\n",
            "2015-09-2809:03。新浪体育。显示图片下一站丹佛?北京时间9月28日,据雅<mark>虎</mark>体育<mark>报道</mark>,波特兰开拓者队已经与老将射手迈克-米勒达成了合同买断。一旦米勒成为自由球员之后,丹佛掘金队有意得到他。据雅<mark>虎</mark>体育得到的消息,如果迈克-米勒在规定的时间内没有被<mark>球队</mark>认领并成为一名自由球员,联盟里有一些<mark>球队</mark>将会对他感兴趣,其中就包括掘金队。目前,掘金队中已经有14个保障合同。事实上早在一年前,掘金队就在自由球员市场上猛追过米勒。但最终,米勒决定跟随勒布朗-詹姆斯加盟骑士队。今年7月,开拓者队在关于布兰登-海伍德的那笔交易中得到了迈克-米勒。作为2000年的NBA首轮5号新秀,迈克-米勒曾获得过2001年最佳新秀称号、2006年最佳第六人称号,并且曾跟随迈阿密热火队夺得过两次NBA总冠军。在长达15年的职业生涯里,米勒一直被视为一名关键时刻靠得住的射手,并且能够为争冠<mark>球队</mark>做出贡献。他的生涯场均数据是11.3分、4.4个篮板和2.7次助攻。\n",
            "\n",
            "第3个结果：\n",
            "<mark>虎扑</mark>体育9月3日讯。根据《太阳哨兵报》记者IraWinderman的<mark>报道</mark>,帕特-莱利本周接受采访时表示,交易得到沙奎尔-奥尼尔是他们队史上最大的交易收获。在2004年夏天,奥尼尔被湖人交易到了热火,随后他就与德维恩-韦德在2005-06赛季一起为热火拿到了他们队史上的首个总冠军。“我会这么说,我的意思也是这个,”莱利说,“获得奥尼尔比我们史上的任何收获都重要,其中也包括三巨头。”莱利称热火交易得到奥尼尔的重要性超过了热火组成勒布朗-詹姆斯、克里斯-波什和韦德的三巨头,也超过了<mark>球队</mark>收获阿隆佐-莫宁。“莫宁很重要,但是得到沙奎尔改变了我们<mark>球队</mark>的一切。”莱利说道。2004年夏天,热火送出了布莱恩-格兰特,拉马尔-奥多姆、卡隆-巴特勒、一个首轮选秀权和一个次轮选秀权,得到了奥尼尔。“那个影响深远的时刻,”莱利说,“这真的让我们变得非常非常有竞争力,他扭转了我们的<mark>球队</mark>,他给了我们真正的竞争力。”2004年夏天,热火老板米基-阿里森允许莱利与湖人老板杰里-巴斯讨论了湖人空缺的主帅一职。“我们坐下来谈了<mark>球队</mark>,”莱利说,“我记得其中一个话题出现了,我问了他们这个问题,‘奥尼尔和科比-布莱恩特怎么样?’他们说…莱利接着说:“他们真的不想谈这个,我说我唯一可以来执教他们的办法就是给我一个将他俩重组在一起的机会,打造他们之间的关系,然后让这个事情继续前进,因为我认为他们那支<mark>球队</mark>,他们刚完成的那些事情,他们一起可以在洛杉矶拿到更多的总冠军。”“就在那之后,我们都上了楼一起吃晚饭,那就是我最后一次听到他们想让我执教了,但是他们肯定想跟我们做一笔交易,所以我不知道是否他带我去那是真的想让我执教<mark>球队</mark>,还是他带我去那只是想猜测下我们是否会交易韦德、巴特勒和其他的一切,我拒绝了,但是当他们打回电话来的时候,当米奇-库普切克打电话过来的时候,我们有兴趣,这是毫无疑问的,然后我们研究出了一个交易报价,然后交易就达成了,我们最终得到了奥尼尔,我们最终拿到了总冠军。”莱利说道。在交易<mark>正式</mark>达成之前,奥尼尔与阿里森见了面,莱利是中间人。“我打电话给米基,”莱利说,“我说,‘米基,奥尼尔想来拜访你’,他说,‘好啊,我们已经有了一船的客人了’,他不得不为我租下另外一艘船,让我待在他的船旁边,他还不得不放上一个超大的床,让奥尼尔和他的妻子可以在上面过夜,但是结果那艘船还是不够大,奥尼尔最终大部分时间都睡在了客厅的地板上。自从热火拿到他们的首个总冠军后,他们又拿到了两个总冠军。“这已经过去了10年了,我们之前的表现不错,我们非常有竞争性,”莱利说,“我认为奥尼尔的交易改变了我们的<mark>球队</mark>文化,我认为我们之前与尼克斯的季后赛系列赛连续三个赛季都是引人入胜的,我们最终输了,但是就像我说的那样,‘你知道么?我们必须要去努力争取。’2005年12月,莱利成为了热火的主帅,但是他称这不是奥尼尔的要求。“不,”莱利说,“他从没有要求我,他也没有要求米基让我出任教练,这从没有发生过,他从没有赶走斯坦-范甘迪。”“有很多关于此事的猜测,我是<mark>球队</mark>的总裁,作为<mark>球队</mark>当时的总裁,我差不多就是<mark>球队</mark>的看管者,但是我也有眼睛,我知道在发生着什么,我知道这支<mark>球队</mark>需要什么,我们当时没有很多的时间了,从那个角度来说,我们只有3个赛季或者4个赛季有夺冠的机会。莱利说道。2007-08赛季中期,奥尼尔被热火交易到了太阳,那个时候,奥尼尔和莱利的关系已经恶化。“我跟很多球员都有过争吵,跟他们所有人都有过争吵,我执教的每个球员,每个超级球星和每个名人堂成员,”莱利说,“有时候会有意见不一致的时候,他们都是好球员,我是有要求的人,他们也是有要求的球员,所以有时候我们对待彼此时事情会有点过,但是当奥尼尔离开的时候,那不是最好的条件,但是这对我们所有人来说都好,那不是只是一个事情的原因,只是到了时候了。”莱利说道。不过莱利仍然非常感激奥尼尔,他说:“当他想统治一场比赛的时候,并且想对获胜产生影响的时候,没有什么比这更好了。”\n",
            "\n",
            "第4个结果：\n",
            "2015-08-0710:14。新浪体育。显示图片《世界体育报》:巴萨报价诺利托。据《世界体育报》<mark>报道</mark>,如果在未来几天佩德罗转会曼联的话,那塞尔塔球员诺利托将作为佩德罗的替代者被巴萨引进。一个最好的证明就是巴萨已经行动起来了,据《世界体育报》从巴萨内部获得的信息,诺坎普高层已给球员和塞尔塔俱乐部送上了具体的合约和报价。据悉,巴萨给诺利托开出的是一份为期4年的合同,而税前年薪方面,诺利托获得的是在塞尔塔的数字的三倍。此外,巴萨方面给塞尔塔开出的1400万固定加400万欧元浮动的转会报价。因为遭受国际足联处罚,巴萨今夏无法引进球员,因此巴萨要到明年1月份才能<mark>正式</mark>引进诺利托,因此,转会完成后,诺利托将以租借的性质继续留在塞尔塔踢球,直到明年1月。这样,球员本人也可以保持状态。如果诺利托最终无法加盟巴萨——因为他能否加盟还得看佩德罗的去留情况,那他也一样会获得塞尔塔的补偿。诺利托是贝里佐的<mark>球队</mark>的关键一员,塞尔塔主席也希望诺利托能感受到俱乐部第一球星的待遇。虽然不久之前他与塞尔塔续约到2019年,但俱乐部并不排除给他加薪的可能,毕竟他不能加盟巴萨,损失会非常大。上赛季在诺坎普球场对阵巴萨,诺利托就曾给红蓝军团带来极大麻烦,他的速度和爆发力令巴萨后防线防不胜防,比赛中正是他的脚后跟传球帮助拉里维得分,而塞尔塔也得意在客场击败强大的巴萨。事实上诺利托也是巴萨“自家人”,他2008年加盟拉玛西亚,在巴萨二队踢过3个赛季,当时巴萨二队的主教练正是恩里克。在恩里克手下,诺利托踢边锋的位置,而2010年10月,在巴萨对马洛卡的联赛比赛中,诺利托还上演了自己的西甲首秀,不过当时瓜迪奥拉手下巨星云集,诺利托选择了离开诺坎普,他到葡萄牙本菲卡尝试新的经历。诺利托在葡萄牙踢了一个半赛季,总共打入12球,第二个赛季的中期,他被租借到西甲的格拉纳达,2013年,诺利托又加盟塞尔塔,与昔日的恩师恩里克重逢。在塞尔塔诺利托发挥稳定,第一个赛季,他在33场比赛里打入14球,上赛季,他联赛出场36场,也打入13球。既可以担任二中锋,又可以出任边锋,这种多样性令巴萨技术部门非常喜欢,认为他完全可以代替佩德罗。恩里克认为,诺利托可以给巴萨带来进球,能给巴萨的中场带来水准,而且诺利托很低调,安排他打替补也不会有怨言,这一点和佩德罗也很相像。诺利托从不掩饰自己对巴萨的感情:“我过去是、现在也是巴萨球迷。”诺利托并不排除重返诺坎普球场的可能:“对我来说,如果巴萨召唤我,那我是不会说‘不’的。巴萨召唤我,我又能去,那肯定去。对巴萨来说,诺利托是佩德罗的合格“备胎”,现在恩里克不用担心佩德罗走后<mark>球队</mark>会留下空缺了。\n",
            "\n",
            "第5个结果：\n",
            "2015-08-0609:26。新浪体育。显示图片加盟骑士。北京时间8月6日《克利夫兰老实人报》<mark>报道</mark>,在经<mark>报道</mark>达成<mark>协议</mark>数周之后,理查德-杰弗森与克利夫兰骑士的签约终于<mark>正式</mark>落成了纸面文件。今天,骑士官方宣布,他们与老将杰弗森完成了签约,合同为期一年,价值老将底薪。今年35岁的杰弗森,进入联盟已经14个年头,而骑士,将是他NBA生涯所效力的第七支<mark>球队</mark>。上赛季作为小牛队的一员,杰弗森虽然每场比赛只获得16.8分钟上场时间,得到5.8分和2.5个篮板,但三分球命中率高达42%。骑士队虽然阵容华丽,但始终需要一名可靠的替补三号位,在勒布朗-詹姆斯下场休息时顶上空缺。上赛季肖恩-马里昂的表现令人失望,<mark>球队</mark>很多时候都是让JR-史密斯和伊曼-香波特这样的后场球员客串替补小前锋。休赛期,自由球员泰肖恩-普林斯曾与骑士传出过绯闻,但最终不了了之。杰弗森一开始曾经答应与小牛续约,不过经过德安德鲁-乔丹事件,马克-库板允许自由球员们重新考虑自己的选择。最终,杰弗森转而决定签约骑士,追逐自己的冠军梦想。作为2001届的首轮13号新秀,杰弗森曾经随篮网两次杀进总决赛,职业生涯场均可以贡献13.9分4.3个篮板,三分球命中率达到38%。\n",
            "\n"
          ]
        },
        {
          "data": {
            "text/html": [
              "<mark>虎扑</mark>体育7月14日讯。<mark>马刺</mark>官网宣布,<mark>保罗</mark>-加<mark>索尔</mark>与<mark>球队正式签订协议</mark>。根据之前的<mark>报道</mark>,加<mark>索尔</mark>与<mark>马刺签订</mark>的是一份为期2年3000万的<mark>协议</mark>。加<mark>索尔</mark>上赛季共打了72场比赛,场均31.8分钟,贡献16.5分11"
            ],
            "text/plain": [
              "<IPython.core.display.HTML object>"
            ]
          },
          "metadata": {},
          "output_type": "display_data"
        },
        {
          "data": {
            "text/html": [
              "03。新浪体育。显示图片下一站丹佛?北京时间9月28日,据雅<mark>虎</mark>体育<mark>报道</mark>,波特兰开拓者队已经与老将射手迈克-米勒达成了合同买断。一旦米勒成为自由球员之后,丹佛掘金队有意得到他。据雅<mark>虎</mark>体育得到的消息,如果迈克-米勒在规定的时间内没有被<mark>球队</mark>认领并成为一名自由球员,联盟里有一些<mark>球队</mark>将会对他感兴趣,其中就包括掘金队。目前,掘金队中已经有14个 ... 涯里,米勒一直被视为一名关键时刻靠得住的射手,并且能够为争冠<mark>球队</mark>做出贡献。他的生涯场均数据是11.3分、4.4个篮板和2.7"
            ],
            "text/plain": [
              "<IPython.core.display.HTML object>"
            ]
          },
          "metadata": {},
          "output_type": "display_data"
        },
        {
          "data": {
            "text/html": [
              "<mark>虎扑</mark>体育9月3日讯。根据《太阳哨兵报》记者IraWinderman的<mark>报道</mark>,帕特-莱利本周接受采访时表示,交易得到沙奎尔-奥尼尔是他们 ... 热火组成勒布朗-詹姆斯、克里斯-波什和韦德的三巨头,也超过了<mark>球队</mark>收获阿隆佐-莫宁。“莫宁很重要,但是得到沙奎尔改变了我们<mark>球队</mark>的一切。”莱利说道。2004年夏天,热火送出了布莱恩-格兰特 ... ”莱利说,“这真的让我们变得非常非常有竞争力,他扭转了我们的<mark>球队</mark>,他给了我们真正的竞争力。”2004年夏天,热火老板米基-阿 ... 湖人老板杰里-巴斯讨论了湖人空缺的主帅一职。“我们坐下来谈了<mark>球队</mark>,”莱利说,“我记得其中一个话题出现了,我问了他们这个问题, ... 造他们之间的关系,然后让这个事情继续前进,因为我认为他们那支<mark>球队</mark>,他们刚完成的那些事情,他们一起可以在洛杉矶拿到更多的总冠军 ... 跟我们做一笔交易,所以我不知道是否他带我去那是真的想让我执教<mark>球队</mark>,还是他带我去那只是想猜测下我们是否会交易韦德、巴特勒和其他 ... 们最终得到了奥尼尔,我们最终拿到了总冠军。”莱利说道。在交易<mark>正式</mark>达成之前,奥尼尔与阿里森见了面,莱利是中间人。“我打电话给米 ... 我们非常有竞争性,”莱利说,“我认为奥尼尔的交易改变了我们的<mark>球队</mark>文化,我认为我们之前与尼克斯的季后赛系列赛连续三个赛季都是引 ... 过,他从没有赶走斯坦-范甘迪。”“有很多关于此事的猜测,我是<mark>球队</mark>的总裁,作为<mark>球队</mark>当时的总裁,我差不多就是<mark>球队</mark>的看管者,但是我也有眼睛,我知道在发生着什么,我知道这支<mark>球队</mark>需要什么,我们当时没有很多的时间了,从那个角度来说,我们只有"
            ],
            "text/plain": [
              "<IPython.core.display.HTML object>"
            ]
          },
          "metadata": {},
          "output_type": "display_data"
        },
        {
          "data": {
            "text/html": [
              "育。显示图片《世界体育报》:巴萨报价诺利托。据《世界体育报》<mark>报道</mark>,如果在未来几天佩德罗转会曼联的话,那塞尔塔球员诺利托将作为 ... 际足联处罚,巴萨今夏无法引进球员,因此巴萨要到明年1月份才能<mark>正式</mark>引进诺利托,因此,转会完成后,诺利托将以租借的性质继续留在塞 ... 罗的去留情况,那他也一样会获得塞尔塔的补偿。诺利托是贝里佐的<mark>球队</mark>的关键一员,塞尔塔主席也希望诺利托能感受到俱乐部第一球星的待 ... ,诺利托是佩德罗的合格“备胎”,现在恩里克不用担心佩德罗走后<mark>球队</mark>会留下空缺了。"
            ],
            "text/plain": [
              "<IPython.core.display.HTML object>"
            ]
          },
          "metadata": {},
          "output_type": "display_data"
        },
        {
          "data": {
            "text/html": [
              "体育。显示图片加盟骑士。北京时间8月6日《克利夫兰老实人报》<mark>报道</mark>,在经<mark>报道</mark>达成<mark>协议</mark>数周之后,理查德-杰弗森与克利夫兰骑士的签约终于<mark>正式</mark>落成了纸面文件。今天,骑士官方宣布,他们与老将杰弗森完成了签 ... 入联盟已经14个年头,而骑士,将是他NBA生涯所效力的第七支<mark>球队</mark>。上赛季作为小牛队的一员,杰弗森虽然每场比赛只获得16.8分 ... 詹姆斯下场休息时顶上空缺。上赛季肖恩-马里昂的表现令人失望,<mark>球队</mark>很多时候都是让JR-史密斯和伊曼-香波特这样的后场球员客串替"
            ],
            "text/plain": [
              "<IPython.core.display.HTML object>"
            ]
          },
          "metadata": {},
          "output_type": "display_data"
        }
      ],
      "source": [
        "#虎扑报道马刺的保罗-加索尔与球队正式签订协议，有哪些相关的新闻？\n",
        "fuzzy_search.search()"
      ]
    },
    {
      "cell_type": "markdown",
      "metadata": {
        "id": "WOfjdJfJwCcb"
      },
      "source": [
        "# TODO:\n",
        "* 模糊问题搜索\n",
        "* 文本聚类\n",
        "* 少样本分类学习"
      ]
    }
  ],
  "metadata": {
    "accelerator": "GPU",
    "colab": {
      "provenance": []
    },
    "gpuClass": "standard",
    "kernelspec": {
      "display_name": "Python 3",
      "name": "python3"
    },
    "language_info": {
      "codemirror_mode": {
        "name": "ipython",
        "version": 3
      },
      "file_extension": ".py",
      "mimetype": "text/x-python",
      "name": "python",
      "nbconvert_exporter": "python",
      "pygments_lexer": "ipython3",
      "version": "3.7.11"
    },
    "widgets": {
      "application/vnd.jupyter.widget-state+json": {
        "00102182cffc4f0e90bf92276dc272e4": {
          "model_module": "@jupyter-widgets/base",
          "model_module_version": "1.2.0",
          "model_name": "LayoutModel",
          "state": {
            "_model_module": "@jupyter-widgets/base",
            "_model_module_version": "1.2.0",
            "_model_name": "LayoutModel",
            "_view_count": null,
            "_view_module": "@jupyter-widgets/base",
            "_view_module_version": "1.2.0",
            "_view_name": "LayoutView",
            "align_content": null,
            "align_items": null,
            "align_self": null,
            "border": null,
            "bottom": null,
            "display": null,
            "flex": null,
            "flex_flow": null,
            "grid_area": null,
            "grid_auto_columns": null,
            "grid_auto_flow": null,
            "grid_auto_rows": null,
            "grid_column": null,
            "grid_gap": null,
            "grid_row": null,
            "grid_template_areas": null,
            "grid_template_columns": null,
            "grid_template_rows": null,
            "height": null,
            "justify_content": null,
            "justify_items": null,
            "left": null,
            "margin": null,
            "max_height": null,
            "max_width": null,
            "min_height": null,
            "min_width": null,
            "object_fit": null,
            "object_position": null,
            "order": null,
            "overflow": null,
            "overflow_x": null,
            "overflow_y": null,
            "padding": null,
            "right": null,
            "top": null,
            "visibility": null,
            "width": null
          }
        },
        "00ccc849f0c84dbc8f372f7858ad8150": {
          "model_module": "@jupyter-widgets/controls",
          "model_module_version": "1.5.0",
          "model_name": "ProgressStyleModel",
          "state": {
            "_model_module": "@jupyter-widgets/controls",
            "_model_module_version": "1.5.0",
            "_model_name": "ProgressStyleModel",
            "_view_count": null,
            "_view_module": "@jupyter-widgets/base",
            "_view_module_version": "1.2.0",
            "_view_name": "StyleView",
            "bar_color": null,
            "description_width": ""
          }
        },
        "02f265aa09a24f8c8384adf889d41138": {
          "model_module": "@jupyter-widgets/controls",
          "model_module_version": "1.5.0",
          "model_name": "FloatProgressModel",
          "state": {
            "_dom_classes": [],
            "_model_module": "@jupyter-widgets/controls",
            "_model_module_version": "1.5.0",
            "_model_name": "FloatProgressModel",
            "_view_count": null,
            "_view_module": "@jupyter-widgets/controls",
            "_view_module_version": "1.5.0",
            "_view_name": "ProgressView",
            "bar_style": "success",
            "description": "",
            "description_tooltip": null,
            "layout": "IPY_MODEL_2287e3862b9247b4a908c730d72998b3",
            "max": 109540,
            "min": 0,
            "orientation": "horizontal",
            "style": "IPY_MODEL_93135e6b84a341eeafaaa14382521e64",
            "value": 109540
          }
        },
        "07251d9f5e8644afaac540b88e35b32a": {
          "model_module": "@jupyter-widgets/controls",
          "model_module_version": "1.5.0",
          "model_name": "HBoxModel",
          "state": {
            "_dom_classes": [],
            "_model_module": "@jupyter-widgets/controls",
            "_model_module_version": "1.5.0",
            "_model_name": "HBoxModel",
            "_view_count": null,
            "_view_module": "@jupyter-widgets/controls",
            "_view_module_version": "1.5.0",
            "_view_name": "HBoxView",
            "box_style": "",
            "children": [
              "IPY_MODEL_14b60606c3434c7ca9846c3112acfaff",
              "IPY_MODEL_9544af26fc33486da491b6dd9bb7f489",
              "IPY_MODEL_fa4470aa6f8646cfb3654d6705ca53af"
            ],
            "layout": "IPY_MODEL_a8a8fcbaf72a459ab3e7875e57463e7f"
          }
        },
        "0a5450529ad5481ebf756bc90fcc9e16": {
          "model_module": "@jupyter-widgets/controls",
          "model_module_version": "1.5.0",
          "model_name": "DescriptionStyleModel",
          "state": {
            "_model_module": "@jupyter-widgets/controls",
            "_model_module_version": "1.5.0",
            "_model_name": "DescriptionStyleModel",
            "_view_count": null,
            "_view_module": "@jupyter-widgets/base",
            "_view_module_version": "1.2.0",
            "_view_name": "StyleView",
            "description_width": ""
          }
        },
        "0e4700aff9f44ff1a93bca9b344a8a85": {
          "model_module": "@jupyter-widgets/controls",
          "model_module_version": "1.5.0",
          "model_name": "DescriptionStyleModel",
          "state": {
            "_model_module": "@jupyter-widgets/controls",
            "_model_module_version": "1.5.0",
            "_model_name": "DescriptionStyleModel",
            "_view_count": null,
            "_view_module": "@jupyter-widgets/base",
            "_view_module_version": "1.2.0",
            "_view_name": "StyleView",
            "description_width": ""
          }
        },
        "14a75f0ea3a54ca8b9ac3b0d139d239a": {
          "model_module": "@jupyter-widgets/base",
          "model_module_version": "1.2.0",
          "model_name": "LayoutModel",
          "state": {
            "_model_module": "@jupyter-widgets/base",
            "_model_module_version": "1.2.0",
            "_model_name": "LayoutModel",
            "_view_count": null,
            "_view_module": "@jupyter-widgets/base",
            "_view_module_version": "1.2.0",
            "_view_name": "LayoutView",
            "align_content": null,
            "align_items": null,
            "align_self": null,
            "border": null,
            "bottom": null,
            "display": null,
            "flex": null,
            "flex_flow": null,
            "grid_area": null,
            "grid_auto_columns": null,
            "grid_auto_flow": null,
            "grid_auto_rows": null,
            "grid_column": null,
            "grid_gap": null,
            "grid_row": null,
            "grid_template_areas": null,
            "grid_template_columns": null,
            "grid_template_rows": null,
            "height": null,
            "justify_content": null,
            "justify_items": null,
            "left": null,
            "margin": null,
            "max_height": null,
            "max_width": null,
            "min_height": null,
            "min_width": null,
            "object_fit": null,
            "object_position": null,
            "order": null,
            "overflow": null,
            "overflow_x": null,
            "overflow_y": null,
            "padding": null,
            "right": null,
            "top": null,
            "visibility": null,
            "width": null
          }
        },
        "14b60606c3434c7ca9846c3112acfaff": {
          "model_module": "@jupyter-widgets/controls",
          "model_module_version": "1.5.0",
          "model_name": "HTMLModel",
          "state": {
            "_dom_classes": [],
            "_model_module": "@jupyter-widgets/controls",
            "_model_module_version": "1.5.0",
            "_model_name": "HTMLModel",
            "_view_count": null,
            "_view_module": "@jupyter-widgets/controls",
            "_view_module_version": "1.5.0",
            "_view_name": "HTMLView",
            "description": "",
            "description_tooltip": null,
            "layout": "IPY_MODEL_94d5568aa6bb4913a9719abe4923e8ba",
            "placeholder": "​",
            "style": "IPY_MODEL_a0df4d0c058e489bbcb75acacb35f3cd",
            "value": "Downloading (…)lve/main/config.json: 100%"
          }
        },
        "15c21b71944645c4a701b9cfcb356c53": {
          "model_module": "@jupyter-widgets/controls",
          "model_module_version": "1.5.0",
          "model_name": "DescriptionStyleModel",
          "state": {
            "_model_module": "@jupyter-widgets/controls",
            "_model_module_version": "1.5.0",
            "_model_name": "DescriptionStyleModel",
            "_view_count": null,
            "_view_module": "@jupyter-widgets/base",
            "_view_module_version": "1.2.0",
            "_view_name": "StyleView",
            "description_width": ""
          }
        },
        "1d5ce69c4f3e4619a244742e202cb2e7": {
          "model_module": "@jupyter-widgets/controls",
          "model_module_version": "1.5.0",
          "model_name": "DescriptionStyleModel",
          "state": {
            "_model_module": "@jupyter-widgets/controls",
            "_model_module_version": "1.5.0",
            "_model_name": "DescriptionStyleModel",
            "_view_count": null,
            "_view_module": "@jupyter-widgets/base",
            "_view_module_version": "1.2.0",
            "_view_name": "StyleView",
            "description_width": ""
          }
        },
        "1ef24cfb2c1c4d63a850edf4d69738d6": {
          "model_module": "@jupyter-widgets/base",
          "model_module_version": "1.2.0",
          "model_name": "LayoutModel",
          "state": {
            "_model_module": "@jupyter-widgets/base",
            "_model_module_version": "1.2.0",
            "_model_name": "LayoutModel",
            "_view_count": null,
            "_view_module": "@jupyter-widgets/base",
            "_view_module_version": "1.2.0",
            "_view_name": "LayoutView",
            "align_content": null,
            "align_items": null,
            "align_self": null,
            "border": null,
            "bottom": null,
            "display": null,
            "flex": null,
            "flex_flow": null,
            "grid_area": null,
            "grid_auto_columns": null,
            "grid_auto_flow": null,
            "grid_auto_rows": null,
            "grid_column": null,
            "grid_gap": null,
            "grid_row": null,
            "grid_template_areas": null,
            "grid_template_columns": null,
            "grid_template_rows": null,
            "height": null,
            "justify_content": null,
            "justify_items": null,
            "left": null,
            "margin": null,
            "max_height": null,
            "max_width": null,
            "min_height": null,
            "min_width": null,
            "object_fit": null,
            "object_position": null,
            "order": null,
            "overflow": null,
            "overflow_x": null,
            "overflow_y": null,
            "padding": null,
            "right": null,
            "top": null,
            "visibility": null,
            "width": null
          }
        },
        "2287e3862b9247b4a908c730d72998b3": {
          "model_module": "@jupyter-widgets/base",
          "model_module_version": "1.2.0",
          "model_name": "LayoutModel",
          "state": {
            "_model_module": "@jupyter-widgets/base",
            "_model_module_version": "1.2.0",
            "_model_name": "LayoutModel",
            "_view_count": null,
            "_view_module": "@jupyter-widgets/base",
            "_view_module_version": "1.2.0",
            "_view_name": "LayoutView",
            "align_content": null,
            "align_items": null,
            "align_self": null,
            "border": null,
            "bottom": null,
            "display": null,
            "flex": null,
            "flex_flow": null,
            "grid_area": null,
            "grid_auto_columns": null,
            "grid_auto_flow": null,
            "grid_auto_rows": null,
            "grid_column": null,
            "grid_gap": null,
            "grid_row": null,
            "grid_template_areas": null,
            "grid_template_columns": null,
            "grid_template_rows": null,
            "height": null,
            "justify_content": null,
            "justify_items": null,
            "left": null,
            "margin": null,
            "max_height": null,
            "max_width": null,
            "min_height": null,
            "min_width": null,
            "object_fit": null,
            "object_position": null,
            "order": null,
            "overflow": null,
            "overflow_x": null,
            "overflow_y": null,
            "padding": null,
            "right": null,
            "top": null,
            "visibility": null,
            "width": null
          }
        },
        "2cbc91fd584449798beef1b542bf80ac": {
          "model_module": "@jupyter-widgets/controls",
          "model_module_version": "1.5.0",
          "model_name": "ProgressStyleModel",
          "state": {
            "_model_module": "@jupyter-widgets/controls",
            "_model_module_version": "1.5.0",
            "_model_name": "ProgressStyleModel",
            "_view_count": null,
            "_view_module": "@jupyter-widgets/base",
            "_view_module_version": "1.2.0",
            "_view_name": "StyleView",
            "bar_color": null,
            "description_width": ""
          }
        },
        "2f121d0a7ec540c0a8f4ca3285d73cd4": {
          "model_module": "@jupyter-widgets/base",
          "model_module_version": "1.2.0",
          "model_name": "LayoutModel",
          "state": {
            "_model_module": "@jupyter-widgets/base",
            "_model_module_version": "1.2.0",
            "_model_name": "LayoutModel",
            "_view_count": null,
            "_view_module": "@jupyter-widgets/base",
            "_view_module_version": "1.2.0",
            "_view_name": "LayoutView",
            "align_content": null,
            "align_items": null,
            "align_self": null,
            "border": null,
            "bottom": null,
            "display": null,
            "flex": null,
            "flex_flow": null,
            "grid_area": null,
            "grid_auto_columns": null,
            "grid_auto_flow": null,
            "grid_auto_rows": null,
            "grid_column": null,
            "grid_gap": null,
            "grid_row": null,
            "grid_template_areas": null,
            "grid_template_columns": null,
            "grid_template_rows": null,
            "height": null,
            "justify_content": null,
            "justify_items": null,
            "left": null,
            "margin": null,
            "max_height": null,
            "max_width": null,
            "min_height": null,
            "min_width": null,
            "object_fit": null,
            "object_position": null,
            "order": null,
            "overflow": null,
            "overflow_x": null,
            "overflow_y": null,
            "padding": null,
            "right": null,
            "top": null,
            "visibility": null,
            "width": null
          }
        },
        "32afd52536254a2f8d4e89b88b2982e1": {
          "model_module": "@jupyter-widgets/controls",
          "model_module_version": "1.5.0",
          "model_name": "FloatProgressModel",
          "state": {
            "_dom_classes": [],
            "_model_module": "@jupyter-widgets/controls",
            "_model_module_version": "1.5.0",
            "_model_name": "FloatProgressModel",
            "_view_count": null,
            "_view_module": "@jupyter-widgets/controls",
            "_view_module_version": "1.5.0",
            "_view_name": "ProgressView",
            "bar_style": "success",
            "description": "",
            "description_tooltip": null,
            "layout": "IPY_MODEL_9df6886ebc464a2fbe856868f62bbead",
            "max": 21133,
            "min": 0,
            "orientation": "horizontal",
            "style": "IPY_MODEL_f89b4aa9a45e4514afa2a881757264bb",
            "value": 21133
          }
        },
        "38ed601962f54a13bb0a08c5c22c0768": {
          "model_module": "@jupyter-widgets/base",
          "model_module_version": "1.2.0",
          "model_name": "LayoutModel",
          "state": {
            "_model_module": "@jupyter-widgets/base",
            "_model_module_version": "1.2.0",
            "_model_name": "LayoutModel",
            "_view_count": null,
            "_view_module": "@jupyter-widgets/base",
            "_view_module_version": "1.2.0",
            "_view_name": "LayoutView",
            "align_content": null,
            "align_items": null,
            "align_self": null,
            "border": null,
            "bottom": null,
            "display": null,
            "flex": null,
            "flex_flow": null,
            "grid_area": null,
            "grid_auto_columns": null,
            "grid_auto_flow": null,
            "grid_auto_rows": null,
            "grid_column": null,
            "grid_gap": null,
            "grid_row": null,
            "grid_template_areas": null,
            "grid_template_columns": null,
            "grid_template_rows": null,
            "height": null,
            "justify_content": null,
            "justify_items": null,
            "left": null,
            "margin": null,
            "max_height": null,
            "max_width": null,
            "min_height": null,
            "min_width": null,
            "object_fit": null,
            "object_position": null,
            "order": null,
            "overflow": null,
            "overflow_x": null,
            "overflow_y": null,
            "padding": null,
            "right": null,
            "top": null,
            "visibility": null,
            "width": null
          }
        },
        "39a6497b32594ee580687f1bd689484a": {
          "model_module": "@jupyter-widgets/base",
          "model_module_version": "1.2.0",
          "model_name": "LayoutModel",
          "state": {
            "_model_module": "@jupyter-widgets/base",
            "_model_module_version": "1.2.0",
            "_model_name": "LayoutModel",
            "_view_count": null,
            "_view_module": "@jupyter-widgets/base",
            "_view_module_version": "1.2.0",
            "_view_name": "LayoutView",
            "align_content": null,
            "align_items": null,
            "align_self": null,
            "border": null,
            "bottom": null,
            "display": null,
            "flex": null,
            "flex_flow": null,
            "grid_area": null,
            "grid_auto_columns": null,
            "grid_auto_flow": null,
            "grid_auto_rows": null,
            "grid_column": null,
            "grid_gap": null,
            "grid_row": null,
            "grid_template_areas": null,
            "grid_template_columns": null,
            "grid_template_rows": null,
            "height": null,
            "justify_content": null,
            "justify_items": null,
            "left": null,
            "margin": null,
            "max_height": null,
            "max_width": null,
            "min_height": null,
            "min_width": null,
            "object_fit": null,
            "object_position": null,
            "order": null,
            "overflow": null,
            "overflow_x": null,
            "overflow_y": null,
            "padding": null,
            "right": null,
            "top": null,
            "visibility": null,
            "width": null
          }
        },
        "3c6e008234f84580a325e41f857cac0f": {
          "model_module": "@jupyter-widgets/controls",
          "model_module_version": "1.5.0",
          "model_name": "ProgressStyleModel",
          "state": {
            "_model_module": "@jupyter-widgets/controls",
            "_model_module_version": "1.5.0",
            "_model_name": "ProgressStyleModel",
            "_view_count": null,
            "_view_module": "@jupyter-widgets/base",
            "_view_module_version": "1.2.0",
            "_view_name": "StyleView",
            "bar_color": null,
            "description_width": ""
          }
        },
        "3ce1dff9ae1d4f40950582356e384388": {
          "model_module": "@jupyter-widgets/controls",
          "model_module_version": "1.5.0",
          "model_name": "HTMLModel",
          "state": {
            "_dom_classes": [],
            "_model_module": "@jupyter-widgets/controls",
            "_model_module_version": "1.5.0",
            "_model_name": "HTMLModel",
            "_view_count": null,
            "_view_module": "@jupyter-widgets/controls",
            "_view_module_version": "1.5.0",
            "_view_name": "HTMLView",
            "description": "",
            "description_tooltip": null,
            "layout": "IPY_MODEL_db472e03fcdb4257812b12c6685d36bb",
            "placeholder": "​",
            "style": "IPY_MODEL_15c21b71944645c4a701b9cfcb356c53",
            "value": "Downloading pytorch_model.bin: 100%"
          }
        },
        "3e867fa160034601ac4f78b646bbc458": {
          "model_module": "@jupyter-widgets/controls",
          "model_module_version": "1.5.0",
          "model_name": "FloatProgressModel",
          "state": {
            "_dom_classes": [],
            "_model_module": "@jupyter-widgets/controls",
            "_model_module_version": "1.5.0",
            "_model_name": "FloatProgressModel",
            "_view_count": null,
            "_view_module": "@jupyter-widgets/controls",
            "_view_module_version": "1.5.0",
            "_view_name": "ProgressView",
            "bar_style": "success",
            "description": "",
            "description_tooltip": null,
            "layout": "IPY_MODEL_5c10618547c641d5a5928887e7e80b2f",
            "max": 439279,
            "min": 0,
            "orientation": "horizontal",
            "style": "IPY_MODEL_ac4e9ce289a64fc3aa6ef4ddfdc16a61",
            "value": 439279
          }
        },
        "4021c77f0fed44ab93621ab4c57a7a93": {
          "model_module": "@jupyter-widgets/controls",
          "model_module_version": "1.5.0",
          "model_name": "HBoxModel",
          "state": {
            "_dom_classes": [],
            "_model_module": "@jupyter-widgets/controls",
            "_model_module_version": "1.5.0",
            "_model_name": "HBoxModel",
            "_view_count": null,
            "_view_module": "@jupyter-widgets/controls",
            "_view_module_version": "1.5.0",
            "_view_name": "HBoxView",
            "box_style": "",
            "children": [
              "IPY_MODEL_aabbcb14d0ce4ba8bb841f32ae2aaa16",
              "IPY_MODEL_740357a6a20e4706b87b037e9052a076",
              "IPY_MODEL_a3b45c901b514c4d9ddccebdd44d638f"
            ],
            "layout": "IPY_MODEL_b052b3bc2b784c0094b16f13d71978ba"
          }
        },
        "443b55898d724b4abff1dbb7c7ab08d3": {
          "model_module": "@jupyter-widgets/base",
          "model_module_version": "1.2.0",
          "model_name": "LayoutModel",
          "state": {
            "_model_module": "@jupyter-widgets/base",
            "_model_module_version": "1.2.0",
            "_model_name": "LayoutModel",
            "_view_count": null,
            "_view_module": "@jupyter-widgets/base",
            "_view_module_version": "1.2.0",
            "_view_name": "LayoutView",
            "align_content": null,
            "align_items": null,
            "align_self": null,
            "border": null,
            "bottom": null,
            "display": null,
            "flex": null,
            "flex_flow": null,
            "grid_area": null,
            "grid_auto_columns": null,
            "grid_auto_flow": null,
            "grid_auto_rows": null,
            "grid_column": null,
            "grid_gap": null,
            "grid_row": null,
            "grid_template_areas": null,
            "grid_template_columns": null,
            "grid_template_rows": null,
            "height": null,
            "justify_content": null,
            "justify_items": null,
            "left": null,
            "margin": null,
            "max_height": null,
            "max_width": null,
            "min_height": null,
            "min_width": null,
            "object_fit": null,
            "object_position": null,
            "order": null,
            "overflow": null,
            "overflow_x": null,
            "overflow_y": null,
            "padding": null,
            "right": null,
            "top": null,
            "visibility": null,
            "width": null
          }
        },
        "45be7215944e46979e7409cccb6188ea": {
          "model_module": "@jupyter-widgets/controls",
          "model_module_version": "1.5.0",
          "model_name": "FloatProgressModel",
          "state": {
            "_dom_classes": [],
            "_model_module": "@jupyter-widgets/controls",
            "_model_module_version": "1.5.0",
            "_model_name": "FloatProgressModel",
            "_view_count": null,
            "_view_module": "@jupyter-widgets/controls",
            "_view_module_version": "1.5.0",
            "_view_name": "ProgressView",
            "bar_style": "success",
            "description": "",
            "description_tooltip": null,
            "layout": "IPY_MODEL_14a75f0ea3a54ca8b9ac3b0d139d239a",
            "max": 413868149,
            "min": 0,
            "orientation": "horizontal",
            "style": "IPY_MODEL_2cbc91fd584449798beef1b542bf80ac",
            "value": 413868149
          }
        },
        "4e0e65cd2567419282f1324a09e51a80": {
          "model_module": "@jupyter-widgets/controls",
          "model_module_version": "1.5.0",
          "model_name": "HBoxModel",
          "state": {
            "_dom_classes": [],
            "_model_module": "@jupyter-widgets/controls",
            "_model_module_version": "1.5.0",
            "_model_name": "HBoxModel",
            "_view_count": null,
            "_view_module": "@jupyter-widgets/controls",
            "_view_module_version": "1.5.0",
            "_view_name": "HBoxView",
            "box_style": "",
            "children": [
              "IPY_MODEL_af67023cb0524b2eb1ecb23f6a280d53",
              "IPY_MODEL_3e867fa160034601ac4f78b646bbc458",
              "IPY_MODEL_e05ebbd29da148cd81ca159fa0c9568d"
            ],
            "layout": "IPY_MODEL_1ef24cfb2c1c4d63a850edf4d69738d6"
          }
        },
        "51077c2175724679b149af93cbe9e93c": {
          "model_module": "@jupyter-widgets/controls",
          "model_module_version": "1.5.0",
          "model_name": "HBoxModel",
          "state": {
            "_dom_classes": [],
            "_model_module": "@jupyter-widgets/controls",
            "_model_module_version": "1.5.0",
            "_model_name": "HBoxModel",
            "_view_count": null,
            "_view_module": "@jupyter-widgets/controls",
            "_view_module_version": "1.5.0",
            "_view_name": "HBoxView",
            "box_style": "",
            "children": [
              "IPY_MODEL_bccaa992a91447c6af8704512248f64f",
              "IPY_MODEL_02f265aa09a24f8c8384adf889d41138",
              "IPY_MODEL_f0ce46112caf4b329a484fb9e83aad8d"
            ],
            "layout": "IPY_MODEL_eda59c65e0b04e6ea17b953db1d50f5f"
          }
        },
        "53fb1682ee264bb896dd019a862052bd": {
          "model_module": "@jupyter-widgets/controls",
          "model_module_version": "1.5.0",
          "model_name": "DescriptionStyleModel",
          "state": {
            "_model_module": "@jupyter-widgets/controls",
            "_model_module_version": "1.5.0",
            "_model_name": "DescriptionStyleModel",
            "_view_count": null,
            "_view_module": "@jupyter-widgets/base",
            "_view_module_version": "1.2.0",
            "_view_name": "StyleView",
            "description_width": ""
          }
        },
        "5679dd4cb9f748f195f2e2ed3db5dd87": {
          "model_module": "@jupyter-widgets/controls",
          "model_module_version": "1.5.0",
          "model_name": "HBoxModel",
          "state": {
            "_dom_classes": [],
            "_model_module": "@jupyter-widgets/controls",
            "_model_module_version": "1.5.0",
            "_model_name": "HBoxModel",
            "_view_count": null,
            "_view_module": "@jupyter-widgets/controls",
            "_view_module_version": "1.5.0",
            "_view_name": "HBoxView",
            "box_style": "",
            "children": [
              "IPY_MODEL_e2719e0ef84e493282f2c9c54774ef91",
              "IPY_MODEL_32afd52536254a2f8d4e89b88b2982e1",
              "IPY_MODEL_ef7beae0df0345d3b41a49a7160c8838"
            ],
            "layout": "IPY_MODEL_82c488709b2e424c9d467e7c8780754e"
          }
        },
        "5c10618547c641d5a5928887e7e80b2f": {
          "model_module": "@jupyter-widgets/base",
          "model_module_version": "1.2.0",
          "model_name": "LayoutModel",
          "state": {
            "_model_module": "@jupyter-widgets/base",
            "_model_module_version": "1.2.0",
            "_model_name": "LayoutModel",
            "_view_count": null,
            "_view_module": "@jupyter-widgets/base",
            "_view_module_version": "1.2.0",
            "_view_name": "LayoutView",
            "align_content": null,
            "align_items": null,
            "align_self": null,
            "border": null,
            "bottom": null,
            "display": null,
            "flex": null,
            "flex_flow": null,
            "grid_area": null,
            "grid_auto_columns": null,
            "grid_auto_flow": null,
            "grid_auto_rows": null,
            "grid_column": null,
            "grid_gap": null,
            "grid_row": null,
            "grid_template_areas": null,
            "grid_template_columns": null,
            "grid_template_rows": null,
            "height": null,
            "justify_content": null,
            "justify_items": null,
            "left": null,
            "margin": null,
            "max_height": null,
            "max_width": null,
            "min_height": null,
            "min_width": null,
            "object_fit": null,
            "object_position": null,
            "order": null,
            "overflow": null,
            "overflow_x": null,
            "overflow_y": null,
            "padding": null,
            "right": null,
            "top": null,
            "visibility": null,
            "width": null
          }
        },
        "61b8fd6bd8584d0db655a48256b1f3ff": {
          "model_module": "@jupyter-widgets/controls",
          "model_module_version": "1.5.0",
          "model_name": "DescriptionStyleModel",
          "state": {
            "_model_module": "@jupyter-widgets/controls",
            "_model_module_version": "1.5.0",
            "_model_name": "DescriptionStyleModel",
            "_view_count": null,
            "_view_module": "@jupyter-widgets/base",
            "_view_module_version": "1.2.0",
            "_view_name": "StyleView",
            "description_width": ""
          }
        },
        "73d1e3318b564a18a8aba8b4237e31a5": {
          "model_module": "@jupyter-widgets/controls",
          "model_module_version": "1.5.0",
          "model_name": "HTMLModel",
          "state": {
            "_dom_classes": [],
            "_model_module": "@jupyter-widgets/controls",
            "_model_module_version": "1.5.0",
            "_model_name": "HTMLModel",
            "_view_count": null,
            "_view_module": "@jupyter-widgets/controls",
            "_view_module_version": "1.5.0",
            "_view_name": "HTMLView",
            "description": "",
            "description_tooltip": null,
            "layout": "IPY_MODEL_2f121d0a7ec540c0a8f4ca3285d73cd4",
            "placeholder": "​",
            "style": "IPY_MODEL_61b8fd6bd8584d0db655a48256b1f3ff",
            "value": "Downloading (…)cial_tokens_map.json: 100%"
          }
        },
        "740357a6a20e4706b87b037e9052a076": {
          "model_module": "@jupyter-widgets/controls",
          "model_module_version": "1.5.0",
          "model_name": "FloatProgressModel",
          "state": {
            "_dom_classes": [],
            "_model_module": "@jupyter-widgets/controls",
            "_model_module_version": "1.5.0",
            "_model_name": "FloatProgressModel",
            "_view_count": null,
            "_view_module": "@jupyter-widgets/controls",
            "_view_module_version": "1.5.0",
            "_view_name": "ProgressView",
            "bar_style": "success",
            "description": "",
            "description_tooltip": null,
            "layout": "IPY_MODEL_39a6497b32594ee580687f1bd689484a",
            "max": 539,
            "min": 0,
            "orientation": "horizontal",
            "style": "IPY_MODEL_3c6e008234f84580a325e41f857cac0f",
            "value": 539
          }
        },
        "76678f487d8d47fda0e707c29ba27eee": {
          "model_module": "@jupyter-widgets/controls",
          "model_module_version": "1.5.0",
          "model_name": "HBoxModel",
          "state": {
            "_dom_classes": [],
            "_model_module": "@jupyter-widgets/controls",
            "_model_module_version": "1.5.0",
            "_model_name": "HBoxModel",
            "_view_count": null,
            "_view_module": "@jupyter-widgets/controls",
            "_view_module_version": "1.5.0",
            "_view_name": "HBoxView",
            "box_style": "",
            "children": [
              "IPY_MODEL_73d1e3318b564a18a8aba8b4237e31a5",
              "IPY_MODEL_fe64b74c338e41068ad8c6cda84f8e1d",
              "IPY_MODEL_845ccb16eae84e4e98234434cb52f93c"
            ],
            "layout": "IPY_MODEL_e25b5537decd4054a276ee352b78ca63"
          }
        },
        "7c358703720045168500f0de8c2de9b1": {
          "model_module": "@jupyter-widgets/controls",
          "model_module_version": "1.5.0",
          "model_name": "DescriptionStyleModel",
          "state": {
            "_model_module": "@jupyter-widgets/controls",
            "_model_module_version": "1.5.0",
            "_model_name": "DescriptionStyleModel",
            "_view_count": null,
            "_view_module": "@jupyter-widgets/base",
            "_view_module_version": "1.2.0",
            "_view_name": "StyleView",
            "description_width": ""
          }
        },
        "7e88c69fc3714eadba25fd85085199a1": {
          "model_module": "@jupyter-widgets/base",
          "model_module_version": "1.2.0",
          "model_name": "LayoutModel",
          "state": {
            "_model_module": "@jupyter-widgets/base",
            "_model_module_version": "1.2.0",
            "_model_name": "LayoutModel",
            "_view_count": null,
            "_view_module": "@jupyter-widgets/base",
            "_view_module_version": "1.2.0",
            "_view_name": "LayoutView",
            "align_content": null,
            "align_items": null,
            "align_self": null,
            "border": null,
            "bottom": null,
            "display": null,
            "flex": null,
            "flex_flow": null,
            "grid_area": null,
            "grid_auto_columns": null,
            "grid_auto_flow": null,
            "grid_auto_rows": null,
            "grid_column": null,
            "grid_gap": null,
            "grid_row": null,
            "grid_template_areas": null,
            "grid_template_columns": null,
            "grid_template_rows": null,
            "height": null,
            "justify_content": null,
            "justify_items": null,
            "left": null,
            "margin": null,
            "max_height": null,
            "max_width": null,
            "min_height": null,
            "min_width": null,
            "object_fit": null,
            "object_position": null,
            "order": null,
            "overflow": null,
            "overflow_x": null,
            "overflow_y": null,
            "padding": null,
            "right": null,
            "top": null,
            "visibility": null,
            "width": null
          }
        },
        "82c488709b2e424c9d467e7c8780754e": {
          "model_module": "@jupyter-widgets/base",
          "model_module_version": "1.2.0",
          "model_name": "LayoutModel",
          "state": {
            "_model_module": "@jupyter-widgets/base",
            "_model_module_version": "1.2.0",
            "_model_name": "LayoutModel",
            "_view_count": null,
            "_view_module": "@jupyter-widgets/base",
            "_view_module_version": "1.2.0",
            "_view_name": "LayoutView",
            "align_content": null,
            "align_items": null,
            "align_self": null,
            "border": null,
            "bottom": null,
            "display": null,
            "flex": null,
            "flex_flow": null,
            "grid_area": null,
            "grid_auto_columns": null,
            "grid_auto_flow": null,
            "grid_auto_rows": null,
            "grid_column": null,
            "grid_gap": null,
            "grid_row": null,
            "grid_template_areas": null,
            "grid_template_columns": null,
            "grid_template_rows": null,
            "height": null,
            "justify_content": null,
            "justify_items": null,
            "left": null,
            "margin": null,
            "max_height": null,
            "max_width": null,
            "min_height": null,
            "min_width": null,
            "object_fit": null,
            "object_position": null,
            "order": null,
            "overflow": null,
            "overflow_x": null,
            "overflow_y": null,
            "padding": null,
            "right": null,
            "top": null,
            "visibility": null,
            "width": null
          }
        },
        "845ccb16eae84e4e98234434cb52f93c": {
          "model_module": "@jupyter-widgets/controls",
          "model_module_version": "1.5.0",
          "model_name": "HTMLModel",
          "state": {
            "_dom_classes": [],
            "_model_module": "@jupyter-widgets/controls",
            "_model_module_version": "1.5.0",
            "_model_name": "HTMLModel",
            "_view_count": null,
            "_view_module": "@jupyter-widgets/controls",
            "_view_module_version": "1.5.0",
            "_view_name": "HTMLView",
            "description": "",
            "description_tooltip": null,
            "layout": "IPY_MODEL_38ed601962f54a13bb0a08c5c22c0768",
            "placeholder": "​",
            "style": "IPY_MODEL_0e4700aff9f44ff1a93bca9b344a8a85",
            "value": " 125/125 [00:00&lt;00:00, 3.02kB/s]"
          }
        },
        "8813fe628dc44efd99b22ac5a2d37e46": {
          "model_module": "@jupyter-widgets/base",
          "model_module_version": "1.2.0",
          "model_name": "LayoutModel",
          "state": {
            "_model_module": "@jupyter-widgets/base",
            "_model_module_version": "1.2.0",
            "_model_name": "LayoutModel",
            "_view_count": null,
            "_view_module": "@jupyter-widgets/base",
            "_view_module_version": "1.2.0",
            "_view_name": "LayoutView",
            "align_content": null,
            "align_items": null,
            "align_self": null,
            "border": null,
            "bottom": null,
            "display": null,
            "flex": null,
            "flex_flow": null,
            "grid_area": null,
            "grid_auto_columns": null,
            "grid_auto_flow": null,
            "grid_auto_rows": null,
            "grid_column": null,
            "grid_gap": null,
            "grid_row": null,
            "grid_template_areas": null,
            "grid_template_columns": null,
            "grid_template_rows": null,
            "height": null,
            "justify_content": null,
            "justify_items": null,
            "left": null,
            "margin": null,
            "max_height": null,
            "max_width": null,
            "min_height": null,
            "min_width": null,
            "object_fit": null,
            "object_position": null,
            "order": null,
            "overflow": null,
            "overflow_x": null,
            "overflow_y": null,
            "padding": null,
            "right": null,
            "top": null,
            "visibility": null,
            "width": null
          }
        },
        "8d794514645f47b3a6b78b3f3eddaeaa": {
          "model_module": "@jupyter-widgets/base",
          "model_module_version": "1.2.0",
          "model_name": "LayoutModel",
          "state": {
            "_model_module": "@jupyter-widgets/base",
            "_model_module_version": "1.2.0",
            "_model_name": "LayoutModel",
            "_view_count": null,
            "_view_module": "@jupyter-widgets/base",
            "_view_module_version": "1.2.0",
            "_view_name": "LayoutView",
            "align_content": null,
            "align_items": null,
            "align_self": null,
            "border": null,
            "bottom": null,
            "display": null,
            "flex": null,
            "flex_flow": null,
            "grid_area": null,
            "grid_auto_columns": null,
            "grid_auto_flow": null,
            "grid_auto_rows": null,
            "grid_column": null,
            "grid_gap": null,
            "grid_row": null,
            "grid_template_areas": null,
            "grid_template_columns": null,
            "grid_template_rows": null,
            "height": null,
            "justify_content": null,
            "justify_items": null,
            "left": null,
            "margin": null,
            "max_height": null,
            "max_width": null,
            "min_height": null,
            "min_width": null,
            "object_fit": null,
            "object_position": null,
            "order": null,
            "overflow": null,
            "overflow_x": null,
            "overflow_y": null,
            "padding": null,
            "right": null,
            "top": null,
            "visibility": null,
            "width": null
          }
        },
        "8f011bc384d14d3183aa254cbb7ce119": {
          "model_module": "@jupyter-widgets/controls",
          "model_module_version": "1.5.0",
          "model_name": "DescriptionStyleModel",
          "state": {
            "_model_module": "@jupyter-widgets/controls",
            "_model_module_version": "1.5.0",
            "_model_name": "DescriptionStyleModel",
            "_view_count": null,
            "_view_module": "@jupyter-widgets/base",
            "_view_module_version": "1.2.0",
            "_view_name": "StyleView",
            "description_width": ""
          }
        },
        "923317fe14d040b985583ce1dc8c5ca4": {
          "model_module": "@jupyter-widgets/controls",
          "model_module_version": "1.5.0",
          "model_name": "ProgressStyleModel",
          "state": {
            "_model_module": "@jupyter-widgets/controls",
            "_model_module_version": "1.5.0",
            "_model_name": "ProgressStyleModel",
            "_view_count": null,
            "_view_module": "@jupyter-widgets/base",
            "_view_module_version": "1.2.0",
            "_view_name": "StyleView",
            "bar_color": null,
            "description_width": ""
          }
        },
        "92946b053f5d4951a748c5294b97428b": {
          "model_module": "@jupyter-widgets/controls",
          "model_module_version": "1.5.0",
          "model_name": "HTMLModel",
          "state": {
            "_dom_classes": [],
            "_model_module": "@jupyter-widgets/controls",
            "_model_module_version": "1.5.0",
            "_model_name": "HTMLModel",
            "_view_count": null,
            "_view_module": "@jupyter-widgets/controls",
            "_view_module_version": "1.5.0",
            "_view_name": "HTMLView",
            "description": "",
            "description_tooltip": null,
            "layout": "IPY_MODEL_00102182cffc4f0e90bf92276dc272e4",
            "placeholder": "​",
            "style": "IPY_MODEL_53fb1682ee264bb896dd019a862052bd",
            "value": " 414M/414M [00:03&lt;00:00, 103MB/s]"
          }
        },
        "93135e6b84a341eeafaaa14382521e64": {
          "model_module": "@jupyter-widgets/controls",
          "model_module_version": "1.5.0",
          "model_name": "ProgressStyleModel",
          "state": {
            "_model_module": "@jupyter-widgets/controls",
            "_model_module_version": "1.5.0",
            "_model_name": "ProgressStyleModel",
            "_view_count": null,
            "_view_module": "@jupyter-widgets/base",
            "_view_module_version": "1.2.0",
            "_view_name": "StyleView",
            "bar_color": null,
            "description_width": ""
          }
        },
        "93fe9ba1c54b4f298ca4491f2bab4093": {
          "model_module": "@jupyter-widgets/base",
          "model_module_version": "1.2.0",
          "model_name": "LayoutModel",
          "state": {
            "_model_module": "@jupyter-widgets/base",
            "_model_module_version": "1.2.0",
            "_model_name": "LayoutModel",
            "_view_count": null,
            "_view_module": "@jupyter-widgets/base",
            "_view_module_version": "1.2.0",
            "_view_name": "LayoutView",
            "align_content": null,
            "align_items": null,
            "align_self": null,
            "border": null,
            "bottom": null,
            "display": null,
            "flex": null,
            "flex_flow": null,
            "grid_area": null,
            "grid_auto_columns": null,
            "grid_auto_flow": null,
            "grid_auto_rows": null,
            "grid_column": null,
            "grid_gap": null,
            "grid_row": null,
            "grid_template_areas": null,
            "grid_template_columns": null,
            "grid_template_rows": null,
            "height": null,
            "justify_content": null,
            "justify_items": null,
            "left": null,
            "margin": null,
            "max_height": null,
            "max_width": null,
            "min_height": null,
            "min_width": null,
            "object_fit": null,
            "object_position": null,
            "order": null,
            "overflow": null,
            "overflow_x": null,
            "overflow_y": null,
            "padding": null,
            "right": null,
            "top": null,
            "visibility": null,
            "width": null
          }
        },
        "94d5568aa6bb4913a9719abe4923e8ba": {
          "model_module": "@jupyter-widgets/base",
          "model_module_version": "1.2.0",
          "model_name": "LayoutModel",
          "state": {
            "_model_module": "@jupyter-widgets/base",
            "_model_module_version": "1.2.0",
            "_model_name": "LayoutModel",
            "_view_count": null,
            "_view_module": "@jupyter-widgets/base",
            "_view_module_version": "1.2.0",
            "_view_name": "LayoutView",
            "align_content": null,
            "align_items": null,
            "align_self": null,
            "border": null,
            "bottom": null,
            "display": null,
            "flex": null,
            "flex_flow": null,
            "grid_area": null,
            "grid_auto_columns": null,
            "grid_auto_flow": null,
            "grid_auto_rows": null,
            "grid_column": null,
            "grid_gap": null,
            "grid_row": null,
            "grid_template_areas": null,
            "grid_template_columns": null,
            "grid_template_rows": null,
            "height": null,
            "justify_content": null,
            "justify_items": null,
            "left": null,
            "margin": null,
            "max_height": null,
            "max_width": null,
            "min_height": null,
            "min_width": null,
            "object_fit": null,
            "object_position": null,
            "order": null,
            "overflow": null,
            "overflow_x": null,
            "overflow_y": null,
            "padding": null,
            "right": null,
            "top": null,
            "visibility": null,
            "width": null
          }
        },
        "9544af26fc33486da491b6dd9bb7f489": {
          "model_module": "@jupyter-widgets/controls",
          "model_module_version": "1.5.0",
          "model_name": "FloatProgressModel",
          "state": {
            "_dom_classes": [],
            "_model_module": "@jupyter-widgets/controls",
            "_model_module_version": "1.5.0",
            "_model_name": "FloatProgressModel",
            "_view_count": null,
            "_view_module": "@jupyter-widgets/controls",
            "_view_module_version": "1.5.0",
            "_view_name": "ProgressView",
            "bar_style": "success",
            "description": "",
            "description_tooltip": null,
            "layout": "IPY_MODEL_a181e4df6a9a4ee8b7418c10cc2fcdc6",
            "max": 966,
            "min": 0,
            "orientation": "horizontal",
            "style": "IPY_MODEL_00ccc849f0c84dbc8f372f7858ad8150",
            "value": 966
          }
        },
        "981fe5658e2b452d9f30d7b8ec4bb93c": {
          "model_module": "@jupyter-widgets/controls",
          "model_module_version": "1.5.0",
          "model_name": "HBoxModel",
          "state": {
            "_dom_classes": [],
            "_model_module": "@jupyter-widgets/controls",
            "_model_module_version": "1.5.0",
            "_model_name": "HBoxModel",
            "_view_count": null,
            "_view_module": "@jupyter-widgets/controls",
            "_view_module_version": "1.5.0",
            "_view_name": "HBoxView",
            "box_style": "",
            "children": [
              "IPY_MODEL_3ce1dff9ae1d4f40950582356e384388",
              "IPY_MODEL_45be7215944e46979e7409cccb6188ea",
              "IPY_MODEL_92946b053f5d4951a748c5294b97428b"
            ],
            "layout": "IPY_MODEL_a5ff064d06d14b3994ca47879d59700e"
          }
        },
        "9df6886ebc464a2fbe856868f62bbead": {
          "model_module": "@jupyter-widgets/base",
          "model_module_version": "1.2.0",
          "model_name": "LayoutModel",
          "state": {
            "_model_module": "@jupyter-widgets/base",
            "_model_module_version": "1.2.0",
            "_model_name": "LayoutModel",
            "_view_count": null,
            "_view_module": "@jupyter-widgets/base",
            "_view_module_version": "1.2.0",
            "_view_name": "LayoutView",
            "align_content": null,
            "align_items": null,
            "align_self": null,
            "border": null,
            "bottom": null,
            "display": null,
            "flex": null,
            "flex_flow": null,
            "grid_area": null,
            "grid_auto_columns": null,
            "grid_auto_flow": null,
            "grid_auto_rows": null,
            "grid_column": null,
            "grid_gap": null,
            "grid_row": null,
            "grid_template_areas": null,
            "grid_template_columns": null,
            "grid_template_rows": null,
            "height": null,
            "justify_content": null,
            "justify_items": null,
            "left": null,
            "margin": null,
            "max_height": null,
            "max_width": null,
            "min_height": null,
            "min_width": null,
            "object_fit": null,
            "object_position": null,
            "order": null,
            "overflow": null,
            "overflow_x": null,
            "overflow_y": null,
            "padding": null,
            "right": null,
            "top": null,
            "visibility": null,
            "width": null
          }
        },
        "a0df4d0c058e489bbcb75acacb35f3cd": {
          "model_module": "@jupyter-widgets/controls",
          "model_module_version": "1.5.0",
          "model_name": "DescriptionStyleModel",
          "state": {
            "_model_module": "@jupyter-widgets/controls",
            "_model_module_version": "1.5.0",
            "_model_name": "DescriptionStyleModel",
            "_view_count": null,
            "_view_module": "@jupyter-widgets/base",
            "_view_module_version": "1.2.0",
            "_view_name": "StyleView",
            "description_width": ""
          }
        },
        "a181e4df6a9a4ee8b7418c10cc2fcdc6": {
          "model_module": "@jupyter-widgets/base",
          "model_module_version": "1.2.0",
          "model_name": "LayoutModel",
          "state": {
            "_model_module": "@jupyter-widgets/base",
            "_model_module_version": "1.2.0",
            "_model_name": "LayoutModel",
            "_view_count": null,
            "_view_module": "@jupyter-widgets/base",
            "_view_module_version": "1.2.0",
            "_view_name": "LayoutView",
            "align_content": null,
            "align_items": null,
            "align_self": null,
            "border": null,
            "bottom": null,
            "display": null,
            "flex": null,
            "flex_flow": null,
            "grid_area": null,
            "grid_auto_columns": null,
            "grid_auto_flow": null,
            "grid_auto_rows": null,
            "grid_column": null,
            "grid_gap": null,
            "grid_row": null,
            "grid_template_areas": null,
            "grid_template_columns": null,
            "grid_template_rows": null,
            "height": null,
            "justify_content": null,
            "justify_items": null,
            "left": null,
            "margin": null,
            "max_height": null,
            "max_width": null,
            "min_height": null,
            "min_width": null,
            "object_fit": null,
            "object_position": null,
            "order": null,
            "overflow": null,
            "overflow_x": null,
            "overflow_y": null,
            "padding": null,
            "right": null,
            "top": null,
            "visibility": null,
            "width": null
          }
        },
        "a3b45c901b514c4d9ddccebdd44d638f": {
          "model_module": "@jupyter-widgets/controls",
          "model_module_version": "1.5.0",
          "model_name": "HTMLModel",
          "state": {
            "_dom_classes": [],
            "_model_module": "@jupyter-widgets/controls",
            "_model_module_version": "1.5.0",
            "_model_name": "HTMLModel",
            "_view_count": null,
            "_view_module": "@jupyter-widgets/controls",
            "_view_module_version": "1.5.0",
            "_view_name": "HTMLView",
            "description": "",
            "description_tooltip": null,
            "layout": "IPY_MODEL_d95bee7c4a3541f3884c8c29b305996b",
            "placeholder": "​",
            "style": "IPY_MODEL_c7daeabe2d484281b7dbd75cab788c79",
            "value": " 539/539 [00:00&lt;00:00, 9.43kB/s]"
          }
        },
        "a5ff064d06d14b3994ca47879d59700e": {
          "model_module": "@jupyter-widgets/base",
          "model_module_version": "1.2.0",
          "model_name": "LayoutModel",
          "state": {
            "_model_module": "@jupyter-widgets/base",
            "_model_module_version": "1.2.0",
            "_model_name": "LayoutModel",
            "_view_count": null,
            "_view_module": "@jupyter-widgets/base",
            "_view_module_version": "1.2.0",
            "_view_name": "LayoutView",
            "align_content": null,
            "align_items": null,
            "align_self": null,
            "border": null,
            "bottom": null,
            "display": null,
            "flex": null,
            "flex_flow": null,
            "grid_area": null,
            "grid_auto_columns": null,
            "grid_auto_flow": null,
            "grid_auto_rows": null,
            "grid_column": null,
            "grid_gap": null,
            "grid_row": null,
            "grid_template_areas": null,
            "grid_template_columns": null,
            "grid_template_rows": null,
            "height": null,
            "justify_content": null,
            "justify_items": null,
            "left": null,
            "margin": null,
            "max_height": null,
            "max_width": null,
            "min_height": null,
            "min_width": null,
            "object_fit": null,
            "object_position": null,
            "order": null,
            "overflow": null,
            "overflow_x": null,
            "overflow_y": null,
            "padding": null,
            "right": null,
            "top": null,
            "visibility": null,
            "width": null
          }
        },
        "a8a8fcbaf72a459ab3e7875e57463e7f": {
          "model_module": "@jupyter-widgets/base",
          "model_module_version": "1.2.0",
          "model_name": "LayoutModel",
          "state": {
            "_model_module": "@jupyter-widgets/base",
            "_model_module_version": "1.2.0",
            "_model_name": "LayoutModel",
            "_view_count": null,
            "_view_module": "@jupyter-widgets/base",
            "_view_module_version": "1.2.0",
            "_view_name": "LayoutView",
            "align_content": null,
            "align_items": null,
            "align_self": null,
            "border": null,
            "bottom": null,
            "display": null,
            "flex": null,
            "flex_flow": null,
            "grid_area": null,
            "grid_auto_columns": null,
            "grid_auto_flow": null,
            "grid_auto_rows": null,
            "grid_column": null,
            "grid_gap": null,
            "grid_row": null,
            "grid_template_areas": null,
            "grid_template_columns": null,
            "grid_template_rows": null,
            "height": null,
            "justify_content": null,
            "justify_items": null,
            "left": null,
            "margin": null,
            "max_height": null,
            "max_width": null,
            "min_height": null,
            "min_width": null,
            "object_fit": null,
            "object_position": null,
            "order": null,
            "overflow": null,
            "overflow_x": null,
            "overflow_y": null,
            "padding": null,
            "right": null,
            "top": null,
            "visibility": null,
            "width": null
          }
        },
        "aabbcb14d0ce4ba8bb841f32ae2aaa16": {
          "model_module": "@jupyter-widgets/controls",
          "model_module_version": "1.5.0",
          "model_name": "HTMLModel",
          "state": {
            "_dom_classes": [],
            "_model_module": "@jupyter-widgets/controls",
            "_model_module_version": "1.5.0",
            "_model_name": "HTMLModel",
            "_view_count": null,
            "_view_module": "@jupyter-widgets/controls",
            "_view_module_version": "1.5.0",
            "_view_name": "HTMLView",
            "description": "",
            "description_tooltip": null,
            "layout": "IPY_MODEL_93fe9ba1c54b4f298ca4491f2bab4093",
            "placeholder": "​",
            "style": "IPY_MODEL_8f011bc384d14d3183aa254cbb7ce119",
            "value": "Downloading (…)okenizer_config.json: 100%"
          }
        },
        "ac4e9ce289a64fc3aa6ef4ddfdc16a61": {
          "model_module": "@jupyter-widgets/controls",
          "model_module_version": "1.5.0",
          "model_name": "ProgressStyleModel",
          "state": {
            "_model_module": "@jupyter-widgets/controls",
            "_model_module_version": "1.5.0",
            "_model_name": "ProgressStyleModel",
            "_view_count": null,
            "_view_module": "@jupyter-widgets/base",
            "_view_module_version": "1.2.0",
            "_view_name": "StyleView",
            "bar_color": null,
            "description_width": ""
          }
        },
        "af67023cb0524b2eb1ecb23f6a280d53": {
          "model_module": "@jupyter-widgets/controls",
          "model_module_version": "1.5.0",
          "model_name": "HTMLModel",
          "state": {
            "_dom_classes": [],
            "_model_module": "@jupyter-widgets/controls",
            "_model_module_version": "1.5.0",
            "_model_name": "HTMLModel",
            "_view_count": null,
            "_view_module": "@jupyter-widgets/controls",
            "_view_module_version": "1.5.0",
            "_view_name": "HTMLView",
            "description": "",
            "description_tooltip": null,
            "layout": "IPY_MODEL_443b55898d724b4abff1dbb7c7ab08d3",
            "placeholder": "​",
            "style": "IPY_MODEL_0a5450529ad5481ebf756bc90fcc9e16",
            "value": "Downloading (…)/main/tokenizer.json: 100%"
          }
        },
        "af6c0621701f45ceb0015f5c84a079ac": {
          "model_module": "@jupyter-widgets/base",
          "model_module_version": "1.2.0",
          "model_name": "LayoutModel",
          "state": {
            "_model_module": "@jupyter-widgets/base",
            "_model_module_version": "1.2.0",
            "_model_name": "LayoutModel",
            "_view_count": null,
            "_view_module": "@jupyter-widgets/base",
            "_view_module_version": "1.2.0",
            "_view_name": "LayoutView",
            "align_content": null,
            "align_items": null,
            "align_self": null,
            "border": null,
            "bottom": null,
            "display": null,
            "flex": null,
            "flex_flow": null,
            "grid_area": null,
            "grid_auto_columns": null,
            "grid_auto_flow": null,
            "grid_auto_rows": null,
            "grid_column": null,
            "grid_gap": null,
            "grid_row": null,
            "grid_template_areas": null,
            "grid_template_columns": null,
            "grid_template_rows": null,
            "height": null,
            "justify_content": null,
            "justify_items": null,
            "left": null,
            "margin": null,
            "max_height": null,
            "max_width": null,
            "min_height": null,
            "min_width": null,
            "object_fit": null,
            "object_position": null,
            "order": null,
            "overflow": null,
            "overflow_x": null,
            "overflow_y": null,
            "padding": null,
            "right": null,
            "top": null,
            "visibility": null,
            "width": null
          }
        },
        "b052b3bc2b784c0094b16f13d71978ba": {
          "model_module": "@jupyter-widgets/base",
          "model_module_version": "1.2.0",
          "model_name": "LayoutModel",
          "state": {
            "_model_module": "@jupyter-widgets/base",
            "_model_module_version": "1.2.0",
            "_model_name": "LayoutModel",
            "_view_count": null,
            "_view_module": "@jupyter-widgets/base",
            "_view_module_version": "1.2.0",
            "_view_name": "LayoutView",
            "align_content": null,
            "align_items": null,
            "align_self": null,
            "border": null,
            "bottom": null,
            "display": null,
            "flex": null,
            "flex_flow": null,
            "grid_area": null,
            "grid_auto_columns": null,
            "grid_auto_flow": null,
            "grid_auto_rows": null,
            "grid_column": null,
            "grid_gap": null,
            "grid_row": null,
            "grid_template_areas": null,
            "grid_template_columns": null,
            "grid_template_rows": null,
            "height": null,
            "justify_content": null,
            "justify_items": null,
            "left": null,
            "margin": null,
            "max_height": null,
            "max_width": null,
            "min_height": null,
            "min_width": null,
            "object_fit": null,
            "object_position": null,
            "order": null,
            "overflow": null,
            "overflow_x": null,
            "overflow_y": null,
            "padding": null,
            "right": null,
            "top": null,
            "visibility": null,
            "width": null
          }
        },
        "b244170c10894691b2822662a72f8674": {
          "model_module": "@jupyter-widgets/base",
          "model_module_version": "1.2.0",
          "model_name": "LayoutModel",
          "state": {
            "_model_module": "@jupyter-widgets/base",
            "_model_module_version": "1.2.0",
            "_model_name": "LayoutModel",
            "_view_count": null,
            "_view_module": "@jupyter-widgets/base",
            "_view_module_version": "1.2.0",
            "_view_name": "LayoutView",
            "align_content": null,
            "align_items": null,
            "align_self": null,
            "border": null,
            "bottom": null,
            "display": null,
            "flex": null,
            "flex_flow": null,
            "grid_area": null,
            "grid_auto_columns": null,
            "grid_auto_flow": null,
            "grid_auto_rows": null,
            "grid_column": null,
            "grid_gap": null,
            "grid_row": null,
            "grid_template_areas": null,
            "grid_template_columns": null,
            "grid_template_rows": null,
            "height": null,
            "justify_content": null,
            "justify_items": null,
            "left": null,
            "margin": null,
            "max_height": null,
            "max_width": null,
            "min_height": null,
            "min_width": null,
            "object_fit": null,
            "object_position": null,
            "order": null,
            "overflow": null,
            "overflow_x": null,
            "overflow_y": null,
            "padding": null,
            "right": null,
            "top": null,
            "visibility": null,
            "width": null
          }
        },
        "b437ec68591e4936bb4ad5e15bffbbfe": {
          "model_module": "@jupyter-widgets/controls",
          "model_module_version": "1.5.0",
          "model_name": "DescriptionStyleModel",
          "state": {
            "_model_module": "@jupyter-widgets/controls",
            "_model_module_version": "1.5.0",
            "_model_name": "DescriptionStyleModel",
            "_view_count": null,
            "_view_module": "@jupyter-widgets/base",
            "_view_module_version": "1.2.0",
            "_view_name": "StyleView",
            "description_width": ""
          }
        },
        "b6ab2d983ac1498d8d0dff62c4974490": {
          "model_module": "@jupyter-widgets/base",
          "model_module_version": "1.2.0",
          "model_name": "LayoutModel",
          "state": {
            "_model_module": "@jupyter-widgets/base",
            "_model_module_version": "1.2.0",
            "_model_name": "LayoutModel",
            "_view_count": null,
            "_view_module": "@jupyter-widgets/base",
            "_view_module_version": "1.2.0",
            "_view_name": "LayoutView",
            "align_content": null,
            "align_items": null,
            "align_self": null,
            "border": null,
            "bottom": null,
            "display": null,
            "flex": null,
            "flex_flow": null,
            "grid_area": null,
            "grid_auto_columns": null,
            "grid_auto_flow": null,
            "grid_auto_rows": null,
            "grid_column": null,
            "grid_gap": null,
            "grid_row": null,
            "grid_template_areas": null,
            "grid_template_columns": null,
            "grid_template_rows": null,
            "height": null,
            "justify_content": null,
            "justify_items": null,
            "left": null,
            "margin": null,
            "max_height": null,
            "max_width": null,
            "min_height": null,
            "min_width": null,
            "object_fit": null,
            "object_position": null,
            "order": null,
            "overflow": null,
            "overflow_x": null,
            "overflow_y": null,
            "padding": null,
            "right": null,
            "top": null,
            "visibility": null,
            "width": null
          }
        },
        "bccaa992a91447c6af8704512248f64f": {
          "model_module": "@jupyter-widgets/controls",
          "model_module_version": "1.5.0",
          "model_name": "HTMLModel",
          "state": {
            "_dom_classes": [],
            "_model_module": "@jupyter-widgets/controls",
            "_model_module_version": "1.5.0",
            "_model_name": "HTMLModel",
            "_view_count": null,
            "_view_module": "@jupyter-widgets/controls",
            "_view_module_version": "1.5.0",
            "_view_name": "HTMLView",
            "description": "",
            "description_tooltip": null,
            "layout": "IPY_MODEL_b6ab2d983ac1498d8d0dff62c4974490",
            "placeholder": "​",
            "style": "IPY_MODEL_c64888c539984aa9a4a655d2db94d6ec",
            "value": "Downloading (…)solve/main/vocab.txt: 100%"
          }
        },
        "c64888c539984aa9a4a655d2db94d6ec": {
          "model_module": "@jupyter-widgets/controls",
          "model_module_version": "1.5.0",
          "model_name": "DescriptionStyleModel",
          "state": {
            "_model_module": "@jupyter-widgets/controls",
            "_model_module_version": "1.5.0",
            "_model_name": "DescriptionStyleModel",
            "_view_count": null,
            "_view_module": "@jupyter-widgets/base",
            "_view_module_version": "1.2.0",
            "_view_name": "StyleView",
            "description_width": ""
          }
        },
        "c7daeabe2d484281b7dbd75cab788c79": {
          "model_module": "@jupyter-widgets/controls",
          "model_module_version": "1.5.0",
          "model_name": "DescriptionStyleModel",
          "state": {
            "_model_module": "@jupyter-widgets/controls",
            "_model_module_version": "1.5.0",
            "_model_name": "DescriptionStyleModel",
            "_view_count": null,
            "_view_module": "@jupyter-widgets/base",
            "_view_module_version": "1.2.0",
            "_view_name": "StyleView",
            "description_width": ""
          }
        },
        "d1caffb190ac4038ac79f4f04a174718": {
          "model_module": "@jupyter-widgets/controls",
          "model_module_version": "1.5.0",
          "model_name": "DescriptionStyleModel",
          "state": {
            "_model_module": "@jupyter-widgets/controls",
            "_model_module_version": "1.5.0",
            "_model_name": "DescriptionStyleModel",
            "_view_count": null,
            "_view_module": "@jupyter-widgets/base",
            "_view_module_version": "1.2.0",
            "_view_name": "StyleView",
            "description_width": ""
          }
        },
        "d95bee7c4a3541f3884c8c29b305996b": {
          "model_module": "@jupyter-widgets/base",
          "model_module_version": "1.2.0",
          "model_name": "LayoutModel",
          "state": {
            "_model_module": "@jupyter-widgets/base",
            "_model_module_version": "1.2.0",
            "_model_name": "LayoutModel",
            "_view_count": null,
            "_view_module": "@jupyter-widgets/base",
            "_view_module_version": "1.2.0",
            "_view_name": "LayoutView",
            "align_content": null,
            "align_items": null,
            "align_self": null,
            "border": null,
            "bottom": null,
            "display": null,
            "flex": null,
            "flex_flow": null,
            "grid_area": null,
            "grid_auto_columns": null,
            "grid_auto_flow": null,
            "grid_auto_rows": null,
            "grid_column": null,
            "grid_gap": null,
            "grid_row": null,
            "grid_template_areas": null,
            "grid_template_columns": null,
            "grid_template_rows": null,
            "height": null,
            "justify_content": null,
            "justify_items": null,
            "left": null,
            "margin": null,
            "max_height": null,
            "max_width": null,
            "min_height": null,
            "min_width": null,
            "object_fit": null,
            "object_position": null,
            "order": null,
            "overflow": null,
            "overflow_x": null,
            "overflow_y": null,
            "padding": null,
            "right": null,
            "top": null,
            "visibility": null,
            "width": null
          }
        },
        "db472e03fcdb4257812b12c6685d36bb": {
          "model_module": "@jupyter-widgets/base",
          "model_module_version": "1.2.0",
          "model_name": "LayoutModel",
          "state": {
            "_model_module": "@jupyter-widgets/base",
            "_model_module_version": "1.2.0",
            "_model_name": "LayoutModel",
            "_view_count": null,
            "_view_module": "@jupyter-widgets/base",
            "_view_module_version": "1.2.0",
            "_view_name": "LayoutView",
            "align_content": null,
            "align_items": null,
            "align_self": null,
            "border": null,
            "bottom": null,
            "display": null,
            "flex": null,
            "flex_flow": null,
            "grid_area": null,
            "grid_auto_columns": null,
            "grid_auto_flow": null,
            "grid_auto_rows": null,
            "grid_column": null,
            "grid_gap": null,
            "grid_row": null,
            "grid_template_areas": null,
            "grid_template_columns": null,
            "grid_template_rows": null,
            "height": null,
            "justify_content": null,
            "justify_items": null,
            "left": null,
            "margin": null,
            "max_height": null,
            "max_width": null,
            "min_height": null,
            "min_width": null,
            "object_fit": null,
            "object_position": null,
            "order": null,
            "overflow": null,
            "overflow_x": null,
            "overflow_y": null,
            "padding": null,
            "right": null,
            "top": null,
            "visibility": null,
            "width": null
          }
        },
        "e05ebbd29da148cd81ca159fa0c9568d": {
          "model_module": "@jupyter-widgets/controls",
          "model_module_version": "1.5.0",
          "model_name": "HTMLModel",
          "state": {
            "_dom_classes": [],
            "_model_module": "@jupyter-widgets/controls",
            "_model_module_version": "1.5.0",
            "_model_name": "HTMLModel",
            "_view_count": null,
            "_view_module": "@jupyter-widgets/controls",
            "_view_module_version": "1.5.0",
            "_view_name": "HTMLView",
            "description": "",
            "description_tooltip": null,
            "layout": "IPY_MODEL_8813fe628dc44efd99b22ac5a2d37e46",
            "placeholder": "​",
            "style": "IPY_MODEL_7c358703720045168500f0de8c2de9b1",
            "value": " 439k/439k [00:00&lt;00:00, 1.80MB/s]"
          }
        },
        "e25b5537decd4054a276ee352b78ca63": {
          "model_module": "@jupyter-widgets/base",
          "model_module_version": "1.2.0",
          "model_name": "LayoutModel",
          "state": {
            "_model_module": "@jupyter-widgets/base",
            "_model_module_version": "1.2.0",
            "_model_name": "LayoutModel",
            "_view_count": null,
            "_view_module": "@jupyter-widgets/base",
            "_view_module_version": "1.2.0",
            "_view_name": "LayoutView",
            "align_content": null,
            "align_items": null,
            "align_self": null,
            "border": null,
            "bottom": null,
            "display": null,
            "flex": null,
            "flex_flow": null,
            "grid_area": null,
            "grid_auto_columns": null,
            "grid_auto_flow": null,
            "grid_auto_rows": null,
            "grid_column": null,
            "grid_gap": null,
            "grid_row": null,
            "grid_template_areas": null,
            "grid_template_columns": null,
            "grid_template_rows": null,
            "height": null,
            "justify_content": null,
            "justify_items": null,
            "left": null,
            "margin": null,
            "max_height": null,
            "max_width": null,
            "min_height": null,
            "min_width": null,
            "object_fit": null,
            "object_position": null,
            "order": null,
            "overflow": null,
            "overflow_x": null,
            "overflow_y": null,
            "padding": null,
            "right": null,
            "top": null,
            "visibility": null,
            "width": null
          }
        },
        "e2719e0ef84e493282f2c9c54774ef91": {
          "model_module": "@jupyter-widgets/controls",
          "model_module_version": "1.5.0",
          "model_name": "HTMLModel",
          "state": {
            "_dom_classes": [],
            "_model_module": "@jupyter-widgets/controls",
            "_model_module_version": "1.5.0",
            "_model_name": "HTMLModel",
            "_view_count": null,
            "_view_module": "@jupyter-widgets/controls",
            "_view_module_version": "1.5.0",
            "_view_name": "HTMLView",
            "description": "",
            "description_tooltip": null,
            "layout": "IPY_MODEL_8d794514645f47b3a6b78b3f3eddaeaa",
            "placeholder": "​",
            "style": "IPY_MODEL_e3740561963844529c8e6e151961edaf",
            "value": "Downloading (…)solve/main/models.py: 100%"
          }
        },
        "e3740561963844529c8e6e151961edaf": {
          "model_module": "@jupyter-widgets/controls",
          "model_module_version": "1.5.0",
          "model_name": "DescriptionStyleModel",
          "state": {
            "_model_module": "@jupyter-widgets/controls",
            "_model_module_version": "1.5.0",
            "_model_name": "DescriptionStyleModel",
            "_view_count": null,
            "_view_module": "@jupyter-widgets/base",
            "_view_module_version": "1.2.0",
            "_view_name": "StyleView",
            "description_width": ""
          }
        },
        "eda59c65e0b04e6ea17b953db1d50f5f": {
          "model_module": "@jupyter-widgets/base",
          "model_module_version": "1.2.0",
          "model_name": "LayoutModel",
          "state": {
            "_model_module": "@jupyter-widgets/base",
            "_model_module_version": "1.2.0",
            "_model_name": "LayoutModel",
            "_view_count": null,
            "_view_module": "@jupyter-widgets/base",
            "_view_module_version": "1.2.0",
            "_view_name": "LayoutView",
            "align_content": null,
            "align_items": null,
            "align_self": null,
            "border": null,
            "bottom": null,
            "display": null,
            "flex": null,
            "flex_flow": null,
            "grid_area": null,
            "grid_auto_columns": null,
            "grid_auto_flow": null,
            "grid_auto_rows": null,
            "grid_column": null,
            "grid_gap": null,
            "grid_row": null,
            "grid_template_areas": null,
            "grid_template_columns": null,
            "grid_template_rows": null,
            "height": null,
            "justify_content": null,
            "justify_items": null,
            "left": null,
            "margin": null,
            "max_height": null,
            "max_width": null,
            "min_height": null,
            "min_width": null,
            "object_fit": null,
            "object_position": null,
            "order": null,
            "overflow": null,
            "overflow_x": null,
            "overflow_y": null,
            "padding": null,
            "right": null,
            "top": null,
            "visibility": null,
            "width": null
          }
        },
        "ef7beae0df0345d3b41a49a7160c8838": {
          "model_module": "@jupyter-widgets/controls",
          "model_module_version": "1.5.0",
          "model_name": "HTMLModel",
          "state": {
            "_dom_classes": [],
            "_model_module": "@jupyter-widgets/controls",
            "_model_module_version": "1.5.0",
            "_model_name": "HTMLModel",
            "_view_count": null,
            "_view_module": "@jupyter-widgets/controls",
            "_view_module_version": "1.5.0",
            "_view_name": "HTMLView",
            "description": "",
            "description_tooltip": null,
            "layout": "IPY_MODEL_f3aef9f1821044ec8d5fd12cbc283e91",
            "placeholder": "​",
            "style": "IPY_MODEL_1d5ce69c4f3e4619a244742e202cb2e7",
            "value": " 21.1k/21.1k [00:00&lt;00:00, 520kB/s]"
          }
        },
        "f0ce46112caf4b329a484fb9e83aad8d": {
          "model_module": "@jupyter-widgets/controls",
          "model_module_version": "1.5.0",
          "model_name": "HTMLModel",
          "state": {
            "_dom_classes": [],
            "_model_module": "@jupyter-widgets/controls",
            "_model_module_version": "1.5.0",
            "_model_name": "HTMLModel",
            "_view_count": null,
            "_view_module": "@jupyter-widgets/controls",
            "_view_module_version": "1.5.0",
            "_view_name": "HTMLView",
            "description": "",
            "description_tooltip": null,
            "layout": "IPY_MODEL_af6c0621701f45ceb0015f5c84a079ac",
            "placeholder": "​",
            "style": "IPY_MODEL_d1caffb190ac4038ac79f4f04a174718",
            "value": " 110k/110k [00:00&lt;00:00, 673kB/s]"
          }
        },
        "f3aef9f1821044ec8d5fd12cbc283e91": {
          "model_module": "@jupyter-widgets/base",
          "model_module_version": "1.2.0",
          "model_name": "LayoutModel",
          "state": {
            "_model_module": "@jupyter-widgets/base",
            "_model_module_version": "1.2.0",
            "_model_name": "LayoutModel",
            "_view_count": null,
            "_view_module": "@jupyter-widgets/base",
            "_view_module_version": "1.2.0",
            "_view_name": "LayoutView",
            "align_content": null,
            "align_items": null,
            "align_self": null,
            "border": null,
            "bottom": null,
            "display": null,
            "flex": null,
            "flex_flow": null,
            "grid_area": null,
            "grid_auto_columns": null,
            "grid_auto_flow": null,
            "grid_auto_rows": null,
            "grid_column": null,
            "grid_gap": null,
            "grid_row": null,
            "grid_template_areas": null,
            "grid_template_columns": null,
            "grid_template_rows": null,
            "height": null,
            "justify_content": null,
            "justify_items": null,
            "left": null,
            "margin": null,
            "max_height": null,
            "max_width": null,
            "min_height": null,
            "min_width": null,
            "object_fit": null,
            "object_position": null,
            "order": null,
            "overflow": null,
            "overflow_x": null,
            "overflow_y": null,
            "padding": null,
            "right": null,
            "top": null,
            "visibility": null,
            "width": null
          }
        },
        "f89b4aa9a45e4514afa2a881757264bb": {
          "model_module": "@jupyter-widgets/controls",
          "model_module_version": "1.5.0",
          "model_name": "ProgressStyleModel",
          "state": {
            "_model_module": "@jupyter-widgets/controls",
            "_model_module_version": "1.5.0",
            "_model_name": "ProgressStyleModel",
            "_view_count": null,
            "_view_module": "@jupyter-widgets/base",
            "_view_module_version": "1.2.0",
            "_view_name": "StyleView",
            "bar_color": null,
            "description_width": ""
          }
        },
        "fa4470aa6f8646cfb3654d6705ca53af": {
          "model_module": "@jupyter-widgets/controls",
          "model_module_version": "1.5.0",
          "model_name": "HTMLModel",
          "state": {
            "_dom_classes": [],
            "_model_module": "@jupyter-widgets/controls",
            "_model_module_version": "1.5.0",
            "_model_name": "HTMLModel",
            "_view_count": null,
            "_view_module": "@jupyter-widgets/controls",
            "_view_module_version": "1.5.0",
            "_view_name": "HTMLView",
            "description": "",
            "description_tooltip": null,
            "layout": "IPY_MODEL_7e88c69fc3714eadba25fd85085199a1",
            "placeholder": "​",
            "style": "IPY_MODEL_b437ec68591e4936bb4ad5e15bffbbfe",
            "value": " 966/966 [00:00&lt;00:00, 23.9kB/s]"
          }
        },
        "fe64b74c338e41068ad8c6cda84f8e1d": {
          "model_module": "@jupyter-widgets/controls",
          "model_module_version": "1.5.0",
          "model_name": "FloatProgressModel",
          "state": {
            "_dom_classes": [],
            "_model_module": "@jupyter-widgets/controls",
            "_model_module_version": "1.5.0",
            "_model_name": "FloatProgressModel",
            "_view_count": null,
            "_view_module": "@jupyter-widgets/controls",
            "_view_module_version": "1.5.0",
            "_view_name": "ProgressView",
            "bar_style": "success",
            "description": "",
            "description_tooltip": null,
            "layout": "IPY_MODEL_b244170c10894691b2822662a72f8674",
            "max": 125,
            "min": 0,
            "orientation": "horizontal",
            "style": "IPY_MODEL_923317fe14d040b985583ce1dc8c5ca4",
            "value": 125
          }
        }
      }
    }
  },
  "nbformat": 4,
  "nbformat_minor": 0
}
