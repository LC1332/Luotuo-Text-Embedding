{
  "cells": [
    {
      "cell_type": "markdown",
      "metadata": {
        "id": "HUPjmUeiXAz7"
      },
      "source": [
        "# Luotuo Embedding 骆驼嵌入: Generative Text Embedding Model distilled from OpenAI API\n",
        "\n",
        "骆驼嵌入是一个文本嵌入(text embedding)模型，由冷子昂, 刘思诣, 黄泓森, 陈舒年, 胡婧, 孙骜, 陈启源, 李鲁鲁等开发\n",
        "\n",
        "<details>\n",
        "  <summary> 每个作者都是第一作者，顺序是随机的。(点这里具体)</summary>\n",
        "\n",
        "李鲁鲁发起了项目，并完成了初步的验证，提出了KL散度Loss和Hard Negative挖掘。\n",
        "\n",
        "刘思诣完成了初步训练框架的编写，以及支撑了后面模型上传到hugging face管线。\n",
        "\n",
        "冷子昂完成了完整的大模型和小模型的训练，包括载入数据和损失函数的实现。\n",
        "\n",
        "陈启源准备了CNewSum的数据，做了句子切分。\n",
        "\n",
        "黄泓森负责爬取了OpenAI Embedding的数据。\n",
        "\n",
        "陈舒年完成了重要的几个可视化。\n",
        "\n",
        "孙骜（即将）用我们的得到的Embedding，完成CoT的提升实验。\n",
        "\n",
        "胡婧收集了周杰伦的歌词，并（即将）完成更多的定量实验。\n",
        "\n",
        "</details>\n",
        "\n",
        "骆驼嵌入是[Luotuo(骆驼)](https://github.com/LC1332/Luotuo-Chinese-LLM)的子项目之一, 后者由李鲁鲁, 冷子昂, 陈启源发起。\n"
      ]
    },
    {
      "cell_type": "markdown",
      "metadata": {
        "id": "tOuADT8rZg-q"
      },
      "source": [
        "## 安装环境"
      ]
    },
    {
      "cell_type": "code",
      "execution_count": null,
      "metadata": {
        "id": "7Q7vFF4xXhFl"
      },
      "outputs": [],
      "source": [
        "# Requirements\n",
        "!pip install transformers\n",
        "!pip install openai\n",
        "!pip install openTSNE\n",
        "!pip install datasets"
      ]
    },
    {
      "cell_type": "markdown",
      "metadata": {
        "id": "uP1CviUHZjGw"
      },
      "source": [
        "## 从骆驼嵌入项目中获取数据"
      ]
    },
    {
      "cell_type": "markdown",
      "metadata": {
        "id": "zFvQw-1KZnTU"
      },
      "source": [
        "## 从Hugging Face中获取模型\n",
        "\n",
        "我们的骆驼BERT的主要模型为luotuo-bert\n",
        "\n",
        "现在暂时是110M的小模型。之后中模型上线之后,luotuo-bert会替换为300M以上的较大的模型，同时小模型会更名为luotuo-bert-small"
      ]
    },
    {
      "cell_type": "code",
      "execution_count": 1,
      "metadata": {
        "colab": {
          "base_uri": "https://localhost:8080/",
          "height": 258,
          "referenced_widgets": [
            "4021c77f0fed44ab93621ab4c57a7a93",
            "aabbcb14d0ce4ba8bb841f32ae2aaa16",
            "740357a6a20e4706b87b037e9052a076",
            "a3b45c901b514c4d9ddccebdd44d638f",
            "b052b3bc2b784c0094b16f13d71978ba",
            "93fe9ba1c54b4f298ca4491f2bab4093",
            "8f011bc384d14d3183aa254cbb7ce119",
            "39a6497b32594ee580687f1bd689484a",
            "3c6e008234f84580a325e41f857cac0f",
            "d95bee7c4a3541f3884c8c29b305996b",
            "c7daeabe2d484281b7dbd75cab788c79",
            "51077c2175724679b149af93cbe9e93c",
            "bccaa992a91447c6af8704512248f64f",
            "02f265aa09a24f8c8384adf889d41138",
            "f0ce46112caf4b329a484fb9e83aad8d",
            "eda59c65e0b04e6ea17b953db1d50f5f",
            "b6ab2d983ac1498d8d0dff62c4974490",
            "c64888c539984aa9a4a655d2db94d6ec",
            "2287e3862b9247b4a908c730d72998b3",
            "93135e6b84a341eeafaaa14382521e64",
            "af6c0621701f45ceb0015f5c84a079ac",
            "d1caffb190ac4038ac79f4f04a174718",
            "4e0e65cd2567419282f1324a09e51a80",
            "af67023cb0524b2eb1ecb23f6a280d53",
            "3e867fa160034601ac4f78b646bbc458",
            "e05ebbd29da148cd81ca159fa0c9568d",
            "1ef24cfb2c1c4d63a850edf4d69738d6",
            "443b55898d724b4abff1dbb7c7ab08d3",
            "0a5450529ad5481ebf756bc90fcc9e16",
            "5c10618547c641d5a5928887e7e80b2f",
            "ac4e9ce289a64fc3aa6ef4ddfdc16a61",
            "8813fe628dc44efd99b22ac5a2d37e46",
            "7c358703720045168500f0de8c2de9b1",
            "76678f487d8d47fda0e707c29ba27eee",
            "73d1e3318b564a18a8aba8b4237e31a5",
            "fe64b74c338e41068ad8c6cda84f8e1d",
            "845ccb16eae84e4e98234434cb52f93c",
            "e25b5537decd4054a276ee352b78ca63",
            "2f121d0a7ec540c0a8f4ca3285d73cd4",
            "61b8fd6bd8584d0db655a48256b1f3ff",
            "b244170c10894691b2822662a72f8674",
            "923317fe14d040b985583ce1dc8c5ca4",
            "38ed601962f54a13bb0a08c5c22c0768",
            "0e4700aff9f44ff1a93bca9b344a8a85",
            "07251d9f5e8644afaac540b88e35b32a",
            "14b60606c3434c7ca9846c3112acfaff",
            "9544af26fc33486da491b6dd9bb7f489",
            "fa4470aa6f8646cfb3654d6705ca53af",
            "a8a8fcbaf72a459ab3e7875e57463e7f",
            "94d5568aa6bb4913a9719abe4923e8ba",
            "a0df4d0c058e489bbcb75acacb35f3cd",
            "a181e4df6a9a4ee8b7418c10cc2fcdc6",
            "00ccc849f0c84dbc8f372f7858ad8150",
            "7e88c69fc3714eadba25fd85085199a1",
            "b437ec68591e4936bb4ad5e15bffbbfe",
            "5679dd4cb9f748f195f2e2ed3db5dd87",
            "e2719e0ef84e493282f2c9c54774ef91",
            "32afd52536254a2f8d4e89b88b2982e1",
            "ef7beae0df0345d3b41a49a7160c8838",
            "82c488709b2e424c9d467e7c8780754e",
            "8d794514645f47b3a6b78b3f3eddaeaa",
            "e3740561963844529c8e6e151961edaf",
            "9df6886ebc464a2fbe856868f62bbead",
            "f89b4aa9a45e4514afa2a881757264bb",
            "f3aef9f1821044ec8d5fd12cbc283e91",
            "1d5ce69c4f3e4619a244742e202cb2e7",
            "981fe5658e2b452d9f30d7b8ec4bb93c",
            "3ce1dff9ae1d4f40950582356e384388",
            "45be7215944e46979e7409cccb6188ea",
            "92946b053f5d4951a748c5294b97428b",
            "a5ff064d06d14b3994ca47879d59700e",
            "db472e03fcdb4257812b12c6685d36bb",
            "15c21b71944645c4a701b9cfcb356c53",
            "14a75f0ea3a54ca8b9ac3b0d139d239a",
            "2cbc91fd584449798beef1b542bf80ac",
            "00102182cffc4f0e90bf92276dc272e4",
            "53fb1682ee264bb896dd019a862052bd"
          ]
        },
        "id": "drHktMUHXi1i",
        "outputId": "ddcdab28-8b15-4da8-e87b-3e1cc08fa535"
      },
      "outputs": [
        {
          "name": "stderr",
          "output_type": "stream",
          "text": [
            "Explicitly passing a `revision` is encouraged when loading a model with custom code to ensure no malicious code has been contributed in a newer revision.\n"
          ]
        }
      ],
      "source": [
        "import torch\n",
        "from scipy.spatial.distance import cosine\n",
        "from transformers import AutoModel, AutoTokenizer\n",
        "from argparse import Namespace\n",
        "# Import our models. The package will take care of downloading the models automatically\n",
        "tokenizer = AutoTokenizer.from_pretrained(\"silk-road/luotuo-bert\")\n",
        "model_args = Namespace(do_mlm=None, pooler_type=\"cls\", temp=0.05, mlp_only_train=False, init_embeddings_model=None)\n",
        "model = AutoModel.from_pretrained(\"silk-road/luotuo-bert\", trust_remote_code=True, model_args=model_args)"
      ]
    },
    {
      "cell_type": "markdown",
      "metadata": {
        "id": "RzbZPTdmZ3wZ"
      },
      "source": [
        "## t-SNE 文本可视化实验"
      ]
    },
    {
      "cell_type": "code",
      "execution_count": 12,
      "metadata": {},
      "outputs": [],
      "source": [
        "import pandas as pd\n",
        "tsne_data_label_path = \"../data/sentpair_label.csv\"\n",
        "\n",
        "data = pd.read_csv(tsne_data_label_path, header=0)\n",
        "text_left = data[\"Column1\"].tolist()\n",
        "text_right = data[\"Column2\"].tolist()\n",
        "label = data[\"Label\"].tolist()"
      ]
    },
    {
      "cell_type": "code",
      "execution_count": 4,
      "metadata": {
        "colab": {
          "base_uri": "https://localhost:8080/"
        },
        "id": "gp_x7YZxXvrC",
        "outputId": "f8ae5e8e-75d6-4c32-eac9-580770fd277c"
      },
      "outputs": [
        {
          "name": "stderr",
          "output_type": "stream",
          "text": [
            "Asking to truncate to max_length but no maximum length is provided and the model has no predefined maximum length. Default to no truncation.\n"
          ]
        }
      ],
      "source": [
        "import csv\n",
        "import numpy as np\n",
        "import sys\n",
        "sys.path.append(\"..\")\n",
        "\n",
        "\n",
        "inputs = tokenizer(text_left, padding=True, truncation=True, return_tensors=\"pt\")\n",
        "with torch.no_grad():\n",
        "    embeddings_left = model(**inputs, output_hidden_states=True, return_dict=True, sent_emb=True).pooler_output\n",
        "inputs = tokenizer(text_right, padding=True, truncation=True, return_tensors=\"pt\")\n",
        "with torch.no_grad():\n",
        "    embeddings_right = model(**inputs, output_hidden_states=True, return_dict=True, sent_emb=True).pooler_output\n",
        "    \n",
        "cos_sim_matrix = torch.matmul(embeddings_left, embeddings_right.t())\n",
        "cos_sim_matrix /= torch.matmul(torch.norm(embeddings_left, dim=1, keepdim=True), torch.norm(embeddings_right, dim=1, keepdim=True).t())\n",
        "tensor_cpu = cos_sim_matrix.cpu()"
      ]
    },
    {
      "attachments": {},
      "cell_type": "markdown",
      "metadata": {},
      "source": [
        "### T-SNE with labels"
      ]
    },
    {
      "cell_type": "code",
      "execution_count": 5,
      "metadata": {
        "colab": {
          "base_uri": "https://localhost:8080/",
          "height": 906
        },
        "id": "K8FRnqu1X9R5",
        "outputId": "de939e50-b00c-4ee8-e8ae-70d5bd9b1682"
      },
      "outputs": [
        {
          "name": "stderr",
          "output_type": "stream",
          "text": [
            "Perplexity value 30 is too high. Using perplexity 12.33 instead\n",
            "Perplexity value 30 is too high. Using perplexity 12.33 instead\n"
          ]
        },
        {
          "data": {
            "application/vnd.plotly.v1+json": {
              "config": {
                "plotlyServerURL": "https://plot.ly"
              },
              "data": [
                {
                  "legendgroup": "lines",
                  "marker": {
                    "color": "#000080",
                    "size": [
                      20,
                      20
                    ]
                  },
                  "mode": "markers",
                  "name": "百草园到三味书屋",
                  "showlegend": true,
                  "type": "scatter",
                  "x": [
                    6.092360574207045,
                    6.151361251111603
                  ],
                  "y": [
                    0.8740896203895311,
                    1.4787633208671145
                  ]
                },
                {
                  "legendgroup": "lines",
                  "marker": {
                    "color": "#0000bf",
                    "size": [
                      20,
                      20
                    ]
                  },
                  "mode": "markers",
                  "name": "背影",
                  "showlegend": true,
                  "type": "scatter",
                  "x": [
                    0.5768451026144882,
                    0.9159302845429853
                  ],
                  "y": [
                    -1.42423544313,
                    -0.6315064580173914
                  ]
                },
                {
                  "legendgroup": "lines",
                  "marker": {
                    "color": "#0000ff",
                    "size": [
                      20,
                      20
                    ]
                  },
                  "mode": "markers",
                  "name": "出师表",
                  "showlegend": true,
                  "type": "scatter",
                  "x": [
                    2.712723414176504,
                    2.9284454092762875
                  ],
                  "y": [
                    3.594864200427273,
                    4.348730294377213
                  ]
                },
                {
                  "legendgroup": "lines",
                  "marker": {
                    "color": "#0028ff",
                    "size": [
                      20,
                      20
                    ]
                  },
                  "mode": "markers",
                  "name": "凡人修仙传",
                  "showlegend": true,
                  "type": "scatter",
                  "x": [
                    4.994687150732615,
                    4.866262759734667
                  ],
                  "y": [
                    4.6964984471619475,
                    5.19434392717613
                  ]
                },
                {
                  "legendgroup": "lines",
                  "marker": {
                    "color": "#0060ff",
                    "size": [
                      20,
                      20
                    ]
                  },
                  "mode": "markers",
                  "name": "全职高手",
                  "showlegend": true,
                  "type": "scatter",
                  "x": [
                    1.5038668047204897,
                    2.0252753999223603
                  ],
                  "y": [
                    5.371399244808363,
                    5.710571538600007
                  ]
                },
                {
                  "legendgroup": "lines",
                  "marker": {
                    "color": "#009cff",
                    "size": [
                      20,
                      20
                    ]
                  },
                  "mode": "markers",
                  "name": "雷雨",
                  "showlegend": true,
                  "type": "scatter",
                  "x": [
                    3.745083664381378,
                    1.5420571630116504
                  ],
                  "y": [
                    -0.0808603550896109,
                    -0.10665944333503204
                  ]
                },
                {
                  "legendgroup": "lines",
                  "marker": {
                    "color": "#00d4ff",
                    "size": [
                      20,
                      20
                    ]
                  },
                  "mode": "markers",
                  "name": "约定-王菲",
                  "showlegend": true,
                  "type": "scatter",
                  "x": [
                    5.1288928683488795,
                    -6.382881157512859
                  ],
                  "y": [
                    -3.2871186041988376,
                    -2.881667239395778
                  ]
                },
                {
                  "legendgroup": "lines",
                  "marker": {
                    "color": "#1fffd7",
                    "size": [
                      20,
                      20
                    ]
                  },
                  "mode": "markers",
                  "name": "致青春-王菲",
                  "showlegend": true,
                  "type": "scatter",
                  "x": [
                    -4.6129806827212185,
                    -5.4680033884935195
                  ],
                  "y": [
                    -4.004206957407643,
                    -3.4750402269135643
                  ]
                },
                {
                  "legendgroup": "lines",
                  "marker": {
                    "color": "#4dffaa",
                    "size": [
                      20,
                      20
                    ]
                  },
                  "mode": "markers",
                  "name": "暗涌-王菲",
                  "showlegend": true,
                  "type": "scatter",
                  "x": [
                    -6.775616309677088,
                    -7.510592770413954
                  ],
                  "y": [
                    -3.6842073084995763,
                    -1.8894336154049924
                  ]
                },
                {
                  "legendgroup": "lines",
                  "marker": {
                    "color": "#7dff7a",
                    "size": [
                      20,
                      20
                    ]
                  },
                  "mode": "markers",
                  "name": "红豆-王菲",
                  "showlegend": true,
                  "type": "scatter",
                  "x": [
                    -7.2800204486437075,
                    -7.919741575440917
                  ],
                  "y": [
                    -1.0715685384452438,
                    -0.4765800824015668
                  ]
                },
                {
                  "legendgroup": "lines",
                  "marker": {
                    "color": "#aaff4d",
                    "size": [
                      20,
                      20
                    ]
                  },
                  "mode": "markers",
                  "name": "浪子-王菲",
                  "showlegend": true,
                  "type": "scatter",
                  "x": [
                    -3.8220789400699697,
                    -3.982325600590895
                  ],
                  "y": [
                    3.117172221099129,
                    2.420098476173975
                  ]
                },
                {
                  "legendgroup": "lines",
                  "marker": {
                    "color": "#d7ff1f",
                    "size": [
                      20,
                      20
                    ]
                  },
                  "mode": "markers",
                  "name": "印第安老斑鸠-周杰伦",
                  "showlegend": true,
                  "type": "scatter",
                  "x": [
                    7.780857123682835,
                    7.514171209654487
                  ],
                  "y": [
                    0.2967660006688395,
                    -0.3256833225017228
                  ]
                },
                {
                  "legendgroup": "lines",
                  "marker": {
                    "color": "#ffe600",
                    "size": [
                      20,
                      20
                    ]
                  },
                  "mode": "markers",
                  "name": "斗牛-周杰伦",
                  "showlegend": true,
                  "type": "scatter",
                  "x": [
                    -1.2250925960761707,
                    -1.9376200484455832
                  ],
                  "y": [
                    2.9001293143220366,
                    3.2971048038742765
                  ]
                },
                {
                  "legendgroup": "lines",
                  "marker": {
                    "color": "#ffb200",
                    "size": [
                      20,
                      20
                    ]
                  },
                  "mode": "markers",
                  "name": "反方向的钟-周杰伦",
                  "showlegend": true,
                  "type": "scatter",
                  "x": [
                    -5.738260860059603,
                    -5.122262037770993
                  ],
                  "y": [
                    0.7351685736346579,
                    1.5951881340567033
                  ]
                },
                {
                  "legendgroup": "lines",
                  "marker": {
                    "color": "#ff7a00",
                    "size": [
                      20,
                      20
                    ]
                  },
                  "mode": "markers",
                  "name": "黑色幽默-周杰伦",
                  "showlegend": true,
                  "type": "scatter",
                  "x": [
                    -3.9172083831977775,
                    -4.883768007077495
                  ],
                  "y": [
                    -0.8631096412695153,
                    -0.761537281807944
                  ]
                },
                {
                  "legendgroup": "lines",
                  "marker": {
                    "color": "#ff4700",
                    "size": [
                      20,
                      20
                    ]
                  },
                  "mode": "markers",
                  "name": "爸我回来了-周杰伦",
                  "showlegend": true,
                  "type": "scatter",
                  "x": [
                    1.2736402518914942,
                    1.4494927769264192
                  ],
                  "y": [
                    -4.125162240411961,
                    -4.960765195996183
                  ]
                },
                {
                  "legendgroup": "lines",
                  "marker": {
                    "color": "#ff1300",
                    "size": [
                      20,
                      20
                    ]
                  },
                  "mode": "markers",
                  "name": "上海1943-周杰伦",
                  "showlegend": true,
                  "type": "scatter",
                  "x": [
                    4.784657770636132,
                    4.539421832973509
                  ],
                  "y": [
                    -1.1878671498115383,
                    -2.2658528113358454
                  ]
                },
                {
                  "legendgroup": "lines",
                  "marker": {
                    "color": "#bf0000",
                    "size": [
                      20,
                      20
                    ]
                  },
                  "mode": "markers",
                  "name": "外婆-周杰伦",
                  "showlegend": true,
                  "type": "scatter",
                  "x": [
                    3.2680041426170607,
                    2.9541396110620015
                  ],
                  "y": [
                    -2.737431468984768,
                    1.485041187210908
                  ]
                },
                {
                  "legendgroup": "lines",
                  "marker": {
                    "color": "#800000",
                    "size": [
                      20,
                      20
                    ]
                  },
                  "mode": "markers",
                  "name": "听妈妈的话-周杰伦",
                  "showlegend": true,
                  "type": "scatter",
                  "x": [
                    0.16527398774385005,
                    -0.3349977477769863
                  ],
                  "y": [
                    -3.6007535851177894,
                    -3.274682335371596
                  ]
                },
                {
                  "legendgroup": "lines",
                  "line": {
                    "color": "#000080"
                  },
                  "mode": "lines",
                  "showlegend": false,
                  "type": "scatter",
                  "x": [
                    9.780857123682836,
                    7.092360574207045,
                    6.592360574207045,
                    6.092360574207045
                  ],
                  "y": [
                    2.9032656363384337,
                    2.9032656363384337,
                    0.8740896203895311,
                    0.8740896203895311
                  ]
                },
                {
                  "legendgroup": "lines",
                  "line": {
                    "color": "#0000bf"
                  },
                  "mode": "lines",
                  "showlegend": false,
                  "type": "scatter",
                  "x": [
                    9.780857123682836,
                    1.576845102614488,
                    1.076845102614488,
                    0.5768451026144882
                  ],
                  "y": [
                    -11.325183343123152,
                    -11.325183343123152,
                    -1.42423544313,
                    -1.42423544313
                  ]
                },
                {
                  "legendgroup": "lines",
                  "line": {
                    "color": "#0000ff"
                  },
                  "mode": "lines",
                  "showlegend": false,
                  "type": "scatter",
                  "x": [
                    9.780857123682836,
                    3.712723414176504,
                    3.212723414176504,
                    2.712723414176504
                  ],
                  "y": [
                    13.574602370934626,
                    13.574602370934626,
                    3.594864200427273,
                    3.594864200427273
                  ]
                },
                {
                  "legendgroup": "lines",
                  "line": {
                    "color": "#0028ff"
                  },
                  "mode": "lines",
                  "showlegend": false,
                  "type": "scatter",
                  "x": [
                    9.780857123682836,
                    5.994687150732615,
                    5.494687150732615,
                    4.994687150732615
                  ],
                  "y": [
                    10.017490126069228,
                    10.017490126069228,
                    4.6964984471619475,
                    4.6964984471619475
                  ]
                },
                {
                  "legendgroup": "lines",
                  "line": {
                    "color": "#0060ff"
                  },
                  "mode": "lines",
                  "showlegend": false,
                  "type": "scatter",
                  "x": [
                    -8.919741575440916,
                    0.5038668047204897,
                    1.0038668047204897,
                    1.5038668047204897
                  ],
                  "y": [
                    17.13171461580002,
                    17.13171461580002,
                    5.371399244808363,
                    5.371399244808363
                  ]
                },
                {
                  "legendgroup": "lines",
                  "line": {
                    "color": "#009cff"
                  },
                  "mode": "lines",
                  "showlegend": false,
                  "type": "scatter",
                  "x": [
                    9.780857123682836,
                    4.745083664381378,
                    4.245083664381378,
                    3.745083664381378
                  ],
                  "y": [
                    -2.4324027309596605,
                    -2.4324027309596605,
                    -0.0808603550896109,
                    -0.0808603550896109
                  ]
                },
                {
                  "legendgroup": "lines",
                  "line": {
                    "color": "#00d4ff"
                  },
                  "mode": "lines",
                  "showlegend": false,
                  "type": "scatter",
                  "x": [
                    9.780857123682836,
                    6.1288928683488795,
                    5.6288928683488795,
                    5.1288928683488795
                  ],
                  "y": [
                    -7.768071098257756,
                    -7.768071098257756,
                    -3.2871186041988376,
                    -3.2871186041988376
                  ]
                },
                {
                  "legendgroup": "lines",
                  "line": {
                    "color": "#1fffd7"
                  },
                  "mode": "lines",
                  "showlegend": false,
                  "type": "scatter",
                  "x": [
                    -8.919741575440916,
                    -5.6129806827212185,
                    -5.1129806827212185,
                    -4.6129806827212185
                  ],
                  "y": [
                    -11.325183343123152,
                    -11.325183343123152,
                    -4.004206957407643,
                    -4.004206957407643
                  ]
                },
                {
                  "legendgroup": "lines",
                  "line": {
                    "color": "#4dffaa"
                  },
                  "mode": "lines",
                  "showlegend": false,
                  "type": "scatter",
                  "x": [
                    -8.919741575440916,
                    -7.775616309677088,
                    -7.275616309677088,
                    -6.775616309677088
                  ],
                  "y": [
                    -5.989514975825058,
                    -5.989514975825058,
                    -3.6842073084995763,
                    -3.6842073084995763
                  ]
                },
                {
                  "legendgroup": "lines",
                  "line": {
                    "color": "#7dff7a"
                  },
                  "mode": "lines",
                  "showlegend": false,
                  "type": "scatter",
                  "x": [
                    -8.919741575440916,
                    -8.280020448643707,
                    -7.7800204486437075,
                    -7.2800204486437075
                  ],
                  "y": [
                    -0.6538466085269619,
                    -0.6538466085269619,
                    -1.0715685384452438,
                    -1.0715685384452438
                  ]
                },
                {
                  "legendgroup": "lines",
                  "line": {
                    "color": "#aaff4d"
                  },
                  "mode": "lines",
                  "showlegend": false,
                  "type": "scatter",
                  "x": [
                    -8.919741575440916,
                    -4.82207894006997,
                    -4.32207894006997,
                    -3.8220789400699697
                  ],
                  "y": [
                    10.017490126069228,
                    10.017490126069228,
                    3.117172221099129,
                    3.117172221099129
                  ]
                },
                {
                  "legendgroup": "lines",
                  "line": {
                    "color": "#d7ff1f"
                  },
                  "mode": "lines",
                  "showlegend": false,
                  "type": "scatter",
                  "x": [
                    9.780857123682836,
                    8.780857123682836,
                    8.280857123682836,
                    7.780857123682835
                  ],
                  "y": [
                    1.1247095139057368,
                    1.1247095139057368,
                    0.2967660006688395,
                    0.2967660006688395
                  ]
                },
                {
                  "legendgroup": "lines",
                  "line": {
                    "color": "#ffe600"
                  },
                  "mode": "lines",
                  "showlegend": false,
                  "type": "scatter",
                  "x": [
                    -8.919741575440916,
                    -2.2250925960761707,
                    -1.7250925960761707,
                    -1.2250925960761707
                  ],
                  "y": [
                    15.353158493367323,
                    15.353158493367323,
                    2.9001293143220366,
                    2.9001293143220366
                  ]
                },
                {
                  "legendgroup": "lines",
                  "line": {
                    "color": "#ffb200"
                  },
                  "mode": "lines",
                  "showlegend": false,
                  "type": "scatter",
                  "x": [
                    -8.919741575440916,
                    -6.738260860059603,
                    -6.238260860059603,
                    -5.738260860059603
                  ],
                  "y": [
                    4.681821758771134,
                    4.681821758771134,
                    0.7351685736346579,
                    0.7351685736346579
                  ]
                },
                {
                  "legendgroup": "lines",
                  "line": {
                    "color": "#ff7a00"
                  },
                  "mode": "lines",
                  "showlegend": false,
                  "type": "scatter",
                  "x": [
                    -8.919741575440916,
                    -4.917208383197778,
                    -4.417208383197778,
                    -3.9172083831977775
                  ],
                  "y": [
                    -7.768071098257756,
                    -7.768071098257756,
                    -0.8631096412695153,
                    -0.8631096412695153
                  ]
                },
                {
                  "legendgroup": "lines",
                  "line": {
                    "color": "#ff4700"
                  },
                  "mode": "lines",
                  "showlegend": false,
                  "type": "scatter",
                  "x": [
                    9.780857123682836,
                    2.273640251891494,
                    1.7736402518914942,
                    1.2736402518914942
                  ],
                  "y": [
                    -13.10373946555585,
                    -13.10373946555585,
                    -4.125162240411961,
                    -4.125162240411961
                  ]
                },
                {
                  "legendgroup": "lines",
                  "line": {
                    "color": "#ff1300"
                  },
                  "mode": "lines",
                  "showlegend": false,
                  "type": "scatter",
                  "x": [
                    9.780857123682836,
                    5.784657770636132,
                    5.284657770636132,
                    4.784657770636132
                  ],
                  "y": [
                    -4.210958853392359,
                    -4.210958853392359,
                    -1.1878671498115383,
                    -1.1878671498115383
                  ]
                },
                {
                  "legendgroup": "lines",
                  "line": {
                    "color": "#bf0000"
                  },
                  "mode": "lines",
                  "showlegend": false,
                  "type": "scatter",
                  "x": [
                    9.780857123682836,
                    4.268004142617061,
                    3.7680041426170607,
                    3.2680041426170607
                  ],
                  "y": [
                    -9.546627220690453,
                    -9.546627220690453,
                    -2.737431468984768,
                    -2.737431468984768
                  ]
                },
                {
                  "legendgroup": "lines",
                  "line": {
                    "color": "#800000"
                  },
                  "mode": "lines",
                  "showlegend": false,
                  "type": "scatter",
                  "x": [
                    -8.919741575440916,
                    -0.83472601225615,
                    -0.33472601225614995,
                    0.16527398774385005
                  ],
                  "y": [
                    -14.88229558798855,
                    -14.88229558798855,
                    -3.6007535851177894,
                    -3.6007535851177894
                  ]
                },
                {
                  "legendgroup": "lines",
                  "line": {
                    "color": "#000080"
                  },
                  "mode": "lines",
                  "showlegend": false,
                  "type": "scatter",
                  "x": [
                    9.780857123682836,
                    7.151361251111603,
                    6.651361251111603,
                    6.151361251111603
                  ],
                  "y": [
                    4.681821758771134,
                    4.681821758771134,
                    1.4787633208671145,
                    1.4787633208671145
                  ]
                },
                {
                  "legendgroup": "lines",
                  "line": {
                    "color": "#0000bf"
                  },
                  "mode": "lines",
                  "showlegend": false,
                  "type": "scatter",
                  "x": [
                    -8.919741575440916,
                    -0.0840697154570147,
                    0.4159302845429853,
                    0.9159302845429853
                  ],
                  "y": [
                    11.796046248501929,
                    11.796046248501929,
                    -0.6315064580173914,
                    -0.6315064580173914
                  ]
                },
                {
                  "legendgroup": "lines",
                  "line": {
                    "color": "#0000ff"
                  },
                  "mode": "lines",
                  "showlegend": false,
                  "type": "scatter",
                  "x": [
                    9.780857123682836,
                    3.9284454092762875,
                    3.4284454092762875,
                    2.9284454092762875
                  ],
                  "y": [
                    15.353158493367323,
                    15.353158493367323,
                    4.348730294377213,
                    4.348730294377213
                  ]
                },
                {
                  "legendgroup": "lines",
                  "line": {
                    "color": "#0028ff"
                  },
                  "mode": "lines",
                  "showlegend": false,
                  "type": "scatter",
                  "x": [
                    9.780857123682836,
                    5.866262759734667,
                    5.366262759734667,
                    4.866262759734667
                  ],
                  "y": [
                    11.796046248501929,
                    11.796046248501929,
                    5.19434392717613,
                    5.19434392717613
                  ]
                },
                {
                  "legendgroup": "lines",
                  "line": {
                    "color": "#0060ff"
                  },
                  "mode": "lines",
                  "showlegend": false,
                  "type": "scatter",
                  "x": [
                    9.780857123682836,
                    3.0252753999223603,
                    2.5252753999223603,
                    2.0252753999223603
                  ],
                  "y": [
                    17.13171461580002,
                    17.13171461580002,
                    5.710571538600007,
                    5.710571538600007
                  ]
                },
                {
                  "legendgroup": "lines",
                  "line": {
                    "color": "#009cff"
                  },
                  "mode": "lines",
                  "showlegend": false,
                  "type": "scatter",
                  "x": [
                    9.780857123682836,
                    2.54205716301165,
                    2.04205716301165,
                    1.5420571630116504
                  ],
                  "y": [
                    6.460377881203831,
                    6.460377881203831,
                    -0.10665944333503204,
                    -0.10665944333503204
                  ]
                },
                {
                  "legendgroup": "lines",
                  "line": {
                    "color": "#00d4ff"
                  },
                  "mode": "lines",
                  "showlegend": false,
                  "type": "scatter",
                  "x": [
                    -8.919741575440916,
                    -7.382881157512859,
                    -6.882881157512859,
                    -6.382881157512859
                  ],
                  "y": [
                    -4.210958853392359,
                    -4.210958853392359,
                    -2.881667239395778,
                    -2.881667239395778
                  ]
                },
                {
                  "legendgroup": "lines",
                  "line": {
                    "color": "#1fffd7"
                  },
                  "mode": "lines",
                  "showlegend": false,
                  "type": "scatter",
                  "x": [
                    -8.919741575440916,
                    -6.4680033884935195,
                    -5.9680033884935195,
                    -5.4680033884935195
                  ],
                  "y": [
                    -9.546627220690453,
                    -9.546627220690453,
                    -3.4750402269135643,
                    -3.4750402269135643
                  ]
                },
                {
                  "legendgroup": "lines",
                  "line": {
                    "color": "#4dffaa"
                  },
                  "mode": "lines",
                  "showlegend": false,
                  "type": "scatter",
                  "x": [
                    -8.919741575440916,
                    -8.510592770413954,
                    -8.010592770413954,
                    -7.510592770413954
                  ],
                  "y": [
                    -2.4324027309596605,
                    -2.4324027309596605,
                    -1.8894336154049924,
                    -1.8894336154049924
                  ]
                },
                {
                  "legendgroup": "lines",
                  "line": {
                    "color": "#7dff7a"
                  },
                  "mode": "lines",
                  "showlegend": false,
                  "type": "scatter",
                  "x": [
                    -8.919741575440916,
                    -8.919741575440916,
                    -8.419741575440916,
                    -7.919741575440917
                  ],
                  "y": [
                    1.1247095139057368,
                    1.1247095139057368,
                    -0.4765800824015668,
                    -0.4765800824015668
                  ]
                },
                {
                  "legendgroup": "lines",
                  "line": {
                    "color": "#aaff4d"
                  },
                  "mode": "lines",
                  "showlegend": false,
                  "type": "scatter",
                  "x": [
                    -8.919741575440916,
                    -4.982325600590896,
                    -4.482325600590896,
                    -3.982325600590895
                  ],
                  "y": [
                    8.238934003636532,
                    8.238934003636532,
                    2.420098476173975,
                    2.420098476173975
                  ]
                },
                {
                  "legendgroup": "lines",
                  "line": {
                    "color": "#d7ff1f"
                  },
                  "mode": "lines",
                  "showlegend": false,
                  "type": "scatter",
                  "x": [
                    9.780857123682836,
                    8.514171209654487,
                    8.014171209654487,
                    7.514171209654487
                  ],
                  "y": [
                    -0.6538466085269619,
                    -0.6538466085269619,
                    -0.3256833225017228,
                    -0.3256833225017228
                  ]
                },
                {
                  "legendgroup": "lines",
                  "line": {
                    "color": "#ffe600"
                  },
                  "mode": "lines",
                  "showlegend": false,
                  "type": "scatter",
                  "x": [
                    -8.919741575440916,
                    -2.9376200484455834,
                    -2.4376200484455834,
                    -1.9376200484455832
                  ],
                  "y": [
                    13.574602370934626,
                    13.574602370934626,
                    3.2971048038742765,
                    3.2971048038742765
                  ]
                },
                {
                  "legendgroup": "lines",
                  "line": {
                    "color": "#ffb200"
                  },
                  "mode": "lines",
                  "showlegend": false,
                  "type": "scatter",
                  "x": [
                    -8.919741575440916,
                    -6.122262037770993,
                    -5.622262037770993,
                    -5.122262037770993
                  ],
                  "y": [
                    6.460377881203831,
                    6.460377881203831,
                    1.5951881340567033,
                    1.5951881340567033
                  ]
                },
                {
                  "legendgroup": "lines",
                  "line": {
                    "color": "#ff7a00"
                  },
                  "mode": "lines",
                  "showlegend": false,
                  "type": "scatter",
                  "x": [
                    -8.919741575440916,
                    -5.883768007077495,
                    -5.383768007077495,
                    -4.883768007077495
                  ],
                  "y": [
                    2.9032656363384337,
                    2.9032656363384337,
                    -0.761537281807944,
                    -0.761537281807944
                  ]
                },
                {
                  "legendgroup": "lines",
                  "line": {
                    "color": "#ff4700"
                  },
                  "mode": "lines",
                  "showlegend": false,
                  "type": "scatter",
                  "x": [
                    9.780857123682836,
                    2.4494927769264194,
                    1.9494927769264192,
                    1.4494927769264192
                  ],
                  "y": [
                    -14.88229558798855,
                    -14.88229558798855,
                    -4.960765195996183,
                    -4.960765195996183
                  ]
                },
                {
                  "legendgroup": "lines",
                  "line": {
                    "color": "#ff1300"
                  },
                  "mode": "lines",
                  "showlegend": false,
                  "type": "scatter",
                  "x": [
                    9.780857123682836,
                    5.539421832973509,
                    5.039421832973509,
                    4.539421832973509
                  ],
                  "y": [
                    -5.989514975825058,
                    -5.989514975825058,
                    -2.2658528113358454,
                    -2.2658528113358454
                  ]
                },
                {
                  "legendgroup": "lines",
                  "line": {
                    "color": "#bf0000"
                  },
                  "mode": "lines",
                  "showlegend": false,
                  "type": "scatter",
                  "x": [
                    9.780857123682836,
                    3.9541396110620015,
                    3.4541396110620015,
                    2.9541396110620015
                  ],
                  "y": [
                    8.238934003636532,
                    8.238934003636532,
                    1.485041187210908,
                    1.485041187210908
                  ]
                },
                {
                  "legendgroup": "lines",
                  "line": {
                    "color": "#800000"
                  },
                  "mode": "lines",
                  "showlegend": false,
                  "type": "scatter",
                  "x": [
                    -8.919741575440916,
                    -1.3349977477769863,
                    -0.8349977477769863,
                    -0.3349977477769863
                  ],
                  "y": [
                    -13.10373946555585,
                    -13.10373946555585,
                    -3.274682335371596,
                    -3.274682335371596
                  ]
                }
              ],
              "layout": {
                "annotations": [
                  {
                    "bgcolor": "#e6e6f2",
                    "bordercolor": "#000080",
                    "borderpad": 2,
                    "font": {
                      "color": "black"
                    },
                    "showarrow": false,
                    "text": "不必说碧绿的菜畦，光...从后窍喷出一阵烟雾。",
                    "x": 9.780857123682836,
                    "xanchor": "left",
                    "xref": "x",
                    "y": 2.9032656363384337,
                    "yanchor": "middle",
                    "yref": "y"
                  },
                  {
                    "bgcolor": "#e6e6f9",
                    "bordercolor": "#0000bf",
                    "borderpad": 2,
                    "font": {
                      "color": "black"
                    },
                    "showarrow": false,
                    "text": "我说道，“爸爸，你走...他不肯，只好让他去。",
                    "x": 9.780857123682836,
                    "xanchor": "left",
                    "xref": "x",
                    "y": -11.325183343123152,
                    "yanchor": "middle",
                    "yref": "y"
                  },
                  {
                    "bgcolor": "#e6e6ff",
                    "bordercolor": "#0000ff",
                    "borderpad": 2,
                    "font": {
                      "color": "black"
                    },
                    "showarrow": false,
                    "text": "皇宫的侍臣和丞相府的...方，获得更好的效果。",
                    "x": 9.780857123682836,
                    "xanchor": "left",
                    "xref": "x",
                    "y": 13.574602370934626,
                    "yanchor": "middle",
                    "yref": "y"
                  },
                  {
                    "bgcolor": "#e6eaff",
                    "bordercolor": "#0028ff",
                    "borderpad": 2,
                    "font": {
                      "color": "black"
                    },
                    "showarrow": false,
                    "text": "这本书以前经常被墨大...一直默默自行参悟着。",
                    "x": 9.780857123682836,
                    "xanchor": "left",
                    "xref": "x",
                    "y": 10.017490126069228,
                    "yanchor": "middle",
                    "yref": "y"
                  },
                  {
                    "bgcolor": "#e6efff",
                    "bordercolor": "#0060ff",
                    "borderpad": 2,
                    "font": {
                      "color": "black"
                    },
                    "showarrow": false,
                    "text": "这就是众人此时关注的...值选手）也不逞多让。",
                    "x": -8.919741575440916,
                    "xanchor": "right",
                    "xref": "x",
                    "y": 17.13171461580002,
                    "yanchor": "middle",
                    "yref": "y"
                  },
                  {
                    "bgcolor": "#e6f5ff",
                    "bordercolor": "#009cff",
                    "borderpad": 2,
                    "font": {
                      "color": "black"
                    },
                    "showarrow": false,
                    "text": "鲁家现在才吃完晚饭，...背，望着鲁妈打着噎。",
                    "x": 9.780857123682836,
                    "xanchor": "left",
                    "xref": "x",
                    "y": -2.4324027309596605,
                    "yanchor": "middle",
                    "yref": "y"
                  },
                  {
                    "bgcolor": "#e6fbff",
                    "bordercolor": "#00d4ff",
                    "borderpad": 2,
                    "font": {
                      "color": "black"
                    },
                    "showarrow": false,
                    "text": "还记得当天旅馆的门牌...还燃亮那份微温的便当",
                    "x": 9.780857123682836,
                    "xanchor": "left",
                    "xref": "x",
                    "y": -7.768071098257756,
                    "yanchor": "middle",
                    "yref": "y"
                  },
                  {
                    "bgcolor": "#e9fffb",
                    "bordercolor": "#1fffd7",
                    "borderpad": 2,
                    "font": {
                      "color": "black"
                    },
                    "showarrow": false,
                    "text": "他不羁的脸像天色将晚...漫长的告别是青春盛宴",
                    "x": -8.919741575440916,
                    "xanchor": "right",
                    "xref": "x",
                    "y": -11.325183343123152,
                    "yanchor": "middle",
                    "yref": "y"
                  },
                  {
                    "bgcolor": "#edfff7",
                    "bordercolor": "#4dffaa",
                    "borderpad": 2,
                    "font": {
                      "color": "black"
                    },
                    "showarrow": false,
                    "text": "就算天空再深看不出裂...悲剧重演我的命中命中",
                    "x": -8.919741575440916,
                    "xanchor": "right",
                    "xref": "x",
                    "y": -5.989514975825058,
                    "yanchor": "middle",
                    "yref": "y"
                  },
                  {
                    "bgcolor": "#f2fff2",
                    "bordercolor": "#7dff7a",
                    "borderpad": 2,
                    "font": {
                      "color": "black"
                    },
                    "showarrow": false,
                    "text": "还没好好的感受 雪花...学会珍惜 天长和地久",
                    "x": -8.919741575440916,
                    "xanchor": "right",
                    "xref": "x",
                    "y": -0.6538466085269619,
                    "yanchor": "middle",
                    "yref": "y"
                  },
                  {
                    "bgcolor": "#f7ffed",
                    "bordercolor": "#aaff4d",
                    "borderpad": 2,
                    "font": {
                      "color": "black"
                    },
                    "showarrow": false,
                    "text": "想走出你控制的领域 ...备 也没有后路可以退",
                    "x": -8.919741575440916,
                    "xanchor": "right",
                    "xref": "x",
                    "y": 10.017490126069228,
                    "yanchor": "middle",
                    "yref": "y"
                  },
                  {
                    "bgcolor": "#fbffe9",
                    "bordercolor": "#d7ff1f",
                    "borderpad": 2,
                    "font": {
                      "color": "black"
                    },
                    "showarrow": false,
                    "text": "沙漠之中怎么会有泥鳅...敌对野牛 在远方决斗",
                    "x": 9.780857123682836,
                    "xanchor": "left",
                    "xref": "x",
                    "y": 1.1247095139057368,
                    "yanchor": "middle",
                    "yref": "y"
                  },
                  {
                    "bgcolor": "#fffde6",
                    "bordercolor": "#ffe600",
                    "borderpad": 2,
                    "font": {
                      "color": "black"
                    },
                    "showarrow": false,
                    "text": "有什么不妥 有话就直...进球 单手过人运球　",
                    "x": -8.919741575440916,
                    "xanchor": "right",
                    "xref": "x",
                    "y": 15.353158493367323,
                    "yanchor": "middle",
                    "yref": "y"
                  },
                  {
                    "bgcolor": "#fff7e6",
                    "bordercolor": "#ffb200",
                    "borderpad": 2,
                    "font": {
                      "color": "black"
                    },
                    "showarrow": false,
                    "text": "是雨是风 还是彩虹 ... 穿梭时间的画面的钟",
                    "x": -8.919741575440916,
                    "xanchor": "right",
                    "xref": "x",
                    "y": 4.681821758771134,
                    "yanchor": "middle",
                    "yref": "y"
                  },
                  {
                    "bgcolor": "#fff2e6",
                    "bordercolor": "#ff7a00",
                    "borderpad": 2,
                    "font": {
                      "color": "black"
                    },
                    "showarrow": false,
                    "text": "难过 是因为闷了很久...脑袋有问题 随便说说",
                    "x": -8.919741575440916,
                    "xanchor": "right",
                    "xref": "x",
                    "y": -7.768071098257756,
                    "yanchor": "middle",
                    "yref": "y"
                  },
                  {
                    "bgcolor": "#ffede6",
                    "bordercolor": "#ff4700",
                    "borderpad": 2,
                    "font": {
                      "color": "black"
                    },
                    "showarrow": false,
                    "text": "我听说通常在战争后就...为什么我爸爸 那么凶",
                    "x": 9.780857123682836,
                    "xanchor": "left",
                    "xref": "x",
                    "y": -13.10373946555585,
                    "yanchor": "middle",
                    "yref": "y"
                  },
                  {
                    "bgcolor": "#ffe7e6",
                    "bordercolor": "#ff1300",
                    "borderpad": 2,
                    "font": {
                      "color": "black"
                    },
                    "showarrow": false,
                    "text": "泛黄的春联还残留在墙...姥姥当年酿的豆瓣酱。",
                    "x": 9.780857123682836,
                    "xanchor": "left",
                    "xref": "x",
                    "y": -4.210958853392359,
                    "yanchor": "middle",
                    "yref": "y"
                  },
                  {
                    "bgcolor": "#f9e6e6",
                    "bordercolor": "#bf0000",
                    "borderpad": 2,
                    "font": {
                      "color": "black"
                    },
                    "showarrow": false,
                    "text": "今天是外婆生日 我换...失去了爱情只盼望亲情",
                    "x": 9.780857123682836,
                    "xanchor": "left",
                    "xref": "x",
                    "y": -9.546627220690453,
                    "yanchor": "middle",
                    "yref": "y"
                  },
                  {
                    "bgcolor": "#f2e6e6",
                    "bordercolor": "#800000",
                    "borderpad": 2,
                    "font": {
                      "color": "black"
                    },
                    "showarrow": false,
                    "text": "小朋友，你是否有很多...就会开始懂得这段话。",
                    "x": -8.919741575440916,
                    "xanchor": "right",
                    "xref": "x",
                    "y": -14.88229558798855,
                    "yanchor": "middle",
                    "yref": "y"
                  },
                  {
                    "bgcolor": "#e6e6f2",
                    "bordercolor": "#000080",
                    "borderpad": 2,
                    "font": {
                      "color": "black"
                    },
                    "showarrow": false,
                    "text": "何首乌藤和木莲藤缠络...味都比桑椹要好得远。",
                    "x": 9.780857123682836,
                    "xanchor": "left",
                    "xref": "x",
                    "y": 4.681821758771134,
                    "yanchor": "middle",
                    "yref": "y"
                  },
                  {
                    "bgcolor": "#e6e6f9",
                    "bordercolor": "#0000bf",
                    "borderpad": 2,
                    "font": {
                      "color": "black"
                    },
                    "showarrow": false,
                    "text": "我看见他戴着黑布小帽...的泪很快地流下来了。",
                    "x": -8.919741575440916,
                    "xanchor": "right",
                    "xref": "x",
                    "y": 11.796046248501929,
                    "yanchor": "middle",
                    "yref": "y"
                  },
                  {
                    "bgcolor": "#e6e6ff",
                    "bordercolor": "#0000ff",
                    "borderpad": 2,
                    "font": {
                      "color": "black"
                    },
                    "showarrow": false,
                    "text": "将军向宠，性格和善，...的兴隆就指日可待了。",
                    "x": 9.780857123682836,
                    "xanchor": "left",
                    "xref": "x",
                    "y": 15.353158493367323,
                    "yanchor": "middle",
                    "yref": "y"
                  },
                  {
                    "bgcolor": "#e6eaff",
                    "bordercolor": "#0028ff",
                    "borderpad": 2,
                    "font": {
                      "color": "black"
                    },
                    "showarrow": false,
                    "text": "此卷秘籍是在暗格内和...个长生不死的神仙呢！",
                    "x": 9.780857123682836,
                    "xanchor": "left",
                    "xref": "x",
                    "y": 11.796046248501929,
                    "yanchor": "middle",
                    "yref": "y"
                  },
                  {
                    "bgcolor": "#e6efff",
                    "bordercolor": "#0060ff",
                    "borderpad": 2,
                    "font": {
                      "color": "black"
                    },
                    "showarrow": false,
                    "text": "本赛季孙翔率领实力平...：战斗法师一叶之秋。",
                    "x": 9.780857123682836,
                    "xanchor": "left",
                    "xref": "x",
                    "y": 17.13171461580002,
                    "yanchor": "middle",
                    "yref": "y"
                  },
                  {
                    "bgcolor": "#e6f5ff",
                    "bordercolor": "#009cff",
                    "borderpad": 2,
                    "font": {
                      "color": "black"
                    },
                    "showarrow": false,
                    "text": "他的赤脚忽然放在椅子...闲话，有青蛙的叫声。",
                    "x": 9.780857123682836,
                    "xanchor": "left",
                    "xref": "x",
                    "y": 6.460377881203831,
                    "yanchor": "middle",
                    "yref": "y"
                  },
                  {
                    "bgcolor": "#e6fbff",
                    "bordercolor": "#00d4ff",
                    "borderpad": 2,
                    "font": {
                      "color": "black"
                    },
                    "showarrow": false,
                    "text": "剪影的你轮廓太好看 ...要决心忘记我便记不起",
                    "x": -8.919741575440916,
                    "xanchor": "right",
                    "xref": "x",
                    "y": -4.210958853392359,
                    "yanchor": "middle",
                    "yref": "y"
                  },
                  {
                    "bgcolor": "#e9fffb",
                    "bordercolor": "#1fffd7",
                    "borderpad": 2,
                    "font": {
                      "color": "black"
                    },
                    "showarrow": false,
                    "text": "我冬夜的手像滚烫的誓...骄纵的心性已烟消云散",
                    "x": -8.919741575440916,
                    "xanchor": "right",
                    "xref": "x",
                    "y": -9.546627220690453,
                    "yanchor": "middle",
                    "yref": "y"
                  },
                  {
                    "bgcolor": "#edfff7",
                    "bordercolor": "#4dffaa",
                    "borderpad": 2,
                    "font": {
                      "color": "black"
                    },
                    "showarrow": false,
                    "text": "越美丽的东西 我越不...然后天空又再涌起密云",
                    "x": -8.919741575440916,
                    "xanchor": "right",
                    "xref": "x",
                    "y": -2.4324027309596605,
                    "yanchor": "middle",
                    "yref": "y"
                  },
                  {
                    "bgcolor": "#f2fff2",
                    "bordercolor": "#7dff7a",
                    "borderpad": 2,
                    "font": {
                      "color": "black"
                    },
                    "showarrow": false,
                    "text": "有时候 有时候 我会...你会陪我 看细水长流",
                    "x": -8.919741575440916,
                    "xanchor": "right",
                    "xref": "x",
                    "y": 1.1247095139057368,
                    "yanchor": "middle",
                    "yref": "y"
                  },
                  {
                    "bgcolor": "#f7ffed",
                    "bordercolor": "#aaff4d",
                    "borderpad": 2,
                    "font": {
                      "color": "black"
                    },
                    "showarrow": false,
                    "text": "想逃离你布下的陷阱 ...气 也没有逃脱的幸运",
                    "x": -8.919741575440916,
                    "xanchor": "right",
                    "xref": "x",
                    "y": 8.238934003636532,
                    "yanchor": "middle",
                    "yref": "y"
                  },
                  {
                    "bgcolor": "#fbffe9",
                    "bordercolor": "#d7ff1f",
                    "borderpad": 2,
                    "font": {
                      "color": "black"
                    },
                    "showarrow": false,
                    "text": "在一处被废弃的白蚁丘...事都有 包括像猫的狗",
                    "x": 9.780857123682836,
                    "xanchor": "left",
                    "xref": "x",
                    "y": -0.6538466085269619,
                    "yanchor": "middle",
                    "yref": "y"
                  },
                  {
                    "bgcolor": "#fffde6",
                    "bordercolor": "#ffe600",
                    "borderpad": 2,
                    "font": {
                      "color": "black"
                    },
                    "showarrow": false,
                    "text": "篮下禁区游走 漂亮的...你这种队友 瞎透了我",
                    "x": -8.919741575440916,
                    "xanchor": "right",
                    "xref": "x",
                    "y": 13.574602370934626,
                    "yanchor": "middle",
                    "yref": "y"
                  },
                  {
                    "bgcolor": "#fff7e6",
                    "bordercolor": "#ffb200",
                    "borderpad": 2,
                    "font": {
                      "color": "black"
                    },
                    "showarrow": false,
                    "text": "从反方向 开始移动 ...纵容 脸上汹涌 失控",
                    "x": -8.919741575440916,
                    "xanchor": "right",
                    "xref": "x",
                    "y": 6.460377881203831,
                    "yanchor": "middle",
                    "yref": "y"
                  },
                  {
                    "bgcolor": "#fff2e6",
                    "bordercolor": "#ff7a00",
                    "borderpad": 2,
                    "font": {
                      "color": "black"
                    },
                    "showarrow": false,
                    "text": "其实我早己经猜透看透... 却又再考倒我 说散",
                    "x": -8.919741575440916,
                    "xanchor": "right",
                    "xref": "x",
                    "y": 2.9032656363384337,
                    "yanchor": "middle",
                    "yref": "y"
                  },
                  {
                    "bgcolor": "#ffede6",
                    "bordercolor": "#ff4700",
                    "borderpad": 2,
                    "font": {
                      "color": "black"
                    },
                    "showarrow": false,
                    "text": "如果真的我有一只翅膀...呢 妈跟我都没有错亏",
                    "x": 9.780857123682836,
                    "xanchor": "left",
                    "xref": "x",
                    "y": -14.88229558798855,
                    "yanchor": "middle",
                    "yref": "y"
                  },
                  {
                    "bgcolor": "#ffe7e6",
                    "bordercolor": "#ff1300",
                    "borderpad": 2,
                    "font": {
                      "color": "black"
                    },
                    "showarrow": false,
                    "text": "我对着黑白照片开始想...墙黑瓦的淡淡的忧伤。",
                    "x": 9.780857123682836,
                    "xanchor": "left",
                    "xref": "x",
                    "y": -5.989514975825058,
                    "yanchor": "middle",
                    "yref": "y"
                  },
                  {
                    "bgcolor": "#f9e6e6",
                    "bordercolor": "#bf0000",
                    "borderpad": 2,
                    "font": {
                      "color": "black"
                    },
                    "showarrow": false,
                    "text": "弥补回应 大人们以为...的无奈 无法变成期待",
                    "x": 9.780857123682836,
                    "xanchor": "left",
                    "xref": "x",
                    "y": 8.238934003636532,
                    "yanchor": "middle",
                    "yref": "y"
                  },
                  {
                    "bgcolor": "#f2e6e6",
                    "bordercolor": "#800000",
                    "borderpad": 2,
                    "font": {
                      "color": "black"
                    },
                    "showarrow": false,
                    "text": "长大后，我开始明白为...，把手牵着一起梦游。",
                    "x": -8.919741575440916,
                    "xanchor": "right",
                    "xref": "x",
                    "y": -13.10373946555585,
                    "yanchor": "middle",
                    "yref": "y"
                  }
                ],
                "autosize": false,
                "height": 800,
                "template": {
                  "data": {
                    "bar": [
                      {
                        "error_x": {
                          "color": "#2a3f5f"
                        },
                        "error_y": {
                          "color": "#2a3f5f"
                        },
                        "marker": {
                          "line": {
                            "color": "#E5ECF6",
                            "width": 0.5
                          },
                          "pattern": {
                            "fillmode": "overlay",
                            "size": 10,
                            "solidity": 0.2
                          }
                        },
                        "type": "bar"
                      }
                    ],
                    "barpolar": [
                      {
                        "marker": {
                          "line": {
                            "color": "#E5ECF6",
                            "width": 0.5
                          },
                          "pattern": {
                            "fillmode": "overlay",
                            "size": 10,
                            "solidity": 0.2
                          }
                        },
                        "type": "barpolar"
                      }
                    ],
                    "carpet": [
                      {
                        "aaxis": {
                          "endlinecolor": "#2a3f5f",
                          "gridcolor": "white",
                          "linecolor": "white",
                          "minorgridcolor": "white",
                          "startlinecolor": "#2a3f5f"
                        },
                        "baxis": {
                          "endlinecolor": "#2a3f5f",
                          "gridcolor": "white",
                          "linecolor": "white",
                          "minorgridcolor": "white",
                          "startlinecolor": "#2a3f5f"
                        },
                        "type": "carpet"
                      }
                    ],
                    "choropleth": [
                      {
                        "colorbar": {
                          "outlinewidth": 0,
                          "ticks": ""
                        },
                        "type": "choropleth"
                      }
                    ],
                    "contour": [
                      {
                        "colorbar": {
                          "outlinewidth": 0,
                          "ticks": ""
                        },
                        "colorscale": [
                          [
                            0,
                            "#0d0887"
                          ],
                          [
                            0.1111111111111111,
                            "#46039f"
                          ],
                          [
                            0.2222222222222222,
                            "#7201a8"
                          ],
                          [
                            0.3333333333333333,
                            "#9c179e"
                          ],
                          [
                            0.4444444444444444,
                            "#bd3786"
                          ],
                          [
                            0.5555555555555556,
                            "#d8576b"
                          ],
                          [
                            0.6666666666666666,
                            "#ed7953"
                          ],
                          [
                            0.7777777777777778,
                            "#fb9f3a"
                          ],
                          [
                            0.8888888888888888,
                            "#fdca26"
                          ],
                          [
                            1,
                            "#f0f921"
                          ]
                        ],
                        "type": "contour"
                      }
                    ],
                    "contourcarpet": [
                      {
                        "colorbar": {
                          "outlinewidth": 0,
                          "ticks": ""
                        },
                        "type": "contourcarpet"
                      }
                    ],
                    "heatmap": [
                      {
                        "colorbar": {
                          "outlinewidth": 0,
                          "ticks": ""
                        },
                        "colorscale": [
                          [
                            0,
                            "#0d0887"
                          ],
                          [
                            0.1111111111111111,
                            "#46039f"
                          ],
                          [
                            0.2222222222222222,
                            "#7201a8"
                          ],
                          [
                            0.3333333333333333,
                            "#9c179e"
                          ],
                          [
                            0.4444444444444444,
                            "#bd3786"
                          ],
                          [
                            0.5555555555555556,
                            "#d8576b"
                          ],
                          [
                            0.6666666666666666,
                            "#ed7953"
                          ],
                          [
                            0.7777777777777778,
                            "#fb9f3a"
                          ],
                          [
                            0.8888888888888888,
                            "#fdca26"
                          ],
                          [
                            1,
                            "#f0f921"
                          ]
                        ],
                        "type": "heatmap"
                      }
                    ],
                    "heatmapgl": [
                      {
                        "colorbar": {
                          "outlinewidth": 0,
                          "ticks": ""
                        },
                        "colorscale": [
                          [
                            0,
                            "#0d0887"
                          ],
                          [
                            0.1111111111111111,
                            "#46039f"
                          ],
                          [
                            0.2222222222222222,
                            "#7201a8"
                          ],
                          [
                            0.3333333333333333,
                            "#9c179e"
                          ],
                          [
                            0.4444444444444444,
                            "#bd3786"
                          ],
                          [
                            0.5555555555555556,
                            "#d8576b"
                          ],
                          [
                            0.6666666666666666,
                            "#ed7953"
                          ],
                          [
                            0.7777777777777778,
                            "#fb9f3a"
                          ],
                          [
                            0.8888888888888888,
                            "#fdca26"
                          ],
                          [
                            1,
                            "#f0f921"
                          ]
                        ],
                        "type": "heatmapgl"
                      }
                    ],
                    "histogram": [
                      {
                        "marker": {
                          "pattern": {
                            "fillmode": "overlay",
                            "size": 10,
                            "solidity": 0.2
                          }
                        },
                        "type": "histogram"
                      }
                    ],
                    "histogram2d": [
                      {
                        "colorbar": {
                          "outlinewidth": 0,
                          "ticks": ""
                        },
                        "colorscale": [
                          [
                            0,
                            "#0d0887"
                          ],
                          [
                            0.1111111111111111,
                            "#46039f"
                          ],
                          [
                            0.2222222222222222,
                            "#7201a8"
                          ],
                          [
                            0.3333333333333333,
                            "#9c179e"
                          ],
                          [
                            0.4444444444444444,
                            "#bd3786"
                          ],
                          [
                            0.5555555555555556,
                            "#d8576b"
                          ],
                          [
                            0.6666666666666666,
                            "#ed7953"
                          ],
                          [
                            0.7777777777777778,
                            "#fb9f3a"
                          ],
                          [
                            0.8888888888888888,
                            "#fdca26"
                          ],
                          [
                            1,
                            "#f0f921"
                          ]
                        ],
                        "type": "histogram2d"
                      }
                    ],
                    "histogram2dcontour": [
                      {
                        "colorbar": {
                          "outlinewidth": 0,
                          "ticks": ""
                        },
                        "colorscale": [
                          [
                            0,
                            "#0d0887"
                          ],
                          [
                            0.1111111111111111,
                            "#46039f"
                          ],
                          [
                            0.2222222222222222,
                            "#7201a8"
                          ],
                          [
                            0.3333333333333333,
                            "#9c179e"
                          ],
                          [
                            0.4444444444444444,
                            "#bd3786"
                          ],
                          [
                            0.5555555555555556,
                            "#d8576b"
                          ],
                          [
                            0.6666666666666666,
                            "#ed7953"
                          ],
                          [
                            0.7777777777777778,
                            "#fb9f3a"
                          ],
                          [
                            0.8888888888888888,
                            "#fdca26"
                          ],
                          [
                            1,
                            "#f0f921"
                          ]
                        ],
                        "type": "histogram2dcontour"
                      }
                    ],
                    "mesh3d": [
                      {
                        "colorbar": {
                          "outlinewidth": 0,
                          "ticks": ""
                        },
                        "type": "mesh3d"
                      }
                    ],
                    "parcoords": [
                      {
                        "line": {
                          "colorbar": {
                            "outlinewidth": 0,
                            "ticks": ""
                          }
                        },
                        "type": "parcoords"
                      }
                    ],
                    "pie": [
                      {
                        "automargin": true,
                        "type": "pie"
                      }
                    ],
                    "scatter": [
                      {
                        "fillpattern": {
                          "fillmode": "overlay",
                          "size": 10,
                          "solidity": 0.2
                        },
                        "type": "scatter"
                      }
                    ],
                    "scatter3d": [
                      {
                        "line": {
                          "colorbar": {
                            "outlinewidth": 0,
                            "ticks": ""
                          }
                        },
                        "marker": {
                          "colorbar": {
                            "outlinewidth": 0,
                            "ticks": ""
                          }
                        },
                        "type": "scatter3d"
                      }
                    ],
                    "scattercarpet": [
                      {
                        "marker": {
                          "colorbar": {
                            "outlinewidth": 0,
                            "ticks": ""
                          }
                        },
                        "type": "scattercarpet"
                      }
                    ],
                    "scattergeo": [
                      {
                        "marker": {
                          "colorbar": {
                            "outlinewidth": 0,
                            "ticks": ""
                          }
                        },
                        "type": "scattergeo"
                      }
                    ],
                    "scattergl": [
                      {
                        "marker": {
                          "colorbar": {
                            "outlinewidth": 0,
                            "ticks": ""
                          }
                        },
                        "type": "scattergl"
                      }
                    ],
                    "scattermapbox": [
                      {
                        "marker": {
                          "colorbar": {
                            "outlinewidth": 0,
                            "ticks": ""
                          }
                        },
                        "type": "scattermapbox"
                      }
                    ],
                    "scatterpolar": [
                      {
                        "marker": {
                          "colorbar": {
                            "outlinewidth": 0,
                            "ticks": ""
                          }
                        },
                        "type": "scatterpolar"
                      }
                    ],
                    "scatterpolargl": [
                      {
                        "marker": {
                          "colorbar": {
                            "outlinewidth": 0,
                            "ticks": ""
                          }
                        },
                        "type": "scatterpolargl"
                      }
                    ],
                    "scatterternary": [
                      {
                        "marker": {
                          "colorbar": {
                            "outlinewidth": 0,
                            "ticks": ""
                          }
                        },
                        "type": "scatterternary"
                      }
                    ],
                    "surface": [
                      {
                        "colorbar": {
                          "outlinewidth": 0,
                          "ticks": ""
                        },
                        "colorscale": [
                          [
                            0,
                            "#0d0887"
                          ],
                          [
                            0.1111111111111111,
                            "#46039f"
                          ],
                          [
                            0.2222222222222222,
                            "#7201a8"
                          ],
                          [
                            0.3333333333333333,
                            "#9c179e"
                          ],
                          [
                            0.4444444444444444,
                            "#bd3786"
                          ],
                          [
                            0.5555555555555556,
                            "#d8576b"
                          ],
                          [
                            0.6666666666666666,
                            "#ed7953"
                          ],
                          [
                            0.7777777777777778,
                            "#fb9f3a"
                          ],
                          [
                            0.8888888888888888,
                            "#fdca26"
                          ],
                          [
                            1,
                            "#f0f921"
                          ]
                        ],
                        "type": "surface"
                      }
                    ],
                    "table": [
                      {
                        "cells": {
                          "fill": {
                            "color": "#EBF0F8"
                          },
                          "line": {
                            "color": "white"
                          }
                        },
                        "header": {
                          "fill": {
                            "color": "#C8D4E3"
                          },
                          "line": {
                            "color": "white"
                          }
                        },
                        "type": "table"
                      }
                    ]
                  },
                  "layout": {
                    "annotationdefaults": {
                      "arrowcolor": "#2a3f5f",
                      "arrowhead": 0,
                      "arrowwidth": 1
                    },
                    "autotypenumbers": "strict",
                    "coloraxis": {
                      "colorbar": {
                        "outlinewidth": 0,
                        "ticks": ""
                      }
                    },
                    "colorscale": {
                      "diverging": [
                        [
                          0,
                          "#8e0152"
                        ],
                        [
                          0.1,
                          "#c51b7d"
                        ],
                        [
                          0.2,
                          "#de77ae"
                        ],
                        [
                          0.3,
                          "#f1b6da"
                        ],
                        [
                          0.4,
                          "#fde0ef"
                        ],
                        [
                          0.5,
                          "#f7f7f7"
                        ],
                        [
                          0.6,
                          "#e6f5d0"
                        ],
                        [
                          0.7,
                          "#b8e186"
                        ],
                        [
                          0.8,
                          "#7fbc41"
                        ],
                        [
                          0.9,
                          "#4d9221"
                        ],
                        [
                          1,
                          "#276419"
                        ]
                      ],
                      "sequential": [
                        [
                          0,
                          "#0d0887"
                        ],
                        [
                          0.1111111111111111,
                          "#46039f"
                        ],
                        [
                          0.2222222222222222,
                          "#7201a8"
                        ],
                        [
                          0.3333333333333333,
                          "#9c179e"
                        ],
                        [
                          0.4444444444444444,
                          "#bd3786"
                        ],
                        [
                          0.5555555555555556,
                          "#d8576b"
                        ],
                        [
                          0.6666666666666666,
                          "#ed7953"
                        ],
                        [
                          0.7777777777777778,
                          "#fb9f3a"
                        ],
                        [
                          0.8888888888888888,
                          "#fdca26"
                        ],
                        [
                          1,
                          "#f0f921"
                        ]
                      ],
                      "sequentialminus": [
                        [
                          0,
                          "#0d0887"
                        ],
                        [
                          0.1111111111111111,
                          "#46039f"
                        ],
                        [
                          0.2222222222222222,
                          "#7201a8"
                        ],
                        [
                          0.3333333333333333,
                          "#9c179e"
                        ],
                        [
                          0.4444444444444444,
                          "#bd3786"
                        ],
                        [
                          0.5555555555555556,
                          "#d8576b"
                        ],
                        [
                          0.6666666666666666,
                          "#ed7953"
                        ],
                        [
                          0.7777777777777778,
                          "#fb9f3a"
                        ],
                        [
                          0.8888888888888888,
                          "#fdca26"
                        ],
                        [
                          1,
                          "#f0f921"
                        ]
                      ]
                    },
                    "colorway": [
                      "#636efa",
                      "#EF553B",
                      "#00cc96",
                      "#ab63fa",
                      "#FFA15A",
                      "#19d3f3",
                      "#FF6692",
                      "#B6E880",
                      "#FF97FF",
                      "#FECB52"
                    ],
                    "font": {
                      "color": "#2a3f5f"
                    },
                    "geo": {
                      "bgcolor": "white",
                      "lakecolor": "white",
                      "landcolor": "#E5ECF6",
                      "showlakes": true,
                      "showland": true,
                      "subunitcolor": "white"
                    },
                    "hoverlabel": {
                      "align": "left"
                    },
                    "hovermode": "closest",
                    "mapbox": {
                      "style": "light"
                    },
                    "paper_bgcolor": "white",
                    "plot_bgcolor": "#E5ECF6",
                    "polar": {
                      "angularaxis": {
                        "gridcolor": "white",
                        "linecolor": "white",
                        "ticks": ""
                      },
                      "bgcolor": "#E5ECF6",
                      "radialaxis": {
                        "gridcolor": "white",
                        "linecolor": "white",
                        "ticks": ""
                      }
                    },
                    "scene": {
                      "xaxis": {
                        "backgroundcolor": "#E5ECF6",
                        "gridcolor": "white",
                        "gridwidth": 2,
                        "linecolor": "white",
                        "showbackground": true,
                        "ticks": "",
                        "zerolinecolor": "white"
                      },
                      "yaxis": {
                        "backgroundcolor": "#E5ECF6",
                        "gridcolor": "white",
                        "gridwidth": 2,
                        "linecolor": "white",
                        "showbackground": true,
                        "ticks": "",
                        "zerolinecolor": "white"
                      },
                      "zaxis": {
                        "backgroundcolor": "#E5ECF6",
                        "gridcolor": "white",
                        "gridwidth": 2,
                        "linecolor": "white",
                        "showbackground": true,
                        "ticks": "",
                        "zerolinecolor": "white"
                      }
                    },
                    "shapedefaults": {
                      "line": {
                        "color": "#2a3f5f"
                      }
                    },
                    "ternary": {
                      "aaxis": {
                        "gridcolor": "white",
                        "linecolor": "white",
                        "ticks": ""
                      },
                      "baxis": {
                        "gridcolor": "white",
                        "linecolor": "white",
                        "ticks": ""
                      },
                      "bgcolor": "#E5ECF6",
                      "caxis": {
                        "gridcolor": "white",
                        "linecolor": "white",
                        "ticks": ""
                      }
                    },
                    "title": {
                      "x": 0.05
                    },
                    "xaxis": {
                      "automargin": true,
                      "gridcolor": "white",
                      "linecolor": "white",
                      "ticks": "",
                      "title": {
                        "standoff": 15
                      },
                      "zerolinecolor": "white",
                      "zerolinewidth": 2
                    },
                    "yaxis": {
                      "automargin": true,
                      "gridcolor": "white",
                      "linecolor": "white",
                      "ticks": "",
                      "title": {
                        "standoff": 15
                      },
                      "zerolinecolor": "white",
                      "zerolinewidth": 2
                    }
                  }
                },
                "width": 1500,
                "xaxis": {
                  "tickvals": []
                },
                "yaxis": {
                  "tickvals": []
                }
              }
            }
          },
          "metadata": {},
          "output_type": "display_data"
        }
      ],
      "source": [
        "from lib.tsne import TSNE_Plot\n",
        "\n",
        "merged_list = text_left + text_right\n",
        "label = label + label\n",
        "merged_embed = torch.cat((embeddings_left, embeddings_right), dim=0)\n",
        "\n",
        "# if the data have no labels, you can use the following code to cluster the data\n",
        "tsne_plot = TSNE_Plot(merged_list, merged_embed, label = label)\n",
        "tsne_plot.tsne_plot(n_sentence=40)"
      ]
    },
    {
      "attachments": {},
      "cell_type": "markdown",
      "metadata": {},
      "source": [
        "### T-SNE without labels\n",
        "当语料label没有给定时，算法将自动聚类并绘制T-SNE plot"
      ]
    },
    {
      "cell_type": "code",
      "execution_count": 8,
      "metadata": {},
      "outputs": [
        {
          "data": {
            "application/vnd.plotly.v1+json": {
              "config": {
                "plotlyServerURL": "https://plot.ly"
              },
              "data": [
                {
                  "legendgroup": "lines",
                  "marker": {
                    "color": "#000080",
                    "size": [
                      10,
                      10,
                      10,
                      10,
                      10,
                      10,
                      10,
                      20,
                      10,
                      10,
                      10,
                      10,
                      20,
                      20,
                      10,
                      10,
                      10,
                      10,
                      10,
                      10,
                      20,
                      10,
                      10,
                      20,
                      10,
                      10,
                      10,
                      10,
                      10,
                      10,
                      10,
                      10,
                      10,
                      10,
                      10,
                      10,
                      10,
                      20,
                      10,
                      20,
                      10,
                      10,
                      20,
                      10,
                      10,
                      10,
                      10,
                      10,
                      10,
                      10,
                      10,
                      10,
                      10,
                      10,
                      20,
                      20,
                      10,
                      10,
                      20,
                      10,
                      10,
                      20,
                      10,
                      20,
                      10,
                      20,
                      10,
                      20,
                      20,
                      20,
                      20,
                      10
                    ]
                  },
                  "mode": "markers",
                  "name": "1",
                  "showlegend": true,
                  "type": "scatter",
                  "x": [
                    -10.350363008508673,
                    -9.716576028386996,
                    -9.844061062418968,
                    -14.244713599581717,
                    -11.45426487955257,
                    -12.277622645561538,
                    -13.957279544197611,
                    -7.605707960358769,
                    -13.783005149655146,
                    -14.796005163260054,
                    -8.104635222169618,
                    -7.759821497933461,
                    -15.394250748457647,
                    -10.541702372421978,
                    -11.085653660301562,
                    -12.951413684108886,
                    -12.341055920603647,
                    -9.637363867792383,
                    -9.294502012373131,
                    -10.729591284627306,
                    -8.618046770746513,
                    -10.145863999976953,
                    -10.02035908847818,
                    -13.95245132426916,
                    -12.134094472766341,
                    -8.986278669975219,
                    -10.447983250449933,
                    -14.45220366487743,
                    -9.232872304097157,
                    -10.183893484495412,
                    -14.3830288695114,
                    -11.452520470944734,
                    -14.774885698885715,
                    -10.873276203445839,
                    -8.753485495086828,
                    -10.109822355171671,
                    -9.369516631702846,
                    -9.720234088526597,
                    -13.686383533990927,
                    -13.733022953303259,
                    -11.758578619753747,
                    -11.810551179176894,
                    -9.074456508932382,
                    -10.526951457528861,
                    -9.442228444993125,
                    -11.537758331190737,
                    -9.736914687858372,
                    -12.210651712106129,
                    -13.158532023735916,
                    -10.103444145189428,
                    -12.445511649234149,
                    -11.357647018725586,
                    -8.996393172477722,
                    -13.949808307607054,
                    -14.132302712441822,
                    -14.459783461093906,
                    -11.702835047749431,
                    -9.739087683359953,
                    -9.677592676219422,
                    -12.227627580847305,
                    -14.870847146893889,
                    -11.983017642682789,
                    -11.85695488281373,
                    -8.861412394334472,
                    -10.482630903183074,
                    -14.782350649577488,
                    -13.968777025414191,
                    -13.899598362279468,
                    -11.858564513568878,
                    -8.066350669968521,
                    -13.047283998912777,
                    -13.535884440977256
                  ],
                  "y": [
                    -0.3862952793223116,
                    3.254650188259476,
                    -1.4191021921666418,
                    -3.4272269941522087,
                    0.17583553013691933,
                    1.8756264492753016,
                    3.912950400153853,
                    -2.114081316651579,
                    2.3489132810361495,
                    -1.920759166416738,
                    -1.92170579909521,
                    -0.11127863935100783,
                    -3.5727323579282184,
                    2.6750195870851923,
                    -0.3376535185743508,
                    -3.7115035447716864,
                    -0.022277719077160214,
                    3.595210461349436,
                    2.0332015445768774,
                    4.377807759210138,
                    4.826854930573693,
                    2.4146321077026354,
                    0.3384990567125612,
                    1.334818765271212,
                    3.0046284658430586,
                    4.702013760537196,
                    1.4967440154554323,
                    -2.142694570467406,
                    0.7464120640384412,
                    0.9581209552129867,
                    -4.515595392035515,
                    -1.6187907743252248,
                    -4.3875448373319035,
                    -1.3295303555321307,
                    2.228969506601649,
                    3.4995960365479655,
                    2.8226013321578165,
                    0.013216972538058619,
                    -2.536007428535254,
                    2.435808164381574,
                    2.0918662722092205,
                    1.9542931779548778,
                    3.5453021019560484,
                    0.5152666134152445,
                    -0.9558232386692315,
                    -2.502092854894968,
                    1.800791228142168,
                    -2.5012513805538132,
                    -1.3561617793453675,
                    2.1940603441033746,
                    -2.4350072169632604,
                    0.35977508053076646,
                    0.08078035296649658,
                    -1.0741645872250258,
                    -3.7638340414957563,
                    -3.7757165553680614,
                    -0.34983231023061856,
                    5.32959254557961,
                    2.371183504618668,
                    3.51465345253379,
                    -1.3550360770815815,
                    -0.6157982283923022,
                    4.261429432064381,
                    2.826155389014641,
                    -1.2358076180458786,
                    -3.6767349094730326,
                    3.861076156801522,
                    1.4440737661952179,
                    1.3468312731061272,
                    -2.089200251582475,
                    -3.1635644791155353,
                    -2.764836927294319
                  ]
                },
                {
                  "legendgroup": "lines",
                  "marker": {
                    "color": "#00d4ff",
                    "size": [
                      10,
                      10,
                      10,
                      10,
                      20,
                      10,
                      10,
                      20,
                      10,
                      10,
                      20,
                      10,
                      10,
                      10,
                      10,
                      10,
                      10,
                      10,
                      10,
                      10,
                      10,
                      10,
                      10,
                      10,
                      10,
                      10,
                      10,
                      10,
                      20,
                      10,
                      10,
                      20,
                      10,
                      10,
                      10,
                      10,
                      10
                    ]
                  },
                  "mode": "markers",
                  "name": "3",
                  "showlegend": true,
                  "type": "scatter",
                  "x": [
                    5.620599883720251,
                    6.58096132280907,
                    7.348538847081087,
                    7.722286191168055,
                    8.95015646995224,
                    8.351725805547318,
                    6.295925004785507,
                    7.0203298801883,
                    9.233326081560689,
                    6.596009371261616,
                    8.320567558829076,
                    6.434247372722621,
                    5.803469470346288,
                    4.663186990046095,
                    4.835641473819478,
                    6.368897945387356,
                    8.62426464982851,
                    9.237124708526991,
                    4.845512800768265,
                    6.486904236815973,
                    10.16795463415849,
                    6.62721687088281,
                    6.887267180747763,
                    5.604330038006616,
                    9.342462941432855,
                    7.11425956823457,
                    5.5097256608312275,
                    5.262161349198819,
                    7.640782444913782,
                    8.136389236664582,
                    3.6087058671398795,
                    7.296372100464585,
                    8.159158465190012,
                    6.630021996985812,
                    4.1278839432074905,
                    4.58934675224543,
                    6.7067160769921506
                  ],
                  "y": [
                    2.1403814326692814,
                    -3.2373098284779362,
                    0.7136635484309904,
                    -0.8566214895147802,
                    2.2514225324974397,
                    0.8223086897556151,
                    -1.7977716720492085,
                    3.1031808999693333,
                    -1.0292457527112249,
                    -3.712548817515822,
                    -3.0521359381559194,
                    0.8125460771638287,
                    2.028569588747925,
                    1.6862070406150635,
                    2.828512767496922,
                    -1.6169233902332913,
                    1.0183198887615537,
                    -1.0347887459217475,
                    0.12356709085585846,
                    0.7162491458060908,
                    -2.707230206170722,
                    -3.709918287951144,
                    1.9172812477353605,
                    1.4126467257946458,
                    -1.033722549858334,
                    0.5198137984840363,
                    2.8285992295430793,
                    -0.6348760992960135,
                    2.0689767105856665,
                    -3.2499462354019255,
                    1.1796515690757776,
                    1.2029604377123244,
                    3.375757463468617,
                    2.947021919328195,
                    -0.5440818201937646,
                    3.0836969540552768,
                    0.04740821897953573
                  ]
                },
                {
                  "legendgroup": "lines",
                  "marker": {
                    "color": "#ffe600",
                    "size": [
                      10,
                      10,
                      10,
                      10,
                      10,
                      10,
                      20,
                      10,
                      10,
                      10,
                      20,
                      10,
                      10,
                      10,
                      10,
                      10,
                      10,
                      20,
                      20,
                      10,
                      10,
                      10,
                      10,
                      10,
                      10,
                      10,
                      10,
                      10,
                      10
                    ]
                  },
                  "mode": "markers",
                  "name": "0",
                  "showlegend": true,
                  "type": "scatter",
                  "x": [
                    -1.7100967805237144,
                    -0.7143133020345367,
                    0.6004986754545018,
                    -1.7915563409680777,
                    -1.1159650605812057,
                    -1.6271333811374846,
                    1.7537881995359919,
                    3.724851167449125,
                    4.17677821700443,
                    -1.2792616988467393,
                    4.1535467809078455,
                    -1.4889677152494842,
                    -1.6407740119220229,
                    -1.8735208049101943,
                    3.7211904864691085,
                    0.745651848704974,
                    3.3332138873170707,
                    2.224748756906311,
                    2.187927776292907,
                    3.1600284842193456,
                    1.8510060181044725,
                    3.002949099413994,
                    2.998120148263718,
                    -0.8124578906992935,
                    -1.3790369512163179,
                    5.788218191910284,
                    4.529802662725895,
                    2.5915036423516353,
                    5.603710416331923
                  ],
                  "y": [
                    1.43596856866983,
                    2.2476293798446823,
                    0.26086102748650253,
                    -0.20519559729016948,
                    1.6783982365734782,
                    1.0607231371172197,
                    -1.5477448542354464,
                    -2.6635034386660714,
                    -3.5179387934188533,
                    1.9610330308238089,
                    -0.534760046238093,
                    -0.6038884711249871,
                    1.9180769186632909,
                    -0.2508993495630938,
                    -2.2160228256428667,
                    0.2598690811427477,
                    0.4740895769527155,
                    1.1270817227756103,
                    -0.301591972169736,
                    -2.4131369866062835,
                    1.0007702142946373,
                    -0.278410437057516,
                    -2.3804863897888584,
                    0.07566907548381156,
                    1.3583506628821986,
                    -2.709990086430488,
                    -1.4787778306045147,
                    -0.3062036354682796,
                    -2.38273921040065
                  ]
                },
                {
                  "legendgroup": "lines",
                  "marker": {
                    "color": "#800000",
                    "size": [
                      20,
                      20,
                      10,
                      20,
                      10,
                      10,
                      10,
                      20,
                      10,
                      10,
                      10,
                      20,
                      10,
                      10,
                      10,
                      20,
                      10,
                      10,
                      10,
                      10,
                      10,
                      10,
                      20,
                      20,
                      10,
                      10,
                      20,
                      10,
                      10,
                      10,
                      20,
                      10,
                      20,
                      10,
                      10,
                      10,
                      20,
                      20
                    ]
                  },
                  "mode": "markers",
                  "name": "2",
                  "showlegend": true,
                  "type": "scatter",
                  "x": [
                    15.188695276428307,
                    14.074519992033672,
                    15.068240789696597,
                    14.904040811238097,
                    13.820435407945412,
                    12.28485207643066,
                    15.549901345352072,
                    13.848893525496738,
                    14.28484181477327,
                    13.154979939954034,
                    14.094965208276244,
                    14.910276084881556,
                    13.96090795805762,
                    16.14043707559196,
                    13.807819737541575,
                    14.740705482413274,
                    12.217047121114081,
                    13.475581168841861,
                    15.243005064265962,
                    15.263785830535662,
                    15.412525367457432,
                    14.734725102570062,
                    11.976294595614192,
                    12.52193860255455,
                    14.07226870854065,
                    13.089834596505142,
                    12.029330034401264,
                    13.803351285009747,
                    13.011251179720054,
                    13.902920886263137,
                    14.625511307642753,
                    14.499594413812805,
                    14.582660198616372,
                    11.90410569197307,
                    14.41847111431854,
                    15.476349490014044,
                    13.56593608805546,
                    13.036259606128214
                  ],
                  "y": [
                    1.0190756506669374,
                    -0.3761795115929663,
                    0.2097519986265338,
                    -0.2714760979528542,
                    2.1228235130294375,
                    1.750314353223722,
                    0.6463244132191744,
                    0.1399558569539129,
                    -1.192957916998863,
                    0.8722617002498823,
                    0.5911207908592473,
                    -0.8166992360968494,
                    -2.995573738374784,
                    -1.5656292708710218,
                    -0.24071895868853319,
                    -2.5553038756946123,
                    0.0641097429742366,
                    -1.0024988115292721,
                    -2.474060937283916,
                    -0.7769157153916508,
                    -0.4137342096934141,
                    -0.5866164280406246,
                    -3.209934171980028,
                    -1.1272092730312149,
                    -1.8741869546163148,
                    -3.0709144747127453,
                    0.30066850807123335,
                    0.4269456716637711,
                    -2.280106761817673,
                    -2.8301015492605366,
                    -2.020536919567132,
                    -1.6330071227036336,
                    0.930296837737102,
                    1.2273863905757247,
                    1.6264574830912704,
                    -2.0776556046649084,
                    -0.2866107881917769,
                    -1.4073371186560808
                  ]
                },
                {
                  "legendgroup": "lines",
                  "line": {
                    "color": "#00d4ff"
                  },
                  "mode": "lines",
                  "showlegend": false,
                  "type": "scatter",
                  "x": [
                    18.14043707559196,
                    9.95015646995224,
                    9.45015646995224,
                    8.95015646995224
                  ],
                  "y": [
                    9.770764202455592,
                    9.770764202455592,
                    2.2514225324974397,
                    2.2514225324974397
                  ]
                },
                {
                  "legendgroup": "lines",
                  "line": {
                    "color": "#000080"
                  },
                  "mode": "lines",
                  "showlegend": false,
                  "type": "scatter",
                  "x": [
                    -16.394250748457647,
                    -8.60570796035877,
                    -8.10570796035877,
                    -7.605707960358769
                  ],
                  "y": [
                    -11.992282817535738,
                    -11.992282817535738,
                    -2.114081316651579,
                    -2.114081316651579
                  ]
                },
                {
                  "legendgroup": "lines",
                  "line": {
                    "color": "#800000"
                  },
                  "mode": "lines",
                  "showlegend": false,
                  "type": "scatter",
                  "x": [
                    18.14043707559196,
                    16.188695276428305,
                    15.688695276428307,
                    15.188695276428307
                  ],
                  "y": [
                    3.5527507681723556,
                    3.5527507681723556,
                    1.0190756506669374,
                    1.0190756506669374
                  ]
                },
                {
                  "legendgroup": "lines",
                  "line": {
                    "color": "#800000"
                  },
                  "mode": "lines",
                  "showlegend": false,
                  "type": "scatter",
                  "x": [
                    18.14043707559196,
                    15.074519992033672,
                    14.574519992033672,
                    14.074519992033672
                  ],
                  "y": [
                    -1.1107593075400732,
                    -1.1107593075400732,
                    -0.3761795115929663,
                    -0.3761795115929663
                  ]
                },
                {
                  "legendgroup": "lines",
                  "line": {
                    "color": "#000080"
                  },
                  "mode": "lines",
                  "showlegend": false,
                  "type": "scatter",
                  "x": [
                    -16.394250748457647,
                    -16.394250748457647,
                    -15.894250748457647,
                    -15.394250748457647
                  ],
                  "y": [
                    -2.6652626661108823,
                    -2.6652626661108823,
                    -3.5727323579282184,
                    -3.5727323579282184
                  ]
                },
                {
                  "legendgroup": "lines",
                  "line": {
                    "color": "#00d4ff"
                  },
                  "mode": "lines",
                  "showlegend": false,
                  "type": "scatter",
                  "x": [
                    18.14043707559196,
                    8.0203298801883,
                    7.5203298801883,
                    7.0203298801883
                  ],
                  "y": [
                    14.434274278168019,
                    14.434274278168019,
                    3.1031808999693333,
                    3.1031808999693333
                  ]
                },
                {
                  "legendgroup": "lines",
                  "line": {
                    "color": "#000080"
                  },
                  "mode": "lines",
                  "showlegend": false,
                  "type": "scatter",
                  "x": [
                    -16.394250748457647,
                    -11.541702372421978,
                    -11.041702372421978,
                    -10.541702372421978
                  ],
                  "y": [
                    8.216260843884783,
                    8.216260843884783,
                    2.6750195870851923,
                    2.6750195870851923
                  ]
                },
                {
                  "legendgroup": "lines",
                  "line": {
                    "color": "#00d4ff"
                  },
                  "mode": "lines",
                  "showlegend": false,
                  "type": "scatter",
                  "x": [
                    18.14043707559196,
                    9.320567558829076,
                    8.820567558829076,
                    8.320567558829076
                  ],
                  "y": [
                    -11.992282817535738,
                    -11.992282817535738,
                    -3.0521359381559194,
                    -3.0521359381559194
                  ]
                },
                {
                  "legendgroup": "lines",
                  "line": {
                    "color": "#800000"
                  },
                  "mode": "lines",
                  "showlegend": false,
                  "type": "scatter",
                  "x": [
                    18.14043707559196,
                    15.904040811238097,
                    15.404040811238097,
                    14.904040811238097
                  ],
                  "y": [
                    0.4437440510307358,
                    0.4437440510307358,
                    -0.2714760979528542,
                    -0.2714760979528542
                  ]
                },
                {
                  "legendgroup": "lines",
                  "line": {
                    "color": "#000080"
                  },
                  "mode": "lines",
                  "showlegend": false,
                  "type": "scatter",
                  "x": [
                    -16.394250748457647,
                    -9.618046770746513,
                    -9.118046770746513,
                    -8.618046770746513
                  ],
                  "y": [
                    14.434274278168019,
                    14.434274278168019,
                    4.826854930573693,
                    4.826854930573693
                  ]
                },
                {
                  "legendgroup": "lines",
                  "line": {
                    "color": "#000080"
                  },
                  "mode": "lines",
                  "showlegend": false,
                  "type": "scatter",
                  "x": [
                    -16.394250748457647,
                    -14.95245132426916,
                    -14.45245132426916,
                    -13.95245132426916
                  ],
                  "y": [
                    1.9982474096015448,
                    1.9982474096015448,
                    1.334818765271212,
                    1.334818765271212
                  ]
                },
                {
                  "legendgroup": "lines",
                  "line": {
                    "color": "#ffe600"
                  },
                  "mode": "lines",
                  "showlegend": false,
                  "type": "scatter",
                  "x": [
                    -16.394250748457647,
                    0.7537881995359919,
                    1.2537881995359919,
                    1.7537881995359919
                  ],
                  "y": [
                    -13.546786176106547,
                    -13.546786176106547,
                    -1.5477448542354464,
                    -1.5477448542354464
                  ]
                },
                {
                  "legendgroup": "lines",
                  "line": {
                    "color": "#800000"
                  },
                  "mode": "lines",
                  "showlegend": false,
                  "type": "scatter",
                  "x": [
                    18.14043707559196,
                    14.848893525496738,
                    14.348893525496738,
                    13.848893525496738
                  ],
                  "y": [
                    6.661757485313974,
                    6.661757485313974,
                    0.1399558569539129,
                    0.1399558569539129
                  ]
                },
                {
                  "legendgroup": "lines",
                  "line": {
                    "color": "#800000"
                  },
                  "mode": "lines",
                  "showlegend": false,
                  "type": "scatter",
                  "x": [
                    18.14043707559196,
                    15.910276084881556,
                    15.410276084881556,
                    14.910276084881556
                  ],
                  "y": [
                    -2.6652626661108823,
                    -2.6652626661108823,
                    -0.8166992360968494,
                    -0.8166992360968494
                  ]
                },
                {
                  "legendgroup": "lines",
                  "line": {
                    "color": "#ffe600"
                  },
                  "mode": "lines",
                  "showlegend": false,
                  "type": "scatter",
                  "x": [
                    18.14043707559196,
                    5.1535467809078455,
                    4.6535467809078455,
                    4.1535467809078455
                  ],
                  "y": [
                    -13.546786176106547,
                    -13.546786176106547,
                    -0.534760046238093,
                    -0.534760046238093
                  ]
                },
                {
                  "legendgroup": "lines",
                  "line": {
                    "color": "#800000"
                  },
                  "mode": "lines",
                  "showlegend": false,
                  "type": "scatter",
                  "x": [
                    18.14043707559196,
                    15.740705482413274,
                    15.240705482413274,
                    14.740705482413274
                  ],
                  "y": [
                    -5.774269383252501,
                    -5.774269383252501,
                    -2.5553038756946123,
                    -2.5553038756946123
                  ]
                },
                {
                  "legendgroup": "lines",
                  "line": {
                    "color": "#000080"
                  },
                  "mode": "lines",
                  "showlegend": false,
                  "type": "scatter",
                  "x": [
                    -16.394250748457647,
                    -10.720234088526597,
                    -10.220234088526597,
                    -9.720234088526597
                  ],
                  "y": [
                    0.4437440510307358,
                    0.4437440510307358,
                    0.013216972538058619,
                    0.013216972538058619
                  ]
                },
                {
                  "legendgroup": "lines",
                  "line": {
                    "color": "#000080"
                  },
                  "mode": "lines",
                  "showlegend": false,
                  "type": "scatter",
                  "x": [
                    -16.394250748457647,
                    -14.733022953303259,
                    -14.233022953303259,
                    -13.733022953303259
                  ],
                  "y": [
                    5.107254126743165,
                    5.107254126743165,
                    2.435808164381574,
                    2.435808164381574
                  ]
                },
                {
                  "legendgroup": "lines",
                  "line": {
                    "color": "#000080"
                  },
                  "mode": "lines",
                  "showlegend": false,
                  "type": "scatter",
                  "x": [
                    -16.394250748457647,
                    -10.074456508932382,
                    -9.574456508932382,
                    -9.074456508932382
                  ],
                  "y": [
                    12.87977091959721,
                    12.87977091959721,
                    3.5453021019560484,
                    3.5453021019560484
                  ]
                },
                {
                  "legendgroup": "lines",
                  "line": {
                    "color": "#800000"
                  },
                  "mode": "lines",
                  "showlegend": false,
                  "type": "scatter",
                  "x": [
                    18.14043707559196,
                    12.976294595614192,
                    12.476294595614192,
                    11.976294595614192
                  ],
                  "y": [
                    -10.437779458964929,
                    -10.437779458964929,
                    -3.209934171980028,
                    -3.209934171980028
                  ]
                },
                {
                  "legendgroup": "lines",
                  "line": {
                    "color": "#800000"
                  },
                  "mode": "lines",
                  "showlegend": false,
                  "type": "scatter",
                  "x": [
                    18.14043707559196,
                    13.52193860255455,
                    13.02193860255455,
                    12.52193860255455
                  ],
                  "y": [
                    -8.88327610039412,
                    -8.88327610039412,
                    -1.1272092730312149,
                    -1.1272092730312149
                  ]
                },
                {
                  "legendgroup": "lines",
                  "line": {
                    "color": "#00d4ff"
                  },
                  "mode": "lines",
                  "showlegend": false,
                  "type": "scatter",
                  "x": [
                    18.14043707559196,
                    8.640782444913782,
                    8.140782444913782,
                    7.640782444913782
                  ],
                  "y": [
                    12.87977091959721,
                    12.87977091959721,
                    2.0689767105856665,
                    2.0689767105856665
                  ]
                },
                {
                  "legendgroup": "lines",
                  "line": {
                    "color": "#ffe600"
                  },
                  "mode": "lines",
                  "showlegend": false,
                  "type": "scatter",
                  "x": [
                    18.14043707559196,
                    3.224748756906311,
                    2.724748756906311,
                    2.224748756906311
                  ],
                  "y": [
                    15.98877763673883,
                    15.98877763673883,
                    1.1270817227756103,
                    1.1270817227756103
                  ]
                },
                {
                  "legendgroup": "lines",
                  "line": {
                    "color": "#000080"
                  },
                  "mode": "lines",
                  "showlegend": false,
                  "type": "scatter",
                  "x": [
                    -16.394250748457647,
                    -15.132302712441822,
                    -14.632302712441822,
                    -14.132302712441822
                  ],
                  "y": [
                    -7.32877274182331,
                    -7.32877274182331,
                    -3.7638340414957563,
                    -3.7638340414957563
                  ]
                },
                {
                  "legendgroup": "lines",
                  "line": {
                    "color": "#000080"
                  },
                  "mode": "lines",
                  "showlegend": false,
                  "type": "scatter",
                  "x": [
                    -16.394250748457647,
                    -15.459783461093906,
                    -14.959783461093906,
                    -14.459783461093906
                  ],
                  "y": [
                    -5.774269383252501,
                    -5.774269383252501,
                    -3.7757165553680614,
                    -3.7757165553680614
                  ]
                },
                {
                  "legendgroup": "lines",
                  "line": {
                    "color": "#800000"
                  },
                  "mode": "lines",
                  "showlegend": false,
                  "type": "scatter",
                  "x": [
                    18.14043707559196,
                    13.029330034401264,
                    12.529330034401264,
                    12.029330034401264
                  ],
                  "y": [
                    8.216260843884783,
                    8.216260843884783,
                    0.30066850807123335,
                    0.30066850807123335
                  ]
                },
                {
                  "legendgroup": "lines",
                  "line": {
                    "color": "#ffe600"
                  },
                  "mode": "lines",
                  "showlegend": false,
                  "type": "scatter",
                  "x": [
                    -16.394250748457647,
                    1.187927776292907,
                    1.687927776292907,
                    2.187927776292907
                  ],
                  "y": [
                    15.98877763673883,
                    15.98877763673883,
                    -0.301591972169736,
                    -0.301591972169736
                  ]
                },
                {
                  "legendgroup": "lines",
                  "line": {
                    "color": "#000080"
                  },
                  "mode": "lines",
                  "showlegend": false,
                  "type": "scatter",
                  "x": [
                    -16.394250748457647,
                    -10.677592676219422,
                    -10.177592676219422,
                    -9.677592676219422
                  ],
                  "y": [
                    9.770764202455592,
                    9.770764202455592,
                    2.371183504618668,
                    2.371183504618668
                  ]
                },
                {
                  "legendgroup": "lines",
                  "line": {
                    "color": "#00d4ff"
                  },
                  "mode": "lines",
                  "showlegend": false,
                  "type": "scatter",
                  "x": [
                    18.14043707559196,
                    8.296372100464584,
                    7.796372100464585,
                    7.296372100464585
                  ],
                  "y": [
                    11.3252675610264,
                    11.3252675610264,
                    1.2029604377123244,
                    1.2029604377123244
                  ]
                },
                {
                  "legendgroup": "lines",
                  "line": {
                    "color": "#000080"
                  },
                  "mode": "lines",
                  "showlegend": false,
                  "type": "scatter",
                  "x": [
                    -16.394250748457647,
                    -12.983017642682789,
                    -12.483017642682789,
                    -11.983017642682789
                  ],
                  "y": [
                    -1.1107593075400732,
                    -1.1107593075400732,
                    -0.6157982283923022,
                    -0.6157982283923022
                  ]
                },
                {
                  "legendgroup": "lines",
                  "line": {
                    "color": "#800000"
                  },
                  "mode": "lines",
                  "showlegend": false,
                  "type": "scatter",
                  "x": [
                    18.14043707559196,
                    15.625511307642753,
                    15.125511307642753,
                    14.625511307642753
                  ],
                  "y": [
                    -4.219766024681691,
                    -4.219766024681691,
                    -2.020536919567132,
                    -2.020536919567132
                  ]
                },
                {
                  "legendgroup": "lines",
                  "line": {
                    "color": "#000080"
                  },
                  "mode": "lines",
                  "showlegend": false,
                  "type": "scatter",
                  "x": [
                    -16.394250748457647,
                    -9.861412394334472,
                    -9.361412394334472,
                    -8.861412394334472
                  ],
                  "y": [
                    11.3252675610264,
                    11.3252675610264,
                    2.826155389014641,
                    2.826155389014641
                  ]
                },
                {
                  "legendgroup": "lines",
                  "line": {
                    "color": "#000080"
                  },
                  "mode": "lines",
                  "showlegend": false,
                  "type": "scatter",
                  "x": [
                    -16.394250748457647,
                    -15.782350649577488,
                    -15.282350649577488,
                    -14.782350649577488
                  ],
                  "y": [
                    -4.219766024681691,
                    -4.219766024681691,
                    -3.6767349094730326,
                    -3.6767349094730326
                  ]
                },
                {
                  "legendgroup": "lines",
                  "line": {
                    "color": "#800000"
                  },
                  "mode": "lines",
                  "showlegend": false,
                  "type": "scatter",
                  "x": [
                    18.14043707559196,
                    15.582660198616372,
                    15.082660198616372,
                    14.582660198616372
                  ],
                  "y": [
                    5.107254126743165,
                    5.107254126743165,
                    0.930296837737102,
                    0.930296837737102
                  ]
                },
                {
                  "legendgroup": "lines",
                  "line": {
                    "color": "#000080"
                  },
                  "mode": "lines",
                  "showlegend": false,
                  "type": "scatter",
                  "x": [
                    -16.394250748457647,
                    -14.899598362279468,
                    -14.399598362279468,
                    -13.899598362279468
                  ],
                  "y": [
                    3.5527507681723556,
                    3.5527507681723556,
                    1.4440737661952179,
                    1.4440737661952179
                  ]
                },
                {
                  "legendgroup": "lines",
                  "line": {
                    "color": "#000080"
                  },
                  "mode": "lines",
                  "showlegend": false,
                  "type": "scatter",
                  "x": [
                    -16.394250748457647,
                    -12.858564513568878,
                    -12.358564513568878,
                    -11.858564513568878
                  ],
                  "y": [
                    6.661757485313974,
                    6.661757485313974,
                    1.3468312731061272,
                    1.3468312731061272
                  ]
                },
                {
                  "legendgroup": "lines",
                  "line": {
                    "color": "#000080"
                  },
                  "mode": "lines",
                  "showlegend": false,
                  "type": "scatter",
                  "x": [
                    -16.394250748457647,
                    -9.066350669968521,
                    -8.566350669968521,
                    -8.066350669968521
                  ],
                  "y": [
                    -10.437779458964929,
                    -10.437779458964929,
                    -2.089200251582475,
                    -2.089200251582475
                  ]
                },
                {
                  "legendgroup": "lines",
                  "line": {
                    "color": "#000080"
                  },
                  "mode": "lines",
                  "showlegend": false,
                  "type": "scatter",
                  "x": [
                    -16.394250748457647,
                    -14.047283998912777,
                    -13.547283998912777,
                    -13.047283998912777
                  ],
                  "y": [
                    -8.88327610039412,
                    -8.88327610039412,
                    -3.1635644791155353,
                    -3.1635644791155353
                  ]
                },
                {
                  "legendgroup": "lines",
                  "line": {
                    "color": "#800000"
                  },
                  "mode": "lines",
                  "showlegend": false,
                  "type": "scatter",
                  "x": [
                    18.14043707559196,
                    14.56593608805546,
                    14.06593608805546,
                    13.56593608805546
                  ],
                  "y": [
                    1.9982474096015448,
                    1.9982474096015448,
                    -0.2866107881917769,
                    -0.2866107881917769
                  ]
                },
                {
                  "legendgroup": "lines",
                  "line": {
                    "color": "#800000"
                  },
                  "mode": "lines",
                  "showlegend": false,
                  "type": "scatter",
                  "x": [
                    18.14043707559196,
                    14.036259606128214,
                    13.536259606128214,
                    13.036259606128214
                  ],
                  "y": [
                    -7.32877274182331,
                    -7.32877274182331,
                    -1.4073371186560808,
                    -1.4073371186560808
                  ]
                }
              ],
              "layout": {
                "annotations": [
                  {
                    "bgcolor": "#e6fbff",
                    "bordercolor": "#00d4ff",
                    "borderpad": 2,
                    "font": {
                      "color": "black"
                    },
                    "showarrow": false,
                    "text": "小杨之前独自参加马拉...马拉松宣传片的主角。",
                    "x": 18.14043707559196,
                    "xanchor": "left",
                    "xref": "x",
                    "y": 9.770764202455592,
                    "yanchor": "middle",
                    "yref": "y"
                  },
                  {
                    "bgcolor": "#e6e6f2",
                    "bordercolor": "#000080",
                    "borderpad": 2,
                    "font": {
                      "color": "black"
                    },
                    "showarrow": false,
                    "text": "预计24小时内我县可...性天气,请注意防范。",
                    "x": -16.394250748457647,
                    "xanchor": "right",
                    "xref": "x",
                    "y": -11.992282817535738,
                    "yanchor": "middle",
                    "yref": "y"
                  },
                  {
                    "bgcolor": "#f2e6e6",
                    "bordercolor": "#800000",
                    "borderpad": 2,
                    "font": {
                      "color": "black"
                    },
                    "showarrow": false,
                    "text": "2015-07-25...梁容银和白石贤1杆。",
                    "x": 18.14043707559196,
                    "xanchor": "left",
                    "xref": "x",
                    "y": 3.5527507681723556,
                    "yanchor": "middle",
                    "yref": "y"
                  },
                  {
                    "bgcolor": "#f2e6e6",
                    "bordercolor": "#800000",
                    "borderpad": 2,
                    "font": {
                      "color": "black"
                    },
                    "showarrow": false,
                    "text": "2015-03-01...,为尼克斯锁定胜局。",
                    "x": 18.14043707559196,
                    "xanchor": "left",
                    "xref": "x",
                    "y": -1.1107593075400732,
                    "yanchor": "middle",
                    "yref": "y"
                  },
                  {
                    "bgcolor": "#e6e6f2",
                    "bordercolor": "#000080",
                    "borderpad": 2,
                    "font": {
                      "color": "black"
                    },
                    "showarrow": false,
                    "text": "东丰县气象台2016...,有关部门注意防范。",
                    "x": -16.394250748457647,
                    "xanchor": "right",
                    "xref": "x",
                    "y": -2.6652626661108823,
                    "yanchor": "middle",
                    "yref": "y"
                  },
                  {
                    "bgcolor": "#e6fbff",
                    "bordercolor": "#00d4ff",
                    "borderpad": 2,
                    "font": {
                      "color": "black"
                    },
                    "showarrow": false,
                    "text": "新京报快讯6月19日...kx@126.com",
                    "x": 18.14043707559196,
                    "xanchor": "left",
                    "xref": "x",
                    "y": 14.434274278168019,
                    "yanchor": "middle",
                    "yref": "y"
                  },
                  {
                    "bgcolor": "#e6e6f2",
                    "bordercolor": "#000080",
                    "borderpad": 2,
                    "font": {
                      "color": "black"
                    },
                    "showarrow": false,
                    "text": "海拉尔区气象台201...,尽量避免户外活动。",
                    "x": -16.394250748457647,
                    "xanchor": "right",
                    "xref": "x",
                    "y": 8.216260843884783,
                    "yanchor": "middle",
                    "yref": "y"
                  },
                  {
                    "bgcolor": "#e6fbff",
                    "bordercolor": "#00d4ff",
                    "borderpad": 2,
                    "font": {
                      "color": "black"
                    },
                    "showarrow": false,
                    "text": "假彩票最新进展:涉嫌...者。陈俊君。摄影报道",
                    "x": 18.14043707559196,
                    "xanchor": "left",
                    "xref": "x",
                    "y": -11.992282817535738,
                    "yanchor": "middle",
                    "yref": "y"
                  },
                  {
                    "bgcolor": "#f2e6e6",
                    "bordercolor": "#800000",
                    "borderpad": 2,
                    "font": {
                      "color": "black"
                    },
                    "showarrow": false,
                    "text": "2014-12-22...1-克洛泽,6-毛里",
                    "x": 18.14043707559196,
                    "xanchor": "left",
                    "xref": "x",
                    "y": 0.4437440510307358,
                    "yanchor": "middle",
                    "yref": "y"
                  },
                  {
                    "bgcolor": "#e6e6f2",
                    "bordercolor": "#000080",
                    "borderpad": 2,
                    "font": {
                      "color": "black"
                    },
                    "showarrow": false,
                    "text": "安康市汉阴县气象局2...温天气,请做好防范。",
                    "x": -16.394250748457647,
                    "xanchor": "right",
                    "xref": "x",
                    "y": 14.434274278168019,
                    "yanchor": "middle",
                    "yref": "y"
                  },
                  {
                    "bgcolor": "#e6e6f2",
                    "bordercolor": "#000080",
                    "borderpad": 2,
                    "font": {
                      "color": "black"
                    },
                    "showarrow": false,
                    "text": "淳安县气象台10月1...、泥石流等次生灾害。",
                    "x": -16.394250748457647,
                    "xanchor": "right",
                    "xref": "x",
                    "y": 1.9982474096015448,
                    "yanchor": "middle",
                    "yref": "y"
                  },
                  {
                    "bgcolor": "#fffde6",
                    "bordercolor": "#ffe600",
                    "borderpad": 2,
                    "font": {
                      "color": "black"
                    },
                    "showarrow": false,
                    "text": "南都讯。记者赵安然。...请多一份理解与配合。",
                    "x": -16.394250748457647,
                    "xanchor": "right",
                    "xref": "x",
                    "y": -13.546786176106547,
                    "yanchor": "middle",
                    "yref": "y"
                  },
                  {
                    "bgcolor": "#f2e6e6",
                    "bordercolor": "#800000",
                    "borderpad": 2,
                    "font": {
                      "color": "black"
                    },
                    "showarrow": false,
                    "text": "2015-02-03...刻的扣篮都遭到盖帽。",
                    "x": 18.14043707559196,
                    "xanchor": "left",
                    "xref": "x",
                    "y": 6.661757485313974,
                    "yanchor": "middle",
                    "yref": "y"
                  },
                  {
                    "bgcolor": "#f2e6e6",
                    "bordercolor": "#800000",
                    "borderpad": 2,
                    "font": {
                      "color": "black"
                    },
                    "showarrow": false,
                    "text": "新浪体育。2014-...阿塞迪;18-迪乌夫",
                    "x": 18.14043707559196,
                    "xanchor": "left",
                    "xref": "x",
                    "y": -2.6652626661108823,
                    "yanchor": "middle",
                    "yref": "y"
                  },
                  {
                    "bgcolor": "#fffde6",
                    "bordercolor": "#ffe600",
                    "borderpad": 2,
                    "font": {
                      "color": "black"
                    },
                    "showarrow": false,
                    "text": "东营齐鲁网10月19...务热线:95598.",
                    "x": 18.14043707559196,
                    "xanchor": "left",
                    "xref": "x",
                    "y": -13.546786176106547,
                    "yanchor": "middle",
                    "yref": "y"
                  },
                  {
                    "bgcolor": "#f2e6e6",
                    "bordercolor": "#800000",
                    "borderpad": 2,
                    "font": {
                      "color": "black"
                    },
                    "showarrow": false,
                    "text": "虎扑体育7月14日讯....1助攻2.0盖帽。",
                    "x": 18.14043707559196,
                    "xanchor": "left",
                    "xref": "x",
                    "y": -5.774269383252501,
                    "yanchor": "middle",
                    "yref": "y"
                  },
                  {
                    "bgcolor": "#e6e6f2",
                    "bordercolor": "#000080",
                    "borderpad": 2,
                    "font": {
                      "color": "black"
                    },
                    "showarrow": false,
                    "text": "邱县气象局8月5日1...单位和个人注意防范。",
                    "x": -16.394250748457647,
                    "xanchor": "right",
                    "xref": "x",
                    "y": 0.4437440510307358,
                    "yanchor": "middle",
                    "yref": "y"
                  },
                  {
                    "bgcolor": "#e6e6f2",
                    "bordercolor": "#000080",
                    "borderpad": 2,
                    "font": {
                      "color": "black"
                    },
                    "showarrow": false,
                    "text": "屏边县气象台2016...质灾害,请注意防范。",
                    "x": -16.394250748457647,
                    "xanchor": "right",
                    "xref": "x",
                    "y": 5.107254126743165,
                    "yanchor": "middle",
                    "yref": "y"
                  },
                  {
                    "bgcolor": "#e6e6f2",
                    "bordercolor": "#000080",
                    "borderpad": 2,
                    "font": {
                      "color": "black"
                    },
                    "showarrow": false,
                    "text": "永嘉县气象台于201...以及雷电和大风灾害!",
                    "x": -16.394250748457647,
                    "xanchor": "right",
                    "xref": "x",
                    "y": 12.87977091959721,
                    "yanchor": "middle",
                    "yref": "y"
                  },
                  {
                    "bgcolor": "#f2e6e6",
                    "bordercolor": "#800000",
                    "borderpad": 2,
                    "font": {
                      "color": "black"
                    },
                    "showarrow": false,
                    "text": "U2乐队和苹果的基情...爱可能也是真心的啊…",
                    "x": 18.14043707559196,
                    "xanchor": "left",
                    "xref": "x",
                    "y": -10.437779458964929,
                    "yanchor": "middle",
                    "yref": "y"
                  },
                  {
                    "bgcolor": "#f2e6e6",
                    "bordercolor": "#800000",
                    "borderpad": 2,
                    "font": {
                      "color": "black"
                    },
                    "showarrow": false,
                    "text": "韩德君已在辽宁队效力...让辽宁球迷非常关心。",
                    "x": 18.14043707559196,
                    "xanchor": "left",
                    "xref": "x",
                    "y": -8.88327610039412,
                    "yanchor": "middle",
                    "yref": "y"
                  },
                  {
                    "bgcolor": "#e6fbff",
                    "bordercolor": "#00d4ff",
                    "borderpad": 2,
                    "font": {
                      "color": "black"
                    },
                    "showarrow": false,
                    "text": "姓名:何亚聪特征:身...孩,也请与我们联系。",
                    "x": 18.14043707559196,
                    "xanchor": "left",
                    "xref": "x",
                    "y": 12.87977091959721,
                    "yanchor": "middle",
                    "yref": "y"
                  },
                  {
                    "bgcolor": "#fffde6",
                    "bordercolor": "#ffe600",
                    "borderpad": 2,
                    "font": {
                      "color": "black"
                    },
                    "showarrow": false,
                    "text": "人民网阳新7月4日电...皮艇里,并拉到岸边。",
                    "x": 18.14043707559196,
                    "xanchor": "left",
                    "xref": "x",
                    "y": 15.98877763673883,
                    "yanchor": "middle",
                    "yref": "y"
                  },
                  {
                    "bgcolor": "#e6e6f2",
                    "bordercolor": "#000080",
                    "borderpad": 2,
                    "font": {
                      "color": "black"
                    },
                    "showarrow": false,
                    "text": "道真县气象台2016...强降水,请加强防范。",
                    "x": -16.394250748457647,
                    "xanchor": "right",
                    "xref": "x",
                    "y": -7.32877274182331,
                    "yanchor": "middle",
                    "yref": "y"
                  },
                  {
                    "bgcolor": "#e6e6f2",
                    "bordercolor": "#000080",
                    "borderpad": 2,
                    "font": {
                      "color": "black"
                    },
                    "showarrow": false,
                    "text": "双柏县气象台2016...性天气,请注意防范。",
                    "x": -16.394250748457647,
                    "xanchor": "right",
                    "xref": "x",
                    "y": -5.774269383252501,
                    "yanchor": "middle",
                    "yref": "y"
                  },
                  {
                    "bgcolor": "#f2e6e6",
                    "bordercolor": "#800000",
                    "borderpad": 2,
                    "font": {
                      "color": "black"
                    },
                    "showarrow": false,
                    "text": "人民网11月21日电...务实工作,久久为功。",
                    "x": 18.14043707559196,
                    "xanchor": "left",
                    "xref": "x",
                    "y": 8.216260843884783,
                    "yanchor": "middle",
                    "yref": "y"
                  },
                  {
                    "bgcolor": "#fffde6",
                    "bordercolor": "#ffe600",
                    "borderpad": 2,
                    "font": {
                      "color": "black"
                    },
                    "showarrow": false,
                    "text": "7月20日,甘肃河西...因沙尘天气停止施工。",
                    "x": -16.394250748457647,
                    "xanchor": "right",
                    "xref": "x",
                    "y": 15.98877763673883,
                    "yanchor": "middle",
                    "yref": "y"
                  },
                  {
                    "bgcolor": "#e6e6f2",
                    "bordercolor": "#000080",
                    "borderpad": 2,
                    "font": {
                      "color": "black"
                    },
                    "showarrow": false,
                    "text": "繁峙县气象台2016...、大风等强对流天气。",
                    "x": -16.394250748457647,
                    "xanchor": "right",
                    "xref": "x",
                    "y": 9.770764202455592,
                    "yanchor": "middle",
                    "yref": "y"
                  },
                  {
                    "bgcolor": "#e6fbff",
                    "bordercolor": "#00d4ff",
                    "borderpad": 2,
                    "font": {
                      "color": "black"
                    },
                    "showarrow": false,
                    "text": "周旭与专车司机委托的...车司机导演“谍战剧”",
                    "x": 18.14043707559196,
                    "xanchor": "left",
                    "xref": "x",
                    "y": 11.3252675610264,
                    "yanchor": "middle",
                    "yref": "y"
                  },
                  {
                    "bgcolor": "#e6e6f2",
                    "bordercolor": "#000080",
                    "borderpad": 2,
                    "font": {
                      "color": "black"
                    },
                    "showarrow": false,
                    "text": "巴楚县气象局2016...流天气,请注意防范。",
                    "x": -16.394250748457647,
                    "xanchor": "right",
                    "xref": "x",
                    "y": -1.1107593075400732,
                    "yanchor": "middle",
                    "yref": "y"
                  },
                  {
                    "bgcolor": "#f2e6e6",
                    "bordercolor": "#800000",
                    "borderpad": 2,
                    "font": {
                      "color": "black"
                    },
                    "showarrow": false,
                    "text": "2015-05-15...的克洛普是最大热门。",
                    "x": 18.14043707559196,
                    "xanchor": "left",
                    "xref": "x",
                    "y": -4.219766024681691,
                    "yanchor": "middle",
                    "yref": "y"
                  },
                  {
                    "bgcolor": "#e6e6f2",
                    "bordercolor": "#000080",
                    "borderpad": 2,
                    "font": {
                      "color": "black"
                    },
                    "showarrow": false,
                    "text": "霍州市气象台2016...,尽量避免户外活动。",
                    "x": -16.394250748457647,
                    "xanchor": "right",
                    "xref": "x",
                    "y": 11.3252675610264,
                    "yanchor": "middle",
                    "yref": "y"
                  },
                  {
                    "bgcolor": "#e6e6f2",
                    "bordercolor": "#000080",
                    "borderpad": 2,
                    "font": {
                      "color": "black"
                    },
                    "showarrow": false,
                    "text": "平坝区气象台2016...请相关单位注意防范。",
                    "x": -16.394250748457647,
                    "xanchor": "right",
                    "xref": "x",
                    "y": -4.219766024681691,
                    "yanchor": "middle",
                    "yref": "y"
                  },
                  {
                    "bgcolor": "#f2e6e6",
                    "bordercolor": "#800000",
                    "borderpad": 2,
                    "font": {
                      "color": "black"
                    },
                    "showarrow": false,
                    "text": "虎扑体育8月9日讯。...60-88不敌法国队",
                    "x": 18.14043707559196,
                    "xanchor": "left",
                    "xref": "x",
                    "y": 5.107254126743165,
                    "yanchor": "middle",
                    "yref": "y"
                  },
                  {
                    "bgcolor": "#e6e6f2",
                    "bordercolor": "#000080",
                    "borderpad": 2,
                    "font": {
                      "color": "black"
                    },
                    "showarrow": false,
                    "text": "新平县气象台2016...滑坡、泥石流等灾害。",
                    "x": -16.394250748457647,
                    "xanchor": "right",
                    "xref": "x",
                    "y": 3.5527507681723556,
                    "yanchor": "middle",
                    "yref": "y"
                  },
                  {
                    "bgcolor": "#e6e6f2",
                    "bordercolor": "#000080",
                    "borderpad": 2,
                    "font": {
                      "color": "black"
                    },
                    "showarrow": false,
                    "text": "常山县气象局8月20...气,请注意加强防范。",
                    "x": -16.394250748457647,
                    "xanchor": "right",
                    "xref": "x",
                    "y": 6.661757485313974,
                    "yanchor": "middle",
                    "yref": "y"
                  },
                  {
                    "bgcolor": "#e6e6f2",
                    "bordercolor": "#000080",
                    "borderpad": 2,
                    "font": {
                      "color": "black"
                    },
                    "showarrow": false,
                    "text": "目前我县境内西北部已...害性天气,请注意防范",
                    "x": -16.394250748457647,
                    "xanchor": "right",
                    "xref": "x",
                    "y": -10.437779458964929,
                    "yanchor": "middle",
                    "yref": "y"
                  },
                  {
                    "bgcolor": "#e6e6f2",
                    "bordercolor": "#000080",
                    "borderpad": 2,
                    "font": {
                      "color": "black"
                    },
                    "showarrow": false,
                    "text": "浚县气象局2016年...流天气,请注意防范。",
                    "x": -16.394250748457647,
                    "xanchor": "right",
                    "xref": "x",
                    "y": -8.88327610039412,
                    "yanchor": "middle",
                    "yref": "y"
                  },
                  {
                    "bgcolor": "#f2e6e6",
                    "bordercolor": "#800000",
                    "borderpad": 2,
                    "font": {
                      "color": "black"
                    },
                    "showarrow": false,
                    "text": "新浪体育。2014-...前沿,湖人遗憾失利。",
                    "x": 18.14043707559196,
                    "xanchor": "left",
                    "xref": "x",
                    "y": 1.9982474096015448,
                    "yanchor": "middle",
                    "yref": "y"
                  },
                  {
                    "bgcolor": "#f2e6e6",
                    "bordercolor": "#800000",
                    "borderpad": 2,
                    "font": {
                      "color": "black"
                    },
                    "showarrow": false,
                    "text": "虎扑体育9月3日讯。...有什么比这更好了。”",
                    "x": 18.14043707559196,
                    "xanchor": "left",
                    "xref": "x",
                    "y": -7.32877274182331,
                    "yanchor": "middle",
                    "yref": "y"
                  }
                ],
                "autosize": false,
                "height": 800,
                "template": {
                  "data": {
                    "bar": [
                      {
                        "error_x": {
                          "color": "#2a3f5f"
                        },
                        "error_y": {
                          "color": "#2a3f5f"
                        },
                        "marker": {
                          "line": {
                            "color": "#E5ECF6",
                            "width": 0.5
                          },
                          "pattern": {
                            "fillmode": "overlay",
                            "size": 10,
                            "solidity": 0.2
                          }
                        },
                        "type": "bar"
                      }
                    ],
                    "barpolar": [
                      {
                        "marker": {
                          "line": {
                            "color": "#E5ECF6",
                            "width": 0.5
                          },
                          "pattern": {
                            "fillmode": "overlay",
                            "size": 10,
                            "solidity": 0.2
                          }
                        },
                        "type": "barpolar"
                      }
                    ],
                    "carpet": [
                      {
                        "aaxis": {
                          "endlinecolor": "#2a3f5f",
                          "gridcolor": "white",
                          "linecolor": "white",
                          "minorgridcolor": "white",
                          "startlinecolor": "#2a3f5f"
                        },
                        "baxis": {
                          "endlinecolor": "#2a3f5f",
                          "gridcolor": "white",
                          "linecolor": "white",
                          "minorgridcolor": "white",
                          "startlinecolor": "#2a3f5f"
                        },
                        "type": "carpet"
                      }
                    ],
                    "choropleth": [
                      {
                        "colorbar": {
                          "outlinewidth": 0,
                          "ticks": ""
                        },
                        "type": "choropleth"
                      }
                    ],
                    "contour": [
                      {
                        "colorbar": {
                          "outlinewidth": 0,
                          "ticks": ""
                        },
                        "colorscale": [
                          [
                            0,
                            "#0d0887"
                          ],
                          [
                            0.1111111111111111,
                            "#46039f"
                          ],
                          [
                            0.2222222222222222,
                            "#7201a8"
                          ],
                          [
                            0.3333333333333333,
                            "#9c179e"
                          ],
                          [
                            0.4444444444444444,
                            "#bd3786"
                          ],
                          [
                            0.5555555555555556,
                            "#d8576b"
                          ],
                          [
                            0.6666666666666666,
                            "#ed7953"
                          ],
                          [
                            0.7777777777777778,
                            "#fb9f3a"
                          ],
                          [
                            0.8888888888888888,
                            "#fdca26"
                          ],
                          [
                            1,
                            "#f0f921"
                          ]
                        ],
                        "type": "contour"
                      }
                    ],
                    "contourcarpet": [
                      {
                        "colorbar": {
                          "outlinewidth": 0,
                          "ticks": ""
                        },
                        "type": "contourcarpet"
                      }
                    ],
                    "heatmap": [
                      {
                        "colorbar": {
                          "outlinewidth": 0,
                          "ticks": ""
                        },
                        "colorscale": [
                          [
                            0,
                            "#0d0887"
                          ],
                          [
                            0.1111111111111111,
                            "#46039f"
                          ],
                          [
                            0.2222222222222222,
                            "#7201a8"
                          ],
                          [
                            0.3333333333333333,
                            "#9c179e"
                          ],
                          [
                            0.4444444444444444,
                            "#bd3786"
                          ],
                          [
                            0.5555555555555556,
                            "#d8576b"
                          ],
                          [
                            0.6666666666666666,
                            "#ed7953"
                          ],
                          [
                            0.7777777777777778,
                            "#fb9f3a"
                          ],
                          [
                            0.8888888888888888,
                            "#fdca26"
                          ],
                          [
                            1,
                            "#f0f921"
                          ]
                        ],
                        "type": "heatmap"
                      }
                    ],
                    "heatmapgl": [
                      {
                        "colorbar": {
                          "outlinewidth": 0,
                          "ticks": ""
                        },
                        "colorscale": [
                          [
                            0,
                            "#0d0887"
                          ],
                          [
                            0.1111111111111111,
                            "#46039f"
                          ],
                          [
                            0.2222222222222222,
                            "#7201a8"
                          ],
                          [
                            0.3333333333333333,
                            "#9c179e"
                          ],
                          [
                            0.4444444444444444,
                            "#bd3786"
                          ],
                          [
                            0.5555555555555556,
                            "#d8576b"
                          ],
                          [
                            0.6666666666666666,
                            "#ed7953"
                          ],
                          [
                            0.7777777777777778,
                            "#fb9f3a"
                          ],
                          [
                            0.8888888888888888,
                            "#fdca26"
                          ],
                          [
                            1,
                            "#f0f921"
                          ]
                        ],
                        "type": "heatmapgl"
                      }
                    ],
                    "histogram": [
                      {
                        "marker": {
                          "pattern": {
                            "fillmode": "overlay",
                            "size": 10,
                            "solidity": 0.2
                          }
                        },
                        "type": "histogram"
                      }
                    ],
                    "histogram2d": [
                      {
                        "colorbar": {
                          "outlinewidth": 0,
                          "ticks": ""
                        },
                        "colorscale": [
                          [
                            0,
                            "#0d0887"
                          ],
                          [
                            0.1111111111111111,
                            "#46039f"
                          ],
                          [
                            0.2222222222222222,
                            "#7201a8"
                          ],
                          [
                            0.3333333333333333,
                            "#9c179e"
                          ],
                          [
                            0.4444444444444444,
                            "#bd3786"
                          ],
                          [
                            0.5555555555555556,
                            "#d8576b"
                          ],
                          [
                            0.6666666666666666,
                            "#ed7953"
                          ],
                          [
                            0.7777777777777778,
                            "#fb9f3a"
                          ],
                          [
                            0.8888888888888888,
                            "#fdca26"
                          ],
                          [
                            1,
                            "#f0f921"
                          ]
                        ],
                        "type": "histogram2d"
                      }
                    ],
                    "histogram2dcontour": [
                      {
                        "colorbar": {
                          "outlinewidth": 0,
                          "ticks": ""
                        },
                        "colorscale": [
                          [
                            0,
                            "#0d0887"
                          ],
                          [
                            0.1111111111111111,
                            "#46039f"
                          ],
                          [
                            0.2222222222222222,
                            "#7201a8"
                          ],
                          [
                            0.3333333333333333,
                            "#9c179e"
                          ],
                          [
                            0.4444444444444444,
                            "#bd3786"
                          ],
                          [
                            0.5555555555555556,
                            "#d8576b"
                          ],
                          [
                            0.6666666666666666,
                            "#ed7953"
                          ],
                          [
                            0.7777777777777778,
                            "#fb9f3a"
                          ],
                          [
                            0.8888888888888888,
                            "#fdca26"
                          ],
                          [
                            1,
                            "#f0f921"
                          ]
                        ],
                        "type": "histogram2dcontour"
                      }
                    ],
                    "mesh3d": [
                      {
                        "colorbar": {
                          "outlinewidth": 0,
                          "ticks": ""
                        },
                        "type": "mesh3d"
                      }
                    ],
                    "parcoords": [
                      {
                        "line": {
                          "colorbar": {
                            "outlinewidth": 0,
                            "ticks": ""
                          }
                        },
                        "type": "parcoords"
                      }
                    ],
                    "pie": [
                      {
                        "automargin": true,
                        "type": "pie"
                      }
                    ],
                    "scatter": [
                      {
                        "fillpattern": {
                          "fillmode": "overlay",
                          "size": 10,
                          "solidity": 0.2
                        },
                        "type": "scatter"
                      }
                    ],
                    "scatter3d": [
                      {
                        "line": {
                          "colorbar": {
                            "outlinewidth": 0,
                            "ticks": ""
                          }
                        },
                        "marker": {
                          "colorbar": {
                            "outlinewidth": 0,
                            "ticks": ""
                          }
                        },
                        "type": "scatter3d"
                      }
                    ],
                    "scattercarpet": [
                      {
                        "marker": {
                          "colorbar": {
                            "outlinewidth": 0,
                            "ticks": ""
                          }
                        },
                        "type": "scattercarpet"
                      }
                    ],
                    "scattergeo": [
                      {
                        "marker": {
                          "colorbar": {
                            "outlinewidth": 0,
                            "ticks": ""
                          }
                        },
                        "type": "scattergeo"
                      }
                    ],
                    "scattergl": [
                      {
                        "marker": {
                          "colorbar": {
                            "outlinewidth": 0,
                            "ticks": ""
                          }
                        },
                        "type": "scattergl"
                      }
                    ],
                    "scattermapbox": [
                      {
                        "marker": {
                          "colorbar": {
                            "outlinewidth": 0,
                            "ticks": ""
                          }
                        },
                        "type": "scattermapbox"
                      }
                    ],
                    "scatterpolar": [
                      {
                        "marker": {
                          "colorbar": {
                            "outlinewidth": 0,
                            "ticks": ""
                          }
                        },
                        "type": "scatterpolar"
                      }
                    ],
                    "scatterpolargl": [
                      {
                        "marker": {
                          "colorbar": {
                            "outlinewidth": 0,
                            "ticks": ""
                          }
                        },
                        "type": "scatterpolargl"
                      }
                    ],
                    "scatterternary": [
                      {
                        "marker": {
                          "colorbar": {
                            "outlinewidth": 0,
                            "ticks": ""
                          }
                        },
                        "type": "scatterternary"
                      }
                    ],
                    "surface": [
                      {
                        "colorbar": {
                          "outlinewidth": 0,
                          "ticks": ""
                        },
                        "colorscale": [
                          [
                            0,
                            "#0d0887"
                          ],
                          [
                            0.1111111111111111,
                            "#46039f"
                          ],
                          [
                            0.2222222222222222,
                            "#7201a8"
                          ],
                          [
                            0.3333333333333333,
                            "#9c179e"
                          ],
                          [
                            0.4444444444444444,
                            "#bd3786"
                          ],
                          [
                            0.5555555555555556,
                            "#d8576b"
                          ],
                          [
                            0.6666666666666666,
                            "#ed7953"
                          ],
                          [
                            0.7777777777777778,
                            "#fb9f3a"
                          ],
                          [
                            0.8888888888888888,
                            "#fdca26"
                          ],
                          [
                            1,
                            "#f0f921"
                          ]
                        ],
                        "type": "surface"
                      }
                    ],
                    "table": [
                      {
                        "cells": {
                          "fill": {
                            "color": "#EBF0F8"
                          },
                          "line": {
                            "color": "white"
                          }
                        },
                        "header": {
                          "fill": {
                            "color": "#C8D4E3"
                          },
                          "line": {
                            "color": "white"
                          }
                        },
                        "type": "table"
                      }
                    ]
                  },
                  "layout": {
                    "annotationdefaults": {
                      "arrowcolor": "#2a3f5f",
                      "arrowhead": 0,
                      "arrowwidth": 1
                    },
                    "autotypenumbers": "strict",
                    "coloraxis": {
                      "colorbar": {
                        "outlinewidth": 0,
                        "ticks": ""
                      }
                    },
                    "colorscale": {
                      "diverging": [
                        [
                          0,
                          "#8e0152"
                        ],
                        [
                          0.1,
                          "#c51b7d"
                        ],
                        [
                          0.2,
                          "#de77ae"
                        ],
                        [
                          0.3,
                          "#f1b6da"
                        ],
                        [
                          0.4,
                          "#fde0ef"
                        ],
                        [
                          0.5,
                          "#f7f7f7"
                        ],
                        [
                          0.6,
                          "#e6f5d0"
                        ],
                        [
                          0.7,
                          "#b8e186"
                        ],
                        [
                          0.8,
                          "#7fbc41"
                        ],
                        [
                          0.9,
                          "#4d9221"
                        ],
                        [
                          1,
                          "#276419"
                        ]
                      ],
                      "sequential": [
                        [
                          0,
                          "#0d0887"
                        ],
                        [
                          0.1111111111111111,
                          "#46039f"
                        ],
                        [
                          0.2222222222222222,
                          "#7201a8"
                        ],
                        [
                          0.3333333333333333,
                          "#9c179e"
                        ],
                        [
                          0.4444444444444444,
                          "#bd3786"
                        ],
                        [
                          0.5555555555555556,
                          "#d8576b"
                        ],
                        [
                          0.6666666666666666,
                          "#ed7953"
                        ],
                        [
                          0.7777777777777778,
                          "#fb9f3a"
                        ],
                        [
                          0.8888888888888888,
                          "#fdca26"
                        ],
                        [
                          1,
                          "#f0f921"
                        ]
                      ],
                      "sequentialminus": [
                        [
                          0,
                          "#0d0887"
                        ],
                        [
                          0.1111111111111111,
                          "#46039f"
                        ],
                        [
                          0.2222222222222222,
                          "#7201a8"
                        ],
                        [
                          0.3333333333333333,
                          "#9c179e"
                        ],
                        [
                          0.4444444444444444,
                          "#bd3786"
                        ],
                        [
                          0.5555555555555556,
                          "#d8576b"
                        ],
                        [
                          0.6666666666666666,
                          "#ed7953"
                        ],
                        [
                          0.7777777777777778,
                          "#fb9f3a"
                        ],
                        [
                          0.8888888888888888,
                          "#fdca26"
                        ],
                        [
                          1,
                          "#f0f921"
                        ]
                      ]
                    },
                    "colorway": [
                      "#636efa",
                      "#EF553B",
                      "#00cc96",
                      "#ab63fa",
                      "#FFA15A",
                      "#19d3f3",
                      "#FF6692",
                      "#B6E880",
                      "#FF97FF",
                      "#FECB52"
                    ],
                    "font": {
                      "color": "#2a3f5f"
                    },
                    "geo": {
                      "bgcolor": "white",
                      "lakecolor": "white",
                      "landcolor": "#E5ECF6",
                      "showlakes": true,
                      "showland": true,
                      "subunitcolor": "white"
                    },
                    "hoverlabel": {
                      "align": "left"
                    },
                    "hovermode": "closest",
                    "mapbox": {
                      "style": "light"
                    },
                    "paper_bgcolor": "white",
                    "plot_bgcolor": "#E5ECF6",
                    "polar": {
                      "angularaxis": {
                        "gridcolor": "white",
                        "linecolor": "white",
                        "ticks": ""
                      },
                      "bgcolor": "#E5ECF6",
                      "radialaxis": {
                        "gridcolor": "white",
                        "linecolor": "white",
                        "ticks": ""
                      }
                    },
                    "scene": {
                      "xaxis": {
                        "backgroundcolor": "#E5ECF6",
                        "gridcolor": "white",
                        "gridwidth": 2,
                        "linecolor": "white",
                        "showbackground": true,
                        "ticks": "",
                        "zerolinecolor": "white"
                      },
                      "yaxis": {
                        "backgroundcolor": "#E5ECF6",
                        "gridcolor": "white",
                        "gridwidth": 2,
                        "linecolor": "white",
                        "showbackground": true,
                        "ticks": "",
                        "zerolinecolor": "white"
                      },
                      "zaxis": {
                        "backgroundcolor": "#E5ECF6",
                        "gridcolor": "white",
                        "gridwidth": 2,
                        "linecolor": "white",
                        "showbackground": true,
                        "ticks": "",
                        "zerolinecolor": "white"
                      }
                    },
                    "shapedefaults": {
                      "line": {
                        "color": "#2a3f5f"
                      }
                    },
                    "ternary": {
                      "aaxis": {
                        "gridcolor": "white",
                        "linecolor": "white",
                        "ticks": ""
                      },
                      "baxis": {
                        "gridcolor": "white",
                        "linecolor": "white",
                        "ticks": ""
                      },
                      "bgcolor": "#E5ECF6",
                      "caxis": {
                        "gridcolor": "white",
                        "linecolor": "white",
                        "ticks": ""
                      }
                    },
                    "title": {
                      "x": 0.05
                    },
                    "xaxis": {
                      "automargin": true,
                      "gridcolor": "white",
                      "linecolor": "white",
                      "ticks": "",
                      "title": {
                        "standoff": 15
                      },
                      "zerolinecolor": "white",
                      "zerolinewidth": 2
                    },
                    "yaxis": {
                      "automargin": true,
                      "gridcolor": "white",
                      "linecolor": "white",
                      "ticks": "",
                      "title": {
                        "standoff": 15
                      },
                      "zerolinecolor": "white",
                      "zerolinewidth": 2
                    }
                  }
                },
                "width": 1500,
                "xaxis": {
                  "tickvals": []
                },
                "yaxis": {
                  "tickvals": []
                }
              }
            }
          },
          "metadata": {},
          "output_type": "display_data"
        }
      ],
      "source": [
        "import ast\n",
        "tsne_data_cluster_path = \"../data/search_data.csv\"\n",
        "tsne_data_cluster = pd.read_csv(tsne_data_cluster_path, header=0)\n",
        "text = tsne_data_cluster[\"sentence\"].tolist()\n",
        "embed = tsne_data_cluster[\"embed\"].apply(lambda x: ast.literal_eval(x))\n",
        "\n",
        "tsne_plot_cluster = TSNE_Plot(text, embed, n_clusters=4)\n",
        "tsne_plot_cluster.tsne_plot(n_sentence=40)"
      ]
    },
    {
      "attachments": {},
      "cell_type": "markdown",
      "metadata": {},
      "source": [
        "## 热力图"
      ]
    },
    {
      "cell_type": "code",
      "execution_count": 11,
      "metadata": {
        "colab": {
          "base_uri": "https://localhost:8080/",
          "height": 737
        },
        "id": "XFefzHqDZ636",
        "outputId": "c9a542f1-7db7-4a1f-dd16-cb07d5ec92f2"
      },
      "outputs": [
        {
          "data": {
            "application/vnd.plotly.v1+json": {
              "config": {
                "plotlyServerURL": "https://plot.ly"
              },
              "data": [
                {
                  "colorscale": [
                    [
                      0,
                      "rgb(0,0,131)"
                    ],
                    [
                      0.2,
                      "rgb(0,60,170)"
                    ],
                    [
                      0.4,
                      "rgb(5,255,255)"
                    ],
                    [
                      0.6,
                      "rgb(255,255,0)"
                    ],
                    [
                      0.8,
                      "rgb(250,0,0)"
                    ],
                    [
                      1,
                      "rgb(128,0,0)"
                    ]
                  ],
                  "type": "heatmap",
                  "z": [
                    [
                      0.9265797734260559,
                      0.8680030107498169,
                      0.8336896300315857,
                      0.8436701893806458,
                      0.7933289408683777,
                      0.8974176645278931,
                      0.8491633534431458,
                      0.840833306312561,
                      0.857418417930603,
                      0.8373478055000305,
                      0.7773492932319641,
                      0.8831329941749573,
                      0.7878304719924927,
                      0.797016441822052,
                      0.795433521270752,
                      0.8105132579803467,
                      0.8581961989402771,
                      0.8220690488815308,
                      0.8525574207305908
                    ],
                    [
                      0.8267959952354431,
                      0.9308940172195435,
                      0.8159949779510498,
                      0.81793212890625,
                      0.7612218856811523,
                      0.9053068161010742,
                      0.8356949687004089,
                      0.8062981963157654,
                      0.8379451036453247,
                      0.8478085994720459,
                      0.8124529719352722,
                      0.84088134765625,
                      0.8174740076065063,
                      0.830001175403595,
                      0.8053712248802185,
                      0.8650723695755005,
                      0.871395468711853,
                      0.8648218512535095,
                      0.8992084264755249
                    ],
                    [
                      0.8238096833229065,
                      0.8320381045341492,
                      0.936029314994812,
                      0.8402599096298218,
                      0.8249489665031433,
                      0.8579760193824768,
                      0.7893165946006775,
                      0.776574432849884,
                      0.7960866093635559,
                      0.7943952083587646,
                      0.7616722583770752,
                      0.811152458190918,
                      0.8007975220680237,
                      0.7929536700248718,
                      0.7627798318862915,
                      0.8059297800064087,
                      0.8042093515396118,
                      0.8692091703414917,
                      0.814366340637207
                    ],
                    [
                      0.8440060019493103,
                      0.8695279359817505,
                      0.884166419506073,
                      0.9308223724365234,
                      0.7945917248725891,
                      0.8711850643157959,
                      0.8228793144226074,
                      0.8289706110954285,
                      0.843360960483551,
                      0.8373690247535706,
                      0.7667728066444397,
                      0.8415728807449341,
                      0.7726808190345764,
                      0.8238411545753479,
                      0.8193476796150208,
                      0.810667097568512,
                      0.8620034456253052,
                      0.8504117727279663,
                      0.8705407381057739
                    ],
                    [
                      0.7785361409187317,
                      0.8130956292152405,
                      0.8578502535820007,
                      0.8124926090240479,
                      0.8873160481452942,
                      0.8293638229370117,
                      0.7778733968734741,
                      0.7923378944396973,
                      0.7913640737533569,
                      0.7822239398956299,
                      0.7464261651039124,
                      0.7577166557312012,
                      0.775463342666626,
                      0.7793125510215759,
                      0.7316558957099915,
                      0.7882617712020874,
                      0.7807453870773315,
                      0.7834122180938721,
                      0.8422964215278625
                    ],
                    [
                      0.8616143465042114,
                      0.8896794319152832,
                      0.8581187725067139,
                      0.8541055917739868,
                      0.792275607585907,
                      0.9109684228897095,
                      0.8335239291191101,
                      0.850612998008728,
                      0.833665668964386,
                      0.8386731743812561,
                      0.7766093015670776,
                      0.8761892318725586,
                      0.7816397547721863,
                      0.8105234503746033,
                      0.8056271076202393,
                      0.8371785283088684,
                      0.8995336294174194,
                      0.8939206004142761,
                      0.8731459379196167
                    ],
                    [
                      0.7792888879776001,
                      0.8695849776268005,
                      0.7796500325202942,
                      0.8333117961883545,
                      0.7467495799064636,
                      0.8615243434906006,
                      0.8575568795204163,
                      0.8412249684333801,
                      0.8401666283607483,
                      0.8542391657829285,
                      0.7592476606369019,
                      0.8406630754470825,
                      0.7853277921676636,
                      0.8329886198043823,
                      0.8026546239852905,
                      0.7815098166465759,
                      0.897739589214325,
                      0.842427134513855,
                      0.838874101638794
                    ],
                    [
                      0.7763739824295044,
                      0.8565480709075928,
                      0.7928551435470581,
                      0.8353011012077332,
                      0.7736591696739197,
                      0.8530657291412354,
                      0.8872490525245667,
                      0.9191854596138,
                      0.8756284117698669,
                      0.861599862575531,
                      0.7741132378578186,
                      0.8269941806793213,
                      0.7797092199325562,
                      0.8327004909515381,
                      0.85605788230896,
                      0.7882907390594482,
                      0.873237669467926,
                      0.8314266800880432,
                      0.8417945504188538
                    ],
                    [
                      0.8035171031951904,
                      0.8929235935211182,
                      0.7992725372314453,
                      0.8407672643661499,
                      0.7873147130012512,
                      0.8814868330955505,
                      0.9283127188682556,
                      0.9261994361877441,
                      0.9167743921279907,
                      0.8733639717102051,
                      0.8398112058639526,
                      0.8550781607627869,
                      0.7947971820831299,
                      0.871625542640686,
                      0.8898330926895142,
                      0.8452622890472412,
                      0.8541919589042664,
                      0.8521082401275635,
                      0.8694815039634705
                    ],
                    [
                      0.8205094337463379,
                      0.8852314949035645,
                      0.7931059002876282,
                      0.8304458260536194,
                      0.7802801132202148,
                      0.8721407055854797,
                      0.8949236273765564,
                      0.8813785314559937,
                      0.923432469367981,
                      0.9151872992515564,
                      0.8028596639633179,
                      0.8407022953033447,
                      0.784575343132019,
                      0.8523894548416138,
                      0.852348804473877,
                      0.8134092092514038,
                      0.8596306443214417,
                      0.8465979099273682,
                      0.8821200132369995
                    ],
                    [
                      0.7172552347183228,
                      0.8268855214118958,
                      0.8013732433319092,
                      0.7867690920829773,
                      0.7801517248153687,
                      0.80715411901474,
                      0.7850968241691589,
                      0.7890170216560364,
                      0.8244511485099792,
                      0.8357062339782715,
                      0.8883339762687683,
                      0.7595486044883728,
                      0.8267114162445068,
                      0.8635805249214172,
                      0.8034247756004333,
                      0.7813398838043213,
                      0.7948769927024841,
                      0.7994949817657471,
                      0.7974677085876465
                    ],
                    [
                      0.8574481010437012,
                      0.8535187244415283,
                      0.7910758256912231,
                      0.8158885836601257,
                      0.773703396320343,
                      0.8818605542182922,
                      0.8141840100288391,
                      0.8278471231460571,
                      0.8560231328010559,
                      0.8508069515228271,
                      0.8014906644821167,
                      0.914858341217041,
                      0.7730914950370789,
                      0.7935959100723267,
                      0.7814856171607971,
                      0.8356267213821411,
                      0.8267163038253784,
                      0.7947977781295776,
                      0.8355771899223328
                    ],
                    [
                      0.816460371017456,
                      0.8459671139717102,
                      0.7852455973625183,
                      0.804635763168335,
                      0.7565662264823914,
                      0.8711894750595093,
                      0.8126430511474609,
                      0.7889756560325623,
                      0.8446462750434875,
                      0.8443986773490906,
                      0.8321254849433899,
                      0.8479331731796265,
                      0.8734439611434937,
                      0.8183239698410034,
                      0.8289993405342102,
                      0.8355181217193604,
                      0.8154088258743286,
                      0.8295677900314331,
                      0.8367605209350586
                    ],
                    [
                      0.7742566466331482,
                      0.8311952352523804,
                      0.7914650440216064,
                      0.8097424507141113,
                      0.8087382316589355,
                      0.8403645753860474,
                      0.8736438751220703,
                      0.8934342265129089,
                      0.8835625648498535,
                      0.8806585073471069,
                      0.8477225303649902,
                      0.7949753403663635,
                      0.7917333245277405,
                      0.9072206020355225,
                      0.8774475455284119,
                      0.8120577335357666,
                      0.8293564319610596,
                      0.835689127445221,
                      0.8459028601646423
                    ],
                    [
                      0.8099604249000549,
                      0.8482419848442078,
                      0.8102384805679321,
                      0.8202297687530518,
                      0.7518737316131592,
                      0.8448997139930725,
                      0.8535163998603821,
                      0.8557121157646179,
                      0.8852996230125427,
                      0.8930730223655701,
                      0.8345088362693787,
                      0.8222846984863281,
                      0.7712506055831909,
                      0.8635874390602112,
                      0.9024763107299805,
                      0.8414210081100464,
                      0.8459234833717346,
                      0.8726112246513367,
                      0.8729105591773987
                    ],
                    [
                      0.7941113114356995,
                      0.8531209826469421,
                      0.8245248794555664,
                      0.7942916750907898,
                      0.7422876358032227,
                      0.8345776200294495,
                      0.7879062294960022,
                      0.8091670274734497,
                      0.8195880055427551,
                      0.8107616901397705,
                      0.7374618053436279,
                      0.8087545037269592,
                      0.7470670342445374,
                      0.8178577423095703,
                      0.7985181212425232,
                      0.8791236281394958,
                      0.8709007501602173,
                      0.8525464534759521,
                      0.8812787532806396
                    ],
                    [
                      0.8621436953544617,
                      0.8762519359588623,
                      0.8227978944778442,
                      0.836157500743866,
                      0.7791664004325867,
                      0.8958543539047241,
                      0.8400686979293823,
                      0.8325663208961487,
                      0.8272128701210022,
                      0.8192611336708069,
                      0.7406352162361145,
                      0.8638491630554199,
                      0.746881365776062,
                      0.8045164942741394,
                      0.7871560454368591,
                      0.7877256274223328,
                      0.9169538617134094,
                      0.8503488302230835,
                      0.845150351524353
                    ],
                    [
                      0.8005951642990112,
                      0.856457531452179,
                      0.7929598093032837,
                      0.8080360889434814,
                      0.7490586638450623,
                      0.8436553478240967,
                      0.8311986327171326,
                      0.8348818421363831,
                      0.8409363031387329,
                      0.8361229300498962,
                      0.7680262923240662,
                      0.8122382164001465,
                      0.7626978754997253,
                      0.8383640646934509,
                      0.7932199239730835,
                      0.8419026732444763,
                      0.8806759119033813,
                      0.8681730628013611,
                      0.8673633337020874
                    ],
                    [
                      0.8198409676551819,
                      0.8650394678115845,
                      0.7728536128997803,
                      0.8058905005455017,
                      0.7328483462333679,
                      0.8553536534309387,
                      0.7912256717681885,
                      0.7978225946426392,
                      0.8170382380485535,
                      0.8054500222206116,
                      0.762608528137207,
                      0.8005397319793701,
                      0.7788199782371521,
                      0.8105291128158569,
                      0.8072943091392517,
                      0.8496887683868408,
                      0.8675824403762817,
                      0.8343520164489746,
                      0.9274293184280396
                    ]
                  ]
                }
              ],
              "layout": {
                "annotations": [
                  {
                    "font": {
                      "color": "black",
                      "size": 16
                    },
                    "showarrow": false,
                    "text": "Col",
                    "x": -9,
                    "xanchor": "center",
                    "xref": "x",
                    "y": -1,
                    "yanchor": "bottom",
                    "yref": "y"
                  },
                  {
                    "font": {
                      "color": "black",
                      "size": 16
                    },
                    "showarrow": false,
                    "text": "Row",
                    "x": -24,
                    "xanchor": "center",
                    "xref": "x",
                    "y": -1,
                    "yanchor": "bottom",
                    "yref": "y"
                  },
                  {
                    "bgcolor": "#f5e6e6",
                    "bordercolor": "rgb(154.3478285074234, 0.0, 0.0)",
                    "font": {
                      "color": "black",
                      "size": 14
                    },
                    "showarrow": false,
                    "text": "不必说碧绿的菜畦，光...从后窍喷出一阵烟雾。",
                    "x": -15,
                    "xanchor": "left",
                    "xref": "x",
                    "xshift": -10,
                    "y": 0,
                    "yanchor": "middle",
                    "yref": "y",
                    "yshift": 0
                  },
                  {
                    "bgcolor": "#f5e6e6",
                    "bordercolor": "rgb(154.3478285074234, 0.0, 0.0)",
                    "font": {
                      "color": "black",
                      "size": 14
                    },
                    "showarrow": false,
                    "text": "何首乌藤和木莲藤缠络...味都比桑椹要好得远。",
                    "x": -30,
                    "xanchor": "left",
                    "xref": "x",
                    "xshift": -10,
                    "y": 0,
                    "yanchor": "middle",
                    "yref": "y",
                    "yshift": 0
                  },
                  {
                    "bgcolor": "#f4e6e6",
                    "bordercolor": "rgb(142.31858122348785, 0.0, 0.0)",
                    "font": {
                      "color": "black",
                      "size": 14
                    },
                    "showarrow": false,
                    "text": "我说道，“爸爸，你走...他不肯，只好让他去。",
                    "x": -15,
                    "xanchor": "left",
                    "xref": "x",
                    "xshift": -10,
                    "y": 1,
                    "yanchor": "middle",
                    "yref": "y",
                    "yshift": 0
                  },
                  {
                    "bgcolor": "#f4e6e6",
                    "bordercolor": "rgb(142.31858122348785, 0.0, 0.0)",
                    "font": {
                      "color": "black",
                      "size": 14
                    },
                    "showarrow": false,
                    "text": "我看见他戴着黑布小帽...的泪很快地流下来了。",
                    "x": -30,
                    "xanchor": "left",
                    "xref": "x",
                    "xshift": -10,
                    "y": 1,
                    "yanchor": "middle",
                    "yref": "y",
                    "yshift": 0
                  },
                  {
                    "bgcolor": "#f2e6e6",
                    "bordercolor": "rgb(128.0, 0.0, 0.0)",
                    "font": {
                      "color": "black",
                      "size": 14
                    },
                    "showarrow": false,
                    "text": "皇宫的侍臣和丞相府的...方，获得更好的效果。",
                    "x": -15,
                    "xanchor": "left",
                    "xref": "x",
                    "xshift": -10,
                    "y": 2,
                    "yanchor": "middle",
                    "yref": "y",
                    "yshift": 0
                  },
                  {
                    "bgcolor": "#f2e6e6",
                    "bordercolor": "rgb(128.0, 0.0, 0.0)",
                    "font": {
                      "color": "black",
                      "size": 14
                    },
                    "showarrow": false,
                    "text": "将军向宠，性格和善，...的兴隆就指日可待了。",
                    "x": -30,
                    "xanchor": "left",
                    "xref": "x",
                    "xshift": -10,
                    "y": 2,
                    "yanchor": "middle",
                    "yref": "y",
                    "yshift": 0
                  },
                  {
                    "bgcolor": "#f4e6e6",
                    "bordercolor": "rgb(142.5183366537094, 0.0, 0.0)",
                    "font": {
                      "color": "black",
                      "size": 14
                    },
                    "showarrow": false,
                    "text": "这本书以前经常被墨大...一直默默自行参悟着。",
                    "x": -15,
                    "xanchor": "left",
                    "xref": "x",
                    "xshift": -10,
                    "y": 3,
                    "yanchor": "middle",
                    "yref": "y",
                    "yshift": 0
                  },
                  {
                    "bgcolor": "#f4e6e6",
                    "bordercolor": "rgb(142.5183366537094, 0.0, 0.0)",
                    "font": {
                      "color": "black",
                      "size": 14
                    },
                    "showarrow": false,
                    "text": "此卷秘籍是在暗格内和...个长生不死的神仙呢！",
                    "x": -30,
                    "xanchor": "left",
                    "xref": "x",
                    "xshift": -10,
                    "y": 3,
                    "yanchor": "middle",
                    "yref": "y",
                    "yshift": 0
                  },
                  {
                    "bgcolor": "#ffe8e6",
                    "bordercolor": "rgb(250.56661784648895, 28.89751017093664, 0.0)",
                    "font": {
                      "color": "black",
                      "size": 14
                    },
                    "showarrow": false,
                    "text": "这就是众人此时关注的...值选手）也不逞多让。",
                    "x": -15,
                    "xanchor": "left",
                    "xref": "x",
                    "xshift": -10,
                    "y": 4,
                    "yanchor": "middle",
                    "yref": "y",
                    "yshift": 0
                  },
                  {
                    "bgcolor": "#ffe8e6",
                    "bordercolor": "rgb(250.56661784648895, 28.89751017093664, 0.0)",
                    "font": {
                      "color": "black",
                      "size": 14
                    },
                    "showarrow": false,
                    "text": "本赛季孙翔率领实力平...：战斗法师一叶之秋。",
                    "x": -30,
                    "xanchor": "left",
                    "xref": "x",
                    "xshift": -10,
                    "y": 4,
                    "yanchor": "middle",
                    "yref": "y",
                    "yshift": 0
                  },
                  {
                    "bgcolor": "#f9e6e6",
                    "bordercolor": "rgb(197.8764055967331, 0.0, 0.0)",
                    "font": {
                      "color": "black",
                      "size": 14
                    },
                    "showarrow": false,
                    "text": "鲁家现在才吃完晚饭，...背，望着鲁妈打着噎。",
                    "x": -15,
                    "xanchor": "left",
                    "xref": "x",
                    "xshift": -10,
                    "y": 5,
                    "yanchor": "middle",
                    "yref": "y",
                    "yshift": 0
                  },
                  {
                    "bgcolor": "#f9e6e6",
                    "bordercolor": "rgb(197.8764055967331, 0.0, 0.0)",
                    "font": {
                      "color": "black",
                      "size": 14
                    },
                    "showarrow": false,
                    "text": "他的赤脚忽然放在椅子...闲话，有青蛙的叫声。",
                    "x": -30,
                    "xanchor": "left",
                    "xref": "x",
                    "xshift": -10,
                    "y": 5,
                    "yanchor": "middle",
                    "yref": "y",
                    "yshift": 0
                  },
                  {
                    "bgcolor": "#fffae6",
                    "bordercolor": "rgb(253.96729081869125, 202.33183175325394, 0.0)",
                    "font": {
                      "color": "black",
                      "size": 14
                    },
                    "showarrow": false,
                    "text": "还记得当天旅馆的门牌...还燃亮那份微温的便当",
                    "x": -15,
                    "xanchor": "left",
                    "xref": "x",
                    "xshift": -10,
                    "y": 6,
                    "yanchor": "middle",
                    "yref": "y",
                    "yshift": 0
                  },
                  {
                    "bgcolor": "#fffae6",
                    "bordercolor": "rgb(253.96729081869125, 202.33183175325394, 0.0)",
                    "font": {
                      "color": "black",
                      "size": 14
                    },
                    "showarrow": false,
                    "text": "剪影的你轮廓太好看 ...要决心忘记我便记不起",
                    "x": -30,
                    "xanchor": "left",
                    "xref": "x",
                    "xshift": -10,
                    "y": 6,
                    "yanchor": "middle",
                    "yref": "y",
                    "yshift": 0
                  },
                  {
                    "bgcolor": "#f7e6e6",
                    "bordercolor": "rgb(174.96514129638672, 0.0, 0.0)",
                    "font": {
                      "color": "black",
                      "size": 14
                    },
                    "showarrow": false,
                    "text": "他不羁的脸像天色将晚...漫长的告别是青春盛宴",
                    "x": -15,
                    "xanchor": "left",
                    "xref": "x",
                    "xshift": -10,
                    "y": 7,
                    "yanchor": "middle",
                    "yref": "y",
                    "yshift": 0
                  },
                  {
                    "bgcolor": "#f7e6e6",
                    "bordercolor": "rgb(174.96514129638672, 0.0, 0.0)",
                    "font": {
                      "color": "black",
                      "size": 14
                    },
                    "showarrow": false,
                    "text": "我冬夜的手像滚烫的誓...骄纵的心性已烟消云散",
                    "x": -30,
                    "xanchor": "left",
                    "xref": "x",
                    "xshift": -10,
                    "y": 7,
                    "yanchor": "middle",
                    "yref": "y",
                    "yshift": 0
                  },
                  {
                    "bgcolor": "#f8e6e6",
                    "bordercolor": "rgb(181.68781685829163, 0.0, 0.0)",
                    "font": {
                      "color": "black",
                      "size": 14
                    },
                    "showarrow": false,
                    "text": "就算天空再深看不出裂...悲剧重演我的命中命中",
                    "x": -15,
                    "xanchor": "left",
                    "xref": "x",
                    "xshift": -10,
                    "y": 8,
                    "yanchor": "middle",
                    "yref": "y",
                    "yshift": 0
                  },
                  {
                    "bgcolor": "#f8e6e6",
                    "bordercolor": "rgb(181.68781685829163, 0.0, 0.0)",
                    "font": {
                      "color": "black",
                      "size": 14
                    },
                    "showarrow": false,
                    "text": "越美丽的东西 我越不...然后天空又再涌起密云",
                    "x": -30,
                    "xanchor": "left",
                    "xref": "x",
                    "xshift": -10,
                    "y": 8,
                    "yanchor": "middle",
                    "yref": "y",
                    "yshift": 0
                  },
                  {
                    "bgcolor": "#f8e6e6",
                    "bordercolor": "rgb(186.11305046081543, 0.0, 0.0)",
                    "font": {
                      "color": "black",
                      "size": 14
                    },
                    "showarrow": false,
                    "text": "还没好好的感受 雪花...学会珍惜 天长和地久",
                    "x": -15,
                    "xanchor": "left",
                    "xref": "x",
                    "xshift": -10,
                    "y": 9,
                    "yanchor": "middle",
                    "yref": "y",
                    "yshift": 0
                  },
                  {
                    "bgcolor": "#f8e6e6",
                    "bordercolor": "rgb(186.11305046081543, 0.0, 0.0)",
                    "font": {
                      "color": "black",
                      "size": 14
                    },
                    "showarrow": false,
                    "text": "有时候 有时候 我会...你会陪我 看细水长流",
                    "x": -30,
                    "xanchor": "left",
                    "xref": "x",
                    "xshift": -10,
                    "y": 9,
                    "yanchor": "middle",
                    "yref": "y",
                    "yshift": 0
                  },
                  {
                    "bgcolor": "#ffe8e6",
                    "bordercolor": "rgb(250.45029640197754, 22.96511650085455, 0.0)",
                    "font": {
                      "color": "black",
                      "size": 14
                    },
                    "showarrow": false,
                    "text": "想走出你控制的领域 ...备 也没有后路可以退",
                    "x": -15,
                    "xanchor": "left",
                    "xref": "x",
                    "xshift": -10,
                    "y": 10,
                    "yanchor": "middle",
                    "yref": "y",
                    "yshift": 0
                  },
                  {
                    "bgcolor": "#ffe8e6",
                    "bordercolor": "rgb(250.45029640197754, 22.96511650085455, 0.0)",
                    "font": {
                      "color": "black",
                      "size": 14
                    },
                    "showarrow": false,
                    "text": "想逃离你布下的陷阱 ...气 也没有逃脱的幸运",
                    "x": -30,
                    "xanchor": "left",
                    "xref": "x",
                    "xshift": -10,
                    "y": 10,
                    "yanchor": "middle",
                    "yref": "y",
                    "yshift": 0
                  },
                  {
                    "bgcolor": "#f8e6e6",
                    "bordercolor": "rgb(187.03027474880219, 0.0, 0.0)",
                    "font": {
                      "color": "black",
                      "size": 14
                    },
                    "showarrow": false,
                    "text": "沙漠之中怎么会有泥鳅...敌对野牛 在远方决斗",
                    "x": -15,
                    "xanchor": "left",
                    "xref": "x",
                    "xshift": -10,
                    "y": 11,
                    "yanchor": "middle",
                    "yref": "y",
                    "yshift": 0
                  },
                  {
                    "bgcolor": "#f8e6e6",
                    "bordercolor": "rgb(187.03027474880219, 0.0, 0.0)",
                    "font": {
                      "color": "black",
                      "size": 14
                    },
                    "showarrow": false,
                    "text": "在一处被废弃的白蚁丘...事都有 包括像猫的狗",
                    "x": -30,
                    "xanchor": "left",
                    "xref": "x",
                    "xshift": -10,
                    "y": 11,
                    "yanchor": "middle",
                    "yref": "y",
                    "yshift": 0
                  },
                  {
                    "bgcolor": "#fff0e6",
                    "bordercolor": "rgb(252.15182423591614, 109.74303603172305, 0.0)",
                    "font": {
                      "color": "black",
                      "size": 14
                    },
                    "showarrow": false,
                    "text": "有什么不妥 有话就直...进球 单手过人运球　",
                    "x": -15,
                    "xanchor": "left",
                    "xref": "x",
                    "xshift": -10,
                    "y": 12,
                    "yanchor": "middle",
                    "yref": "y",
                    "yshift": 0
                  },
                  {
                    "bgcolor": "#fff0e6",
                    "bordercolor": "rgb(252.15182423591614, 109.74303603172305, 0.0)",
                    "font": {
                      "color": "black",
                      "size": 14
                    },
                    "showarrow": false,
                    "text": "篮下禁区游走 漂亮的...你这种队友 瞎透了我",
                    "x": -30,
                    "xanchor": "left",
                    "xref": "x",
                    "xshift": -10,
                    "y": 12,
                    "yanchor": "middle",
                    "yref": "y",
                    "yshift": 0
                  },
                  {
                    "bgcolor": "#fae6e6",
                    "bordercolor": "rgb(208.32629787921908, 0.0, 0.0)",
                    "font": {
                      "color": "black",
                      "size": 14
                    },
                    "showarrow": false,
                    "text": "是雨是风 还是彩虹 ... 穿梭时间的画面的钟",
                    "x": -15,
                    "xanchor": "left",
                    "xref": "x",
                    "xshift": -10,
                    "y": 13,
                    "yanchor": "middle",
                    "yref": "y",
                    "yshift": 0
                  },
                  {
                    "bgcolor": "#fae6e6",
                    "bordercolor": "rgb(208.32629787921908, 0.0, 0.0)",
                    "font": {
                      "color": "black",
                      "size": 14
                    },
                    "showarrow": false,
                    "text": "从反方向 开始移动 ...纵容 脸上汹涌 失控",
                    "x": -30,
                    "xanchor": "left",
                    "xref": "x",
                    "xshift": -10,
                    "y": 13,
                    "yanchor": "middle",
                    "yref": "y",
                    "yshift": 0
                  },
                  {
                    "bgcolor": "#fce6e6",
                    "bordercolor": "rgb(221.55465948581698, 0.0, 0.0)",
                    "font": {
                      "color": "black",
                      "size": 14
                    },
                    "showarrow": false,
                    "text": "难过 是因为闷了很久...脑袋有问题 随便说说",
                    "x": -15,
                    "xanchor": "left",
                    "xref": "x",
                    "xshift": -10,
                    "y": 14,
                    "yanchor": "middle",
                    "yref": "y",
                    "yshift": 0
                  },
                  {
                    "bgcolor": "#fce6e6",
                    "bordercolor": "rgb(221.55465948581698, 0.0, 0.0)",
                    "font": {
                      "color": "black",
                      "size": 14
                    },
                    "showarrow": false,
                    "text": "其实我早己经猜透看透... 却又再考倒我 说散",
                    "x": -30,
                    "xanchor": "left",
                    "xref": "x",
                    "xshift": -10,
                    "y": 14,
                    "yanchor": "middle",
                    "yref": "y",
                    "yshift": 0
                  },
                  {
                    "bgcolor": "#ffede6",
                    "bordercolor": "rgb(251.50279074907303, 76.64232820272449, 0.0)",
                    "font": {
                      "color": "black",
                      "size": 14
                    },
                    "showarrow": false,
                    "text": "我听说通常在战争后就...为什么我爸爸 那么凶",
                    "x": -15,
                    "xanchor": "left",
                    "xref": "x",
                    "xshift": -10,
                    "y": 15,
                    "yanchor": "middle",
                    "yref": "y",
                    "yshift": 0
                  },
                  {
                    "bgcolor": "#ffede6",
                    "bordercolor": "rgb(251.50279074907303, 76.64232820272449, 0.0)",
                    "font": {
                      "color": "black",
                      "size": 14
                    },
                    "showarrow": false,
                    "text": "如果真的我有一只翅膀...呢 妈跟我都没有错亏",
                    "x": -30,
                    "xanchor": "left",
                    "xref": "x",
                    "xshift": -10,
                    "y": 15,
                    "yanchor": "middle",
                    "yref": "y",
                    "yshift": 0
                  },
                  {
                    "bgcolor": "#f8e6e6",
                    "bordercolor": "rgb(181.18741023540497, 0.0, 0.0)",
                    "font": {
                      "color": "black",
                      "size": 14
                    },
                    "showarrow": false,
                    "text": "泛黄的春联还残留在墙...姥姥当年酿的豆瓣酱。",
                    "x": -15,
                    "xanchor": "left",
                    "xref": "x",
                    "xshift": -10,
                    "y": 16,
                    "yanchor": "middle",
                    "yref": "y",
                    "yshift": 0
                  },
                  {
                    "bgcolor": "#f8e6e6",
                    "bordercolor": "rgb(181.18741023540497, 0.0, 0.0)",
                    "font": {
                      "color": "black",
                      "size": 14
                    },
                    "showarrow": false,
                    "text": "我对着黑白照片开始想...墙黑瓦的淡淡的忧伤。",
                    "x": -30,
                    "xanchor": "left",
                    "xref": "x",
                    "xshift": -10,
                    "y": 16,
                    "yanchor": "middle",
                    "yref": "y",
                    "yshift": 0
                  },
                  {
                    "bgcolor": "#fff4e6",
                    "bordercolor": "rgb(252.7541470527649, 140.46149969100952, 0.0)",
                    "font": {
                      "color": "black",
                      "size": 14
                    },
                    "showarrow": false,
                    "text": "今天是外婆生日 我换...失去了爱情只盼望亲情",
                    "x": -15,
                    "xanchor": "left",
                    "xref": "x",
                    "xshift": -10,
                    "y": 17,
                    "yanchor": "middle",
                    "yref": "y",
                    "yshift": 0
                  },
                  {
                    "bgcolor": "#fff4e6",
                    "bordercolor": "rgb(252.7541470527649, 140.46149969100952, 0.0)",
                    "font": {
                      "color": "black",
                      "size": 14
                    },
                    "showarrow": false,
                    "text": "弥补回应 大人们以为...的无奈 无法变成期待",
                    "x": -30,
                    "xanchor": "left",
                    "xref": "x",
                    "xshift": -10,
                    "y": 17,
                    "yanchor": "middle",
                    "yref": "y",
                    "yshift": 0
                  },
                  {
                    "bgcolor": "#f5e6e6",
                    "bordercolor": "rgb(151.97905051708221, 0.0, 0.0)",
                    "font": {
                      "color": "black",
                      "size": 14
                    },
                    "showarrow": false,
                    "text": "小朋友，你是否有很多...就会开始懂得这段话。",
                    "x": -15,
                    "xanchor": "left",
                    "xref": "x",
                    "xshift": -10,
                    "y": 18,
                    "yanchor": "middle",
                    "yref": "y",
                    "yshift": 0
                  },
                  {
                    "bgcolor": "#f5e6e6",
                    "bordercolor": "rgb(151.97905051708221, 0.0, 0.0)",
                    "font": {
                      "color": "black",
                      "size": 14
                    },
                    "showarrow": false,
                    "text": "长大后，我开始明白为...，把手牵着一起梦游。",
                    "x": -30,
                    "xanchor": "left",
                    "xref": "x",
                    "xshift": -10,
                    "y": 18,
                    "yanchor": "middle",
                    "yref": "y",
                    "yshift": 0
                  }
                ],
                "height": 665,
                "margin": {
                  "l": 120
                },
                "shapes": [
                  {
                    "line": {
                      "color": "rgb(154.3478285074234, 0.0, 0.0)",
                      "width": 2
                    },
                    "type": "line",
                    "x0": -4.5777777777777775,
                    "x1": 0,
                    "xref": "x",
                    "y0": 0,
                    "y1": 0,
                    "yref": "y"
                  },
                  {
                    "line": {
                      "color": "rgb(142.31858122348785, 0.0, 0.0)",
                      "width": 2
                    },
                    "type": "line",
                    "x0": -4.511111111111111,
                    "x1": 1,
                    "xref": "x",
                    "y0": 1,
                    "y1": 1,
                    "yref": "y"
                  },
                  {
                    "line": {
                      "color": "rgb(128.0, 0.0, 0.0)",
                      "width": 2
                    },
                    "type": "line",
                    "x0": -4.5777777777777775,
                    "x1": 2,
                    "xref": "x",
                    "y0": 2,
                    "y1": 2,
                    "yref": "y"
                  },
                  {
                    "line": {
                      "color": "rgb(142.5183366537094, 0.0, 0.0)",
                      "width": 2
                    },
                    "type": "line",
                    "x0": -4.5777777777777775,
                    "x1": 3,
                    "xref": "x",
                    "y0": 3,
                    "y1": 3,
                    "yref": "y"
                  },
                  {
                    "line": {
                      "color": "rgb(250.56661784648895, 28.89751017093664, 0.0)",
                      "width": 2
                    },
                    "type": "line",
                    "x0": -4.5777777777777775,
                    "x1": 4,
                    "xref": "x",
                    "y0": 4,
                    "y1": 4,
                    "yref": "y"
                  },
                  {
                    "line": {
                      "color": "rgb(197.8764055967331, 0.0, 0.0)",
                      "width": 2
                    },
                    "type": "line",
                    "x0": -4.5777777777777775,
                    "x1": 5,
                    "xref": "x",
                    "y0": 5,
                    "y1": 5,
                    "yref": "y"
                  },
                  {
                    "line": {
                      "color": "rgb(253.96729081869125, 202.33183175325394, 0.0)",
                      "width": 2
                    },
                    "type": "line",
                    "x0": -4.5777777777777775,
                    "x1": 6,
                    "xref": "x",
                    "y0": 6,
                    "y1": 6,
                    "yref": "y"
                  },
                  {
                    "line": {
                      "color": "rgb(174.96514129638672, 0.0, 0.0)",
                      "width": 2
                    },
                    "type": "line",
                    "x0": -4.5777777777777775,
                    "x1": 7,
                    "xref": "x",
                    "y0": 7,
                    "y1": 7,
                    "yref": "y"
                  },
                  {
                    "line": {
                      "color": "rgb(181.68781685829163, 0.0, 0.0)",
                      "width": 2
                    },
                    "type": "line",
                    "x0": -4.5777777777777775,
                    "x1": 8,
                    "xref": "x",
                    "y0": 8,
                    "y1": 8,
                    "yref": "y"
                  },
                  {
                    "line": {
                      "color": "rgb(186.11305046081543, 0.0, 0.0)",
                      "width": 2
                    },
                    "type": "line",
                    "x0": -4.4222222222222225,
                    "x1": 9,
                    "xref": "x",
                    "y0": 9,
                    "y1": 9,
                    "yref": "y"
                  },
                  {
                    "line": {
                      "color": "rgb(250.45029640197754, 22.96511650085455, 0.0)",
                      "width": 2
                    },
                    "type": "line",
                    "x0": -4.4222222222222225,
                    "x1": 10,
                    "xref": "x",
                    "y0": 10,
                    "y1": 10,
                    "yref": "y"
                  },
                  {
                    "line": {
                      "color": "rgb(187.03027474880219, 0.0, 0.0)",
                      "width": 2
                    },
                    "type": "line",
                    "x0": -4.5,
                    "x1": 11,
                    "xref": "x",
                    "y0": 11,
                    "y1": 11,
                    "yref": "y"
                  },
                  {
                    "line": {
                      "color": "rgb(252.15182423591614, 109.74303603172305, 0.0)",
                      "width": 2
                    },
                    "type": "line",
                    "x0": -4.4222222222222225,
                    "x1": 12,
                    "xref": "x",
                    "y0": 12,
                    "y1": 12,
                    "yref": "y"
                  },
                  {
                    "line": {
                      "color": "rgb(208.32629787921908, 0.0, 0.0)",
                      "width": 2
                    },
                    "type": "line",
                    "x0": -4.344444444444445,
                    "x1": 13,
                    "xref": "x",
                    "y0": 13,
                    "y1": 13,
                    "yref": "y"
                  },
                  {
                    "line": {
                      "color": "rgb(221.55465948581698, 0.0, 0.0)",
                      "width": 2
                    },
                    "type": "line",
                    "x0": -4.4222222222222225,
                    "x1": 14,
                    "xref": "x",
                    "y0": 14,
                    "y1": 14,
                    "yref": "y"
                  },
                  {
                    "line": {
                      "color": "rgb(251.50279074907303, 76.64232820272449, 0.0)",
                      "width": 2
                    },
                    "type": "line",
                    "x0": -4.5,
                    "x1": 15,
                    "xref": "x",
                    "y0": 15,
                    "y1": 15,
                    "yref": "y"
                  },
                  {
                    "line": {
                      "color": "rgb(181.18741023540497, 0.0, 0.0)",
                      "width": 2
                    },
                    "type": "line",
                    "x0": -4.5777777777777775,
                    "x1": 16,
                    "xref": "x",
                    "y0": 16,
                    "y1": 16,
                    "yref": "y"
                  },
                  {
                    "line": {
                      "color": "rgb(252.7541470527649, 140.46149969100952, 0.0)",
                      "width": 2
                    },
                    "type": "line",
                    "x0": -4.5,
                    "x1": 17,
                    "xref": "x",
                    "y0": 17,
                    "y1": 17,
                    "yref": "y"
                  },
                  {
                    "line": {
                      "color": "rgb(151.97905051708221, 0.0, 0.0)",
                      "width": 2
                    },
                    "type": "line",
                    "x0": -4.5777777777777775,
                    "x1": 18,
                    "xref": "x",
                    "y0": 18,
                    "y1": 18,
                    "yref": "y"
                  }
                ],
                "template": {
                  "data": {
                    "bar": [
                      {
                        "error_x": {
                          "color": "#2a3f5f"
                        },
                        "error_y": {
                          "color": "#2a3f5f"
                        },
                        "marker": {
                          "line": {
                            "color": "#E5ECF6",
                            "width": 0.5
                          },
                          "pattern": {
                            "fillmode": "overlay",
                            "size": 10,
                            "solidity": 0.2
                          }
                        },
                        "type": "bar"
                      }
                    ],
                    "barpolar": [
                      {
                        "marker": {
                          "line": {
                            "color": "#E5ECF6",
                            "width": 0.5
                          },
                          "pattern": {
                            "fillmode": "overlay",
                            "size": 10,
                            "solidity": 0.2
                          }
                        },
                        "type": "barpolar"
                      }
                    ],
                    "carpet": [
                      {
                        "aaxis": {
                          "endlinecolor": "#2a3f5f",
                          "gridcolor": "white",
                          "linecolor": "white",
                          "minorgridcolor": "white",
                          "startlinecolor": "#2a3f5f"
                        },
                        "baxis": {
                          "endlinecolor": "#2a3f5f",
                          "gridcolor": "white",
                          "linecolor": "white",
                          "minorgridcolor": "white",
                          "startlinecolor": "#2a3f5f"
                        },
                        "type": "carpet"
                      }
                    ],
                    "choropleth": [
                      {
                        "colorbar": {
                          "outlinewidth": 0,
                          "ticks": ""
                        },
                        "type": "choropleth"
                      }
                    ],
                    "contour": [
                      {
                        "colorbar": {
                          "outlinewidth": 0,
                          "ticks": ""
                        },
                        "colorscale": [
                          [
                            0,
                            "#0d0887"
                          ],
                          [
                            0.1111111111111111,
                            "#46039f"
                          ],
                          [
                            0.2222222222222222,
                            "#7201a8"
                          ],
                          [
                            0.3333333333333333,
                            "#9c179e"
                          ],
                          [
                            0.4444444444444444,
                            "#bd3786"
                          ],
                          [
                            0.5555555555555556,
                            "#d8576b"
                          ],
                          [
                            0.6666666666666666,
                            "#ed7953"
                          ],
                          [
                            0.7777777777777778,
                            "#fb9f3a"
                          ],
                          [
                            0.8888888888888888,
                            "#fdca26"
                          ],
                          [
                            1,
                            "#f0f921"
                          ]
                        ],
                        "type": "contour"
                      }
                    ],
                    "contourcarpet": [
                      {
                        "colorbar": {
                          "outlinewidth": 0,
                          "ticks": ""
                        },
                        "type": "contourcarpet"
                      }
                    ],
                    "heatmap": [
                      {
                        "colorbar": {
                          "outlinewidth": 0,
                          "ticks": ""
                        },
                        "colorscale": [
                          [
                            0,
                            "#0d0887"
                          ],
                          [
                            0.1111111111111111,
                            "#46039f"
                          ],
                          [
                            0.2222222222222222,
                            "#7201a8"
                          ],
                          [
                            0.3333333333333333,
                            "#9c179e"
                          ],
                          [
                            0.4444444444444444,
                            "#bd3786"
                          ],
                          [
                            0.5555555555555556,
                            "#d8576b"
                          ],
                          [
                            0.6666666666666666,
                            "#ed7953"
                          ],
                          [
                            0.7777777777777778,
                            "#fb9f3a"
                          ],
                          [
                            0.8888888888888888,
                            "#fdca26"
                          ],
                          [
                            1,
                            "#f0f921"
                          ]
                        ],
                        "type": "heatmap"
                      }
                    ],
                    "heatmapgl": [
                      {
                        "colorbar": {
                          "outlinewidth": 0,
                          "ticks": ""
                        },
                        "colorscale": [
                          [
                            0,
                            "#0d0887"
                          ],
                          [
                            0.1111111111111111,
                            "#46039f"
                          ],
                          [
                            0.2222222222222222,
                            "#7201a8"
                          ],
                          [
                            0.3333333333333333,
                            "#9c179e"
                          ],
                          [
                            0.4444444444444444,
                            "#bd3786"
                          ],
                          [
                            0.5555555555555556,
                            "#d8576b"
                          ],
                          [
                            0.6666666666666666,
                            "#ed7953"
                          ],
                          [
                            0.7777777777777778,
                            "#fb9f3a"
                          ],
                          [
                            0.8888888888888888,
                            "#fdca26"
                          ],
                          [
                            1,
                            "#f0f921"
                          ]
                        ],
                        "type": "heatmapgl"
                      }
                    ],
                    "histogram": [
                      {
                        "marker": {
                          "pattern": {
                            "fillmode": "overlay",
                            "size": 10,
                            "solidity": 0.2
                          }
                        },
                        "type": "histogram"
                      }
                    ],
                    "histogram2d": [
                      {
                        "colorbar": {
                          "outlinewidth": 0,
                          "ticks": ""
                        },
                        "colorscale": [
                          [
                            0,
                            "#0d0887"
                          ],
                          [
                            0.1111111111111111,
                            "#46039f"
                          ],
                          [
                            0.2222222222222222,
                            "#7201a8"
                          ],
                          [
                            0.3333333333333333,
                            "#9c179e"
                          ],
                          [
                            0.4444444444444444,
                            "#bd3786"
                          ],
                          [
                            0.5555555555555556,
                            "#d8576b"
                          ],
                          [
                            0.6666666666666666,
                            "#ed7953"
                          ],
                          [
                            0.7777777777777778,
                            "#fb9f3a"
                          ],
                          [
                            0.8888888888888888,
                            "#fdca26"
                          ],
                          [
                            1,
                            "#f0f921"
                          ]
                        ],
                        "type": "histogram2d"
                      }
                    ],
                    "histogram2dcontour": [
                      {
                        "colorbar": {
                          "outlinewidth": 0,
                          "ticks": ""
                        },
                        "colorscale": [
                          [
                            0,
                            "#0d0887"
                          ],
                          [
                            0.1111111111111111,
                            "#46039f"
                          ],
                          [
                            0.2222222222222222,
                            "#7201a8"
                          ],
                          [
                            0.3333333333333333,
                            "#9c179e"
                          ],
                          [
                            0.4444444444444444,
                            "#bd3786"
                          ],
                          [
                            0.5555555555555556,
                            "#d8576b"
                          ],
                          [
                            0.6666666666666666,
                            "#ed7953"
                          ],
                          [
                            0.7777777777777778,
                            "#fb9f3a"
                          ],
                          [
                            0.8888888888888888,
                            "#fdca26"
                          ],
                          [
                            1,
                            "#f0f921"
                          ]
                        ],
                        "type": "histogram2dcontour"
                      }
                    ],
                    "mesh3d": [
                      {
                        "colorbar": {
                          "outlinewidth": 0,
                          "ticks": ""
                        },
                        "type": "mesh3d"
                      }
                    ],
                    "parcoords": [
                      {
                        "line": {
                          "colorbar": {
                            "outlinewidth": 0,
                            "ticks": ""
                          }
                        },
                        "type": "parcoords"
                      }
                    ],
                    "pie": [
                      {
                        "automargin": true,
                        "type": "pie"
                      }
                    ],
                    "scatter": [
                      {
                        "fillpattern": {
                          "fillmode": "overlay",
                          "size": 10,
                          "solidity": 0.2
                        },
                        "type": "scatter"
                      }
                    ],
                    "scatter3d": [
                      {
                        "line": {
                          "colorbar": {
                            "outlinewidth": 0,
                            "ticks": ""
                          }
                        },
                        "marker": {
                          "colorbar": {
                            "outlinewidth": 0,
                            "ticks": ""
                          }
                        },
                        "type": "scatter3d"
                      }
                    ],
                    "scattercarpet": [
                      {
                        "marker": {
                          "colorbar": {
                            "outlinewidth": 0,
                            "ticks": ""
                          }
                        },
                        "type": "scattercarpet"
                      }
                    ],
                    "scattergeo": [
                      {
                        "marker": {
                          "colorbar": {
                            "outlinewidth": 0,
                            "ticks": ""
                          }
                        },
                        "type": "scattergeo"
                      }
                    ],
                    "scattergl": [
                      {
                        "marker": {
                          "colorbar": {
                            "outlinewidth": 0,
                            "ticks": ""
                          }
                        },
                        "type": "scattergl"
                      }
                    ],
                    "scattermapbox": [
                      {
                        "marker": {
                          "colorbar": {
                            "outlinewidth": 0,
                            "ticks": ""
                          }
                        },
                        "type": "scattermapbox"
                      }
                    ],
                    "scatterpolar": [
                      {
                        "marker": {
                          "colorbar": {
                            "outlinewidth": 0,
                            "ticks": ""
                          }
                        },
                        "type": "scatterpolar"
                      }
                    ],
                    "scatterpolargl": [
                      {
                        "marker": {
                          "colorbar": {
                            "outlinewidth": 0,
                            "ticks": ""
                          }
                        },
                        "type": "scatterpolargl"
                      }
                    ],
                    "scatterternary": [
                      {
                        "marker": {
                          "colorbar": {
                            "outlinewidth": 0,
                            "ticks": ""
                          }
                        },
                        "type": "scatterternary"
                      }
                    ],
                    "surface": [
                      {
                        "colorbar": {
                          "outlinewidth": 0,
                          "ticks": ""
                        },
                        "colorscale": [
                          [
                            0,
                            "#0d0887"
                          ],
                          [
                            0.1111111111111111,
                            "#46039f"
                          ],
                          [
                            0.2222222222222222,
                            "#7201a8"
                          ],
                          [
                            0.3333333333333333,
                            "#9c179e"
                          ],
                          [
                            0.4444444444444444,
                            "#bd3786"
                          ],
                          [
                            0.5555555555555556,
                            "#d8576b"
                          ],
                          [
                            0.6666666666666666,
                            "#ed7953"
                          ],
                          [
                            0.7777777777777778,
                            "#fb9f3a"
                          ],
                          [
                            0.8888888888888888,
                            "#fdca26"
                          ],
                          [
                            1,
                            "#f0f921"
                          ]
                        ],
                        "type": "surface"
                      }
                    ],
                    "table": [
                      {
                        "cells": {
                          "fill": {
                            "color": "#EBF0F8"
                          },
                          "line": {
                            "color": "white"
                          }
                        },
                        "header": {
                          "fill": {
                            "color": "#C8D4E3"
                          },
                          "line": {
                            "color": "white"
                          }
                        },
                        "type": "table"
                      }
                    ]
                  },
                  "layout": {
                    "annotationdefaults": {
                      "arrowcolor": "#2a3f5f",
                      "arrowhead": 0,
                      "arrowwidth": 1
                    },
                    "autotypenumbers": "strict",
                    "coloraxis": {
                      "colorbar": {
                        "outlinewidth": 0,
                        "ticks": ""
                      }
                    },
                    "colorscale": {
                      "diverging": [
                        [
                          0,
                          "#8e0152"
                        ],
                        [
                          0.1,
                          "#c51b7d"
                        ],
                        [
                          0.2,
                          "#de77ae"
                        ],
                        [
                          0.3,
                          "#f1b6da"
                        ],
                        [
                          0.4,
                          "#fde0ef"
                        ],
                        [
                          0.5,
                          "#f7f7f7"
                        ],
                        [
                          0.6,
                          "#e6f5d0"
                        ],
                        [
                          0.7,
                          "#b8e186"
                        ],
                        [
                          0.8,
                          "#7fbc41"
                        ],
                        [
                          0.9,
                          "#4d9221"
                        ],
                        [
                          1,
                          "#276419"
                        ]
                      ],
                      "sequential": [
                        [
                          0,
                          "#0d0887"
                        ],
                        [
                          0.1111111111111111,
                          "#46039f"
                        ],
                        [
                          0.2222222222222222,
                          "#7201a8"
                        ],
                        [
                          0.3333333333333333,
                          "#9c179e"
                        ],
                        [
                          0.4444444444444444,
                          "#bd3786"
                        ],
                        [
                          0.5555555555555556,
                          "#d8576b"
                        ],
                        [
                          0.6666666666666666,
                          "#ed7953"
                        ],
                        [
                          0.7777777777777778,
                          "#fb9f3a"
                        ],
                        [
                          0.8888888888888888,
                          "#fdca26"
                        ],
                        [
                          1,
                          "#f0f921"
                        ]
                      ],
                      "sequentialminus": [
                        [
                          0,
                          "#0d0887"
                        ],
                        [
                          0.1111111111111111,
                          "#46039f"
                        ],
                        [
                          0.2222222222222222,
                          "#7201a8"
                        ],
                        [
                          0.3333333333333333,
                          "#9c179e"
                        ],
                        [
                          0.4444444444444444,
                          "#bd3786"
                        ],
                        [
                          0.5555555555555556,
                          "#d8576b"
                        ],
                        [
                          0.6666666666666666,
                          "#ed7953"
                        ],
                        [
                          0.7777777777777778,
                          "#fb9f3a"
                        ],
                        [
                          0.8888888888888888,
                          "#fdca26"
                        ],
                        [
                          1,
                          "#f0f921"
                        ]
                      ]
                    },
                    "colorway": [
                      "#636efa",
                      "#EF553B",
                      "#00cc96",
                      "#ab63fa",
                      "#FFA15A",
                      "#19d3f3",
                      "#FF6692",
                      "#B6E880",
                      "#FF97FF",
                      "#FECB52"
                    ],
                    "font": {
                      "color": "#2a3f5f"
                    },
                    "geo": {
                      "bgcolor": "white",
                      "lakecolor": "white",
                      "landcolor": "#E5ECF6",
                      "showlakes": true,
                      "showland": true,
                      "subunitcolor": "white"
                    },
                    "hoverlabel": {
                      "align": "left"
                    },
                    "hovermode": "closest",
                    "mapbox": {
                      "style": "light"
                    },
                    "paper_bgcolor": "white",
                    "plot_bgcolor": "#E5ECF6",
                    "polar": {
                      "angularaxis": {
                        "gridcolor": "white",
                        "linecolor": "white",
                        "ticks": ""
                      },
                      "bgcolor": "#E5ECF6",
                      "radialaxis": {
                        "gridcolor": "white",
                        "linecolor": "white",
                        "ticks": ""
                      }
                    },
                    "scene": {
                      "xaxis": {
                        "backgroundcolor": "#E5ECF6",
                        "gridcolor": "white",
                        "gridwidth": 2,
                        "linecolor": "white",
                        "showbackground": true,
                        "ticks": "",
                        "zerolinecolor": "white"
                      },
                      "yaxis": {
                        "backgroundcolor": "#E5ECF6",
                        "gridcolor": "white",
                        "gridwidth": 2,
                        "linecolor": "white",
                        "showbackground": true,
                        "ticks": "",
                        "zerolinecolor": "white"
                      },
                      "zaxis": {
                        "backgroundcolor": "#E5ECF6",
                        "gridcolor": "white",
                        "gridwidth": 2,
                        "linecolor": "white",
                        "showbackground": true,
                        "ticks": "",
                        "zerolinecolor": "white"
                      }
                    },
                    "shapedefaults": {
                      "line": {
                        "color": "#2a3f5f"
                      }
                    },
                    "ternary": {
                      "aaxis": {
                        "gridcolor": "white",
                        "linecolor": "white",
                        "ticks": ""
                      },
                      "baxis": {
                        "gridcolor": "white",
                        "linecolor": "white",
                        "ticks": ""
                      },
                      "bgcolor": "#E5ECF6",
                      "caxis": {
                        "gridcolor": "white",
                        "linecolor": "white",
                        "ticks": ""
                      }
                    },
                    "title": {
                      "x": 0.05
                    },
                    "xaxis": {
                      "automargin": true,
                      "gridcolor": "white",
                      "linecolor": "white",
                      "ticks": "",
                      "title": {
                        "standoff": 15
                      },
                      "zerolinecolor": "white",
                      "zerolinewidth": 2
                    },
                    "yaxis": {
                      "automargin": true,
                      "gridcolor": "white",
                      "linecolor": "white",
                      "ticks": "",
                      "title": {
                        "standoff": 15
                      },
                      "zerolinecolor": "white",
                      "zerolinewidth": 2
                    }
                  }
                },
                "width": 1330,
                "xaxis": {
                  "tickmode": "array",
                  "ticktext": [
                    0,
                    1,
                    2,
                    3,
                    4,
                    5,
                    6,
                    7,
                    8,
                    9,
                    10,
                    11,
                    12,
                    13,
                    14,
                    15,
                    16,
                    17,
                    18
                  ],
                  "tickvals": [
                    0,
                    1,
                    2,
                    3,
                    4,
                    5,
                    6,
                    7,
                    8,
                    9,
                    10,
                    11,
                    12,
                    13,
                    14,
                    15,
                    16,
                    17,
                    18
                  ],
                  "title": {
                    "text": "X Axis"
                  }
                },
                "yaxis": {
                  "autorange": "reversed",
                  "tickmode": "array",
                  "ticktext": [
                    0,
                    1,
                    2,
                    3,
                    4,
                    5,
                    6,
                    7,
                    8,
                    9,
                    10,
                    11,
                    12,
                    13,
                    14,
                    15,
                    16,
                    17,
                    18
                  ],
                  "tickvals": [
                    0,
                    1,
                    2,
                    3,
                    4,
                    5,
                    6,
                    7,
                    8,
                    9,
                    10,
                    11,
                    12,
                    13,
                    14,
                    15,
                    16,
                    17,
                    18
                  ],
                  "title": {
                    "text": "Y Axis"
                  }
                }
              }
            }
          },
          "metadata": {},
          "output_type": "display_data"
        }
      ],
      "source": [
        "from lib.heatmap import Heatmap\n",
        "heat_plot_data_path = \"../data/sentspair_embed.csv\"\n",
        "heat_plot_data = pd.read_csv(heat_plot_data_path, header=0)\n",
        "first = heat_plot_data[\"first\"].tolist()\n",
        "second = heat_plot_data[\"second\"].tolist()\n",
        "first_embed = heat_plot_data[\"first_embed\"].tolist()\n",
        "second_embed = heat_plot_data[\"second_embed\"].tolist()\n",
        "# positions = [(i, i) for i in range(0, 20, 2)] + [(1, 5), (2, 3), (15, 9), (5, 13), (17, 7)]\n",
        "# heatmap = Heatmap(df, positions)\n",
        "df = pd.DataFrame({ \"first\":text_left, \n",
        "                    \"second\":text_right, \n",
        "                    \"first_embed\":[np.array(embeddings_left[i]) for i in range(len(embeddings_left))], \n",
        "                    \"second_embed\":[np.array(embeddings_right[i]) for i in range(len(embeddings_right))]})\n",
        "heatmap = Heatmap(df)\n",
        "heatmap.create_heatmap(font_path='./lib/arial.ttf')"
      ]
    },
    {
      "attachments": {},
      "cell_type": "markdown",
      "metadata": {},
      "source": [
        "## 模糊搜索"
      ]
    },
    {
      "cell_type": "code",
      "execution_count": 43,
      "metadata": {},
      "outputs": [],
      "source": [
        "import ast\n",
        "import lib.fuzzySearch\n",
        "import importlib\n",
        "\n",
        "importlib.reload(lib.fuzzySearch)\n",
        "from lib.fuzzySearch import FuzzySearch\n",
        "fuzzy_search_data_path = \"../data/search_data.csv\"\n",
        "stop_words_path = \"../data/stop_word.txt\"\n",
        "\n",
        "fuzzy_search_data = pd.read_csv(fuzzy_search_data_path, header=0)\n",
        "fuzzy_search_data[\"embed\"] = fuzzy_search_data[\"embed\"].apply(lambda x: ast.literal_eval(x))"
      ]
    },
    {
      "cell_type": "code",
      "execution_count": 44,
      "metadata": {},
      "outputs": [
        {
          "name": "stderr",
          "output_type": "stream",
          "text": [
            "Explicitly passing a `revision` is encouraged when loading a model with custom code to ensure no malicious code has been contributed in a newer revision.\n"
          ]
        }
      ],
      "source": [
        "# fuzzy_search_data is the data source to search from, which is a pandas dataframe and should have two columns: sentence and embed\n",
        "# sentence is the content of the sentence, each row is a string\n",
        "# embed is the sentence embedding, each row is a list of float\n",
        "fuzzy_search = FuzzySearch(fuzzy_search_data, stop_words_path = stop_words_path)"
      ]
    },
    {
      "cell_type": "code",
      "execution_count": 45,
      "metadata": {},
      "outputs": [
        {
          "name": "stderr",
          "output_type": "stream",
          "text": [
            "Asking to truncate to max_length but no maximum length is provided and the model has no predefined maximum length. Default to no truncation.\n"
          ]
        },
        {
          "name": "stdout",
          "output_type": "stream",
          "text": [
            "第1个结果：\n",
            "<mark>虎扑</mark>体育7月14日讯。<mark>马刺</mark>官网宣布,<mark>保罗</mark>-加<mark>索尔</mark>与<mark>球队正式签订协议</mark>。根据之前的<mark>报道</mark>,加<mark>索尔</mark>与<mark>马刺签订</mark>的是一份为期2年3000万的<mark>协议</mark>。加<mark>索尔</mark>上赛季共打了72场比赛,场均31.8分钟,贡献16.5分11.0篮板4.1助攻2.0盖帽。\n",
            "\n",
            "第2个结果：\n",
            "2015-09-2809:03。新浪体育。显示图片下一站丹佛?北京时间9月28日,据雅<mark>虎</mark>体育<mark>报道</mark>,波特兰开拓者队已经与老将射手迈克-米勒达成了合同买断。一旦米勒成为自由球员之后,丹佛掘金队有意得到他。据雅<mark>虎</mark>体育得到的消息,如果迈克-米勒在规定的时间内没有被<mark>球队</mark>认领并成为一名自由球员,联盟里有一些<mark>球队</mark>将会对他感兴趣,其中就包括掘金队。目前,掘金队中已经有14个保障合同。事实上早在一年前,掘金队就在自由球员市场上猛追过米勒。但最终,米勒决定跟随勒布朗-詹姆斯加盟骑士队。今年7月,开拓者队在关于布兰登-海伍德的那笔交易中得到了迈克-米勒。作为2000年的NBA首轮5号新秀,迈克-米勒曾获得过2001年最佳新秀称号、2006年最佳第六人称号,并且曾跟随迈阿密热火队夺得过两次NBA总冠军。在长达15年的职业生涯里,米勒一直被视为一名关键时刻靠得住的射手,并且能够为争冠<mark>球队</mark>做出贡献。他的生涯场均数据是11.3分、4.4个篮板和2.7次助攻。\n",
            "\n",
            "第3个结果：\n",
            "<mark>虎扑</mark>体育9月3日讯。根据《太阳哨兵报》记者IraWinderman的<mark>报道</mark>,帕特-莱利本周接受采访时表示,交易得到沙奎尔-奥尼尔是他们队史上最大的交易收获。在2004年夏天,奥尼尔被湖人交易到了热火,随后他就与德维恩-韦德在2005-06赛季一起为热火拿到了他们队史上的首个总冠军。“我会这么说,我的意思也是这个,”莱利说,“获得奥尼尔比我们史上的任何收获都重要,其中也包括三巨头。”莱利称热火交易得到奥尼尔的重要性超过了热火组成勒布朗-詹姆斯、克里斯-波什和韦德的三巨头,也超过了<mark>球队</mark>收获阿隆佐-莫宁。“莫宁很重要,但是得到沙奎尔改变了我们<mark>球队</mark>的一切。”莱利说道。2004年夏天,热火送出了布莱恩-格兰特,拉马尔-奥多姆、卡隆-巴特勒、一个首轮选秀权和一个次轮选秀权,得到了奥尼尔。“那个影响深远的时刻,”莱利说,“这真的让我们变得非常非常有竞争力,他扭转了我们的<mark>球队</mark>,他给了我们真正的竞争力。”2004年夏天,热火老板米基-阿里森允许莱利与湖人老板杰里-巴斯讨论了湖人空缺的主帅一职。“我们坐下来谈了<mark>球队</mark>,”莱利说,“我记得其中一个话题出现了,我问了他们这个问题,‘奥尼尔和科比-布莱恩特怎么样?’他们说…莱利接着说:“他们真的不想谈这个,我说我唯一可以来执教他们的办法就是给我一个将他俩重组在一起的机会,打造他们之间的关系,然后让这个事情继续前进,因为我认为他们那支<mark>球队</mark>,他们刚完成的那些事情,他们一起可以在洛杉矶拿到更多的总冠军。”“就在那之后,我们都上了楼一起吃晚饭,那就是我最后一次听到他们想让我执教了,但是他们肯定想跟我们做一笔交易,所以我不知道是否他带我去那是真的想让我执教<mark>球队</mark>,还是他带我去那只是想猜测下我们是否会交易韦德、巴特勒和其他的一切,我拒绝了,但是当他们打回电话来的时候,当米奇-库普切克打电话过来的时候,我们有兴趣,这是毫无疑问的,然后我们研究出了一个交易报价,然后交易就达成了,我们最终得到了奥尼尔,我们最终拿到了总冠军。”莱利说道。在交易<mark>正式</mark>达成之前,奥尼尔与阿里森见了面,莱利是中间人。“我打电话给米基,”莱利说,“我说,‘米基,奥尼尔想来拜访你’,他说,‘好啊,我们已经有了一船的客人了’,他不得不为我租下另外一艘船,让我待在他的船旁边,他还不得不放上一个超大的床,让奥尼尔和他的妻子可以在上面过夜,但是结果那艘船还是不够大,奥尼尔最终大部分时间都睡在了客厅的地板上。自从热火拿到他们的首个总冠军后,他们又拿到了两个总冠军。“这已经过去了10年了,我们之前的表现不错,我们非常有竞争性,”莱利说,“我认为奥尼尔的交易改变了我们的<mark>球队</mark>文化,我认为我们之前与尼克斯的季后赛系列赛连续三个赛季都是引人入胜的,我们最终输了,但是就像我说的那样,‘你知道么?我们必须要去努力争取。’2005年12月,莱利成为了热火的主帅,但是他称这不是奥尼尔的要求。“不,”莱利说,“他从没有要求我,他也没有要求米基让我出任教练,这从没有发生过,他从没有赶走斯坦-范甘迪。”“有很多关于此事的猜测,我是<mark>球队</mark>的总裁,作为<mark>球队</mark>当时的总裁,我差不多就是<mark>球队</mark>的看管者,但是我也有眼睛,我知道在发生着什么,我知道这支<mark>球队</mark>需要什么,我们当时没有很多的时间了,从那个角度来说,我们只有3个赛季或者4个赛季有夺冠的机会。莱利说道。2007-08赛季中期,奥尼尔被热火交易到了太阳,那个时候,奥尼尔和莱利的关系已经恶化。“我跟很多球员都有过争吵,跟他们所有人都有过争吵,我执教的每个球员,每个超级球星和每个名人堂成员,”莱利说,“有时候会有意见不一致的时候,他们都是好球员,我是有要求的人,他们也是有要求的球员,所以有时候我们对待彼此时事情会有点过,但是当奥尼尔离开的时候,那不是最好的条件,但是这对我们所有人来说都好,那不是只是一个事情的原因,只是到了时候了。”莱利说道。不过莱利仍然非常感激奥尼尔,他说:“当他想统治一场比赛的时候,并且想对获胜产生影响的时候,没有什么比这更好了。”\n",
            "\n",
            "第4个结果：\n",
            "2015-08-0710:14。新浪体育。显示图片《世界体育报》:巴萨报价诺利托。据《世界体育报》<mark>报道</mark>,如果在未来几天佩德罗转会曼联的话,那塞尔塔球员诺利托将作为佩德罗的替代者被巴萨引进。一个最好的证明就是巴萨已经行动起来了,据《世界体育报》从巴萨内部获得的信息,诺坎普高层已给球员和塞尔塔俱乐部送上了具体的合约和报价。据悉,巴萨给诺利托开出的是一份为期4年的合同,而税前年薪方面,诺利托获得的是在塞尔塔的数字的三倍。此外,巴萨方面给塞尔塔开出的1400万固定加400万欧元浮动的转会报价。因为遭受国际足联处罚,巴萨今夏无法引进球员,因此巴萨要到明年1月份才能<mark>正式</mark>引进诺利托,因此,转会完成后,诺利托将以租借的性质继续留在塞尔塔踢球,直到明年1月。这样,球员本人也可以保持状态。如果诺利托最终无法加盟巴萨——因为他能否加盟还得看佩德罗的去留情况,那他也一样会获得塞尔塔的补偿。诺利托是贝里佐的<mark>球队</mark>的关键一员,塞尔塔主席也希望诺利托能感受到俱乐部第一球星的待遇。虽然不久之前他与塞尔塔续约到2019年,但俱乐部并不排除给他加薪的可能,毕竟他不能加盟巴萨,损失会非常大。上赛季在诺坎普球场对阵巴萨,诺利托就曾给红蓝军团带来极大麻烦,他的速度和爆发力令巴萨后防线防不胜防,比赛中正是他的脚后跟传球帮助拉里维得分,而塞尔塔也得意在客场击败强大的巴萨。事实上诺利托也是巴萨“自家人”,他2008年加盟拉玛西亚,在巴萨二队踢过3个赛季,当时巴萨二队的主教练正是恩里克。在恩里克手下,诺利托踢边锋的位置,而2010年10月,在巴萨对马洛卡的联赛比赛中,诺利托还上演了自己的西甲首秀,不过当时瓜迪奥拉手下巨星云集,诺利托选择了离开诺坎普,他到葡萄牙本菲卡尝试新的经历。诺利托在葡萄牙踢了一个半赛季,总共打入12球,第二个赛季的中期,他被租借到西甲的格拉纳达,2013年,诺利托又加盟塞尔塔,与昔日的恩师恩里克重逢。在塞尔塔诺利托发挥稳定,第一个赛季,他在33场比赛里打入14球,上赛季,他联赛出场36场,也打入13球。既可以担任二中锋,又可以出任边锋,这种多样性令巴萨技术部门非常喜欢,认为他完全可以代替佩德罗。恩里克认为,诺利托可以给巴萨带来进球,能给巴萨的中场带来水准,而且诺利托很低调,安排他打替补也不会有怨言,这一点和佩德罗也很相像。诺利托从不掩饰自己对巴萨的感情:“我过去是、现在也是巴萨球迷。”诺利托并不排除重返诺坎普球场的可能:“对我来说,如果巴萨召唤我,那我是不会说‘不’的。巴萨召唤我,我又能去,那肯定去。对巴萨来说,诺利托是佩德罗的合格“备胎”,现在恩里克不用担心佩德罗走后<mark>球队</mark>会留下空缺了。\n",
            "\n",
            "第5个结果：\n",
            "2015-08-0609:26。新浪体育。显示图片加盟骑士。北京时间8月6日《克利夫兰老实人报》<mark>报道</mark>,在经<mark>报道</mark>达成<mark>协议</mark>数周之后,理查德-杰弗森与克利夫兰骑士的签约终于<mark>正式</mark>落成了纸面文件。今天,骑士官方宣布,他们与老将杰弗森完成了签约,合同为期一年,价值老将底薪。今年35岁的杰弗森,进入联盟已经14个年头,而骑士,将是他NBA生涯所效力的第七支<mark>球队</mark>。上赛季作为小牛队的一员,杰弗森虽然每场比赛只获得16.8分钟上场时间,得到5.8分和2.5个篮板,但三分球命中率高达42%。骑士队虽然阵容华丽,但始终需要一名可靠的替补三号位,在勒布朗-詹姆斯下场休息时顶上空缺。上赛季肖恩-马里昂的表现令人失望,<mark>球队</mark>很多时候都是让JR-史密斯和伊曼-香波特这样的后场球员客串替补小前锋。休赛期,自由球员泰肖恩-普林斯曾与骑士传出过绯闻,但最终不了了之。杰弗森一开始曾经答应与小牛续约,不过经过德安德鲁-乔丹事件,马克-库板允许自由球员们重新考虑自己的选择。最终,杰弗森转而决定签约骑士,追逐自己的冠军梦想。作为2001届的首轮13号新秀,杰弗森曾经随篮网两次杀进总决赛,职业生涯场均可以贡献13.9分4.3个篮板,三分球命中率达到38%。\n",
            "\n"
          ]
        },
        {
          "data": {
            "text/html": [
              "<mark>虎扑</mark>体育7月14日讯。<mark>马刺</mark>官网宣布,<mark>保罗</mark>-加<mark>索尔</mark>与<mark>球队正式签订协议</mark>。根据之前的<mark>报道</mark>,加<mark>索尔</mark>与<mark>马刺签订</mark>的是一份为期2年3000万的<mark>协议</mark>。加<mark>索尔</mark>上赛季共打了72场比赛,场均31.8分钟,贡献16.5分11"
            ],
            "text/plain": [
              "<IPython.core.display.HTML object>"
            ]
          },
          "metadata": {},
          "output_type": "display_data"
        },
        {
          "data": {
            "text/html": [
              "03。新浪体育。显示图片下一站丹佛?北京时间9月28日,据雅<mark>虎</mark>体育<mark>报道</mark>,波特兰开拓者队已经与老将射手迈克-米勒达成了合同买断。一旦米勒成为自由球员之后,丹佛掘金队有意得到他。据雅<mark>虎</mark>体育得到的消息,如果迈克-米勒在规定的时间内没有被<mark>球队</mark>认领并成为一名自由球员,联盟里有一些<mark>球队</mark>将会对他感兴趣,其中就包括掘金队。目前,掘金队中已经有14个 ... 涯里,米勒一直被视为一名关键时刻靠得住的射手,并且能够为争冠<mark>球队</mark>做出贡献。他的生涯场均数据是11.3分、4.4个篮板和2.7"
            ],
            "text/plain": [
              "<IPython.core.display.HTML object>"
            ]
          },
          "metadata": {},
          "output_type": "display_data"
        },
        {
          "data": {
            "text/html": [
              "<mark>虎扑</mark>体育9月3日讯。根据《太阳哨兵报》记者IraWinderman的<mark>报道</mark>,帕特-莱利本周接受采访时表示,交易得到沙奎尔-奥尼尔是他们 ... 热火组成勒布朗-詹姆斯、克里斯-波什和韦德的三巨头,也超过了<mark>球队</mark>收获阿隆佐-莫宁。“莫宁很重要,但是得到沙奎尔改变了我们<mark>球队</mark>的一切。”莱利说道。2004年夏天,热火送出了布莱恩-格兰特 ... ”莱利说,“这真的让我们变得非常非常有竞争力,他扭转了我们的<mark>球队</mark>,他给了我们真正的竞争力。”2004年夏天,热火老板米基-阿 ... 湖人老板杰里-巴斯讨论了湖人空缺的主帅一职。“我们坐下来谈了<mark>球队</mark>,”莱利说,“我记得其中一个话题出现了,我问了他们这个问题, ... 造他们之间的关系,然后让这个事情继续前进,因为我认为他们那支<mark>球队</mark>,他们刚完成的那些事情,他们一起可以在洛杉矶拿到更多的总冠军 ... 跟我们做一笔交易,所以我不知道是否他带我去那是真的想让我执教<mark>球队</mark>,还是他带我去那只是想猜测下我们是否会交易韦德、巴特勒和其他 ... 们最终得到了奥尼尔,我们最终拿到了总冠军。”莱利说道。在交易<mark>正式</mark>达成之前,奥尼尔与阿里森见了面,莱利是中间人。“我打电话给米 ... 我们非常有竞争性,”莱利说,“我认为奥尼尔的交易改变了我们的<mark>球队</mark>文化,我认为我们之前与尼克斯的季后赛系列赛连续三个赛季都是引 ... 过,他从没有赶走斯坦-范甘迪。”“有很多关于此事的猜测,我是<mark>球队</mark>的总裁,作为<mark>球队</mark>当时的总裁,我差不多就是<mark>球队</mark>的看管者,但是我也有眼睛,我知道在发生着什么,我知道这支<mark>球队</mark>需要什么,我们当时没有很多的时间了,从那个角度来说,我们只有"
            ],
            "text/plain": [
              "<IPython.core.display.HTML object>"
            ]
          },
          "metadata": {},
          "output_type": "display_data"
        },
        {
          "data": {
            "text/html": [
              "育。显示图片《世界体育报》:巴萨报价诺利托。据《世界体育报》<mark>报道</mark>,如果在未来几天佩德罗转会曼联的话,那塞尔塔球员诺利托将作为 ... 际足联处罚,巴萨今夏无法引进球员,因此巴萨要到明年1月份才能<mark>正式</mark>引进诺利托,因此,转会完成后,诺利托将以租借的性质继续留在塞 ... 罗的去留情况,那他也一样会获得塞尔塔的补偿。诺利托是贝里佐的<mark>球队</mark>的关键一员,塞尔塔主席也希望诺利托能感受到俱乐部第一球星的待 ... ,诺利托是佩德罗的合格“备胎”,现在恩里克不用担心佩德罗走后<mark>球队</mark>会留下空缺了。"
            ],
            "text/plain": [
              "<IPython.core.display.HTML object>"
            ]
          },
          "metadata": {},
          "output_type": "display_data"
        },
        {
          "data": {
            "text/html": [
              "体育。显示图片加盟骑士。北京时间8月6日《克利夫兰老实人报》<mark>报道</mark>,在经<mark>报道</mark>达成<mark>协议</mark>数周之后,理查德-杰弗森与克利夫兰骑士的签约终于<mark>正式</mark>落成了纸面文件。今天,骑士官方宣布,他们与老将杰弗森完成了签 ... 入联盟已经14个年头,而骑士,将是他NBA生涯所效力的第七支<mark>球队</mark>。上赛季作为小牛队的一员,杰弗森虽然每场比赛只获得16.8分 ... 詹姆斯下场休息时顶上空缺。上赛季肖恩-马里昂的表现令人失望,<mark>球队</mark>很多时候都是让JR-史密斯和伊曼-香波特这样的后场球员客串替"
            ],
            "text/plain": [
              "<IPython.core.display.HTML object>"
            ]
          },
          "metadata": {},
          "output_type": "display_data"
        }
      ],
      "source": [
        "#虎扑报道马刺的保罗-加索尔与球队正式签订协议，有哪些相关的新闻？\n",
        "fuzzy_search.search()"
      ]
    },
    {
      "cell_type": "markdown",
      "metadata": {
        "id": "WOfjdJfJwCcb"
      },
      "source": [
        "# TODO:\n",
        "* 模糊问题搜索\n",
        "* 文本聚类\n",
        "* 少样本分类学习"
      ]
    }
  ],
  "metadata": {
    "accelerator": "GPU",
    "colab": {
      "provenance": []
    },
    "gpuClass": "standard",
    "kernelspec": {
      "display_name": "Python 3",
      "name": "python3"
    },
    "language_info": {
      "codemirror_mode": {
        "name": "ipython",
        "version": 3
      },
      "file_extension": ".py",
      "mimetype": "text/x-python",
      "name": "python",
      "nbconvert_exporter": "python",
      "pygments_lexer": "ipython3",
      "version": "3.7.11"
    },
    "widgets": {
      "application/vnd.jupyter.widget-state+json": {
        "00102182cffc4f0e90bf92276dc272e4": {
          "model_module": "@jupyter-widgets/base",
          "model_module_version": "1.2.0",
          "model_name": "LayoutModel",
          "state": {
            "_model_module": "@jupyter-widgets/base",
            "_model_module_version": "1.2.0",
            "_model_name": "LayoutModel",
            "_view_count": null,
            "_view_module": "@jupyter-widgets/base",
            "_view_module_version": "1.2.0",
            "_view_name": "LayoutView",
            "align_content": null,
            "align_items": null,
            "align_self": null,
            "border": null,
            "bottom": null,
            "display": null,
            "flex": null,
            "flex_flow": null,
            "grid_area": null,
            "grid_auto_columns": null,
            "grid_auto_flow": null,
            "grid_auto_rows": null,
            "grid_column": null,
            "grid_gap": null,
            "grid_row": null,
            "grid_template_areas": null,
            "grid_template_columns": null,
            "grid_template_rows": null,
            "height": null,
            "justify_content": null,
            "justify_items": null,
            "left": null,
            "margin": null,
            "max_height": null,
            "max_width": null,
            "min_height": null,
            "min_width": null,
            "object_fit": null,
            "object_position": null,
            "order": null,
            "overflow": null,
            "overflow_x": null,
            "overflow_y": null,
            "padding": null,
            "right": null,
            "top": null,
            "visibility": null,
            "width": null
          }
        },
        "00ccc849f0c84dbc8f372f7858ad8150": {
          "model_module": "@jupyter-widgets/controls",
          "model_module_version": "1.5.0",
          "model_name": "ProgressStyleModel",
          "state": {
            "_model_module": "@jupyter-widgets/controls",
            "_model_module_version": "1.5.0",
            "_model_name": "ProgressStyleModel",
            "_view_count": null,
            "_view_module": "@jupyter-widgets/base",
            "_view_module_version": "1.2.0",
            "_view_name": "StyleView",
            "bar_color": null,
            "description_width": ""
          }
        },
        "02f265aa09a24f8c8384adf889d41138": {
          "model_module": "@jupyter-widgets/controls",
          "model_module_version": "1.5.0",
          "model_name": "FloatProgressModel",
          "state": {
            "_dom_classes": [],
            "_model_module": "@jupyter-widgets/controls",
            "_model_module_version": "1.5.0",
            "_model_name": "FloatProgressModel",
            "_view_count": null,
            "_view_module": "@jupyter-widgets/controls",
            "_view_module_version": "1.5.0",
            "_view_name": "ProgressView",
            "bar_style": "success",
            "description": "",
            "description_tooltip": null,
            "layout": "IPY_MODEL_2287e3862b9247b4a908c730d72998b3",
            "max": 109540,
            "min": 0,
            "orientation": "horizontal",
            "style": "IPY_MODEL_93135e6b84a341eeafaaa14382521e64",
            "value": 109540
          }
        },
        "07251d9f5e8644afaac540b88e35b32a": {
          "model_module": "@jupyter-widgets/controls",
          "model_module_version": "1.5.0",
          "model_name": "HBoxModel",
          "state": {
            "_dom_classes": [],
            "_model_module": "@jupyter-widgets/controls",
            "_model_module_version": "1.5.0",
            "_model_name": "HBoxModel",
            "_view_count": null,
            "_view_module": "@jupyter-widgets/controls",
            "_view_module_version": "1.5.0",
            "_view_name": "HBoxView",
            "box_style": "",
            "children": [
              "IPY_MODEL_14b60606c3434c7ca9846c3112acfaff",
              "IPY_MODEL_9544af26fc33486da491b6dd9bb7f489",
              "IPY_MODEL_fa4470aa6f8646cfb3654d6705ca53af"
            ],
            "layout": "IPY_MODEL_a8a8fcbaf72a459ab3e7875e57463e7f"
          }
        },
        "0a5450529ad5481ebf756bc90fcc9e16": {
          "model_module": "@jupyter-widgets/controls",
          "model_module_version": "1.5.0",
          "model_name": "DescriptionStyleModel",
          "state": {
            "_model_module": "@jupyter-widgets/controls",
            "_model_module_version": "1.5.0",
            "_model_name": "DescriptionStyleModel",
            "_view_count": null,
            "_view_module": "@jupyter-widgets/base",
            "_view_module_version": "1.2.0",
            "_view_name": "StyleView",
            "description_width": ""
          }
        },
        "0e4700aff9f44ff1a93bca9b344a8a85": {
          "model_module": "@jupyter-widgets/controls",
          "model_module_version": "1.5.0",
          "model_name": "DescriptionStyleModel",
          "state": {
            "_model_module": "@jupyter-widgets/controls",
            "_model_module_version": "1.5.0",
            "_model_name": "DescriptionStyleModel",
            "_view_count": null,
            "_view_module": "@jupyter-widgets/base",
            "_view_module_version": "1.2.0",
            "_view_name": "StyleView",
            "description_width": ""
          }
        },
        "14a75f0ea3a54ca8b9ac3b0d139d239a": {
          "model_module": "@jupyter-widgets/base",
          "model_module_version": "1.2.0",
          "model_name": "LayoutModel",
          "state": {
            "_model_module": "@jupyter-widgets/base",
            "_model_module_version": "1.2.0",
            "_model_name": "LayoutModel",
            "_view_count": null,
            "_view_module": "@jupyter-widgets/base",
            "_view_module_version": "1.2.0",
            "_view_name": "LayoutView",
            "align_content": null,
            "align_items": null,
            "align_self": null,
            "border": null,
            "bottom": null,
            "display": null,
            "flex": null,
            "flex_flow": null,
            "grid_area": null,
            "grid_auto_columns": null,
            "grid_auto_flow": null,
            "grid_auto_rows": null,
            "grid_column": null,
            "grid_gap": null,
            "grid_row": null,
            "grid_template_areas": null,
            "grid_template_columns": null,
            "grid_template_rows": null,
            "height": null,
            "justify_content": null,
            "justify_items": null,
            "left": null,
            "margin": null,
            "max_height": null,
            "max_width": null,
            "min_height": null,
            "min_width": null,
            "object_fit": null,
            "object_position": null,
            "order": null,
            "overflow": null,
            "overflow_x": null,
            "overflow_y": null,
            "padding": null,
            "right": null,
            "top": null,
            "visibility": null,
            "width": null
          }
        },
        "14b60606c3434c7ca9846c3112acfaff": {
          "model_module": "@jupyter-widgets/controls",
          "model_module_version": "1.5.0",
          "model_name": "HTMLModel",
          "state": {
            "_dom_classes": [],
            "_model_module": "@jupyter-widgets/controls",
            "_model_module_version": "1.5.0",
            "_model_name": "HTMLModel",
            "_view_count": null,
            "_view_module": "@jupyter-widgets/controls",
            "_view_module_version": "1.5.0",
            "_view_name": "HTMLView",
            "description": "",
            "description_tooltip": null,
            "layout": "IPY_MODEL_94d5568aa6bb4913a9719abe4923e8ba",
            "placeholder": "​",
            "style": "IPY_MODEL_a0df4d0c058e489bbcb75acacb35f3cd",
            "value": "Downloading (…)lve/main/config.json: 100%"
          }
        },
        "15c21b71944645c4a701b9cfcb356c53": {
          "model_module": "@jupyter-widgets/controls",
          "model_module_version": "1.5.0",
          "model_name": "DescriptionStyleModel",
          "state": {
            "_model_module": "@jupyter-widgets/controls",
            "_model_module_version": "1.5.0",
            "_model_name": "DescriptionStyleModel",
            "_view_count": null,
            "_view_module": "@jupyter-widgets/base",
            "_view_module_version": "1.2.0",
            "_view_name": "StyleView",
            "description_width": ""
          }
        },
        "1d5ce69c4f3e4619a244742e202cb2e7": {
          "model_module": "@jupyter-widgets/controls",
          "model_module_version": "1.5.0",
          "model_name": "DescriptionStyleModel",
          "state": {
            "_model_module": "@jupyter-widgets/controls",
            "_model_module_version": "1.5.0",
            "_model_name": "DescriptionStyleModel",
            "_view_count": null,
            "_view_module": "@jupyter-widgets/base",
            "_view_module_version": "1.2.0",
            "_view_name": "StyleView",
            "description_width": ""
          }
        },
        "1ef24cfb2c1c4d63a850edf4d69738d6": {
          "model_module": "@jupyter-widgets/base",
          "model_module_version": "1.2.0",
          "model_name": "LayoutModel",
          "state": {
            "_model_module": "@jupyter-widgets/base",
            "_model_module_version": "1.2.0",
            "_model_name": "LayoutModel",
            "_view_count": null,
            "_view_module": "@jupyter-widgets/base",
            "_view_module_version": "1.2.0",
            "_view_name": "LayoutView",
            "align_content": null,
            "align_items": null,
            "align_self": null,
            "border": null,
            "bottom": null,
            "display": null,
            "flex": null,
            "flex_flow": null,
            "grid_area": null,
            "grid_auto_columns": null,
            "grid_auto_flow": null,
            "grid_auto_rows": null,
            "grid_column": null,
            "grid_gap": null,
            "grid_row": null,
            "grid_template_areas": null,
            "grid_template_columns": null,
            "grid_template_rows": null,
            "height": null,
            "justify_content": null,
            "justify_items": null,
            "left": null,
            "margin": null,
            "max_height": null,
            "max_width": null,
            "min_height": null,
            "min_width": null,
            "object_fit": null,
            "object_position": null,
            "order": null,
            "overflow": null,
            "overflow_x": null,
            "overflow_y": null,
            "padding": null,
            "right": null,
            "top": null,
            "visibility": null,
            "width": null
          }
        },
        "2287e3862b9247b4a908c730d72998b3": {
          "model_module": "@jupyter-widgets/base",
          "model_module_version": "1.2.0",
          "model_name": "LayoutModel",
          "state": {
            "_model_module": "@jupyter-widgets/base",
            "_model_module_version": "1.2.0",
            "_model_name": "LayoutModel",
            "_view_count": null,
            "_view_module": "@jupyter-widgets/base",
            "_view_module_version": "1.2.0",
            "_view_name": "LayoutView",
            "align_content": null,
            "align_items": null,
            "align_self": null,
            "border": null,
            "bottom": null,
            "display": null,
            "flex": null,
            "flex_flow": null,
            "grid_area": null,
            "grid_auto_columns": null,
            "grid_auto_flow": null,
            "grid_auto_rows": null,
            "grid_column": null,
            "grid_gap": null,
            "grid_row": null,
            "grid_template_areas": null,
            "grid_template_columns": null,
            "grid_template_rows": null,
            "height": null,
            "justify_content": null,
            "justify_items": null,
            "left": null,
            "margin": null,
            "max_height": null,
            "max_width": null,
            "min_height": null,
            "min_width": null,
            "object_fit": null,
            "object_position": null,
            "order": null,
            "overflow": null,
            "overflow_x": null,
            "overflow_y": null,
            "padding": null,
            "right": null,
            "top": null,
            "visibility": null,
            "width": null
          }
        },
        "2cbc91fd584449798beef1b542bf80ac": {
          "model_module": "@jupyter-widgets/controls",
          "model_module_version": "1.5.0",
          "model_name": "ProgressStyleModel",
          "state": {
            "_model_module": "@jupyter-widgets/controls",
            "_model_module_version": "1.5.0",
            "_model_name": "ProgressStyleModel",
            "_view_count": null,
            "_view_module": "@jupyter-widgets/base",
            "_view_module_version": "1.2.0",
            "_view_name": "StyleView",
            "bar_color": null,
            "description_width": ""
          }
        },
        "2f121d0a7ec540c0a8f4ca3285d73cd4": {
          "model_module": "@jupyter-widgets/base",
          "model_module_version": "1.2.0",
          "model_name": "LayoutModel",
          "state": {
            "_model_module": "@jupyter-widgets/base",
            "_model_module_version": "1.2.0",
            "_model_name": "LayoutModel",
            "_view_count": null,
            "_view_module": "@jupyter-widgets/base",
            "_view_module_version": "1.2.0",
            "_view_name": "LayoutView",
            "align_content": null,
            "align_items": null,
            "align_self": null,
            "border": null,
            "bottom": null,
            "display": null,
            "flex": null,
            "flex_flow": null,
            "grid_area": null,
            "grid_auto_columns": null,
            "grid_auto_flow": null,
            "grid_auto_rows": null,
            "grid_column": null,
            "grid_gap": null,
            "grid_row": null,
            "grid_template_areas": null,
            "grid_template_columns": null,
            "grid_template_rows": null,
            "height": null,
            "justify_content": null,
            "justify_items": null,
            "left": null,
            "margin": null,
            "max_height": null,
            "max_width": null,
            "min_height": null,
            "min_width": null,
            "object_fit": null,
            "object_position": null,
            "order": null,
            "overflow": null,
            "overflow_x": null,
            "overflow_y": null,
            "padding": null,
            "right": null,
            "top": null,
            "visibility": null,
            "width": null
          }
        },
        "32afd52536254a2f8d4e89b88b2982e1": {
          "model_module": "@jupyter-widgets/controls",
          "model_module_version": "1.5.0",
          "model_name": "FloatProgressModel",
          "state": {
            "_dom_classes": [],
            "_model_module": "@jupyter-widgets/controls",
            "_model_module_version": "1.5.0",
            "_model_name": "FloatProgressModel",
            "_view_count": null,
            "_view_module": "@jupyter-widgets/controls",
            "_view_module_version": "1.5.0",
            "_view_name": "ProgressView",
            "bar_style": "success",
            "description": "",
            "description_tooltip": null,
            "layout": "IPY_MODEL_9df6886ebc464a2fbe856868f62bbead",
            "max": 21133,
            "min": 0,
            "orientation": "horizontal",
            "style": "IPY_MODEL_f89b4aa9a45e4514afa2a881757264bb",
            "value": 21133
          }
        },
        "38ed601962f54a13bb0a08c5c22c0768": {
          "model_module": "@jupyter-widgets/base",
          "model_module_version": "1.2.0",
          "model_name": "LayoutModel",
          "state": {
            "_model_module": "@jupyter-widgets/base",
            "_model_module_version": "1.2.0",
            "_model_name": "LayoutModel",
            "_view_count": null,
            "_view_module": "@jupyter-widgets/base",
            "_view_module_version": "1.2.0",
            "_view_name": "LayoutView",
            "align_content": null,
            "align_items": null,
            "align_self": null,
            "border": null,
            "bottom": null,
            "display": null,
            "flex": null,
            "flex_flow": null,
            "grid_area": null,
            "grid_auto_columns": null,
            "grid_auto_flow": null,
            "grid_auto_rows": null,
            "grid_column": null,
            "grid_gap": null,
            "grid_row": null,
            "grid_template_areas": null,
            "grid_template_columns": null,
            "grid_template_rows": null,
            "height": null,
            "justify_content": null,
            "justify_items": null,
            "left": null,
            "margin": null,
            "max_height": null,
            "max_width": null,
            "min_height": null,
            "min_width": null,
            "object_fit": null,
            "object_position": null,
            "order": null,
            "overflow": null,
            "overflow_x": null,
            "overflow_y": null,
            "padding": null,
            "right": null,
            "top": null,
            "visibility": null,
            "width": null
          }
        },
        "39a6497b32594ee580687f1bd689484a": {
          "model_module": "@jupyter-widgets/base",
          "model_module_version": "1.2.0",
          "model_name": "LayoutModel",
          "state": {
            "_model_module": "@jupyter-widgets/base",
            "_model_module_version": "1.2.0",
            "_model_name": "LayoutModel",
            "_view_count": null,
            "_view_module": "@jupyter-widgets/base",
            "_view_module_version": "1.2.0",
            "_view_name": "LayoutView",
            "align_content": null,
            "align_items": null,
            "align_self": null,
            "border": null,
            "bottom": null,
            "display": null,
            "flex": null,
            "flex_flow": null,
            "grid_area": null,
            "grid_auto_columns": null,
            "grid_auto_flow": null,
            "grid_auto_rows": null,
            "grid_column": null,
            "grid_gap": null,
            "grid_row": null,
            "grid_template_areas": null,
            "grid_template_columns": null,
            "grid_template_rows": null,
            "height": null,
            "justify_content": null,
            "justify_items": null,
            "left": null,
            "margin": null,
            "max_height": null,
            "max_width": null,
            "min_height": null,
            "min_width": null,
            "object_fit": null,
            "object_position": null,
            "order": null,
            "overflow": null,
            "overflow_x": null,
            "overflow_y": null,
            "padding": null,
            "right": null,
            "top": null,
            "visibility": null,
            "width": null
          }
        },
        "3c6e008234f84580a325e41f857cac0f": {
          "model_module": "@jupyter-widgets/controls",
          "model_module_version": "1.5.0",
          "model_name": "ProgressStyleModel",
          "state": {
            "_model_module": "@jupyter-widgets/controls",
            "_model_module_version": "1.5.0",
            "_model_name": "ProgressStyleModel",
            "_view_count": null,
            "_view_module": "@jupyter-widgets/base",
            "_view_module_version": "1.2.0",
            "_view_name": "StyleView",
            "bar_color": null,
            "description_width": ""
          }
        },
        "3ce1dff9ae1d4f40950582356e384388": {
          "model_module": "@jupyter-widgets/controls",
          "model_module_version": "1.5.0",
          "model_name": "HTMLModel",
          "state": {
            "_dom_classes": [],
            "_model_module": "@jupyter-widgets/controls",
            "_model_module_version": "1.5.0",
            "_model_name": "HTMLModel",
            "_view_count": null,
            "_view_module": "@jupyter-widgets/controls",
            "_view_module_version": "1.5.0",
            "_view_name": "HTMLView",
            "description": "",
            "description_tooltip": null,
            "layout": "IPY_MODEL_db472e03fcdb4257812b12c6685d36bb",
            "placeholder": "​",
            "style": "IPY_MODEL_15c21b71944645c4a701b9cfcb356c53",
            "value": "Downloading pytorch_model.bin: 100%"
          }
        },
        "3e867fa160034601ac4f78b646bbc458": {
          "model_module": "@jupyter-widgets/controls",
          "model_module_version": "1.5.0",
          "model_name": "FloatProgressModel",
          "state": {
            "_dom_classes": [],
            "_model_module": "@jupyter-widgets/controls",
            "_model_module_version": "1.5.0",
            "_model_name": "FloatProgressModel",
            "_view_count": null,
            "_view_module": "@jupyter-widgets/controls",
            "_view_module_version": "1.5.0",
            "_view_name": "ProgressView",
            "bar_style": "success",
            "description": "",
            "description_tooltip": null,
            "layout": "IPY_MODEL_5c10618547c641d5a5928887e7e80b2f",
            "max": 439279,
            "min": 0,
            "orientation": "horizontal",
            "style": "IPY_MODEL_ac4e9ce289a64fc3aa6ef4ddfdc16a61",
            "value": 439279
          }
        },
        "4021c77f0fed44ab93621ab4c57a7a93": {
          "model_module": "@jupyter-widgets/controls",
          "model_module_version": "1.5.0",
          "model_name": "HBoxModel",
          "state": {
            "_dom_classes": [],
            "_model_module": "@jupyter-widgets/controls",
            "_model_module_version": "1.5.0",
            "_model_name": "HBoxModel",
            "_view_count": null,
            "_view_module": "@jupyter-widgets/controls",
            "_view_module_version": "1.5.0",
            "_view_name": "HBoxView",
            "box_style": "",
            "children": [
              "IPY_MODEL_aabbcb14d0ce4ba8bb841f32ae2aaa16",
              "IPY_MODEL_740357a6a20e4706b87b037e9052a076",
              "IPY_MODEL_a3b45c901b514c4d9ddccebdd44d638f"
            ],
            "layout": "IPY_MODEL_b052b3bc2b784c0094b16f13d71978ba"
          }
        },
        "443b55898d724b4abff1dbb7c7ab08d3": {
          "model_module": "@jupyter-widgets/base",
          "model_module_version": "1.2.0",
          "model_name": "LayoutModel",
          "state": {
            "_model_module": "@jupyter-widgets/base",
            "_model_module_version": "1.2.0",
            "_model_name": "LayoutModel",
            "_view_count": null,
            "_view_module": "@jupyter-widgets/base",
            "_view_module_version": "1.2.0",
            "_view_name": "LayoutView",
            "align_content": null,
            "align_items": null,
            "align_self": null,
            "border": null,
            "bottom": null,
            "display": null,
            "flex": null,
            "flex_flow": null,
            "grid_area": null,
            "grid_auto_columns": null,
            "grid_auto_flow": null,
            "grid_auto_rows": null,
            "grid_column": null,
            "grid_gap": null,
            "grid_row": null,
            "grid_template_areas": null,
            "grid_template_columns": null,
            "grid_template_rows": null,
            "height": null,
            "justify_content": null,
            "justify_items": null,
            "left": null,
            "margin": null,
            "max_height": null,
            "max_width": null,
            "min_height": null,
            "min_width": null,
            "object_fit": null,
            "object_position": null,
            "order": null,
            "overflow": null,
            "overflow_x": null,
            "overflow_y": null,
            "padding": null,
            "right": null,
            "top": null,
            "visibility": null,
            "width": null
          }
        },
        "45be7215944e46979e7409cccb6188ea": {
          "model_module": "@jupyter-widgets/controls",
          "model_module_version": "1.5.0",
          "model_name": "FloatProgressModel",
          "state": {
            "_dom_classes": [],
            "_model_module": "@jupyter-widgets/controls",
            "_model_module_version": "1.5.0",
            "_model_name": "FloatProgressModel",
            "_view_count": null,
            "_view_module": "@jupyter-widgets/controls",
            "_view_module_version": "1.5.0",
            "_view_name": "ProgressView",
            "bar_style": "success",
            "description": "",
            "description_tooltip": null,
            "layout": "IPY_MODEL_14a75f0ea3a54ca8b9ac3b0d139d239a",
            "max": 413868149,
            "min": 0,
            "orientation": "horizontal",
            "style": "IPY_MODEL_2cbc91fd584449798beef1b542bf80ac",
            "value": 413868149
          }
        },
        "4e0e65cd2567419282f1324a09e51a80": {
          "model_module": "@jupyter-widgets/controls",
          "model_module_version": "1.5.0",
          "model_name": "HBoxModel",
          "state": {
            "_dom_classes": [],
            "_model_module": "@jupyter-widgets/controls",
            "_model_module_version": "1.5.0",
            "_model_name": "HBoxModel",
            "_view_count": null,
            "_view_module": "@jupyter-widgets/controls",
            "_view_module_version": "1.5.0",
            "_view_name": "HBoxView",
            "box_style": "",
            "children": [
              "IPY_MODEL_af67023cb0524b2eb1ecb23f6a280d53",
              "IPY_MODEL_3e867fa160034601ac4f78b646bbc458",
              "IPY_MODEL_e05ebbd29da148cd81ca159fa0c9568d"
            ],
            "layout": "IPY_MODEL_1ef24cfb2c1c4d63a850edf4d69738d6"
          }
        },
        "51077c2175724679b149af93cbe9e93c": {
          "model_module": "@jupyter-widgets/controls",
          "model_module_version": "1.5.0",
          "model_name": "HBoxModel",
          "state": {
            "_dom_classes": [],
            "_model_module": "@jupyter-widgets/controls",
            "_model_module_version": "1.5.0",
            "_model_name": "HBoxModel",
            "_view_count": null,
            "_view_module": "@jupyter-widgets/controls",
            "_view_module_version": "1.5.0",
            "_view_name": "HBoxView",
            "box_style": "",
            "children": [
              "IPY_MODEL_bccaa992a91447c6af8704512248f64f",
              "IPY_MODEL_02f265aa09a24f8c8384adf889d41138",
              "IPY_MODEL_f0ce46112caf4b329a484fb9e83aad8d"
            ],
            "layout": "IPY_MODEL_eda59c65e0b04e6ea17b953db1d50f5f"
          }
        },
        "53fb1682ee264bb896dd019a862052bd": {
          "model_module": "@jupyter-widgets/controls",
          "model_module_version": "1.5.0",
          "model_name": "DescriptionStyleModel",
          "state": {
            "_model_module": "@jupyter-widgets/controls",
            "_model_module_version": "1.5.0",
            "_model_name": "DescriptionStyleModel",
            "_view_count": null,
            "_view_module": "@jupyter-widgets/base",
            "_view_module_version": "1.2.0",
            "_view_name": "StyleView",
            "description_width": ""
          }
        },
        "5679dd4cb9f748f195f2e2ed3db5dd87": {
          "model_module": "@jupyter-widgets/controls",
          "model_module_version": "1.5.0",
          "model_name": "HBoxModel",
          "state": {
            "_dom_classes": [],
            "_model_module": "@jupyter-widgets/controls",
            "_model_module_version": "1.5.0",
            "_model_name": "HBoxModel",
            "_view_count": null,
            "_view_module": "@jupyter-widgets/controls",
            "_view_module_version": "1.5.0",
            "_view_name": "HBoxView",
            "box_style": "",
            "children": [
              "IPY_MODEL_e2719e0ef84e493282f2c9c54774ef91",
              "IPY_MODEL_32afd52536254a2f8d4e89b88b2982e1",
              "IPY_MODEL_ef7beae0df0345d3b41a49a7160c8838"
            ],
            "layout": "IPY_MODEL_82c488709b2e424c9d467e7c8780754e"
          }
        },
        "5c10618547c641d5a5928887e7e80b2f": {
          "model_module": "@jupyter-widgets/base",
          "model_module_version": "1.2.0",
          "model_name": "LayoutModel",
          "state": {
            "_model_module": "@jupyter-widgets/base",
            "_model_module_version": "1.2.0",
            "_model_name": "LayoutModel",
            "_view_count": null,
            "_view_module": "@jupyter-widgets/base",
            "_view_module_version": "1.2.0",
            "_view_name": "LayoutView",
            "align_content": null,
            "align_items": null,
            "align_self": null,
            "border": null,
            "bottom": null,
            "display": null,
            "flex": null,
            "flex_flow": null,
            "grid_area": null,
            "grid_auto_columns": null,
            "grid_auto_flow": null,
            "grid_auto_rows": null,
            "grid_column": null,
            "grid_gap": null,
            "grid_row": null,
            "grid_template_areas": null,
            "grid_template_columns": null,
            "grid_template_rows": null,
            "height": null,
            "justify_content": null,
            "justify_items": null,
            "left": null,
            "margin": null,
            "max_height": null,
            "max_width": null,
            "min_height": null,
            "min_width": null,
            "object_fit": null,
            "object_position": null,
            "order": null,
            "overflow": null,
            "overflow_x": null,
            "overflow_y": null,
            "padding": null,
            "right": null,
            "top": null,
            "visibility": null,
            "width": null
          }
        },
        "61b8fd6bd8584d0db655a48256b1f3ff": {
          "model_module": "@jupyter-widgets/controls",
          "model_module_version": "1.5.0",
          "model_name": "DescriptionStyleModel",
          "state": {
            "_model_module": "@jupyter-widgets/controls",
            "_model_module_version": "1.5.0",
            "_model_name": "DescriptionStyleModel",
            "_view_count": null,
            "_view_module": "@jupyter-widgets/base",
            "_view_module_version": "1.2.0",
            "_view_name": "StyleView",
            "description_width": ""
          }
        },
        "73d1e3318b564a18a8aba8b4237e31a5": {
          "model_module": "@jupyter-widgets/controls",
          "model_module_version": "1.5.0",
          "model_name": "HTMLModel",
          "state": {
            "_dom_classes": [],
            "_model_module": "@jupyter-widgets/controls",
            "_model_module_version": "1.5.0",
            "_model_name": "HTMLModel",
            "_view_count": null,
            "_view_module": "@jupyter-widgets/controls",
            "_view_module_version": "1.5.0",
            "_view_name": "HTMLView",
            "description": "",
            "description_tooltip": null,
            "layout": "IPY_MODEL_2f121d0a7ec540c0a8f4ca3285d73cd4",
            "placeholder": "​",
            "style": "IPY_MODEL_61b8fd6bd8584d0db655a48256b1f3ff",
            "value": "Downloading (…)cial_tokens_map.json: 100%"
          }
        },
        "740357a6a20e4706b87b037e9052a076": {
          "model_module": "@jupyter-widgets/controls",
          "model_module_version": "1.5.0",
          "model_name": "FloatProgressModel",
          "state": {
            "_dom_classes": [],
            "_model_module": "@jupyter-widgets/controls",
            "_model_module_version": "1.5.0",
            "_model_name": "FloatProgressModel",
            "_view_count": null,
            "_view_module": "@jupyter-widgets/controls",
            "_view_module_version": "1.5.0",
            "_view_name": "ProgressView",
            "bar_style": "success",
            "description": "",
            "description_tooltip": null,
            "layout": "IPY_MODEL_39a6497b32594ee580687f1bd689484a",
            "max": 539,
            "min": 0,
            "orientation": "horizontal",
            "style": "IPY_MODEL_3c6e008234f84580a325e41f857cac0f",
            "value": 539
          }
        },
        "76678f487d8d47fda0e707c29ba27eee": {
          "model_module": "@jupyter-widgets/controls",
          "model_module_version": "1.5.0",
          "model_name": "HBoxModel",
          "state": {
            "_dom_classes": [],
            "_model_module": "@jupyter-widgets/controls",
            "_model_module_version": "1.5.0",
            "_model_name": "HBoxModel",
            "_view_count": null,
            "_view_module": "@jupyter-widgets/controls",
            "_view_module_version": "1.5.0",
            "_view_name": "HBoxView",
            "box_style": "",
            "children": [
              "IPY_MODEL_73d1e3318b564a18a8aba8b4237e31a5",
              "IPY_MODEL_fe64b74c338e41068ad8c6cda84f8e1d",
              "IPY_MODEL_845ccb16eae84e4e98234434cb52f93c"
            ],
            "layout": "IPY_MODEL_e25b5537decd4054a276ee352b78ca63"
          }
        },
        "7c358703720045168500f0de8c2de9b1": {
          "model_module": "@jupyter-widgets/controls",
          "model_module_version": "1.5.0",
          "model_name": "DescriptionStyleModel",
          "state": {
            "_model_module": "@jupyter-widgets/controls",
            "_model_module_version": "1.5.0",
            "_model_name": "DescriptionStyleModel",
            "_view_count": null,
            "_view_module": "@jupyter-widgets/base",
            "_view_module_version": "1.2.0",
            "_view_name": "StyleView",
            "description_width": ""
          }
        },
        "7e88c69fc3714eadba25fd85085199a1": {
          "model_module": "@jupyter-widgets/base",
          "model_module_version": "1.2.0",
          "model_name": "LayoutModel",
          "state": {
            "_model_module": "@jupyter-widgets/base",
            "_model_module_version": "1.2.0",
            "_model_name": "LayoutModel",
            "_view_count": null,
            "_view_module": "@jupyter-widgets/base",
            "_view_module_version": "1.2.0",
            "_view_name": "LayoutView",
            "align_content": null,
            "align_items": null,
            "align_self": null,
            "border": null,
            "bottom": null,
            "display": null,
            "flex": null,
            "flex_flow": null,
            "grid_area": null,
            "grid_auto_columns": null,
            "grid_auto_flow": null,
            "grid_auto_rows": null,
            "grid_column": null,
            "grid_gap": null,
            "grid_row": null,
            "grid_template_areas": null,
            "grid_template_columns": null,
            "grid_template_rows": null,
            "height": null,
            "justify_content": null,
            "justify_items": null,
            "left": null,
            "margin": null,
            "max_height": null,
            "max_width": null,
            "min_height": null,
            "min_width": null,
            "object_fit": null,
            "object_position": null,
            "order": null,
            "overflow": null,
            "overflow_x": null,
            "overflow_y": null,
            "padding": null,
            "right": null,
            "top": null,
            "visibility": null,
            "width": null
          }
        },
        "82c488709b2e424c9d467e7c8780754e": {
          "model_module": "@jupyter-widgets/base",
          "model_module_version": "1.2.0",
          "model_name": "LayoutModel",
          "state": {
            "_model_module": "@jupyter-widgets/base",
            "_model_module_version": "1.2.0",
            "_model_name": "LayoutModel",
            "_view_count": null,
            "_view_module": "@jupyter-widgets/base",
            "_view_module_version": "1.2.0",
            "_view_name": "LayoutView",
            "align_content": null,
            "align_items": null,
            "align_self": null,
            "border": null,
            "bottom": null,
            "display": null,
            "flex": null,
            "flex_flow": null,
            "grid_area": null,
            "grid_auto_columns": null,
            "grid_auto_flow": null,
            "grid_auto_rows": null,
            "grid_column": null,
            "grid_gap": null,
            "grid_row": null,
            "grid_template_areas": null,
            "grid_template_columns": null,
            "grid_template_rows": null,
            "height": null,
            "justify_content": null,
            "justify_items": null,
            "left": null,
            "margin": null,
            "max_height": null,
            "max_width": null,
            "min_height": null,
            "min_width": null,
            "object_fit": null,
            "object_position": null,
            "order": null,
            "overflow": null,
            "overflow_x": null,
            "overflow_y": null,
            "padding": null,
            "right": null,
            "top": null,
            "visibility": null,
            "width": null
          }
        },
        "845ccb16eae84e4e98234434cb52f93c": {
          "model_module": "@jupyter-widgets/controls",
          "model_module_version": "1.5.0",
          "model_name": "HTMLModel",
          "state": {
            "_dom_classes": [],
            "_model_module": "@jupyter-widgets/controls",
            "_model_module_version": "1.5.0",
            "_model_name": "HTMLModel",
            "_view_count": null,
            "_view_module": "@jupyter-widgets/controls",
            "_view_module_version": "1.5.0",
            "_view_name": "HTMLView",
            "description": "",
            "description_tooltip": null,
            "layout": "IPY_MODEL_38ed601962f54a13bb0a08c5c22c0768",
            "placeholder": "​",
            "style": "IPY_MODEL_0e4700aff9f44ff1a93bca9b344a8a85",
            "value": " 125/125 [00:00&lt;00:00, 3.02kB/s]"
          }
        },
        "8813fe628dc44efd99b22ac5a2d37e46": {
          "model_module": "@jupyter-widgets/base",
          "model_module_version": "1.2.0",
          "model_name": "LayoutModel",
          "state": {
            "_model_module": "@jupyter-widgets/base",
            "_model_module_version": "1.2.0",
            "_model_name": "LayoutModel",
            "_view_count": null,
            "_view_module": "@jupyter-widgets/base",
            "_view_module_version": "1.2.0",
            "_view_name": "LayoutView",
            "align_content": null,
            "align_items": null,
            "align_self": null,
            "border": null,
            "bottom": null,
            "display": null,
            "flex": null,
            "flex_flow": null,
            "grid_area": null,
            "grid_auto_columns": null,
            "grid_auto_flow": null,
            "grid_auto_rows": null,
            "grid_column": null,
            "grid_gap": null,
            "grid_row": null,
            "grid_template_areas": null,
            "grid_template_columns": null,
            "grid_template_rows": null,
            "height": null,
            "justify_content": null,
            "justify_items": null,
            "left": null,
            "margin": null,
            "max_height": null,
            "max_width": null,
            "min_height": null,
            "min_width": null,
            "object_fit": null,
            "object_position": null,
            "order": null,
            "overflow": null,
            "overflow_x": null,
            "overflow_y": null,
            "padding": null,
            "right": null,
            "top": null,
            "visibility": null,
            "width": null
          }
        },
        "8d794514645f47b3a6b78b3f3eddaeaa": {
          "model_module": "@jupyter-widgets/base",
          "model_module_version": "1.2.0",
          "model_name": "LayoutModel",
          "state": {
            "_model_module": "@jupyter-widgets/base",
            "_model_module_version": "1.2.0",
            "_model_name": "LayoutModel",
            "_view_count": null,
            "_view_module": "@jupyter-widgets/base",
            "_view_module_version": "1.2.0",
            "_view_name": "LayoutView",
            "align_content": null,
            "align_items": null,
            "align_self": null,
            "border": null,
            "bottom": null,
            "display": null,
            "flex": null,
            "flex_flow": null,
            "grid_area": null,
            "grid_auto_columns": null,
            "grid_auto_flow": null,
            "grid_auto_rows": null,
            "grid_column": null,
            "grid_gap": null,
            "grid_row": null,
            "grid_template_areas": null,
            "grid_template_columns": null,
            "grid_template_rows": null,
            "height": null,
            "justify_content": null,
            "justify_items": null,
            "left": null,
            "margin": null,
            "max_height": null,
            "max_width": null,
            "min_height": null,
            "min_width": null,
            "object_fit": null,
            "object_position": null,
            "order": null,
            "overflow": null,
            "overflow_x": null,
            "overflow_y": null,
            "padding": null,
            "right": null,
            "top": null,
            "visibility": null,
            "width": null
          }
        },
        "8f011bc384d14d3183aa254cbb7ce119": {
          "model_module": "@jupyter-widgets/controls",
          "model_module_version": "1.5.0",
          "model_name": "DescriptionStyleModel",
          "state": {
            "_model_module": "@jupyter-widgets/controls",
            "_model_module_version": "1.5.0",
            "_model_name": "DescriptionStyleModel",
            "_view_count": null,
            "_view_module": "@jupyter-widgets/base",
            "_view_module_version": "1.2.0",
            "_view_name": "StyleView",
            "description_width": ""
          }
        },
        "923317fe14d040b985583ce1dc8c5ca4": {
          "model_module": "@jupyter-widgets/controls",
          "model_module_version": "1.5.0",
          "model_name": "ProgressStyleModel",
          "state": {
            "_model_module": "@jupyter-widgets/controls",
            "_model_module_version": "1.5.0",
            "_model_name": "ProgressStyleModel",
            "_view_count": null,
            "_view_module": "@jupyter-widgets/base",
            "_view_module_version": "1.2.0",
            "_view_name": "StyleView",
            "bar_color": null,
            "description_width": ""
          }
        },
        "92946b053f5d4951a748c5294b97428b": {
          "model_module": "@jupyter-widgets/controls",
          "model_module_version": "1.5.0",
          "model_name": "HTMLModel",
          "state": {
            "_dom_classes": [],
            "_model_module": "@jupyter-widgets/controls",
            "_model_module_version": "1.5.0",
            "_model_name": "HTMLModel",
            "_view_count": null,
            "_view_module": "@jupyter-widgets/controls",
            "_view_module_version": "1.5.0",
            "_view_name": "HTMLView",
            "description": "",
            "description_tooltip": null,
            "layout": "IPY_MODEL_00102182cffc4f0e90bf92276dc272e4",
            "placeholder": "​",
            "style": "IPY_MODEL_53fb1682ee264bb896dd019a862052bd",
            "value": " 414M/414M [00:03&lt;00:00, 103MB/s]"
          }
        },
        "93135e6b84a341eeafaaa14382521e64": {
          "model_module": "@jupyter-widgets/controls",
          "model_module_version": "1.5.0",
          "model_name": "ProgressStyleModel",
          "state": {
            "_model_module": "@jupyter-widgets/controls",
            "_model_module_version": "1.5.0",
            "_model_name": "ProgressStyleModel",
            "_view_count": null,
            "_view_module": "@jupyter-widgets/base",
            "_view_module_version": "1.2.0",
            "_view_name": "StyleView",
            "bar_color": null,
            "description_width": ""
          }
        },
        "93fe9ba1c54b4f298ca4491f2bab4093": {
          "model_module": "@jupyter-widgets/base",
          "model_module_version": "1.2.0",
          "model_name": "LayoutModel",
          "state": {
            "_model_module": "@jupyter-widgets/base",
            "_model_module_version": "1.2.0",
            "_model_name": "LayoutModel",
            "_view_count": null,
            "_view_module": "@jupyter-widgets/base",
            "_view_module_version": "1.2.0",
            "_view_name": "LayoutView",
            "align_content": null,
            "align_items": null,
            "align_self": null,
            "border": null,
            "bottom": null,
            "display": null,
            "flex": null,
            "flex_flow": null,
            "grid_area": null,
            "grid_auto_columns": null,
            "grid_auto_flow": null,
            "grid_auto_rows": null,
            "grid_column": null,
            "grid_gap": null,
            "grid_row": null,
            "grid_template_areas": null,
            "grid_template_columns": null,
            "grid_template_rows": null,
            "height": null,
            "justify_content": null,
            "justify_items": null,
            "left": null,
            "margin": null,
            "max_height": null,
            "max_width": null,
            "min_height": null,
            "min_width": null,
            "object_fit": null,
            "object_position": null,
            "order": null,
            "overflow": null,
            "overflow_x": null,
            "overflow_y": null,
            "padding": null,
            "right": null,
            "top": null,
            "visibility": null,
            "width": null
          }
        },
        "94d5568aa6bb4913a9719abe4923e8ba": {
          "model_module": "@jupyter-widgets/base",
          "model_module_version": "1.2.0",
          "model_name": "LayoutModel",
          "state": {
            "_model_module": "@jupyter-widgets/base",
            "_model_module_version": "1.2.0",
            "_model_name": "LayoutModel",
            "_view_count": null,
            "_view_module": "@jupyter-widgets/base",
            "_view_module_version": "1.2.0",
            "_view_name": "LayoutView",
            "align_content": null,
            "align_items": null,
            "align_self": null,
            "border": null,
            "bottom": null,
            "display": null,
            "flex": null,
            "flex_flow": null,
            "grid_area": null,
            "grid_auto_columns": null,
            "grid_auto_flow": null,
            "grid_auto_rows": null,
            "grid_column": null,
            "grid_gap": null,
            "grid_row": null,
            "grid_template_areas": null,
            "grid_template_columns": null,
            "grid_template_rows": null,
            "height": null,
            "justify_content": null,
            "justify_items": null,
            "left": null,
            "margin": null,
            "max_height": null,
            "max_width": null,
            "min_height": null,
            "min_width": null,
            "object_fit": null,
            "object_position": null,
            "order": null,
            "overflow": null,
            "overflow_x": null,
            "overflow_y": null,
            "padding": null,
            "right": null,
            "top": null,
            "visibility": null,
            "width": null
          }
        },
        "9544af26fc33486da491b6dd9bb7f489": {
          "model_module": "@jupyter-widgets/controls",
          "model_module_version": "1.5.0",
          "model_name": "FloatProgressModel",
          "state": {
            "_dom_classes": [],
            "_model_module": "@jupyter-widgets/controls",
            "_model_module_version": "1.5.0",
            "_model_name": "FloatProgressModel",
            "_view_count": null,
            "_view_module": "@jupyter-widgets/controls",
            "_view_module_version": "1.5.0",
            "_view_name": "ProgressView",
            "bar_style": "success",
            "description": "",
            "description_tooltip": null,
            "layout": "IPY_MODEL_a181e4df6a9a4ee8b7418c10cc2fcdc6",
            "max": 966,
            "min": 0,
            "orientation": "horizontal",
            "style": "IPY_MODEL_00ccc849f0c84dbc8f372f7858ad8150",
            "value": 966
          }
        },
        "981fe5658e2b452d9f30d7b8ec4bb93c": {
          "model_module": "@jupyter-widgets/controls",
          "model_module_version": "1.5.0",
          "model_name": "HBoxModel",
          "state": {
            "_dom_classes": [],
            "_model_module": "@jupyter-widgets/controls",
            "_model_module_version": "1.5.0",
            "_model_name": "HBoxModel",
            "_view_count": null,
            "_view_module": "@jupyter-widgets/controls",
            "_view_module_version": "1.5.0",
            "_view_name": "HBoxView",
            "box_style": "",
            "children": [
              "IPY_MODEL_3ce1dff9ae1d4f40950582356e384388",
              "IPY_MODEL_45be7215944e46979e7409cccb6188ea",
              "IPY_MODEL_92946b053f5d4951a748c5294b97428b"
            ],
            "layout": "IPY_MODEL_a5ff064d06d14b3994ca47879d59700e"
          }
        },
        "9df6886ebc464a2fbe856868f62bbead": {
          "model_module": "@jupyter-widgets/base",
          "model_module_version": "1.2.0",
          "model_name": "LayoutModel",
          "state": {
            "_model_module": "@jupyter-widgets/base",
            "_model_module_version": "1.2.0",
            "_model_name": "LayoutModel",
            "_view_count": null,
            "_view_module": "@jupyter-widgets/base",
            "_view_module_version": "1.2.0",
            "_view_name": "LayoutView",
            "align_content": null,
            "align_items": null,
            "align_self": null,
            "border": null,
            "bottom": null,
            "display": null,
            "flex": null,
            "flex_flow": null,
            "grid_area": null,
            "grid_auto_columns": null,
            "grid_auto_flow": null,
            "grid_auto_rows": null,
            "grid_column": null,
            "grid_gap": null,
            "grid_row": null,
            "grid_template_areas": null,
            "grid_template_columns": null,
            "grid_template_rows": null,
            "height": null,
            "justify_content": null,
            "justify_items": null,
            "left": null,
            "margin": null,
            "max_height": null,
            "max_width": null,
            "min_height": null,
            "min_width": null,
            "object_fit": null,
            "object_position": null,
            "order": null,
            "overflow": null,
            "overflow_x": null,
            "overflow_y": null,
            "padding": null,
            "right": null,
            "top": null,
            "visibility": null,
            "width": null
          }
        },
        "a0df4d0c058e489bbcb75acacb35f3cd": {
          "model_module": "@jupyter-widgets/controls",
          "model_module_version": "1.5.0",
          "model_name": "DescriptionStyleModel",
          "state": {
            "_model_module": "@jupyter-widgets/controls",
            "_model_module_version": "1.5.0",
            "_model_name": "DescriptionStyleModel",
            "_view_count": null,
            "_view_module": "@jupyter-widgets/base",
            "_view_module_version": "1.2.0",
            "_view_name": "StyleView",
            "description_width": ""
          }
        },
        "a181e4df6a9a4ee8b7418c10cc2fcdc6": {
          "model_module": "@jupyter-widgets/base",
          "model_module_version": "1.2.0",
          "model_name": "LayoutModel",
          "state": {
            "_model_module": "@jupyter-widgets/base",
            "_model_module_version": "1.2.0",
            "_model_name": "LayoutModel",
            "_view_count": null,
            "_view_module": "@jupyter-widgets/base",
            "_view_module_version": "1.2.0",
            "_view_name": "LayoutView",
            "align_content": null,
            "align_items": null,
            "align_self": null,
            "border": null,
            "bottom": null,
            "display": null,
            "flex": null,
            "flex_flow": null,
            "grid_area": null,
            "grid_auto_columns": null,
            "grid_auto_flow": null,
            "grid_auto_rows": null,
            "grid_column": null,
            "grid_gap": null,
            "grid_row": null,
            "grid_template_areas": null,
            "grid_template_columns": null,
            "grid_template_rows": null,
            "height": null,
            "justify_content": null,
            "justify_items": null,
            "left": null,
            "margin": null,
            "max_height": null,
            "max_width": null,
            "min_height": null,
            "min_width": null,
            "object_fit": null,
            "object_position": null,
            "order": null,
            "overflow": null,
            "overflow_x": null,
            "overflow_y": null,
            "padding": null,
            "right": null,
            "top": null,
            "visibility": null,
            "width": null
          }
        },
        "a3b45c901b514c4d9ddccebdd44d638f": {
          "model_module": "@jupyter-widgets/controls",
          "model_module_version": "1.5.0",
          "model_name": "HTMLModel",
          "state": {
            "_dom_classes": [],
            "_model_module": "@jupyter-widgets/controls",
            "_model_module_version": "1.5.0",
            "_model_name": "HTMLModel",
            "_view_count": null,
            "_view_module": "@jupyter-widgets/controls",
            "_view_module_version": "1.5.0",
            "_view_name": "HTMLView",
            "description": "",
            "description_tooltip": null,
            "layout": "IPY_MODEL_d95bee7c4a3541f3884c8c29b305996b",
            "placeholder": "​",
            "style": "IPY_MODEL_c7daeabe2d484281b7dbd75cab788c79",
            "value": " 539/539 [00:00&lt;00:00, 9.43kB/s]"
          }
        },
        "a5ff064d06d14b3994ca47879d59700e": {
          "model_module": "@jupyter-widgets/base",
          "model_module_version": "1.2.0",
          "model_name": "LayoutModel",
          "state": {
            "_model_module": "@jupyter-widgets/base",
            "_model_module_version": "1.2.0",
            "_model_name": "LayoutModel",
            "_view_count": null,
            "_view_module": "@jupyter-widgets/base",
            "_view_module_version": "1.2.0",
            "_view_name": "LayoutView",
            "align_content": null,
            "align_items": null,
            "align_self": null,
            "border": null,
            "bottom": null,
            "display": null,
            "flex": null,
            "flex_flow": null,
            "grid_area": null,
            "grid_auto_columns": null,
            "grid_auto_flow": null,
            "grid_auto_rows": null,
            "grid_column": null,
            "grid_gap": null,
            "grid_row": null,
            "grid_template_areas": null,
            "grid_template_columns": null,
            "grid_template_rows": null,
            "height": null,
            "justify_content": null,
            "justify_items": null,
            "left": null,
            "margin": null,
            "max_height": null,
            "max_width": null,
            "min_height": null,
            "min_width": null,
            "object_fit": null,
            "object_position": null,
            "order": null,
            "overflow": null,
            "overflow_x": null,
            "overflow_y": null,
            "padding": null,
            "right": null,
            "top": null,
            "visibility": null,
            "width": null
          }
        },
        "a8a8fcbaf72a459ab3e7875e57463e7f": {
          "model_module": "@jupyter-widgets/base",
          "model_module_version": "1.2.0",
          "model_name": "LayoutModel",
          "state": {
            "_model_module": "@jupyter-widgets/base",
            "_model_module_version": "1.2.0",
            "_model_name": "LayoutModel",
            "_view_count": null,
            "_view_module": "@jupyter-widgets/base",
            "_view_module_version": "1.2.0",
            "_view_name": "LayoutView",
            "align_content": null,
            "align_items": null,
            "align_self": null,
            "border": null,
            "bottom": null,
            "display": null,
            "flex": null,
            "flex_flow": null,
            "grid_area": null,
            "grid_auto_columns": null,
            "grid_auto_flow": null,
            "grid_auto_rows": null,
            "grid_column": null,
            "grid_gap": null,
            "grid_row": null,
            "grid_template_areas": null,
            "grid_template_columns": null,
            "grid_template_rows": null,
            "height": null,
            "justify_content": null,
            "justify_items": null,
            "left": null,
            "margin": null,
            "max_height": null,
            "max_width": null,
            "min_height": null,
            "min_width": null,
            "object_fit": null,
            "object_position": null,
            "order": null,
            "overflow": null,
            "overflow_x": null,
            "overflow_y": null,
            "padding": null,
            "right": null,
            "top": null,
            "visibility": null,
            "width": null
          }
        },
        "aabbcb14d0ce4ba8bb841f32ae2aaa16": {
          "model_module": "@jupyter-widgets/controls",
          "model_module_version": "1.5.0",
          "model_name": "HTMLModel",
          "state": {
            "_dom_classes": [],
            "_model_module": "@jupyter-widgets/controls",
            "_model_module_version": "1.5.0",
            "_model_name": "HTMLModel",
            "_view_count": null,
            "_view_module": "@jupyter-widgets/controls",
            "_view_module_version": "1.5.0",
            "_view_name": "HTMLView",
            "description": "",
            "description_tooltip": null,
            "layout": "IPY_MODEL_93fe9ba1c54b4f298ca4491f2bab4093",
            "placeholder": "​",
            "style": "IPY_MODEL_8f011bc384d14d3183aa254cbb7ce119",
            "value": "Downloading (…)okenizer_config.json: 100%"
          }
        },
        "ac4e9ce289a64fc3aa6ef4ddfdc16a61": {
          "model_module": "@jupyter-widgets/controls",
          "model_module_version": "1.5.0",
          "model_name": "ProgressStyleModel",
          "state": {
            "_model_module": "@jupyter-widgets/controls",
            "_model_module_version": "1.5.0",
            "_model_name": "ProgressStyleModel",
            "_view_count": null,
            "_view_module": "@jupyter-widgets/base",
            "_view_module_version": "1.2.0",
            "_view_name": "StyleView",
            "bar_color": null,
            "description_width": ""
          }
        },
        "af67023cb0524b2eb1ecb23f6a280d53": {
          "model_module": "@jupyter-widgets/controls",
          "model_module_version": "1.5.0",
          "model_name": "HTMLModel",
          "state": {
            "_dom_classes": [],
            "_model_module": "@jupyter-widgets/controls",
            "_model_module_version": "1.5.0",
            "_model_name": "HTMLModel",
            "_view_count": null,
            "_view_module": "@jupyter-widgets/controls",
            "_view_module_version": "1.5.0",
            "_view_name": "HTMLView",
            "description": "",
            "description_tooltip": null,
            "layout": "IPY_MODEL_443b55898d724b4abff1dbb7c7ab08d3",
            "placeholder": "​",
            "style": "IPY_MODEL_0a5450529ad5481ebf756bc90fcc9e16",
            "value": "Downloading (…)/main/tokenizer.json: 100%"
          }
        },
        "af6c0621701f45ceb0015f5c84a079ac": {
          "model_module": "@jupyter-widgets/base",
          "model_module_version": "1.2.0",
          "model_name": "LayoutModel",
          "state": {
            "_model_module": "@jupyter-widgets/base",
            "_model_module_version": "1.2.0",
            "_model_name": "LayoutModel",
            "_view_count": null,
            "_view_module": "@jupyter-widgets/base",
            "_view_module_version": "1.2.0",
            "_view_name": "LayoutView",
            "align_content": null,
            "align_items": null,
            "align_self": null,
            "border": null,
            "bottom": null,
            "display": null,
            "flex": null,
            "flex_flow": null,
            "grid_area": null,
            "grid_auto_columns": null,
            "grid_auto_flow": null,
            "grid_auto_rows": null,
            "grid_column": null,
            "grid_gap": null,
            "grid_row": null,
            "grid_template_areas": null,
            "grid_template_columns": null,
            "grid_template_rows": null,
            "height": null,
            "justify_content": null,
            "justify_items": null,
            "left": null,
            "margin": null,
            "max_height": null,
            "max_width": null,
            "min_height": null,
            "min_width": null,
            "object_fit": null,
            "object_position": null,
            "order": null,
            "overflow": null,
            "overflow_x": null,
            "overflow_y": null,
            "padding": null,
            "right": null,
            "top": null,
            "visibility": null,
            "width": null
          }
        },
        "b052b3bc2b784c0094b16f13d71978ba": {
          "model_module": "@jupyter-widgets/base",
          "model_module_version": "1.2.0",
          "model_name": "LayoutModel",
          "state": {
            "_model_module": "@jupyter-widgets/base",
            "_model_module_version": "1.2.0",
            "_model_name": "LayoutModel",
            "_view_count": null,
            "_view_module": "@jupyter-widgets/base",
            "_view_module_version": "1.2.0",
            "_view_name": "LayoutView",
            "align_content": null,
            "align_items": null,
            "align_self": null,
            "border": null,
            "bottom": null,
            "display": null,
            "flex": null,
            "flex_flow": null,
            "grid_area": null,
            "grid_auto_columns": null,
            "grid_auto_flow": null,
            "grid_auto_rows": null,
            "grid_column": null,
            "grid_gap": null,
            "grid_row": null,
            "grid_template_areas": null,
            "grid_template_columns": null,
            "grid_template_rows": null,
            "height": null,
            "justify_content": null,
            "justify_items": null,
            "left": null,
            "margin": null,
            "max_height": null,
            "max_width": null,
            "min_height": null,
            "min_width": null,
            "object_fit": null,
            "object_position": null,
            "order": null,
            "overflow": null,
            "overflow_x": null,
            "overflow_y": null,
            "padding": null,
            "right": null,
            "top": null,
            "visibility": null,
            "width": null
          }
        },
        "b244170c10894691b2822662a72f8674": {
          "model_module": "@jupyter-widgets/base",
          "model_module_version": "1.2.0",
          "model_name": "LayoutModel",
          "state": {
            "_model_module": "@jupyter-widgets/base",
            "_model_module_version": "1.2.0",
            "_model_name": "LayoutModel",
            "_view_count": null,
            "_view_module": "@jupyter-widgets/base",
            "_view_module_version": "1.2.0",
            "_view_name": "LayoutView",
            "align_content": null,
            "align_items": null,
            "align_self": null,
            "border": null,
            "bottom": null,
            "display": null,
            "flex": null,
            "flex_flow": null,
            "grid_area": null,
            "grid_auto_columns": null,
            "grid_auto_flow": null,
            "grid_auto_rows": null,
            "grid_column": null,
            "grid_gap": null,
            "grid_row": null,
            "grid_template_areas": null,
            "grid_template_columns": null,
            "grid_template_rows": null,
            "height": null,
            "justify_content": null,
            "justify_items": null,
            "left": null,
            "margin": null,
            "max_height": null,
            "max_width": null,
            "min_height": null,
            "min_width": null,
            "object_fit": null,
            "object_position": null,
            "order": null,
            "overflow": null,
            "overflow_x": null,
            "overflow_y": null,
            "padding": null,
            "right": null,
            "top": null,
            "visibility": null,
            "width": null
          }
        },
        "b437ec68591e4936bb4ad5e15bffbbfe": {
          "model_module": "@jupyter-widgets/controls",
          "model_module_version": "1.5.0",
          "model_name": "DescriptionStyleModel",
          "state": {
            "_model_module": "@jupyter-widgets/controls",
            "_model_module_version": "1.5.0",
            "_model_name": "DescriptionStyleModel",
            "_view_count": null,
            "_view_module": "@jupyter-widgets/base",
            "_view_module_version": "1.2.0",
            "_view_name": "StyleView",
            "description_width": ""
          }
        },
        "b6ab2d983ac1498d8d0dff62c4974490": {
          "model_module": "@jupyter-widgets/base",
          "model_module_version": "1.2.0",
          "model_name": "LayoutModel",
          "state": {
            "_model_module": "@jupyter-widgets/base",
            "_model_module_version": "1.2.0",
            "_model_name": "LayoutModel",
            "_view_count": null,
            "_view_module": "@jupyter-widgets/base",
            "_view_module_version": "1.2.0",
            "_view_name": "LayoutView",
            "align_content": null,
            "align_items": null,
            "align_self": null,
            "border": null,
            "bottom": null,
            "display": null,
            "flex": null,
            "flex_flow": null,
            "grid_area": null,
            "grid_auto_columns": null,
            "grid_auto_flow": null,
            "grid_auto_rows": null,
            "grid_column": null,
            "grid_gap": null,
            "grid_row": null,
            "grid_template_areas": null,
            "grid_template_columns": null,
            "grid_template_rows": null,
            "height": null,
            "justify_content": null,
            "justify_items": null,
            "left": null,
            "margin": null,
            "max_height": null,
            "max_width": null,
            "min_height": null,
            "min_width": null,
            "object_fit": null,
            "object_position": null,
            "order": null,
            "overflow": null,
            "overflow_x": null,
            "overflow_y": null,
            "padding": null,
            "right": null,
            "top": null,
            "visibility": null,
            "width": null
          }
        },
        "bccaa992a91447c6af8704512248f64f": {
          "model_module": "@jupyter-widgets/controls",
          "model_module_version": "1.5.0",
          "model_name": "HTMLModel",
          "state": {
            "_dom_classes": [],
            "_model_module": "@jupyter-widgets/controls",
            "_model_module_version": "1.5.0",
            "_model_name": "HTMLModel",
            "_view_count": null,
            "_view_module": "@jupyter-widgets/controls",
            "_view_module_version": "1.5.0",
            "_view_name": "HTMLView",
            "description": "",
            "description_tooltip": null,
            "layout": "IPY_MODEL_b6ab2d983ac1498d8d0dff62c4974490",
            "placeholder": "​",
            "style": "IPY_MODEL_c64888c539984aa9a4a655d2db94d6ec",
            "value": "Downloading (…)solve/main/vocab.txt: 100%"
          }
        },
        "c64888c539984aa9a4a655d2db94d6ec": {
          "model_module": "@jupyter-widgets/controls",
          "model_module_version": "1.5.0",
          "model_name": "DescriptionStyleModel",
          "state": {
            "_model_module": "@jupyter-widgets/controls",
            "_model_module_version": "1.5.0",
            "_model_name": "DescriptionStyleModel",
            "_view_count": null,
            "_view_module": "@jupyter-widgets/base",
            "_view_module_version": "1.2.0",
            "_view_name": "StyleView",
            "description_width": ""
          }
        },
        "c7daeabe2d484281b7dbd75cab788c79": {
          "model_module": "@jupyter-widgets/controls",
          "model_module_version": "1.5.0",
          "model_name": "DescriptionStyleModel",
          "state": {
            "_model_module": "@jupyter-widgets/controls",
            "_model_module_version": "1.5.0",
            "_model_name": "DescriptionStyleModel",
            "_view_count": null,
            "_view_module": "@jupyter-widgets/base",
            "_view_module_version": "1.2.0",
            "_view_name": "StyleView",
            "description_width": ""
          }
        },
        "d1caffb190ac4038ac79f4f04a174718": {
          "model_module": "@jupyter-widgets/controls",
          "model_module_version": "1.5.0",
          "model_name": "DescriptionStyleModel",
          "state": {
            "_model_module": "@jupyter-widgets/controls",
            "_model_module_version": "1.5.0",
            "_model_name": "DescriptionStyleModel",
            "_view_count": null,
            "_view_module": "@jupyter-widgets/base",
            "_view_module_version": "1.2.0",
            "_view_name": "StyleView",
            "description_width": ""
          }
        },
        "d95bee7c4a3541f3884c8c29b305996b": {
          "model_module": "@jupyter-widgets/base",
          "model_module_version": "1.2.0",
          "model_name": "LayoutModel",
          "state": {
            "_model_module": "@jupyter-widgets/base",
            "_model_module_version": "1.2.0",
            "_model_name": "LayoutModel",
            "_view_count": null,
            "_view_module": "@jupyter-widgets/base",
            "_view_module_version": "1.2.0",
            "_view_name": "LayoutView",
            "align_content": null,
            "align_items": null,
            "align_self": null,
            "border": null,
            "bottom": null,
            "display": null,
            "flex": null,
            "flex_flow": null,
            "grid_area": null,
            "grid_auto_columns": null,
            "grid_auto_flow": null,
            "grid_auto_rows": null,
            "grid_column": null,
            "grid_gap": null,
            "grid_row": null,
            "grid_template_areas": null,
            "grid_template_columns": null,
            "grid_template_rows": null,
            "height": null,
            "justify_content": null,
            "justify_items": null,
            "left": null,
            "margin": null,
            "max_height": null,
            "max_width": null,
            "min_height": null,
            "min_width": null,
            "object_fit": null,
            "object_position": null,
            "order": null,
            "overflow": null,
            "overflow_x": null,
            "overflow_y": null,
            "padding": null,
            "right": null,
            "top": null,
            "visibility": null,
            "width": null
          }
        },
        "db472e03fcdb4257812b12c6685d36bb": {
          "model_module": "@jupyter-widgets/base",
          "model_module_version": "1.2.0",
          "model_name": "LayoutModel",
          "state": {
            "_model_module": "@jupyter-widgets/base",
            "_model_module_version": "1.2.0",
            "_model_name": "LayoutModel",
            "_view_count": null,
            "_view_module": "@jupyter-widgets/base",
            "_view_module_version": "1.2.0",
            "_view_name": "LayoutView",
            "align_content": null,
            "align_items": null,
            "align_self": null,
            "border": null,
            "bottom": null,
            "display": null,
            "flex": null,
            "flex_flow": null,
            "grid_area": null,
            "grid_auto_columns": null,
            "grid_auto_flow": null,
            "grid_auto_rows": null,
            "grid_column": null,
            "grid_gap": null,
            "grid_row": null,
            "grid_template_areas": null,
            "grid_template_columns": null,
            "grid_template_rows": null,
            "height": null,
            "justify_content": null,
            "justify_items": null,
            "left": null,
            "margin": null,
            "max_height": null,
            "max_width": null,
            "min_height": null,
            "min_width": null,
            "object_fit": null,
            "object_position": null,
            "order": null,
            "overflow": null,
            "overflow_x": null,
            "overflow_y": null,
            "padding": null,
            "right": null,
            "top": null,
            "visibility": null,
            "width": null
          }
        },
        "e05ebbd29da148cd81ca159fa0c9568d": {
          "model_module": "@jupyter-widgets/controls",
          "model_module_version": "1.5.0",
          "model_name": "HTMLModel",
          "state": {
            "_dom_classes": [],
            "_model_module": "@jupyter-widgets/controls",
            "_model_module_version": "1.5.0",
            "_model_name": "HTMLModel",
            "_view_count": null,
            "_view_module": "@jupyter-widgets/controls",
            "_view_module_version": "1.5.0",
            "_view_name": "HTMLView",
            "description": "",
            "description_tooltip": null,
            "layout": "IPY_MODEL_8813fe628dc44efd99b22ac5a2d37e46",
            "placeholder": "​",
            "style": "IPY_MODEL_7c358703720045168500f0de8c2de9b1",
            "value": " 439k/439k [00:00&lt;00:00, 1.80MB/s]"
          }
        },
        "e25b5537decd4054a276ee352b78ca63": {
          "model_module": "@jupyter-widgets/base",
          "model_module_version": "1.2.0",
          "model_name": "LayoutModel",
          "state": {
            "_model_module": "@jupyter-widgets/base",
            "_model_module_version": "1.2.0",
            "_model_name": "LayoutModel",
            "_view_count": null,
            "_view_module": "@jupyter-widgets/base",
            "_view_module_version": "1.2.0",
            "_view_name": "LayoutView",
            "align_content": null,
            "align_items": null,
            "align_self": null,
            "border": null,
            "bottom": null,
            "display": null,
            "flex": null,
            "flex_flow": null,
            "grid_area": null,
            "grid_auto_columns": null,
            "grid_auto_flow": null,
            "grid_auto_rows": null,
            "grid_column": null,
            "grid_gap": null,
            "grid_row": null,
            "grid_template_areas": null,
            "grid_template_columns": null,
            "grid_template_rows": null,
            "height": null,
            "justify_content": null,
            "justify_items": null,
            "left": null,
            "margin": null,
            "max_height": null,
            "max_width": null,
            "min_height": null,
            "min_width": null,
            "object_fit": null,
            "object_position": null,
            "order": null,
            "overflow": null,
            "overflow_x": null,
            "overflow_y": null,
            "padding": null,
            "right": null,
            "top": null,
            "visibility": null,
            "width": null
          }
        },
        "e2719e0ef84e493282f2c9c54774ef91": {
          "model_module": "@jupyter-widgets/controls",
          "model_module_version": "1.5.0",
          "model_name": "HTMLModel",
          "state": {
            "_dom_classes": [],
            "_model_module": "@jupyter-widgets/controls",
            "_model_module_version": "1.5.0",
            "_model_name": "HTMLModel",
            "_view_count": null,
            "_view_module": "@jupyter-widgets/controls",
            "_view_module_version": "1.5.0",
            "_view_name": "HTMLView",
            "description": "",
            "description_tooltip": null,
            "layout": "IPY_MODEL_8d794514645f47b3a6b78b3f3eddaeaa",
            "placeholder": "​",
            "style": "IPY_MODEL_e3740561963844529c8e6e151961edaf",
            "value": "Downloading (…)solve/main/models.py: 100%"
          }
        },
        "e3740561963844529c8e6e151961edaf": {
          "model_module": "@jupyter-widgets/controls",
          "model_module_version": "1.5.0",
          "model_name": "DescriptionStyleModel",
          "state": {
            "_model_module": "@jupyter-widgets/controls",
            "_model_module_version": "1.5.0",
            "_model_name": "DescriptionStyleModel",
            "_view_count": null,
            "_view_module": "@jupyter-widgets/base",
            "_view_module_version": "1.2.0",
            "_view_name": "StyleView",
            "description_width": ""
          }
        },
        "eda59c65e0b04e6ea17b953db1d50f5f": {
          "model_module": "@jupyter-widgets/base",
          "model_module_version": "1.2.0",
          "model_name": "LayoutModel",
          "state": {
            "_model_module": "@jupyter-widgets/base",
            "_model_module_version": "1.2.0",
            "_model_name": "LayoutModel",
            "_view_count": null,
            "_view_module": "@jupyter-widgets/base",
            "_view_module_version": "1.2.0",
            "_view_name": "LayoutView",
            "align_content": null,
            "align_items": null,
            "align_self": null,
            "border": null,
            "bottom": null,
            "display": null,
            "flex": null,
            "flex_flow": null,
            "grid_area": null,
            "grid_auto_columns": null,
            "grid_auto_flow": null,
            "grid_auto_rows": null,
            "grid_column": null,
            "grid_gap": null,
            "grid_row": null,
            "grid_template_areas": null,
            "grid_template_columns": null,
            "grid_template_rows": null,
            "height": null,
            "justify_content": null,
            "justify_items": null,
            "left": null,
            "margin": null,
            "max_height": null,
            "max_width": null,
            "min_height": null,
            "min_width": null,
            "object_fit": null,
            "object_position": null,
            "order": null,
            "overflow": null,
            "overflow_x": null,
            "overflow_y": null,
            "padding": null,
            "right": null,
            "top": null,
            "visibility": null,
            "width": null
          }
        },
        "ef7beae0df0345d3b41a49a7160c8838": {
          "model_module": "@jupyter-widgets/controls",
          "model_module_version": "1.5.0",
          "model_name": "HTMLModel",
          "state": {
            "_dom_classes": [],
            "_model_module": "@jupyter-widgets/controls",
            "_model_module_version": "1.5.0",
            "_model_name": "HTMLModel",
            "_view_count": null,
            "_view_module": "@jupyter-widgets/controls",
            "_view_module_version": "1.5.0",
            "_view_name": "HTMLView",
            "description": "",
            "description_tooltip": null,
            "layout": "IPY_MODEL_f3aef9f1821044ec8d5fd12cbc283e91",
            "placeholder": "​",
            "style": "IPY_MODEL_1d5ce69c4f3e4619a244742e202cb2e7",
            "value": " 21.1k/21.1k [00:00&lt;00:00, 520kB/s]"
          }
        },
        "f0ce46112caf4b329a484fb9e83aad8d": {
          "model_module": "@jupyter-widgets/controls",
          "model_module_version": "1.5.0",
          "model_name": "HTMLModel",
          "state": {
            "_dom_classes": [],
            "_model_module": "@jupyter-widgets/controls",
            "_model_module_version": "1.5.0",
            "_model_name": "HTMLModel",
            "_view_count": null,
            "_view_module": "@jupyter-widgets/controls",
            "_view_module_version": "1.5.0",
            "_view_name": "HTMLView",
            "description": "",
            "description_tooltip": null,
            "layout": "IPY_MODEL_af6c0621701f45ceb0015f5c84a079ac",
            "placeholder": "​",
            "style": "IPY_MODEL_d1caffb190ac4038ac79f4f04a174718",
            "value": " 110k/110k [00:00&lt;00:00, 673kB/s]"
          }
        },
        "f3aef9f1821044ec8d5fd12cbc283e91": {
          "model_module": "@jupyter-widgets/base",
          "model_module_version": "1.2.0",
          "model_name": "LayoutModel",
          "state": {
            "_model_module": "@jupyter-widgets/base",
            "_model_module_version": "1.2.0",
            "_model_name": "LayoutModel",
            "_view_count": null,
            "_view_module": "@jupyter-widgets/base",
            "_view_module_version": "1.2.0",
            "_view_name": "LayoutView",
            "align_content": null,
            "align_items": null,
            "align_self": null,
            "border": null,
            "bottom": null,
            "display": null,
            "flex": null,
            "flex_flow": null,
            "grid_area": null,
            "grid_auto_columns": null,
            "grid_auto_flow": null,
            "grid_auto_rows": null,
            "grid_column": null,
            "grid_gap": null,
            "grid_row": null,
            "grid_template_areas": null,
            "grid_template_columns": null,
            "grid_template_rows": null,
            "height": null,
            "justify_content": null,
            "justify_items": null,
            "left": null,
            "margin": null,
            "max_height": null,
            "max_width": null,
            "min_height": null,
            "min_width": null,
            "object_fit": null,
            "object_position": null,
            "order": null,
            "overflow": null,
            "overflow_x": null,
            "overflow_y": null,
            "padding": null,
            "right": null,
            "top": null,
            "visibility": null,
            "width": null
          }
        },
        "f89b4aa9a45e4514afa2a881757264bb": {
          "model_module": "@jupyter-widgets/controls",
          "model_module_version": "1.5.0",
          "model_name": "ProgressStyleModel",
          "state": {
            "_model_module": "@jupyter-widgets/controls",
            "_model_module_version": "1.5.0",
            "_model_name": "ProgressStyleModel",
            "_view_count": null,
            "_view_module": "@jupyter-widgets/base",
            "_view_module_version": "1.2.0",
            "_view_name": "StyleView",
            "bar_color": null,
            "description_width": ""
          }
        },
        "fa4470aa6f8646cfb3654d6705ca53af": {
          "model_module": "@jupyter-widgets/controls",
          "model_module_version": "1.5.0",
          "model_name": "HTMLModel",
          "state": {
            "_dom_classes": [],
            "_model_module": "@jupyter-widgets/controls",
            "_model_module_version": "1.5.0",
            "_model_name": "HTMLModel",
            "_view_count": null,
            "_view_module": "@jupyter-widgets/controls",
            "_view_module_version": "1.5.0",
            "_view_name": "HTMLView",
            "description": "",
            "description_tooltip": null,
            "layout": "IPY_MODEL_7e88c69fc3714eadba25fd85085199a1",
            "placeholder": "​",
            "style": "IPY_MODEL_b437ec68591e4936bb4ad5e15bffbbfe",
            "value": " 966/966 [00:00&lt;00:00, 23.9kB/s]"
          }
        },
        "fe64b74c338e41068ad8c6cda84f8e1d": {
          "model_module": "@jupyter-widgets/controls",
          "model_module_version": "1.5.0",
          "model_name": "FloatProgressModel",
          "state": {
            "_dom_classes": [],
            "_model_module": "@jupyter-widgets/controls",
            "_model_module_version": "1.5.0",
            "_model_name": "FloatProgressModel",
            "_view_count": null,
            "_view_module": "@jupyter-widgets/controls",
            "_view_module_version": "1.5.0",
            "_view_name": "ProgressView",
            "bar_style": "success",
            "description": "",
            "description_tooltip": null,
            "layout": "IPY_MODEL_b244170c10894691b2822662a72f8674",
            "max": 125,
            "min": 0,
            "orientation": "horizontal",
            "style": "IPY_MODEL_923317fe14d040b985583ce1dc8c5ca4",
            "value": 125
          }
        }
      }
    }
  },
  "nbformat": 4,
  "nbformat_minor": 0
}
