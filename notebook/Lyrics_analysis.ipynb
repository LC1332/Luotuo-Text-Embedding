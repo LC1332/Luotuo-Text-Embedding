{
  "cells": [
    {
      "cell_type": "markdown",
      "metadata": {
        "id": "view-in-github",
        "colab_type": "text"
      },
      "source": [
        "<a href=\"https://colab.research.google.com/github/LC1332/Luotuo-Text-Embedding/blob/main/notebook/Lyrics_analysis.ipynb\" target=\"_parent\"><img src=\"https://colab.research.google.com/assets/colab-badge.svg\" alt=\"Open In Colab\"/></a>"
      ]
    },
    {
      "cell_type": "markdown",
      "metadata": {
        "id": "hXrE_cPwyKRN"
      },
      "source": [
        "# 歌词分析\n",
        "这个colab展示了使用Luotuo-Text-Embedding进行歌词分析的demo。\n",
        "\n",
        "包括了直接使用colab进行分析和使用gradio进行分析两种方式。"
      ]
    },
    {
      "cell_type": "code",
      "execution_count": null,
      "metadata": {
        "cellView": "form",
        "id": "LQOwt-bnyAwn"
      },
      "outputs": [],
      "source": [
        "#@title 环境安装和进入\n",
        "! pip install -U kaleido\n",
        "! pip install gradio\n",
        "! pip install transformers\n",
        "! pip install openTSNE\n",
        "\n",
        "! git clone https://github.com/LC1332/Luotuo-Text-Embedding\n",
        "\n",
        "%cd Luotuo-Text-Embedding"
      ]
    },
    {
      "cell_type": "code",
      "execution_count": null,
      "metadata": {
        "id": "55oR4ovTyTTA"
      },
      "outputs": [],
      "source": [
        "#@title 导入我们需要的模块\n",
        "import gradio as gr\n",
        "from scipy.spatial.distance import cosine\n",
        "from transformers import AutoModel, AutoTokenizer\n",
        "from argparse import Namespace\n",
        "import torch\n",
        "from lib.tsne import TSNE_Plot"
      ]
    },
    {
      "cell_type": "code",
      "execution_count": null,
      "metadata": {
        "cellView": "form",
        "id": "lZxHuKtQyV1Y"
      },
      "outputs": [],
      "source": [
        "#@title 加载模型\n",
        "tokenizer = AutoTokenizer.from_pretrained(\"silk-road/luotuo-bert\")\n",
        "model_args = Namespace(do_mlm=None,\n",
        "                       pooler_type=\"cls\",\n",
        "                       temp=0.05,\n",
        "                       mlp_only_train=False,\n",
        "                       init_embeddings_model=None)\n",
        "model = AutoModel.from_pretrained(\"silk-road/luotuo-bert\",\n",
        "                  trust_remote_code=True,\n",
        "                  model_args=model_args)"
      ]
    },
    {
      "cell_type": "code",
      "execution_count": null,
      "metadata": {
        "cellView": "form",
        "id": "-5ByRQeR4Rzy"
      },
      "outputs": [],
      "source": [
        "#@title 定义切分句子的函数\n",
        "def divide_str(s, sep=['\\n', '.', '。']):\n",
        "    mid_len = len(s) // 2  # 中心点位置\n",
        "    best_sep_pos = len(s) + 1  # 最接近中心点的分隔符位置\n",
        "    best_sep = None  # 最接近中心点的分隔符\n",
        "    for curr_sep in sep:\n",
        "        sep_pos = s.rfind(curr_sep, 0, mid_len)  # 从中心点往左找分隔符\n",
        "        if sep_pos > 0 and abs(sep_pos - mid_len) < abs(best_sep_pos - mid_len):\n",
        "            best_sep_pos = sep_pos\n",
        "            best_sep = curr_sep\n",
        "    if not best_sep:  # 没有找到分隔符\n",
        "        return s, ''\n",
        "    return s[:best_sep_pos + 1], s[best_sep_pos + 1:]\n",
        "\n",
        "def strong_divide( s ):\n",
        "  left, right = divide_str(s)\n",
        "\n",
        "  if right != '':\n",
        "    return left, right\n",
        "\n",
        "  whole_sep = ['\\n', '.', '，', '、', ';', ',', '；',\\\n",
        "               '：', '！', '？', '(', ')', '”', '“', \\\n",
        "               '’', '‘', '[', ']', '{', '}', '<', '>', \\\n",
        "               '/', '''\\''', '|', '-', '=', '+', '*', '%', \\\n",
        "               '$', '''#''', '@', '&', '^', '_', '`', '~',\\\n",
        "               '·', '…']\n",
        "  left, right = divide_str(s, sep = whole_sep )\n",
        "\n",
        "  if right != '':\n",
        "    return left, right\n",
        "  \n",
        "  mid_len = len(s) // 2\n",
        "  return s[:mid_len], s[mid_len:]"
      ]
    },
    {
      "cell_type": "markdown",
      "metadata": {
        "id": "X6kICxlEOrff"
      },
      "source": [
        "## 直接使用colab"
      ]
    },
    {
      "cell_type": "code",
      "execution_count": null,
      "metadata": {
        "id": "m7d_yBmd4Mor"
      },
      "outputs": [],
      "source": [
        "#@title 定义为给定歌词生成图像的函数\n",
        "def generate(input_string):\n",
        "    divided_text = [strong_divide(i) if isinstance(i, str) else strong_divide(i[0]) for i in input_string]\n",
        "    label = []\n",
        "    for idx, i in enumerate(input_string):\n",
        "        if isinstance(i, str):\n",
        "            label.append('No.{}'.format(idx))\n",
        "        else:\n",
        "            label.append(i[1])\n",
        "    text_left, text_right = [i[0] for i in divided_text], [i[1] for i in divided_text]\n",
        "\n",
        "    inputs = tokenizer(text_left, padding=True, truncation=True, return_tensors=\"pt\")\n",
        "    with torch.no_grad():\n",
        "        embeddings_left = model(**inputs, output_hidden_states=True, return_dict=True, sent_emb=True).pooler_output\n",
        "    inputs = tokenizer(text_right, padding=True, truncation=True, return_tensors=\"pt\")\n",
        "    with torch.no_grad():\n",
        "        embeddings_right = model(**inputs, output_hidden_states=True, return_dict=True, sent_emb=True).pooler_output\n",
        "\n",
        "    merged_list = text_left + text_right\n",
        "    merged_embed = torch.cat((embeddings_left, embeddings_right), dim=0)\n",
        "    print(label)\n",
        "    tsne_plot = TSNE_Plot(merged_list, merged_embed, label=label * 2, n_annotation_positions=len(merged_list))\n",
        "    tsne_plot.tsne_plot(n_sentence=len(merged_list))"
      ]
    },
    {
      "cell_type": "code",
      "execution_count": null,
      "metadata": {
        "id": "s26jo4ZKyXxk"
      },
      "outputs": [],
      "source": [
        "#@title 输入万能青年旅店的十首歌的歌词并生成图像进行展示\n",
        "input_string_wanqing = ['站在能分割世界的桥 还是看不清 在那些时刻 遮蔽我们 黑暗的心 究竟是什么 住在我心里孤独的 孤独的海怪 痛苦之王 开始厌倦 深海的光 停滞的海浪',\n",
        "         '渔王还想 继续做渔王 而海港已经 不知去向 此刻他醉倒 在洗浴中心 没有潮汐的梦 胸口已暮色苍茫 肥胖的城市 递给他一个 传统的方法 来克制恐慌 卖掉武器 风暴和喉咙 换取饮食 背叛能让你获得自由',\n",
        "         '溜出时代银行的后门 撕开夜幕和喑哑的平原 越过淡季森林和电 牵引我们黑暗的心 在愿望的最后一个季节 解散清晨还有黄昏 在愿望的最后一个季节 记起我曾身藏利刃 是谁来自山川湖海 却囿于昼夜厨房与爱',\n",
        "         '傍晚六点下班 换掉药厂的衣裳 妻子在熬粥 我去喝几瓶啤酒 如此生活三十年 直到大厦崩塌 云层深处的黑暗啊 淹没心底的景观 在八角柜台 疯狂的人民商场 用一张假钞 买一把假枪 保卫她的生活 直到大厦崩塌 夜幕覆蓋华北平原 忧伤浸透她的脸',\n",
        "         '敌视现实 虚构远方 东张西望 一无所长 四体不勤 五谷不分 文不能测字 武不能防身 喜欢养狗 不爱洗头 不事劳作 一无所获 厌恶争执 不善言说 终于沦为沉默的帮凶',\n",
        "         '切断电缆 朝霞晚风 临时收入 临时生活 切断电缆 数字云烟 免费月光 免费惊险 月光熔铁星 铸我神与心 月光熔铁星 铸我神与心 渤海地产 太行水泥 宗教医保 慈善股票 幻觉贸易 阶级电梯 高级魔术 高级发明 凝聚神与心 建此不夜城 凝聚神与心 建此不夜城',\n",
        "         '自然赠予你 树冠 微风 肩头的暴雨 片刻后生成 平衡 忠诚 不息的身体 捕食饮水 清早眉间白云生 跳跃漫游 晚来拂面渤海风 朝霞化精灵 轻快 明亮 恒温的伴侣 她与你共存 违背 对抗 相同的命运 爱与疼痛 不觉茫茫道路长 生活历险 并肩莽莽原野荒',\n",
        "         '开采 我的血肉的火光 发动 新世界的前进的泡影 雷鸣 交织爆破成动荡 此生再不归太行 捶打我天然的沉默 切割我卑微与困惑 面貌已生疏 前方模糊 灵魂在山口又回顾',\n",
        "         '不速之客 一贫如洗 劳动 饮酒 叹息 夜宿河床枕露珠 测量绘图 爆破合围 加固文明幻景 开山拦河建水库 泥沙沉积 运动停息 随后水鸟隐迹 人造湖泊无颜色',\n",
        "         '听雷声 滚滚 他默默 闭紧嘴唇 停止吟唱暮色与想念 他此刻沉痛而危险 听雷声 滚滚 他渐渐 感到胸闷 乌云阻拦明月涌河湾 他起身独立向荒原',\n",
        "         ] \n",
        "\n",
        "generate(input_string_wanqing)"
      ]
    },
    {
      "cell_type": "code",
      "execution_count": null,
      "metadata": {
        "cellView": "form",
        "id": "Xa_WKuZazdGI"
      },
      "outputs": [],
      "source": [
        "#@title 输入新裤子的十首歌的歌词并生成图像进行展示\n",
        "input_string_xinkuzi = ['每当浪潮来临的时候 你会不会也伤心 在拥挤孤独的房间里 我已经透不过气 在这冰冷无情的城市里 在摩登颓废的派对里 每当吉他噪音又响起 电流穿过我和你',\n",
        "         '我最爱去的唱片店 昨天是她的最后一天 曾经让我陶醉的碎片 全都散落在街边 我最爱去的书店 她也没撑过这个夏天 回忆文字流淌著怀念 可是已没什么好怀念 可是你曾经的那些梦 都已变得模糊看不见 那些为了理想的战斗 也不过为了钱 可是我最恨的那个人 他始终没死在我面前 还没年轻就变得苍老 这一生无解',\n",
        "         '勇敢的你 站在这里 脸庞清瘦却骄傲 在这远方 没人陪伴 只有幻想和烦恼 无聊的 渺小的 反对不公平的世界 没能继续的革命 不欢而散的告别 我倒下后 不敢回头 不能再见的朋友 有人堕落 有人疯了 有人随着风去了',\n",
        "         '停留在空荡的车站里 看着外面的烟雨 陌生音乐又响起 妳等的人他在哪里 旅客们匆匆的离去 下壹站不知要去哪里 冷冷凄风迷住眼睛 妳爱的人他已变心',\n",
        "         '依偎在安静的车厢里 越过夜幕下的森林 那首时光的恋曲 飘荡在荒芜的青空 我们默默的向前走 我们还是恋人吗 漫长治愈的旅行 风景美的让人迷惑',\n",
        "         '每次他又被别人欺骗的时候 他只有音乐 每次这个城市脏得让人无法呼吸的时候 只有音乐 每次他爱的人又被别人抢走的时候 他只有音乐 每次他又无家可归的时候 他只有音乐 弹着吉他的少年',\n",
        "         '天空在摇摆 找不到存在 简单的概念 都已改变 都已改变 一瞬间 一转眼 我怀疑 一切改变 我发现 你已改变 我 不可能 完美的象机器 和我在一起 拥抱着我 拥抱着我',\n",
        "         '每当我失去勇气 我显得麻木恐惧 我害怕人们走远 我害怕苍老死去 看你我为我而伤心 看朋友自私势利 没有人再需要我 达到他的目的 我计算不出生活有多长距离 也许明天朋友都会离去',\n",
        "         '那年的夏天 暴雨和闪电 过期的胶片 失落一点点 为什么流泪 为什么怀念 我失眠至少我还有你的照片 还记得你演的文艺片 写在墙上的那一年 不会变',\n",
        "         '你就是我的明星 我拼命的想你 不顾一切追随你 我拼命的爱你 就算偶像已死去 虽然你不能再歌唱 无法忘记过去的时光 偶然打开收音机 找到失落的回忆'\n",
        "         ]\n",
        "\n",
        "generate(input_string_xinkuzi)"
      ]
    },
    {
      "cell_type": "code",
      "execution_count": null,
      "metadata": {
        "id": "n5i4N62Kt_zy"
      },
      "outputs": [],
      "source": [
        "#@title 输入陈奕迅的十首歌的歌词并生成图像进行展示\n",
        "input_string_chenyixun = ['如果那两个字没有颤抖 我不会发现 我难受 怎么说出口 也不过是分手 如果对于明天没有要求 牵牵手就像旅游 成千上万个门口 总有一个人要先走',\n",
        "         '我以为要是唱得用心良苦 妳总会对我多点在乎 我以为虽然爱情 已成往事 千言万语说出来可以互相安抚 期待妳感动 真实的我们难相处 写词的让我 唱出你要的幸福 谁曾经感动 分手的关头才懂得 离开排行榜 更铭心刻骨',\n",
        "         '拦路雨偏似雪花 饮泣的你冻吗 这风褛我给你磨到有襟花 连调了职也不怕 怎么始终牵挂 苦心选中今天想车你回家 原谅我不再送花 伤口应要结疤 花瓣铺满心里坟场才害怕 如若你非我不嫁 彼此终必火化 一生一世等一天需要代价',\n",
        "         '不要不要假设我知道 一切一切也都是为我而做 为何这么伟大 如此感觉不到 不说一句的爱有多好 只有一次记得实在接触到 骑着单车的我俩 怀紧贴背的拥抱',\n",
        "         '天空它像什么 爱情就像什么 几朵云在阴天忘了该往哪儿走 思念和寂寞 被吹进了左耳 也许我记不住可是也忘不掉那时候 那种秘密的快乐',\n",
        "         '逃避分开的孤独 情愿一起不舒服 其实你那占有欲 咬噬我血肉 怕我也有份教育 未能做空虚的枯木 滞留在挤拥的监狱 明白你有控制欲 我为了大局 上了瘾也不戒毒',\n",
        "         '欢笑声 欢呼声 炒热气氛 心却很冷 聚光灯 是种蒙恩 我却不能 喊等一等 我真佩服我 还能幽默 掉眼泪时 用笑掩过 怕人看破 顾虑好多 不谈寂寞 我们就都快活',\n",
        "         '仍然没有遇到 那位跟我绝配的恋人 你根本也未有出现 还是已然逝去 怀疑在某一个国度里的某一年 还未带我到世上那天 存在过一位等我爱的某人 夜夜为我失眠 从来未相识 已不在这个人 极其实在却像个虚构角色 莫非今生原定陪我来 却去了错误时代',\n",
        "         '我来到 你的城市 走过你来时的路 想像著 没我的日子 你是怎样的孤独 拿着你 给的照片 熟悉的那一条街 只是没了你的画面 我们回不到那天',\n",
        "         '徘徊过多少橱窗 住过多少旅馆 才会觉得分离也并不冤枉 感情是用来浏览 还是用来珍藏 好让日子天天都过得难忘 熬过了多久患难 湿了多少眼眶 才能知道伤感是爱的遗产 流浪几张双人床 换过几次信仰 才让戒指义无反顾的交换',\n",
        "         ]\n",
        "\n",
        "generate(input_string_chenyixun)"
      ]
    },
    {
      "cell_type": "code",
      "execution_count": null,
      "metadata": {
        "id": "jN1ManPCPCKz"
      },
      "outputs": [],
      "source": [
        "#@title （可选）在输入歌词的还可以同时输入每个歌词的歌名一起生成图像展示\n",
        "input_string_wanqing_with_name = [('站在能分割世界的桥 还是看不清 在那些时刻 遮蔽我们 黑暗的心 究竟是什么 住在我心里孤独的 孤独的海怪 痛苦之王 开始厌倦 深海的光 停滞的海浪', '秦皇岛'),\n",
        "         ('渔王还想 继续做渔王 而海港已经 不知去向 此刻他醉倒 在洗浴中心 没有潮汐的梦 胸口已暮色苍茫 肥胖的城市 递给他一个 传统的方法 来克制恐慌 卖掉武器 风暴和喉咙 换取饮食 背叛能让你获得自由', '大石碎胸口'),\n",
        "         ('溜出时代银行的后门 撕开夜幕和喑哑的平原 越过淡季森林和电 牵引我们黑暗的心 在愿望的最后一个季节 解散清晨还有黄昏 在愿望的最后一个季节 记起我曾身藏利刃 是谁来自山川湖海 却囿于昼夜厨房与爱', '揪心的玩笑与漫长的白日梦'),\n",
        "         ('傍晚六点下班 换掉药厂的衣裳 妻子在熬粥 我去喝几瓶啤酒 如此生活三十年 直到大厦崩塌 云层深处的黑暗啊 淹没心底的景观 在八角柜台 疯狂的人民商场 用一张假钞 买一把假枪 保卫她的生活 直到大厦崩塌 夜幕覆蓋华北平原 忧伤浸透她的脸', '杀死那个石家庄人'),\n",
        "         '敌视现实 虚构远方 东张西望 一无所长 四体不勤 五谷不分 文不能测字 武不能防身 喜欢养狗 不爱洗头 不事劳作 一无所获 厌恶争执 不善言说 终于沦为沉默的帮凶',\n",
        "         '切断电缆 朝霞晚风 临时收入 临时生活 切断电缆 数字云烟 免费月光 免费惊险 月光熔铁星 铸我神与心 月光熔铁星 铸我神与心 渤海地产 太行水泥 宗教医保 慈善股票 幻觉贸易 阶级电梯 高级魔术 高级发明 凝聚神与心 建此不夜城 凝聚神与心 建此不夜城',\n",
        "         ('自然赠予你 树冠 微风 肩头的暴雨 片刻后生成 平衡 忠诚 不息的身体 捕食饮水 清早眉间白云生 跳跃漫游 晚来拂面渤海风 朝霞化精灵 轻快 明亮 恒温的伴侣 她与你共存 违背 对抗 相同的命运 爱与疼痛 不觉茫茫道路长 生活历险 并肩莽莽原野荒', '山雀'),\n",
        "         '开采 我的血肉的火光 发动 新世界的前进的泡影 雷鸣 交织爆破成动荡 此生再不归太行 捶打我天然的沉默 切割我卑微与困惑 面貌已生疏 前方模糊 灵魂在山口又回顾',\n",
        "         '不速之客 一贫如洗 劳动 饮酒 叹息 夜宿河床枕露珠 测量绘图 爆破合围 加固文明幻景 开山拦河建水库 泥沙沉积 运动停息 随后水鸟隐迹 人造湖泊无颜色',\n",
        "         '听雷声 滚滚 他默默 闭紧嘴唇 停止吟唱暮色与想念 他此刻沉痛而危险 听雷声 滚滚 他渐渐 感到胸闷 乌云阻拦明月涌河湾 他起身独立向荒原',\n",
        "]\n",
        "generate(input_string_wanqing_with_name)"
      ]
    },
    {
      "cell_type": "markdown",
      "metadata": {
        "id": "GEjspI9pNBdt"
      },
      "source": [
        "## Gradio"
      ]
    },
    {
      "cell_type": "code",
      "execution_count": null,
      "metadata": {
        "id": "9wiiaCVhNLtN"
      },
      "outputs": [],
      "source": [
        "#@title 定义为gradio生成图像的函数\n",
        "def generate_image(text_input):\n",
        "    # 将输入的文本按行分割并保存到列表中\n",
        "    text_input = text_input.split('\\n')\n",
        "    label = []\n",
        "    for idx, i in enumerate(text_input):\n",
        "        if '#' in i:\n",
        "            label.append(i[i.find('#') + 1:])\n",
        "            text_input[idx] = i[:i.find('#')]\n",
        "        else:\n",
        "            label.append('No.{}'.format(idx))\n",
        "\n",
        "    divided_text = [strong_divide(i) for i in text_input]\n",
        "    text_left, text_right = [i[0] for i in divided_text], [i[1] for i in divided_text]\n",
        "    inputs = tokenizer(text_left, padding=True, truncation=True, return_tensors=\"pt\")\n",
        "    with torch.no_grad():\n",
        "      embeddings_left = model(**inputs, output_hidden_states=True, return_dict=True, sent_emb=True).pooler_output\n",
        "    inputs = tokenizer(text_right, padding=True, truncation=True, return_tensors=\"pt\")\n",
        "    with torch.no_grad():\n",
        "      embeddings_right = model(**inputs, output_hidden_states=True, return_dict=True, sent_emb=True).pooler_output\n",
        "\n",
        "    merged_list = text_left + text_right\n",
        "    merged_embed = torch.cat((embeddings_left, embeddings_right), dim=0)\n",
        "    tsne_plot = TSNE_Plot(merged_list, merged_embed, label=label * 2, n_annotation_positions=len(merged_list))\n",
        "    fig = tsne_plot.tsne_plot(n_sentence=len(merged_list), return_fig=True)\n",
        "    return fig"
      ]
    },
    {
      "cell_type": "code",
      "execution_count": null,
      "metadata": {
        "colab": {
          "background_save": true
        },
        "id": "th4WIPwTzsnV"
      },
      "outputs": [],
      "source": [
        "#@title 创建 Gradio 界面\n",
        "with gr.Blocks() as demo:\n",
        "    name = gr.inputs.Textbox(lines=20,\n",
        "          placeholder='在此输入歌词，每一行为一个输入，如果需要输入歌词对应的歌名，请用#隔开\\n例如：听雷声 滚滚 他默默 闭紧嘴唇 停止吟唱暮色与想念 他此刻沉痛而危险 听雷声 滚滚 他渐渐 感到胸闷 乌云阻拦明月涌河湾 他起身独立向荒原#河北墨麒麟')\n",
        "    output = gr.Plot()\n",
        "    btn = gr.Button(\"Generate\")\n",
        "    btn.click(fn=generate_image, inputs=name, outputs=output, api_name=\"generate-image\")\n",
        "\n",
        "demo.launch(debug=True)"
      ]
    },
    {
      "cell_type": "code",
      "execution_count": null,
      "metadata": {
        "id": "WvvgVpO4Nf7m"
      },
      "outputs": [],
      "source": []
    },
    {
      "cell_type": "code",
      "execution_count": null,
      "metadata": {
        "id": "RMqkYguUzrFu"
      },
      "outputs": [],
      "source": []
    }
  ],
  "metadata": {
    "colab": {
      "provenance": [],
      "authorship_tag": "ABX9TyNMMl7PeBKpe1lK6/g56v3w",
      "include_colab_link": true
    },
    "kernelspec": {
      "display_name": "Python 3",
      "name": "python3"
    },
    "language_info": {
      "name": "python"
    }
  },
  "nbformat": 4,
  "nbformat_minor": 0
}