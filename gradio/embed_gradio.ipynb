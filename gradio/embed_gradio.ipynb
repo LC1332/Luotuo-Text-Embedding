{
 "cells": [
  {
   "cell_type": "code",
   "execution_count": null,
   "metadata": {},
   "outputs": [],
   "source": [
    "! pip install -U kaleido\n",
    "! pip install gradio\n",
    "! pip install transformers"
   ]
  },
  {
   "cell_type": "code",
   "execution_count": null,
   "metadata": {},
   "outputs": [],
   "source": [
    "! git clone https://github.com/LC1332/Luotuo-Text-Embedding"
   ]
  },
  {
   "cell_type": "code",
   "execution_count": null,
   "metadata": {},
   "outputs": [],
   "source": [
    "% cd Luotuo-Text-Embedding/gradio"
   ]
  },
  {
   "cell_type": "code",
   "execution_count": 1,
   "metadata": {},
   "outputs": [
    {
     "name": "stderr",
     "output_type": "stream",
     "text": [
      "/home/luotuo/miniconda3/envs/gradio/lib/python3.9/site-packages/tqdm/auto.py:21: TqdmWarning: IProgress not found. Please update jupyter and ipywidgets. See https://ipywidgets.readthedocs.io/en/stable/user_install.html\n",
      "  from .autonotebook import tqdm as notebook_tqdm\n"
     ]
    }
   ],
   "source": [
    "import gradio as gr\n",
    "from scipy.spatial.distance import cosine\n",
    "from transformers import AutoModel, AutoTokenizer\n",
    "from argparse import Namespace\n",
    "import torch\n",
    "# Import our models. The package will take care of downloading the models automatically"
   ]
  },
  {
   "cell_type": "code",
   "execution_count": 2,
   "metadata": {},
   "outputs": [
    {
     "name": "stderr",
     "output_type": "stream",
     "text": [
      "Explicitly passing a `revision` is encouraged when loading a model with custom code to ensure no malicious code has been contributed in a newer revision.\n"
     ]
    }
   ],
   "source": [
    "from divide import divide_inputs,get_all_embedding\n",
    "from tsne import TSNE_Plot\n",
    "tokenizer = AutoTokenizer.from_pretrained(\"silk-road/luotuo-bert\")\n",
    "model_args = Namespace(do_mlm=None,\n",
    "                       pooler_type=\"cls\",\n",
    "                       temp=0.05,\n",
    "                       mlp_only_train=False,\n",
    "                       init_embeddings_model=None)\n",
    "model = AutoModel.from_pretrained(\"silk-road/luotuo-bert\",\n",
    "                                  trust_remote_code=True,\n",
    "                                  model_args=model_args)"
   ]
  },
  {
   "cell_type": "code",
   "execution_count": 3,
   "metadata": {},
   "outputs": [],
   "source": [
    "def generate_image(text_input):\n",
    "    # 将输入的文本按行分割并保存到列表中\n",
    "    text_left, text_right = divide_inputs(text_input)\n",
    "    embeddings_left, embeddings_right = get_all_embedding(\n",
    "        model, tokenizer, text_left, text_right)\n",
    "    # 在这里编写您自己的生成图片代码，您可以根据需要修改此函数\n",
    "    # 示例：使用 PIL 创建一个包含文本的简单图片\n",
    "    merged_list = text_left + text_right\n",
    "    merged_embed = torch.cat((embeddings_left, embeddings_right), dim=0)\n",
    "    tsne_plot = TSNE_Plot(merged_list, merged_embed, n_clusters=4)\n",
    "    fig = tsne_plot.tsne_plot(n_sentence=40)\n",
    "    return fig"
   ]
  },
  {
   "cell_type": "code",
   "execution_count": 15,
   "metadata": {},
   "outputs": [
    {
     "name": "stderr",
     "output_type": "stream",
     "text": [
      "/home/luotuo/miniconda3/envs/gradio/lib/python3.9/site-packages/gradio/deprecation.py:40: UserWarning:\n",
      "\n",
      "`layout` parameter is deprecated, and it has no effect\n",
      "\n"
     ]
    },
    {
     "name": "stdout",
     "output_type": "stream",
     "text": [
      "Running on local URL:  http://127.0.0.1:7860\n",
      "huggingface/tokenizers: The current process just got forked, after parallelism has already been used. Disabling parallelism to avoid deadlocks...\n",
      "To disable this warning, you can either:\n",
      "\t- Avoid using `tokenizers` before the fork if possible\n",
      "\t- Explicitly set the environment variable TOKENIZERS_PARALLELISM=(true | false)\n",
      "Running on public URL: https://f31f9c0899c0d9662e.gradio.live\n",
      "\n",
      "This share link expires in 72 hours. For free permanent hosting and GPU upgrades (NEW!), check out Spaces: https://huggingface.co/spaces\n"
     ]
    },
    {
     "data": {
      "text/html": [
       "<div><iframe src=\"https://f31f9c0899c0d9662e.gradio.live\" width=\"100%\" height=\"500\" allow=\"autoplay; camera; microphone; clipboard-read; clipboard-write;\" frameborder=\"0\" allowfullscreen></iframe></div>"
      ],
      "text/plain": [
       "<IPython.core.display.HTML object>"
      ]
     },
     "metadata": {},
     "output_type": "display_data"
    },
    {
     "name": "stderr",
     "output_type": "stream",
     "text": [
      "/home/luotuo/miniconda3/envs/gradio/lib/python3.9/site-packages/sklearn/cluster/_kmeans.py:870: FutureWarning:\n",
      "\n",
      "The default value of `n_init` will change from 10 to 'auto' in 1.4. Set the value of `n_init` explicitly to suppress the warning\n",
      "\n"
     ]
    },
    {
     "name": "stdout",
     "output_type": "stream",
     "text": [
      "Keyboard interruption in main thread... closing server.\n",
      "Killing tunnel 127.0.0.1:7860 <> https://f31f9c0899c0d9662e.gradio.live\n"
     ]
    },
    {
     "data": {
      "text/plain": []
     },
     "execution_count": 15,
     "metadata": {},
     "output_type": "execute_result"
    }
   ],
   "source": [
    "# 创建 Gradio 界面\n",
    "iface = gr.Interface(fn=generate_image,\n",
    "                     inputs=gr.inputs.Textbox(lines=50,\n",
    "                                              placeholder='在此输入文本，一行一句...'),\n",
    "                     outputs=gr.outputs.Image('pil'),\n",
    "                     layout=\"vertical\")\n",
    "\n",
    "\n",
    "iface.launch(share = True,debug=True)"
   ]
  }
 ],
 "metadata": {
  "kernelspec": {
   "display_name": "gradio",
   "language": "python",
   "name": "python3"
  },
  "language_info": {
   "codemirror_mode": {
    "name": "ipython",
    "version": 3
   },
   "file_extension": ".py",
   "mimetype": "text/x-python",
   "name": "python",
   "nbconvert_exporter": "python",
   "pygments_lexer": "ipython3",
   "version": "3.9.16"
  },
  "orig_nbformat": 4
 },
 "nbformat": 4,
 "nbformat_minor": 2
}
