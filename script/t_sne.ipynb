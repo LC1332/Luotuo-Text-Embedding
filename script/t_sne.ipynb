{
 "cells": [
  {
   "attachments": {},
   "cell_type": "markdown",
   "metadata": {},
   "source": [
    "## 导入库"
   ]
  },
  {
   "cell_type": "code",
   "execution_count": 1,
   "metadata": {},
   "outputs": [],
   "source": [
    "import re\n",
    "import openai\n",
    "from IPython.display import Markdown, display\n",
    "import pandas as pd\n",
    "import numpy as np\n",
    "from sklearn.decomposition import PCA\n",
    "\n",
    "from openTSNE import TSNE\n",
    "from datasets import load_dataset\n",
    "\n",
    "from sklearn.model_selection import train_test_split\n",
    "\n",
    "import matplotlib.pyplot as plt\n",
    "\n",
    "from tqdm import tqdm\n",
    "from sklearn.decomposition import PCA\n",
    "\n",
    "\n",
    "import matplotlib.pyplot as plt\n",
    "import matplotlib.colors as mcolors\n",
    "\n",
    "import plotly_express as px\n",
    "import plotly.graph_objs as go\n",
    "\n",
    "from matplotlib.lines import Line2D\n",
    "\n",
    "from scipy.spatial.distance import pdist, squareform\n",
    "from networkx import Graph\n",
    "from networkx.algorithms.matching import max_weight_matching\n",
    "import networkx as nx\n",
    "\n",
    "openai.api_key = \"sk-xxxxxxxxxxxxxxxxxxxxx\""
   ]
  },
  {
   "attachments": {},
   "cell_type": "markdown",
   "metadata": {},
   "source": [
    "## 函数"
   ]
  },
  {
   "cell_type": "code",
   "execution_count": 2,
   "metadata": {},
   "outputs": [],
   "source": [
    "def generate_colormap(n_labels):\n",
    "    #创建一个均匀分布的颜色映射\n",
    "    color_norm = mcolors.Normalize(vmin=0, vmax=len(n_labels) - 1)\n",
    "    # 使用 plt.cm 中预先定义的colormap，你可以自由选择其他colormap如\"hsv\", \"hot\", \"cool\", \"viridis\"等\n",
    "    scalar_map = plt.cm.ScalarMappable(norm=color_norm, cmap='jet') \n",
    "\n",
    "    colormap = {}\n",
    "    for label in range(len(n_labels)):\n",
    "        # 将颜色值转换为十六进制\n",
    "        color_hex = mcolors.to_hex(scalar_map.to_rgba(label))\n",
    "        colormap[n_labels[label]] = color_hex\n",
    "    return colormap\n",
    "\n",
    "def divide_hex_color_by_half(hex_color):\n",
    "    if len(hex_color) > 0 and hex_color[0] == \"#\":\n",
    "        hex_color = hex_color[1:]\n",
    "\n",
    "    red_hex, green_hex, blue_hex = hex_color[0:2], hex_color[2:4], hex_color[4:6]\n",
    "    \n",
    "    red_half = int(red_hex, 16) // 10 + (255-25)\n",
    "    green_half = int(green_hex, 16) // 10 + (255-25)\n",
    "    blue_half = int(blue_hex, 16) // 10 + (255-25)\n",
    "    \n",
    "    half_hex_color = \"#{:02x}{:02x}{:02x}\".format(red_half, green_half, blue_half)\n",
    "    return half_hex_color\n",
    "\n",
    "def calculate_distance_matrix(df):\n",
    "    coord = np.array(df[[\"x\", \"y\", \"label\"]])\n",
    "    return squareform(pdist(coord, \"euclidean\"))\n",
    "\n",
    "\n",
    "def create_weighted_graph(distance_matrix):\n",
    "    size = distance_matrix.shape[0]\n",
    "    G = Graph()\n",
    "\n",
    "    for i in range(0, size, 2):\n",
    "        for j in range(1, size, 2):\n",
    "            if distance_matrix[i][j] > 0:\n",
    "                G.add_edge(i, j, weight=distance_matrix[i][j])\n",
    "\n",
    "    return G\n",
    "\n",
    "def show_text(show_sentence, text):\n",
    "    sentence = []\n",
    "    for i in range(len(text)):\n",
    "        if i in show_sentence:\n",
    "            s = text[i][:10] + \"...\" + text[i][-10:]\n",
    "            sentence.append(s)\n",
    "        else:\n",
    "            sentence.append(\"\")\n",
    "    return sentence\n",
    "\n",
    "def update_sentence_positions(df, max_match):\n",
    "    df[\"sentence_pos\"] = \"right\"\n",
    "    for a, b in max_match:\n",
    "        df.loc[a, \"sentence_pos\"] = \"left\"\n",
    "        df.loc[b, \"sentence_pos\"] = \"left\"\n",
    "\n",
    "def format_data(test_X, show_sentence, embd_data, labels):\n",
    "    sentence = show_text(show_sentence, test_X[\"text\"])\n",
    "    X, Y = np.split(embd_data, 2, axis=1)\n",
    "    n = len(test_X)\n",
    "    # initialize the sentence position to be left, but make sure the sentence in show_sentence is distributed on both right and left equally    \n",
    "    sentence_pos = [\"left\" for i in range(n)]\n",
    "    for i in range(len(show_sentence)):\n",
    "        if i % 2 == 0:\n",
    "            sentence_pos[show_sentence[i]] = \"right\"\n",
    "\n",
    "    data = {\n",
    "        \"x\": X.flatten(),\n",
    "        \"y\": Y.flatten(),\n",
    "        \"label\": labels,\n",
    "        \"sentence\" : sentence,\n",
    "        \"sentence_pos\" : sentence_pos,\n",
    "        \"size\" : [20 if i in show_sentence else 10 for i in range(n)]\n",
    "    }\n",
    "    df = pd.DataFrame(data)\n",
    "    return df\n",
    "\n",
    "def calculate_tsne(test_X):   \n",
    "    embed = np.array(test_X[\"embed\"].tolist())\n",
    "    pca = PCA(n_components=50)\n",
    "    compact_embedding = pca.fit_transform(embed)\n",
    "    tsne = TSNE(\n",
    "        perplexity=30,\n",
    "        metric=\"cosine\",\n",
    "        n_jobs=8,\n",
    "        random_state=42,\n",
    "        verbose=True,\n",
    "    )\n",
    "    embedding_train = tsne.fit(compact_embedding)\n",
    "    embedding_train = embedding_train.optimize(n_iter=1000, momentum=0.8)\n",
    "    return embedding_train\n",
    "\n",
    "def random_sentence(N, test_y):\n",
    "    #多次随机可能会影响可视化结果\n",
    "    n = len(test_y)\n",
    "    show_sentence = [np.random.randint(0, n) for i in range(N)]\n",
    "\n",
    "    # 确保每个标签至少有一个句子，用在show_sentence中最多的标签的句子来补充\n",
    "    label_count = test_y[\"label\"].value_counts()\n",
    "    max_label = label_count.index[0]\n",
    "    max_count = label_count[0]\n",
    "    for i in range(max_count):\n",
    "        for j in range(len(label_count)):\n",
    "            if label_count[j] == i:\n",
    "                show_sentence.append(test_y[test_y[\"label\"] == label_count.index[j]].index[0])\n",
    "    return list(set(show_sentence))\n",
    "\n",
    "def plot(df):\n",
    "    min_x, max_x = df['x'].min()-1, df['x'].max()+2\n",
    "    fig = go.Figure()\n",
    "    fig = go.Figure(layout=go.Layout(\n",
    "        autosize=False,  # 禁止图像自动调整大小\n",
    "        height=800,  # 您可以根据需要调整这个值\n",
    "        width=1500,  # 您可以根据需要调整这个值\n",
    "        # plot_bgcolor=\"#262626\",\n",
    "    ))\n",
    "    \n",
    "    label_colors = generate_colormap(df['label'].unique())\n",
    "\n",
    "    line_legend_group = \"lines\"\n",
    "\n",
    "    # 为每个类别的点创建散点图\n",
    "    for label, color in label_colors.items():\n",
    "        mask = df[\"label\"] == label\n",
    "        fig.add_trace(go.Scatter(x=df[mask]['x'], y=df[mask]['y'], mode='markers', \n",
    "                                marker=dict(color=color, size=df[mask]['size']),  # 添加 size 参数\n",
    "                                showlegend=True, legendgroup=line_legend_group,\n",
    "                                name = \"label \" + str(label)) \n",
    "                                )\n",
    "\n",
    "    sentence_counts = {'left': 0, 'right': 0}\n",
    "    sentences_at_each_side = {\n",
    "        'left': df[df['sentence'] != ''][df['sentence_pos'] == 'left'].shape[0],\n",
    "        'right': df[df['sentence'] != ''][df['sentence_pos'] == 'right'].shape[0]\n",
    "    }\n",
    "    max_sentence_count = max(sentences_at_each_side.values())\n",
    "\n",
    "    # Compute the similarity matrix\n",
    "    distance_matrix = calculate_distance_matrix(df)\n",
    "\n",
    "    # Create graph\n",
    "    G = create_weighted_graph(distance_matrix)\n",
    "\n",
    "    # Calculate maximum weight matching\n",
    "    max_match = max_weight_matching(G, maxcardinality=True)\n",
    "\n",
    "    # Update sentence_pos based on the max_match\n",
    "    update_sentence_positions(df, max_match)\n",
    "\n",
    "    # Update sentence_pos based on the max_match\n",
    "    df[\"sentence_pos\"] = \"right\"\n",
    "    for a, b in max_match:\n",
    "        if b > a:\n",
    "            df.loc[a, \"sentence_pos\"] = \"left\"\n",
    "            df.loc[b, \"sentence_pos\"] = \"left\"\n",
    "    \n",
    "    for x, y, label, sentence, pos in zip(df.x, df.y, df.label, df.sentence, df.sentence_pos):\n",
    "        if not sentence:\n",
    "            continue\n",
    "        \n",
    "        if pos == \"left\":\n",
    "            x_offset = min_x\n",
    "            sentence_counts[\"left\"] += 1\n",
    "            y_offset = sentence_counts['left'] * (2 * max_sentence_count) / sentences_at_each_side['left'] - max_sentence_count\n",
    "        else:\n",
    "            x_offset = max_x\n",
    "            sentence_counts[\"right\"] += 1\n",
    "            y_offset = sentence_counts['right'] * (2 * max_sentence_count) / sentences_at_each_side['right'] - max_sentence_count\n",
    "        \n",
    "        sentence_annotation = dict(\n",
    "            x=x_offset,\n",
    "            y=y + y_offset,\n",
    "            xref=\"x\",\n",
    "            yref=\"y\",\n",
    "            text=sentence,\n",
    "            showarrow=False,\n",
    "            xanchor=\"right\" if pos == 'left' else 'left',\n",
    "            yanchor='middle',\n",
    "            font=dict(color=\"black\"),\n",
    "            bordercolor=label_colors.get(label, \"black\"),\n",
    "            borderpad=2,\n",
    "            bgcolor=divide_hex_color_by_half(label_colors.get(label, \"black\"))\n",
    "        )\n",
    "        fig.add_annotation(sentence_annotation)\n",
    "\n",
    "        x_start = x - 1 if pos == 'left' else x + 1\n",
    "        x_turn = x - 0.5 if pos == 'left' else x + 0.5\n",
    "        y_turn = y\n",
    "\n",
    "        fig.add_trace(go.Scatter(x=[x_offset, x_start, x_turn, x], y=[y + y_offset, y + y_offset, y_turn, y], mode='lines', \n",
    "                                line=dict(color=label_colors.get(label, \"black\")), showlegend=False, legendgroup=line_legend_group))\n",
    "\n",
    "    # 取消坐标轴的数字\n",
    "    fig.update_xaxes(tickvals=[])\n",
    "    fig.update_yaxes(tickvals=[])\n",
    "\n",
    "    fig.show()"
   ]
  },
  {
   "attachments": {},
   "cell_type": "markdown",
   "metadata": {},
   "source": [
    "## 读取数据\n",
    "此单元格最后的输出为test_X和test_y, 其中test_X包含两列 ['text', 'embed']，test_y包含一列 ['label']"
   ]
  },
  {
   "cell_type": "code",
   "execution_count": 5,
   "metadata": {},
   "outputs": [],
   "source": [
    "data = pd.read_json(\"../data/sel_data.json\")\n",
    "test_X = data[['text', 'embed']]\n",
    "test_y = data[['label']]"
   ]
  },
  {
   "attachments": {},
   "cell_type": "markdown",
   "metadata": {},
   "source": [
    "## 绘图"
   ]
  },
  {
   "cell_type": "code",
   "execution_count": 6,
   "metadata": {},
   "outputs": [
    {
     "name": "stdout",
     "output_type": "stream",
     "text": [
      "--------------------------------------------------------------------------------\n",
      "TSNE(early_exaggeration=12, metric='cosine', n_jobs=8, random_state=42,\n",
      "     verbose=True)\n",
      "--------------------------------------------------------------------------------\n",
      "===> Finding 90 nearest neighbors using exact search using cosine distance...\n",
      "   --> Time elapsed: 0.12 seconds\n",
      "===> Calculating affinity matrix...\n",
      "   --> Time elapsed: 0.00 seconds\n",
      "===> Calculating PCA-based initialization...\n",
      "   --> Time elapsed: 0.01 seconds\n",
      "===> Running optimization with exaggeration=12.00, lr=18.42 for 250 iterations...\n",
      "Iteration   50, KL divergence 1.4530, 50 iterations in 0.0240 sec\n",
      "Iteration  100, KL divergence 1.4970, 50 iterations in 0.0250 sec\n",
      "Iteration  150, KL divergence 1.4982, 50 iterations in 0.0280 sec\n",
      "Iteration  200, KL divergence 1.4982, 50 iterations in 0.0272 sec\n",
      "Iteration  250, KL divergence 1.4982, 50 iterations in 0.0234 sec\n",
      "   --> Time elapsed: 0.13 seconds\n",
      "===> Running optimization with exaggeration=1.00, lr=221.00 for 500 iterations...\n",
      "Iteration   50, KL divergence 0.4196, 50 iterations in 0.0198 sec\n",
      "Iteration  100, KL divergence 0.4051, 50 iterations in 0.0208 sec\n",
      "Iteration  150, KL divergence 0.3991, 50 iterations in 0.0213 sec\n",
      "Iteration  200, KL divergence 0.3984, 50 iterations in 0.0209 sec\n",
      "Iteration  250, KL divergence 0.3986, 50 iterations in 0.0211 sec\n",
      "Iteration  300, KL divergence 0.3981, 50 iterations in 0.0205 sec\n",
      "Iteration  350, KL divergence 0.3982, 50 iterations in 0.0220 sec\n",
      "Iteration  400, KL divergence 0.3981, 50 iterations in 0.0216 sec\n",
      "Iteration  450, KL divergence 0.3984, 50 iterations in 0.0225 sec\n",
      "Iteration  500, KL divergence 0.3982, 50 iterations in 0.0218 sec\n",
      "   --> Time elapsed: 0.21 seconds\n",
      "===> Running optimization with exaggeration=1.00, lr=221.00 for 1000 iterations...\n",
      "Iteration   50, KL divergence 0.3981, 50 iterations in 0.0214 sec\n",
      "Iteration  100, KL divergence 0.3980, 50 iterations in 0.0198 sec\n",
      "Iteration  150, KL divergence 0.3982, 50 iterations in 0.0211 sec\n",
      "Iteration  200, KL divergence 0.3981, 50 iterations in 0.0219 sec\n",
      "Iteration  250, KL divergence 0.3979, 50 iterations in 0.0203 sec\n",
      "Iteration  300, KL divergence 0.3979, 50 iterations in 0.0229 sec\n",
      "Iteration  350, KL divergence 0.3982, 50 iterations in 0.0214 sec\n",
      "Iteration  400, KL divergence 0.3978, 50 iterations in 0.0212 sec\n",
      "Iteration  450, KL divergence 0.3981, 50 iterations in 0.0460 sec\n",
      "Iteration  500, KL divergence 0.3981, 50 iterations in 0.0233 sec\n",
      "Iteration  550, KL divergence 0.3982, 50 iterations in 0.0207 sec\n",
      "Iteration  600, KL divergence 0.3982, 50 iterations in 0.0251 sec\n",
      "Iteration  650, KL divergence 0.3981, 50 iterations in 0.0234 sec\n",
      "Iteration  700, KL divergence 0.3981, 50 iterations in 0.0206 sec\n",
      "Iteration  750, KL divergence 0.3981, 50 iterations in 0.0238 sec\n",
      "Iteration  800, KL divergence 0.3982, 50 iterations in 0.0212 sec\n",
      "Iteration  850, KL divergence 0.3980, 50 iterations in 0.0217 sec\n",
      "Iteration  900, KL divergence 0.3976, 50 iterations in 0.0229 sec\n",
      "Iteration  950, KL divergence 0.3978, 50 iterations in 0.0215 sec\n",
      "Iteration 1000, KL divergence 0.3977, 50 iterations in 0.0196 sec\n",
      "   --> Time elapsed: 0.46 seconds\n"
     ]
    },
    {
     "name": "stderr",
     "output_type": "stream",
     "text": [
      "d:\\14183\\ProgramData\\Anaconda3\\envs\\pth\\lib\\site-packages\\ipykernel_launcher.py:135: UserWarning:\n",
      "\n",
      "Boolean Series key will be reindexed to match DataFrame index.\n",
      "\n",
      "d:\\14183\\ProgramData\\Anaconda3\\envs\\pth\\lib\\site-packages\\ipykernel_launcher.py:136: UserWarning:\n",
      "\n",
      "Boolean Series key will be reindexed to match DataFrame index.\n",
      "\n"
     ]
    },
    {
     "data": {
      "application/vnd.plotly.v1+json": {
       "config": {
        "plotlyServerURL": "https://plot.ly"
       },
       "data": [
        {
         "legendgroup": "lines",
         "marker": {
          "color": "#000080",
          "size": [
           10,
           10,
           10,
           20,
           10,
           20,
           10,
           10,
           10,
           10,
           20,
           10,
           10,
           10,
           10,
           10,
           10,
           20,
           10,
           10,
           10,
           10,
           10,
           10,
           10,
           10,
           10,
           10,
           10,
           10,
           10,
           10,
           10,
           20,
           10,
           10,
           10,
           10,
           10,
           20,
           10,
           10,
           10,
           10,
           10,
           10,
           10,
           10,
           10,
           10,
           10,
           10,
           10,
           10,
           10,
           10,
           20,
           10,
           10,
           20,
           10,
           10,
           10,
           10,
           10,
           10,
           20,
           10,
           10,
           10,
           10,
           10,
           10,
           10,
           20,
           10,
           10,
           10,
           10,
           10,
           10,
           10,
           10,
           10,
           10,
           10,
           10,
           10,
           20,
           10,
           10,
           10,
           10,
           10,
           10,
           10,
           10,
           10,
           10,
           10,
           10,
           10,
           10,
           10,
           10,
           10,
           10,
           10,
           10,
           10,
           10,
           10,
           10,
           10,
           10,
           10,
           10,
           10,
           10,
           10
          ]
         },
         "mode": "markers",
         "name": "label 2",
         "showlegend": true,
         "type": "scatter",
         "x": [
          -4.180341076987658,
          -11.920570210111052,
          -11.72668822362542,
          -1.676600481987306,
          16.346674315348295,
          -2.3167082640632524,
          14.778211007882282,
          -0.821550568051616,
          16.90744383154152,
          -0.041627752418914414,
          15.930517373128708,
          -2.9020503999599323,
          -0.18777016879225206,
          16.407985598261813,
          -2.8068759870571003,
          -0.33668092215295625,
          21.212567465686476,
          12.160268384665306,
          16.19463655177496,
          9.254214124332828,
          20.701231046931348,
          15.679154567933423,
          11.911032849517806,
          14.452157807306639,
          21.59791510206936,
          16.78666591597069,
          9.995452045087092,
          17.72740269561214,
          13.218628699586368,
          15.647518988722434,
          2.567635473647023,
          14.845424910057384,
          9.5318728531009,
          12.54560439568874,
          16.788244107442097,
          21.144208291776852,
          21.724616250904802,
          12.537306875885488,
          20.065072116317115,
          16.606348281602667,
          16.029199383744892,
          7.805776931915318,
          14.951948225186847,
          12.112445506967553,
          2.9858775146834486,
          15.434860351326986,
          14.43940157894861,
          8.085136726028674,
          1.298512121729496,
          2.4922528718041486,
          21.580193624464243,
          0.23275099192891047,
          19.035863751115386,
          16.28538690602261,
          20.887739199487974,
          -0.07341469571528024,
          14.60660024045269,
          -9.694481375001937,
          12.934986014642586,
          19.35365281625355,
          7.929763893030927,
          15.82819517805275,
          18.244464684701136,
          17.65192809699982,
          16.665033715860837,
          7.942303569891632,
          17.777963594925883,
          20.617225295091995,
          8.142348766234496,
          0.5466407194729043,
          0.6234532086647617,
          20.196822930992706,
          17.29327607805386,
          2.4171077271747854,
          8.609388172463499,
          -4.089427007310784,
          8.000705084054553,
          16.83753841801868,
          7.94094808788126,
          16.380722199484453,
          19.352039300028697,
          18.328204010753712,
          -1.684853440769349,
          20.37520907547499,
          -5.402544673849421,
          17.29410217117824,
          15.269736241740574,
          -2.841697199580789,
          19.434967044656577,
          -9.241705098519358,
          20.828405067080723,
          17.718581676698427,
          -8.61743587609312,
          10.752737669280043,
          10.796080077562365,
          10.483112560977126,
          8.495977786452993,
          19.55867244400077,
          14.435877450454388,
          -6.839397269417609,
          10.719755806170502,
          16.806542724161343,
          -8.50015533849906,
          -4.384184788113445,
          16.333225771789632,
          -2.3252125964103914,
          17.232706666420988,
          10.955777894486024,
          17.961543087351995,
          15.654315176584554,
          -2.093800200925715,
          -3.9948214774471045,
          -7.256124883397304,
          16.698269437195318,
          17.335358500290546,
          16.389662095611186,
          15.566973780053114,
          -7.208913596044598,
          -7.615940394471942,
          15.087804764643055
         ],
         "y": [
          -6.336999575818323,
          -6.1685307467084485,
          -5.742007328519918,
          -3.820609066971203,
          -3.387498966344724,
          -3.3228336670594247,
          -3.0561575996820625,
          -2.796594728011775,
          -2.4359876303146777,
          -2.137539390867896,
          -2.104016940175372,
          -2.061961195328839,
          -2.034916391720588,
          -2.005421409942091,
          -1.9722866963222025,
          -1.8691626665625727,
          -1.7820057071488506,
          -1.5626790728221969,
          -1.4723883824108344,
          -1.456725036756824,
          -1.4558716811038157,
          -1.4364251973390398,
          -1.4348613610189869,
          -1.3895792805270595,
          -1.330371243558405,
          -1.3063584486646729,
          -1.2100257974467548,
          -1.1857315932468715,
          -1.169212291445483,
          -0.8682134783442016,
          -0.8341851265567248,
          -0.7965620138931891,
          -0.7690485128260589,
          -0.765383235618995,
          -0.7194116348533768,
          -0.6925566230685595,
          -0.6290953705802234,
          -0.5452415211948809,
          -0.539644363951771,
          -0.5024255716024723,
          -0.446085699324133,
          -0.43591199409916087,
          -0.3588529253102097,
          -0.35028459733910206,
          -0.3422561611486091,
          -0.26718740472521235,
          -0.13180861031926697,
          -0.09937297877407596,
          -0.03438690876848933,
          0.054704173378702634,
          0.1966051911498012,
          0.2528331113675376,
          0.2970307729140607,
          0.30199772118004176,
          0.31475503336370264,
          0.5444248123589068,
          0.6005301230499221,
          0.7215905489227457,
          0.890978482851812,
          0.9648233918705871,
          1.1139089669733626,
          1.1158837869255995,
          1.1400214590610673,
          1.1739044377156498,
          1.2130030695758005,
          1.2391237643903548,
          1.2544806727043447,
          1.2743872610171436,
          1.315989212447593,
          1.3223356000636612,
          1.3780206213323765,
          1.5084515726102394,
          1.6184221475461196,
          1.672682831645587,
          1.6987716258638985,
          1.7042493733809987,
          1.8411574441372764,
          1.901197480569133,
          1.9080815426323718,
          1.979629853973917,
          2.049004302821442,
          2.0763601245150083,
          2.10210627481123,
          2.1912191777493732,
          2.2344667810035572,
          2.344104303175314,
          2.4246065645009334,
          2.4415450870488273,
          2.448817884688549,
          2.4758151922142186,
          2.4856877313910153,
          2.4901598986206332,
          2.630719075839568,
          2.670597441364493,
          2.6850658841482837,
          2.771582081921451,
          2.932525016603541,
          2.96577320775186,
          3.2660236232630195,
          3.2869054096884778,
          3.34939809169278,
          3.4069324988233953,
          3.449646410814277,
          3.5133827646511544,
          3.5527363066153717,
          3.61531271730027,
          3.6534269489365507,
          3.683319681861125,
          3.765296840655576,
          3.811245613074316,
          3.9272571979123203,
          3.933687375856525,
          3.9860711391717976,
          3.998010792748948,
          4.02641830055085,
          4.839383918496705,
          4.879472032732884,
          4.938729332547094,
          5.17137321402781,
          5.3933860094074655
         ]
        },
        {
         "legendgroup": "lines",
         "marker": {
          "color": "#00d4ff",
          "size": [
           10,
           10,
           10,
           10,
           10,
           10,
           10,
           10,
           10,
           10,
           10,
           10,
           10,
           10,
           10,
           10,
           10,
           10,
           10,
           10,
           10,
           10,
           10,
           10,
           10,
           10,
           10,
           10,
           10,
           10,
           10,
           10,
           10,
           10,
           10,
           20,
           10,
           10,
           10,
           20,
           10,
           10,
           10,
           10,
           10,
           20,
           10,
           10,
           10,
           10,
           10,
           10
          ]
         },
         "mode": "markers",
         "name": "label 1",
         "showlegend": true,
         "type": "scatter",
         "x": [
          -11.90080010529382,
          -3.8031334443507183,
          -4.733567956414893,
          -17.30964623837269,
          -20.10914349555245,
          -16.148906266384703,
          -18.814568651412266,
          -19.281539102434824,
          -18.659905501285312,
          -17.52862864356336,
          -14.229003439690578,
          -5.283142299145245,
          -20.83942739814543,
          -19.962499295071048,
          -18.480201997337176,
          -17.171432799401558,
          -18.87980262178361,
          -19.8876794223349,
          -18.62605418603601,
          -17.13309255635978,
          -20.315435049234218,
          -14.911645134839937,
          -17.62749523464152,
          -19.644766123816833,
          -19.421470472504335,
          -1.5496158636047777,
          -20.23332152366508,
          -16.248238739865265,
          -17.077558906692666,
          -12.283108919531893,
          -12.311835459705833,
          -17.470774981892394,
          -4.612019772810551,
          -18.8454178366038,
          -1.1705440613906912,
          -17.9977178851934,
          -19.965102429636417,
          -16.20401970909569,
          -17.794741728938103,
          -11.991987195062258,
          -18.55643818037937,
          -16.830417459014164,
          -16.807166738849432,
          -2.463074806154897,
          -17.542504751108243,
          -6.747308561256875,
          -5.295420585240361,
          -3.500520456952835,
          -6.90072415924351,
          -10.02872096304307,
          -11.073978670830817,
          -11.245417851471569
         ],
         "y": [
          -6.285584672465072,
          -4.897523489424367,
          -4.110498502312936,
          -2.25143177933405,
          -1.724075279291787,
          -1.5402965681824357,
          -1.5363608371233275,
          -1.3174850600372376,
          -1.2994768696348478,
          -1.2860074436594673,
          -1.1849666950123572,
          -1.1141436677276304,
          -1.0373582711209441,
          -0.9165540855342452,
          -0.8715715392542248,
          -0.7488121768148458,
          -0.6773732927103812,
          -0.6166495885397085,
          -0.44524683971167417,
          -0.22727194733831196,
          -0.20368641881982327,
          -0.17510154305321912,
          0.0870223567895727,
          0.12717842065203733,
          0.14415959303886466,
          0.1466372033302142,
          0.26881513367260507,
          0.2771761768238748,
          0.33218870497789926,
          0.3426815455173265,
          0.41483605681755364,
          0.6931133209685436,
          0.8128448321977214,
          0.8136204825259534,
          0.8479166676336194,
          0.9976057882514743,
          1.0137779699654588,
          1.0253620639514298,
          1.2287941931394986,
          1.4478187021685371,
          1.698723448151921,
          1.7950945165289525,
          1.886556267118223,
          2.2179878216172964,
          2.4174942738433916,
          2.7956806275129042,
          3.1346615822752324,
          3.3217787832870913,
          3.9061791073881054,
          3.912108849309031,
          4.857058933257167,
          4.923164252391769
         ]
        },
        {
         "legendgroup": "lines",
         "marker": {
          "color": "#ffe600",
          "size": [
           10,
           10,
           10,
           10,
           10,
           10,
           10,
           20,
           10
          ]
         },
         "mode": "markers",
         "name": "label 3",
         "showlegend": true,
         "type": "scatter",
         "x": [
          -4.3439376434779176,
          -14.805429756147712,
          -14.964347782004126,
          -8.139644997609611,
          -8.158043744248573,
          -11.14667523472004,
          -10.801737244633356,
          -12.36606737202627,
          -8.70268401862372
         ],
         "y": [
          -5.973631942202975,
          -3.834319317932892,
          -3.8092115890729086,
          -2.467479146870437,
          -1.5730747667450566,
          -1.4430582310673732,
          0.43004595283018004,
          1.4653382012796154,
          3.317947736600597
         ]
        },
        {
         "legendgroup": "lines",
         "marker": {
          "color": "#800000",
          "size": [
           10,
           10,
           10,
           10,
           10,
           10,
           10,
           20,
           10,
           10,
           10,
           10,
           10,
           10,
           10,
           10,
           20,
           20,
           20,
           10,
           10,
           10,
           10,
           10,
           10,
           10,
           10,
           10,
           10,
           10,
           10,
           10,
           10,
           20,
           10,
           20,
           10,
           10,
           10,
           10
          ]
         },
         "mode": "markers",
         "name": "label 0",
         "showlegend": true,
         "type": "scatter",
         "x": [
          -10.122469166737618,
          -10.300253715740864,
          -11.514814953630221,
          -10.833934059157285,
          -6.342727049933778,
          -7.8293469392686905,
          -8.198072508964264,
          -7.039960676043047,
          -11.675671900623323,
          -6.035823209928842,
          -10.553031381864141,
          -6.996195122016904,
          -5.705697556352108,
          -11.128023783415129,
          -7.814230930197315,
          -11.766406263657586,
          -6.039231372184563,
          -12.430127601085987,
          -12.611455650917003,
          -11.038736180633734,
          -7.350779446033543,
          -3.0369629190749063,
          -6.753151572039495,
          -7.638056574905113,
          -7.110429018722586,
          -15.118944707928488,
          -6.192343273039005,
          -10.583433991849576,
          -6.791413188084612,
          -6.584095957897916,
          -6.931256849825845,
          -10.492893034779751,
          -7.2322773651664045,
          -7.5538367486518885,
          -6.671758315369944,
          -7.957196847323759,
          -7.144467118426509,
          -6.244299767896897,
          -7.02959570576649,
          -7.275834568592895
         ],
         "y": [
          -5.749699122386511,
          -5.275131806298313,
          -5.271109802725567,
          -5.11307113781601,
          -4.660717926861982,
          -4.466206194387904,
          -4.463914334951194,
          -4.362669634762536,
          -4.338929238211632,
          -4.165534544363389,
          -3.9852919693090882,
          -3.847913098885898,
          -3.8072810279338265,
          -3.7266540246375337,
          -3.4577033501009935,
          -3.356829236418308,
          -3.2530575185708304,
          -3.233536469837452,
          -3.1510753406086023,
          -2.800727730695964,
          -2.7470990073490067,
          -2.47117106206476,
          -2.393946408699383,
          -2.1071159650113156,
          -2.087585734090025,
          -1.804228404518287,
          -1.1442951594342456,
          -1.0325879333692773,
          -1.0085876682005428,
          -0.5396176676805327,
          -0.4205155946151608,
          0.6479355126495443,
          0.9818528556537053,
          1.0438671633458059,
          1.0474649281565613,
          1.5466041370865637,
          1.632064680993688,
          2.1008968149473812,
          2.2459174713611962,
          2.6552080339488
         ]
        },
        {
         "legendgroup": "lines",
         "line": {
          "color": "#800000"
         },
         "mode": "lines",
         "showlegend": false,
         "type": "scatter",
         "x": [
          23.724616250904802,
          -6.039960676043047,
          -6.539960676043047,
          -7.039960676043047
         ],
         "y": [
          -13.362669634762536,
          -13.362669634762536,
          -4.362669634762536,
          -4.362669634762536
         ]
        },
        {
         "legendgroup": "lines",
         "line": {
          "color": "#000080"
         },
         "mode": "lines",
         "showlegend": false,
         "type": "scatter",
         "x": [
          23.724616250904802,
          -0.6766004819873059,
          -1.176600481987306,
          -1.676600481987306
         ],
         "y": [
          -10.820609066971203,
          -10.820609066971203,
          -3.820609066971203,
          -3.820609066971203
         ]
        },
        {
         "legendgroup": "lines",
         "line": {
          "color": "#000080"
         },
         "mode": "lines",
         "showlegend": false,
         "type": "scatter",
         "x": [
          23.724616250904802,
          -1.3167082640632524,
          -1.8167082640632524,
          -2.3167082640632524
         ],
         "y": [
          -8.322833667059424,
          -8.322833667059424,
          -3.3228336670594247,
          -3.3228336670594247
         ]
        },
        {
         "legendgroup": "lines",
         "line": {
          "color": "#800000"
         },
         "mode": "lines",
         "showlegend": false,
         "type": "scatter",
         "x": [
          23.724616250904802,
          -5.039231372184563,
          -5.539231372184563,
          -6.039231372184563
         ],
         "y": [
          -6.253057518570831,
          -6.253057518570831,
          -3.2530575185708304,
          -3.2530575185708304
         ]
        },
        {
         "legendgroup": "lines",
         "line": {
          "color": "#800000"
         },
         "mode": "lines",
         "showlegend": false,
         "type": "scatter",
         "x": [
          23.724616250904802,
          -11.430127601085987,
          -11.930127601085987,
          -12.430127601085987
         ],
         "y": [
          -4.233536469837452,
          -4.233536469837452,
          -3.233536469837452,
          -3.233536469837452
         ]
        },
        {
         "legendgroup": "lines",
         "line": {
          "color": "#800000"
         },
         "mode": "lines",
         "showlegend": false,
         "type": "scatter",
         "x": [
          -21.83942739814543,
          -13.611455650917003,
          -13.111455650917003,
          -12.611455650917003
         ],
         "y": [
          -11.951075340608604,
          -11.951075340608604,
          -3.1510753406086023,
          -3.1510753406086023
         ]
        },
        {
         "legendgroup": "lines",
         "line": {
          "color": "#000080"
         },
         "mode": "lines",
         "showlegend": false,
         "type": "scatter",
         "x": [
          -21.83942739814543,
          14.930517373128708,
          15.430517373128708,
          15.930517373128708
         ],
         "y": [
          -8.704016940175372,
          -8.704016940175372,
          -2.104016940175372,
          -2.104016940175372
         ]
        },
        {
         "legendgroup": "lines",
         "line": {
          "color": "#000080"
         },
         "mode": "lines",
         "showlegend": false,
         "type": "scatter",
         "x": [
          23.724616250904802,
          13.160268384665306,
          12.660268384665306,
          12.160268384665306
         ],
         "y": [
          -0.5626790728221969,
          -0.5626790728221969,
          -1.5626790728221969,
          -1.5626790728221969
         ]
        },
        {
         "legendgroup": "lines",
         "line": {
          "color": "#000080"
         },
         "mode": "lines",
         "showlegend": false,
         "type": "scatter",
         "x": [
          -21.83942739814543,
          11.54560439568874,
          12.04560439568874,
          12.54560439568874
         ],
         "y": [
          -5.165383235618996,
          -5.165383235618996,
          -0.765383235618995,
          -0.765383235618995
         ]
        },
        {
         "legendgroup": "lines",
         "line": {
          "color": "#000080"
         },
         "mode": "lines",
         "showlegend": false,
         "type": "scatter",
         "x": [
          23.724616250904802,
          17.606348281602667,
          17.106348281602667,
          16.606348281602667
         ],
         "y": [
          2.497574428397528,
          2.497574428397528,
          -0.5024255716024723,
          -0.5024255716024723
         ]
        },
        {
         "legendgroup": "lines",
         "line": {
          "color": "#000080"
         },
         "mode": "lines",
         "showlegend": false,
         "type": "scatter",
         "x": [
          -21.83942739814543,
          13.60660024045269,
          14.10660024045269,
          14.60660024045269
         ],
         "y": [
          -1.599469876950077,
          -1.599469876950077,
          0.6005301230499221,
          0.6005301230499221
         ]
        },
        {
         "legendgroup": "lines",
         "line": {
          "color": "#000080"
         },
         "mode": "lines",
         "showlegend": false,
         "type": "scatter",
         "x": [
          -21.83942739814543,
          18.35365281625355,
          18.85365281625355,
          19.35365281625355
         ],
         "y": [
          0.9648233918705871,
          0.9648233918705871,
          0.9648233918705871,
          0.9648233918705871
         ]
        },
        {
         "legendgroup": "lines",
         "line": {
          "color": "#00d4ff"
         },
         "mode": "lines",
         "showlegend": false,
         "type": "scatter",
         "x": [
          -21.83942739814543,
          -18.9977178851934,
          -18.4977178851934,
          -17.9977178851934
         ],
         "y": [
          3.1976057882514737,
          3.1976057882514737,
          0.9976057882514743,
          0.9976057882514743
         ]
        },
        {
         "legendgroup": "lines",
         "line": {
          "color": "#800000"
         },
         "mode": "lines",
         "showlegend": false,
         "type": "scatter",
         "x": [
          23.724616250904802,
          -6.5538367486518885,
          -7.0538367486518885,
          -7.5538367486518885
         ],
         "y": [
          6.043867163345806,
          6.043867163345806,
          1.0438671633458059,
          1.0438671633458059
         ]
        },
        {
         "legendgroup": "lines",
         "line": {
          "color": "#000080"
         },
         "mode": "lines",
         "showlegend": false,
         "type": "scatter",
         "x": [
          23.724616250904802,
          18.777963594925883,
          18.277963594925883,
          17.777963594925883
         ],
         "y": [
          8.254480672704345,
          8.254480672704345,
          1.2544806727043447,
          1.2544806727043447
         ]
        },
        {
         "legendgroup": "lines",
         "line": {
          "color": "#00d4ff"
         },
         "mode": "lines",
         "showlegend": false,
         "type": "scatter",
         "x": [
          23.724616250904802,
          -10.991987195062258,
          -11.491987195062258,
          -11.991987195062258
         ],
         "y": [
          10.447818702168536,
          10.447818702168536,
          1.4478187021685371,
          1.4478187021685371
         ]
        },
        {
         "legendgroup": "lines",
         "line": {
          "color": "#ffe600"
         },
         "mode": "lines",
         "showlegend": false,
         "type": "scatter",
         "x": [
          -21.83942739814543,
          -13.36606737202627,
          -12.86606737202627,
          -12.36606737202627
         ],
         "y": [
          5.865338201279616,
          5.865338201279616,
          1.4653382012796154,
          1.4653382012796154
         ]
        },
        {
         "legendgroup": "lines",
         "line": {
          "color": "#800000"
         },
         "mode": "lines",
         "showlegend": false,
         "type": "scatter",
         "x": [
          -21.83942739814543,
          -8.95719684732376,
          -8.45719684732376,
          -7.957196847323759
         ],
         "y": [
          8.146604137086566,
          8.146604137086566,
          1.5466041370865637,
          1.5466041370865637
         ]
        },
        {
         "legendgroup": "lines",
         "line": {
          "color": "#000080"
         },
         "mode": "lines",
         "showlegend": false,
         "type": "scatter",
         "x": [
          23.724616250904802,
          9.609388172463499,
          9.109388172463499,
          8.609388172463499
         ],
         "y": [
          12.698771625863898,
          12.698771625863898,
          1.6987716258638985,
          1.6987716258638985
         ]
        },
        {
         "legendgroup": "lines",
         "line": {
          "color": "#000080"
         },
         "mode": "lines",
         "showlegend": false,
         "type": "scatter",
         "x": [
          -21.83942739814543,
          18.434967044656577,
          18.934967044656577,
          19.434967044656577
         ],
         "y": [
          11.248817884688549,
          11.248817884688549,
          2.448817884688549,
          2.448817884688549
         ]
        },
        {
         "legendgroup": "lines",
         "line": {
          "color": "#00d4ff"
         },
         "mode": "lines",
         "showlegend": false,
         "type": "scatter",
         "x": [
          -21.83942739814543,
          -7.747308561256875,
          -7.247308561256875,
          -6.747308561256875
         ],
         "y": [
          13.795680627512905,
          13.795680627512905,
          2.7956806275129042,
          2.7956806275129042
         ]
        }
       ],
       "layout": {
        "annotations": [
         {
          "bgcolor": "#f2e6e6",
          "bordercolor": "#800000",
          "borderpad": 2,
          "font": {
           "color": "black"
          },
          "showarrow": false,
          "text": "新华网河内12月21...20日至28日召开。",
          "x": 23.724616250904802,
          "xanchor": "left",
          "xref": "x",
          "y": -13.362669634762536,
          "yanchor": "middle",
          "yref": "y"
         },
         {
          "bgcolor": "#e6e6f2",
          "bordercolor": "#000080",
          "borderpad": 2,
          "font": {
           "color": "black"
          },
          "showarrow": false,
          "text": "经过将近14天不分日...索赔要求。据新华社电",
          "x": 23.724616250904802,
          "xanchor": "left",
          "xref": "x",
          "y": -10.820609066971203,
          "yanchor": "middle",
          "yref": "y"
         },
         {
          "bgcolor": "#e6e6f2",
          "bordercolor": "#000080",
          "borderpad": 2,
          "font": {
           "color": "black"
          },
          "showarrow": false,
          "text": "新华网上海12月9日...将继续扩大试点范围。",
          "x": 23.724616250904802,
          "xanchor": "left",
          "xref": "x",
          "y": -8.322833667059424,
          "yanchor": "middle",
          "yref": "y"
         },
         {
          "bgcolor": "#f2e6e6",
          "bordercolor": "#800000",
          "borderpad": 2,
          "font": {
           "color": "black"
          },
          "showarrow": false,
          "text": "在省民政厅厅长王战营...民政府市长、党组书记",
          "x": 23.724616250904802,
          "xanchor": "left",
          "xref": "x",
          "y": -6.253057518570831,
          "yanchor": "middle",
          "yref": "y"
         },
         {
          "bgcolor": "#f2e6e6",
          "bordercolor": "#800000",
          "borderpad": 2,
          "font": {
           "color": "black"
          },
          "showarrow": false,
          "text": "俄罗斯总统普京在商业...方机构邮件的事件。”",
          "x": 23.724616250904802,
          "xanchor": "left",
          "xref": "x",
          "y": -4.233536469837452,
          "yanchor": "middle",
          "yref": "y"
         },
         {
          "bgcolor": "#f2e6e6",
          "bordercolor": "#800000",
          "borderpad": 2,
          "font": {
           "color": "black"
          },
          "showarrow": false,
          "text": "特朗普和希拉里在“二...解决乃至是否会加剧。",
          "x": -21.83942739814543,
          "xanchor": "right",
          "xref": "x",
          "y": -11.951075340608604,
          "yanchor": "middle",
          "yref": "y"
         },
         {
          "bgcolor": "#e6e6f2",
          "bordercolor": "#000080",
          "borderpad": 2,
          "font": {
           "color": "black"
          },
          "showarrow": false,
          "text": "霍州市气象台2016...,尽量避免户外活动。",
          "x": -21.83942739814543,
          "xanchor": "right",
          "xref": "x",
          "y": -8.704016940175372,
          "yanchor": "middle",
          "yref": "y"
         },
         {
          "bgcolor": "#e6e6f2",
          "bordercolor": "#000080",
          "borderpad": 2,
          "font": {
           "color": "black"
          },
          "showarrow": false,
          "text": "龙陵县气象台2016...滑坡、泥石流等灾害。",
          "x": 23.724616250904802,
          "xanchor": "left",
          "xref": "x",
          "y": -0.5626790728221969,
          "yanchor": "middle",
          "yref": "y"
         },
         {
          "bgcolor": "#e6e6f2",
          "bordercolor": "#000080",
          "borderpad": 2,
          "font": {
           "color": "black"
          },
          "showarrow": false,
          "text": "屏边县气象台2016...质灾害,请注意防范。",
          "x": -21.83942739814543,
          "xanchor": "right",
          "xref": "x",
          "y": -5.165383235618996,
          "yanchor": "middle",
          "yref": "y"
         },
         {
          "bgcolor": "#e6e6f2",
          "bordercolor": "#000080",
          "borderpad": 2,
          "font": {
           "color": "black"
          },
          "showarrow": false,
          "text": "祥云县气象台2016...流天气,请注意防范。",
          "x": 23.724616250904802,
          "xanchor": "left",
          "xref": "x",
          "y": 2.497574428397528,
          "yanchor": "middle",
          "yref": "y"
         },
         {
          "bgcolor": "#e6e6f2",
          "bordercolor": "#000080",
          "borderpad": 2,
          "font": {
           "color": "black"
          },
          "showarrow": false,
          "text": "繁昌县气象局2016...和人员做好防范准备。",
          "x": -21.83942739814543,
          "xanchor": "right",
          "xref": "x",
          "y": -1.599469876950077,
          "yanchor": "middle",
          "yref": "y"
         },
         {
          "bgcolor": "#e6e6f2",
          "bordercolor": "#000080",
          "borderpad": 2,
          "font": {
           "color": "black"
          },
          "showarrow": false,
          "text": "德宏州气象台2016...水天气,请注意防范。",
          "x": -21.83942739814543,
          "xanchor": "right",
          "xref": "x",
          "y": 0.9648233918705871,
          "yanchor": "middle",
          "yref": "y"
         },
         {
          "bgcolor": "#e6fbff",
          "bordercolor": "#00d4ff",
          "borderpad": 2,
          "font": {
           "color": "black"
          },
          "showarrow": false,
          "text": "2015-09-28...篮板和2.7次助攻。",
          "x": -21.83942739814543,
          "xanchor": "right",
          "xref": "x",
          "y": 3.1976057882514737,
          "yanchor": "middle",
          "yref": "y"
         },
         {
          "bgcolor": "#f2e6e6",
          "bordercolor": "#800000",
          "borderpad": 2,
          "font": {
           "color": "black"
          },
          "showarrow": false,
          "text": "2015年6月18日.../新京报记者。李禹潼",
          "x": 23.724616250904802,
          "xanchor": "left",
          "xref": "x",
          "y": 6.043867163345806,
          "yanchor": "middle",
          "yref": "y"
         },
         {
          "bgcolor": "#e6e6f2",
          "bordercolor": "#000080",
          "borderpad": 2,
          "font": {
           "color": "black"
          },
          "showarrow": false,
          "text": "淇县气象台2016年...流天气,请注意防范。",
          "x": 23.724616250904802,
          "xanchor": "left",
          "xref": "x",
          "y": 8.254480672704345,
          "yanchor": "middle",
          "yref": "y"
         },
         {
          "bgcolor": "#e6fbff",
          "bordercolor": "#00d4ff",
          "borderpad": 2,
          "font": {
           "color": "black"
          },
          "showarrow": false,
          "text": "小杨之前独自参加马拉...马拉松宣传片的主角。",
          "x": 23.724616250904802,
          "xanchor": "left",
          "xref": "x",
          "y": 10.447818702168536,
          "yanchor": "middle",
          "yref": "y"
         },
         {
          "bgcolor": "#fffde6",
          "bordercolor": "#ffe600",
          "borderpad": 2,
          "font": {
           "color": "black"
          },
          "showarrow": false,
          "text": "一名女粉丝兴奋地爬上...止仍还没有出面回应。",
          "x": -21.83942739814543,
          "xanchor": "right",
          "xref": "x",
          "y": 5.865338201279616,
          "yanchor": "middle",
          "yref": "y"
         },
         {
          "bgcolor": "#f2e6e6",
          "bordercolor": "#800000",
          "borderpad": 2,
          "font": {
           "color": "black"
          },
          "showarrow": false,
          "text": "记者闫承敏。通讯员史...类似的悲剧再次发生。",
          "x": -21.83942739814543,
          "xanchor": "right",
          "xref": "x",
          "y": 8.146604137086566,
          "yanchor": "middle",
          "yref": "y"
         },
         {
          "bgcolor": "#e6e6f2",
          "bordercolor": "#000080",
          "borderpad": 2,
          "font": {
           "color": "black"
          },
          "showarrow": false,
          "text": "齐鲁网东营8月4日讯...东营。26~33℃。",
          "x": 23.724616250904802,
          "xanchor": "left",
          "xref": "x",
          "y": 12.698771625863898,
          "yanchor": "middle",
          "yref": "y"
         },
         {
          "bgcolor": "#e6e6f2",
          "bordercolor": "#000080",
          "borderpad": 2,
          "font": {
           "color": "black"
          },
          "showarrow": false,
          "text": "郏县气象局今天19:...流天气,请注意防范。",
          "x": -21.83942739814543,
          "xanchor": "right",
          "xref": "x",
          "y": 11.248817884688549,
          "yanchor": "middle",
          "yref": "y"
         },
         {
          "bgcolor": "#e6fbff",
          "bordercolor": "#00d4ff",
          "borderpad": 2,
          "font": {
           "color": "black"
          },
          "showarrow": false,
          "text": "7月28日上午,笔者...记者/洪继宇。黄嘉锋",
          "x": -21.83942739814543,
          "xanchor": "right",
          "xref": "x",
          "y": 13.795680627512905,
          "yanchor": "middle",
          "yref": "y"
         }
        ],
        "autosize": false,
        "height": 800,
        "template": {
         "data": {
          "bar": [
           {
            "error_x": {
             "color": "#2a3f5f"
            },
            "error_y": {
             "color": "#2a3f5f"
            },
            "marker": {
             "line": {
              "color": "#E5ECF6",
              "width": 0.5
             },
             "pattern": {
              "fillmode": "overlay",
              "size": 10,
              "solidity": 0.2
             }
            },
            "type": "bar"
           }
          ],
          "barpolar": [
           {
            "marker": {
             "line": {
              "color": "#E5ECF6",
              "width": 0.5
             },
             "pattern": {
              "fillmode": "overlay",
              "size": 10,
              "solidity": 0.2
             }
            },
            "type": "barpolar"
           }
          ],
          "carpet": [
           {
            "aaxis": {
             "endlinecolor": "#2a3f5f",
             "gridcolor": "white",
             "linecolor": "white",
             "minorgridcolor": "white",
             "startlinecolor": "#2a3f5f"
            },
            "baxis": {
             "endlinecolor": "#2a3f5f",
             "gridcolor": "white",
             "linecolor": "white",
             "minorgridcolor": "white",
             "startlinecolor": "#2a3f5f"
            },
            "type": "carpet"
           }
          ],
          "choropleth": [
           {
            "colorbar": {
             "outlinewidth": 0,
             "ticks": ""
            },
            "type": "choropleth"
           }
          ],
          "contour": [
           {
            "colorbar": {
             "outlinewidth": 0,
             "ticks": ""
            },
            "colorscale": [
             [
              0,
              "#0d0887"
             ],
             [
              0.1111111111111111,
              "#46039f"
             ],
             [
              0.2222222222222222,
              "#7201a8"
             ],
             [
              0.3333333333333333,
              "#9c179e"
             ],
             [
              0.4444444444444444,
              "#bd3786"
             ],
             [
              0.5555555555555556,
              "#d8576b"
             ],
             [
              0.6666666666666666,
              "#ed7953"
             ],
             [
              0.7777777777777778,
              "#fb9f3a"
             ],
             [
              0.8888888888888888,
              "#fdca26"
             ],
             [
              1,
              "#f0f921"
             ]
            ],
            "type": "contour"
           }
          ],
          "contourcarpet": [
           {
            "colorbar": {
             "outlinewidth": 0,
             "ticks": ""
            },
            "type": "contourcarpet"
           }
          ],
          "heatmap": [
           {
            "colorbar": {
             "outlinewidth": 0,
             "ticks": ""
            },
            "colorscale": [
             [
              0,
              "#0d0887"
             ],
             [
              0.1111111111111111,
              "#46039f"
             ],
             [
              0.2222222222222222,
              "#7201a8"
             ],
             [
              0.3333333333333333,
              "#9c179e"
             ],
             [
              0.4444444444444444,
              "#bd3786"
             ],
             [
              0.5555555555555556,
              "#d8576b"
             ],
             [
              0.6666666666666666,
              "#ed7953"
             ],
             [
              0.7777777777777778,
              "#fb9f3a"
             ],
             [
              0.8888888888888888,
              "#fdca26"
             ],
             [
              1,
              "#f0f921"
             ]
            ],
            "type": "heatmap"
           }
          ],
          "heatmapgl": [
           {
            "colorbar": {
             "outlinewidth": 0,
             "ticks": ""
            },
            "colorscale": [
             [
              0,
              "#0d0887"
             ],
             [
              0.1111111111111111,
              "#46039f"
             ],
             [
              0.2222222222222222,
              "#7201a8"
             ],
             [
              0.3333333333333333,
              "#9c179e"
             ],
             [
              0.4444444444444444,
              "#bd3786"
             ],
             [
              0.5555555555555556,
              "#d8576b"
             ],
             [
              0.6666666666666666,
              "#ed7953"
             ],
             [
              0.7777777777777778,
              "#fb9f3a"
             ],
             [
              0.8888888888888888,
              "#fdca26"
             ],
             [
              1,
              "#f0f921"
             ]
            ],
            "type": "heatmapgl"
           }
          ],
          "histogram": [
           {
            "marker": {
             "pattern": {
              "fillmode": "overlay",
              "size": 10,
              "solidity": 0.2
             }
            },
            "type": "histogram"
           }
          ],
          "histogram2d": [
           {
            "colorbar": {
             "outlinewidth": 0,
             "ticks": ""
            },
            "colorscale": [
             [
              0,
              "#0d0887"
             ],
             [
              0.1111111111111111,
              "#46039f"
             ],
             [
              0.2222222222222222,
              "#7201a8"
             ],
             [
              0.3333333333333333,
              "#9c179e"
             ],
             [
              0.4444444444444444,
              "#bd3786"
             ],
             [
              0.5555555555555556,
              "#d8576b"
             ],
             [
              0.6666666666666666,
              "#ed7953"
             ],
             [
              0.7777777777777778,
              "#fb9f3a"
             ],
             [
              0.8888888888888888,
              "#fdca26"
             ],
             [
              1,
              "#f0f921"
             ]
            ],
            "type": "histogram2d"
           }
          ],
          "histogram2dcontour": [
           {
            "colorbar": {
             "outlinewidth": 0,
             "ticks": ""
            },
            "colorscale": [
             [
              0,
              "#0d0887"
             ],
             [
              0.1111111111111111,
              "#46039f"
             ],
             [
              0.2222222222222222,
              "#7201a8"
             ],
             [
              0.3333333333333333,
              "#9c179e"
             ],
             [
              0.4444444444444444,
              "#bd3786"
             ],
             [
              0.5555555555555556,
              "#d8576b"
             ],
             [
              0.6666666666666666,
              "#ed7953"
             ],
             [
              0.7777777777777778,
              "#fb9f3a"
             ],
             [
              0.8888888888888888,
              "#fdca26"
             ],
             [
              1,
              "#f0f921"
             ]
            ],
            "type": "histogram2dcontour"
           }
          ],
          "mesh3d": [
           {
            "colorbar": {
             "outlinewidth": 0,
             "ticks": ""
            },
            "type": "mesh3d"
           }
          ],
          "parcoords": [
           {
            "line": {
             "colorbar": {
              "outlinewidth": 0,
              "ticks": ""
             }
            },
            "type": "parcoords"
           }
          ],
          "pie": [
           {
            "automargin": true,
            "type": "pie"
           }
          ],
          "scatter": [
           {
            "fillpattern": {
             "fillmode": "overlay",
             "size": 10,
             "solidity": 0.2
            },
            "type": "scatter"
           }
          ],
          "scatter3d": [
           {
            "line": {
             "colorbar": {
              "outlinewidth": 0,
              "ticks": ""
             }
            },
            "marker": {
             "colorbar": {
              "outlinewidth": 0,
              "ticks": ""
             }
            },
            "type": "scatter3d"
           }
          ],
          "scattercarpet": [
           {
            "marker": {
             "colorbar": {
              "outlinewidth": 0,
              "ticks": ""
             }
            },
            "type": "scattercarpet"
           }
          ],
          "scattergeo": [
           {
            "marker": {
             "colorbar": {
              "outlinewidth": 0,
              "ticks": ""
             }
            },
            "type": "scattergeo"
           }
          ],
          "scattergl": [
           {
            "marker": {
             "colorbar": {
              "outlinewidth": 0,
              "ticks": ""
             }
            },
            "type": "scattergl"
           }
          ],
          "scattermapbox": [
           {
            "marker": {
             "colorbar": {
              "outlinewidth": 0,
              "ticks": ""
             }
            },
            "type": "scattermapbox"
           }
          ],
          "scatterpolar": [
           {
            "marker": {
             "colorbar": {
              "outlinewidth": 0,
              "ticks": ""
             }
            },
            "type": "scatterpolar"
           }
          ],
          "scatterpolargl": [
           {
            "marker": {
             "colorbar": {
              "outlinewidth": 0,
              "ticks": ""
             }
            },
            "type": "scatterpolargl"
           }
          ],
          "scatterternary": [
           {
            "marker": {
             "colorbar": {
              "outlinewidth": 0,
              "ticks": ""
             }
            },
            "type": "scatterternary"
           }
          ],
          "surface": [
           {
            "colorbar": {
             "outlinewidth": 0,
             "ticks": ""
            },
            "colorscale": [
             [
              0,
              "#0d0887"
             ],
             [
              0.1111111111111111,
              "#46039f"
             ],
             [
              0.2222222222222222,
              "#7201a8"
             ],
             [
              0.3333333333333333,
              "#9c179e"
             ],
             [
              0.4444444444444444,
              "#bd3786"
             ],
             [
              0.5555555555555556,
              "#d8576b"
             ],
             [
              0.6666666666666666,
              "#ed7953"
             ],
             [
              0.7777777777777778,
              "#fb9f3a"
             ],
             [
              0.8888888888888888,
              "#fdca26"
             ],
             [
              1,
              "#f0f921"
             ]
            ],
            "type": "surface"
           }
          ],
          "table": [
           {
            "cells": {
             "fill": {
              "color": "#EBF0F8"
             },
             "line": {
              "color": "white"
             }
            },
            "header": {
             "fill": {
              "color": "#C8D4E3"
             },
             "line": {
              "color": "white"
             }
            },
            "type": "table"
           }
          ]
         },
         "layout": {
          "annotationdefaults": {
           "arrowcolor": "#2a3f5f",
           "arrowhead": 0,
           "arrowwidth": 1
          },
          "autotypenumbers": "strict",
          "coloraxis": {
           "colorbar": {
            "outlinewidth": 0,
            "ticks": ""
           }
          },
          "colorscale": {
           "diverging": [
            [
             0,
             "#8e0152"
            ],
            [
             0.1,
             "#c51b7d"
            ],
            [
             0.2,
             "#de77ae"
            ],
            [
             0.3,
             "#f1b6da"
            ],
            [
             0.4,
             "#fde0ef"
            ],
            [
             0.5,
             "#f7f7f7"
            ],
            [
             0.6,
             "#e6f5d0"
            ],
            [
             0.7,
             "#b8e186"
            ],
            [
             0.8,
             "#7fbc41"
            ],
            [
             0.9,
             "#4d9221"
            ],
            [
             1,
             "#276419"
            ]
           ],
           "sequential": [
            [
             0,
             "#0d0887"
            ],
            [
             0.1111111111111111,
             "#46039f"
            ],
            [
             0.2222222222222222,
             "#7201a8"
            ],
            [
             0.3333333333333333,
             "#9c179e"
            ],
            [
             0.4444444444444444,
             "#bd3786"
            ],
            [
             0.5555555555555556,
             "#d8576b"
            ],
            [
             0.6666666666666666,
             "#ed7953"
            ],
            [
             0.7777777777777778,
             "#fb9f3a"
            ],
            [
             0.8888888888888888,
             "#fdca26"
            ],
            [
             1,
             "#f0f921"
            ]
           ],
           "sequentialminus": [
            [
             0,
             "#0d0887"
            ],
            [
             0.1111111111111111,
             "#46039f"
            ],
            [
             0.2222222222222222,
             "#7201a8"
            ],
            [
             0.3333333333333333,
             "#9c179e"
            ],
            [
             0.4444444444444444,
             "#bd3786"
            ],
            [
             0.5555555555555556,
             "#d8576b"
            ],
            [
             0.6666666666666666,
             "#ed7953"
            ],
            [
             0.7777777777777778,
             "#fb9f3a"
            ],
            [
             0.8888888888888888,
             "#fdca26"
            ],
            [
             1,
             "#f0f921"
            ]
           ]
          },
          "colorway": [
           "#636efa",
           "#EF553B",
           "#00cc96",
           "#ab63fa",
           "#FFA15A",
           "#19d3f3",
           "#FF6692",
           "#B6E880",
           "#FF97FF",
           "#FECB52"
          ],
          "font": {
           "color": "#2a3f5f"
          },
          "geo": {
           "bgcolor": "white",
           "lakecolor": "white",
           "landcolor": "#E5ECF6",
           "showlakes": true,
           "showland": true,
           "subunitcolor": "white"
          },
          "hoverlabel": {
           "align": "left"
          },
          "hovermode": "closest",
          "mapbox": {
           "style": "light"
          },
          "paper_bgcolor": "white",
          "plot_bgcolor": "#E5ECF6",
          "polar": {
           "angularaxis": {
            "gridcolor": "white",
            "linecolor": "white",
            "ticks": ""
           },
           "bgcolor": "#E5ECF6",
           "radialaxis": {
            "gridcolor": "white",
            "linecolor": "white",
            "ticks": ""
           }
          },
          "scene": {
           "xaxis": {
            "backgroundcolor": "#E5ECF6",
            "gridcolor": "white",
            "gridwidth": 2,
            "linecolor": "white",
            "showbackground": true,
            "ticks": "",
            "zerolinecolor": "white"
           },
           "yaxis": {
            "backgroundcolor": "#E5ECF6",
            "gridcolor": "white",
            "gridwidth": 2,
            "linecolor": "white",
            "showbackground": true,
            "ticks": "",
            "zerolinecolor": "white"
           },
           "zaxis": {
            "backgroundcolor": "#E5ECF6",
            "gridcolor": "white",
            "gridwidth": 2,
            "linecolor": "white",
            "showbackground": true,
            "ticks": "",
            "zerolinecolor": "white"
           }
          },
          "shapedefaults": {
           "line": {
            "color": "#2a3f5f"
           }
          },
          "ternary": {
           "aaxis": {
            "gridcolor": "white",
            "linecolor": "white",
            "ticks": ""
           },
           "baxis": {
            "gridcolor": "white",
            "linecolor": "white",
            "ticks": ""
           },
           "bgcolor": "#E5ECF6",
           "caxis": {
            "gridcolor": "white",
            "linecolor": "white",
            "ticks": ""
           }
          },
          "title": {
           "x": 0.05
          },
          "xaxis": {
           "automargin": true,
           "gridcolor": "white",
           "linecolor": "white",
           "ticks": "",
           "title": {
            "standoff": 15
           },
           "zerolinecolor": "white",
           "zerolinewidth": 2
          },
          "yaxis": {
           "automargin": true,
           "gridcolor": "white",
           "linecolor": "white",
           "ticks": "",
           "title": {
            "standoff": 15
           },
           "zerolinecolor": "white",
           "zerolinewidth": 2
          }
         }
        },
        "width": 1500,
        "xaxis": {
         "tickvals": []
        },
        "yaxis": {
         "tickvals": []
        }
       }
      }
     },
     "metadata": {},
     "output_type": "display_data"
    }
   ],
   "source": [
    "# 计算t-SNE，返回降维后的数据，每个元素为一个二维向量\n",
    "embedding_train = calculate_tsne(test_X)\n",
    "\n",
    "# 随机抽取显示文本, N为抽取的数量，show_sentence为一个列表，每个元素为显示文本的索引\n",
    "N = 20\n",
    "show_sentence = random_sentence(N, test_y)\n",
    "\n",
    "# 格式化数据，输出为一个pandas的DataFrame，包含x, y, label, sentence, sentence_pos, size\n",
    "# x, y为降维后的坐标，label为类别，sentence为显示的文本，sentence_pos为文本的位置(\"left\", \"right\")，size为被选中文本的大小\n",
    "df = format_data(test_X, show_sentence, embedding_train, test_y['label'])\n",
    "sorted_df = df.sort_values('y').reset_index(drop=True)\n",
    "\n",
    "# 绘制图像\n",
    "plot(sorted_df)\n"
   ]
  },
  {
   "cell_type": "code",
   "execution_count": null,
   "metadata": {},
   "outputs": [],
   "source": []
  }
 ],
 "metadata": {
  "kernelspec": {
   "display_name": "pth",
   "language": "python",
   "name": "python3"
  },
  "language_info": {
   "codemirror_mode": {
    "name": "ipython",
    "version": 3
   },
   "file_extension": ".py",
   "mimetype": "text/x-python",
   "name": "python",
   "nbconvert_exporter": "python",
   "pygments_lexer": "ipython3",
   "version": "3.7.11"
  },
  "orig_nbformat": 4
 },
 "nbformat": 4,
 "nbformat_minor": 2
}
