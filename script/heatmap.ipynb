{
 "cells": [
  {
   "attachments": {},
   "cell_type": "markdown",
   "metadata": {},
   "source": [
    "## 导入库"
   ]
  },
  {
   "cell_type": "code",
   "execution_count": 1,
   "metadata": {},
   "outputs": [],
   "source": [
    "import pandas as pd\n",
    "import numpy as np\n",
    "import plotly.graph_objects as go\n",
    "from PIL import ImageFont\n",
    "from sklearn.metrics.pairwise import cosine_similarity"
   ]
  },
  {
   "attachments": {},
   "cell_type": "markdown",
   "metadata": {},
   "source": [
    "## 函数"
   ]
  },
  {
   "cell_type": "code",
   "execution_count": 2,
   "metadata": {},
   "outputs": [],
   "source": [
    "def get_bg_color(hex_color):\n",
    "    red, green, blue = hex_color[0], hex_color[1], hex_color[2]\n",
    "    red_half = int(red) // 10 + (255 - 25)\n",
    "    green_half = int(green) // 10 + (255 - 25)\n",
    "    blue_half = int(blue) // 10 + (255 - 25)\n",
    "\n",
    "    half_hex_color = \"#{:02x}{:02x}{:02x}\".format(red_half, green_half, blue_half)\n",
    "    return half_hex_color\n",
    "\n",
    "def show_text(text):\n",
    "    return text[:10] + '...' + text[-10:] if len(text) > 20 else text\n",
    "\n",
    "# Load the specific font and font size.\n",
    "font_default = ImageFont.truetype(\"arial.ttf\", 14)\n",
    "\n",
    "def get_text_width(font, text):\n",
    "    return font.getsize(text)[0]\n",
    "\n",
    "def get_color_value(index, colorscale, min_value, max_value):\n",
    "    value_range = max_value - min_value\n",
    "    scaled_value = (index - min_value) / value_range\n",
    "    color_index = int(scaled_value * (len(colorscale) - 1))\n",
    "    return colorscale[color_index][1]\n",
    "\n",
    "def create_heatmap(df, positions):\n",
    "    # check if there's no repeated rows in positions, which is the second column of the positions list\n",
    "    rows = [pos[1] for pos in positions]\n",
    "    assert len(rows) == len(set(rows)), \"There are repeated rows in positions\"\n",
    "\n",
    "    # compute similarity matrix\n",
    "    sim_matrix = cosine_similarity(df['first_embed'].tolist(), df['second_embed'].tolist())\n",
    "    \n",
    "    jet_colorscale = [\n",
    "        [0.0, \"rgb(0, 0, 255)\"],\n",
    "        [0.1, \"rgb(0, 100, 255)\"],\n",
    "        [0.2, \"rgb(0, 200, 255)\"],\n",
    "        [0.3, \"rgb(50, 255, 255)\"],\n",
    "        [0.4, \"rgb(150, 255, 255)\"],\n",
    "        [0.5, \"rgb(255, 255, 0)\"],\n",
    "        [0.6, \"rgb(255, 150, 0)\"],\n",
    "        [0.7, \"rgb(255, 100, 0)\"],\n",
    "        [0.8, \"rgb(255, 50, 0)\"],\n",
    "        [0.9, \"rgb(255, 0, 0)\"],\n",
    "        [1.0, \"rgb(150, 0, 0)\"],\n",
    "    ]\n",
    "    \n",
    "    fig = go.Figure(data=go.Heatmap(z=sim_matrix, colorscale=jet_colorscale))\n",
    "    \n",
    "    # Add annotations for captions\n",
    "    annotations = []\n",
    "    shapes = []\n",
    "    \n",
    "    # Retrieve colors for the given positions\n",
    "    position_colors = {}\n",
    "    min_value, max_value = np.amin(sim_matrix), np.amax(sim_matrix)\n",
    "    for col, row in positions:\n",
    "        color_index = sim_matrix[row][col]\n",
    "        color_value = get_color_value(color_index, jet_colorscale, min_value, max_value)\n",
    "        position_colors[(col, row)] = color_value\n",
    "    \n",
    "\n",
    "    title_row = go.layout.Annotation(\n",
    "        text=\"Row\",\n",
    "        font=dict(size=16, color=\"black\"),\n",
    "        x = -24,\n",
    "        y = -1,\n",
    "        showarrow=False,\n",
    "        xref=\"x\",\n",
    "        yref=\"y\",\n",
    "        xanchor=\"center\",\n",
    "        yanchor=\"bottom\",\n",
    "    )\n",
    "\n",
    "    title_col = go.layout.Annotation(\n",
    "        text=\"Col\",\n",
    "        font=dict(size=16, color=\"black\"),\n",
    "        x = -9,\n",
    "        y = -1,\n",
    "        showarrow=False,\n",
    "        xref=\"x\",\n",
    "        yref=\"y\",\n",
    "        xanchor=\"center\",\n",
    "        yanchor=\"bottom\",\n",
    "    )\n",
    "    annotations.append(title_col)\n",
    "    annotations.append(title_row)\n",
    "\n",
    "\n",
    "    for pos in positions:\n",
    "        col, row = pos\n",
    "        for j, position in enumerate([(-15, 1), (-30, 0)]):\n",
    "            text = show_text(df['first'][col] if j == 0 else df['second'][row])\n",
    "            color = position_colors[(col, row)]\n",
    "            hex_color = color.lstrip('rgb(').rstrip(')').split(\", \")\n",
    "            bgcolor = get_bg_color(hex_color)\n",
    "            annotations.append(\n",
    "                go.layout.Annotation(\n",
    "                    x=position[0],\n",
    "                    y=row,\n",
    "                    text=text,\n",
    "                    showarrow=False,\n",
    "                    font=dict(size=14, color=\"black\"),\n",
    "                    bordercolor=color,\n",
    "                    xref=\"x\",\n",
    "                    yref=\"y\",\n",
    "                    yshift=0,\n",
    "                    xshift=-10,\n",
    "                    xanchor=\"left\",\n",
    "                    yanchor=\"middle\",\n",
    "                    bgcolor=bgcolor,\n",
    "                )\n",
    "            )\n",
    "            if j == 0:\n",
    "                text_width = get_text_width(font_default, text) / 90\n",
    "                shapes.append(\n",
    "                    go.layout.Shape(\n",
    "                        type='line',\n",
    "                        x0= - text_width-2,\n",
    "                        x1=col,\n",
    "                        y0=row,\n",
    "                        y1=row,\n",
    "                        yref='y',\n",
    "                        xref='x',\n",
    "                        line=dict(\n",
    "                            color=color,\n",
    "                            width=1.5,\n",
    "                        )\n",
    "                    )\n",
    "                )\n",
    "    \n",
    "    custom_width = 70 * len(sim_matrix)  # Increase the multiplier (40) for larger cells\n",
    "    custom_height = 35 * len(sim_matrix)\n",
    "\n",
    "    fig.update_layout(\n",
    "        width=custom_width,\n",
    "        height=custom_height,\n",
    "        margin=dict(l=120),\n",
    "        xaxis=dict(tickmode=\"array\", tickvals=list(range(len(sim_matrix))), ticktext=list(range(len(sim_matrix))), title='X Axis'),\n",
    "        yaxis=dict(tickmode=\"array\", tickvals=list(range(len(sim_matrix))), ticktext=list(range(len(sim_matrix))), autorange=\"reversed\", title='Y Axis'),\n",
    "        annotations=annotations,\n",
    "        shapes=shapes\n",
    "    )\n",
    "\n",
    "    # display plot\n",
    "    fig.show()\n"
   ]
  },
  {
   "attachments": {},
   "cell_type": "markdown",
   "metadata": {},
   "source": [
    "## 读取数据\n",
    "此单元格的输出为一个pandas Dataframe df，包含四列 ['first', 'second', 'first_embed', 'second_embed']"
   ]
  },
  {
   "cell_type": "code",
   "execution_count": 3,
   "metadata": {},
   "outputs": [],
   "source": [
    "df = pd.read_csv(\"../data/sentspair_embed.csv\", encoding=\"utf-8\")\n",
    "\n",
    "# convert the string representation of the embedding to a list of floats\n",
    "df['first_embed'] = df['first_embed'].apply(lambda x: [float(i) for i in x[1:-1].split(',')])\n",
    "df['second_embed'] = df['second_embed'].apply(lambda x: [float(i) for i in x[1:-1].split(',')])\n",
    "# convert the list of floats to a numpy array\n",
    "df['first_embed'] = df['first_embed'].apply(lambda x: np.array(x))\n",
    "df['second_embed'] = df['second_embed'].apply(lambda x: np.array(x))"
   ]
  },
  {
   "attachments": {},
   "cell_type": "markdown",
   "metadata": {},
   "source": [
    "## 绘图"
   ]
  },
  {
   "cell_type": "code",
   "execution_count": 4,
   "metadata": {},
   "outputs": [
    {
     "name": "stderr",
     "output_type": "stream",
     "text": [
      "d:\\14183\\ProgramData\\Anaconda3\\envs\\pth\\lib\\site-packages\\ipykernel_launcher.py:17: DeprecationWarning:\n",
      "\n",
      "getsize is deprecated and will be removed in Pillow 10 (2023-07-01). Use getbbox or getlength instead.\n",
      "\n"
     ]
    },
    {
     "data": {
      "application/vnd.plotly.v1+json": {
       "config": {
        "plotlyServerURL": "https://plot.ly"
       },
       "data": [
        {
         "colorscale": [
          [
           0,
           "rgb(0, 0, 255)"
          ],
          [
           0.1,
           "rgb(0, 100, 255)"
          ],
          [
           0.2,
           "rgb(0, 200, 255)"
          ],
          [
           0.3,
           "rgb(50, 255, 255)"
          ],
          [
           0.4,
           "rgb(150, 255, 255)"
          ],
          [
           0.5,
           "rgb(255, 255, 0)"
          ],
          [
           0.6,
           "rgb(255, 150, 0)"
          ],
          [
           0.7,
           "rgb(255, 100, 0)"
          ],
          [
           0.8,
           "rgb(255, 50, 0)"
          ],
          [
           0.9,
           "rgb(255, 0, 0)"
          ],
          [
           1,
           "rgb(150, 0, 0)"
          ]
         ],
         "type": "heatmap",
         "z": [
          [
           0.9130940071803316,
           0.7592443400488159,
           0.7544308232333746,
           0.7504377504457991,
           0.7534809672324426,
           0.7537132162790899,
           0.7855438875662197,
           0.7222422221038727,
           0.7294547481596355,
           0.7960375210380971,
           0.9131112940286225,
           0.7481128441915988,
           0.7226068931114856,
           0.7527206550946808,
           0.7719138386836382,
           0.7554346475826097,
           0.7607508013062592,
           0.7662397149577396,
           0.7474569269677642,
           0.7463373429894986
          ],
          [
           0.7816074229559186,
           0.8588192789395707,
           0.7695478521392635,
           0.7814797196750025,
           0.7668407713057515,
           0.8231147808305131,
           0.7852848800180069,
           0.7748903737073969,
           0.7916341995563664,
           0.8051139471724859,
           0.7815983728028386,
           0.750483196598959,
           0.7388188727977042,
           0.7807148656999672,
           0.8140494751421787,
           0.764669628663602,
           0.7863546474724674,
           0.7794367071367162,
           0.7892087028808817,
           0.7818603506410606
          ],
          [
           0.7085857811194122,
           0.7508817565000199,
           0.9217459678342198,
           0.7761931991083666,
           0.7422750515338026,
           0.7265273870333613,
           0.7861786423082547,
           0.76161824348773,
           0.7426294800371432,
           0.7168411810566305,
           0.7086246521377518,
           0.7274776058067283,
           0.7547477382078511,
           0.7238019745644156,
           0.7322395485263286,
           0.7438978156673544,
           0.7575782802164928,
           0.7085930857226405,
           0.7470894360916017,
           0.7307961468609758
          ],
          [
           0.7503626475208661,
           0.7530921330524271,
           0.7914781017982356,
           0.867373661152018,
           0.7945255994667461,
           0.7717545454863017,
           0.764734814044555,
           0.7540353983292458,
           0.7471158213801145,
           0.7231707606589561,
           0.750387319264691,
           0.7677562340661186,
           0.7384506563653579,
           0.7359827531057835,
           0.7399232285805328,
           0.7714588667985437,
           0.7969337019162097,
           0.7394135882279311,
           0.7442316440217034,
           0.7734097162768576
          ],
          [
           0.737072373797886,
           0.7465861201681357,
           0.7714866691800378,
           0.8371172046052763,
           0.9160152744572271,
           0.7639843399431108,
           0.7789781301451708,
           0.7506204196263105,
           0.7656574594563662,
           0.734395247977302,
           0.73703827388215,
           0.7666696999810325,
           0.7382509227507705,
           0.7521377348395324,
           0.7522099239208226,
           0.7726455136327236,
           0.7953857062539935,
           0.7527528299481521,
           0.753050806617583,
           0.7752230611223012
          ],
          [
           0.7597556181438304,
           0.7957379434336318,
           0.7539326312028446,
           0.8014273494953427,
           0.7545127710220627,
           0.9405639827728562,
           0.7866685660567172,
           0.7733372212277846,
           0.7607409480450976,
           0.7828271118314936,
           0.7598025629365794,
           0.8106363684480717,
           0.7173739606187203,
           0.7704325783415019,
           0.772226745234119,
           0.7675154821607385,
           0.7736683591238019,
           0.7697019360399484,
           0.8190327506608309,
           0.7837737578435762
          ],
          [
           0.743985706245546,
           0.7769093810500648,
           0.7797564655979691,
           0.7603714337156355,
           0.7498953812472668,
           0.7763236599478179,
           0.8723242636717666,
           0.841193820316656,
           0.7460815711828319,
           0.7449738030589698,
           0.7440404479625035,
           0.751612089011874,
           0.7333399996997522,
           0.7726896175577849,
           0.7789517805903846,
           0.78521442303367,
           0.7866680607695821,
           0.7610024658675716,
           0.792519579413181,
           0.7831530654007604
          ],
          [
           0.7190653386139995,
           0.7522737597627817,
           0.786046128737288,
           0.7652757013838948,
           0.7408610699247375,
           0.7679875141255168,
           0.8218645204799114,
           0.9031038036976762,
           0.774051082217464,
           0.7108687222188337,
           0.7190884439229549,
           0.7506307151516021,
           0.753860613851937,
           0.7487003295055581,
           0.7601051808333527,
           0.7740205163170235,
           0.7595486682481654,
           0.7551427256803326,
           0.7664287381241501,
           0.7644630988328562
          ],
          [
           0.709837963741988,
           0.7757478413304442,
           0.7137392964056501,
           0.7253173511905818,
           0.7246051722830449,
           0.7143553113172966,
           0.7322125035696119,
           0.7459942487747143,
           0.893058009429955,
           0.7490077754070509,
           0.7098448693237178,
           0.7372575124618215,
           0.707457883201783,
           0.7612059204246245,
           0.8054848476288496,
           0.7550923357256557,
           0.7516749924880015,
           0.7729104361328366,
           0.7536248413097212,
           0.7474510628749981
          ],
          [
           0.7516623044374532,
           0.8268434291371524,
           0.7394047443054647,
           0.7524260508299292,
           0.7251327603774818,
           0.7920086081046516,
           0.790427431099539,
           0.7500979052374732,
           0.8294650360497791,
           0.861253490287211,
           0.7516419242925687,
           0.7498728716771242,
           0.7282950437298314,
           0.7913276507625053,
           0.8339890866817083,
           0.7704364553090846,
           0.7628244612115364,
           0.8004711173829181,
           0.8233730246845636,
           0.7809970731276987
          ],
          [
           1.0000000000000002,
           0.7499157087985647,
           0.714821917703769,
           0.7468840271430921,
           0.7425402856661765,
           0.7318944620299871,
           0.7585397208583531,
           0.73036236863907,
           0.7169545353244386,
           0.8045813280363617,
           0.9999988118818652,
           0.738684657755266,
           0.7442541152946966,
           0.7332234634556706,
           0.7651499681043932,
           0.7594355995544099,
           0.7555581245487389,
           0.7552071579293208,
           0.7497022526469759,
           0.7339107264591372
          ],
          [
           0.7553879640681381,
           0.7511571104915757,
           0.7621138658911252,
           0.785596587056326,
           0.7773777300927475,
           0.7438709622431783,
           0.7548482359453539,
           0.7473659385036452,
           0.7411007286657338,
           0.7310297230027325,
           0.7553794355759569,
           0.8819719678145994,
           0.783790232505201,
           0.733069474862035,
           0.7320203239480458,
           0.7835173845913213,
           0.7647912363791265,
           0.7332114013809178,
           0.7599601259599718,
           0.742102789686562
          ],
          [
           0.7638322712202765,
           0.7113349920619012,
           0.7269834351217759,
           0.7444554892479165,
           0.7438332290356069,
           0.7120886724448077,
           0.7318990984849839,
           0.7174436303309851,
           0.7309272647661875,
           0.7095831994558234,
           0.7638263671886732,
           0.7447935854146149,
           0.8737041000431018,
           0.7094384252924698,
           0.7271288959605342,
           0.735421523250624,
           0.7091236993199248,
           0.7142525724851658,
           0.731423977811166,
           0.6986764235361047
          ],
          [
           0.8088484360077244,
           0.7755234632502882,
           0.7280624888126475,
           0.7653563024272673,
           0.7425455450967778,
           0.791804077954675,
           0.7878751854051501,
           0.7624321027238364,
           0.7456055632988791,
           0.7730168026479345,
           0.8088189492176141,
           0.7477701101284191,
           0.7099250630605449,
           0.8259543408286694,
           0.8169683351612962,
           0.799161430867417,
           0.779061370327663,
           0.8135255515851023,
           0.8216843529524801,
           0.806690735249386
          ],
          [
           0.7607832373869379,
           0.8265786859387503,
           0.7410426399370563,
           0.7514794720642646,
           0.7489975439309238,
           0.7606618399173496,
           0.7838777471014283,
           0.7701648441903914,
           0.7908968963969657,
           0.8006014115569238,
           0.7607948035139925,
           0.723478631458194,
           0.726244035746786,
           0.8081628328812833,
           0.8840615152133526,
           0.818583503174311,
           0.7752609199267422,
           0.7983738180036215,
           0.8326722044227779,
           0.7916300316372588
          ],
          [
           0.757923376811611,
           0.7986198744340185,
           0.7576511422126027,
           0.7772037059213073,
           0.7524520736974446,
           0.7525519824458572,
           0.7804395383480649,
           0.7693683728406693,
           0.7592362867939499,
           0.7661739502433819,
           0.7579201033506827,
           0.7502394089118192,
           0.7382883681160214,
           0.776440563658876,
           0.8250343697862901,
           0.8911597876297167,
           0.7910353224791775,
           0.7892327576740452,
           0.8452328056906055,
           0.7978773506414547
          ],
          [
           0.7768519916226978,
           0.7381258699089293,
           0.7814499548071867,
           0.7581326678581318,
           0.7452111339066461,
           0.743874282197998,
           0.7550594944854354,
           0.7608875099662282,
           0.7375825810993443,
           0.7475503711298065,
           0.7768158247921253,
           0.7196272485485429,
           0.6982397091469629,
           0.7695126608601958,
           0.7784304612180147,
           0.7884499368928796,
           0.9055864971630266,
           0.7975515041113742,
           0.7863913614562172,
           0.7846257936971799
          ],
          [
           0.7835632251026683,
           0.8340847947694008,
           0.7418967000158658,
           0.7454893781145672,
           0.7578571722020685,
           0.7706450392781601,
           0.7746639252481398,
           0.7573215688265703,
           0.7951567223992942,
           0.8188489839756992,
           0.7835398631262634,
           0.7550757893071445,
           0.7122316208883988,
           0.8110809420994217,
           0.87207423597514,
           0.8300019975676356,
           0.804335298861181,
           0.8597941792489039,
           0.8396905426937011,
           0.8031464125953373
          ],
          [
           0.7796898176800385,
           0.7782813839711578,
           0.7551423705280841,
           0.7582620375771529,
           0.7448835512363345,
           0.7682661458298548,
           0.7673229477488073,
           0.7491325502417295,
           0.7505752316629579,
           0.7763422772933344,
           0.7796810054727067,
           0.7506368536079182,
           0.7305868639885943,
           0.8293076090656213,
           0.8165552787505488,
           0.8109246617412971,
           0.7771817368342577,
           0.8042806978604462,
           0.8767314312575426,
           0.7538502845955594
          ],
          [
           0.7593602109906813,
           0.7771241515992574,
           0.7534505122316896,
           0.7694330557827547,
           0.7477393379318639,
           0.7618075094054012,
           0.7795395974889456,
           0.7690651351071176,
           0.7712383176177785,
           0.7807508280815526,
           0.7593545376551613,
           0.7441422567109311,
           0.7191868770130622,
           0.8052895218804632,
           0.8156687058642361,
           0.8227311057630204,
           0.8293033003782397,
           0.8239042177003124,
           0.8234171768174201,
           0.9111524237296252
          ]
         ]
        }
       ],
       "layout": {
        "annotations": [
         {
          "font": {
           "color": "black",
           "size": 16
          },
          "showarrow": false,
          "text": "Col",
          "x": -9,
          "xanchor": "center",
          "xref": "x",
          "y": -1,
          "yanchor": "bottom",
          "yref": "y"
         },
         {
          "font": {
           "color": "black",
           "size": 16
          },
          "showarrow": false,
          "text": "Row",
          "x": -24,
          "xanchor": "center",
          "xref": "x",
          "y": -1,
          "yanchor": "bottom",
          "yref": "y"
         },
         {
          "bgcolor": "#fff0e6",
          "bordercolor": "rgb(255, 100, 0)",
          "font": {
           "color": "black",
           "size": 14
          },
          "showarrow": false,
          "text": "﻿《通知》称，禁止任...烤的依法予以处罚。 ",
          "x": -15,
          "xanchor": "left",
          "xref": "x",
          "xshift": -10,
          "y": 0,
          "yanchor": "middle",
          "yref": "y",
          "yshift": 0
         },
         {
          "bgcolor": "#fff0e6",
          "bordercolor": "rgb(255, 100, 0)",
          "font": {
           "color": "black",
           "size": 14
          },
          "showarrow": false,
          "text": "对流动的经营性露天烧...劝阻的依法予以处罚。",
          "x": -30,
          "xanchor": "left",
          "xref": "x",
          "xshift": -10,
          "y": 0,
          "yanchor": "middle",
          "yref": "y",
          "yshift": 0
         },
         {
          "bgcolor": "#fff0e6",
          "bordercolor": "rgb(255, 100, 0)",
          "font": {
           "color": "black",
           "size": 14
          },
          "showarrow": false,
          "text": "【环球网快讯】据美国...宣布（这一决定）”。",
          "x": -15,
          "xanchor": "left",
          "xref": "x",
          "xshift": -10,
          "y": 2,
          "yanchor": "middle",
          "yref": "y",
          "yshift": 0
         },
         {
          "bgcolor": "#fff0e6",
          "bordercolor": "rgb(255, 100, 0)",
          "font": {
           "color": "black",
           "size": 14
          },
          "showarrow": false,
          "text": "此前，拜登曾多次表示...统连任的最明确暗示。",
          "x": -30,
          "xanchor": "left",
          "xref": "x",
          "xshift": -10,
          "y": 2,
          "yanchor": "middle",
          "yref": "y",
          "yshift": 0
         },
         {
          "bgcolor": "#fff0e6",
          "bordercolor": "rgb(255, 100, 0)",
          "font": {
           "color": "black",
           "size": 14
          },
          "showarrow": false,
          "text": "关于新西兰企业在中国...行动以满足这些需求。",
          "x": -15,
          "xanchor": "left",
          "xref": "x",
          "xshift": -10,
          "y": 4,
          "yanchor": "middle",
          "yref": "y",
          "yshift": 0
         },
         {
          "bgcolor": "#fff0e6",
          "bordercolor": "rgb(255, 100, 0)",
          "font": {
           "color": "black",
           "size": 14
          },
          "showarrow": false,
          "text": "这对新西兰在华企业来...或第三世界国家发展。",
          "x": -30,
          "xanchor": "left",
          "xref": "x",
          "xshift": -10,
          "y": 4,
          "yanchor": "middle",
          "yref": "y",
          "yshift": 0
         },
         {
          "bgcolor": "#ffffe6",
          "bordercolor": "rgb(255, 255, 0)",
          "font": {
           "color": "black",
           "size": 14
          },
          "showarrow": false,
          "text": "季后赛首战，主场输给...篮本赛季将宣告终结。",
          "x": -15,
          "xanchor": "left",
          "xref": "x",
          "xshift": -10,
          "y": 6,
          "yanchor": "middle",
          "yref": "y",
          "yshift": 0
         },
         {
          "bgcolor": "#ffffe6",
          "bordercolor": "rgb(255, 255, 0)",
          "font": {
           "color": "black",
           "size": 14
          },
          "showarrow": false,
          "text": "10日晚，山东男篮发...将他作为奇兵来使用。",
          "x": -30,
          "xanchor": "left",
          "xref": "x",
          "xshift": -10,
          "y": 6,
          "yanchor": "middle",
          "yref": "y",
          "yshift": 0
         },
         {
          "bgcolor": "#fff5e6",
          "bordercolor": "rgb(255, 150, 0)",
          "font": {
           "color": "black",
           "size": 14
          },
          "showarrow": false,
          "text": "所有蚁后的卵细胞都携...一些细胞携带W基因。",
          "x": -15,
          "xanchor": "left",
          "xref": "x",
          "xshift": -10,
          "y": 8,
          "yanchor": "middle",
          "yref": "y",
          "yshift": 0
         },
         {
          "bgcolor": "#fff5e6",
          "bordercolor": "rgb(255, 150, 0)",
          "font": {
           "color": "black",
           "size": 14
          },
          "showarrow": false,
          "text": "美国洛克菲勒大学生物...以建立一个新的蚁群。",
          "x": -30,
          "xanchor": "left",
          "xref": "x",
          "xshift": -10,
          "y": 8,
          "yanchor": "middle",
          "yref": "y",
          "yshift": 0
         },
         {
          "bgcolor": "#ffe6e6",
          "bordercolor": "rgb(255, 0, 0)",
          "font": {
           "color": "black",
           "size": 14
          },
          "showarrow": false,
          "text": "对流动的经营性露天烧...劝阻的依法予以处罚。",
          "x": -15,
          "xanchor": "left",
          "xref": "x",
          "xshift": -10,
          "y": 10,
          "yanchor": "middle",
          "yref": "y",
          "yshift": 0
         },
         {
          "bgcolor": "#ffe6e6",
          "bordercolor": "rgb(255, 0, 0)",
          "font": {
           "color": "black",
           "size": 14
          },
          "showarrow": false,
          "text": "对流动的经营性露天烧...劝阻的依法予以处罚。",
          "x": -30,
          "xanchor": "left",
          "xref": "x",
          "xshift": -10,
          "y": 10,
          "yanchor": "middle",
          "yref": "y",
          "yshift": 0
         },
         {
          "bgcolor": "#ffffe6",
          "bordercolor": "rgb(255, 255, 0)",
          "font": {
           "color": "black",
           "size": 14
          },
          "showarrow": false,
          "text": "亚马逊也已经对UPS...无需打包的退货选择。",
          "x": -15,
          "xanchor": "left",
          "xref": "x",
          "xshift": -10,
          "y": 12,
          "yanchor": "middle",
          "yref": "y",
          "yshift": 0
         },
         {
          "bgcolor": "#ffffe6",
          "bordercolor": "rgb(255, 255, 0)",
          "font": {
           "color": "black",
           "size": 14
          },
          "showarrow": false,
          "text": "2020年，随着电子...购物者退货概率更高。",
          "x": -30,
          "xanchor": "left",
          "xref": "x",
          "xshift": -10,
          "y": 12,
          "yanchor": "middle",
          "yref": "y",
          "yshift": 0
         },
         {
          "bgcolor": "#fff5e6",
          "bordercolor": "rgb(255, 150, 0)",
          "font": {
           "color": "black",
           "size": 14
          },
          "showarrow": false,
          "text": "沙漠之中怎么会有泥鳅...敌对野牛 在远方决斗",
          "x": -15,
          "xanchor": "left",
          "xref": "x",
          "xshift": -10,
          "y": 14,
          "yanchor": "middle",
          "yref": "y",
          "yshift": 0
         },
         {
          "bgcolor": "#fff5e6",
          "bordercolor": "rgb(255, 150, 0)",
          "font": {
           "color": "black",
           "size": 14
          },
          "showarrow": false,
          "text": "在一处被废弃的白蚁丘...事都有 包括像猫的狗",
          "x": -30,
          "xanchor": "left",
          "xref": "x",
          "xshift": -10,
          "y": 14,
          "yanchor": "middle",
          "yref": "y",
          "yshift": 0
         },
         {
          "bgcolor": "#fff5e6",
          "bordercolor": "rgb(255, 150, 0)",
          "font": {
           "color": "black",
           "size": 14
          },
          "showarrow": false,
          "text": "皇宫的侍臣和丞相府的...，获得更好的效果。 ",
          "x": -15,
          "xanchor": "left",
          "xref": "x",
          "xshift": -10,
          "y": 16,
          "yanchor": "middle",
          "yref": "y",
          "yshift": 0
         },
         {
          "bgcolor": "#fff5e6",
          "bordercolor": "rgb(255, 150, 0)",
          "font": {
           "color": "black",
           "size": 14
          },
          "showarrow": false,
          "text": "将军向宠，性格和善，...兴隆就指日可待了。 ",
          "x": -30,
          "xanchor": "left",
          "xref": "x",
          "xshift": -10,
          "y": 16,
          "yanchor": "middle",
          "yref": "y",
          "yshift": 0
         },
         {
          "bgcolor": "#ffffe6",
          "bordercolor": "rgb(255, 255, 0)",
          "font": {
           "color": "black",
           "size": 14
          },
          "showarrow": false,
          "text": "我说道，“爸爸，你走...他不肯，只好让他去。",
          "x": -15,
          "xanchor": "left",
          "xref": "x",
          "xshift": -10,
          "y": 18,
          "yanchor": "middle",
          "yref": "y",
          "yshift": 0
         },
         {
          "bgcolor": "#ffffe6",
          "bordercolor": "rgb(255, 255, 0)",
          "font": {
           "color": "black",
           "size": 14
          },
          "showarrow": false,
          "text": "我看见他戴着黑布小帽...的泪很快地流下来了。",
          "x": -30,
          "xanchor": "left",
          "xref": "x",
          "xshift": -10,
          "y": 18,
          "yanchor": "middle",
          "yref": "y",
          "yshift": 0
         },
         {
          "bgcolor": "#ebffff",
          "bordercolor": "rgb(50, 255, 255)",
          "font": {
           "color": "black",
           "size": 14
          },
          "showarrow": false,
          "text": "连续多日的降雨，武汉...样性项目的收官调查。",
          "x": -15,
          "xanchor": "left",
          "xref": "x",
          "xshift": -10,
          "y": 5,
          "yanchor": "middle",
          "yref": "y",
          "yshift": 0
         },
         {
          "bgcolor": "#ebffff",
          "bordercolor": "rgb(50, 255, 255)",
          "font": {
           "color": "black",
           "size": 14
          },
          "showarrow": false,
          "text": "吴淞口长江隧道是沪苏...封闭内衬盾构法隧道。",
          "x": -30,
          "xanchor": "left",
          "xref": "x",
          "xshift": -10,
          "y": 5,
          "yanchor": "middle",
          "yref": "y",
          "yshift": 0
         },
         {
          "bgcolor": "#ebffff",
          "bordercolor": "rgb(50, 255, 255)",
          "font": {
           "color": "black",
           "size": 14
          },
          "showarrow": false,
          "text": "【环球网快讯】据美国...宣布（这一决定）”。",
          "x": -15,
          "xanchor": "left",
          "xref": "x",
          "xshift": -10,
          "y": 3,
          "yanchor": "middle",
          "yref": "y",
          "yshift": 0
         },
         {
          "bgcolor": "#ebffff",
          "bordercolor": "rgb(50, 255, 255)",
          "font": {
           "color": "black",
           "size": 14
          },
          "showarrow": false,
          "text": "深化经贸合作是马克龙...马克龙访华的专机”。",
          "x": -30,
          "xanchor": "left",
          "xref": "x",
          "xshift": -10,
          "y": 3,
          "yanchor": "middle",
          "yref": "y",
          "yshift": 0
         },
         {
          "bgcolor": "#e6faff",
          "bordercolor": "rgb(0, 200, 255)",
          "font": {
           "color": "black",
           "size": 14
          },
          "showarrow": false,
          "text": "梦里面 空气开始冒烟...界 人不爱美天诛地灭",
          "x": -15,
          "xanchor": "left",
          "xref": "x",
          "xshift": -10,
          "y": 9,
          "yanchor": "middle",
          "yref": "y",
          "yshift": 0
         },
         {
          "bgcolor": "#e6faff",
          "bordercolor": "rgb(0, 200, 255)",
          "font": {
           "color": "black",
           "size": 14
          },
          "showarrow": false,
          "text": "据悉，在较暖和的日子...这是较为无害的方法；",
          "x": -30,
          "xanchor": "left",
          "xref": "x",
          "xshift": -10,
          "y": 9,
          "yanchor": "middle",
          "yref": "y",
          "yshift": 0
         },
         {
          "bgcolor": "#ebffff",
          "bordercolor": "rgb(50, 255, 255)",
          "font": {
           "color": "black",
           "size": 14
          },
          "showarrow": false,
          "text": "上海铁路局介绍，在浦...建设取得阶段性进展。",
          "x": -15,
          "xanchor": "left",
          "xref": "x",
          "xshift": -10,
          "y": 13,
          "yanchor": "middle",
          "yref": "y",
          "yshift": 0
         },
         {
          "bgcolor": "#ebffff",
          "bordercolor": "rgb(50, 255, 255)",
          "font": {
           "color": "black",
           "size": 14
          },
          "showarrow": false,
          "text": "他们儿子我习惯 从小...南嵩山 学少林跟武当",
          "x": -30,
          "xanchor": "left",
          "xref": "x",
          "xshift": -10,
          "y": 13,
          "yanchor": "middle",
          "yref": "y",
          "yshift": 0
         },
         {
          "bgcolor": "#e6f0ff",
          "bordercolor": "rgb(0, 100, 255)",
          "font": {
           "color": "black",
           "size": 14
          },
          "showarrow": false,
          "text": "不必说碧绿的菜畦，光...从后窍喷出一阵烟雾。",
          "x": -15,
          "xanchor": "left",
          "xref": "x",
          "xshift": -10,
          "y": 7,
          "yanchor": "middle",
          "yref": "y",
          "yshift": 0
         },
         {
          "bgcolor": "#e6f0ff",
          "bordercolor": "rgb(0, 100, 255)",
          "font": {
           "color": "black",
           "size": 14
          },
          "showarrow": false,
          "text": "第一盘比赛，吴易昺在...场依然输给了吴易昺。",
          "x": -30,
          "xanchor": "left",
          "xref": "x",
          "xshift": -10,
          "y": 7,
          "yanchor": "middle",
          "yref": "y",
          "yshift": 0
         }
        ],
        "height": 700,
        "margin": {
         "l": 120
        },
        "shapes": [
         {
          "line": {
           "color": "rgb(255, 100, 0)",
           "width": 1.5
          },
          "type": "line",
          "x0": -4.5,
          "x1": 0,
          "xref": "x",
          "y0": 0,
          "y1": 0,
          "yref": "y"
         },
         {
          "line": {
           "color": "rgb(255, 100, 0)",
           "width": 1.5
          },
          "type": "line",
          "x0": -4.511111111111111,
          "x1": 2,
          "xref": "x",
          "y0": 2,
          "y1": 2,
          "yref": "y"
         },
         {
          "line": {
           "color": "rgb(255, 100, 0)",
           "width": 1.5
          },
          "type": "line",
          "x0": -4.5777777777777775,
          "x1": 4,
          "xref": "x",
          "y0": 4,
          "y1": 4,
          "yref": "y"
         },
         {
          "line": {
           "color": "rgb(255, 255, 0)",
           "width": 1.5
          },
          "type": "line",
          "x0": -4.5777777777777775,
          "x1": 6,
          "xref": "x",
          "y0": 6,
          "y1": 6,
          "yref": "y"
         },
         {
          "line": {
           "color": "rgb(255, 150, 0)",
           "width": 1.5
          },
          "type": "line",
          "x0": -4.6,
          "x1": 8,
          "xref": "x",
          "y0": 8,
          "y1": 8,
          "yref": "y"
         },
         {
          "line": {
           "color": "rgb(255, 0, 0)",
           "width": 1.5
          },
          "type": "line",
          "x0": -4.5777777777777775,
          "x1": 10,
          "xref": "x",
          "y0": 10,
          "y1": 10,
          "yref": "y"
         },
         {
          "line": {
           "color": "rgb(255, 255, 0)",
           "width": 1.5
          },
          "type": "line",
          "x0": -4.522222222222222,
          "x1": 12,
          "xref": "x",
          "y0": 12,
          "y1": 12,
          "yref": "y"
         },
         {
          "line": {
           "color": "rgb(255, 150, 0)",
           "width": 1.5
          },
          "type": "line",
          "x0": -4.5,
          "x1": 14,
          "xref": "x",
          "y0": 14,
          "y1": 14,
          "yref": "y"
         },
         {
          "line": {
           "color": "rgb(255, 150, 0)",
           "width": 1.5
          },
          "type": "line",
          "x0": -4.5,
          "x1": 16,
          "xref": "x",
          "y0": 16,
          "y1": 16,
          "yref": "y"
         },
         {
          "line": {
           "color": "rgb(255, 255, 0)",
           "width": 1.5
          },
          "type": "line",
          "x0": -4.511111111111111,
          "x1": 18,
          "xref": "x",
          "y0": 18,
          "y1": 18,
          "yref": "y"
         },
         {
          "line": {
           "color": "rgb(50, 255, 255)",
           "width": 1.5
          },
          "type": "line",
          "x0": -4.5777777777777775,
          "x1": 1,
          "xref": "x",
          "y0": 5,
          "y1": 5,
          "yref": "y"
         },
         {
          "line": {
           "color": "rgb(50, 255, 255)",
           "width": 1.5
          },
          "type": "line",
          "x0": -4.511111111111111,
          "x1": 2,
          "xref": "x",
          "y0": 3,
          "y1": 3,
          "yref": "y"
         },
         {
          "line": {
           "color": "rgb(0, 200, 255)",
           "width": 1.5
          },
          "type": "line",
          "x0": -4.4222222222222225,
          "x1": 15,
          "xref": "x",
          "y0": 9,
          "y1": 9,
          "yref": "y"
         },
         {
          "line": {
           "color": "rgb(50, 255, 255)",
           "width": 1.5
          },
          "type": "line",
          "x0": -4.5777777777777775,
          "x1": 5,
          "xref": "x",
          "y0": 13,
          "y1": 13,
          "yref": "y"
         },
         {
          "line": {
           "color": "rgb(0, 100, 255)",
           "width": 1.5
          },
          "type": "line",
          "x0": -4.5777777777777775,
          "x1": 17,
          "xref": "x",
          "y0": 7,
          "y1": 7,
          "yref": "y"
         }
        ],
        "template": {
         "data": {
          "bar": [
           {
            "error_x": {
             "color": "#2a3f5f"
            },
            "error_y": {
             "color": "#2a3f5f"
            },
            "marker": {
             "line": {
              "color": "#E5ECF6",
              "width": 0.5
             },
             "pattern": {
              "fillmode": "overlay",
              "size": 10,
              "solidity": 0.2
             }
            },
            "type": "bar"
           }
          ],
          "barpolar": [
           {
            "marker": {
             "line": {
              "color": "#E5ECF6",
              "width": 0.5
             },
             "pattern": {
              "fillmode": "overlay",
              "size": 10,
              "solidity": 0.2
             }
            },
            "type": "barpolar"
           }
          ],
          "carpet": [
           {
            "aaxis": {
             "endlinecolor": "#2a3f5f",
             "gridcolor": "white",
             "linecolor": "white",
             "minorgridcolor": "white",
             "startlinecolor": "#2a3f5f"
            },
            "baxis": {
             "endlinecolor": "#2a3f5f",
             "gridcolor": "white",
             "linecolor": "white",
             "minorgridcolor": "white",
             "startlinecolor": "#2a3f5f"
            },
            "type": "carpet"
           }
          ],
          "choropleth": [
           {
            "colorbar": {
             "outlinewidth": 0,
             "ticks": ""
            },
            "type": "choropleth"
           }
          ],
          "contour": [
           {
            "colorbar": {
             "outlinewidth": 0,
             "ticks": ""
            },
            "colorscale": [
             [
              0,
              "#0d0887"
             ],
             [
              0.1111111111111111,
              "#46039f"
             ],
             [
              0.2222222222222222,
              "#7201a8"
             ],
             [
              0.3333333333333333,
              "#9c179e"
             ],
             [
              0.4444444444444444,
              "#bd3786"
             ],
             [
              0.5555555555555556,
              "#d8576b"
             ],
             [
              0.6666666666666666,
              "#ed7953"
             ],
             [
              0.7777777777777778,
              "#fb9f3a"
             ],
             [
              0.8888888888888888,
              "#fdca26"
             ],
             [
              1,
              "#f0f921"
             ]
            ],
            "type": "contour"
           }
          ],
          "contourcarpet": [
           {
            "colorbar": {
             "outlinewidth": 0,
             "ticks": ""
            },
            "type": "contourcarpet"
           }
          ],
          "heatmap": [
           {
            "colorbar": {
             "outlinewidth": 0,
             "ticks": ""
            },
            "colorscale": [
             [
              0,
              "#0d0887"
             ],
             [
              0.1111111111111111,
              "#46039f"
             ],
             [
              0.2222222222222222,
              "#7201a8"
             ],
             [
              0.3333333333333333,
              "#9c179e"
             ],
             [
              0.4444444444444444,
              "#bd3786"
             ],
             [
              0.5555555555555556,
              "#d8576b"
             ],
             [
              0.6666666666666666,
              "#ed7953"
             ],
             [
              0.7777777777777778,
              "#fb9f3a"
             ],
             [
              0.8888888888888888,
              "#fdca26"
             ],
             [
              1,
              "#f0f921"
             ]
            ],
            "type": "heatmap"
           }
          ],
          "heatmapgl": [
           {
            "colorbar": {
             "outlinewidth": 0,
             "ticks": ""
            },
            "colorscale": [
             [
              0,
              "#0d0887"
             ],
             [
              0.1111111111111111,
              "#46039f"
             ],
             [
              0.2222222222222222,
              "#7201a8"
             ],
             [
              0.3333333333333333,
              "#9c179e"
             ],
             [
              0.4444444444444444,
              "#bd3786"
             ],
             [
              0.5555555555555556,
              "#d8576b"
             ],
             [
              0.6666666666666666,
              "#ed7953"
             ],
             [
              0.7777777777777778,
              "#fb9f3a"
             ],
             [
              0.8888888888888888,
              "#fdca26"
             ],
             [
              1,
              "#f0f921"
             ]
            ],
            "type": "heatmapgl"
           }
          ],
          "histogram": [
           {
            "marker": {
             "pattern": {
              "fillmode": "overlay",
              "size": 10,
              "solidity": 0.2
             }
            },
            "type": "histogram"
           }
          ],
          "histogram2d": [
           {
            "colorbar": {
             "outlinewidth": 0,
             "ticks": ""
            },
            "colorscale": [
             [
              0,
              "#0d0887"
             ],
             [
              0.1111111111111111,
              "#46039f"
             ],
             [
              0.2222222222222222,
              "#7201a8"
             ],
             [
              0.3333333333333333,
              "#9c179e"
             ],
             [
              0.4444444444444444,
              "#bd3786"
             ],
             [
              0.5555555555555556,
              "#d8576b"
             ],
             [
              0.6666666666666666,
              "#ed7953"
             ],
             [
              0.7777777777777778,
              "#fb9f3a"
             ],
             [
              0.8888888888888888,
              "#fdca26"
             ],
             [
              1,
              "#f0f921"
             ]
            ],
            "type": "histogram2d"
           }
          ],
          "histogram2dcontour": [
           {
            "colorbar": {
             "outlinewidth": 0,
             "ticks": ""
            },
            "colorscale": [
             [
              0,
              "#0d0887"
             ],
             [
              0.1111111111111111,
              "#46039f"
             ],
             [
              0.2222222222222222,
              "#7201a8"
             ],
             [
              0.3333333333333333,
              "#9c179e"
             ],
             [
              0.4444444444444444,
              "#bd3786"
             ],
             [
              0.5555555555555556,
              "#d8576b"
             ],
             [
              0.6666666666666666,
              "#ed7953"
             ],
             [
              0.7777777777777778,
              "#fb9f3a"
             ],
             [
              0.8888888888888888,
              "#fdca26"
             ],
             [
              1,
              "#f0f921"
             ]
            ],
            "type": "histogram2dcontour"
           }
          ],
          "mesh3d": [
           {
            "colorbar": {
             "outlinewidth": 0,
             "ticks": ""
            },
            "type": "mesh3d"
           }
          ],
          "parcoords": [
           {
            "line": {
             "colorbar": {
              "outlinewidth": 0,
              "ticks": ""
             }
            },
            "type": "parcoords"
           }
          ],
          "pie": [
           {
            "automargin": true,
            "type": "pie"
           }
          ],
          "scatter": [
           {
            "fillpattern": {
             "fillmode": "overlay",
             "size": 10,
             "solidity": 0.2
            },
            "type": "scatter"
           }
          ],
          "scatter3d": [
           {
            "line": {
             "colorbar": {
              "outlinewidth": 0,
              "ticks": ""
             }
            },
            "marker": {
             "colorbar": {
              "outlinewidth": 0,
              "ticks": ""
             }
            },
            "type": "scatter3d"
           }
          ],
          "scattercarpet": [
           {
            "marker": {
             "colorbar": {
              "outlinewidth": 0,
              "ticks": ""
             }
            },
            "type": "scattercarpet"
           }
          ],
          "scattergeo": [
           {
            "marker": {
             "colorbar": {
              "outlinewidth": 0,
              "ticks": ""
             }
            },
            "type": "scattergeo"
           }
          ],
          "scattergl": [
           {
            "marker": {
             "colorbar": {
              "outlinewidth": 0,
              "ticks": ""
             }
            },
            "type": "scattergl"
           }
          ],
          "scattermapbox": [
           {
            "marker": {
             "colorbar": {
              "outlinewidth": 0,
              "ticks": ""
             }
            },
            "type": "scattermapbox"
           }
          ],
          "scatterpolar": [
           {
            "marker": {
             "colorbar": {
              "outlinewidth": 0,
              "ticks": ""
             }
            },
            "type": "scatterpolar"
           }
          ],
          "scatterpolargl": [
           {
            "marker": {
             "colorbar": {
              "outlinewidth": 0,
              "ticks": ""
             }
            },
            "type": "scatterpolargl"
           }
          ],
          "scatterternary": [
           {
            "marker": {
             "colorbar": {
              "outlinewidth": 0,
              "ticks": ""
             }
            },
            "type": "scatterternary"
           }
          ],
          "surface": [
           {
            "colorbar": {
             "outlinewidth": 0,
             "ticks": ""
            },
            "colorscale": [
             [
              0,
              "#0d0887"
             ],
             [
              0.1111111111111111,
              "#46039f"
             ],
             [
              0.2222222222222222,
              "#7201a8"
             ],
             [
              0.3333333333333333,
              "#9c179e"
             ],
             [
              0.4444444444444444,
              "#bd3786"
             ],
             [
              0.5555555555555556,
              "#d8576b"
             ],
             [
              0.6666666666666666,
              "#ed7953"
             ],
             [
              0.7777777777777778,
              "#fb9f3a"
             ],
             [
              0.8888888888888888,
              "#fdca26"
             ],
             [
              1,
              "#f0f921"
             ]
            ],
            "type": "surface"
           }
          ],
          "table": [
           {
            "cells": {
             "fill": {
              "color": "#EBF0F8"
             },
             "line": {
              "color": "white"
             }
            },
            "header": {
             "fill": {
              "color": "#C8D4E3"
             },
             "line": {
              "color": "white"
             }
            },
            "type": "table"
           }
          ]
         },
         "layout": {
          "annotationdefaults": {
           "arrowcolor": "#2a3f5f",
           "arrowhead": 0,
           "arrowwidth": 1
          },
          "autotypenumbers": "strict",
          "coloraxis": {
           "colorbar": {
            "outlinewidth": 0,
            "ticks": ""
           }
          },
          "colorscale": {
           "diverging": [
            [
             0,
             "#8e0152"
            ],
            [
             0.1,
             "#c51b7d"
            ],
            [
             0.2,
             "#de77ae"
            ],
            [
             0.3,
             "#f1b6da"
            ],
            [
             0.4,
             "#fde0ef"
            ],
            [
             0.5,
             "#f7f7f7"
            ],
            [
             0.6,
             "#e6f5d0"
            ],
            [
             0.7,
             "#b8e186"
            ],
            [
             0.8,
             "#7fbc41"
            ],
            [
             0.9,
             "#4d9221"
            ],
            [
             1,
             "#276419"
            ]
           ],
           "sequential": [
            [
             0,
             "#0d0887"
            ],
            [
             0.1111111111111111,
             "#46039f"
            ],
            [
             0.2222222222222222,
             "#7201a8"
            ],
            [
             0.3333333333333333,
             "#9c179e"
            ],
            [
             0.4444444444444444,
             "#bd3786"
            ],
            [
             0.5555555555555556,
             "#d8576b"
            ],
            [
             0.6666666666666666,
             "#ed7953"
            ],
            [
             0.7777777777777778,
             "#fb9f3a"
            ],
            [
             0.8888888888888888,
             "#fdca26"
            ],
            [
             1,
             "#f0f921"
            ]
           ],
           "sequentialminus": [
            [
             0,
             "#0d0887"
            ],
            [
             0.1111111111111111,
             "#46039f"
            ],
            [
             0.2222222222222222,
             "#7201a8"
            ],
            [
             0.3333333333333333,
             "#9c179e"
            ],
            [
             0.4444444444444444,
             "#bd3786"
            ],
            [
             0.5555555555555556,
             "#d8576b"
            ],
            [
             0.6666666666666666,
             "#ed7953"
            ],
            [
             0.7777777777777778,
             "#fb9f3a"
            ],
            [
             0.8888888888888888,
             "#fdca26"
            ],
            [
             1,
             "#f0f921"
            ]
           ]
          },
          "colorway": [
           "#636efa",
           "#EF553B",
           "#00cc96",
           "#ab63fa",
           "#FFA15A",
           "#19d3f3",
           "#FF6692",
           "#B6E880",
           "#FF97FF",
           "#FECB52"
          ],
          "font": {
           "color": "#2a3f5f"
          },
          "geo": {
           "bgcolor": "white",
           "lakecolor": "white",
           "landcolor": "#E5ECF6",
           "showlakes": true,
           "showland": true,
           "subunitcolor": "white"
          },
          "hoverlabel": {
           "align": "left"
          },
          "hovermode": "closest",
          "mapbox": {
           "style": "light"
          },
          "paper_bgcolor": "white",
          "plot_bgcolor": "#E5ECF6",
          "polar": {
           "angularaxis": {
            "gridcolor": "white",
            "linecolor": "white",
            "ticks": ""
           },
           "bgcolor": "#E5ECF6",
           "radialaxis": {
            "gridcolor": "white",
            "linecolor": "white",
            "ticks": ""
           }
          },
          "scene": {
           "xaxis": {
            "backgroundcolor": "#E5ECF6",
            "gridcolor": "white",
            "gridwidth": 2,
            "linecolor": "white",
            "showbackground": true,
            "ticks": "",
            "zerolinecolor": "white"
           },
           "yaxis": {
            "backgroundcolor": "#E5ECF6",
            "gridcolor": "white",
            "gridwidth": 2,
            "linecolor": "white",
            "showbackground": true,
            "ticks": "",
            "zerolinecolor": "white"
           },
           "zaxis": {
            "backgroundcolor": "#E5ECF6",
            "gridcolor": "white",
            "gridwidth": 2,
            "linecolor": "white",
            "showbackground": true,
            "ticks": "",
            "zerolinecolor": "white"
           }
          },
          "shapedefaults": {
           "line": {
            "color": "#2a3f5f"
           }
          },
          "ternary": {
           "aaxis": {
            "gridcolor": "white",
            "linecolor": "white",
            "ticks": ""
           },
           "baxis": {
            "gridcolor": "white",
            "linecolor": "white",
            "ticks": ""
           },
           "bgcolor": "#E5ECF6",
           "caxis": {
            "gridcolor": "white",
            "linecolor": "white",
            "ticks": ""
           }
          },
          "title": {
           "x": 0.05
          },
          "xaxis": {
           "automargin": true,
           "gridcolor": "white",
           "linecolor": "white",
           "ticks": "",
           "title": {
            "standoff": 15
           },
           "zerolinecolor": "white",
           "zerolinewidth": 2
          },
          "yaxis": {
           "automargin": true,
           "gridcolor": "white",
           "linecolor": "white",
           "ticks": "",
           "title": {
            "standoff": 15
           },
           "zerolinecolor": "white",
           "zerolinewidth": 2
          }
         }
        },
        "width": 1400,
        "xaxis": {
         "tickmode": "array",
         "ticktext": [
          0,
          1,
          2,
          3,
          4,
          5,
          6,
          7,
          8,
          9,
          10,
          11,
          12,
          13,
          14,
          15,
          16,
          17,
          18,
          19
         ],
         "tickvals": [
          0,
          1,
          2,
          3,
          4,
          5,
          6,
          7,
          8,
          9,
          10,
          11,
          12,
          13,
          14,
          15,
          16,
          17,
          18,
          19
         ],
         "title": {
          "text": "X Axis"
         }
        },
        "yaxis": {
         "autorange": "reversed",
         "tickmode": "array",
         "ticktext": [
          0,
          1,
          2,
          3,
          4,
          5,
          6,
          7,
          8,
          9,
          10,
          11,
          12,
          13,
          14,
          15,
          16,
          17,
          18,
          19
         ],
         "tickvals": [
          0,
          1,
          2,
          3,
          4,
          5,
          6,
          7,
          8,
          9,
          10,
          11,
          12,
          13,
          14,
          15,
          16,
          17,
          18,
          19
         ],
         "title": {
          "text": "Y Axis"
         }
        }
       }
      }
     },
     "metadata": {},
     "output_type": "display_data"
    }
   ],
   "source": [
    "positions = [(i, i) for i in range(0, 20, 2)] + [(1, 5), (2, 3), (15, 9), (5, 13), (17, 7)]\n",
    "create_heatmap(df, positions)"
   ]
  },
  {
   "cell_type": "code",
   "execution_count": null,
   "metadata": {},
   "outputs": [],
   "source": []
  }
 ],
 "metadata": {
  "kernelspec": {
   "display_name": "pth",
   "language": "python",
   "name": "python3"
  },
  "language_info": {
   "codemirror_mode": {
    "name": "ipython",
    "version": 3
   },
   "file_extension": ".py",
   "mimetype": "text/x-python",
   "name": "python",
   "nbconvert_exporter": "python",
   "pygments_lexer": "ipython3",
   "version": "3.7.11"
  },
  "orig_nbformat": 4
 },
 "nbformat": 4,
 "nbformat_minor": 2
}
