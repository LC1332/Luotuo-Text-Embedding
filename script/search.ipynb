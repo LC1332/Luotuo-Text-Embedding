{
 "cells": [
  {
   "cell_type": "code",
   "execution_count": null,
   "metadata": {},
   "outputs": [],
   "source": [
    "!pip install jieba\n",
    "!pip install openai\n",
    "!pip install torch\n",
    "!pip install transformers\n",
    "!pip install numpy\n",
    "!pip install pandas\n",
    "!pip install scipy\n",
    "!pip install IPython"
   ]
  },
  {
   "cell_type": "code",
   "execution_count": 2,
   "metadata": {},
   "outputs": [],
   "source": [
    "import jieba\n",
    "from typing import Optional\n",
    "import openai\n",
    "import numpy as np\n",
    "import pandas as pd\n",
    "from IPython.display import display, HTML\n",
    "import re\n",
    "\n",
    "openai.api_key = \"YOUR_API_KEY\""
   ]
  },
  {
   "cell_type": "code",
   "execution_count": 10,
   "metadata": {},
   "outputs": [],
   "source": [
    "def text_to_embed(text: str, source: Optional[str] = \"openai\"):\n",
    "    if source is not None and source not in [\"openai\", \"local\"]:\n",
    "        raise ValueError(\"source只能是'openai'或'local'\")\n",
    "    if source == \"openai\":\n",
    "        response = openai.Embedding.create(\n",
    "            input=text,\n",
    "            engine=\"text-embedding-ada-002\")\n",
    "        return response[\"data\"][0][\"embedding\"]\n",
    "    elif source == \"local\":\n",
    "        inputs = tokenizer(text, padding=True, truncation=True, return_tensors=\"pt\")\n",
    "        return model(**inputs, output_hidden_states=True, return_dict=True, sent_emb=True).pooler_output.detach().numpy()[0] \n",
    "\n",
    "# 创建函数获取搜索结果\n",
    "def get_search_results(query, source):\n",
    "    \n",
    "    user_embed = text_to_embed(query, source=source)\n",
    "    user_embed = np.array(user_embed).astype(float)\n",
    "\n",
    "    # use cosine similarity to find the most similar sentence from test_X\n",
    "    embd = np.array(data[\"embed\"].tolist())\n",
    "    cosine_similarity = np.dot(embd, user_embed) / (np.linalg.norm(embd, axis=1) * np.linalg.norm(user_embed))\n",
    "    cosine_similarity = cosine_similarity.reshape(-1, 1)\n",
    "\n",
    "    # find the five most similar sentence\n",
    "    top5 = np.argsort(cosine_similarity, axis=0)[-5:]\n",
    "    top5 = top5.reshape(-1, 1)\n",
    "    top5 = top5[::-1]\n",
    "\n",
    "    \n",
    "    result = []\n",
    "    for i in top5:\n",
    "        result.append(data[\"sentence\"][i[0]])\n",
    "    return result\n",
    "\n",
    "    \n",
    "\n",
    "# 分词\n",
    "def tokenize(text):\n",
    "    text = jieba.cut_for_search(text)\n",
    "\n",
    "    return text\n",
    "\n",
    "# 移除停用词\n",
    "def remove_stop_words(tokens, stop_words):\n",
    "    return [token for token in tokens if token not in stop_words]\n",
    "\n",
    "# 高亮文本\n",
    "def highlight_text(text, words):\n",
    "    for word in words:\n",
    "        text = text.replace(word, f\"<mark>{word}</mark>\")\n",
    "    return text\n",
    "\n",
    "# 主程序\n",
    "def highlighted_result(query, stop_words, source):\n",
    "\n",
    "    # 分词\n",
    "    tokens = tokenize(query)\n",
    "    # 移除停用词\n",
    "    filtered_tokens = remove_stop_words(tokens, stop_words)\n",
    "    # 获取搜索结果\n",
    "    search_results = get_search_results(query, source)\n",
    "    # 对比并高亮\n",
    "    highlighted_results = [highlight_text(result, filtered_tokens).replace(r\"</mark><mark>\", \"\") for result in search_results]\n",
    "\n",
    "    for i in range(len(highlighted_results)):\n",
    "        print(f\"第{i+1}个结果：\\n{highlighted_results[i]}\\n\")\n",
    "\n",
    "    return highlighted_results\n",
    "\n",
    "def adjust_boundaries(text, start, end):\n",
    "    while start > 0 and text[start:start+6] != '<mark>':\n",
    "        start -= 1\n",
    "\n",
    "    while end < len(text) and text[end-7:end] != '</mark>':\n",
    "        end += 1\n",
    "\n",
    "    return start, end\n",
    "\n",
    "def adjust_end(text, start, end):\n",
    "    pattern = r'<mark>'\n",
    "    # ther could be more than one match, so we need to find the last one\n",
    "    n = 0\n",
    "\n",
    "    for mat in re.finditer(pattern, text[start:end + 7]):\n",
    "        n += 1\n",
    "        if n == 2:\n",
    "            return mat.end() + start - 6\n",
    " \n",
    "    return end\n",
    "\n",
    "def get_highlighted_substr(text, num_chars=20):\n",
    "    pattern = r'<mark>([^<]+)</mark>'\n",
    "    highlighted_substrings = []\n",
    "\n",
    "    last_end = 0\n",
    "    \n",
    "    for match in re.finditer(pattern, text):\n",
    "        sep = ' ... '\n",
    "        if match:\n",
    "            start = match.start(1)\n",
    "            end = match.end(1)\n",
    "            # Adjust start and end index to include full <mark> tags if cut off\n",
    "            start, end = adjust_boundaries(text, start, end)\n",
    "\n",
    "            start -= num_chars\n",
    "            end += num_chars\n",
    "            start = max(0, start)\n",
    "            end = min(len(text), end)\n",
    "            # Adjust start index to avoid overlapping substrings\n",
    "            if start < last_end:\n",
    "                start = last_end\n",
    "                sep = ''\n",
    "            # Adjust end index to include full </mark> tag\n",
    "\n",
    "            end = adjust_end(text, start, end)\n",
    "\n",
    "            highlighted_substrings.append(sep + text[start:end])\n",
    "            last_end = end\n",
    "\n",
    "    return ''.join(highlighted_substrings).strip(\" ... \")\n",
    "\n",
    "\n",
    "def show_highlightes(highlight):\n",
    "    #只显示高亮前后的文本\n",
    "    highlight_print = [''] * len(highlight)\n",
    "    for i in range(len(highlight)):\n",
    "        highlight_print[i] = get_highlighted_substr(highlight[i], 30)\n",
    "        if highlight_print[i] != '':\n",
    "            display(HTML(highlight_print[i]))\n"
   ]
  },
  {
   "cell_type": "code",
   "execution_count": 11,
   "metadata": {},
   "outputs": [
    {
     "name": "stderr",
     "output_type": "stream",
     "text": [
      "Explicitly passing a `revision` is encouraged when loading a model with custom code to ensure no malicious code has been contributed in a newer revision.\n"
     ]
    }
   ],
   "source": [
    "import torch\n",
    "from scipy.spatial.distance import cosine\n",
    "from transformers import AutoModel, AutoTokenizer\n",
    "from argparse import Namespace\n",
    "import sys\n",
    "sys.path.append(\"..\")\n",
    "# Import our models. The package will take care of downloading the models automatically\n",
    "tokenizer = AutoTokenizer.from_pretrained(\"silk-road/luotuo-bert\")\n",
    "model_args = Namespace(do_mlm=None, pooler_type=\"cls\", temp=0.05, mlp_only_train=False, init_embeddings_model=None)\n",
    "model = AutoModel.from_pretrained(\"silk-road/luotuo-bert\", trust_remote_code=True, model_args=model_args)"
   ]
  },
  {
   "cell_type": "code",
   "execution_count": 14,
   "metadata": {},
   "outputs": [],
   "source": [
    "import ast\n",
    "with open(\"../data/stop_word.txt\", \"r\", encoding=\"utf-8\") as f:\n",
    "    stop_words = f.read().splitlines()\n",
    "data = pd.read_csv(\"../data/search_data.csv\")\n",
    "data[\"embed\"] = data[\"embed\"].apply(lambda x: ast.literal_eval(x))"
   ]
  },
  {
   "cell_type": "code",
   "execution_count": 15,
   "metadata": {},
   "outputs": [
    {
     "name": "stdout",
     "output_type": "stream",
     "text": [
      "第1个结果：\n",
      "<mark>虎扑</mark>体育7月14日讯。<mark>马刺</mark>官网宣布,<mark>保罗</mark>-加<mark>索尔</mark>与<mark>球队正式签订协议</mark>。根据之前的<mark>报道</mark>,加<mark>索尔</mark>与<mark>马刺签订</mark>的是一份为期2年3000万的<mark>协议</mark>。加<mark>索尔</mark>上赛季共打了72场比赛,场均31.8分钟,贡献16.5分11.0篮板4.1助攻2.0盖帽。\n",
      "\n",
      "第2个结果：\n",
      "2015-09-2809:03。新浪体育。显示图片下一站丹佛?北京时间9月28日,据雅<mark>虎</mark>体育<mark>报道</mark>,波特兰开拓者队已经与老将射手迈克-米勒达成了合同买断。一旦米勒成为自由球员之后,丹佛掘金队有意得到他。据雅<mark>虎</mark>体育得到的消息,如果迈克-米勒在规定的时间内没有被<mark>球队</mark>认领并成为一名自由球员,联盟里有一些<mark>球队</mark>将会对他感兴趣,其中就包括掘金队。目前,掘金队中已经有14个保障合同。事实上早在一年前,掘金队就在自由球员市场上猛追过米勒。但最终,米勒决定跟随勒布朗-詹姆斯加盟骑士队。今年7月,开拓者队在关于布兰登-海伍德的那笔交易中得到了迈克-米勒。作为2000年的NBA首轮5号新秀,迈克-米勒曾获得过2001年最佳新秀称号、2006年最佳第六人称号,并且曾跟随迈阿密热火队夺得过两次NBA总冠军。在长达15年的职业生涯里,米勒一直被视为一名关键时刻靠得住的射手,并且能够为争冠<mark>球队</mark>做出贡献。他的生涯场均数据是11.3分、4.4个篮板和2.7次助攻。\n",
      "\n",
      "第3个结果：\n",
      "<mark>虎扑</mark>体育9月3日讯。根据《太阳哨兵报》记者IraWinderman的<mark>报道</mark>,帕特-莱利本周接受采访时表示,交易得到沙奎尔-奥尼尔是他们队史上最大的交易收获。在2004年夏天,奥尼尔被湖人交易到了热火,随后他就与德维恩-韦德在2005-06赛季一起为热火拿到了他们队史上的首个总冠军。“我会这么说,我的意思也是这个,”莱利说,“获得奥尼尔比我们史上的任何收获都重要,其中也包括三巨头。”莱利称热火交易得到奥尼尔的重要性超过了热火组成勒布朗-詹姆斯、克里斯-波什和韦德的三巨头,也超过了<mark>球队</mark>收获阿隆佐-莫宁。“莫宁很重要,但是得到沙奎尔改变了我们<mark>球队</mark>的一切。”莱利说道。2004年夏天,热火送出了布莱恩-格兰特,拉马尔-奥多姆、卡隆-巴特勒、一个首轮选秀权和一个次轮选秀权,得到了奥尼尔。“那个影响深远的时刻,”莱利说,“这真的让我们变得非常非常有竞争力,他扭转了我们的<mark>球队</mark>,他给了我们真正的竞争力。”2004年夏天,热火老板米基-阿里森允许莱利与湖人老板杰里-巴斯讨论了湖人空缺的主帅一职。“我们坐下来谈了<mark>球队</mark>,”莱利说,“我记得其中一个话题出现了,我问了他们这个问题,‘奥尼尔和科比-布莱恩特怎么样?’他们说…莱利接着说:“他们真的不想谈这个,我说我唯一可以来执教他们的办法就是给我一个将他俩重组在一起的机会,打造他们之间的关系,然后让这个事情继续前进,因为我认为他们那支<mark>球队</mark>,他们刚完成的那些事情,他们一起可以在洛杉矶拿到更多的总冠军。”“就在那之后,我们都上了楼一起吃晚饭,那就是我最后一次听到他们想让我执教了,但是他们肯定想跟我们做一笔交易,所以我不知道是否他带我去那是真的想让我执教<mark>球队</mark>,还是他带我去那只是想猜测下我们是否会交易韦德、巴特勒和其他的一切,我拒绝了,但是当他们打回电话来的时候,当米奇-库普切克打电话过来的时候,我们有兴趣,这是毫无疑问的,然后我们研究出了一个交易报价,然后交易就达成了,我们最终得到了奥尼尔,我们最终拿到了总冠军。”莱利说道。在交易<mark>正式</mark>达成之前,奥尼尔与阿里森见了面,莱利是中间人。“我打电话给米基,”莱利说,“我说,‘米基,奥尼尔想来拜访你’,他说,‘好啊,我们已经有了一船的客人了’,他不得不为我租下另外一艘船,让我待在他的船旁边,他还不得不放上一个超大的床,让奥尼尔和他的妻子可以在上面过夜,但是结果那艘船还是不够大,奥尼尔最终大部分时间都睡在了客厅的地板上。自从热火拿到他们的首个总冠军后,他们又拿到了两个总冠军。“这已经过去了10年了,我们之前的表现不错,我们非常有竞争性,”莱利说,“我认为奥尼尔的交易改变了我们的<mark>球队</mark>文化,我认为我们之前与尼克斯的季后赛系列赛连续三个赛季都是引人入胜的,我们最终输了,但是就像我说的那样,‘你知道么?我们必须要去努力争取。’2005年12月,莱利成为了热火的主帅,但是他称这不是奥尼尔的要求。“不,”莱利说,“他从没有要求我,他也没有要求米基让我出任教练,这从没有发生过,他从没有赶走斯坦-范甘迪。”“有很多关于此事的猜测,我是<mark>球队</mark>的总裁,作为<mark>球队</mark>当时的总裁,我差不多就是<mark>球队</mark>的看管者,但是我也有眼睛,我知道在发生着什么,我知道这支<mark>球队</mark>需要什么,我们当时没有很多的时间了,从那个角度来说,我们只有3个赛季或者4个赛季有夺冠的机会。莱利说道。2007-08赛季中期,奥尼尔被热火交易到了太阳,那个时候,奥尼尔和莱利的关系已经恶化。“我跟很多球员都有过争吵,跟他们所有人都有过争吵,我执教的每个球员,每个超级球星和每个名人堂成员,”莱利说,“有时候会有意见不一致的时候,他们都是好球员,我是有要求的人,他们也是有要求的球员,所以有时候我们对待彼此时事情会有点过,但是当奥尼尔离开的时候,那不是最好的条件,但是这对我们所有人来说都好,那不是只是一个事情的原因,只是到了时候了。”莱利说道。不过莱利仍然非常感激奥尼尔,他说:“当他想统治一场比赛的时候,并且想对获胜产生影响的时候,没有什么比这更好了。”\n",
      "\n",
      "第4个结果：\n",
      "2015-08-0710:14。新浪体育。显示图片《世界体育报》:巴萨报价诺利托。据《世界体育报》<mark>报道</mark>,如果在未来几天佩德罗转会曼联的话,那塞尔塔球员诺利托将作为佩德罗的替代者被巴萨引进。一个最好的证明就是巴萨已经行动起来了,据《世界体育报》从巴萨内部获得的信息,诺坎普高层已给球员和塞尔塔俱乐部送上了具体的合约和报价。据悉,巴萨给诺利托开出的是一份为期4年的合同,而税前年薪方面,诺利托获得的是在塞尔塔的数字的三倍。此外,巴萨方面给塞尔塔开出的1400万固定加400万欧元浮动的转会报价。因为遭受国际足联处罚,巴萨今夏无法引进球员,因此巴萨要到明年1月份才能<mark>正式</mark>引进诺利托,因此,转会完成后,诺利托将以租借的性质继续留在塞尔塔踢球,直到明年1月。这样,球员本人也可以保持状态。如果诺利托最终无法加盟巴萨——因为他能否加盟还得看佩德罗的去留情况,那他也一样会获得塞尔塔的补偿。诺利托是贝里佐的<mark>球队</mark>的关键一员,塞尔塔主席也希望诺利托能感受到俱乐部第一球星的待遇。虽然不久之前他与塞尔塔续约到2019年,但俱乐部并不排除给他加薪的可能,毕竟他不能加盟巴萨,损失会非常大。上赛季在诺坎普球场对阵巴萨,诺利托就曾给红蓝军团带来极大麻烦,他的速度和爆发力令巴萨后防线防不胜防,比赛中正是他的脚后跟传球帮助拉里维得分,而塞尔塔也得意在客场击败强大的巴萨。事实上诺利托也是巴萨“自家人”,他2008年加盟拉玛西亚,在巴萨二队踢过3个赛季,当时巴萨二队的主教练正是恩里克。在恩里克手下,诺利托踢边锋的位置,而2010年10月,在巴萨对马洛卡的联赛比赛中,诺利托还上演了自己的西甲首秀,不过当时瓜迪奥拉手下巨星云集,诺利托选择了离开诺坎普,他到葡萄牙本菲卡尝试新的经历。诺利托在葡萄牙踢了一个半赛季,总共打入12球,第二个赛季的中期,他被租借到西甲的格拉纳达,2013年,诺利托又加盟塞尔塔,与昔日的恩师恩里克重逢。在塞尔塔诺利托发挥稳定,第一个赛季,他在33场比赛里打入14球,上赛季,他联赛出场36场,也打入13球。既可以担任二中锋,又可以出任边锋,这种多样性令巴萨技术部门非常喜欢,认为他完全可以代替佩德罗。恩里克认为,诺利托可以给巴萨带来进球,能给巴萨的中场带来水准,而且诺利托很低调,安排他打替补也不会有怨言,这一点和佩德罗也很相像。诺利托从不掩饰自己对巴萨的感情:“我过去是、现在也是巴萨球迷。”诺利托并不排除重返诺坎普球场的可能:“对我来说,如果巴萨召唤我,那我是不会说‘不’的。巴萨召唤我,我又能去,那肯定去。对巴萨来说,诺利托是佩德罗的合格“备胎”,现在恩里克不用担心佩德罗走后<mark>球队</mark>会留下空缺了。\n",
      "\n",
      "第5个结果：\n",
      "2015-08-0609:26。新浪体育。显示图片加盟骑士。北京时间8月6日《克利夫兰老实人报》<mark>报道</mark>,在经<mark>报道</mark>达成<mark>协议</mark>数周之后,理查德-杰弗森与克利夫兰骑士的签约终于<mark>正式</mark>落成了纸面文件。今天,骑士官方宣布,他们与老将杰弗森完成了签约,合同为期一年,价值老将底薪。今年35岁的杰弗森,进入联盟已经14个年头,而骑士,将是他NBA生涯所效力的第七支<mark>球队</mark>。上赛季作为小牛队的一员,杰弗森虽然每场比赛只获得16.8分钟上场时间,得到5.8分和2.5个篮板,但三分球命中率高达42%。骑士队虽然阵容华丽,但始终需要一名可靠的替补三号位,在勒布朗-詹姆斯下场休息时顶上空缺。上赛季肖恩-马里昂的表现令人失望,<mark>球队</mark>很多时候都是让JR-史密斯和伊曼-香波特这样的后场球员客串替补小前锋。休赛期,自由球员泰肖恩-普林斯曾与骑士传出过绯闻,但最终不了了之。杰弗森一开始曾经答应与小牛续约,不过经过德安德鲁-乔丹事件,马克-库板允许自由球员们重新考虑自己的选择。最终,杰弗森转而决定签约骑士,追逐自己的冠军梦想。作为2001届的首轮13号新秀,杰弗森曾经随篮网两次杀进总决赛,职业生涯场均可以贡献13.9分4.3个篮板,三分球命中率达到38%。\n",
      "\n"
     ]
    },
    {
     "data": {
      "text/html": [
       "<mark>虎扑</mark>体育7月14日讯。<mark>马刺</mark>官网宣布,<mark>保罗</mark>-加<mark>索尔</mark>与<mark>球队正式签订协议</mark>。根据之前的<mark>报道</mark>,加<mark>索尔</mark>与<mark>马刺签订</mark>的是一份为期2年3000万的<mark>协议</mark>。加<mark>索尔</mark>上赛季共打了72场比赛,场均31.8分钟,贡献16.5分11"
      ],
      "text/plain": [
       "<IPython.core.display.HTML object>"
      ]
     },
     "metadata": {},
     "output_type": "display_data"
    },
    {
     "data": {
      "text/html": [
       "03。新浪体育。显示图片下一站丹佛?北京时间9月28日,据雅<mark>虎</mark>体育<mark>报道</mark>,波特兰开拓者队已经与老将射手迈克-米勒达成了合同买断。一旦米勒成为自由球员之后,丹佛掘金队有意得到他。据雅<mark>虎</mark>体育得到的消息,如果迈克-米勒在规定的时间内没有被<mark>球队</mark>认领并成为一名自由球员,联盟里有一些<mark>球队</mark>将会对他感兴趣,其中就包括掘金队。目前,掘金队中已经有14个 ... 涯里,米勒一直被视为一名关键时刻靠得住的射手,并且能够为争冠<mark>球队</mark>做出贡献。他的生涯场均数据是11.3分、4.4个篮板和2.7"
      ],
      "text/plain": [
       "<IPython.core.display.HTML object>"
      ]
     },
     "metadata": {},
     "output_type": "display_data"
    },
    {
     "data": {
      "text/html": [
       "<mark>虎扑</mark>体育9月3日讯。根据《太阳哨兵报》记者IraWinderman的<mark>报道</mark>,帕特-莱利本周接受采访时表示,交易得到沙奎尔-奥尼尔是他们 ... 热火组成勒布朗-詹姆斯、克里斯-波什和韦德的三巨头,也超过了<mark>球队</mark>收获阿隆佐-莫宁。“莫宁很重要,但是得到沙奎尔改变了我们<mark>球队</mark>的一切。”莱利说道。2004年夏天,热火送出了布莱恩-格兰特 ... ”莱利说,“这真的让我们变得非常非常有竞争力,他扭转了我们的<mark>球队</mark>,他给了我们真正的竞争力。”2004年夏天,热火老板米基-阿 ... 湖人老板杰里-巴斯讨论了湖人空缺的主帅一职。“我们坐下来谈了<mark>球队</mark>,”莱利说,“我记得其中一个话题出现了,我问了他们这个问题, ... 造他们之间的关系,然后让这个事情继续前进,因为我认为他们那支<mark>球队</mark>,他们刚完成的那些事情,他们一起可以在洛杉矶拿到更多的总冠军 ... 跟我们做一笔交易,所以我不知道是否他带我去那是真的想让我执教<mark>球队</mark>,还是他带我去那只是想猜测下我们是否会交易韦德、巴特勒和其他 ... 们最终得到了奥尼尔,我们最终拿到了总冠军。”莱利说道。在交易<mark>正式</mark>达成之前,奥尼尔与阿里森见了面,莱利是中间人。“我打电话给米 ... 我们非常有竞争性,”莱利说,“我认为奥尼尔的交易改变了我们的<mark>球队</mark>文化,我认为我们之前与尼克斯的季后赛系列赛连续三个赛季都是引 ... 过,他从没有赶走斯坦-范甘迪。”“有很多关于此事的猜测,我是<mark>球队</mark>的总裁,作为<mark>球队</mark>当时的总裁,我差不多就是<mark>球队</mark>的看管者,但是我也有眼睛,我知道在发生着什么,我知道这支<mark>球队</mark>需要什么,我们当时没有很多的时间了,从那个角度来说,我们只有"
      ],
      "text/plain": [
       "<IPython.core.display.HTML object>"
      ]
     },
     "metadata": {},
     "output_type": "display_data"
    },
    {
     "data": {
      "text/html": [
       "育。显示图片《世界体育报》:巴萨报价诺利托。据《世界体育报》<mark>报道</mark>,如果在未来几天佩德罗转会曼联的话,那塞尔塔球员诺利托将作为 ... 际足联处罚,巴萨今夏无法引进球员,因此巴萨要到明年1月份才能<mark>正式</mark>引进诺利托,因此,转会完成后,诺利托将以租借的性质继续留在塞 ... 罗的去留情况,那他也一样会获得塞尔塔的补偿。诺利托是贝里佐的<mark>球队</mark>的关键一员,塞尔塔主席也希望诺利托能感受到俱乐部第一球星的待 ... ,诺利托是佩德罗的合格“备胎”,现在恩里克不用担心佩德罗走后<mark>球队</mark>会留下空缺了。"
      ],
      "text/plain": [
       "<IPython.core.display.HTML object>"
      ]
     },
     "metadata": {},
     "output_type": "display_data"
    },
    {
     "data": {
      "text/html": [
       "体育。显示图片加盟骑士。北京时间8月6日《克利夫兰老实人报》<mark>报道</mark>,在经<mark>报道</mark>达成<mark>协议</mark>数周之后,理查德-杰弗森与克利夫兰骑士的签约终于<mark>正式</mark>落成了纸面文件。今天,骑士官方宣布,他们与老将杰弗森完成了签 ... 入联盟已经14个年头,而骑士,将是他NBA生涯所效力的第七支<mark>球队</mark>。上赛季作为小牛队的一员,杰弗森虽然每场比赛只获得16.8分 ... 詹姆斯下场休息时顶上空缺。上赛季肖恩-马里昂的表现令人失望,<mark>球队</mark>很多时候都是让JR-史密斯和伊曼-香波特这样的后场球员客串替"
      ],
      "text/plain": [
       "<IPython.core.display.HTML object>"
      ]
     },
     "metadata": {},
     "output_type": "display_data"
    }
   ],
   "source": [
    "user_input = \"虎扑报道马刺的保罗-加索尔与球队正式签订协议，有哪些相关的新闻？\"\n",
    "highlight = highlighted_result(user_input, stop_words, source=\"local\")\n",
    "show_highlightes(highlight)"
   ]
  },
  {
   "cell_type": "code",
   "execution_count": null,
   "metadata": {},
   "outputs": [],
   "source": []
  }
 ],
 "metadata": {
  "kernelspec": {
   "display_name": "pth",
   "language": "python",
   "name": "python3"
  },
  "language_info": {
   "codemirror_mode": {
    "name": "ipython",
    "version": 3
   },
   "file_extension": ".py",
   "mimetype": "text/x-python",
   "name": "python",
   "nbconvert_exporter": "python",
   "pygments_lexer": "ipython3",
   "version": "3.7.11"
  },
  "orig_nbformat": 4
 },
 "nbformat": 4,
 "nbformat_minor": 2
}
